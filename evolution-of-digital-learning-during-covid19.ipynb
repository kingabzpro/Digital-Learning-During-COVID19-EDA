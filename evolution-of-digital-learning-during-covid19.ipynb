{
 "cells": [
  {
   "cell_type": "markdown",
   "source": "![Digital-world-changing-the-world.jpg](./Images/image1.jpg)\n",
   "metadata": {
    "papermill": {
     "duration": 0.062035,
     "end_time": "2021-09-19T11:55:26.005448",
     "exception": false,
     "start_time": "2021-09-19T11:55:25.943413",
     "status": "completed"
    },
    "tags": [],
    "cell_id": "00000-d04fcdd5-5294-4d10-a8ef-dc04d7eab67d",
    "deepnote_cell_type": "markdown"
   }
  },
  {
   "cell_type": "markdown",
   "source": "**Cover by Author | Elements by [Freepik](https://www.freepik.com/free-vector/students-using-e-learning-platform-video-laptop-graduation-cap-online-education-platform-e-learning-platform-online-teaching-concept_10782685.htm) & [Stories](https://www.freepik.com/free-vector/learning-concept-illustration_14230944.htm#page=1&query=education&position=4)**",
   "metadata": {
    "papermill": {
     "duration": 0.065919,
     "end_time": "2021-09-19T11:55:26.137017",
     "exception": false,
     "start_time": "2021-09-19T11:55:26.071098",
     "status": "completed"
    },
    "tags": [],
    "cell_id": "00001-74b1692a-30ee-4900-b27a-d5694f133c7c",
    "deepnote_cell_type": "markdown"
   }
  },
  {
   "cell_type": "markdown",
   "source": "# Introduction\nThere is an imbalance in the education system during the Covid19 pandemic and most of the students don't even have access to educational tools and online learning platforms. There is an urgent need to come up with solutions and by using LearnPlatform dataset we will figure some of the common patterns and identify the clusters based on demography, geography, and accessibility. \n## Project Goals\nIn this project, we will be using data analysis tools to figure out trends in digital learning and how it is effective towards improvised communities. We will be comparing districts and states on factors like demography, internet access, learning product access, and finance. In the end, we will summarize our report and point towards the areas that need our more attention to make education accessible for all students the United States.\n\n\n",
   "metadata": {
    "papermill": {
     "duration": 0.071299,
     "end_time": "2021-09-19T11:55:26.269545",
     "exception": false,
     "start_time": "2021-09-19T11:55:26.198246",
     "status": "completed"
    },
    "tags": [],
    "cell_id": "00002-10111984-2671-46c6-99ba-ff2f0118a95a",
    "deepnote_cell_type": "markdown"
   }
  },
  {
   "cell_type": "markdown",
   "source": "# Import relevant libraries\nI will be mostly using Altair, Seaborn, and Plotly for data visualization. For data analysis, I will be using Numpy and Pandas.",
   "metadata": {
    "papermill": {
     "duration": 0.065923,
     "end_time": "2021-09-19T11:55:26.397087",
     "exception": false,
     "start_time": "2021-09-19T11:55:26.331164",
     "status": "completed"
    },
    "tags": [],
    "cell_id": "00003-97c5d8d4-9183-4df8-aff4-2c3b8293bd54",
    "deepnote_cell_type": "markdown"
   }
  },
  {
   "cell_type": "code",
   "metadata": {
    "_kg_hide-input": true,
    "execution": {
     "iopub.execute_input": "2021-09-19T11:55:26.532023Z",
     "iopub.status.busy": "2021-09-19T11:55:26.531357Z",
     "iopub.status.idle": "2021-09-19T11:55:28.764627Z",
     "shell.execute_reply": "2021-09-19T11:55:28.763927Z",
     "shell.execute_reply.started": "2021-09-19T11:09:08.078370Z"
    },
    "papermill": {
     "duration": 2.305849,
     "end_time": "2021-09-19T11:55:28.764781",
     "exception": false,
     "start_time": "2021-09-19T11:55:26.458932",
     "status": "completed"
    },
    "tags": [],
    "cell_id": "00004-3002c021-f79c-42e2-be63-0358c793431f",
    "deepnote_to_be_reexecuted": false,
    "source_hash": "ca71b0b",
    "execution_start": 1634282955351,
    "execution_millis": 1069,
    "deepnote_cell_type": "code"
   },
   "source": "import numpy as np \nimport pandas as pd \nimport math\n\nimport glob\nimport os\n\nimport altair as alt\nimport seaborn as sns\nimport matplotlib.pyplot as plt\n\nimport plotly.express as px\nimport plotly.graph_objects as go",
   "outputs": [],
   "execution_count": null
  },
  {
   "cell_type": "markdown",
   "source": "![logo-for-Learning-Platform.jpg](./Images/image2.jpg)\n\n**Image by Author**",
   "metadata": {
    "papermill": {
     "duration": 0.058606,
     "end_time": "2021-09-19T11:55:28.883129",
     "exception": false,
     "start_time": "2021-09-19T11:55:28.824523",
     "status": "completed"
    },
    "tags": [],
    "cell_id": "00005-d9f0b6ee-2464-4a9e-8ea7-700d76d57a31",
    "deepnote_cell_type": "markdown"
   }
  },
  {
   "cell_type": "markdown",
   "source": "# Creating custome Altair theme\nYou can create your own theme in Altair which provides uniformity to your plots.",
   "metadata": {
    "papermill": {
     "duration": 0.060475,
     "end_time": "2021-09-19T11:55:29.003071",
     "exception": false,
     "start_time": "2021-09-19T11:55:28.942596",
     "status": "completed"
    },
    "tags": [],
    "cell_id": "00006-d79b6997-fb33-4848-9e52-48c7f9be8397",
    "deepnote_cell_type": "markdown"
   }
  },
  {
   "cell_type": "code",
   "metadata": {
    "_kg_hide-input": true,
    "execution": {
     "iopub.execute_input": "2021-09-19T11:55:29.129429Z",
     "iopub.status.busy": "2021-09-19T11:55:29.128684Z",
     "iopub.status.idle": "2021-09-19T11:55:29.130895Z",
     "shell.execute_reply": "2021-09-19T11:55:29.131393Z",
     "shell.execute_reply.started": "2021-09-19T11:09:10.342706Z"
    },
    "papermill": {
     "duration": 0.069803,
     "end_time": "2021-09-19T11:55:29.131546",
     "exception": false,
     "start_time": "2021-09-19T11:55:29.061743",
     "status": "completed"
    },
    "tags": [],
    "cell_id": "00007-ab45ace7-15f2-4a20-a806-675eaae6d87f",
    "deepnote_to_be_reexecuted": false,
    "source_hash": "1b4d24bb",
    "execution_start": 1634282956426,
    "execution_millis": 9,
    "deepnote_cell_type": "code"
   },
   "source": "def LearnPlatorm_theme(*args, **kwargs):\n    return {\n            \"width\": 500,\n            \"height\": 300,\n            \"config\": {\n              \"style\": {\n                \"bar\": {\n                  \"size\": 15\n                },\n                \"guide-title\": {\n                  \"fontSize\": 15\n                },\n                \"guide-label\": {\n                  \"fontSize\": 15\n                },\n              },\n              \"scale\": {\n                \"bandPaddingInner\": 0.5,\n                \"bandPaddingOuter\": 0.5\n              },\n              \"legend\": {\n                \"symbolSize\": 15,\n                \"titleFontSize\": 15,\n                \"labelFontSize\": 9\n              },\n              \"axis\": {\n                \"titleFontSize\": 15,\n                \"labelFontSize\": 18\n              },\n              \"title\": {\"fontSize\": 20},\n            }\n          }\n          \n\nalt.themes.register('LearnPlatorm_theme', LearnPlatorm_theme)\nalt.themes.enable('LearnPlatorm_theme');",
   "outputs": [],
   "execution_count": null
  },
  {
   "cell_type": "markdown",
   "source": "# Data\n**The Dataset Is available at [Kaggle](https://www.kaggle.com/c/learnplatform-covid19-impact-on-digital-learning) under non commercial license.**\n\nUse this command to download the dataset faster \n\n\n```python\n!pip install kaggle\n!kaggle competitions download -c learnplatform-covid19-impact-on-digital-learning\n```\n\n\n>Dont forget to add Kaggle API key 👇 \n\n![env](./Images/image3.jpeg)\n\n\n**We have three types of Dataset.**\n1. Products data contains Sevice names, Companies, and educational sectors.\n2. District data contains Demography, Locations, and Educational Spendings.\n3. Engagement data contains student's engagement with different products per day.\n\n## Product\nThe product file `products_info.csv` includes information about the characteristics of the top 372 products with most users in 2020. The categories listed in this file are part of LearnPlatform's product taxonomy. \n\n| **Name**                       | **Description**                                                                                                                                                                                                                                                                                                                    |\n|----------------------------|--------------------------------------------------------------------------------------------------------------------------------------------------------------------------------------------------------------------------------------------------------------------------------------------------------------------------------|\n| LP ID                      | The unique identifier of the product                                                                                                                                                                                                                                                                                           |\n| URL                        | Web Link to the specific product                                                                                                                                                                                                                                                                                               |\n| Product Name               | Name of the specific product                                                                                                                                                                                                                                                                                                   |\n| Provider/Company Name      | Name of the product provider                                                                                                                                                                                                                                                                                                   |\n| Sector(s)                  | Sector of education where the product is used                                                                                                                                                                                                                                                                                  |\n| Primary Essential Function | The basic function of the product. There are two layers of labels here. Products are first labeled as one of these three categories: LC = Learning & Curriculum, CM = Classroom Management, and SDO = School & District Operations. Each of these categories have multiple sub-categories with which the products were labeled |\n|                            |   ",
   "metadata": {
    "papermill": {
     "duration": 0.058037,
     "end_time": "2021-09-19T11:55:29.247115",
     "exception": false,
     "start_time": "2021-09-19T11:55:29.189078",
     "status": "completed"
    },
    "tags": [],
    "cell_id": "00008-e903bdcd-ff9b-456c-9af9-6e8314a8f704",
    "deepnote_cell_type": "markdown"
   }
  },
  {
   "cell_type": "markdown",
   "source": "### Loading Data Educational Product Data\nAs we can see we have product names, Companies, and Sector data with Primary Functions.",
   "metadata": {
    "papermill": {
     "duration": 0.05915,
     "end_time": "2021-09-19T11:55:29.364750",
     "exception": false,
     "start_time": "2021-09-19T11:55:29.305600",
     "status": "completed"
    },
    "tags": [],
    "cell_id": "00009-6ce7620b-d847-425f-a425-591315ec508f",
    "deepnote_cell_type": "markdown"
   }
  },
  {
   "cell_type": "code",
   "metadata": {
    "_kg_hide-input": true,
    "execution": {
     "iopub.execute_input": "2021-09-19T11:55:29.485669Z",
     "iopub.status.busy": "2021-09-19T11:55:29.485044Z",
     "iopub.status.idle": "2021-09-19T11:55:29.522850Z",
     "shell.execute_reply": "2021-09-19T11:55:29.522348Z",
     "shell.execute_reply.started": "2021-09-19T11:09:10.351290Z"
    },
    "papermill": {
     "duration": 0.09879,
     "end_time": "2021-09-19T11:55:29.522986",
     "exception": false,
     "start_time": "2021-09-19T11:55:29.424196",
     "status": "completed"
    },
    "tags": [],
    "cell_id": "00010-d1beb914-d43a-4078-a0c8-8420006eaa1d",
    "deepnote_to_be_reexecuted": false,
    "source_hash": "40c01031",
    "execution_start": 1634282956435,
    "execution_millis": 38,
    "deepnote_cell_type": "code"
   },
   "source": "products_data = pd.read_csv(\n    \"./learnplatform-covid19-impact-on-digital-learning/products_info.csv\"\n        )\nproducts_data.head()",
   "outputs": [
    {
     "output_type": "execute_result",
     "execution_count": 3,
     "data": {
      "application/vnd.deepnote.dataframe.v2+json": {
       "row_count": 5,
       "column_count": 6,
       "columns": [
        {
         "name": "LP ID",
         "dtype": "int64",
         "stats": {
          "unique_count": 5,
          "nan_count": 0,
          "min": "13117",
          "max": "92993",
          "histogram": [
           {
            "bin_start": 13117,
            "bin_end": 21104.6,
            "count": 1
           },
           {
            "bin_start": 21104.6,
            "bin_end": 29092.2,
            "count": 0
           },
           {
            "bin_start": 29092.2,
            "bin_end": 37079.8,
            "count": 0
           },
           {
            "bin_start": 37079.8,
            "bin_end": 45067.4,
            "count": 0
           },
           {
            "bin_start": 45067.4,
            "bin_end": 53055,
            "count": 1
           },
           {
            "bin_start": 53055,
            "bin_end": 61042.600000000006,
            "count": 0
           },
           {
            "bin_start": 61042.600000000006,
            "bin_end": 69030.20000000001,
            "count": 1
           },
           {
            "bin_start": 69030.20000000001,
            "bin_end": 77017.8,
            "count": 1
           },
           {
            "bin_start": 77017.8,
            "bin_end": 85005.40000000001,
            "count": 0
           },
           {
            "bin_start": 85005.40000000001,
            "bin_end": 92993,
            "count": 1
           }
          ]
         }
        },
        {
         "name": "URL",
         "dtype": "object",
         "stats": {
          "unique_count": 5,
          "nan_count": 0,
          "categories": [
           {
            "name": "https://www.splashmath.com",
            "count": 1
           },
           {
            "name": "https://abcmouse.com",
            "count": 1
           },
           {
            "name": "3 others",
            "count": 3
           }
          ]
         }
        },
        {
         "name": "Product Name",
         "dtype": "object",
         "stats": {
          "unique_count": 5,
          "nan_count": 0,
          "categories": [
           {
            "name": "SplashLearn",
            "count": 1
           },
           {
            "name": "ABCmouse.com",
            "count": 1
           },
           {
            "name": "3 others",
            "count": 3
           }
          ]
         }
        },
        {
         "name": "Provider/Company Name",
         "dtype": "object",
         "stats": {
          "unique_count": 5,
          "nan_count": 0,
          "categories": [
           {
            "name": "StudyPad Inc.",
            "count": 1
           },
           {
            "name": "Age of Learning, Inc ",
            "count": 1
           },
           {
            "name": "3 others",
            "count": 3
           }
          ]
         }
        },
        {
         "name": "Sector(s)",
         "dtype": "object",
         "stats": {
          "unique_count": 2,
          "nan_count": 0,
          "categories": [
           {
            "name": "PreK-12",
            "count": 4
           },
           {
            "name": "PreK-12; Higher Ed",
            "count": 1
           }
          ]
         }
        },
        {
         "name": "Primary Essential Function",
         "dtype": "object",
         "stats": {
          "unique_count": 2,
          "nan_count": 0,
          "categories": [
           {
            "name": "LC - Digital Learning Platforms",
            "count": 4
           },
           {
            "name": "LC - Sites, Resources & Reference - Games & Simulations",
            "count": 1
           }
          ]
         }
        },
        {
         "name": "_deepnote_index_column",
         "dtype": "int64"
        }
       ],
       "rows_top": [
        {
         "LP ID": 13117,
         "URL": "https://www.splashmath.com",
         "Product Name": "SplashLearn",
         "Provider/Company Name": "StudyPad Inc.",
         "Sector(s)": "PreK-12",
         "Primary Essential Function": "LC - Digital Learning Platforms",
         "_deepnote_index_column": 0
        },
        {
         "LP ID": 66933,
         "URL": "https://abcmouse.com",
         "Product Name": "ABCmouse.com",
         "Provider/Company Name": "Age of Learning, Inc ",
         "Sector(s)": "PreK-12",
         "Primary Essential Function": "LC - Digital Learning Platforms",
         "_deepnote_index_column": 1
        },
        {
         "LP ID": 50479,
         "URL": "https://www.abcya.com",
         "Product Name": "ABCya!",
         "Provider/Company Name": "ABCya.com, LLC",
         "Sector(s)": "PreK-12",
         "Primary Essential Function": "LC - Sites, Resources & Reference - Games & Simulations",
         "_deepnote_index_column": 2
        },
        {
         "LP ID": 92993,
         "URL": "http://www.aleks.com/",
         "Product Name": "ALEKS",
         "Provider/Company Name": "McGraw-Hill PreK-12",
         "Sector(s)": "PreK-12; Higher Ed",
         "Primary Essential Function": "LC - Digital Learning Platforms",
         "_deepnote_index_column": 3
        },
        {
         "LP ID": 73104,
         "URL": "https://www.achieve3000.com/",
         "Product Name": "Achieve3000",
         "Provider/Company Name": "Achieve3000",
         "Sector(s)": "PreK-12",
         "Primary Essential Function": "LC - Digital Learning Platforms",
         "_deepnote_index_column": 4
        }
       ],
       "rows_bottom": null
      },
      "text/plain": "   LP ID                           URL  Product Name  Provider/Company Name  \\\n0  13117    https://www.splashmath.com   SplashLearn          StudyPad Inc.   \n1  66933          https://abcmouse.com  ABCmouse.com  Age of Learning, Inc    \n2  50479         https://www.abcya.com        ABCya!         ABCya.com, LLC   \n3  92993         http://www.aleks.com/         ALEKS    McGraw-Hill PreK-12   \n4  73104  https://www.achieve3000.com/   Achieve3000            Achieve3000   \n\n            Sector(s)                         Primary Essential Function  \n0             PreK-12                    LC - Digital Learning Platforms  \n1             PreK-12                    LC - Digital Learning Platforms  \n2             PreK-12  LC - Sites, Resources & Reference - Games & Si...  \n3  PreK-12; Higher Ed                    LC - Digital Learning Platforms  \n4             PreK-12                    LC - Digital Learning Platforms  ",
      "text/html": "<div>\n<style scoped>\n    .dataframe tbody tr th:only-of-type {\n        vertical-align: middle;\n    }\n\n    .dataframe tbody tr th {\n        vertical-align: top;\n    }\n\n    .dataframe thead th {\n        text-align: right;\n    }\n</style>\n<table border=\"1\" class=\"dataframe\">\n  <thead>\n    <tr style=\"text-align: right;\">\n      <th></th>\n      <th>LP ID</th>\n      <th>URL</th>\n      <th>Product Name</th>\n      <th>Provider/Company Name</th>\n      <th>Sector(s)</th>\n      <th>Primary Essential Function</th>\n    </tr>\n  </thead>\n  <tbody>\n    <tr>\n      <th>0</th>\n      <td>13117</td>\n      <td>https://www.splashmath.com</td>\n      <td>SplashLearn</td>\n      <td>StudyPad Inc.</td>\n      <td>PreK-12</td>\n      <td>LC - Digital Learning Platforms</td>\n    </tr>\n    <tr>\n      <th>1</th>\n      <td>66933</td>\n      <td>https://abcmouse.com</td>\n      <td>ABCmouse.com</td>\n      <td>Age of Learning, Inc</td>\n      <td>PreK-12</td>\n      <td>LC - Digital Learning Platforms</td>\n    </tr>\n    <tr>\n      <th>2</th>\n      <td>50479</td>\n      <td>https://www.abcya.com</td>\n      <td>ABCya!</td>\n      <td>ABCya.com, LLC</td>\n      <td>PreK-12</td>\n      <td>LC - Sites, Resources &amp; Reference - Games &amp; Si...</td>\n    </tr>\n    <tr>\n      <th>3</th>\n      <td>92993</td>\n      <td>http://www.aleks.com/</td>\n      <td>ALEKS</td>\n      <td>McGraw-Hill PreK-12</td>\n      <td>PreK-12; Higher Ed</td>\n      <td>LC - Digital Learning Platforms</td>\n    </tr>\n    <tr>\n      <th>4</th>\n      <td>73104</td>\n      <td>https://www.achieve3000.com/</td>\n      <td>Achieve3000</td>\n      <td>Achieve3000</td>\n      <td>PreK-12</td>\n      <td>LC - Digital Learning Platforms</td>\n    </tr>\n  </tbody>\n</table>\n</div>"
     },
     "metadata": {}
    }
   ],
   "execution_count": null
  },
  {
   "cell_type": "markdown",
   "source": "## District\nThe district file ```districts_info.csv``` includes information about the **characteristics of school districts**, including data from \n- NCES (2018-19), \n- FCC (Dec 2018), and \n- Edunomics Lab. \n\n| Name                   | Description                                                                                                                                                                                                                                                                              |\n|------------------------|------------------------------------------------------------------------------------------------------------------------------------------------------------------------------------------------------------------------------------------------------------------------------------------|\n| district_id            | The unique identifier of the school district                                                                                                                                                                                                                                             |\n| state                  | The state where the district resides in                                                                                                                                                                                                                                                  |\n| locale                 | NCES locale classification that categorizes U.S. territory into four types of areas: City, Suburban, Town, and Rural. See Locale Boundaries User's Manual for more information.                                                                                                          |\n| pct_black/hispanic     | Percentage of students in the districts identified as Black or Hispanic based on 2018-19 NCES data                                                                                                                                                                                       |\n| pct_free/reduced       | Percentage of students in the districts eligible for free or reduced-price lunch based on 2018-19 NCES data                                                                                                                                                                              |\n| countyconnectionsratio | ratio (residential fixed high-speed connections over 200 kbps in at least one direction/households) based on the county level data from FCC From 477 (December 2018 version). See FCC data for more information.                                                                         |\n| pptotalraw             | Per-pupil total expenditure (sum of local and federal expenditure) from Edunomics Lab's National Education Resource Database on Schools (NERD$) project. The expenditure data are school-by-school, and we use the median value to represent the expenditure of a given school district. |",
   "metadata": {
    "papermill": {
     "duration": 0.059736,
     "end_time": "2021-09-19T11:55:29.642267",
     "exception": false,
     "start_time": "2021-09-19T11:55:29.582531",
     "status": "completed"
    },
    "tags": [],
    "cell_id": "00011-679b93e1-d658-4811-a1a4-54e915235ae9",
    "deepnote_cell_type": "markdown"
   }
  },
  {
   "cell_type": "markdown",
   "source": "### Loading Data District Data\nWe have different states, locale, educational spending and more importanly we have Demographical data.  ",
   "metadata": {
    "papermill": {
     "duration": 0.058609,
     "end_time": "2021-09-19T11:55:29.760731",
     "exception": false,
     "start_time": "2021-09-19T11:55:29.702122",
     "status": "completed"
    },
    "tags": [],
    "cell_id": "00012-fb59b094-99a0-4d68-9555-df03555571e0",
    "deepnote_cell_type": "markdown"
   }
  },
  {
   "cell_type": "code",
   "metadata": {
    "_kg_hide-input": true,
    "execution": {
     "iopub.execute_input": "2021-09-19T11:55:29.884201Z",
     "iopub.status.busy": "2021-09-19T11:55:29.883581Z",
     "iopub.status.idle": "2021-09-19T11:55:29.902301Z",
     "shell.execute_reply": "2021-09-19T11:55:29.901667Z",
     "shell.execute_reply.started": "2021-09-19T11:09:10.397397Z"
    },
    "papermill": {
     "duration": 0.081509,
     "end_time": "2021-09-19T11:55:29.902430",
     "exception": false,
     "start_time": "2021-09-19T11:55:29.820921",
     "status": "completed"
    },
    "tags": [],
    "cell_id": "00013-be027d96-4d21-45c6-98d6-5a9d8af8dfe2",
    "deepnote_to_be_reexecuted": false,
    "source_hash": "296802af",
    "execution_start": 1634282956500,
    "execution_millis": 24,
    "deepnote_cell_type": "code"
   },
   "source": "districts_data = pd.read_csv(\n    \"./learnplatform-covid19-impact-on-digital-learning/districts_info.csv\"\n    )\ndistricts_data.head()",
   "outputs": [
    {
     "output_type": "execute_result",
     "execution_count": 4,
     "data": {
      "application/vnd.deepnote.dataframe.v2+json": {
       "row_count": 5,
       "column_count": 7,
       "columns": [
        {
         "name": "district_id",
         "dtype": "int64",
         "stats": {
          "unique_count": 5,
          "nan_count": 0,
          "min": "2238",
          "max": "8815",
          "histogram": [
           {
            "bin_start": 2238,
            "bin_end": 2895.7,
            "count": 2
           },
           {
            "bin_start": 2895.7,
            "bin_end": 3553.4,
            "count": 1
           },
           {
            "bin_start": 3553.4,
            "bin_end": 4211.1,
            "count": 0
           },
           {
            "bin_start": 4211.1,
            "bin_end": 4868.8,
            "count": 0
           },
           {
            "bin_start": 4868.8,
            "bin_end": 5526.5,
            "count": 1
           },
           {
            "bin_start": 5526.5,
            "bin_end": 6184.200000000001,
            "count": 0
           },
           {
            "bin_start": 6184.200000000001,
            "bin_end": 6841.900000000001,
            "count": 0
           },
           {
            "bin_start": 6841.900000000001,
            "bin_end": 7499.6,
            "count": 0
           },
           {
            "bin_start": 7499.6,
            "bin_end": 8157.3,
            "count": 0
           },
           {
            "bin_start": 8157.3,
            "bin_end": 8815,
            "count": 1
           }
          ]
         }
        },
        {
         "name": "state",
         "dtype": "object",
         "stats": {
          "unique_count": 2,
          "nan_count": 3,
          "categories": [
           {
            "name": "Illinois",
            "count": 1
           },
           {
            "name": "Utah",
            "count": 1
           },
           {
            "name": "Missing",
            "count": 3
           }
          ]
         }
        },
        {
         "name": "locale",
         "dtype": "object",
         "stats": {
          "unique_count": 1,
          "nan_count": 3,
          "categories": [
           {
            "name": "Suburb",
            "count": 2
           },
           {
            "name": "Missing",
            "count": 3
           }
          ]
         }
        },
        {
         "name": "pct_black/hispanic",
         "dtype": "object",
         "stats": {
          "unique_count": 1,
          "nan_count": 3,
          "categories": [
           {
            "name": "[0, 0.2[",
            "count": 2
           },
           {
            "name": "Missing",
            "count": 3
           }
          ]
         }
        },
        {
         "name": "pct_free/reduced",
         "dtype": "object",
         "stats": {
          "unique_count": 2,
          "nan_count": 3,
          "categories": [
           {
            "name": "[0, 0.2[",
            "count": 1
           },
           {
            "name": "[0.2, 0.4[",
            "count": 1
           },
           {
            "name": "Missing",
            "count": 3
           }
          ]
         }
        },
        {
         "name": "county_connections_ratio",
         "dtype": "object",
         "stats": {
          "unique_count": 1,
          "nan_count": 3,
          "categories": [
           {
            "name": "[0.18, 1[",
            "count": 2
           },
           {
            "name": "Missing",
            "count": 3
           }
          ]
         }
        },
        {
         "name": "pp_total_raw",
         "dtype": "object",
         "stats": {
          "unique_count": 2,
          "nan_count": 3,
          "categories": [
           {
            "name": "[14000, 16000[",
            "count": 1
           },
           {
            "name": "[6000, 8000[",
            "count": 1
           },
           {
            "name": "Missing",
            "count": 3
           }
          ]
         }
        },
        {
         "name": "_deepnote_index_column",
         "dtype": "int64"
        }
       ],
       "rows_top": [
        {
         "district_id": 8815,
         "state": "Illinois",
         "locale": "Suburb",
         "pct_black/hispanic": "[0, 0.2[",
         "pct_free/reduced": "[0, 0.2[",
         "county_connections_ratio": "[0.18, 1[",
         "pp_total_raw": "[14000, 16000[",
         "_deepnote_index_column": 0
        },
        {
         "district_id": 2685,
         "state": "nan",
         "locale": "nan",
         "pct_black/hispanic": "nan",
         "pct_free/reduced": "nan",
         "county_connections_ratio": "nan",
         "pp_total_raw": "nan",
         "_deepnote_index_column": 1
        },
        {
         "district_id": 4921,
         "state": "Utah",
         "locale": "Suburb",
         "pct_black/hispanic": "[0, 0.2[",
         "pct_free/reduced": "[0.2, 0.4[",
         "county_connections_ratio": "[0.18, 1[",
         "pp_total_raw": "[6000, 8000[",
         "_deepnote_index_column": 2
        },
        {
         "district_id": 3188,
         "state": "nan",
         "locale": "nan",
         "pct_black/hispanic": "nan",
         "pct_free/reduced": "nan",
         "county_connections_ratio": "nan",
         "pp_total_raw": "nan",
         "_deepnote_index_column": 3
        },
        {
         "district_id": 2238,
         "state": "nan",
         "locale": "nan",
         "pct_black/hispanic": "nan",
         "pct_free/reduced": "nan",
         "county_connections_ratio": "nan",
         "pp_total_raw": "nan",
         "_deepnote_index_column": 4
        }
       ],
       "rows_bottom": null
      },
      "text/plain": "   district_id     state  locale pct_black/hispanic pct_free/reduced  \\\n0         8815  Illinois  Suburb           [0, 0.2[         [0, 0.2[   \n1         2685       NaN     NaN                NaN              NaN   \n2         4921      Utah  Suburb           [0, 0.2[       [0.2, 0.4[   \n3         3188       NaN     NaN                NaN              NaN   \n4         2238       NaN     NaN                NaN              NaN   \n\n  county_connections_ratio    pp_total_raw  \n0                [0.18, 1[  [14000, 16000[  \n1                      NaN             NaN  \n2                [0.18, 1[    [6000, 8000[  \n3                      NaN             NaN  \n4                      NaN             NaN  ",
      "text/html": "<div>\n<style scoped>\n    .dataframe tbody tr th:only-of-type {\n        vertical-align: middle;\n    }\n\n    .dataframe tbody tr th {\n        vertical-align: top;\n    }\n\n    .dataframe thead th {\n        text-align: right;\n    }\n</style>\n<table border=\"1\" class=\"dataframe\">\n  <thead>\n    <tr style=\"text-align: right;\">\n      <th></th>\n      <th>district_id</th>\n      <th>state</th>\n      <th>locale</th>\n      <th>pct_black/hispanic</th>\n      <th>pct_free/reduced</th>\n      <th>county_connections_ratio</th>\n      <th>pp_total_raw</th>\n    </tr>\n  </thead>\n  <tbody>\n    <tr>\n      <th>0</th>\n      <td>8815</td>\n      <td>Illinois</td>\n      <td>Suburb</td>\n      <td>[0, 0.2[</td>\n      <td>[0, 0.2[</td>\n      <td>[0.18, 1[</td>\n      <td>[14000, 16000[</td>\n    </tr>\n    <tr>\n      <th>1</th>\n      <td>2685</td>\n      <td>NaN</td>\n      <td>NaN</td>\n      <td>NaN</td>\n      <td>NaN</td>\n      <td>NaN</td>\n      <td>NaN</td>\n    </tr>\n    <tr>\n      <th>2</th>\n      <td>4921</td>\n      <td>Utah</td>\n      <td>Suburb</td>\n      <td>[0, 0.2[</td>\n      <td>[0.2, 0.4[</td>\n      <td>[0.18, 1[</td>\n      <td>[6000, 8000[</td>\n    </tr>\n    <tr>\n      <th>3</th>\n      <td>3188</td>\n      <td>NaN</td>\n      <td>NaN</td>\n      <td>NaN</td>\n      <td>NaN</td>\n      <td>NaN</td>\n      <td>NaN</td>\n    </tr>\n    <tr>\n      <th>4</th>\n      <td>2238</td>\n      <td>NaN</td>\n      <td>NaN</td>\n      <td>NaN</td>\n      <td>NaN</td>\n      <td>NaN</td>\n      <td>NaN</td>\n    </tr>\n  </tbody>\n</table>\n</div>"
     },
     "metadata": {}
    }
   ],
   "execution_count": null
  },
  {
   "cell_type": "markdown",
   "source": "### Engagement data\nThe engagement data are aggregated at school district level, and each file in the folder `engagement_data` represents data from **one school district**. \n\n\n| Name             | Description                                                                                                    |\n|------------------|----------------------------------------------------------------------------------------------------------------|\n| time             | date in \"YYYY-MM-DD\"                                                                                           |\n| lp_id            | The unique identifier of the product                                                                           |\n| pct_access       | Percentage of students in the district have at least one page-load event of a given product and on a given day |\n| engagement_index | Total page-load events per one thousand students of a given product and on a given day                         |",
   "metadata": {
    "papermill": {
     "duration": 0.059773,
     "end_time": "2021-09-19T11:55:30.021583",
     "exception": false,
     "start_time": "2021-09-19T11:55:29.961810",
     "status": "completed"
    },
    "tags": [],
    "cell_id": "00014-a1596fc4-dac3-477d-9263-43a684cd80c7",
    "deepnote_cell_type": "markdown"
   }
  },
  {
   "cell_type": "markdown",
   "source": "#### Engagement Data Extraction Function\nOur engagement data is divided into multiple `.csv` files based on _District id_ so we need to create a Python function to extract data from the individual files and concat them into one.\n\n![image.png](attachment:547bb482-cbbc-4902-9785-81b9537d00c2.png)",
   "metadata": {
    "papermill": {
     "duration": 0.060267,
     "end_time": "2021-09-19T11:55:30.142424",
     "exception": false,
     "start_time": "2021-09-19T11:55:30.082157",
     "status": "completed"
    },
    "tags": [],
    "cell_id": "00015-952031fd-19b3-44fd-be06-5e8c2dbe023e",
    "deepnote_cell_type": "markdown"
   }
  },
  {
   "cell_type": "code",
   "metadata": {
    "_kg_hide-input": true,
    "execution": {
     "iopub.execute_input": "2021-09-19T11:55:30.270708Z",
     "iopub.status.busy": "2021-09-19T11:55:30.269731Z",
     "iopub.status.idle": "2021-09-19T11:55:30.272706Z",
     "shell.execute_reply": "2021-09-19T11:55:30.272209Z",
     "shell.execute_reply.started": "2021-09-19T11:09:10.420271Z"
    },
    "papermill": {
     "duration": 0.07064,
     "end_time": "2021-09-19T11:55:30.272837",
     "exception": false,
     "start_time": "2021-09-19T11:55:30.202197",
     "status": "completed"
    },
    "tags": [],
    "cell_id": "00016-669ff170-a2f4-4664-84a0-3b761e8ae411",
    "deepnote_to_be_reexecuted": false,
    "source_hash": "3ac8b0e",
    "execution_start": 1634282956513,
    "execution_millis": 7,
    "deepnote_cell_type": "code"
   },
   "source": "def engagement_data_extract(file_path):    \n    \n    dir_path = os.path.dirname(file_path)\n    ap = []\n    for root, dirs, files in os.walk(dir_path):\n        for file in files: \n            if file.endswith('.csv'):\n        #             print (root+'/'+str(file))\n\n                df = pd.read_csv(root+'/'+str(file), index_col=None, header=0)\n                district_id = file.split(\".\")[0]\n                df[\"district_id\"] = district_id\n                ap.append(df)\n        engagement = pd.concat(ap)\n        engagement = engagement.reset_index(drop=True)\n    return engagement\n",
   "outputs": [],
   "execution_count": null
  },
  {
   "cell_type": "markdown",
   "source": "### Loading Data Engagement Data\nIt took us 19 seconds to load all files from a folder and now we have DataFrame containing all distract Engagement Data.",
   "metadata": {
    "papermill": {
     "duration": 0.059936,
     "end_time": "2021-09-19T11:55:30.393622",
     "exception": false,
     "start_time": "2021-09-19T11:55:30.333686",
     "status": "completed"
    },
    "tags": [],
    "cell_id": "00017-68d4664e-9aad-4c94-a346-f02fd31f4112",
    "deepnote_cell_type": "markdown"
   }
  },
  {
   "cell_type": "code",
   "metadata": {
    "_kg_hide-input": true,
    "execution": {
     "iopub.execute_input": "2021-09-19T11:55:30.516187Z",
     "iopub.status.busy": "2021-09-19T11:55:30.515570Z",
     "iopub.status.idle": "2021-09-19T11:55:51.303619Z",
     "shell.execute_reply": "2021-09-19T11:55:51.304164Z",
     "shell.execute_reply.started": "2021-09-19T11:09:10.427025Z"
    },
    "papermill": {
     "duration": 20.850712,
     "end_time": "2021-09-19T11:55:51.304373",
     "exception": false,
     "start_time": "2021-09-19T11:55:30.453661",
     "status": "completed"
    },
    "tags": [],
    "cell_id": "00018-0557c55e-2501-4889-9e64-7cc85e0bbf96",
    "deepnote_to_be_reexecuted": false,
    "source_hash": "1b9a8d99",
    "execution_start": 1634282956520,
    "execution_millis": 14670,
    "deepnote_cell_type": "code"
   },
   "source": "%%time\nengagement_data = engagement_data_extract(\n    \"./learnplatform-covid19-impact-on-digital-learning/engagement_data/\"\n    )\nengagement_data.head()",
   "outputs": [
    {
     "name": "stdout",
     "text": "CPU times: user 9.02 s, sys: 3.41 s, total: 12.4 s\nWall time: 14.6 s\n",
     "output_type": "stream"
    },
    {
     "output_type": "execute_result",
     "execution_count": 6,
     "data": {
      "application/vnd.deepnote.dataframe.v2+json": {
       "row_count": 5,
       "column_count": 5,
       "columns": [
        {
         "name": "time",
         "dtype": "object",
         "stats": {
          "unique_count": 1,
          "nan_count": 0,
          "categories": [
           {
            "name": "2020-01-01",
            "count": 5
           }
          ]
         }
        },
        {
         "name": "lp_id",
         "dtype": "float64",
         "stats": {
          "unique_count": 5,
          "nan_count": 0,
          "min": "11286.0",
          "max": "89688.0",
          "histogram": [
           {
            "bin_start": 11286,
            "bin_end": 19126.2,
            "count": 1
           },
           {
            "bin_start": 19126.2,
            "bin_end": 26966.4,
            "count": 2
           },
           {
            "bin_start": 26966.4,
            "bin_end": 34806.6,
            "count": 0
           },
           {
            "bin_start": 34806.6,
            "bin_end": 42646.8,
            "count": 0
           },
           {
            "bin_start": 42646.8,
            "bin_end": 50487,
            "count": 0
           },
           {
            "bin_start": 50487,
            "bin_end": 58327.2,
            "count": 1
           },
           {
            "bin_start": 58327.2,
            "bin_end": 66167.4,
            "count": 0
           },
           {
            "bin_start": 66167.4,
            "bin_end": 74007.6,
            "count": 0
           },
           {
            "bin_start": 74007.6,
            "bin_end": 81847.8,
            "count": 0
           },
           {
            "bin_start": 81847.8,
            "bin_end": 89688,
            "count": 1
           }
          ]
         }
        },
        {
         "name": "pct_access",
         "dtype": "float64",
         "stats": {
          "unique_count": 1,
          "nan_count": 0,
          "min": "0.0",
          "max": "0.0",
          "histogram": [
           {
            "bin_start": -0.5,
            "bin_end": -0.4,
            "count": 0
           },
           {
            "bin_start": -0.4,
            "bin_end": -0.3,
            "count": 0
           },
           {
            "bin_start": -0.3,
            "bin_end": -0.19999999999999996,
            "count": 0
           },
           {
            "bin_start": -0.19999999999999996,
            "bin_end": -0.09999999999999998,
            "count": 0
           },
           {
            "bin_start": -0.09999999999999998,
            "bin_end": 0,
            "count": 0
           },
           {
            "bin_start": 0,
            "bin_end": 0.10000000000000009,
            "count": 5
           },
           {
            "bin_start": 0.10000000000000009,
            "bin_end": 0.20000000000000007,
            "count": 0
           },
           {
            "bin_start": 0.20000000000000007,
            "bin_end": 0.30000000000000004,
            "count": 0
           },
           {
            "bin_start": 0.30000000000000004,
            "bin_end": 0.4,
            "count": 0
           },
           {
            "bin_start": 0.4,
            "bin_end": 0.5,
            "count": 0
           }
          ]
         }
        },
        {
         "name": "engagement_index",
         "dtype": "float64",
         "stats": {
          "unique_count": 0,
          "nan_count": 5,
          "min": null,
          "max": null,
          "histogram": [
           {
            "bin_start": 0,
            "bin_end": 0.1,
            "count": 0
           },
           {
            "bin_start": 0.1,
            "bin_end": 0.2,
            "count": 0
           },
           {
            "bin_start": 0.2,
            "bin_end": 0.30000000000000004,
            "count": 0
           },
           {
            "bin_start": 0.30000000000000004,
            "bin_end": 0.4,
            "count": 0
           },
           {
            "bin_start": 0.4,
            "bin_end": 0.5,
            "count": 0
           },
           {
            "bin_start": 0.5,
            "bin_end": 0.6000000000000001,
            "count": 0
           },
           {
            "bin_start": 0.6000000000000001,
            "bin_end": 0.7000000000000001,
            "count": 0
           },
           {
            "bin_start": 0.7000000000000001,
            "bin_end": 0.8,
            "count": 0
           },
           {
            "bin_start": 0.8,
            "bin_end": 0.9,
            "count": 0
           },
           {
            "bin_start": 0.9,
            "bin_end": 1,
            "count": 0
           }
          ]
         }
        },
        {
         "name": "district_id",
         "dtype": "object",
         "stats": {
          "unique_count": 1,
          "nan_count": 0,
          "categories": [
           {
            "name": "1570",
            "count": 5
           }
          ]
         }
        },
        {
         "name": "_deepnote_index_column",
         "dtype": "int64"
        }
       ],
       "rows_top": [
        {
         "time": "2020-01-01",
         "lp_id": 11286,
         "pct_access": 0,
         "engagement_index": "nan",
         "district_id": "1570",
         "_deepnote_index_column": 0
        },
        {
         "time": "2020-01-01",
         "lp_id": 56218,
         "pct_access": 0,
         "engagement_index": "nan",
         "district_id": "1570",
         "_deepnote_index_column": 1
        },
        {
         "time": "2020-01-01",
         "lp_id": 24711,
         "pct_access": 0,
         "engagement_index": "nan",
         "district_id": "1570",
         "_deepnote_index_column": 2
        },
        {
         "time": "2020-01-01",
         "lp_id": 23483,
         "pct_access": 0,
         "engagement_index": "nan",
         "district_id": "1570",
         "_deepnote_index_column": 3
        },
        {
         "time": "2020-01-01",
         "lp_id": 89688,
         "pct_access": 0,
         "engagement_index": "nan",
         "district_id": "1570",
         "_deepnote_index_column": 4
        }
       ],
       "rows_bottom": null
      },
      "text/plain": "         time    lp_id  pct_access  engagement_index district_id\n0  2020-01-01  11286.0         0.0               NaN        1570\n1  2020-01-01  56218.0         0.0               NaN        1570\n2  2020-01-01  24711.0         0.0               NaN        1570\n3  2020-01-01  23483.0         0.0               NaN        1570\n4  2020-01-01  89688.0         0.0               NaN        1570",
      "text/html": "<div>\n<style scoped>\n    .dataframe tbody tr th:only-of-type {\n        vertical-align: middle;\n    }\n\n    .dataframe tbody tr th {\n        vertical-align: top;\n    }\n\n    .dataframe thead th {\n        text-align: right;\n    }\n</style>\n<table border=\"1\" class=\"dataframe\">\n  <thead>\n    <tr style=\"text-align: right;\">\n      <th></th>\n      <th>time</th>\n      <th>lp_id</th>\n      <th>pct_access</th>\n      <th>engagement_index</th>\n      <th>district_id</th>\n    </tr>\n  </thead>\n  <tbody>\n    <tr>\n      <th>0</th>\n      <td>2020-01-01</td>\n      <td>11286.0</td>\n      <td>0.0</td>\n      <td>NaN</td>\n      <td>1570</td>\n    </tr>\n    <tr>\n      <th>1</th>\n      <td>2020-01-01</td>\n      <td>56218.0</td>\n      <td>0.0</td>\n      <td>NaN</td>\n      <td>1570</td>\n    </tr>\n    <tr>\n      <th>2</th>\n      <td>2020-01-01</td>\n      <td>24711.0</td>\n      <td>0.0</td>\n      <td>NaN</td>\n      <td>1570</td>\n    </tr>\n    <tr>\n      <th>3</th>\n      <td>2020-01-01</td>\n      <td>23483.0</td>\n      <td>0.0</td>\n      <td>NaN</td>\n      <td>1570</td>\n    </tr>\n    <tr>\n      <th>4</th>\n      <td>2020-01-01</td>\n      <td>89688.0</td>\n      <td>0.0</td>\n      <td>NaN</td>\n      <td>1570</td>\n    </tr>\n  </tbody>\n</table>\n</div>"
     },
     "metadata": {}
    }
   ],
   "execution_count": null
  },
  {
   "cell_type": "markdown",
   "source": "# Missing Data\nLet's look at all three DataFrames for missing values per Column",
   "metadata": {
    "papermill": {
     "duration": 0.060584,
     "end_time": "2021-09-19T11:55:51.426581",
     "exception": false,
     "start_time": "2021-09-19T11:55:51.365997",
     "status": "completed"
    },
    "tags": [],
    "cell_id": "00019-5d06bbf3-1493-428e-98f5-c0a71bed9970",
    "deepnote_cell_type": "markdown"
   }
  },
  {
   "cell_type": "markdown",
   "source": "## Plot Missing function\nThe function helps us plot an Altair bar chart for all data frames containing missing values.",
   "metadata": {
    "papermill": {
     "duration": 0.061356,
     "end_time": "2021-09-19T11:55:51.549188",
     "exception": false,
     "start_time": "2021-09-19T11:55:51.487832",
     "status": "completed"
    },
    "tags": [],
    "cell_id": "00020-9c05e944-cb90-4f7c-9502-cff1dd491c4c",
    "deepnote_cell_type": "markdown"
   }
  },
  {
   "cell_type": "code",
   "metadata": {
    "_kg_hide-input": true,
    "execution": {
     "iopub.execute_input": "2021-09-19T11:55:51.673267Z",
     "iopub.status.busy": "2021-09-19T11:55:51.672359Z",
     "iopub.status.idle": "2021-09-19T11:55:51.677239Z",
     "shell.execute_reply": "2021-09-19T11:55:51.677706Z",
     "shell.execute_reply.started": "2021-09-19T11:09:29.704739Z"
    },
    "papermill": {
     "duration": 0.068501,
     "end_time": "2021-09-19T11:55:51.677891",
     "exception": false,
     "start_time": "2021-09-19T11:55:51.609390",
     "status": "completed"
    },
    "tags": [],
    "cell_id": "00021-99a75e20-e7ed-44ca-8854-57c6e90136dc",
    "deepnote_to_be_reexecuted": false,
    "source_hash": "ad85243b",
    "execution_start": 1634282971231,
    "execution_millis": 0,
    "deepnote_cell_type": "code"
   },
   "source": "def plot_missing(df):\n    data = df.isnull().sum().to_frame().reset_index()\\\n            .rename(columns={'index':'Columns',0:'Counts'})\n    return alt.Chart(data).mark_bar().encode(\n    x='Columns',\n    y='Counts',\n    tooltip='Counts'\n    )",
   "outputs": [],
   "execution_count": null
  },
  {
   "cell_type": "markdown",
   "source": "As we can observe that our district dataset mostly contains missing values in `pp_total_raw,pct_free/reduced,county_connections_ratio`. Let's see all the missing values together in the next section.",
   "metadata": {
    "papermill": {
     "duration": 0.061229,
     "end_time": "2021-09-19T11:55:51.799759",
     "exception": false,
     "start_time": "2021-09-19T11:55:51.738530",
     "status": "completed"
    },
    "tags": [],
    "cell_id": "00022-9a3d6b09-8894-43be-8652-3ff5fe3c95cf",
    "deepnote_cell_type": "markdown"
   }
  },
  {
   "cell_type": "code",
   "metadata": {
    "_kg_hide-input": true,
    "execution": {
     "iopub.execute_input": "2021-09-19T11:55:51.931753Z",
     "iopub.status.busy": "2021-09-19T11:55:51.930913Z",
     "iopub.status.idle": "2021-09-19T11:55:51.984748Z",
     "shell.execute_reply": "2021-09-19T11:55:51.985195Z",
     "shell.execute_reply.started": "2021-09-19T11:09:29.714137Z"
    },
    "papermill": {
     "duration": 0.123676,
     "end_time": "2021-09-19T11:55:51.985383",
     "exception": false,
     "start_time": "2021-09-19T11:55:51.861707",
     "status": "completed"
    },
    "tags": [],
    "cell_id": "00023-63ba0e5a-5b81-4553-9bfa-ee6d09c7e562",
    "deepnote_to_be_reexecuted": false,
    "source_hash": "92fa6e50",
    "execution_start": 1634282971231,
    "execution_millis": 50,
    "deepnote_cell_type": "code"
   },
   "source": "NA = pd.DataFrame(data=[districts_data.isna().sum().tolist(), [\"{:.2f}\".format(i)+'%' \\\n            for i in (districts_data.isna().sum()/districts_data.shape[0]*100).tolist()]], \n            columns=districts_data.columns, index=['NA Count', 'NA Percent']).transpose().\\\n            sort_values(by='NA Count',ascending=False)\nNA.style.background_gradient(cmap=\"vlag\", subset=['NA Count'])",
   "outputs": [
    {
     "output_type": "execute_result",
     "execution_count": 8,
     "data": {
      "text/plain": "<pandas.io.formats.style.Styler at 0x7fd56b500ed0>",
      "text/html": "<style  type=\"text/css\" >\n#T_d68ab_row0_col0{\n            background-color:  #a9373b;\n            color:  #f1f1f1;\n        }#T_d68ab_row1_col0{\n            background-color:  #d59c99;\n            color:  #000000;\n        }#T_d68ab_row2_col0{\n            background-color:  #e9cbc9;\n            color:  #000000;\n        }#T_d68ab_row3_col0,#T_d68ab_row4_col0,#T_d68ab_row5_col0{\n            background-color:  #faf5f5;\n            color:  #000000;\n        }#T_d68ab_row6_col0{\n            background-color:  #2369bd;\n            color:  #f1f1f1;\n        }</style><table id=\"T_d68ab_\" ><thead>    <tr>        <th class=\"blank level0\" ></th>        <th class=\"col_heading level0 col0\" >NA Count</th>        <th class=\"col_heading level0 col1\" >NA Percent</th>    </tr></thead><tbody>\n                <tr>\n                        <th id=\"T_d68ab_level0_row0\" class=\"row_heading level0 row0\" >pp_total_raw</th>\n                        <td id=\"T_d68ab_row0_col0\" class=\"data row0 col0\" >115</td>\n                        <td id=\"T_d68ab_row0_col1\" class=\"data row0 col1\" >49.36%</td>\n            </tr>\n            <tr>\n                        <th id=\"T_d68ab_level0_row1\" class=\"row_heading level0 row1\" >pct_free/reduced</th>\n                        <td id=\"T_d68ab_row1_col0\" class=\"data row1 col0\" >85</td>\n                        <td id=\"T_d68ab_row1_col1\" class=\"data row1 col1\" >36.48%</td>\n            </tr>\n            <tr>\n                        <th id=\"T_d68ab_level0_row2\" class=\"row_heading level0 row2\" >county_connections_ratio</th>\n                        <td id=\"T_d68ab_row2_col0\" class=\"data row2 col0\" >71</td>\n                        <td id=\"T_d68ab_row2_col1\" class=\"data row2 col1\" >30.47%</td>\n            </tr>\n            <tr>\n                        <th id=\"T_d68ab_level0_row3\" class=\"row_heading level0 row3\" >state</th>\n                        <td id=\"T_d68ab_row3_col0\" class=\"data row3 col0\" >57</td>\n                        <td id=\"T_d68ab_row3_col1\" class=\"data row3 col1\" >24.46%</td>\n            </tr>\n            <tr>\n                        <th id=\"T_d68ab_level0_row4\" class=\"row_heading level0 row4\" >locale</th>\n                        <td id=\"T_d68ab_row4_col0\" class=\"data row4 col0\" >57</td>\n                        <td id=\"T_d68ab_row4_col1\" class=\"data row4 col1\" >24.46%</td>\n            </tr>\n            <tr>\n                        <th id=\"T_d68ab_level0_row5\" class=\"row_heading level0 row5\" >pct_black/hispanic</th>\n                        <td id=\"T_d68ab_row5_col0\" class=\"data row5 col0\" >57</td>\n                        <td id=\"T_d68ab_row5_col1\" class=\"data row5 col1\" >24.46%</td>\n            </tr>\n            <tr>\n                        <th id=\"T_d68ab_level0_row6\" class=\"row_heading level0 row6\" >district_id</th>\n                        <td id=\"T_d68ab_row6_col0\" class=\"data row6 col0\" >0</td>\n                        <td id=\"T_d68ab_row6_col1\" class=\"data row6 col1\" >0.00%</td>\n            </tr>\n    </tbody></table>"
     },
     "metadata": {}
    }
   ],
   "execution_count": null
  },
  {
   "cell_type": "markdown",
   "source": "The subplot below shows missing values in all three datasets we will be removing them in the next section as it is hard to replace them without actual information.",
   "metadata": {
    "papermill": {
     "duration": 0.060626,
     "end_time": "2021-09-19T11:55:52.108642",
     "exception": false,
     "start_time": "2021-09-19T11:55:52.048016",
     "status": "completed"
    },
    "tags": [],
    "cell_id": "00024-21092662-d70e-46c2-b3ac-aed953ea629b",
    "deepnote_cell_type": "markdown"
   }
  },
  {
   "cell_type": "code",
   "metadata": {
    "_kg_hide-input": true,
    "execution": {
     "iopub.execute_input": "2021-09-19T11:55:54.289316Z",
     "iopub.status.busy": "2021-09-19T11:55:54.288585Z",
     "iopub.status.idle": "2021-09-19T11:55:56.621361Z",
     "shell.execute_reply": "2021-09-19T11:55:56.620785Z",
     "shell.execute_reply.started": "2021-09-19T11:09:29.776692Z"
    },
    "papermill": {
     "duration": 4.45148,
     "end_time": "2021-09-19T11:55:56.621509",
     "exception": false,
     "start_time": "2021-09-19T11:55:52.170029",
     "status": "completed"
    },
    "tags": [],
    "cell_id": "00025-957e89c2-55a5-4e32-8c7e-7b113b22098b",
    "deepnote_to_be_reexecuted": false,
    "source_hash": "4b500a76",
    "execution_start": 1634282971986,
    "execution_millis": 1002,
    "deepnote_cell_type": "code"
   },
   "source": "plot_eng = plot_missing(engagement_data).\\\n        properties(title='Engagement', width=200, height=200)\n\nplot_pro = plot_missing(products_data).\\\n        properties(title='Products', width=200, height=200)\n\nplot_dis = plot_missing(districts_data).\\\n        properties(title='Districts', width=200, height=200)\n\nalt.hconcat(plot_pro, plot_dis, plot_eng )",
   "outputs": [
    {
     "output_type": "execute_result",
     "execution_count": 9,
     "data": {
      "text/html": "\n<div id=\"altair-viz-2ed30135c99d4b96a03e8b07452493f4\"></div>\n<script type=\"text/javascript\">\n  (function(spec, embedOpt){\n    let outputDiv = document.currentScript.previousElementSibling;\n    if (outputDiv.id !== \"altair-viz-2ed30135c99d4b96a03e8b07452493f4\") {\n      outputDiv = document.getElementById(\"altair-viz-2ed30135c99d4b96a03e8b07452493f4\");\n    }\n    const paths = {\n      \"vega\": \"https://cdn.jsdelivr.net/npm//vega@5?noext\",\n      \"vega-lib\": \"https://cdn.jsdelivr.net/npm//vega-lib?noext\",\n      \"vega-lite\": \"https://cdn.jsdelivr.net/npm//vega-lite@4.8.1?noext\",\n      \"vega-embed\": \"https://cdn.jsdelivr.net/npm//vega-embed@6?noext\",\n    };\n\n    function loadScript(lib) {\n      return new Promise(function(resolve, reject) {\n        var s = document.createElement('script');\n        s.src = paths[lib];\n        s.async = true;\n        s.onload = () => resolve(paths[lib]);\n        s.onerror = () => reject(`Error loading script: ${paths[lib]}`);\n        document.getElementsByTagName(\"head\")[0].appendChild(s);\n      });\n    }\n\n    function showError(err) {\n      outputDiv.innerHTML = `<div class=\"error\" style=\"color:red;\">${err}</div>`;\n      throw err;\n    }\n\n    function displayChart(vegaEmbed) {\n      vegaEmbed(outputDiv, spec, embedOpt)\n        .catch(err => showError(`Javascript Error: ${err.message}<br>This usually means there's a typo in your chart specification. See the javascript console for the full traceback.`));\n    }\n\n    if(typeof define === \"function\" && define.amd) {\n      requirejs.config({paths});\n      require([\"vega-embed\"], displayChart, err => showError(`Error loading script: ${err.message}`));\n    } else if (typeof vegaEmbed === \"function\") {\n      displayChart(vegaEmbed);\n    } else {\n      loadScript(\"vega\")\n        .then(() => loadScript(\"vega-lite\"))\n        .then(() => loadScript(\"vega-embed\"))\n        .catch(showError)\n        .then(() => displayChart(vegaEmbed));\n    }\n  })({\"width\": 500, \"height\": 300, \"config\": {\"style\": {\"bar\": {\"size\": 15}, \"guide-title\": {\"fontSize\": 15}, \"guide-label\": {\"fontSize\": 15}}, \"scale\": {\"bandPaddingInner\": 0.5, \"bandPaddingOuter\": 0.5}, \"legend\": {\"symbolSize\": 15, \"titleFontSize\": 15, \"labelFontSize\": 9}, \"axis\": {\"titleFontSize\": 15, \"labelFontSize\": 18}, \"title\": {\"fontSize\": 20}}, \"hconcat\": [{\"data\": {\"name\": \"data-289e040b80cffa5efc8572ace1a5b402\"}, \"mark\": \"bar\", \"encoding\": {\"tooltip\": {\"type\": \"quantitative\", \"field\": \"Counts\"}, \"x\": {\"type\": \"nominal\", \"field\": \"Columns\"}, \"y\": {\"type\": \"quantitative\", \"field\": \"Counts\"}}, \"height\": 200, \"title\": \"Products\", \"width\": 200}, {\"data\": {\"name\": \"data-cb9c38bed664f6a275e22731a1267750\"}, \"mark\": \"bar\", \"encoding\": {\"tooltip\": {\"type\": \"quantitative\", \"field\": \"Counts\"}, \"x\": {\"type\": \"nominal\", \"field\": \"Columns\"}, \"y\": {\"type\": \"quantitative\", \"field\": \"Counts\"}}, \"height\": 200, \"title\": \"Districts\", \"width\": 200}, {\"data\": {\"name\": \"data-92c518329f4e41276c0d5fb220b36d7a\"}, \"mark\": \"bar\", \"encoding\": {\"tooltip\": {\"type\": \"quantitative\", \"field\": \"Counts\"}, \"x\": {\"type\": \"nominal\", \"field\": \"Columns\"}, \"y\": {\"type\": \"quantitative\", \"field\": \"Counts\"}}, \"height\": 200, \"title\": \"Engagement\", \"width\": 200}], \"$schema\": \"https://vega.github.io/schema/vega-lite/v4.8.1.json\", \"datasets\": {\"data-289e040b80cffa5efc8572ace1a5b402\": [{\"Columns\": \"LP ID\", \"Counts\": 0}, {\"Columns\": \"URL\", \"Counts\": 0}, {\"Columns\": \"Product Name\", \"Counts\": 0}, {\"Columns\": \"Provider/Company Name\", \"Counts\": 1}, {\"Columns\": \"Sector(s)\", \"Counts\": 20}, {\"Columns\": \"Primary Essential Function\", \"Counts\": 20}], \"data-cb9c38bed664f6a275e22731a1267750\": [{\"Columns\": \"district_id\", \"Counts\": 0}, {\"Columns\": \"state\", \"Counts\": 57}, {\"Columns\": \"locale\", \"Counts\": 57}, {\"Columns\": \"pct_black/hispanic\", \"Counts\": 57}, {\"Columns\": \"pct_free/reduced\", \"Counts\": 85}, {\"Columns\": \"county_connections_ratio\", \"Counts\": 71}, {\"Columns\": \"pp_total_raw\", \"Counts\": 115}], \"data-92c518329f4e41276c0d5fb220b36d7a\": [{\"Columns\": \"time\", \"Counts\": 0}, {\"Columns\": \"lp_id\", \"Counts\": 541}, {\"Columns\": \"pct_access\", \"Counts\": 13447}, {\"Columns\": \"engagement_index\", \"Counts\": 5378409}, {\"Columns\": \"district_id\", \"Counts\": 0}]}}, {\"mode\": \"vega-lite\"});\n</script>",
      "text/plain": "alt.HConcatChart(...)"
     },
     "metadata": {}
    }
   ],
   "execution_count": null
  },
  {
   "cell_type": "markdown",
   "source": "# Cleaning Data\nWe will be cleaning district data as it contains an array of values. We will be taking advantage of both limits.\n1. Converting list of columns`pct_black/hispanic` and `pct_free/reduced` into float\n2. Converting list `pp_total_raw` into Integers.\n3. Droping `county_connections_ratio` due to static 0.18 to 1 values acrross all categories. ",
   "metadata": {
    "papermill": {
     "duration": 0.062767,
     "end_time": "2021-09-19T11:55:56.747104",
     "exception": false,
     "start_time": "2021-09-19T11:55:56.684337",
     "status": "completed"
    },
    "tags": [],
    "cell_id": "00026-0c24ccc7-29dd-43fe-a9bf-e7ed179c8920",
    "deepnote_cell_type": "markdown"
   }
  },
  {
   "cell_type": "code",
   "metadata": {
    "_kg_hide-input": true,
    "execution": {
     "iopub.execute_input": "2021-09-19T11:55:56.893519Z",
     "iopub.status.busy": "2021-09-19T11:55:56.892872Z",
     "iopub.status.idle": "2021-09-19T11:55:56.895249Z",
     "shell.execute_reply": "2021-09-19T11:55:56.895805Z",
     "shell.execute_reply.started": "2021-09-19T11:09:31.749060Z"
    },
    "papermill": {
     "duration": 0.086503,
     "end_time": "2021-09-19T11:55:56.895991",
     "exception": false,
     "start_time": "2021-09-19T11:55:56.809488",
     "status": "completed"
    },
    "tags": [],
    "cell_id": "00027-9e40edf3-892e-4266-b0d4-5fe0e98c9056",
    "deepnote_to_be_reexecuted": false,
    "source_hash": "2f096bd4",
    "execution_start": 1634282972991,
    "execution_millis": 66,
    "deepnote_cell_type": "code"
   },
   "source": "districts_data.dropna(inplace = True)\nfor i in ['pct_black/hispanic', 'pct_free/reduced','county_connections_ratio']:\n    districts_data[i] = districts_data[i].apply(lambda x: float(str(x).split(',')[0][1:])+0.1)\n\ndistricts_data['pp_total_raw'] = districts_data['pp_total_raw'].apply(lambda x: int(x.split(',')[0][1:]) + 1000)\ndistricts_data.drop('county_connections_ratio', axis = 1, inplace = True)\n\ndistricts_data.head()",
   "outputs": [
    {
     "output_type": "execute_result",
     "execution_count": 10,
     "data": {
      "application/vnd.deepnote.dataframe.v2+json": {
       "row_count": 5,
       "column_count": 6,
       "columns": [
        {
         "name": "district_id",
         "dtype": "int64",
         "stats": {
          "unique_count": 5,
          "nan_count": 0,
          "min": "3710",
          "max": "8815",
          "histogram": [
           {
            "bin_start": 3710,
            "bin_end": 4220.5,
            "count": 1
           },
           {
            "bin_start": 4220.5,
            "bin_end": 4731,
            "count": 0
           },
           {
            "bin_start": 4731,
            "bin_end": 5241.5,
            "count": 1
           },
           {
            "bin_start": 5241.5,
            "bin_end": 5752,
            "count": 0
           },
           {
            "bin_start": 5752,
            "bin_end": 6262.5,
            "count": 1
           },
           {
            "bin_start": 6262.5,
            "bin_end": 6773,
            "count": 0
           },
           {
            "bin_start": 6773,
            "bin_end": 7283.5,
            "count": 1
           },
           {
            "bin_start": 7283.5,
            "bin_end": 7794,
            "count": 0
           },
           {
            "bin_start": 7794,
            "bin_end": 8304.5,
            "count": 0
           },
           {
            "bin_start": 8304.5,
            "bin_end": 8815,
            "count": 1
           }
          ]
         }
        },
        {
         "name": "state",
         "dtype": "object",
         "stats": {
          "unique_count": 4,
          "nan_count": 0,
          "categories": [
           {
            "name": "Utah",
            "count": 2
           },
           {
            "name": "Illinois",
            "count": 1
           },
           {
            "name": "2 others",
            "count": 2
           }
          ]
         }
        },
        {
         "name": "locale",
         "dtype": "object",
         "stats": {
          "unique_count": 1,
          "nan_count": 0,
          "categories": [
           {
            "name": "Suburb",
            "count": 5
           }
          ]
         }
        },
        {
         "name": "pct_black/hispanic",
         "dtype": "float64",
         "stats": {
          "unique_count": 2,
          "nan_count": 0,
          "min": "0.1",
          "max": "0.30000000000000004",
          "histogram": [
           {
            "bin_start": 0.1,
            "bin_end": 0.12000000000000001,
            "count": 4
           },
           {
            "bin_start": 0.12000000000000001,
            "bin_end": 0.14,
            "count": 0
           },
           {
            "bin_start": 0.14,
            "bin_end": 0.16000000000000003,
            "count": 0
           },
           {
            "bin_start": 0.16000000000000003,
            "bin_end": 0.18000000000000002,
            "count": 0
           },
           {
            "bin_start": 0.18000000000000002,
            "bin_end": 0.2,
            "count": 0
           },
           {
            "bin_start": 0.2,
            "bin_end": 0.22000000000000003,
            "count": 0
           },
           {
            "bin_start": 0.22000000000000003,
            "bin_end": 0.24000000000000002,
            "count": 0
           },
           {
            "bin_start": 0.24000000000000002,
            "bin_end": 0.26,
            "count": 0
           },
           {
            "bin_start": 0.26,
            "bin_end": 0.28,
            "count": 0
           },
           {
            "bin_start": 0.28,
            "bin_end": 0.30000000000000004,
            "count": 1
           }
          ]
         }
        },
        {
         "name": "pct_free/reduced",
         "dtype": "float64",
         "stats": {
          "unique_count": 3,
          "nan_count": 0,
          "min": "0.1",
          "max": "0.5",
          "histogram": [
           {
            "bin_start": 0.1,
            "bin_end": 0.14,
            "count": 2
           },
           {
            "bin_start": 0.14,
            "bin_end": 0.18,
            "count": 0
           },
           {
            "bin_start": 0.18,
            "bin_end": 0.22,
            "count": 0
           },
           {
            "bin_start": 0.22,
            "bin_end": 0.26,
            "count": 0
           },
           {
            "bin_start": 0.26,
            "bin_end": 0.30000000000000004,
            "count": 0
           },
           {
            "bin_start": 0.30000000000000004,
            "bin_end": 0.33999999999999997,
            "count": 2
           },
           {
            "bin_start": 0.33999999999999997,
            "bin_end": 0.38,
            "count": 0
           },
           {
            "bin_start": 0.38,
            "bin_end": 0.42000000000000004,
            "count": 0
           },
           {
            "bin_start": 0.42000000000000004,
            "bin_end": 0.45999999999999996,
            "count": 0
           },
           {
            "bin_start": 0.45999999999999996,
            "bin_end": 0.5,
            "count": 1
           }
          ]
         }
        },
        {
         "name": "pp_total_raw",
         "dtype": "int64",
         "stats": {
          "unique_count": 4,
          "nan_count": 0,
          "min": "7000",
          "max": "15000",
          "histogram": [
           {
            "bin_start": 7000,
            "bin_end": 7800,
            "count": 2
           },
           {
            "bin_start": 7800,
            "bin_end": 8600,
            "count": 0
           },
           {
            "bin_start": 8600,
            "bin_end": 9400,
            "count": 1
           },
           {
            "bin_start": 9400,
            "bin_end": 10200,
            "count": 0
           },
           {
            "bin_start": 10200,
            "bin_end": 11000,
            "count": 0
           },
           {
            "bin_start": 11000,
            "bin_end": 11800,
            "count": 1
           },
           {
            "bin_start": 11800,
            "bin_end": 12600,
            "count": 0
           },
           {
            "bin_start": 12600,
            "bin_end": 13400,
            "count": 0
           },
           {
            "bin_start": 13400,
            "bin_end": 14200,
            "count": 0
           },
           {
            "bin_start": 14200,
            "bin_end": 15000,
            "count": 1
           }
          ]
         }
        },
        {
         "name": "_deepnote_index_column",
         "dtype": "int64"
        }
       ],
       "rows_top": [
        {
         "district_id": 8815,
         "state": "Illinois",
         "locale": "Suburb",
         "pct_black/hispanic": 0.1,
         "pct_free/reduced": 0.1,
         "pp_total_raw": 15000,
         "_deepnote_index_column": 0
        },
        {
         "district_id": 4921,
         "state": "Utah",
         "locale": "Suburb",
         "pct_black/hispanic": 0.1,
         "pct_free/reduced": 0.30000000000000004,
         "pp_total_raw": 7000,
         "_deepnote_index_column": 2
        },
        {
         "district_id": 5987,
         "state": "Wisconsin",
         "locale": "Suburb",
         "pct_black/hispanic": 0.1,
         "pct_free/reduced": 0.1,
         "pp_total_raw": 11000,
         "_deepnote_index_column": 5
        },
        {
         "district_id": 3710,
         "state": "Utah",
         "locale": "Suburb",
         "pct_black/hispanic": 0.1,
         "pct_free/reduced": 0.5,
         "pp_total_raw": 7000,
         "_deepnote_index_column": 6
        },
        {
         "district_id": 7177,
         "state": "North Carolina",
         "locale": "Suburb",
         "pct_black/hispanic": 0.30000000000000004,
         "pct_free/reduced": 0.30000000000000004,
         "pp_total_raw": 9000,
         "_deepnote_index_column": 7
        }
       ],
       "rows_bottom": null
      },
      "text/plain": "   district_id           state  locale  pct_black/hispanic  pct_free/reduced  \\\n0         8815        Illinois  Suburb                 0.1               0.1   \n2         4921            Utah  Suburb                 0.1               0.3   \n5         5987       Wisconsin  Suburb                 0.1               0.1   \n6         3710            Utah  Suburb                 0.1               0.5   \n7         7177  North Carolina  Suburb                 0.3               0.3   \n\n   pp_total_raw  \n0         15000  \n2          7000  \n5         11000  \n6          7000  \n7          9000  ",
      "text/html": "<div>\n<style scoped>\n    .dataframe tbody tr th:only-of-type {\n        vertical-align: middle;\n    }\n\n    .dataframe tbody tr th {\n        vertical-align: top;\n    }\n\n    .dataframe thead th {\n        text-align: right;\n    }\n</style>\n<table border=\"1\" class=\"dataframe\">\n  <thead>\n    <tr style=\"text-align: right;\">\n      <th></th>\n      <th>district_id</th>\n      <th>state</th>\n      <th>locale</th>\n      <th>pct_black/hispanic</th>\n      <th>pct_free/reduced</th>\n      <th>pp_total_raw</th>\n    </tr>\n  </thead>\n  <tbody>\n    <tr>\n      <th>0</th>\n      <td>8815</td>\n      <td>Illinois</td>\n      <td>Suburb</td>\n      <td>0.1</td>\n      <td>0.1</td>\n      <td>15000</td>\n    </tr>\n    <tr>\n      <th>2</th>\n      <td>4921</td>\n      <td>Utah</td>\n      <td>Suburb</td>\n      <td>0.1</td>\n      <td>0.3</td>\n      <td>7000</td>\n    </tr>\n    <tr>\n      <th>5</th>\n      <td>5987</td>\n      <td>Wisconsin</td>\n      <td>Suburb</td>\n      <td>0.1</td>\n      <td>0.1</td>\n      <td>11000</td>\n    </tr>\n    <tr>\n      <th>6</th>\n      <td>3710</td>\n      <td>Utah</td>\n      <td>Suburb</td>\n      <td>0.1</td>\n      <td>0.5</td>\n      <td>7000</td>\n    </tr>\n    <tr>\n      <th>7</th>\n      <td>7177</td>\n      <td>North Carolina</td>\n      <td>Suburb</td>\n      <td>0.3</td>\n      <td>0.3</td>\n      <td>9000</td>\n    </tr>\n  </tbody>\n</table>\n</div>"
     },
     "metadata": {}
    }
   ],
   "execution_count": null
  },
  {
   "cell_type": "markdown",
   "source": "# Feature Distributions Visualization\nIn this section, we will discover different features distributions.",
   "metadata": {
    "papermill": {
     "duration": 0.064748,
     "end_time": "2021-09-19T11:55:57.023438",
     "exception": false,
     "start_time": "2021-09-19T11:55:56.958690",
     "status": "completed"
    },
    "tags": [],
    "cell_id": "00028-06fda968-45a5-4a6b-b69b-23e91e280d29",
    "deepnote_cell_type": "markdown"
   }
  },
  {
   "cell_type": "markdown",
   "source": "## Districts per states\nAs we can see the dataset contains more districts from Utah and Illinois than any other state.",
   "metadata": {
    "papermill": {
     "duration": 0.063221,
     "end_time": "2021-09-19T11:55:57.149562",
     "exception": false,
     "start_time": "2021-09-19T11:55:57.086341",
     "status": "completed"
    },
    "tags": [],
    "cell_id": "00029-eea38d18-0818-4516-bbb4-a7d0a84b9ac2",
    "deepnote_cell_type": "markdown"
   }
  },
  {
   "cell_type": "code",
   "metadata": {
    "_kg_hide-input": true,
    "execution": {
     "iopub.execute_input": "2021-09-19T11:55:57.278288Z",
     "iopub.status.busy": "2021-09-19T11:55:57.277605Z",
     "iopub.status.idle": "2021-09-19T11:55:57.310205Z",
     "shell.execute_reply": "2021-09-19T11:55:57.310646Z",
     "shell.execute_reply.started": "2021-09-19T11:09:31.772523Z"
    },
    "papermill": {
     "duration": 0.097585,
     "end_time": "2021-09-19T11:55:57.310803",
     "exception": false,
     "start_time": "2021-09-19T11:55:57.213218",
     "status": "completed"
    },
    "tags": [],
    "cell_id": "00030-5fc89ac1-1477-4eb4-99a7-37ac9a4938ea",
    "deepnote_to_be_reexecuted": false,
    "source_hash": "2f30e3d9",
    "execution_start": 1634282973041,
    "execution_millis": 16,
    "deepnote_cell_type": "code"
   },
   "source": "alt.Chart(districts_data.dropna()).mark_bar(\n    cornerRadiusTopLeft=3,\n    cornerRadiusTopRight=3).encode(\n    x=alt.X('state:O',sort=alt.EncodingSortField(field=\"state\", op=\"count\", order='descending')),\n    y=alt.Y('count(state):O'),\n    tooltip='count(state):O',\n    color=alt.Color('state:O',\n                    sort=alt.EncodingSortField(field=\"state\",op=\"count\", order='descending'),\n                    legend=None,scale=alt.Scale(scheme = 'blues')) \n    ).properties(title='Number of Districts per states')",
   "outputs": [
    {
     "output_type": "execute_result",
     "execution_count": 11,
     "data": {
      "text/html": "\n<div id=\"altair-viz-1f12e0684e334dfdad67bae4165581fc\"></div>\n<script type=\"text/javascript\">\n  (function(spec, embedOpt){\n    let outputDiv = document.currentScript.previousElementSibling;\n    if (outputDiv.id !== \"altair-viz-1f12e0684e334dfdad67bae4165581fc\") {\n      outputDiv = document.getElementById(\"altair-viz-1f12e0684e334dfdad67bae4165581fc\");\n    }\n    const paths = {\n      \"vega\": \"https://cdn.jsdelivr.net/npm//vega@5?noext\",\n      \"vega-lib\": \"https://cdn.jsdelivr.net/npm//vega-lib?noext\",\n      \"vega-lite\": \"https://cdn.jsdelivr.net/npm//vega-lite@4.8.1?noext\",\n      \"vega-embed\": \"https://cdn.jsdelivr.net/npm//vega-embed@6?noext\",\n    };\n\n    function loadScript(lib) {\n      return new Promise(function(resolve, reject) {\n        var s = document.createElement('script');\n        s.src = paths[lib];\n        s.async = true;\n        s.onload = () => resolve(paths[lib]);\n        s.onerror = () => reject(`Error loading script: ${paths[lib]}`);\n        document.getElementsByTagName(\"head\")[0].appendChild(s);\n      });\n    }\n\n    function showError(err) {\n      outputDiv.innerHTML = `<div class=\"error\" style=\"color:red;\">${err}</div>`;\n      throw err;\n    }\n\n    function displayChart(vegaEmbed) {\n      vegaEmbed(outputDiv, spec, embedOpt)\n        .catch(err => showError(`Javascript Error: ${err.message}<br>This usually means there's a typo in your chart specification. See the javascript console for the full traceback.`));\n    }\n\n    if(typeof define === \"function\" && define.amd) {\n      requirejs.config({paths});\n      require([\"vega-embed\"], displayChart, err => showError(`Error loading script: ${err.message}`));\n    } else if (typeof vegaEmbed === \"function\") {\n      displayChart(vegaEmbed);\n    } else {\n      loadScript(\"vega\")\n        .then(() => loadScript(\"vega-lite\"))\n        .then(() => loadScript(\"vega-embed\"))\n        .catch(showError)\n        .then(() => displayChart(vegaEmbed));\n    }\n  })({\"width\": 500, \"height\": 300, \"config\": {\"style\": {\"bar\": {\"size\": 15}, \"guide-title\": {\"fontSize\": 15}, \"guide-label\": {\"fontSize\": 15}}, \"scale\": {\"bandPaddingInner\": 0.5, \"bandPaddingOuter\": 0.5}, \"legend\": {\"symbolSize\": 15, \"titleFontSize\": 15, \"labelFontSize\": 9}, \"axis\": {\"titleFontSize\": 15, \"labelFontSize\": 18}, \"title\": {\"fontSize\": 20}}, \"data\": {\"name\": \"data-4bbbb94343e6021295c4c6f2acfe577a\"}, \"mark\": {\"type\": \"bar\", \"cornerRadiusTopLeft\": 3, \"cornerRadiusTopRight\": 3}, \"encoding\": {\"color\": {\"type\": \"ordinal\", \"field\": \"state\", \"legend\": null, \"scale\": {\"scheme\": \"blues\"}, \"sort\": {\"field\": \"state\", \"op\": \"count\", \"order\": \"descending\"}}, \"tooltip\": {\"type\": \"ordinal\", \"aggregate\": \"count\", \"field\": \"state\"}, \"x\": {\"type\": \"ordinal\", \"field\": \"state\", \"sort\": {\"field\": \"state\", \"op\": \"count\", \"order\": \"descending\"}}, \"y\": {\"type\": \"ordinal\", \"aggregate\": \"count\", \"field\": \"state\"}}, \"title\": \"Number of Districts per states\", \"$schema\": \"https://vega.github.io/schema/vega-lite/v4.8.1.json\", \"datasets\": {\"data-4bbbb94343e6021295c4c6f2acfe577a\": [{\"district_id\": 8815, \"state\": \"Illinois\", \"locale\": \"Suburb\", \"pct_black/hispanic\": 0.1, \"pct_free/reduced\": 0.1, \"pp_total_raw\": 15000}, {\"district_id\": 4921, \"state\": \"Utah\", \"locale\": \"Suburb\", \"pct_black/hispanic\": 0.1, \"pct_free/reduced\": 0.30000000000000004, \"pp_total_raw\": 7000}, {\"district_id\": 5987, \"state\": \"Wisconsin\", \"locale\": \"Suburb\", \"pct_black/hispanic\": 0.1, \"pct_free/reduced\": 0.1, \"pp_total_raw\": 11000}, {\"district_id\": 3710, \"state\": \"Utah\", \"locale\": \"Suburb\", \"pct_black/hispanic\": 0.1, \"pct_free/reduced\": 0.5, \"pp_total_raw\": 7000}, {\"district_id\": 7177, \"state\": \"North Carolina\", \"locale\": \"Suburb\", \"pct_black/hispanic\": 0.30000000000000004, \"pct_free/reduced\": 0.30000000000000004, \"pp_total_raw\": 9000}, {\"district_id\": 9812, \"state\": \"Utah\", \"locale\": \"Suburb\", \"pct_black/hispanic\": 0.1, \"pct_free/reduced\": 0.30000000000000004, \"pp_total_raw\": 7000}, {\"district_id\": 6584, \"state\": \"North Carolina\", \"locale\": \"Rural\", \"pct_black/hispanic\": 0.5, \"pct_free/reduced\": 0.7, \"pp_total_raw\": 9000}, {\"district_id\": 7457, \"state\": \"Washington\", \"locale\": \"City\", \"pct_black/hispanic\": 0.5, \"pct_free/reduced\": 0.5, \"pp_total_raw\": 13000}, {\"district_id\": 7614, \"state\": \"Utah\", \"locale\": \"City\", \"pct_black/hispanic\": 0.30000000000000004, \"pct_free/reduced\": 0.30000000000000004, \"pp_total_raw\": 9000}, {\"district_id\": 4808, \"state\": \"Indiana\", \"locale\": \"City\", \"pct_black/hispanic\": 0.9, \"pct_free/reduced\": 0.9, \"pp_total_raw\": 9000}, {\"district_id\": 1877, \"state\": \"Illinois\", \"locale\": \"Rural\", \"pct_black/hispanic\": 0.1, \"pct_free/reduced\": 0.1, \"pp_total_raw\": 13000}, {\"district_id\": 2779, \"state\": \"Illinois\", \"locale\": \"Rural\", \"pct_black/hispanic\": 0.1, \"pct_free/reduced\": 0.1, \"pp_total_raw\": 11000}, {\"district_id\": 8328, \"state\": \"Utah\", \"locale\": \"Town\", \"pct_black/hispanic\": 0.1, \"pct_free/reduced\": 0.5, \"pp_total_raw\": 11000}, {\"district_id\": 9043, \"state\": \"Illinois\", \"locale\": \"Suburb\", \"pct_black/hispanic\": 0.9, \"pct_free/reduced\": 0.9, \"pp_total_raw\": 13000}, {\"district_id\": 1549, \"state\": \"Virginia\", \"locale\": \"Suburb\", \"pct_black/hispanic\": 0.1, \"pct_free/reduced\": 0.30000000000000004, \"pp_total_raw\": 11000}, {\"district_id\": 4051, \"state\": \"Missouri\", \"locale\": \"Suburb\", \"pct_black/hispanic\": 0.1, \"pct_free/reduced\": 0.30000000000000004, \"pp_total_raw\": 11000}, {\"district_id\": 2167, \"state\": \"Washington\", \"locale\": \"Suburb\", \"pct_black/hispanic\": 0.1, \"pct_free/reduced\": 0.1, \"pp_total_raw\": 15000}, {\"district_id\": 6577, \"state\": \"Illinois\", \"locale\": \"Suburb\", \"pct_black/hispanic\": 0.1, \"pct_free/reduced\": 0.1, \"pp_total_raw\": 11000}, {\"district_id\": 4936, \"state\": \"Utah\", \"locale\": \"Suburb\", \"pct_black/hispanic\": 0.1, \"pct_free/reduced\": 0.1, \"pp_total_raw\": 7000}, {\"district_id\": 5231, \"state\": \"Utah\", \"locale\": \"Town\", \"pct_black/hispanic\": 0.1, \"pct_free/reduced\": 0.5, \"pp_total_raw\": 11000}, {\"district_id\": 8433, \"state\": \"New Jersey\", \"locale\": \"Suburb\", \"pct_black/hispanic\": 0.1, \"pct_free/reduced\": 0.1, \"pp_total_raw\": 19000}, {\"district_id\": 2165, \"state\": \"Utah\", \"locale\": \"Suburb\", \"pct_black/hispanic\": 0.30000000000000004, \"pct_free/reduced\": 0.30000000000000004, \"pp_total_raw\": 7000}, {\"district_id\": 8784, \"state\": \"Illinois\", \"locale\": \"Suburb\", \"pct_black/hispanic\": 0.7, \"pct_free/reduced\": 0.7, \"pp_total_raw\": 11000}, {\"district_id\": 7798, \"state\": \"New York\", \"locale\": \"Rural\", \"pct_black/hispanic\": 0.1, \"pct_free/reduced\": 0.30000000000000004, \"pp_total_raw\": 23000}, {\"district_id\": 3550, \"state\": \"Minnesota\", \"locale\": \"Suburb\", \"pct_black/hispanic\": 0.5, \"pct_free/reduced\": 0.7, \"pp_total_raw\": 15000}, {\"district_id\": 2601, \"state\": \"Illinois\", \"locale\": \"Suburb\", \"pct_black/hispanic\": 0.7, \"pct_free/reduced\": 0.5, \"pp_total_raw\": 13000}, {\"district_id\": 7660, \"state\": \"Utah\", \"locale\": \"Suburb\", \"pct_black/hispanic\": 0.1, \"pct_free/reduced\": 0.1, \"pp_total_raw\": 7000}, {\"district_id\": 9899, \"state\": \"Illinois\", \"locale\": \"Suburb\", \"pct_black/hispanic\": 0.30000000000000004, \"pct_free/reduced\": 0.1, \"pp_total_raw\": 13000}, {\"district_id\": 1742, \"state\": \"Missouri\", \"locale\": \"Suburb\", \"pct_black/hispanic\": 0.1, \"pct_free/reduced\": 0.30000000000000004, \"pp_total_raw\": 9000}, {\"district_id\": 4629, \"state\": \"Illinois\", \"locale\": \"Suburb\", \"pct_black/hispanic\": 0.1, \"pct_free/reduced\": 0.30000000000000004, \"pp_total_raw\": 17000}, {\"district_id\": 3222, \"state\": \"Indiana\", \"locale\": \"City\", \"pct_black/hispanic\": 0.30000000000000004, \"pct_free/reduced\": 0.7, \"pp_total_raw\": 9000}, {\"district_id\": 1772, \"state\": \"Utah\", \"locale\": \"City\", \"pct_black/hispanic\": 0.30000000000000004, \"pct_free/reduced\": 0.5, \"pp_total_raw\": 9000}, {\"district_id\": 8884, \"state\": \"Texas\", \"locale\": \"City\", \"pct_black/hispanic\": 0.7, \"pct_free/reduced\": 0.5, \"pp_total_raw\": 9000}, {\"district_id\": 1712, \"state\": \"Illinois\", \"locale\": \"Suburb\", \"pct_black/hispanic\": 0.5, \"pct_free/reduced\": 0.5, \"pp_total_raw\": 13000}, {\"district_id\": 5042, \"state\": \"Illinois\", \"locale\": \"Town\", \"pct_black/hispanic\": 0.30000000000000004, \"pct_free/reduced\": 0.9, \"pp_total_raw\": 11000}, {\"district_id\": 3692, \"state\": \"Utah\", \"locale\": \"Suburb\", \"pct_black/hispanic\": 0.1, \"pct_free/reduced\": 0.5, \"pp_total_raw\": 9000}, {\"district_id\": 4683, \"state\": \"Texas\", \"locale\": \"Suburb\", \"pct_black/hispanic\": 0.5, \"pct_free/reduced\": 0.5, \"pp_total_raw\": 9000}, {\"district_id\": 2567, \"state\": \"Washington\", \"locale\": \"Suburb\", \"pct_black/hispanic\": 0.1, \"pct_free/reduced\": 0.30000000000000004, \"pp_total_raw\": 13000}, {\"district_id\": 7767, \"state\": \"North Carolina\", \"locale\": \"City\", \"pct_black/hispanic\": 0.5, \"pct_free/reduced\": 0.7, \"pp_total_raw\": 11000}, {\"district_id\": 7308, \"state\": \"Utah\", \"locale\": \"Suburb\", \"pct_black/hispanic\": 0.1, \"pct_free/reduced\": 0.30000000000000004, \"pp_total_raw\": 5000}, {\"district_id\": 8902, \"state\": \"Wisconsin\", \"locale\": \"Suburb\", \"pct_black/hispanic\": 0.1, \"pct_free/reduced\": 0.30000000000000004, \"pp_total_raw\": 11000}, {\"district_id\": 5890, \"state\": \"Illinois\", \"locale\": \"Suburb\", \"pct_black/hispanic\": 0.30000000000000004, \"pct_free/reduced\": 0.30000000000000004, \"pp_total_raw\": 19000}, {\"district_id\": 3864, \"state\": \"Utah\", \"locale\": \"Suburb\", \"pct_black/hispanic\": 0.1, \"pct_free/reduced\": 0.1, \"pp_total_raw\": 7000}, {\"district_id\": 5600, \"state\": \"Utah\", \"locale\": \"Suburb\", \"pct_black/hispanic\": 0.1, \"pct_free/reduced\": 0.30000000000000004, \"pp_total_raw\": 7000}, {\"district_id\": 6919, \"state\": \"Florida\", \"locale\": \"Suburb\", \"pct_black/hispanic\": 0.5, \"pct_free/reduced\": 0.5, \"pp_total_raw\": 7000}, {\"district_id\": 7980, \"state\": \"Virginia\", \"locale\": \"Rural\", \"pct_black/hispanic\": 0.1, \"pct_free/reduced\": 0.5, \"pp_total_raw\": 11000}, {\"district_id\": 7387, \"state\": \"Utah\", \"locale\": \"City\", \"pct_black/hispanic\": 0.1, \"pct_free/reduced\": 0.30000000000000004, \"pp_total_raw\": 7000}, {\"district_id\": 2956, \"state\": \"Missouri\", \"locale\": \"City\", \"pct_black/hispanic\": 0.1, \"pct_free/reduced\": 0.5, \"pp_total_raw\": 9000}, {\"district_id\": 9553, \"state\": \"Illinois\", \"locale\": \"Suburb\", \"pct_black/hispanic\": 0.1, \"pct_free/reduced\": 0.1, \"pp_total_raw\": 15000}, {\"district_id\": 1536, \"state\": \"Indiana\", \"locale\": \"Rural\", \"pct_black/hispanic\": 0.1, \"pct_free/reduced\": 0.5, \"pp_total_raw\": 9000}, {\"district_id\": 8937, \"state\": \"Illinois\", \"locale\": \"Rural\", \"pct_black/hispanic\": 0.1, \"pct_free/reduced\": 0.1, \"pp_total_raw\": 13000}, {\"district_id\": 8520, \"state\": \"New York\", \"locale\": \"Rural\", \"pct_black/hispanic\": 0.1, \"pct_free/reduced\": 0.30000000000000004, \"pp_total_raw\": 17000}, {\"district_id\": 2130, \"state\": \"Washington\", \"locale\": \"Suburb\", \"pct_black/hispanic\": 0.5, \"pct_free/reduced\": 0.7, \"pp_total_raw\": 15000}, {\"district_id\": 3772, \"state\": \"Utah\", \"locale\": \"Suburb\", \"pct_black/hispanic\": 0.1, \"pct_free/reduced\": 0.30000000000000004, \"pp_total_raw\": 9000}, {\"district_id\": 4775, \"state\": \"New York\", \"locale\": \"Suburb\", \"pct_black/hispanic\": 0.1, \"pct_free/reduced\": 0.30000000000000004, \"pp_total_raw\": 17000}, {\"district_id\": 9778, \"state\": \"Utah\", \"locale\": \"Town\", \"pct_black/hispanic\": 0.1, \"pct_free/reduced\": 0.5, \"pp_total_raw\": 9000}, {\"district_id\": 1470, \"state\": \"New York\", \"locale\": \"Rural\", \"pct_black/hispanic\": 0.1, \"pct_free/reduced\": 0.5, \"pp_total_raw\": 33000}, {\"district_id\": 1324, \"state\": \"Indiana\", \"locale\": \"Rural\", \"pct_black/hispanic\": 0.1, \"pct_free/reduced\": 0.5, \"pp_total_raw\": 9000}, {\"district_id\": 3160, \"state\": \"Utah\", \"locale\": \"Suburb\", \"pct_black/hispanic\": 0.1, \"pct_free/reduced\": 0.30000000000000004, \"pp_total_raw\": 9000}, {\"district_id\": 2393, \"state\": \"Illinois\", \"locale\": \"Suburb\", \"pct_black/hispanic\": 0.1, \"pct_free/reduced\": 0.1, \"pp_total_raw\": 13000}, {\"district_id\": 9230, \"state\": \"Utah\", \"locale\": \"Rural\", \"pct_black/hispanic\": 0.1, \"pct_free/reduced\": 0.1, \"pp_total_raw\": 7000}, {\"district_id\": 3248, \"state\": \"Illinois\", \"locale\": \"Suburb\", \"pct_black/hispanic\": 0.7, \"pct_free/reduced\": 0.7, \"pp_total_raw\": 13000}, {\"district_id\": 5627, \"state\": \"Indiana\", \"locale\": \"Rural\", \"pct_black/hispanic\": 0.1, \"pct_free/reduced\": 0.5, \"pp_total_raw\": 9000}, {\"district_id\": 7752, \"state\": \"Wisconsin\", \"locale\": \"Suburb\", \"pct_black/hispanic\": 0.1, \"pct_free/reduced\": 0.1, \"pp_total_raw\": 11000}, {\"district_id\": 4348, \"state\": \"Missouri\", \"locale\": \"Suburb\", \"pct_black/hispanic\": 0.1, \"pct_free/reduced\": 0.30000000000000004, \"pp_total_raw\": 9000}, {\"district_id\": 1052, \"state\": \"Illinois\", \"locale\": \"Suburb\", \"pct_black/hispanic\": 0.30000000000000004, \"pct_free/reduced\": 0.30000000000000004, \"pp_total_raw\": 17000}, {\"district_id\": 6762, \"state\": \"Utah\", \"locale\": \"Suburb\", \"pct_black/hispanic\": 0.1, \"pct_free/reduced\": 0.1, \"pp_total_raw\": 5000}, {\"district_id\": 1204, \"state\": \"Utah\", \"locale\": \"Suburb\", \"pct_black/hispanic\": 0.1, \"pct_free/reduced\": 0.1, \"pp_total_raw\": 7000}, {\"district_id\": 2870, \"state\": \"Indiana\", \"locale\": \"Suburb\", \"pct_black/hispanic\": 0.9, \"pct_free/reduced\": 0.7, \"pp_total_raw\": 9000}, {\"district_id\": 3558, \"state\": \"North Carolina\", \"locale\": \"Suburb\", \"pct_black/hispanic\": 0.30000000000000004, \"pct_free/reduced\": 0.30000000000000004, \"pp_total_raw\": 9000}, {\"district_id\": 4668, \"state\": \"Utah\", \"locale\": \"Suburb\", \"pct_black/hispanic\": 0.1, \"pct_free/reduced\": 0.30000000000000004, \"pp_total_raw\": 7000}, {\"district_id\": 2285, \"state\": \"Illinois\", \"locale\": \"Suburb\", \"pct_black/hispanic\": 0.1, \"pct_free/reduced\": 0.5, \"pp_total_raw\": 13000}, {\"district_id\": 4744, \"state\": \"Utah\", \"locale\": \"Suburb\", \"pct_black/hispanic\": 0.30000000000000004, \"pct_free/reduced\": 0.30000000000000004, \"pp_total_raw\": 9000}, {\"district_id\": 7541, \"state\": \"Utah\", \"locale\": \"Suburb\", \"pct_black/hispanic\": 0.30000000000000004, \"pct_free/reduced\": 0.30000000000000004, \"pp_total_raw\": 9000}, {\"district_id\": 1270, \"state\": \"Utah\", \"locale\": \"Rural\", \"pct_black/hispanic\": 0.1, \"pct_free/reduced\": 0.5, \"pp_total_raw\": 9000}, {\"district_id\": 4183, \"state\": \"Utah\", \"locale\": \"Town\", \"pct_black/hispanic\": 0.1, \"pct_free/reduced\": 0.5, \"pp_total_raw\": 9000}, {\"district_id\": 5510, \"state\": \"Washington\", \"locale\": \"City\", \"pct_black/hispanic\": 0.30000000000000004, \"pct_free/reduced\": 0.5, \"pp_total_raw\": 15000}, {\"district_id\": 3228, \"state\": \"Indiana\", \"locale\": \"Town\", \"pct_black/hispanic\": 0.1, \"pct_free/reduced\": 0.5, \"pp_total_raw\": 9000}, {\"district_id\": 5422, \"state\": \"Missouri\", \"locale\": \"Town\", \"pct_black/hispanic\": 0.1, \"pct_free/reduced\": 0.30000000000000004, \"pp_total_raw\": 9000}, {\"district_id\": 8256, \"state\": \"New Jersey\", \"locale\": \"Suburb\", \"pct_black/hispanic\": 0.1, \"pct_free/reduced\": 0.1, \"pp_total_raw\": 15000}, {\"district_id\": 4373, \"state\": \"Utah\", \"locale\": \"City\", \"pct_black/hispanic\": 0.1, \"pct_free/reduced\": 0.1, \"pp_total_raw\": 9000}, {\"district_id\": 2441, \"state\": \"Utah\", \"locale\": \"Town\", \"pct_black/hispanic\": 0.1, \"pct_free/reduced\": 0.30000000000000004, \"pp_total_raw\": 9000}, {\"district_id\": 6144, \"state\": \"Michigan\", \"locale\": \"Suburb\", \"pct_black/hispanic\": 0.5, \"pct_free/reduced\": 0.7, \"pp_total_raw\": 11000}, {\"district_id\": 3732, \"state\": \"Michigan\", \"locale\": \"Suburb\", \"pct_black/hispanic\": 0.5, \"pct_free/reduced\": 0.5, \"pp_total_raw\": 13000}, {\"district_id\": 3266, \"state\": \"Utah\", \"locale\": \"Town\", \"pct_black/hispanic\": 0.1, \"pct_free/reduced\": 0.5, \"pp_total_raw\": 11000}, {\"district_id\": 1705, \"state\": \"Washington\", \"locale\": \"City\", \"pct_black/hispanic\": 0.30000000000000004, \"pct_free/reduced\": 0.5, \"pp_total_raw\": 13000}, {\"district_id\": 9515, \"state\": \"New York\", \"locale\": \"Rural\", \"pct_black/hispanic\": 0.1, \"pct_free/reduced\": 0.5, \"pp_total_raw\": 19000}, {\"district_id\": 4929, \"state\": \"Virginia\", \"locale\": \"Rural\", \"pct_black/hispanic\": 0.1, \"pct_free/reduced\": 0.5, \"pp_total_raw\": 13000}]}}, {\"mode\": \"vega-lite\"});\n</script>",
      "text/plain": "alt.Chart(...)"
     },
     "metadata": {}
    }
   ],
   "execution_count": null
  },
  {
   "cell_type": "markdown",
   "source": "## Locale Distribution\nThe suburbs are dominating with 59 percentage, which also means people from medium to high class have more access to internet.",
   "metadata": {
    "papermill": {
     "duration": 0.06413,
     "end_time": "2021-09-19T11:55:57.438751",
     "exception": false,
     "start_time": "2021-09-19T11:55:57.374621",
     "status": "completed"
    },
    "tags": [],
    "cell_id": "00031-86db6353-653f-446d-b4fc-38b6037df3fe",
    "deepnote_cell_type": "markdown"
   }
  },
  {
   "cell_type": "code",
   "metadata": {
    "_kg_hide-input": true,
    "execution": {
     "iopub.execute_input": "2021-09-19T11:55:57.570762Z",
     "iopub.status.busy": "2021-09-19T11:55:57.570135Z",
     "iopub.status.idle": "2021-09-19T11:55:57.731955Z",
     "shell.execute_reply": "2021-09-19T11:55:57.732451Z",
     "shell.execute_reply.started": "2021-09-19T11:09:31.810349Z"
    },
    "papermill": {
     "duration": 0.230029,
     "end_time": "2021-09-19T11:55:57.732622",
     "exception": false,
     "start_time": "2021-09-19T11:55:57.502593",
     "status": "completed"
    },
    "tags": [],
    "cell_id": "00032-2d210496-7ce1-45a8-b2e7-84a6bd2bab62",
    "deepnote_to_be_reexecuted": false,
    "source_hash": "52ba7c3f",
    "execution_start": 1634282973053,
    "execution_millis": 188,
    "deepnote_cell_type": "code"
   },
   "source": "fig, ax  = plt.subplots(figsize=(16, 8))\nfig.suptitle('Locale Distribution', size = 20, color = \"black\")\nexplode = ( 0.03, 0.03, 0.3, 0.03)\nlabels = list(districts_data.locale.value_counts().index)\nsizes = districts_data[\"locale\"].dropna().value_counts()\nax.pie(sizes, \n       explode = explode, \n       colors = sns.color_palette(\"Set2\"),\n       startangle = 60,\n       labels = labels,\n       autopct = '%1.0f%%',\n       pctdistance = 0.9\n      )\nax.add_artist(plt.Circle((0,0),0.4,fc='white'))\nplt.show()",
   "outputs": [
    {
     "data": {
      "text/plain": "<Figure size 1152x576 with 1 Axes>",
      "image/png": "[encoded data removed]"
     },
     "metadata": {
      "image/png": {
       "width": 504,
       "height": 506
      }
     },
     "output_type": "display_data"
    }
   ],
   "execution_count": null
  },
  {
   "cell_type": "markdown",
   "source": "## Educational Product Providers\nGoogle provide most educational products then any one close to it. \n>In short online education is dominatied by Google LLC",
   "metadata": {
    "papermill": {
     "duration": 0.0659,
     "end_time": "2021-09-19T11:55:57.865061",
     "exception": false,
     "start_time": "2021-09-19T11:55:57.799161",
     "status": "completed"
    },
    "tags": [],
    "cell_id": "00033-f3d680dd-9ed2-4d60-bd2b-e656c3d394b1",
    "deepnote_cell_type": "markdown"
   }
  },
  {
   "cell_type": "code",
   "metadata": {
    "_kg_hide-input": true,
    "execution": {
     "iopub.execute_input": "2021-09-19T11:55:58.038002Z",
     "iopub.status.busy": "2021-09-19T11:55:58.037011Z",
     "iopub.status.idle": "2021-09-19T11:55:58.060191Z",
     "shell.execute_reply": "2021-09-19T11:55:58.059711Z",
     "shell.execute_reply.started": "2021-09-19T11:09:31.989297Z"
    },
    "papermill": {
     "duration": 0.128914,
     "end_time": "2021-09-19T11:55:58.060346",
     "exception": false,
     "start_time": "2021-09-19T11:55:57.931432",
     "status": "completed"
    },
    "tags": [],
    "cell_id": "00034-b681eac8-0a84-4339-883c-277c2c929e42",
    "deepnote_to_be_reexecuted": false,
    "source_hash": "235c9089",
    "execution_start": 1634282973230,
    "execution_millis": 65,
    "deepnote_cell_type": "code"
   },
   "source": "alt.Chart(products_data.dropna()).transform_aggregate(\n        count='count()',\n        groupby=['Provider/Company Name']\n    ).transform_window(\n        rank='rank(count)',\n        sort=[alt.SortField('count', order='descending')]\n    ).transform_filter(\n        alt.datum.rank < 10\n    ).mark_bar(\n    cornerRadiusTopLeft=3,\n    cornerRadiusTopRight=3).encode(\n        y=alt.Y('Provider/Company Name:N', sort='-x'),\n        x='count:Q',\n        tooltip='count:Q',\n        color=alt.Color('Provider/Company Name:O',\n                    sort=alt.EncodingSortField(field=\"Provider/Company Name\",op=\"count\", order='descending'),\n                    legend=None,scale=alt.Scale(scheme = 'set2')) \n    ).properties(title='Top Educational Product Providers')",
   "outputs": [
    {
     "output_type": "execute_result",
     "execution_count": 13,
     "data": {
      "text/html": "\n<div id=\"altair-viz-ad1e50a87bb14dae88453d8b11afc99a\"></div>\n<script type=\"text/javascript\">\n  (function(spec, embedOpt){\n    let outputDiv = document.currentScript.previousElementSibling;\n    if (outputDiv.id !== \"altair-viz-ad1e50a87bb14dae88453d8b11afc99a\") {\n      outputDiv = document.getElementById(\"altair-viz-ad1e50a87bb14dae88453d8b11afc99a\");\n    }\n    const paths = {\n      \"vega\": \"https://cdn.jsdelivr.net/npm//vega@5?noext\",\n      \"vega-lib\": \"https://cdn.jsdelivr.net/npm//vega-lib?noext\",\n      \"vega-lite\": \"https://cdn.jsdelivr.net/npm//vega-lite@4.8.1?noext\",\n      \"vega-embed\": \"https://cdn.jsdelivr.net/npm//vega-embed@6?noext\",\n    };\n\n    function loadScript(lib) {\n      return new Promise(function(resolve, reject) {\n        var s = document.createElement('script');\n        s.src = paths[lib];\n        s.async = true;\n        s.onload = () => resolve(paths[lib]);\n        s.onerror = () => reject(`Error loading script: ${paths[lib]}`);\n        document.getElementsByTagName(\"head\")[0].appendChild(s);\n      });\n    }\n\n    function showError(err) {\n      outputDiv.innerHTML = `<div class=\"error\" style=\"color:red;\">${err}</div>`;\n      throw err;\n    }\n\n    function displayChart(vegaEmbed) {\n      vegaEmbed(outputDiv, spec, embedOpt)\n        .catch(err => showError(`Javascript Error: ${err.message}<br>This usually means there's a typo in your chart specification. See the javascript console for the full traceback.`));\n    }\n\n    if(typeof define === \"function\" && define.amd) {\n      requirejs.config({paths});\n      require([\"vega-embed\"], displayChart, err => showError(`Error loading script: ${err.message}`));\n    } else if (typeof vegaEmbed === \"function\") {\n      displayChart(vegaEmbed);\n    } else {\n      loadScript(\"vega\")\n        .then(() => loadScript(\"vega-lite\"))\n        .then(() => loadScript(\"vega-embed\"))\n        .catch(showError)\n        .then(() => displayChart(vegaEmbed));\n    }\n  })({\"width\": 500, \"height\": 300, \"config\": {\"style\": {\"bar\": {\"size\": 15}, \"guide-title\": {\"fontSize\": 15}, \"guide-label\": {\"fontSize\": 15}}, \"scale\": {\"bandPaddingInner\": 0.5, \"bandPaddingOuter\": 0.5}, \"legend\": {\"symbolSize\": 15, \"titleFontSize\": 15, \"labelFontSize\": 9}, \"axis\": {\"titleFontSize\": 15, \"labelFontSize\": 18}, \"title\": {\"fontSize\": 20}}, \"data\": {\"name\": \"data-f035f5fe3359ae829ab37aba15c719f6\"}, \"mark\": {\"type\": \"bar\", \"cornerRadiusTopLeft\": 3, \"cornerRadiusTopRight\": 3}, \"encoding\": {\"color\": {\"type\": \"ordinal\", \"field\": \"Provider/Company Name\", \"legend\": null, \"scale\": {\"scheme\": \"set2\"}, \"sort\": {\"field\": \"Provider/Company Name\", \"op\": \"count\", \"order\": \"descending\"}}, \"tooltip\": {\"type\": \"quantitative\", \"field\": \"count\"}, \"x\": {\"type\": \"quantitative\", \"field\": \"count\"}, \"y\": {\"type\": \"nominal\", \"field\": \"Provider/Company Name\", \"sort\": \"-x\"}}, \"title\": \"Top Educational Product Providers\", \"transform\": [{\"aggregate\": [{\"op\": \"count\", \"as\": \"count\"}], \"groupby\": [\"Provider/Company Name\"]}, {\"window\": [{\"op\": \"rank\", \"field\": \"count\", \"as\": \"rank\"}], \"sort\": [{\"field\": \"count\", \"order\": \"descending\"}]}, {\"filter\": \"(datum.rank < 10)\"}], \"$schema\": \"https://vega.github.io/schema/vega-lite/v4.8.1.json\", \"datasets\": {\"data-f035f5fe3359ae829ab37aba15c719f6\": [{\"LP ID\": 13117, \"URL\": \"https://www.splashmath.com\", \"Product Name\": \"SplashLearn\", \"Provider/Company Name\": \"StudyPad Inc.\", \"Sector(s)\": \"PreK-12\", \"Primary Essential Function\": \"LC - Digital Learning Platforms\"}, {\"LP ID\": 66933, \"URL\": \"https://abcmouse.com\", \"Product Name\": \"ABCmouse.com\", \"Provider/Company Name\": \"Age of Learning, Inc \", \"Sector(s)\": \"PreK-12\", \"Primary Essential Function\": \"LC - Digital Learning Platforms\"}, {\"LP ID\": 50479, \"URL\": \"https://www.abcya.com\", \"Product Name\": \"ABCya!\", \"Provider/Company Name\": \"ABCya.com, LLC\", \"Sector(s)\": \"PreK-12\", \"Primary Essential Function\": \"LC - Sites, Resources & Reference - Games & Simulations\"}, {\"LP ID\": 92993, \"URL\": \"http://www.aleks.com/\", \"Product Name\": \"ALEKS\", \"Provider/Company Name\": \"McGraw-Hill PreK-12\", \"Sector(s)\": \"PreK-12; Higher Ed\", \"Primary Essential Function\": \"LC - Digital Learning Platforms\"}, {\"LP ID\": 73104, \"URL\": \"https://www.achieve3000.com/\", \"Product Name\": \"Achieve3000\", \"Provider/Company Name\": \"Achieve3000\", \"Sector(s)\": \"PreK-12\", \"Primary Essential Function\": \"LC - Digital Learning Platforms\"}, {\"LP ID\": 37600, \"URL\": \"http://www.activelylearn.com/\", \"Product Name\": \"Actively Learn\", \"Provider/Company Name\": \"Actively Learn\", \"Sector(s)\": \"PreK-12\", \"Primary Essential Function\": \"LC - Digital Learning Platforms\"}, {\"LP ID\": 18663, \"URL\": \"http://www.adaptedmind.com\", \"Product Name\": \"AdaptedMind\", \"Provider/Company Name\": \"GloWorld\", \"Sector(s)\": \"PreK-12\", \"Primary Essential Function\": \"LC - Digital Learning Platforms\"}, {\"LP ID\": 65131, \"URL\": \"http://www.amplify.com/\", \"Product Name\": \"Amplify\", \"Provider/Company Name\": \"Amplify Education, Inc.\", \"Sector(s)\": \"PreK-12\", \"Primary Essential Function\": \"LC - Courseware & Textbooks\"}, {\"LP ID\": 26491, \"URL\": \"http://www.answers.com/\", \"Product Name\": \"Answers\", \"Provider/Company Name\": \"Answers\", \"Sector(s)\": \"PreK-12; Higher Ed\", \"Primary Essential Function\": \"LC - Study Tools - Q&A\"}, {\"LP ID\": 56441, \"URL\": \"http://www.audible.com\", \"Product Name\": \"Audible\", \"Provider/Company Name\": \"Amazon.com, Inc. \", \"Sector(s)\": \"PreK-12; Higher Ed; Corporate\", \"Primary Essential Function\": \"LC - Sites, Resources & Reference - Streaming Services\"}, {\"LP ID\": 89802, \"URL\": \"http://bartleby.com/\", \"Product Name\": \"Bartleby\", \"Provider/Company Name\": \"Bartleby\", \"Sector(s)\": \"PreK-12; Higher Ed\", \"Primary Essential Function\": \"LC - Study Tools\"}, {\"LP ID\": 72703, \"URL\": \"http://betterlesson.com/\", \"Product Name\": \"Better Lesson\", \"Provider/Company Name\": \"BetterLesson\", \"Sector(s)\": \"PreK-12; Higher Ed\", \"Primary Essential Function\": \"CM - Teacher Resources - Professional Learning\"}, {\"LP ID\": 76889, \"URL\": \"https://www.blackboard.com/\", \"Product Name\": \"Blackboard\", \"Provider/Company Name\": \"Blackboard Inc\", \"Sector(s)\": \"PreK-12; Higher Ed\", \"Primary Essential Function\": \"SDO - Learning Management Systems (LMS)\"}, {\"LP ID\": 49563, \"URL\": \"https://bookcreator.com/\", \"Product Name\": \"Book Creator\", \"Provider/Company Name\": \"Tools for Schools, Inc. (Book Creator)\", \"Sector(s)\": \"PreK-12\", \"Primary Essential Function\": \"LC - Content Creation & Curation\"}, {\"LP ID\": 55589, \"URL\": \"http://www.brainpop.com/\", \"Product Name\": \"BrainPOP\", \"Provider/Company Name\": \"BrainPOP LLC\", \"Sector(s)\": \"PreK-12\", \"Primary Essential Function\": \"LC - Digital Learning Platforms\"}, {\"LP ID\": 84652, \"URL\": \"http://www.ck12.org\", \"Product Name\": \"CK-12\", \"Provider/Company Name\": \"CK-12 Foundation\", \"Sector(s)\": \"PreK-12\", \"Primary Essential Function\": \"LC - Digital Learning Platforms\"}, {\"LP ID\": 16633, \"URL\": \"http://www.cnn.com/cnn10\", \"Product Name\": \"CNN Student News\", \"Provider/Company Name\": \"Cable News Network\", \"Sector(s)\": \"PreK-12; Higher Ed; Corporate\", \"Primary Essential Function\": \"LC - Sites, Resources & Reference\"}, {\"LP ID\": 47364, \"URL\": \"https://www.canvas.net/\", \"Product Name\": \"Canvas\", \"Provider/Company Name\": \"Instructure, Inc. \", \"Sector(s)\": \"PreK-12; Higher Ed; Corporate\", \"Primary Essential Function\": \"LC - Online Course Providers & Technical Skills Development\"}, {\"LP ID\": 50104, \"URL\": \"http://www.chegg.com/\", \"Product Name\": \"Chegg\", \"Provider/Company Name\": \"Chegg\", \"Sector(s)\": \"PreK-12; Higher Ed\", \"Primary Essential Function\": \"LC - Study Tools\"}, {\"LP ID\": 47267, \"URL\": \"http://www.classdojo.com/\", \"Product Name\": \"ClassDojo\", \"Provider/Company Name\": \"ClassDojo, Inc.\", \"Sector(s)\": \"PreK-12\", \"Primary Essential Function\": \"CM - Classroom Engagement & Instruction - Communication & Messaging\"}, {\"LP ID\": 76649, \"URL\": \"https://clever.com/\", \"Product Name\": \"Clever\", \"Provider/Company Name\": \"Clever\", \"Sector(s)\": \"PreK-12\", \"Primary Essential Function\": \"SDO - School Management Software - SSO\"}, {\"LP ID\": 96116, \"URL\": \"http://www.cliffsnotes.com\", \"Product Name\": \"CliffsNotes\", \"Provider/Company Name\": \"Houghton Mifflin Harcourt\", \"Sector(s)\": \"PreK-12; Higher Ed\", \"Primary Essential Function\": \"LC - Study Tools\"}, {\"LP ID\": 85975, \"URL\": \"http://www.code.org\", \"Product Name\": \"Code.org\", \"Provider/Company Name\": \"Code.org\", \"Sector(s)\": \"PreK-12\", \"Primary Essential Function\": \"LC - Digital Learning Platforms\"}, {\"LP ID\": 94158, \"URL\": \"http://www.coolmath.com\", \"Product Name\": \"CoolMath\", \"Provider/Company Name\": \"Constructive Media\", \"Sector(s)\": \"PreK-12\", \"Primary Essential Function\": \"LC - Sites, Resources & Reference\"}, {\"LP ID\": 64947, \"URL\": \"http://www.desmos.com\", \"Product Name\": \"Desmos\", \"Provider/Company Name\": \"Desmos\", \"Sector(s)\": \"PreK-12; Higher Ed\", \"Primary Essential Function\": \"LC - Study Tools\"}, {\"LP ID\": 15225, \"URL\": \"http://www.merriam-webster.com/\", \"Product Name\": \"Dictionary - Merriam-Webster\", \"Provider/Company Name\": \"Merriam-Webster\", \"Sector(s)\": \"PreK-12; Higher Ed; Corporate\", \"Primary Essential Function\": \"LC - Sites, Resources & Reference - Thesaurus & Dictionary\"}, {\"LP ID\": 14168, \"URL\": \"http://dictionary.com\", \"Product Name\": \"Dictionary.com\", \"Provider/Company Name\": \"Dictionary.com\", \"Sector(s)\": \"PreK-12; Higher Ed; Corporate\", \"Primary Essential Function\": \"LC - Sites, Resources & Reference - Thesaurus & Dictionary\"}, {\"LP ID\": 28633, \"URL\": \"http://www.discoveryeducation.com/\", \"Product Name\": \"Discovery Education\", \"Provider/Company Name\": \"Discovery Communications\", \"Sector(s)\": \"PreK-12\", \"Primary Essential Function\": \"LC - Digital Learning Platforms\"}, {\"LP ID\": 71279, \"URL\": \"http://www.dreambox.com/\", \"Product Name\": \"DreamBox\", \"Provider/Company Name\": \"Dreambox Learning\", \"Sector(s)\": \"PreK-12\", \"Primary Essential Function\": \"LC - Digital Learning Platforms\"}, {\"LP ID\": 98001, \"URL\": \"http://www.dropbox.com\", \"Product Name\": \"Dropbox\", \"Provider/Company Name\": \"Dropbox\", \"Sector(s)\": \"PreK-12; Higher Ed; Corporate\", \"Primary Essential Function\": \"LC/CM/SDO - Other\"}, {\"LP ID\": 43491, \"URL\": \"http://duolingo.com/\", \"Product Name\": \"Duolingo\", \"Provider/Company Name\": \"Duolingo\", \"Sector(s)\": \"PreK-12; Higher Ed; Corporate\", \"Primary Essential Function\": \"LC - Digital Learning Platforms\"}, {\"LP ID\": 35971, \"URL\": \"http://www.edpuzzle.com/\", \"Product Name\": \"Edpuzzle\", \"Provider/Company Name\": \"EDpuzzle Inc.\", \"Sector(s)\": \"PreK-12\", \"Primary Essential Function\": \"LC - Digital Learning Platforms\"}, {\"LP ID\": 50712, \"URL\": \"http://earthquake.usgs.gov/learn/kids/\", \"Product Name\": \"Earthquakes for Kids\", \"Provider/Company Name\": \"US Geological Survey\", \"Sector(s)\": \"PreK-12\", \"Primary Essential Function\": \"LC - Sites, Resources & Reference\"}, {\"LP ID\": 57724, \"URL\": \"http://www.easybib.com/\", \"Product Name\": \"EasyBib\", \"Provider/Company Name\": \"Imagine Easy Solutions\", \"Sector(s)\": \"PreK-12; Higher Ed\", \"Primary Essential Function\": \"LC - Study Tools\"}, {\"LP ID\": 95253, \"URL\": \"http://www.edgenuity.com/\", \"Product Name\": \"Edgenuity\", \"Provider/Company Name\": \"Edgenuity Inc.\", \"Sector(s)\": \"PreK-12; Higher Ed; Corporate\", \"Primary Essential Function\": \"LC - Digital Learning Platforms\"}, {\"LP ID\": 56695, \"URL\": \"http://ellevationeducation.com/\", \"Product Name\": \"Ellevation\", \"Provider/Company Name\": \"Ellevation\", \"Sector(s)\": \"PreK-12\", \"Primary Essential Function\": \"SDO - Data, Analytics & Reporting\"}, {\"LP ID\": 54430, \"URL\": \"http://www.britannica.com/\", \"Product Name\": \"Encyclopedia Britannica\", \"Provider/Company Name\": \"Encyclopaedia Britannica, Inc.\", \"Sector(s)\": \"PreK-12; Higher Ed; Corporate\", \"Primary Essential Function\": \"LC - Sites, Resources & Reference - Encyclopedia\"}, {\"LP ID\": 26970, \"URL\": \"https://www.engageny.org/\", \"Product Name\": \"EngageNY\", \"Provider/Company Name\": \"New York State Education Department\", \"Sector(s)\": \"PreK-12\", \"Primary Essential Function\": \"LC - Sites, Resources & Reference\"}, {\"LP ID\": 98402, \"URL\": \"https://www.reflexmath.com/\", \"Product Name\": \"Reflex Math\", \"Provider/Company Name\": \"ExploreLearning, LLC\", \"Sector(s)\": \"PreK-12\", \"Primary Essential Function\": \"LC - Digital Learning Platforms\"}, {\"LP ID\": 13983, \"URL\": \"http://www.facebook.com/\", \"Product Name\": \"Facebook\", \"Provider/Company Name\": \"Facebook\", \"Sector(s)\": \"PreK-12; Higher Ed; Corporate\", \"Primary Essential Function\": \"LC/CM/SDO - Other\"}, {\"LP ID\": 19044, \"URL\": \"https://fligprid.com\", \"Product Name\": \"Flipgrid\", \"Provider/Company Name\": \"Flipgrid\", \"Sector(s)\": \"PreK-12\", \"Primary Essential Function\": \"LC - Content Creation & Curation\"}, {\"LP ID\": 16753, \"URL\": \"http://www.flocabulary.com/\", \"Product Name\": \"Flocabulary\", \"Provider/Company Name\": \"Flocabulary\", \"Sector(s)\": \"PreK-12; Higher Ed\", \"Primary Essential Function\": \"LC - Digital Learning Platforms\"}, {\"LP ID\": 83076, \"URL\": \"http://www.geogebra.org\", \"Product Name\": \"GeoGebra\", \"Provider/Company Name\": \"GeoGebra\", \"Sector(s)\": \"PreK-12\", \"Primary Essential Function\": \"LC - Study Tools\"}, {\"LP ID\": 23927, \"URL\": \"https://goguardian.com/\", \"Product Name\": \"GoGuardian\", \"Provider/Company Name\": \"GoGuardian\", \"Sector(s)\": \"PreK-12\", \"Primary Essential Function\": \"CM - Classroom Engagement & Instruction - Classroom Management\"}, {\"LP ID\": 86703, \"URL\": \"https://www.gonoodle.com/\", \"Product Name\": \"GoNoodle\", \"Provider/Company Name\": \"HealthTeacher\", \"Sector(s)\": \"PreK-12\", \"Primary Essential Function\": \"CM - Classroom Engagement & Instruction - Classroom Management\"}, {\"LP ID\": 77698, \"URL\": \"http://www.goodreads.com\", \"Product Name\": \"Goodreads\", \"Provider/Company Name\": \"Goodreads\", \"Sector(s)\": \"PreK-12; Higher Ed\", \"Primary Essential Function\": \"LC - Sites, Resources & Reference - Digital Collection & Repository\"}, {\"LP ID\": 72713, \"URL\": \"http://www.google.com/books\", \"Product Name\": \"Google Books\", \"Provider/Company Name\": \"Google LLC\", \"Sector(s)\": \"PreK-12; Higher Ed; Corporate\", \"Primary Essential Function\": \"LC - Sites, Resources & Reference\"}, {\"LP ID\": 30851, \"URL\": \"https://www.google.com/chrome/\", \"Product Name\": \"Google Chrome\", \"Provider/Company Name\": \"Google LLC\", \"Sector(s)\": \"PreK-12; Higher Ed; Corporate\", \"Primary Essential Function\": \"LC/CM/SDO - Other\"}, {\"LP ID\": 95731, \"URL\": \"http://docs.google.com/\", \"Product Name\": \"Google Docs\", \"Provider/Company Name\": \"Google LLC\", \"Sector(s)\": \"PreK-12; Higher Ed; Corporate\", \"Primary Essential Function\": \"LC - Content Creation & Curation\"}, {\"LP ID\": 99916, \"URL\": \"https://drive.google.com/start\", \"Product Name\": \"Google Drive\", \"Provider/Company Name\": \"Google LLC\", \"Sector(s)\": \"PreK-12; Higher Ed; Corporate\", \"Primary Essential Function\": \"LC/CM/SDO - Other\"}, {\"LP ID\": 11206, \"URL\": \"http://www.google.com/earth/\", \"Product Name\": \"Google Earth\", \"Provider/Company Name\": \"Google LLC\", \"Sector(s)\": \"PreK-12; Higher Ed; Corporate\", \"Primary Essential Function\": \"LC - Sites, Resources & Reference\"}, {\"LP ID\": 33185, \"URL\": \"http://www.google.com/forms/about/\", \"Product Name\": \"Google Forms\", \"Provider/Company Name\": \"Google LLC\", \"Sector(s)\": \"PreK-12; Higher Ed; Corporate\", \"Primary Essential Function\": \"CM - Classroom Engagement & Instruction - Assessment & Classroom Response\"}, {\"LP ID\": 48333, \"URL\": \"https://hangouts.google.com/\", \"Product Name\": \"Google Hangouts\", \"Provider/Company Name\": \"Google LLC\", \"Sector(s)\": \"PreK-12; Higher Ed; Corporate\", \"Primary Essential Function\": \"CM - Virtual Classroom - Video Conferencing & Screen Sharing\"}, {\"LP ID\": 69827, \"URL\": \"http://sites.google.com/\", \"Product Name\": \"Google Sites\", \"Provider/Company Name\": \"Google LLC\", \"Sector(s)\": \"PreK-12; Higher Ed; Corporate\", \"Primary Essential Function\": \"SDO - Data, Analytics & Reporting - Site Hosting & Data Warehousing\"}, {\"LP ID\": 16406, \"URL\": \"http://translate.google.com/\", \"Product Name\": \"Google Translate\", \"Provider/Company Name\": \"Google LLC\", \"Sector(s)\": \"PreK-12; Higher Ed; Corporate\", \"Primary Essential Function\": \"LC - Study Tools\"}, {\"LP ID\": 21917, \"URL\": \"https://voice.google.com\", \"Product Name\": \"Google Voice\", \"Provider/Company Name\": \"Google LLC\", \"Sector(s)\": \"PreK-12; Higher Ed; Corporate\", \"Primary Essential Function\": \"CM - Classroom Engagement & Instruction - Communication & Messaging\"}, {\"LP ID\": 52448, \"URL\": \"http://plus.google.com/\", \"Product Name\": \"Google Currents\", \"Provider/Company Name\": \"Google LLC\", \"Sector(s)\": \"PreK-12; Higher Ed; Corporate\", \"Primary Essential Function\": \"CM - Classroom Engagement & Instruction - Communication & Messaging\"}, {\"LP ID\": 51340, \"URL\": \"https://www.grammarly.com/\", \"Product Name\": \"Grammarly\", \"Provider/Company Name\": \"Grammarly\", \"Sector(s)\": \"PreK-12; Higher Ed; Corporate\", \"Primary Essential Function\": \"LC - Study Tools\"}, {\"LP ID\": 95767, \"URL\": \"http://hapara.com/\", \"Product Name\": \"Hapara\", \"Provider/Company Name\": \"Hapara\", \"Sector(s)\": \"PreK-12\", \"Primary Essential Function\": \"CM - Classroom Engagement & Instruction - Classroom Management\"}, {\"LP ID\": 33624, \"URL\": \"http://www.howstuffworks.com/\", \"Product Name\": \"HowStuffWorks\", \"Provider/Company Name\": \"HowStuffWorks\", \"Sector(s)\": \"PreK-12; Higher Ed\", \"Primary Essential Function\": \"LC - Sites, Resources & Reference\"}, {\"LP ID\": 80616, \"URL\": \"https://www.ixl.com/math/\", \"Product Name\": \"IXL Math\", \"Provider/Company Name\": \"IXL Learning\", \"Sector(s)\": \"PreK-12\", \"Primary Essential Function\": \"LC - Digital Learning Platforms\"}, {\"LP ID\": 35007, \"URL\": \"http://www.imaginelearning.com/\", \"Product Name\": \"Imagine Learning\", \"Provider/Company Name\": \"Imagine Learning\", \"Sector(s)\": \"PreK-12\", \"Primary Essential Function\": \"LC - Digital Learning Platforms\"}, {\"LP ID\": 72784, \"URL\": \"http://www.infinitecampus.com/\", \"Product Name\": \"Infinite Campus\", \"Provider/Company Name\": \"Infinite Campus\", \"Sector(s)\": \"PreK-12\", \"Primary Essential Function\": \"SDO - Data, Analytics & Reporting - Student Information Systems (SIS)\"}, {\"LP ID\": 18904, \"URL\": \"http://www.instructables.com/\", \"Product Name\": \"Instructables\", \"Provider/Company Name\": \" Autodesk, Inc\", \"Sector(s)\": \"PreK-12\", \"Primary Essential Function\": \"LC - Sites, Resources & Reference\"}, {\"LP ID\": 50762, \"URL\": \"http://archive.org/\", \"Product Name\": \"Internet Archive\", \"Provider/Company Name\": \"The Internet Archive\", \"Sector(s)\": \"PreK-12; Higher Ed; Corporate\", \"Primary Essential Function\": \"LC - Sites, Resources & Reference - Digital Collection & Repository\"}, {\"LP ID\": 59257, \"URL\": \"http://www.issuu.com\", \"Product Name\": \"Issuu\", \"Provider/Company Name\": \"Issuu\", \"Sector(s)\": \"PreK-12; Higher Ed; Corporate\", \"Primary Essential Function\": \"LC - Content Creation & Curation\"}, {\"LP ID\": 26881, \"URL\": \"http://www.istation.com\", \"Product Name\": \"iStation\", \"Provider/Company Name\": \"Istation\", \"Sector(s)\": \"PreK-12\", \"Primary Essential Function\": \"LC - Digital Learning Platforms\"}, {\"LP ID\": 84217, \"URL\": \"http://blogs.kqed.org/education/e-books/\", \"Product Name\": \"KQED E-books\", \"Provider/Company Name\": \"KQED\", \"Sector(s)\": \"PreK-12; Higher Ed\", \"Primary Essential Function\": \"LC - Sites, Resources & Reference - Digital Collection & Repository\"}, {\"LP ID\": 24711, \"URL\": \"https://kahoot.it\", \"Product Name\": \"Kahoot!\", \"Provider/Company Name\": \"Kahoot! AS\", \"Sector(s)\": \"PreK-12; Higher Ed; Corporate\", \"Primary Essential Function\": \"LC - Study Tools\"}, {\"LP ID\": 29322, \"URL\": \"http://www.khanacademy.org\", \"Product Name\": \"Khan Academy\", \"Provider/Company Name\": \"Khan Academy\", \"Sector(s)\": \"PreK-12; Higher Ed\", \"Primary Essential Function\": \"LC - Digital Learning Platforms\"}, {\"LP ID\": 52175, \"URL\": \"http://www.washingtonpost.com/lifestyle/kidspost\", \"Product Name\": \"The Washington Post KidsPost\", \"Provider/Company Name\": \"Washington Post\", \"Sector(s)\": \"PreK-12\", \"Primary Essential Function\": \"LC - Sites, Resources & Reference\"}, {\"LP ID\": 30025, \"URL\": \"http://www.learnzillion.com/\", \"Product Name\": \"LearnZillion\", \"Provider/Company Name\": \"LearnZillion\", \"Sector(s)\": \"PreK-12\", \"Primary Essential Function\": \"LC - Courseware & Textbooks\"}, {\"LP ID\": 29921, \"URL\": \"http://www.learninga-z.com/index.html\", \"Product Name\": \"Learning A-Z\", \"Provider/Company Name\": \"Learning A-Z\", \"Sector(s)\": \"PreK-12\", \"Primary Essential Function\": \"LC - Courseware & Textbooks\"}, {\"LP ID\": 25559, \"URL\": \"http://www.lexialearning.com/\", \"Product Name\": \"Lexia Core5 Reading\", \"Provider/Company Name\": \"Lexia Learning\", \"Sector(s)\": \"PreK-12\", \"Primary Essential Function\": \"LC - Digital Learning Platforms\"}, {\"LP ID\": 10650, \"URL\": \"http://www.loc.gov\", \"Product Name\": \"Library of Congress\", \"Provider/Company Name\": \"Library of Congress\", \"Sector(s)\": \"PreK-12; Higher Ed; Corporate\", \"Primary Essential Function\": \"LC - Sites, Resources & Reference\"}, {\"LP ID\": 41587, \"URL\": \"http://www.linkedin.com\", \"Product Name\": \"LinkedIn\", \"Provider/Company Name\": \"LinkedIn\", \"Sector(s)\": \"PreK-12; Higher Ed; Corporate\", \"Primary Essential Function\": \"LC - Career Planning & Job Search\"}, {\"LP ID\": 36102, \"URL\": \"https://littlealchemy.com/\", \"Product Name\": \"Little Alchemy\", \"Provider/Company Name\": \"Jakub Koziol\", \"Sector(s)\": \"PreK-12\", \"Primary Essential Function\": \"LC - Sites, Resources & Reference - Games & Simulations\"}, {\"LP ID\": 94954, \"URL\": \"https://www.masteryconnect.com/\", \"Product Name\": \"MasteryConnect\", \"Provider/Company Name\": \"MasteryConnect\", \"Sector(s)\": \"PreK-12\", \"Primary Essential Function\": \"LC - Digital Learning Platforms\"}, {\"LP ID\": 92867, \"URL\": \"http://www.mathplayground.com\", \"Product Name\": \"Math Playground\", \"Provider/Company Name\": \"Math Playground\", \"Sector(s)\": \"PreK-12\", \"Primary Essential Function\": \"LC - Sites, Resources & Reference - Games & Simulations\"}, {\"LP ID\": 57949, \"URL\": \"https://mathway.com/mobile\", \"Product Name\": \"Mathway\", \"Provider/Company Name\": \"Mathway\", \"Sector(s)\": \"PreK-12; Higher Ed\", \"Primary Essential Function\": \"LC - Study Tools\"}, {\"LP ID\": 81127, \"URL\": \"http://spaceplace.nasa.gov\", \"Product Name\": \"NASA's Space Place\", \"Provider/Company Name\": \"NASA\", \"Sector(s)\": \"PreK-12\", \"Primary Essential Function\": \"LC - Sites, Resources & Reference\"}, {\"LP ID\": 16468, \"URL\": \"http://www.archives.gov/\", \"Product Name\": \"National Archives\", \"Provider/Company Name\": \"United States National Archives\", \"Sector(s)\": \"PreK-12; Higher Ed\", \"Primary Essential Function\": \"LC - Sites, Resources & Reference - Digital Collection & Repository\"}, {\"LP ID\": 55031, \"URL\": \"https://nearpod.com/\", \"Product Name\": \"Nearpod\", \"Provider/Company Name\": \"Nearpod Inc.\", \"Sector(s)\": \"PreK-12\", \"Primary Essential Function\": \"LC - Digital Learning Platforms\"}, {\"LP ID\": 97280, \"URL\": \"http://www.newsela.com\", \"Product Name\": \"Newsela\", \"Provider/Company Name\": \"Newsela\", \"Sector(s)\": \"PreK-12\", \"Primary Essential Function\": \"LC - Digital Learning Platforms\"}, {\"LP ID\": 62934, \"URL\": \"http://www.noredink.com/\", \"Product Name\": \"NoRedInk\", \"Provider/Company Name\": \"NoRedInk\", \"Sector(s)\": \"PreK-12\", \"Primary Essential Function\": \"LC - Digital Learning Platforms\"}, {\"LP ID\": 19181, \"URL\": \"http://noodletools.com/\", \"Product Name\": \"NoodleTools\", \"Provider/Company Name\": \"NoodleTools\", \"Sector(s)\": \"PreK-12; Higher Ed\", \"Primary Essential Function\": \"LC - Study Tools\"}, {\"LP ID\": 26372, \"URL\": \"https://www.overdrive.com/\", \"Product Name\": \"OverDrive Education\", \"Provider/Company Name\": \"OverDrive\", \"Sector(s)\": \"PreK-12; Higher Ed\", \"Primary Essential Function\": \"LC - Sites, Resources & Reference - Digital Collection & Repository\"}, {\"LP ID\": 51853, \"URL\": \"http://pbskids.org/\", \"Product Name\": \"PBS Kids\", \"Provider/Company Name\": \"PBS\", \"Sector(s)\": \"PreK-12\", \"Primary Essential Function\": \"LC - Sites, Resources & Reference - Games & Simulations\"}, {\"LP ID\": 86575, \"URL\": \"http://www.pbslearningmedia.org/\", \"Product Name\": \"PBS LearningMedia\", \"Provider/Company Name\": \"PBS\", \"Sector(s)\": \"PreK-12\", \"Primary Essential Function\": \"LC - Digital Learning Platforms\"}, {\"LP ID\": 73101, \"URL\": \"http://padlet.com/\", \"Product Name\": \"Padlet\", \"Provider/Company Name\": \"Padlet\", \"Sector(s)\": \"PreK-12; Higher Ed; Corporate\", \"Primary Essential Function\": \"LC - Content Creation & Curation\"}, {\"LP ID\": 44853, \"URL\": \"https://www.panoramaed.com/\", \"Product Name\": \"Panorama Education\", \"Provider/Company Name\": \"Panorama Education\", \"Sector(s)\": \"PreK-12\", \"Primary Essential Function\": \"SDO - Human Resources\"}, {\"LP ID\": 90440, \"URL\": \"https://www.pebblego.com/login.php\", \"Product Name\": \"PebbleGo\", \"Provider/Company Name\": \"Capstone\", \"Sector(s)\": \"PreK-12\", \"Primary Essential Function\": \"LC - Digital Learning Platforms\"}, {\"LP ID\": 37017, \"URL\": \"https://pixlr.com/\", \"Product Name\": \"Pixlr\", \"Provider/Company Name\": \"Pixlr\", \"Sector(s)\": \"PreK-12; Higher Ed; Corporate\", \"Primary Essential Function\": \"LC - Content Creation & Curation\"}, {\"LP ID\": 92871, \"URL\": \"https://www.powerschool.com/\", \"Product Name\": \"PowerSchool\", \"Provider/Company Name\": \"PowerSchool Group LLC\", \"Sector(s)\": \"PreK-12; Higher Ed; Corporate\", \"Primary Essential Function\": \"SDO - Data, Analytics & Reporting - Student Information Systems (SIS)\"}, {\"LP ID\": 65358, \"URL\": \"http://www.prezi.com\", \"Product Name\": \"Prezi\", \"Provider/Company Name\": \"Prezi Inc.\", \"Sector(s)\": \"PreK-12; Higher Ed; Corporate\", \"Primary Essential Function\": \"LC - Content Creation & Curation\"}, {\"LP ID\": 64948, \"URL\": \"https://prodigygame.com/\", \"Product Name\": \"Prodigy\", \"Provider/Company Name\": \"SMARTeacher Inc.\", \"Sector(s)\": \"PreK-12\", \"Primary Essential Function\": \"LC - Sites, Resources & Reference - Games & Simulations\"}, {\"LP ID\": 49570, \"URL\": \"http://www.ptable.com/\", \"Product Name\": \"Ptable\", \"Provider/Company Name\": \"Michael Dayah\", \"Sector(s)\": \"PreK-12; Higher Ed\", \"Primary Essential Function\": \"LC - Sites, Resources & Reference\"}, {\"LP ID\": 23483, \"URL\": \"http://owl.english.purdue.edu/\", \"Product Name\": \"Purdue Online Writing Lab\", \"Provider/Company Name\": \"Online Writing Lab\", \"Sector(s)\": \"PreK-12; Higher Ed\", \"Primary Essential Function\": \"LC - Sites, Resources & Reference\"}, {\"LP ID\": 49062, \"URL\": \"http://www.quia.com/web\", \"Product Name\": \"Quia Web\", \"Provider/Company Name\": \"IXL Learning\", \"Sector(s)\": \"PreK-12\", \"Primary Essential Function\": \"LC - Digital Learning Platforms\"}, {\"LP ID\": 20594, \"URL\": \"http://www.quill.org/\", \"Product Name\": \"Quill\", \"Provider/Company Name\": \"Quill.org\", \"Sector(s)\": \"PreK-12\", \"Primary Essential Function\": \"LC - Study Tools\"}, {\"LP ID\": 98265, \"URL\": \"http://quizlet.com/\", \"Product Name\": \"Quizlet\", \"Provider/Company Name\": \"Quizlet\", \"Sector(s)\": \"PreK-12\", \"Primary Essential Function\": \"LC - Study Tools\"}, {\"LP ID\": 80144, \"URL\": \"https://www.quora.com/\", \"Product Name\": \"Quora\", \"Provider/Company Name\": \"Quora\", \"Sector(s)\": \"PreK-12; Higher Ed; Corporate\", \"Primary Essential Function\": \"LC - Study Tools - Q&A\"}, {\"LP ID\": 83862, \"URL\": \"http://www.raz-kids.com/\", \"Product Name\": \"Raz-Kids\", \"Provider/Company Name\": \"Learning A-Z\", \"Sector(s)\": \"PreK-12\", \"Primary Essential Function\": \"LC - Digital Learning Platforms\"}, {\"LP ID\": 64915, \"URL\": \"http://www.readworks.org/\", \"Product Name\": \"ReadWorks\", \"Provider/Company Name\": \"ReadWorks\", \"Sector(s)\": \"PreK-12\", \"Primary Essential Function\": \"LC - Digital Learning Platforms\"}, {\"LP ID\": 55355, \"URL\": \"http://www.readwritethink.org/\", \"Product Name\": \"ReadWriteThink\", \"Provider/Company Name\": \"ReadWriteThink.org\", \"Sector(s)\": \"PreK-12\", \"Primary Essential Function\": \"LC - Sites, Resources & Reference\"}, {\"LP ID\": 84007, \"URL\": \"http://www.readinga-z.com\", \"Product Name\": \"Reading A-Z\", \"Provider/Company Name\": \"Learning A-Z\", \"Sector(s)\": \"PreK-12\", \"Primary Essential Function\": \"LC - Courseware & Textbooks\"}, {\"LP ID\": 95859, \"URL\": \"http://remind.com/\", \"Product Name\": \"Remind\", \"Provider/Company Name\": \"Remind101\", \"Sector(s)\": \"PreK-12\", \"Primary Essential Function\": \"CM - Classroom Engagement & Instruction - Communication & Messaging\"}, {\"LP ID\": 64998, \"URL\": \"http://web.stmath.com/\", \"Product Name\": \"ST Math\", \"Provider/Company Name\": \"MIND Research Institute\", \"Sector(s)\": \"PreK-12\", \"Primary Essential Function\": \"LC - Digital Learning Platforms\"}, {\"LP ID\": 56218, \"URL\": \"http://www.schoolloop.com/\", \"Product Name\": \"School Loop\", \"Provider/Company Name\": \"School Loop\", \"Sector(s)\": \"PreK-12\", \"Primary Essential Function\": \"SDO - Data, Analytics & Reporting - Site Hosting & Data Warehousing\"}, {\"LP ID\": 49094, \"URL\": \"http://www.schooltube.com/\", \"Product Name\": \"SchoolTube\", \"Provider/Company Name\": \"SchoolTube\", \"Sector(s)\": \"PreK-12; Higher Ed\", \"Primary Essential Function\": \"CM - Classroom Engagement & Instruction - Classroom Management\"}, {\"LP ID\": 54550, \"URL\": \"http://www.schoolnet.com/\", \"Product Name\": \"Schoolnet\", \"Provider/Company Name\": \"Savvas Learning Company | Formerly Pearson K12 Learning\", \"Sector(s)\": \"PreK-12\", \"Primary Essential Function\": \"LC - Digital Learning Platforms\"}, {\"LP ID\": 20069, \"URL\": \"http://www.schoology.com/\", \"Product Name\": \"Schoology\", \"Provider/Company Name\": \"Schoology\", \"Sector(s)\": \"PreK-12\", \"Primary Essential Function\": \"SDO - Learning Management Systems (LMS)\"}, {\"LP ID\": 93256, \"URL\": \"http://www.nature.com/scitable\", \"Product Name\": \"Scitable\", \"Provider/Company Name\": \"Nature America, Inc\", \"Sector(s)\": \"PreK-12; Higher Ed\", \"Primary Essential Function\": \"LC - Sites, Resources & Reference - Digital Collection & Repository\"}, {\"LP ID\": 71805, \"URL\": \"http://scratch.mit.edu/\", \"Product Name\": \"Scratch\", \"Provider/Company Name\": \"MIT Media Lab\", \"Sector(s)\": \"PreK-12\", \"Primary Essential Function\": \"LC - Content Creation & Curation\"}, {\"LP ID\": 50580, \"URL\": \"http://securly.com/\", \"Product Name\": \"Securly Anywhere Filter\", \"Provider/Company Name\": \"Securly Inc \", \"Sector(s)\": \"PreK-12\", \"Primary Essential Function\": \"SDO - School Management Software - Mobile Device Management\"}, {\"LP ID\": 56028, \"URL\": \"http://www.shmoop.com\", \"Product Name\": \"Shmoop\", \"Provider/Company Name\": \"Shmoop University, Inc\", \"Sector(s)\": \"PreK-12\", \"Primary Essential Function\": \"LC - Study Tools\"}, {\"LP ID\": 12803, \"URL\": \"http://www.slideshare.net/\", \"Product Name\": \"SlideShare\", \"Provider/Company Name\": \"LinkedIn\", \"Sector(s)\": \"PreK-12; Higher Ed\", \"Primary Essential Function\": \"LC - Sites, Resources & Reference\"}, {\"LP ID\": 30593, \"URL\": \"http://www.socrative.com/\", \"Product Name\": \"Socrative\", \"Provider/Company Name\": \"Showbie Inc \", \"Sector(s)\": \"PreK-12\", \"Primary Essential Function\": \"LC - Digital Learning Platforms\"}, {\"LP ID\": 54827, \"URL\": \"http://www.soundcloud.com\", \"Product Name\": \"SoundCloud\", \"Provider/Company Name\": \"SoundCloud\", \"Sector(s)\": \"PreK-12; Higher Ed; Corporate\", \"Primary Essential Function\": \"LC - Sites, Resources & Reference - Streaming Services\"}, {\"LP ID\": 85072, \"URL\": \"http://www.space.com/\", \"Product Name\": \"Space.com\", \"Provider/Company Name\": \"Purch\", \"Sector(s)\": \"PreK-12; Higher Ed\", \"Primary Essential Function\": \"LC - Sites, Resources & Reference\"}, {\"LP ID\": 49751, \"URL\": \"http://www.sparknotes.com\", \"Product Name\": \"SparkNotes\", \"Provider/Company Name\": \"SparkNotes\", \"Sector(s)\": \"PreK-12; Higher Ed\", \"Primary Essential Function\": \"LC - Study Tools\"}, {\"LP ID\": 55450, \"URL\": \"https://apps.apple.com/us/app/spotify-music-and-podcasts/id324684580?ign-mpt=uo%3D4\", \"Product Name\": \"Spotify: Music and podcasts\", \"Provider/Company Name\": \"Spotify Ltd\", \"Sector(s)\": \"PreK-12; Higher Ed; Corporate\", \"Primary Essential Function\": \"LC - Sites, Resources & Reference - Streaming Services\"}, {\"LP ID\": 64838, \"URL\": \"http://www.starfall.com/\", \"Product Name\": \"Starfall\", \"Provider/Company Name\": \"Starfall Education\", \"Sector(s)\": \"PreK-12\", \"Primary Essential Function\": \"LC - Sites, Resources & Reference - Games & Simulations\"}, {\"LP ID\": 39841, \"URL\": \"http://studyjams.scholastic.com\", \"Product Name\": \"StudyJams!\", \"Provider/Company Name\": \"Scholastic Inc\", \"Sector(s)\": \"PreK-12\", \"Primary Essential Function\": \"LC - Sites, Resources & Reference\"}, {\"LP ID\": 58986, \"URL\": \"http://www.tolerance.org/\", \"Product Name\": \"Learning for Justice\", \"Provider/Company Name\": \"Southern Poverty Law Center\", \"Sector(s)\": \"PreK-12\", \"Primary Essential Function\": \"LC - Sites, Resources & Reference\"}, {\"LP ID\": 94264, \"URL\": \"http://www.physicsclassroom.com/\", \"Product Name\": \"The Physics Classroom\", \"Provider/Company Name\": \"Physics Classroom, LLC\", \"Sector(s)\": \"PreK-12; Higher Ed\", \"Primary Essential Function\": \"LC - Sites, Resources & Reference\"}, {\"LP ID\": 86059, \"URL\": \"http://thesaurus.com/\", \"Product Name\": \"Thesaurus.com\", \"Provider/Company Name\": \"Dictionary.com\", \"Sector(s)\": \"PreK-12; Higher Ed; Corporate\", \"Primary Essential Function\": \"LC - Sites, Resources & Reference - Thesaurus & Dictionary\"}, {\"LP ID\": 78586, \"URL\": \"http://www.thinglink.com\", \"Product Name\": \"ThingLink\", \"Provider/Company Name\": \"ThingLink\", \"Sector(s)\": \"PreK-12; Higher Ed; Corporate\", \"Primary Essential Function\": \"LC - Content Creation & Curation\"}, {\"LP ID\": 14124, \"URL\": \"http://www.tumblr.com/\", \"Product Name\": \"Tumblr\", \"Provider/Company Name\": \"Tumblr \", \"Sector(s)\": \"PreK-12; Higher Ed\", \"Primary Essential Function\": \"LC/CM/SDO - Other\"}, {\"LP ID\": 73323, \"URL\": \"http://turnitin.com/\", \"Product Name\": \"Turnitin\", \"Provider/Company Name\": \"Turnitin\", \"Sector(s)\": \"PreK-12; Higher Ed\", \"Primary Essential Function\": \"CM - Teacher Resources - Grading & Attendance\"}, {\"LP ID\": 41581, \"URL\": \"http://www.tynker.com/\", \"Product Name\": \"Tynker\", \"Provider/Company Name\": \"Neuron Fuel\", \"Sector(s)\": \"PreK-12\", \"Primary Essential Function\": \"LC - Digital Learning Platforms\"}, {\"LP ID\": 93742, \"URL\": \"http://www.typingclub.com\", \"Product Name\": \"TypingClub\", \"Provider/Company Name\": \"TypingClub\", \"Sector(s)\": \"PreK-12; Higher Ed; Corporate\", \"Primary Essential Function\": \"LC - Digital Learning Platforms\"}, {\"LP ID\": 75451, \"URL\": \"http://www.ushmm.org/\", \"Product Name\": \"United States Holocaust Memorial Museum\", \"Provider/Company Name\": \"US Holocaust Museum\", \"Sector(s)\": \"PreK-12; Higher Ed\", \"Primary Essential Function\": \"LC - Sites, Resources & Reference\"}, {\"LP ID\": 26753, \"URL\": \"http://vimeo.com/\", \"Product Name\": \"Vimeo\", \"Provider/Company Name\": \"Vimeo\", \"Sector(s)\": \"PreK-12; Higher Ed; Corporate\", \"Primary Essential Function\": \"LC - Content Creation & Curation\"}, {\"LP ID\": 14769, \"URL\": \"http://www.spellingcity.com/\", \"Product Name\": \"Vocabulary Spelling City\", \"Provider/Company Name\": \"VocabularySpellingCity\", \"Sector(s)\": \"PreK-12\", \"Primary Essential Function\": \"LC - Digital Learning Platforms\"}, {\"LP ID\": 94324, \"URL\": \"http://www.wevideo.com/education\", \"Product Name\": \"WeVideo for Schools\", \"Provider/Company Name\": \"WeVideo, Inc.\", \"Sector(s)\": \"PreK-12; Higher Ed; Corporate\", \"Primary Essential Function\": \"LC - Content Creation & Curation\"}, {\"LP ID\": 32050, \"URL\": \"https://www.webex.com/\", \"Product Name\": \"WebEx\", \"Provider/Company Name\": \"Cisco\", \"Sector(s)\": \"PreK-12; Higher Ed; Corporate\", \"Primary Essential Function\": \"CM - Virtual Classroom - Video Conferencing & Screen Sharing\"}, {\"LP ID\": 13699, \"URL\": \"http://www.weebly.com\", \"Product Name\": \"Weebly\", \"Provider/Company Name\": \"Weebly\", \"Sector(s)\": \"Corporate\", \"Primary Essential Function\": \"SDO - Data, Analytics & Reporting\"}, {\"LP ID\": 68490, \"URL\": \"http://commons.wikimedia.org/\", \"Product Name\": \"Wikimedia Commons\", \"Provider/Company Name\": \"The Wikimedia Foundation\", \"Sector(s)\": \"PreK-12; Higher Ed; Corporate\", \"Primary Essential Function\": \"LC - Sites, Resources & Reference - Digital Collection & Repository\"}, {\"LP ID\": 13496, \"URL\": \"http://www.wikipedia.org/\", \"Product Name\": \"Wikipedia\", \"Provider/Company Name\": \"The Wikimedia Foundation\", \"Sector(s)\": \"PreK-12; Higher Ed; Corporate\", \"Primary Essential Function\": \"LC - Sites, Resources & Reference - Encyclopedia\"}, {\"LP ID\": 25793, \"URL\": \"http://www.wix.com/\", \"Product Name\": \"Wix\", \"Provider/Company Name\": \"Wix.com, Inc\", \"Sector(s)\": \"PreK-12; Higher Ed; Corporate\", \"Primary Essential Function\": \"SDO - Data, Analytics & Reporting - Site Hosting & Data Warehousing\"}, {\"LP ID\": 69429, \"URL\": \"http://wordpress.com/\", \"Product Name\": \"WordPress\", \"Provider/Company Name\": \"WordPress\", \"Sector(s)\": \"PreK-12; Higher Ed; Corporate\", \"Primary Essential Function\": \"SDO - Data, Analytics & Reporting - Site Hosting & Data Warehousing\"}, {\"LP ID\": 24744, \"URL\": \"http://worldbookonline.com/\", \"Product Name\": \"World Book Online\", \"Provider/Company Name\": \"World Book, Inc\", \"Sector(s)\": \"PreK-12; Higher Ed\", \"Primary Essential Function\": \"LC - Sites, Resources & Reference - Encyclopedia\"}, {\"LP ID\": 11406, \"URL\": \"http://www.wyzant.com\", \"Product Name\": \"WyzAnt\", \"Provider/Company Name\": \"WyzAnt\", \"Sector(s)\": \"PreK-12\", \"Primary Essential Function\": \"LC - Study Tools - Tutoring\"}, {\"LP ID\": 61384, \"URL\": \"http://www.xtramath.org/\", \"Product Name\": \"XtraMath\", \"Provider/Company Name\": \"XtraMath\", \"Sector(s)\": \"PreK-12\", \"Primary Essential Function\": \"LC - Digital Learning Platforms\"}, {\"LP ID\": 61292, \"URL\": \"http://www.youtube.com\", \"Product Name\": \"YouTube\", \"Provider/Company Name\": \"Google LLC\", \"Sector(s)\": \"PreK-12; Higher Ed; Corporate\", \"Primary Essential Function\": \"LC - Sites, Resources & Reference - Streaming Services\"}, {\"LP ID\": 93690, \"URL\": \"http://www.calculator.com\", \"Product Name\": \"Calculator.com\", \"Provider/Company Name\": \"Calculator.com\", \"Sector(s)\": \"PreK-12; Higher Ed; Corporate\", \"Primary Essential Function\": \"LC - Sites, Resources & Reference\"}, {\"LP ID\": 61441, \"URL\": \"http://www.i-ready.com/\", \"Product Name\": \"i-Ready\", \"Provider/Company Name\": \"Curriculum Associates\", \"Sector(s)\": \"PreK-12\", \"Primary Essential Function\": \"LC - Digital Learning Platforms\"}, {\"LP ID\": 17182, \"URL\": \"http://www.icivics.org/\", \"Product Name\": \"iCivics\", \"Provider/Company Name\": \"iCivics Inc\", \"Sector(s)\": \"PreK-12\", \"Primary Essential Function\": \"LC - Sites, Resources & Reference\"}, {\"LP ID\": 50724, \"URL\": \"https://www.myon.com/index.html\", \"Product Name\": \"myON Reader\", \"Provider/Company Name\": \"Renaissance Learning\", \"Sector(s)\": \"PreK-12\", \"Primary Essential Function\": \"LC - Digital Learning Platforms\"}, {\"LP ID\": 54794, \"URL\": \"https://www.ets.org/\", \"Product Name\": \"MAPP\", \"Provider/Company Name\": \"Educational Testing Service\", \"Sector(s)\": \"PreK-12; Higher Ed; Corporate\", \"Primary Essential Function\": \"SDO - Large-Scale & Standardized Testing\"}, {\"LP ID\": 63335, \"URL\": \"https://www.mathgames.com/\", \"Product Name\": \"Math Games (MathGames)\", \"Provider/Company Name\": \"TeachMe\", \"Sector(s)\": \"PreK-12\", \"Primary Essential Function\": \"LC - Sites, Resources & Reference - Games & Simulations\"}, {\"LP ID\": 57343, \"URL\": \"http://goformative.com/\", \"Product Name\": \"Formative\", \"Provider/Company Name\": \"Formative\", \"Sector(s)\": \"PreK-12\", \"Primary Essential Function\": \"LC - Digital Learning Platforms\"}, {\"LP ID\": 40928, \"URL\": \"https://www.peardeck.com/\", \"Product Name\": \"Pear Deck\", \"Provider/Company Name\": \"Pear Deck\", \"Sector(s)\": \"PreK-12\", \"Primary Essential Function\": \"LC - Digital Learning Platforms\"}, {\"LP ID\": 58235, \"URL\": \"http://ed.ted.com/\", \"Product Name\": \"TedEd\", \"Provider/Company Name\": \"TED Conferences\", \"Sector(s)\": \"PreK-12; Higher Ed\", \"Primary Essential Function\": \"LC - Sites, Resources & Reference\"}, {\"LP ID\": 32213, \"URL\": \"https://classroom.google.com\", \"Product Name\": \"Google Classroom\", \"Provider/Company Name\": \"Google LLC\", \"Sector(s)\": \"PreK-12; Higher Ed; Corporate\", \"Primary Essential Function\": \"SDO - Learning Management Systems (LMS)\"}, {\"LP ID\": 26696, \"URL\": \"https://www.surveymonkey.com/\", \"Product Name\": \"SurveyMonkey\", \"Provider/Company Name\": \"SurveyMonkey\", \"Sector(s)\": \"PreK-12; Higher Ed; Corporate\", \"Primary Essential Function\": \"CM - Classroom Engagement & Instruction - Assessment & Classroom Response\"}, {\"LP ID\": 49571, \"URL\": \"http://www.education.com/\", \"Product Name\": \"Education.com\", \"Provider/Company Name\": \"Education.com\", \"Sector(s)\": \"PreK-12\", \"Primary Essential Function\": \"LC - Sites, Resources & Reference\"}, {\"LP ID\": 25585, \"URL\": \"http://www.heinemann.com/fountasandpinnell/lli_overview.aspx\", \"Product Name\": \"Leveled Literacy Intervention\", \"Provider/Company Name\": \"Houghton Mifflin Harcourt\", \"Sector(s)\": \"PreK-12\", \"Primary Essential Function\": \"LC - Courseware & Textbooks\"}, {\"LP ID\": 59304, \"URL\": \"http://www.weareteachers.com/\", \"Product Name\": \"WeAreTeachers\", \"Provider/Company Name\": \"WeAreTeachers\", \"Sector(s)\": \"PreK-12\", \"Primary Essential Function\": \"CM - Teacher Resources - Lesson Planning\"}, {\"LP ID\": 78662, \"URL\": \"https://www.teachervision.com/\", \"Product Name\": \"TeacherVision\", \"Provider/Company Name\": \"Sandbox Networks\", \"Sector(s)\": \"PreK-12\", \"Primary Essential Function\": \"CM - Teacher Resources - Lesson Planning\"}, {\"LP ID\": 65277, \"URL\": \"https://www.teacherspayteachers.com/\", \"Product Name\": \"TeachersPayTeachers\", \"Provider/Company Name\": \"TEACHERSPAYTEACHERS\", \"Sector(s)\": \"PreK-12\", \"Primary Essential Function\": \"CM - Teacher Resources - Lesson Planning\"}, {\"LP ID\": 34887, \"URL\": \"http://www.naviance.com/\", \"Product Name\": \"Naviance\", \"Provider/Company Name\": \"Hobsons\", \"Sector(s)\": \"PreK-12\", \"Primary Essential Function\": \"LC - Career Planning & Job Search\"}, {\"LP ID\": 91030, \"URL\": \"http://brainly.com/\", \"Product Name\": \"Brainly\", \"Provider/Company Name\": \"Brainly\", \"Sector(s)\": \"PreK-12\", \"Primary Essential Function\": \"LC - Study Tools - Q&A\"}, {\"LP ID\": 78063, \"URL\": \"https://www.classlink.com/\", \"Product Name\": \"ClassLink\", \"Provider/Company Name\": \"ClassLink\", \"Sector(s)\": \"PreK-12; Higher Ed\", \"Primary Essential Function\": \"SDO - School Management Software - SSO\"}, {\"LP ID\": 35237, \"URL\": \"http://www.sharpschool.com/\", \"Product Name\": \"Sharp School\", \"Provider/Company Name\": \"SharpSchool\", \"Sector(s)\": \"PreK-12\", \"Primary Essential Function\": \"SDO - Data, Analytics & Reporting - Site Hosting & Data Warehousing\"}, {\"LP ID\": 37153, \"URL\": \"https://www.zearn.org/\", \"Product Name\": \"Zearn\", \"Provider/Company Name\": \"Zearn\", \"Sector(s)\": \"PreK-12\", \"Primary Essential Function\": \"LC - Digital Learning Platforms\"}, {\"LP ID\": 67035, \"URL\": \"http://www.commonlit.org/\", \"Product Name\": \"CommonLit\", \"Provider/Company Name\": \"CommonLit\", \"Sector(s)\": \"PreK-12\", \"Primary Essential Function\": \"LC - Digital Learning Platforms\"}, {\"LP ID\": 76229, \"URL\": \"http://www.readtheory.org/\", \"Product Name\": \"Read Theory\", \"Provider/Company Name\": \"Read Theory\", \"Sector(s)\": \"PreK-12\", \"Primary Essential Function\": \"LC - Digital Learning Platforms\"}, {\"LP ID\": 52615, \"URL\": \"http://mysteryscience.com/\", \"Product Name\": \"Mystery Science\", \"Provider/Company Name\": \"Mystery Science, Inc\", \"Sector(s)\": \"PreK-12\", \"Primary Essential Function\": \"LC - Sites, Resources & Reference\"}, {\"LP ID\": 24120, \"URL\": \"http://www.edulastic.com/\", \"Product Name\": \"Edulastic\", \"Provider/Company Name\": \"Edulastic\", \"Sector(s)\": \"PreK-12\", \"Primary Essential Function\": \"LC - Digital Learning Platforms\"}, {\"LP ID\": 55032, \"URL\": \"http://www.ascd.org/professional-development.aspx\", \"Product Name\": \"ASCD Professional Development Tools\", \"Provider/Company Name\": \"Association for Supervision and Curriculum Development\", \"Sector(s)\": \"PreK-12\", \"Primary Essential Function\": \"CM - Teacher Resources - Professional Learning\"}, {\"LP ID\": 50692, \"URL\": \"https://www.schoolmessenger.com\", \"Product Name\": \"SchoolMessenger\", \"Provider/Company Name\": \"West Corporation\", \"Sector(s)\": \"PreK-12\", \"Primary Essential Function\": \"CM - Classroom Engagement & Instruction - Communication & Messaging\"}, {\"LP ID\": 73952, \"URL\": \"http://www.mheducation.com\", \"Product Name\": \"McGraw-Hill Education\", \"Provider/Company Name\": \"McGraw-Hill PreK-12\", \"Sector(s)\": \"PreK-12; Higher Ed\", \"Primary Essential Function\": \"LC - Courseware & Textbooks\"}, {\"LP ID\": 81236, \"URL\": \"https://www.box.com/\", \"Product Name\": \"Box\", \"Provider/Company Name\": \"Box\", \"Sector(s)\": \"PreK-12; Higher Ed; Corporate\", \"Primary Essential Function\": \"LC/CM/SDO - Other\"}, {\"LP ID\": 28525, \"URL\": \"https://www.renaissance.com\", \"Product Name\": \"Renaissance Learning\", \"Provider/Company Name\": \"Renaissance Learning\", \"Sector(s)\": \"PreK-12\", \"Primary Essential Function\": \"LC - Digital Learning Platforms\"}, {\"LP ID\": 71275, \"URL\": \"http://wistia.com/\", \"Product Name\": \"Wistia\", \"Provider/Company Name\": \"Wistia\", \"Sector(s)\": \"PreK-12; Higher Ed; Corporate\", \"Primary Essential Function\": \"LC - Content Creation & Curation\"}, {\"LP ID\": 67431, \"URL\": \"http://www.autodesk.com\", \"Product Name\": \"Autodesk\", \"Provider/Company Name\": \" Autodesk, Inc\", \"Sector(s)\": \"PreK-12; Higher Ed; Corporate\", \"Primary Essential Function\": \"LC - Content Creation & Curation\"}, {\"LP ID\": 43149, \"URL\": \"http://contentkeeper.com/\", \"Product Name\": \"ContentKeeper\", \"Provider/Company Name\": \"ContentKeeper Technologies\", \"Sector(s)\": \"PreK-12; Higher Ed; Corporate\", \"Primary Essential Function\": \"SDO - School Management Software - Mobile Device Management\"}, {\"LP ID\": 57293, \"URL\": \"http://www.worldcampus.psu.edu\", \"Product Name\": \"Penn State World Campus\", \"Provider/Company Name\": \"The Pennsylvania State Universtity\", \"Sector(s)\": \"PreK-12; Higher Ed\", \"Primary Essential Function\": \"LC - Online Course Providers & Technical Skills Development\"}, {\"LP ID\": 85682, \"URL\": \"http://www.qualtrics.com\", \"Product Name\": \"Qualtrics\", \"Provider/Company Name\": \"Qualtrics\", \"Sector(s)\": \"Higher Ed; Corporate\", \"Primary Essential Function\": \"SDO - Data, Analytics & Reporting\"}, {\"LP ID\": 10533, \"URL\": \"http://www.scholastic.com\", \"Product Name\": \"Scholastic\", \"Provider/Company Name\": \"Scholastic Inc\", \"Sector(s)\": \"PreK-12\", \"Primary Essential Function\": \"LC - Sites, Resources & References - Learning Materials & Supplies\"}, {\"LP ID\": 88885, \"URL\": \"http://lumenlearning.com/\", \"Product Name\": \"Lumen Learning\", \"Provider/Company Name\": \"Lumen Learning\", \"Sector(s)\": \"PreK-12; Higher Ed; Corporate\", \"Primary Essential Function\": \"LC - Online Course Providers & Technical Skills Development\"}, {\"LP ID\": 29286, \"URL\": \"http://socratic.org\", \"Product Name\": \"Socratic\", \"Provider/Company Name\": \"Vespr\", \"Sector(s)\": \"PreK-12; Higher Ed\", \"Primary Essential Function\": \"LC - Study Tools - Q&A\"}, {\"LP ID\": 94058, \"URL\": \"https://www.coursehero.com/\", \"Product Name\": \"Course Hero\", \"Provider/Company Name\": \"Course Hero\", \"Sector(s)\": \"PreK-12; Higher Ed\", \"Primary Essential Function\": \"LC - Study Tools\"}, {\"LP ID\": 78818, \"URL\": \"http://www.enotes.com/\", \"Product Name\": \"eNotes\", \"Provider/Company Name\": \"Enotes.com\", \"Sector(s)\": \"PreK-12; Higher Ed\", \"Primary Essential Function\": \"LC - Study Tools - Q&A\"}, {\"LP ID\": 48625, \"URL\": \"http://www.culturegrams.com/\", \"Product Name\": \"CultureGrams\", \"Provider/Company Name\": \"ProQuest\", \"Sector(s)\": \"PreK-12; Higher Ed\", \"Primary Essential Function\": \"LC - Sites, Resources & Reference - Digital Collection & Repository\"}, {\"LP ID\": 22741, \"URL\": \"http://tes.com\", \"Product Name\": \"TES\", \"Provider/Company Name\": \" Tes Global Ltd \", \"Sector(s)\": \"PreK-12; Higher Ed\", \"Primary Essential Function\": \"SDO - Human Resources\"}, {\"LP ID\": 61945, \"URL\": \"https://zoom.us/\", \"Product Name\": \"Zoom\", \"Provider/Company Name\": \"ZOOM VIDEO COMMUNICATIONS, INC.\", \"Sector(s)\": \"PreK-12; Higher Ed; Corporate\", \"Primary Essential Function\": \"CM - Virtual Classroom - Video Conferencing & Screen Sharing\"}, {\"LP ID\": 91165, \"URL\": \"http://www.mobymax.com/\", \"Product Name\": \"MobyMax\", \"Provider/Company Name\": \"MobyMax\", \"Sector(s)\": \"PreK-12\", \"Primary Essential Function\": \"LC - Digital Learning Platforms\"}, {\"LP ID\": 65797, \"URL\": \"https://chrome.google.com/webstore/detail/google-drawings/mkaakpdehdafacodkgkpghoibnmamcme?hl=en-US\", \"Product Name\": \"Google Drawings\", \"Provider/Company Name\": \"Google LLC\", \"Sector(s)\": \"PreK-12; Higher Ed; Corporate\", \"Primary Essential Function\": \"LC - Content Creation & Curation\"}, {\"LP ID\": 76214, \"URL\": \"http://quizizz.com/\", \"Product Name\": \"Quizizz\", \"Provider/Company Name\": \"Quizizz\", \"Sector(s)\": \"PreK-12; Higher Ed; Corporate\", \"Primary Essential Function\": \"LC - Study Tools\"}, {\"LP ID\": 64850, \"URL\": \"https://calendly.com/\", \"Product Name\": \"Calendly\", \"Provider/Company Name\": \"Calendly\", \"Sector(s)\": \"PreK-12; Higher Ed; Corporate\", \"Primary Essential Function\": \"CM - Classroom Engagement & Instruction - Classroom Management\"}, {\"LP ID\": 76122, \"URL\": \"https://canva.com/\", \"Product Name\": \"Canva\", \"Provider/Company Name\": \"Canva\", \"Sector(s)\": \"PreK-12; Higher Ed; Corporate\", \"Primary Essential Function\": \"LC - Content Creation & Curation\"}, {\"LP ID\": 19334, \"URL\": \"http://www.enchantedlearning.com/\", \"Product Name\": \"Enchanted Learning\", \"Provider/Company Name\": \"Enchanted Learning\", \"Sector(s)\": \"PreK-12\", \"Primary Essential Function\": \"LC - Sites, Resources & Reference\"}, {\"LP ID\": 70740, \"URL\": \"https://screencast-o-matic.com/\", \"Product Name\": \"Screencast-O-Matic\", \"Provider/Company Name\": \"Screencast-O-Matic\", \"Sector(s)\": \"PreK-12; Higher Ed; Corporate\", \"Primary Essential Function\": \"LC - Content Creation & Curation\"}, {\"LP ID\": 39004, \"URL\": \"http://www.tumblebooklibrary.com\", \"Product Name\": \"TumbleBooks\", \"Provider/Company Name\": \"TumbleBooks\", \"Sector(s)\": \"PreK-12\", \"Primary Essential Function\": \"LC - Sites, Resources & Reference - Digital Collection & Repository\"}, {\"LP ID\": 72676, \"URL\": \"https://www.kamiapp.com/\", \"Product Name\": \"Kami\", \"Provider/Company Name\": \"Kami Limited\", \"Sector(s)\": \"PreK-12\", \"Primary Essential Function\": \"LC - Digital Learning Platforms\"}, {\"LP ID\": 11585, \"URL\": \"https://www-k6.thinkcentral.com/ePC/start.do\", \"Product Name\": \"Think Central\", \"Provider/Company Name\": \"Houghton Mifflin Harcourt\", \"Sector(s)\": \"PreK-12\", \"Primary Essential Function\": \"LC - Digital Learning Platforms\"}, {\"LP ID\": 74653, \"URL\": \"https://www.studiesweekly.com\", \"Product Name\": \"Studies Weekly\", \"Provider/Company Name\": \"Studies Weekly\", \"Sector(s)\": \"PreK-12\", \"Primary Essential Function\": \"LC - Courseware & Textbooks\"}, {\"LP ID\": 28456, \"URL\": \"http://www.smartmusic.com\", \"Product Name\": \"SmartMusic\", \"Provider/Company Name\": \"MakeMusic, Inc.\", \"Sector(s)\": \"PreK-12; Higher Ed\", \"Primary Essential Function\": \"LC - Study Tools\"}, {\"LP ID\": 60051, \"URL\": \"https://www.bigideasmath.com\", \"Product Name\": \"Big Ideas Math\", \"Provider/Company Name\": \"Big Ideas Learning\", \"Sector(s)\": \"PreK-12\", \"Primary Essential Function\": \"LC - Courseware & Textbooks\"}, {\"LP ID\": 46123, \"URL\": \"https://www.collegeboard.org/\", \"Product Name\": \"College Board\", \"Provider/Company Name\": \"The College Board\", \"Sector(s)\": \"PreK-12\", \"Primary Essential Function\": \"SDO - Large-Scale & Standardized Testing\"}, {\"LP ID\": 24342, \"URL\": \"https://www.ebscohost.com/academic/ap-images-collection\", \"Product Name\": \"AP Images Collection\", \"Provider/Company Name\": \"EBSCO Industries, Inc\", \"Sector(s)\": \"PreK-12; Higher Ed\", \"Primary Essential Function\": \"LC - Sites, Resources & Reference - Digital Collection & Repository\"}, {\"LP ID\": 89267, \"URL\": \"http://www.wiley.com\", \"Product Name\": \"Wiley\", \"Provider/Company Name\": \"John Wiley and Sons Inco\", \"Sector(s)\": \"PreK-12; Higher Ed; Corporate\", \"Primary Essential Function\": \"LC - Courseware & Textbooks\"}, {\"LP ID\": 50168, \"URL\": \"http://www.hmhco.com\", \"Product Name\": \"Houghton Mifflin Harcourt\", \"Provider/Company Name\": \"Houghton Mifflin Harcourt\", \"Sector(s)\": \"PreK-12; Higher Ed\", \"Primary Essential Function\": \"LC - Courseware & Textbooks\"}, {\"LP ID\": 89688, \"URL\": \"http://www.teachtci.com\", \"Product Name\": \"Teach TCI\", \"Provider/Company Name\": \"Teach TCI\", \"Sector(s)\": \"PreK-12\", \"Primary Essential Function\": \"LC - Courseware & Textbooks\"}, {\"LP ID\": 97209, \"URL\": \"https://spark.adobe.com\", \"Product Name\": \"Adobe Spark\", \"Provider/Company Name\": \"Adobe Inc.\", \"Sector(s)\": \"PreK-12; Higher Ed; Corporate\", \"Primary Essential Function\": \"LC - Content Creation & Curation\"}, {\"LP ID\": 79673, \"URL\": \"https://www.zendesk.com/\", \"Product Name\": \"Zendesk\", \"Provider/Company Name\": \"Zendesk\", \"Sector(s)\": \"PreK-12; Higher Ed; Corporate\", \"Primary Essential Function\": \"SDO - Human Resources\"}, {\"LP ID\": 18982, \"URL\": \"https://www.gotomeeting.com/\", \"Product Name\": \"GoToMeeting\", \"Provider/Company Name\": \"LogMeIn\", \"Sector(s)\": \"PreK-12; Higher Ed; Corporate\", \"Primary Essential Function\": \"CM - Virtual Classroom - Video Conferencing & Screen Sharing\"}, {\"LP ID\": 70167, \"URL\": \"https://www.microsoft.com/en-us/download/details.aspx?id=23714\", \"Product Name\": \"Microsoft XNA Game Studio\", \"Provider/Company Name\": \"Microsoft\", \"Sector(s)\": \"PreK-12; Higher Ed; Corporate\", \"Primary Essential Function\": \"LC - Content Creation & Curation\"}, {\"LP ID\": 49521, \"URL\": \"http://www.hp.com/\", \"Product Name\": \"HP\", \"Provider/Company Name\": \"Hewlett-Packard\", \"Sector(s)\": \"PreK-12; Higher Ed; Corporate\", \"Primary Essential Function\": \"LC/CM/SDO - Other\"}, {\"LP ID\": 21298, \"URL\": \"https://www.explorelearning.com/index.cfm?method=cCorp.dspAbout\", \"Product Name\": \"ExploreLearning Gizmos\", \"Provider/Company Name\": \"ExploreLearning, LLC\", \"Sector(s)\": \"PreK-12\", \"Primary Essential Function\": \"LC - Digital Learning Platforms\"}, {\"LP ID\": 24829, \"URL\": \"http://www.utahcompose.com/\", \"Product Name\": \"Utah Compose\", \"Provider/Company Name\": \"Measurement Incorporated \", \"Sector(s)\": \"PreK-12\", \"Primary Essential Function\": \"LC - Study Tools\"}, {\"LP ID\": 52196, \"URL\": \"https://jr.brainpop.com/\", \"Product Name\": \"BrainPOP Jr.\", \"Provider/Company Name\": \"BrainPOP LLC\", \"Sector(s)\": \"PreK-12\", \"Primary Essential Function\": \"LC - Digital Learning Platforms\"}, {\"LP ID\": 45601, \"URL\": \"https://www.pearsonrealize.com/#/\", \"Product Name\": \"Savvas Realize\", \"Provider/Company Name\": \"Savvas Learning Company | Formerly Pearson K12 Learning\", \"Sector(s)\": \"PreK-12\", \"Primary Essential Function\": \"SDO - Learning Management Systems (LMS)\"}, {\"LP ID\": 25267, \"URL\": \"http://www.discoveryeducation.com/what-we-offer/techbook-digital-textbooks/science/index.cfm\", \"Product Name\": \"Discovery Education - Science TechBook\", \"Provider/Company Name\": \"Discovery Education\", \"Sector(s)\": \"PreK-12\", \"Primary Essential Function\": \"LC - Digital Learning Platforms\"}, {\"LP ID\": 38871, \"URL\": \"https://gsuite.google.com/\", \"Product Name\": \"Google Workspace\", \"Provider/Company Name\": \"Google LLC\", \"Sector(s)\": \"PreK-12; Higher Ed; Corporate\", \"Primary Essential Function\": \"LC/CM/SDO - Other\"}, {\"LP ID\": 28324, \"URL\": \"http://www.curriculumassociates.com/products/ready-common-core-reading.aspx#.WFG2KfkrJEY\", \"Product Name\": \"i-Ready Reading\", \"Provider/Company Name\": \"Curriculum Associates\", \"Sector(s)\": \"PreK-12\", \"Primary Essential Function\": \"LC - Digital Learning Platforms\"}, {\"LP ID\": 50129, \"URL\": \"https://www.curriculumassociates.com/products/i-ready\", \"Product Name\": \"i-Ready Mathematics\", \"Provider/Company Name\": \"Curriculum Associates\", \"Sector(s)\": \"PreK-12\", \"Primary Essential Function\": \"LC - Digital Learning Platforms\"}, {\"LP ID\": 11069, \"URL\": \"http://www.mrdonn.org/index.html\", \"Product Name\": \"Mr. Donn\", \"Provider/Company Name\": \"mrdonn.org\", \"Sector(s)\": \"PreK-12\", \"Primary Essential Function\": \"LC - Sites, Resources & Reference\"}, {\"LP ID\": 33946, \"URL\": \"http://www.jstor.org/\", \"Product Name\": \"JSTOR\", \"Provider/Company Name\": \"ITHAKA\", \"Sector(s)\": \"PreK-12; Higher Ed; Corporate\", \"Primary Essential Function\": \"LC - Sites, Resources & Reference - Digital Collection & Repository\"}, {\"LP ID\": 87342, \"URL\": \"http://www.litcharts.com/\", \"Product Name\": \"LitCharts\", \"Provider/Company Name\": \"LitCharts LLC\", \"Sector(s)\": \"PreK-12; Higher Ed\", \"Primary Essential Function\": \"LC - Study Tools\"}, {\"LP ID\": 80560, \"URL\": \"https://www.nitrotype.com/\", \"Product Name\": \"Nitro Type\", \"Provider/Company Name\": \"Teaching.com\", \"Sector(s)\": \"PreK-12\", \"Primary Essential Function\": \"LC - Digital Learning Platforms\"}, {\"LP ID\": 92844, \"URL\": \"https://www.typing.com/\", \"Product Name\": \"Typing.com\", \"Provider/Company Name\": \"Teaching.com\", \"Sector(s)\": \"PreK-12; Higher Ed; Corporate\", \"Primary Essential Function\": \"LC - Digital Learning Platforms\"}, {\"LP ID\": 61517, \"URL\": \"http://www.hmhco.com/shop/education-curriculum/world-languages/spanish/avancemos\", \"Product Name\": \"\\u00a1Avancemos!\", \"Provider/Company Name\": \"Houghton Mifflin Harcourt\", \"Sector(s)\": \"PreK-12\", \"Primary Essential Function\": \"LC - Courseware & Textbooks\"}, {\"LP ID\": 96706, \"URL\": \"http://www.cengage.com/s/mindtap-course-list\", \"Product Name\": \"MindTap\", \"Provider/Company Name\": \"Cengage Learning\", \"Sector(s)\": \"PreK-12; Higher Ed\", \"Primary Essential Function\": \"LC - Courseware & Textbooks\"}, {\"LP ID\": 26533, \"URL\": \"https://www.screencastify.com/\", \"Product Name\": \"Screencastify\", \"Provider/Company Name\": \"Screencastify, LLC\", \"Sector(s)\": \"PreK-12\", \"Primary Essential Function\": \"LC - Content Creation & Curation\"}, {\"LP ID\": 68019, \"URL\": \"https://connected.mcgraw-hill.com/connected/login.do\", \"Product Name\": \"ConnectED\", \"Provider/Company Name\": \"McGraw-Hill PreK-12\", \"Sector(s)\": \"PreK-12\", \"Primary Essential Function\": \"LC - Digital Learning Platforms\"}, {\"LP ID\": 28504, \"URL\": \"http://google.com/sheets/about/\", \"Product Name\": \"Google Sheets\", \"Provider/Company Name\": \"Google LLC\", \"Sector(s)\": \"PreK-12; Higher Ed; Corporate\", \"Primary Essential Function\": \"LC/CM/SDO - Other\"}, {\"LP ID\": 86775, \"URL\": \"http://www.wordreference.com\", \"Product Name\": \"WordReference.com\", \"Provider/Company Name\": \"WordReference.com\", \"Sector(s)\": \"PreK-12; Higher Ed; Corporate\", \"Primary Essential Function\": \"LC - Sites, Resources & Reference - Thesaurus & Dictionary\"}, {\"LP ID\": 36692, \"URL\": \"https://www.getepic.com/\", \"Product Name\": \"Epic! - Unlimited Books for Kids\", \"Provider/Company Name\": \"Epic Creations, Inc.\", \"Sector(s)\": \"PreK-12\", \"Primary Essential Function\": \"LC - Digital Learning Platforms\"}, {\"LP ID\": 17941, \"URL\": \"https://www.kidsa-z.com/main/Login\", \"Product Name\": \"Kids A-Z\", \"Provider/Company Name\": \"Lazel Inc.\", \"Sector(s)\": \"PreK-12\", \"Primary Essential Function\": \"LC - Digital Learning Platforms\"}, {\"LP ID\": 78247, \"URL\": \"http://www.fountasandpinnell.com/\", \"Product Name\": \"Fountas & Pinnell\", \"Provider/Company Name\": \"Heinemann, a division of Greenwood Publishing Group LLC\", \"Sector(s)\": \"PreK-12\", \"Primary Essential Function\": \"LC - Courseware & Textbooks\"}, {\"LP ID\": 29790, \"URL\": \"http://www.hoodamath.com/\", \"Product Name\": \"Hooda Math\", \"Provider/Company Name\": \"Hooda Math\", \"Sector(s)\": \"PreK-12\", \"Primary Essential Function\": \"LC - Sites, Resources & Reference - Games & Simulations\"}, {\"LP ID\": 28199, \"URL\": \"https://www.iheart.com/\", \"Product Name\": \"iHeartRadio\", \"Provider/Company Name\": \"iHeartRadio\", \"Sector(s)\": \"PreK-12; Higher Ed; Corporate\", \"Primary Essential Function\": \"LC - Sites, Resources & Reference - Streaming Services\"}, {\"LP ID\": 41675, \"URL\": \"http://onlinelibrary.uen.org/\", \"Product Name\": \"onlinelibrary.uen.org\", \"Provider/Company Name\": \"Utah Education Network\", \"Sector(s)\": \"PreK-12; Higher Ed\", \"Primary Essential Function\": \"LC - Sites, Resources & Reference - Digital Collection & Repository\"}, {\"LP ID\": 11237, \"URL\": \"http://www.online-stopwatch.com/\", \"Product Name\": \"online-stopwatch.com\", \"Provider/Company Name\": \"online-stopwatch.com\", \"Sector(s)\": \"PreK-12; Higher Ed\", \"Primary Essential Function\": \"LC - Sites, Resources & Reference\"}, {\"LP ID\": 15254, \"URL\": \"http://appinventor.mit.edu/explore/\", \"Product Name\": \"MIT App Inventor\", \"Provider/Company Name\": \"Massachusetts Institute of Technology\", \"Sector(s)\": \"PreK-12; Higher Ed; Corporate\", \"Primary Essential Function\": \"LC - Content Creation & Curation\"}, {\"LP ID\": 22856, \"URL\": \"https://www.texthelp.com/en-us/products/fluencytutor/\", \"Product Name\": \"Fluency Tutor\", \"Provider/Company Name\": \"Texthelp, Inc.\", \"Sector(s)\": \"PreK-12\", \"Primary Essential Function\": \"LC - Digital Learning Platforms\"}, {\"LP ID\": 88925, \"URL\": \"https://edu.google.com/expeditions/#about\", \"Product Name\": \"Google Expeditions\", \"Provider/Company Name\": \"Google LLC\", \"Sector(s)\": \"PreK-12; Higher Ed; Corporate\", \"Primary Essential Function\": \"LC - Sites, Resources & Reference - Digital Collection & Repository\"}, {\"LP ID\": 60825, \"URL\": \"http://study.com\", \"Product Name\": \"Study.com\", \"Provider/Company Name\": \"Study.com\", \"Sector(s)\": \"PreK-12; Higher Ed\", \"Primary Essential Function\": \"LC - Digital Learning Platforms\"}, {\"LP ID\": 81654, \"URL\": \"https://www.tinkercad.com/\", \"Product Name\": \"Tinkercad\", \"Provider/Company Name\": \" Autodesk, Inc\", \"Sector(s)\": \"PreK-12; Higher Ed; Corporate\", \"Primary Essential Function\": \"LC - Content Creation & Curation\"}, {\"LP ID\": 42410, \"URL\": \"https://conjuguemos.com/\", \"Product Name\": \"Conjuguemos\", \"Provider/Company Name\": \"Yegros Educational LLC DBA Conjuguemos\", \"Sector(s)\": \"PreK-12\", \"Primary Essential Function\": \"LC - Digital Learning Platforms\"}, {\"LP ID\": 42608, \"URL\": \"https://www.raz-plus.com/\", \"Product Name\": \"Raz-Plus\", \"Provider/Company Name\": \"Learning A-Z\", \"Sector(s)\": \"PreK-12\", \"Primary Essential Function\": \"LC - Courseware & Textbooks\"}, {\"LP ID\": 83118, \"URL\": \"https://www.legendsoflearning.com\", \"Product Name\": \"Legends of Learning\", \"Provider/Company Name\": \"Legends of Learning\", \"Sector(s)\": \"PreK-12\", \"Primary Essential Function\": \"LC - Digital Learning Platforms\"}, {\"LP ID\": 84342, \"URL\": \"https://blindsidenetworks.com/\", \"Product Name\": \"Blindside Networks\", \"Provider/Company Name\": \"Blindside Networks\", \"Sector(s)\": \"PreK-12; Higher Ed; Corporate\", \"Primary Essential Function\": \"SDO - Data, Analytics & Reporting - Site Hosting & Data Warehousing\"}, {\"LP ID\": 10745, \"URL\": \"https://wonderopolis.org\", \"Product Name\": \"Wonderopolis\", \"Provider/Company Name\": \"National Center for Families Learning\", \"Sector(s)\": \"PreK-12\", \"Primary Essential Function\": \"LC - Study Tools - Q&A\"}, {\"LP ID\": 16164, \"URL\": \"https://www.nytimes.com\", \"Product Name\": \"nytimes.com\", \"Provider/Company Name\": \"The New York Times\", \"Sector(s)\": \"PreK-12; Higher Ed; Corporate\", \"Primary Essential Function\": \"LC - Sites, Resources & Reference\"}, {\"LP ID\": 69757, \"URL\": \"https://www.deltamath.com/\", \"Product Name\": \"DeltaMath\", \"Provider/Company Name\": \"DeltaMath\", \"Sector(s)\": \"PreK-12\", \"Primary Essential Function\": \"LC - Digital Learning Platforms\"}, {\"LP ID\": 80473, \"URL\": \"http://www.didax.com/\", \"Product Name\": \"Didax\", \"Provider/Company Name\": \"Didax Education\", \"Sector(s)\": \"PreK-12\", \"Primary Essential Function\": \"LC - Sites, Resources & References - Learning Materials & Supplies\"}, {\"LP ID\": 37479, \"URL\": \"https://www.frontlineeducation.com/\", \"Product Name\": \"Frontline Education\", \"Provider/Company Name\": \"Frontline Education\", \"Sector(s)\": \"PreK-12\", \"Primary Essential Function\": \"SDO - Human Resources\"}, {\"LP ID\": 69706, \"URL\": \"http://www.performancematters.com/\", \"Product Name\": \"PoweSchool Performance Matters\", \"Provider/Company Name\": \"Performance Matters\", \"Sector(s)\": \"PreK-12\", \"Primary Essential Function\": \"CM - Classroom Engagement & Instruction - Assessment & Classroom Response\"}, {\"LP ID\": 44025, \"URL\": \"https://www.soundtrap.com/\", \"Product Name\": \"Soundtrap\", \"Provider/Company Name\": \"Spotify USA Inc\", \"Sector(s)\": \"PreK-12; Higher Ed; Corporate\", \"Primary Essential Function\": \"LC - Content Creation & Curation\"}, {\"LP ID\": 98102, \"URL\": \"https://wow.boomlearning.com/search?collection=Featured\", \"Product Name\": \"Boom Cards by Boom Learning\", \"Provider/Company Name\": \"Boom Learning (a dba of Omega Labs Inc.)\", \"Sector(s)\": \"PreK-12\", \"Primary Essential Function\": \"LC - Digital Learning Platforms\"}, {\"LP ID\": 26407, \"URL\": \"http://www.edmentum.com/products/academy\", \"Product Name\": \"EdOptions Academy\", \"Provider/Company Name\": \"Edmentum\", \"Sector(s)\": \"PreK-12\", \"Primary Essential Function\": \"LC - Online Course Providers & Technical Skills Development\"}, {\"LP ID\": 36859, \"URL\": \"https://www.instagram.com\", \"Product Name\": \"Instagram\", \"Provider/Company Name\": \"Instagram\", \"Sector(s)\": \"PreK-12; Higher Ed; Corporate\", \"Primary Essential Function\": \"LC/CM/SDO - Other\"}, {\"LP ID\": 72468, \"URL\": \"https://outlook.live.com/owa/\", \"Product Name\": \"Microsoft Outlook\", \"Provider/Company Name\": \"Microsoft\", \"Sector(s)\": \"PreK-12; Higher Ed; Corporate\", \"Primary Essential Function\": \"LC/CM/SDO - Other\"}, {\"LP ID\": 83270, \"URL\": \"https://artsandculture.google.com/\", \"Product Name\": \"Google Arts & Culture\", \"Provider/Company Name\": \"Google LLC\", \"Sector(s)\": \"PreK-12; Higher Ed\", \"Primary Essential Function\": \"LC - Sites, Resources & Reference - Digital Collection & Repository\"}, {\"LP ID\": 76661, \"URL\": \"https://www.worldwildlife.org\", \"Product Name\": \"WWF ~ World Wildlife Fund\", \"Provider/Company Name\": \"World Wildlife Fund\", \"Sector(s)\": \"PreK-12; Higher Ed\", \"Primary Essential Function\": \"LC - Sites, Resources & Reference\"}, {\"LP ID\": 13945, \"URL\": \"https://sched.com/\", \"Product Name\": \"Sched\", \"Provider/Company Name\": \"Sched LLC\", \"Sector(s)\": \"PreK-12; Higher Ed; Corporate\", \"Primary Essential Function\": \"CM - Classroom Engagement & Instruction - Classroom Management\"}, {\"LP ID\": 11286, \"URL\": \"https://abcnews.go.com/?cid=marketing_search_ABC%20News%20-%20Branded%20General%20-%20BMM\", \"Product Name\": \"ABC News\", \"Provider/Company Name\": \"ABC digital\", \"Sector(s)\": \"PreK-12; Higher Ed; Corporate\", \"Primary Essential Function\": \"LC - Sites, Resources & Reference\"}, {\"LP ID\": 42725, \"URL\": \"https://www.lexialearning.com/products/core5\", \"Product Name\": \"myLexia\", \"Provider/Company Name\": \"Lexia Learning\", \"Sector(s)\": \"PreK-12\", \"Primary Essential Function\": \"LC - Digital Learning Platforms\"}, {\"LP ID\": 26512, \"URL\": \"https://www.multiplication.com/\", \"Product Name\": \"Multiplication.com\", \"Provider/Company Name\": \"Multiplication.com\", \"Sector(s)\": \"PreK-12\", \"Primary Essential Function\": \"LC - Sites, Resources & Reference - Games & Simulations\"}, {\"LP ID\": 48708, \"URL\": \"http://www.storylineonline.net/\", \"Product Name\": \"Storyline Online\", \"Provider/Company Name\": \"SAG-AFTRA Foundation\", \"Sector(s)\": \"PreK-12\", \"Primary Essential Function\": \"LC - Sites, Resources & Reference\"}, {\"LP ID\": 46819, \"URL\": \"https://www.tes.com/lessons\", \"Product Name\": \"Tes Teach\", \"Provider/Company Name\": \" Tes Global Ltd \", \"Sector(s)\": \"PreK-12\", \"Primary Essential Function\": \"LC - Content Creation & Curation\"}, {\"LP ID\": 79578, \"URL\": \"https://flippity.net/\", \"Product Name\": \"Flippity\", \"Provider/Company Name\": \"Flippity\", \"Sector(s)\": \"PreK-12; Higher Ed\", \"Primary Essential Function\": \"LC - Study Tools\"}, {\"LP ID\": 91873, \"URL\": \"https://www.breakoutedu.com/\", \"Product Name\": \"Breakout EDU\", \"Provider/Company Name\": \"Breakout, Inc\", \"Sector(s)\": \"PreK-12\", \"Primary Essential Function\": \"LC - Digital Learning Platforms\"}, {\"LP ID\": 98468, \"URL\": \"https://gsuite.google.com/products/jamboard/\", \"Product Name\": \"Jamboard\", \"Provider/Company Name\": \"Google LLC\", \"Sector(s)\": \"PreK-12; Higher Ed; Corporate\", \"Primary Essential Function\": \"LC - Content Creation & Curation\"}, {\"LP ID\": 49050, \"URL\": \"https://www.freckle.com/\", \"Product Name\": \"Freckle by Renaissance\", \"Provider/Company Name\": \"Renaissance Learning, Inc.\", \"Sector(s)\": \"PreK-12\", \"Primary Essential Function\": \"LC - Digital Learning Platforms\"}, {\"LP ID\": 16401, \"URL\": \"https://www.pbs.org/\", \"Product Name\": \"PBS\", \"Provider/Company Name\": \"PBS\", \"Sector(s)\": \"PreK-12; Higher Ed; Corporate\", \"Primary Essential Function\": \"LC - Sites, Resources & Reference\"}, {\"LP ID\": 50282, \"URL\": \"https://safeshare.tv/\", \"Product Name\": \"SafeShare\", \"Provider/Company Name\": \"Vitzo Ltd\", \"Sector(s)\": \"PreK-12; Higher Ed\", \"Primary Essential Function\": \"CM - Classroom Engagement & Instruction - Classroom Management\"}, {\"LP ID\": 52758, \"URL\": \"https://www.adobe.com/products/character-animator.html\", \"Product Name\": \"Adobe Character Animator\", \"Provider/Company Name\": \"Adobe Inc.\", \"Sector(s)\": \"PreK-12; Higher Ed; Corporate\", \"Primary Essential Function\": \"LC - Content Creation & Curation\"}, {\"LP ID\": 90153, \"URL\": \"https://www.netflix.com/\", \"Product Name\": \"Netflix\", \"Provider/Company Name\": \"Netflix\", \"Sector(s)\": \"PreK-12; Higher Ed; Corporate\", \"Primary Essential Function\": \"LC - Sites, Resources & Reference - Streaming Services\"}, {\"LP ID\": 77430, \"URL\": \"https://www.canvaslms.com/gauge/\", \"Product Name\": \"Instructure\", \"Provider/Company Name\": \"Instructure, Inc. \", \"Sector(s)\": \"PreK-12; Higher Ed; Corporate\", \"Primary Essential Function\": \"SDO - Learning Management Systems (LMS)\"}, {\"LP ID\": 19184, \"URL\": \"http://pearsoneasybridge.com/\", \"Product Name\": \"Savvas EasyBridge\", \"Provider/Company Name\": \"Savvas Learning Company | Formerly Pearson K12 Learning\", \"Sector(s)\": \"PreK-12\", \"Primary Essential Function\": \"SDO - Admissions, Enrollment & Rostering\"}, {\"LP ID\": 68713, \"URL\": \"http://www.discoveryeducation.com/what-we-offer/techbook-digital-textbooks/math/\", \"Product Name\": \"Discovery Education Math Techbook\", \"Provider/Company Name\": \"Discovery Education\", \"Sector(s)\": \"PreK-12\", \"Primary Essential Function\": \"LC - Courseware & Textbooks\"}, {\"LP ID\": 99580, \"URL\": \"https://loom.com/\", \"Product Name\": \"Loom - Video Recorder: Screen, Webcam and Mic\", \"Provider/Company Name\": \"Loom, Inc\", \"Sector(s)\": \"PreK-12; Higher Ed; Corporate\", \"Primary Essential Function\": \"CM - Virtual Classroom - Video Conferencing & Screen Sharing\"}, {\"LP ID\": 96217, \"URL\": \"https://www.mathlearningcenter.org/\", \"Product Name\": \"The Math Learning Center\", \"Provider/Company Name\": \"The Math Learning Center\", \"Sector(s)\": \"PreK-12\", \"Primary Essential Function\": \"LC - Courseware & Textbooks\"}, {\"LP ID\": 31827, \"URL\": \"https://onedrive.live.com/about/en-us/\", \"Product Name\": \"Microsoft OneDrive\", \"Provider/Company Name\": \"Microsoft\", \"Sector(s)\": \"PreK-12; Higher Ed; Corporate\", \"Primary Essential Function\": \"LC/CM/SDO - Other\"}, {\"LP ID\": 41424, \"URL\": \"https://www.commonapp.org/\", \"Product Name\": \"Common App\", \"Provider/Company Name\": \"The Common Application, Inc.\", \"Sector(s)\": \"PreK-12; Higher Ed\", \"Primary Essential Function\": \"LC - Career Planning & Job Search\"}, {\"LP ID\": 51288, \"URL\": \"https://www.eventbrite.com/\", \"Product Name\": \"Eventbrite\", \"Provider/Company Name\": \"Eventbrite\", \"Sector(s)\": \"PreK-12; Higher Ed; Corporate\", \"Primary Essential Function\": \"LC - Sites, Resources & Reference\"}, {\"LP ID\": 92894, \"URL\": \"https://www.marketwatch.com/\", \"Product Name\": \"MarketWatch\", \"Provider/Company Name\": \"MarketWatch\", \"Sector(s)\": \"PreK-12; Higher Ed; Corporate\", \"Primary Essential Function\": \"LC - Sites, Resources & Reference\"}, {\"LP ID\": 72758, \"URL\": \"https://www.google.com/calendar\", \"Product Name\": \"Google Calendar\", \"Provider/Company Name\": \"Google LLC\", \"Sector(s)\": \"PreK-12; Higher Ed; Corporate\", \"Primary Essential Function\": \"LC/CM/SDO - Other\"}, {\"LP ID\": 49687, \"URL\": \"https://www.snapchat.com/\", \"Product Name\": \"Snapchat\", \"Provider/Company Name\": \"Snap Inc.\", \"Sector(s)\": \"PreK-12; Higher Ed\", \"Primary Essential Function\": \"LC/CM/SDO - Other\"}, {\"LP ID\": 20619, \"URL\": \"https://doodle.com/\", \"Product Name\": \"Doodle\", \"Provider/Company Name\": \"Doodle Ltd\", \"Sector(s)\": \"PreK-12; Higher Ed; Corporate\", \"Primary Essential Function\": \"CM - Classroom Engagement & Instruction - Classroom Management\"}, {\"LP ID\": 63740, \"URL\": \"https://www.generationgenius.com/\", \"Product Name\": \"Generation Genius\", \"Provider/Company Name\": \"Generation Genius, Inc.\", \"Sector(s)\": \"PreK-12\", \"Primary Essential Function\": \"LC - Digital Learning Platforms\"}, {\"LP ID\": 18090, \"URL\": \"https://minecraft.net/en-us/\", \"Product Name\": \"Minecraft\", \"Provider/Company Name\": \"Microsoft\", \"Sector(s)\": \"PreK-12; Higher Ed\", \"Primary Essential Function\": \"LC - Sites, Resources & Reference - Games & Simulations\"}, {\"LP ID\": 45005, \"URL\": \"https://github.com/\", \"Product Name\": \"GitHub\", \"Provider/Company Name\": \"GitHub\", \"Sector(s)\": \"PreK-12; Higher Ed; Corporate\", \"Primary Essential Function\": \"LC - Content Creation & Curation\"}, {\"LP ID\": 77713, \"URL\": \"https://www.gale.com/c/testing-and-education-reference-center\", \"Product Name\": \"Gale Presents: Peterson's Test Prep\", \"Provider/Company Name\": \"Gale Cengage\", \"Sector(s)\": \"PreK-12\", \"Primary Essential Function\": \"LC - Study Tools - Test Prep & Study Skills\"}, {\"LP ID\": 33326, \"URL\": \"https://www.ducksters.com/\", \"Product Name\": \"Ducksters\", \"Provider/Company Name\": \"Technological Solutions, Inc. (TSI)\", \"Sector(s)\": \"PreK-12\", \"Primary Essential Function\": \"LC - Sites, Resources & Reference - Games & Simulations\"}, {\"LP ID\": 50626, \"URL\": \"https://forms.office.com/\", \"Product Name\": \"Microsoft Forms\", \"Provider/Company Name\": \"Microsoft Education\", \"Sector(s)\": \"PreK-12; Higher Ed; Corporate\", \"Primary Essential Function\": \"CM - Classroom Engagement & Instruction - Assessment & Classroom Response\"}, {\"LP ID\": 86294, \"URL\": \"https://www.kiddle.co/\", \"Product Name\": \"Kiddle\", \"Provider/Company Name\": \"Google LLC\", \"Sector(s)\": \"PreK-12\", \"Primary Essential Function\": \"LC - Sites, Resources & Reference - Encyclopedia\"}, {\"LP ID\": 90929, \"URL\": \"https://www.gimkit.com/\", \"Product Name\": \"Gimkit\", \"Provider/Company Name\": \"Gimkit\", \"Sector(s)\": \"PreK-12\", \"Primary Essential Function\": \"LC - Digital Learning Platforms\"}, {\"LP ID\": 28701, \"URL\": \"https://www.luminpdf.com/\", \"Product Name\": \"Lumin PDF\", \"Provider/Company Name\": \"Nitrolabs Limited\", \"Sector(s)\": \"PreK-12; Higher Ed; Corporate\", \"Primary Essential Function\": \"LC/CM/SDO - Other\"}, {\"LP ID\": 69863, \"URL\": \"https://chrome.google.com/webstore\", \"Product Name\": \"Chrome Web Store\", \"Provider/Company Name\": \"Google LLC\", \"Sector(s)\": \"PreK-12; Higher Ed; Corporate\", \"Primary Essential Function\": \"LC/CM/SDO - Other\"}, {\"LP ID\": 17920, \"URL\": \"https://beinternetawesome.withgoogle.com/en_us/interland\", \"Product Name\": \"Interland\", \"Provider/Company Name\": \"Google LLC\", \"Sector(s)\": \"PreK-12\", \"Primary Essential Function\": \"LC - Sites, Resources & Reference\"}, {\"LP ID\": 48984, \"URL\": \"https://www.safeschools.com\", \"Product Name\": \"SafeSchools\", \"Provider/Company Name\": \"Vector Solutions\", \"Sector(s)\": \"PreK-12\", \"Primary Essential Function\": \"SDO - Environmental, Health & Safety (EHS) Compliance\"}, {\"LP ID\": 59434, \"URL\": \"https://app.seesaw.me/\", \"Product Name\": \"Seesaw : The Learning Journal\", \"Provider/Company Name\": \"Seesaw Learning Inc\", \"Sector(s)\": \"PreK-12\", \"Primary Essential Function\": \"LC - Content Creation & Curation\"}, {\"LP ID\": 31956, \"URL\": \"https://apcentral.collegeboard.org\", \"Product Name\": \"AP Central\", \"Provider/Company Name\": \"The College Board\", \"Sector(s)\": \"PreK-12\", \"Primary Essential Function\": \"LC - Study Tools - Test Prep & Study Skills\"}, {\"LP ID\": 74174, \"URL\": \"http://wakelet.com\", \"Product Name\": \"Wakelet\", \"Provider/Company Name\": \"Wakelet\", \"Sector(s)\": \"PreK-12; Higher Ed; Corporate\", \"Primary Essential Function\": \"LC - Sites, Resources & Reference\"}, {\"LP ID\": 20677, \"URL\": \"https://www.remove.bg\", \"Product Name\": \"remove.bg\", \"Provider/Company Name\": \"Kaleido AI GmbH\", \"Sector(s)\": \"PreK-12; Higher Ed; Corporate\", \"Primary Essential Function\": \"LC - Sites, Resources & Reference\"}, {\"LP ID\": 32032, \"URL\": \"https://www.signupgenius.com/\", \"Product Name\": \"SignUpGenius\", \"Provider/Company Name\": \"SignUpGenius\", \"Sector(s)\": \"PreK-12; Higher Ed; Corporate\", \"Primary Essential Function\": \"CM - Classroom Engagement & Instruction - Classroom Management\"}, {\"LP ID\": 66838, \"URL\": \"https://www.vooks.com/\", \"Product Name\": \"Vooks\", \"Provider/Company Name\": \"Vooks, Inc.\", \"Sector(s)\": \"PreK-12\", \"Primary Essential Function\": \"LC - Sites, Resources & Reference\"}, {\"LP ID\": 79652, \"URL\": \"https://www.istockphoto.com/\", \"Product Name\": \"iStock\", \"Provider/Company Name\": \"iStockphoto LP\", \"Sector(s)\": \"PreK-12; Higher Ed; Corporate\", \"Primary Essential Function\": \"LC - Content Creation & Curation\"}, {\"LP ID\": 29158, \"URL\": \"https://storyworks.scholastic.com\", \"Product Name\": \"Storyworks\", \"Provider/Company Name\": \"Scholastic Inc\", \"Sector(s)\": \"PreK-12\", \"Primary Essential Function\": \"LC - Courseware & Textbooks\"}, {\"LP ID\": 37373, \"URL\": \"https://www.peardeck.com/googleslides\", \"Product Name\": \"Pear Deck for Google Slides\", \"Provider/Company Name\": \"GitHub\", \"Sector(s)\": \"PreK-12\", \"Primary Essential Function\": \"LC - Digital Learning Platforms\"}, {\"LP ID\": 12816, \"URL\": \"https://www.turtlediary.com/\", \"Product Name\": \"Turtle Diary\", \"Provider/Company Name\": \"TurtleDiary LLC\", \"Sector(s)\": \"PreK-12\", \"Primary Essential Function\": \"LC - Sites, Resources & Reference - Games & Simulations\"}, {\"LP ID\": 96034, \"URL\": \"http://www.roomrecess.com/\", \"Product Name\": \"RoomRecess.com\", \"Provider/Company Name\": \"RoomRecess.com\", \"Sector(s)\": \"PreK-12\", \"Primary Essential Function\": \"LC - Sites, Resources & Reference - Games & Simulations\"}, {\"LP ID\": 18697, \"URL\": \"https://myap.collegeboard.org/login\", \"Product Name\": \"College Board AP Classroom\", \"Provider/Company Name\": \"The College Board\", \"Sector(s)\": \"PreK-12\", \"Primary Essential Function\": \"LC - Study Tools - Test Prep & Study Skills\"}, {\"LP ID\": 57084, \"URL\": \"https://www.coolmathgames.com\", \"Product Name\": \"CoolMath Games\", \"Provider/Company Name\": \"CoolMath.com LLC\", \"Sector(s)\": \"PreK-12\", \"Primary Essential Function\": \"LC - Sites, Resources & Reference - Games & Simulations\"}, {\"LP ID\": 64124, \"URL\": \"https://learn.genetics.utah.edu/\", \"Product Name\": \"Learn.Genetics\", \"Provider/Company Name\": \"The University of Utah \", \"Sector(s)\": \"PreK-12; Higher Ed\", \"Primary Essential Function\": \"LC - Sites, Resources & Reference\"}, {\"LP ID\": 47261, \"URL\": \"https://www.funbrain.com/\", \"Product Name\": \"Funbrain\", \"Provider/Company Name\": \"Funbrain Holdings, LLC\", \"Sector(s)\": \"PreK-12\", \"Primary Essential Function\": \"LC - Sites, Resources & Reference\"}, {\"LP ID\": 35201, \"URL\": \"https://www.symbolab.com/\", \"Product Name\": \"Symbolab\", \"Provider/Company Name\": \"EqsQuest Ltd\", \"Sector(s)\": \"PreK-12; Higher Ed\", \"Primary Essential Function\": \"LC - Study Tools\"}, {\"LP ID\": 36620, \"URL\": \"https://www.disneyplus.com/\", \"Product Name\": \"Disney+\", \"Provider/Company Name\": \"Disney\", \"Sector(s)\": \"PreK-12; Higher Ed\", \"Primary Essential Function\": \"LC - Sites, Resources & Reference - Streaming Services\"}, {\"LP ID\": 54110, \"URL\": \"https://www.pandora.com/\", \"Product Name\": \"Pandora\", \"Provider/Company Name\": \"Pandora Media, LLC\", \"Sector(s)\": \"PreK-12; Higher Ed\", \"Primary Essential Function\": \"LC - Sites, Resources & Reference - Streaming Services\"}, {\"LP ID\": 39623, \"URL\": \"https://www.spanishdict.com/\", \"Product Name\": \"SpanishDict\", \"Provider/Company Name\": \"Curiosity Media Inc\", \"Sector(s)\": \"PreK-12; Higher Ed; Corporate\", \"Primary Essential Function\": \"LC - Study Tools\"}, {\"LP ID\": 62538, \"URL\": \"https://www.bitmoji.com\", \"Product Name\": \"Bitmoji\", \"Provider/Company Name\": \"Snap Inc.\", \"Sector(s)\": \"PreK-12\", \"Primary Essential Function\": \"LC - Content Creation & Curation\"}, {\"LP ID\": 71152, \"URL\": \"http://phet.colorado.edu/\", \"Product Name\": \"PhET Interactive Science Simulations\", \"Provider/Company Name\": \"University of Colorado\", \"Sector(s)\": \"PreK-12\", \"Primary Essential Function\": \"LC - Sites, Resources & Reference - Games & Simulations\"}, {\"LP ID\": 55816, \"URL\": \"https://www.adobe.com/creativecloud/buy/education.html\", \"Product Name\": \"Adobe Creative Cloud for Higher Ed\", \"Provider/Company Name\": \"Adobe Inc\", \"Sector(s)\": \"PreK-12; Higher Ed; Corporate\", \"Primary Essential Function\": \"LC - Content Creation & Curation\"}, {\"LP ID\": 95967, \"URL\": \"https://www.livescience.com\", \"Product Name\": \"Live Science\", \"Provider/Company Name\": \"Future US Inc\", \"Sector(s)\": \"PreK-12\", \"Primary Essential Function\": \"LC - Sites, Resources & Reference\"}, {\"LP ID\": 11910, \"URL\": \"https://www.pewresearch.org/\", \"Product Name\": \"Pew Research Center\", \"Provider/Company Name\": \"Pew Research Center \", \"Sector(s)\": \"PreK-12; Higher Ed\", \"Primary Essential Function\": \"LC - Sites, Resources & Reference - Digital Collection & Repository\"}, {\"LP ID\": 37948, \"URL\": \"https://www.docusign.com/\", \"Product Name\": \"DocuSign\", \"Provider/Company Name\": \"DocuSign Inc\", \"Sector(s)\": \"PreK-12; Higher Ed; Corporate\", \"Primary Essential Function\": \"SDO - Other\"}, {\"LP ID\": 30008, \"URL\": \"https://groups.google.com/a/learnplatform.com/forum/#!overview\", \"Product Name\": \"Google Groups\", \"Provider/Company Name\": \"Google LLC\", \"Sector(s)\": \"PreK-12; Higher Ed; Corporate\", \"Primary Essential Function\": \"CM - Classroom Engagement & Instruction - Classroom Management\"}, {\"LP ID\": 48010, \"URL\": \"https://site.gcntraining.com\", \"Product Name\": \"GCN Training\", \"Provider/Company Name\": \"Global Compliance Network Inc\", \"Sector(s)\": \"PreK-12; Higher Ed; Corporate\", \"Primary Essential Function\": \"LC - Online Course Providers & Technical Skills Development\"}, {\"LP ID\": 80972, \"URL\": \"https://www.explorelearning.com\", \"Product Name\": \"ExploreLearning\", \"Provider/Company Name\": \"ExploreLearning, LLC\", \"Sector(s)\": \"PreK-12\", \"Primary Essential Function\": \"LC - Sites, Resources & Reference - Games & Simulations\"}, {\"LP ID\": 99789, \"URL\": \"https://www.evite.com\", \"Product Name\": \"Evite\", \"Provider/Company Name\": \"Evite\", \"Sector(s)\": \"PreK-12; Higher Ed; Corporate\", \"Primary Essential Function\": \"LC - Content Creation & Curation\"}, {\"LP ID\": 75206, \"URL\": \"https://www.ixl.com\", \"Product Name\": \"IXL\", \"Provider/Company Name\": \"IXL Learning\", \"Sector(s)\": \"PreK-12\", \"Primary Essential Function\": \"LC - Digital Learning Platforms\"}, {\"LP ID\": 77320, \"URL\": \"https://www.lakeshorelearning.com\", \"Product Name\": \"Lakeshore\", \"Provider/Company Name\": \"Lakeshore Learning Materials\", \"Sector(s)\": \"PreK-12\", \"Primary Essential Function\": \"LC - Sites, Resources & References - Learning Materials & Supplies\"}, {\"LP ID\": 29806, \"URL\": \"https://www.mathworksheets4kids.com\", \"Product Name\": \"Math Worksheets 4 Kids\", \"Provider/Company Name\": \"Math Worksheets 4 Kids\", \"Sector(s)\": \"PreK-12\", \"Primary Essential Function\": \"LC - Study Tools\"}, {\"LP ID\": 98845, \"URL\": \"https://meet.google.com/_meet\", \"Product Name\": \"Meet\", \"Provider/Company Name\": \"Google LLC\", \"Sector(s)\": \"PreK-12; Higher Ed; Corporate\", \"Primary Essential Function\": \"CM - Virtual Classroom - Video Conferencing & Screen Sharing\"}, {\"LP ID\": 28467, \"URL\": \"https://www.slidescarnival.com\", \"Product Name\": \"SlidesCarnival\", \"Provider/Company Name\": \"SlidesCarnival\", \"Sector(s)\": \"PreK-12; Higher Ed; Corporate\", \"Primary Essential Function\": \"LC - Content Creation & Curation\"}, {\"LP ID\": 23644, \"URL\": \"https://www.thoughtco.com\", \"Product Name\": \"ThoughtCo\", \"Provider/Company Name\": \"DotDash\", \"Sector(s)\": \"PreK-12; Higher Ed\", \"Primary Essential Function\": \"LC - Sites, Resources & Reference\"}, {\"LP ID\": 82101, \"URL\": \"https://time.com\", \"Product Name\": \"Time\", \"Provider/Company Name\": \"Time USA, LLC \", \"Sector(s)\": \"PreK-12; Higher Ed; Corporate\", \"Primary Essential Function\": \"LC - Sites, Resources & Reference\"}, {\"LP ID\": 70878, \"URL\": \"https://musiclab.chromeexperiments.com/\", \"Product Name\": \"CHROME MUSIC LAB\", \"Provider/Company Name\": \"Google LLC\", \"Sector(s)\": \"PreK-12; Higher Ed\", \"Primary Essential Function\": \"LC - Content Creation & Curation\"}, {\"LP ID\": 79295, \"URL\": \"https://www.quavermusic.com\", \"Product Name\": \"QuaverMusic\", \"Provider/Company Name\": \"Quaver Music\", \"Sector(s)\": \"PreK-12\", \"Primary Essential Function\": \"LC - Digital Learning Platforms\"}, {\"LP ID\": 11313, \"URL\": \"http://toytheater.com\", \"Product Name\": \"Toy Theater\", \"Provider/Company Name\": \"Toy Theater\", \"Sector(s)\": \"PreK-12\", \"Primary Essential Function\": \"LC - Sites, Resources & Reference - Games & Simulations\"}, {\"LP ID\": 19750, \"URL\": \"https://whiteboard.fi\", \"Product Name\": \"Whiteboard.fi\", \"Provider/Company Name\": \"Whiteboard.fi\", \"Sector(s)\": \"PreK-12\", \"Primary Essential Function\": \"LC - Content Creation & Curation\"}, {\"LP ID\": 22767, \"URL\": \"https://apps.apple.com/us/app/zoom-cloud-meetings/id546505307?ign-mpt=uo%3D4\", \"Product Name\": \"ZOOM Cloud Meetings\", \"Provider/Company Name\": \"ZOOM VIDEO COMMUNICATIONS, INC.\", \"Sector(s)\": \"PreK-12; Higher Ed; Corporate\", \"Primary Essential Function\": \"CM - Virtual Classroom - Video Conferencing & Screen Sharing\"}, {\"LP ID\": 94218, \"URL\": \"http://www.viewpure.com/\", \"Product Name\": \"ViewPure\", \"Provider/Company Name\": \"ViewPure\", \"Sector(s)\": \"PreK-12\", \"Primary Essential Function\": \"CM - Classroom Engagement & Instruction - Classroom Management\"}, {\"LP ID\": 98128, \"URL\": \"https://www.blooket.com\", \"Product Name\": \"Blooket\", \"Provider/Company Name\": \"Blooket LLC\", \"Sector(s)\": \"PreK-12\", \"Primary Essential Function\": \"LC - Digital Learning Platforms\"}, {\"LP ID\": 21650, \"URL\": \"https://www.musictheory.net/\", \"Product Name\": \"Music Theory\", \"Provider/Company Name\": \"musictheory.net\", \"Sector(s)\": \"PreK-12; Higher Ed\", \"Primary Essential Function\": \"LC - Study Tools\"}, {\"LP ID\": 64581, \"URL\": \"https://hulu.com\", \"Product Name\": \"Hulu\", \"Provider/Company Name\": \"Hulu, LLC\", \"Sector(s)\": \"PreK-12; Higher Ed\", \"Primary Essential Function\": \"LC - Sites, Resources & Reference - Streaming Services\"}, {\"LP ID\": 83704, \"URL\": \"http://www.investopedia.com\", \"Product Name\": \"Investopedia\", \"Provider/Company Name\": \"IAC\", \"Sector(s)\": \"PreK-12; Higher Ed; Corporate\", \"Primary Essential Function\": \"LC - Sites, Resources & Reference\"}, {\"LP ID\": 70706, \"URL\": \"https://canvas.apps.chrome/\", \"Product Name\": \"Canvas for Chrome\", \"Provider/Company Name\": \"Canvas Talent, Inc. \", \"Sector(s)\": \"PreK-12; Higher Ed; Corporate\", \"Primary Essential Function\": \"LC - Content Creation & Curation\"}, {\"LP ID\": 13282, \"URL\": \"https://www.schoolspecialty.com/\", \"Product Name\": \"School Specialty\", \"Provider/Company Name\": \"School Specialty Inc\", \"Sector(s)\": \"PreK-12\", \"Primary Essential Function\": \"LC - Sites, Resources & References - Learning Materials & Supplies\"}, {\"LP ID\": 24396, \"URL\": \"https://www.mathsisfun.com/\", \"Product Name\": \"Math is Fun\", \"Provider/Company Name\": \"Mathsisfun.com\", \"Sector(s)\": \"PreK-12\", \"Primary Essential Function\": \"LC - Sites, Resources & Reference\"}, {\"LP ID\": 22241, \"URL\": \"https://www.history.com/\", \"Product Name\": \"History.com\", \"Provider/Company Name\": \" A&E Television Networks, LLC\", \"Sector(s)\": \"PreK-12; Higher Ed\", \"Primary Essential Function\": \"LC - Sites, Resources & Reference\"}, {\"LP ID\": 93376, \"URL\": \"https://www.cultofpedagogy.com/\", \"Product Name\": \"Cult of Pedagogy\", \"Provider/Company Name\": \"Cult of Pedagogy\", \"Sector(s)\": \"PreK-12\", \"Primary Essential Function\": \"CM - Teacher Resources - Professional Learning\"}, {\"LP ID\": 88065, \"URL\": \"https://dochub.com/\", \"Product Name\": \"DocHub\", \"Provider/Company Name\": \"DocHub\", \"Sector(s)\": \"PreK-12; Higher Ed; Corporate\", \"Primary Essential Function\": \"SDO - Other\"}, {\"LP ID\": 37805, \"URL\": \"http://google.com/slides/about/\", \"Product Name\": \"Google Slides\", \"Provider/Company Name\": \"Google LLC\", \"Sector(s)\": \"PreK-12; Higher Ed; Corporate\", \"Primary Essential Function\": \"LC - Content Creation & Curation\"}, {\"LP ID\": 32555, \"URL\": \"http://www.innersloth.com/gameAmongUs.php\", \"Product Name\": \"Among Us\", \"Provider/Company Name\": \"InnerSloth\", \"Sector(s)\": \"PreK-12; Higher Ed\", \"Primary Essential Function\": \"LC - Sites, Resources & Reference - Games & Simulations\"}]}}, {\"mode\": \"vega-lite\"});\n</script>",
      "text/plain": "alt.Chart(...)"
     },
     "metadata": {}
    }
   ],
   "execution_count": null
  },
  {
   "cell_type": "markdown",
   "source": "Let'see what are the products provided by Google",
   "metadata": {
    "papermill": {
     "duration": 0.065195,
     "end_time": "2021-09-19T11:55:58.192894",
     "exception": false,
     "start_time": "2021-09-19T11:55:58.127699",
     "status": "completed"
    },
    "tags": [],
    "cell_id": "00035-bb42e4b2-213b-4901-a5a1-869e5a042ea7",
    "deepnote_cell_type": "markdown"
   }
  },
  {
   "cell_type": "code",
   "metadata": {
    "_kg_hide-input": true,
    "execution": {
     "iopub.execute_input": "2021-09-19T11:55:58.335732Z",
     "iopub.status.busy": "2021-09-19T11:55:58.335048Z",
     "iopub.status.idle": "2021-09-19T11:55:58.338078Z",
     "shell.execute_reply": "2021-09-19T11:55:58.338633Z",
     "shell.execute_reply.started": "2021-09-19T11:09:32.049385Z"
    },
    "papermill": {
     "duration": 0.080366,
     "end_time": "2021-09-19T11:55:58.338809",
     "exception": false,
     "start_time": "2021-09-19T11:55:58.258443",
     "status": "completed"
    },
    "tags": [],
    "cell_id": "00036-9517f3a2-434b-45b3-94ed-9e9b2c1558d4",
    "deepnote_to_be_reexecuted": false,
    "source_hash": "a24d2b9c",
    "execution_start": 1634282973283,
    "execution_millis": 16,
    "deepnote_cell_type": "code"
   },
   "source": "products_data[products_data['Provider/Company Name']=='Google LLC']['Product Name'].value_counts().head(10).to_frame()",
   "outputs": [
    {
     "output_type": "execute_result",
     "execution_count": 14,
     "data": {
      "application/vnd.deepnote.dataframe.v2+json": {
       "row_count": 10,
       "column_count": 1,
       "columns": [
        {
         "name": "Product Name",
         "dtype": "int64",
         "stats": {
          "unique_count": 1,
          "nan_count": 0,
          "min": "1",
          "max": "1",
          "histogram": [
           {
            "bin_start": 0.5,
            "bin_end": 0.6,
            "count": 0
           },
           {
            "bin_start": 0.6,
            "bin_end": 0.7,
            "count": 0
           },
           {
            "bin_start": 0.7,
            "bin_end": 0.8,
            "count": 0
           },
           {
            "bin_start": 0.8,
            "bin_end": 0.9,
            "count": 0
           },
           {
            "bin_start": 0.9,
            "bin_end": 1,
            "count": 0
           },
           {
            "bin_start": 1,
            "bin_end": 1.1,
            "count": 10
           },
           {
            "bin_start": 1.1,
            "bin_end": 1.2000000000000002,
            "count": 0
           },
           {
            "bin_start": 1.2000000000000002,
            "bin_end": 1.3,
            "count": 0
           },
           {
            "bin_start": 1.3,
            "bin_end": 1.4,
            "count": 0
           },
           {
            "bin_start": 1.4,
            "bin_end": 1.5,
            "count": 0
           }
          ]
         }
        },
        {
         "name": "_deepnote_index_column",
         "dtype": "object"
        }
       ],
       "rows_top": [
        {
         "Product Name": 1,
         "_deepnote_index_column": "Google Docs"
        },
        {
         "Product Name": 1,
         "_deepnote_index_column": "Google Forms"
        },
        {
         "Product Name": 1,
         "_deepnote_index_column": "Jamboard"
        },
        {
         "Product Name": 1,
         "_deepnote_index_column": "Google Earth"
        },
        {
         "Product Name": 1,
         "_deepnote_index_column": "Google Sites"
        },
        {
         "Product Name": 1,
         "_deepnote_index_column": "Meet"
        },
        {
         "Product Name": 1,
         "_deepnote_index_column": "Google Chrome"
        },
        {
         "Product Name": 1,
         "_deepnote_index_column": "Chrome Web Store"
        },
        {
         "Product Name": 1,
         "_deepnote_index_column": "Google Drive"
        },
        {
         "Product Name": 1,
         "_deepnote_index_column": "Google Slides"
        }
       ],
       "rows_bottom": null
      },
      "text/plain": "                  Product Name\nGoogle Docs                  1\nGoogle Forms                 1\nJamboard                     1\nGoogle Earth                 1\nGoogle Sites                 1\nMeet                         1\nGoogle Chrome                1\nChrome Web Store             1\nGoogle Drive                 1\nGoogle Slides                1",
      "text/html": "<div>\n<style scoped>\n    .dataframe tbody tr th:only-of-type {\n        vertical-align: middle;\n    }\n\n    .dataframe tbody tr th {\n        vertical-align: top;\n    }\n\n    .dataframe thead th {\n        text-align: right;\n    }\n</style>\n<table border=\"1\" class=\"dataframe\">\n  <thead>\n    <tr style=\"text-align: right;\">\n      <th></th>\n      <th>Product Name</th>\n    </tr>\n  </thead>\n  <tbody>\n    <tr>\n      <th>Google Docs</th>\n      <td>1</td>\n    </tr>\n    <tr>\n      <th>Google Forms</th>\n      <td>1</td>\n    </tr>\n    <tr>\n      <th>Jamboard</th>\n      <td>1</td>\n    </tr>\n    <tr>\n      <th>Google Earth</th>\n      <td>1</td>\n    </tr>\n    <tr>\n      <th>Google Sites</th>\n      <td>1</td>\n    </tr>\n    <tr>\n      <th>Meet</th>\n      <td>1</td>\n    </tr>\n    <tr>\n      <th>Google Chrome</th>\n      <td>1</td>\n    </tr>\n    <tr>\n      <th>Chrome Web Store</th>\n      <td>1</td>\n    </tr>\n    <tr>\n      <th>Google Drive</th>\n      <td>1</td>\n    </tr>\n    <tr>\n      <th>Google Slides</th>\n      <td>1</td>\n    </tr>\n  </tbody>\n</table>\n</div>"
     },
     "metadata": {}
    }
   ],
   "execution_count": null
  },
  {
   "cell_type": "markdown",
   "source": "## Educational Sector Distributions\nEducational sectors are divided into three categories, PreK-12, Higher Education, and Corporate.\n>Some products are specific to a sector but others are quite general.  ",
   "metadata": {
    "papermill": {
     "duration": 0.067595,
     "end_time": "2021-09-19T11:55:58.474594",
     "exception": false,
     "start_time": "2021-09-19T11:55:58.406999",
     "status": "completed"
    },
    "tags": [],
    "cell_id": "00037-b2f0213a-e29a-4a80-b0a7-aa21a9a3d7e6",
    "deepnote_cell_type": "markdown"
   }
  },
  {
   "cell_type": "code",
   "metadata": {
    "_kg_hide-input": true,
    "execution": {
     "iopub.execute_input": "2021-09-19T11:55:58.613921Z",
     "iopub.status.busy": "2021-09-19T11:55:58.613196Z",
     "iopub.status.idle": "2021-09-19T11:55:58.626860Z",
     "shell.execute_reply": "2021-09-19T11:55:58.626208Z",
     "shell.execute_reply.started": "2021-09-19T11:09:32.067234Z"
    },
    "papermill": {
     "duration": 0.084427,
     "end_time": "2021-09-19T11:55:58.626996",
     "exception": false,
     "start_time": "2021-09-19T11:55:58.542569",
     "status": "completed"
    },
    "tags": [],
    "cell_id": "00038-a796ebc6-f1e0-4815-ab9c-07394f9875ad",
    "deepnote_to_be_reexecuted": false,
    "source_hash": "1bfe833",
    "execution_start": 1634282973290,
    "execution_millis": 33,
    "deepnote_cell_type": "code"
   },
   "source": "sector = products_data[\"Sector(s)\"].value_counts().to_frame().reset_index()\nsector.style.background_gradient(cmap=\"Set2\", subset=['Sector(s)'])",
   "outputs": [
    {
     "output_type": "execute_result",
     "execution_count": 15,
     "data": {
      "text/plain": "<pandas.io.formats.style.Styler at 0x7fd56aa37c10>",
      "text/html": "<style  type=\"text/css\" >\n#T_ab33a_row0_col1{\n            background-color:  #b3b3b3;\n            color:  #000000;\n        }#T_ab33a_row1_col1{\n            background-color:  #ffd92f;\n            color:  #000000;\n        }#T_ab33a_row2_col1{\n            background-color:  #e78ac3;\n            color:  #000000;\n        }#T_ab33a_row3_col1,#T_ab33a_row4_col1{\n            background-color:  #66c2a5;\n            color:  #000000;\n        }</style><table id=\"T_ab33a_\" ><thead>    <tr>        <th class=\"blank level0\" ></th>        <th class=\"col_heading level0 col0\" >index</th>        <th class=\"col_heading level0 col1\" >Sector(s)</th>    </tr></thead><tbody>\n                <tr>\n                        <th id=\"T_ab33a_level0_row0\" class=\"row_heading level0 row0\" >0</th>\n                        <td id=\"T_ab33a_row0_col0\" class=\"data row0 col0\" >PreK-12</td>\n                        <td id=\"T_ab33a_row0_col1\" class=\"data row0 col1\" >170</td>\n            </tr>\n            <tr>\n                        <th id=\"T_ab33a_level0_row1\" class=\"row_heading level0 row1\" >1</th>\n                        <td id=\"T_ab33a_row1_col0\" class=\"data row1 col0\" >PreK-12; Higher Ed; Corporate</td>\n                        <td id=\"T_ab33a_row1_col1\" class=\"data row1 col1\" >115</td>\n            </tr>\n            <tr>\n                        <th id=\"T_ab33a_level0_row2\" class=\"row_heading level0 row2\" >2</th>\n                        <td id=\"T_ab33a_row2_col0\" class=\"data row2 col0\" >PreK-12; Higher Ed</td>\n                        <td id=\"T_ab33a_row2_col1\" class=\"data row2 col1\" >65</td>\n            </tr>\n            <tr>\n                        <th id=\"T_ab33a_level0_row3\" class=\"row_heading level0 row3\" >3</th>\n                        <td id=\"T_ab33a_row3_col0\" class=\"data row3 col0\" >Corporate</td>\n                        <td id=\"T_ab33a_row3_col1\" class=\"data row3 col1\" >1</td>\n            </tr>\n            <tr>\n                        <th id=\"T_ab33a_level0_row4\" class=\"row_heading level0 row4\" >4</th>\n                        <td id=\"T_ab33a_row4_col0\" class=\"data row4 col0\" >Higher Ed; Corporate</td>\n                        <td id=\"T_ab33a_row4_col1\" class=\"data row4 col1\" >1</td>\n            </tr>\n    </tbody></table>"
     },
     "metadata": {}
    }
   ],
   "execution_count": null
  },
  {
   "cell_type": "markdown",
   "source": "As we can see PreK education is dominating the distribution with 54 percentage.",
   "metadata": {
    "papermill": {
     "duration": 0.068752,
     "end_time": "2021-09-19T11:55:58.764112",
     "exception": false,
     "start_time": "2021-09-19T11:55:58.695360",
     "status": "completed"
    },
    "tags": [],
    "cell_id": "00039-85e1d131-3e75-4af1-826a-4fcde560d4e0",
    "deepnote_cell_type": "markdown"
   }
  },
  {
   "cell_type": "code",
   "metadata": {
    "_kg_hide-input": true,
    "execution": {
     "iopub.execute_input": "2021-09-19T11:55:58.905533Z",
     "iopub.status.busy": "2021-09-19T11:55:58.904875Z",
     "iopub.status.idle": "2021-09-19T11:55:59.018858Z",
     "shell.execute_reply": "2021-09-19T11:55:59.019354Z",
     "shell.execute_reply.started": "2021-09-19T11:09:32.084007Z"
    },
    "papermill": {
     "duration": 0.186779,
     "end_time": "2021-09-19T11:55:59.019523",
     "exception": false,
     "start_time": "2021-09-19T11:55:58.832744",
     "status": "completed"
    },
    "tags": [],
    "cell_id": "00040-82441b06-ddcf-4780-9ed6-76b62e51e943",
    "deepnote_to_be_reexecuted": false,
    "source_hash": "cc9e9abb",
    "execution_start": 1634282973319,
    "execution_millis": 137,
    "deepnote_cell_type": "code"
   },
   "source": "c1,c2,c3 = 0, 0, 0\nfor s in products_data[\"Sector(s)\"]:\n    if(not pd.isnull(s)):\n        s = s.split(\";\")\n        for i in range(len(s)):\n            sub = s[i].strip()\n            if(sub == 'PreK-12'): c1+=1\n            if(sub == 'Higher Ed'): c2+=1\n            if(sub == 'Corporate'): c3+=1\n\nfig, ax  = plt.subplots(figsize=(16, 8))\n                \nfig.suptitle('Educational Sector Distribution', size = 20, color = \"black\")\nexplode = ( 0.03, 0.03, 0.3)\nlabels = ['PreK-12','Higher Ed','Corporate']\nsizes = [c1,c2,c3]\nax.pie(sizes, \n       explode = explode, \n       colors = sns.color_palette(\"Set2\"),\n       startangle = 60,\n       labels = labels,\n       autopct = '%1.0f%%',\n       pctdistance = 0.9\n      )\nax.add_artist(plt.Circle((0,0),0.4,fc='white'))\nplt.show()",
   "outputs": [
    {
     "data": {
      "text/plain": "<Figure size 1152x576 with 1 Axes>",
      "image/png": "[encoded data removed]"
     },
     "metadata": {
      "image/png": {
       "width": 498,
       "height": 506
      }
     },
     "output_type": "display_data"
    }
   ],
   "execution_count": null
  },
  {
   "cell_type": "markdown",
   "source": "## Primary Functions with main and subcategories \nThere are three types of main primary functions.\n1. LC = Learning & Curriculum\n2. CM = Classroom Management\n3. SDO = School & District Operations.\n\nYou can interact with Plotly sunburst plot to explore the distribution of main categories and subcategories. \n\n>The Learning products have majority shares in this group and the most common subcategories are digital learning platforms.",
   "metadata": {
    "papermill": {
     "duration": 0.069813,
     "end_time": "2021-09-19T11:55:59.159701",
     "exception": false,
     "start_time": "2021-09-19T11:55:59.089888",
     "status": "completed"
    },
    "tags": [],
    "cell_id": "00041-43496f78-9a5a-4f51-a079-da961f94370d",
    "deepnote_cell_type": "markdown"
   }
  },
  {
   "cell_type": "code",
   "metadata": {
    "_kg_hide-input": true,
    "execution": {
     "iopub.execute_input": "2021-09-19T11:55:59.300965Z",
     "iopub.status.busy": "2021-09-19T11:55:59.300299Z",
     "iopub.status.idle": "2021-09-19T11:56:00.280865Z",
     "shell.execute_reply": "2021-09-19T11:56:00.280241Z",
     "shell.execute_reply.started": "2021-09-19T11:09:32.196358Z"
    },
    "papermill": {
     "duration": 1.053296,
     "end_time": "2021-09-19T11:56:00.281006",
     "exception": false,
     "start_time": "2021-09-19T11:55:59.227710",
     "status": "completed"
    },
    "tags": [],
    "cell_id": "00042-623e45cd-7d23-47da-b0c3-1b0d38d2568e",
    "deepnote_to_be_reexecuted": false,
    "source_hash": "a4e5ae6d",
    "execution_start": 1634282973450,
    "execution_millis": 1916,
    "deepnote_cell_type": "code"
   },
   "source": "PEF_cat_main = []\nPEF_cat_sub = []\nfor p in products_data[\"Primary Essential Function\"]:\n    \n    if (not pd.isnull(p)):\n        cat1 = p.split(\"-\",1)[0].strip()\n        PEF_cat_main.append(cat1)\n        \n        cat2 = p.split(\"-\",1)[1].strip()\n        PEF_cat_sub.append(cat2)\n    else:\n        PEF_cat_main.append(np.nan)\n        PEF_cat_sub.append(np.nan)\n        \nproducts_data[\"Essential_Function_main\"] = PEF_cat_main\nproducts_data[\"Essential_Function_sub\"] = PEF_cat_sub\n\nDE = (\n    products_data[[\"Essential_Function_main\", \"Essential_Function_sub\"]]\n    .value_counts()\n    .rename_axis([\"Essential_Function_main\", \"Essential_Function_sub\"])\n    .reset_index(name=\"counts\")\n)\n\nfig = px.sunburst(\n    DE,\n    path=[\"Essential_Function_main\", \"Essential_Function_sub\"],\n    values=\"counts\",\n    title=\"Sunburst Primary Essential Functions\",\n)\nfig.show()",
   "outputs": [
    {
     "data": {
      "text/html": "<html>\n<head><meta charset=\"utf-8\" /></head>\n<body>\n    <div>            <script src=\"https://cdnjs.cloudflare.com/ajax/libs/mathjax/2.7.5/MathJax.js?config=TeX-AMS-MML_SVG\"></script><script type=\"text/javascript\">if (window.MathJax) {MathJax.Hub.Config({SVG: {font: \"STIX-Web\"}});}</script>                <script type=\"text/javascript\">window.PlotlyConfig = {MathJaxConfig: 'local'};</script>\n        <script src=\"https://cdn.plot.ly/plotly-2.4.2.min.js\"></script>                <div id=\"c7b7fe4e-8ba8-42e1-9a8b-21c4b425c05b\" class=\"plotly-graph-div\" style=\"height:525px; width:100%;\"></div>            <script type=\"text/javascript\">                                    window.PLOTLYENV=window.PLOTLYENV || {};                                    if (document.getElementById(\"c7b7fe4e-8ba8-42e1-9a8b-21c4b425c05b\")) {                    Plotly.newPlot(                        \"c7b7fe4e-8ba8-42e1-9a8b-21c4b425c05b\",                        [{\"branchvalues\":\"total\",\"domain\":{\"x\":[0.0,1.0],\"y\":[0.0,1.0]},\"hovertemplate\":\"labels=%{label}<br>counts=%{value}<br>parent=%{parent}<br>id=%{id}<extra></extra>\",\"ids\":[\"SDO/Admissions, Enrollment & Rostering\",\"LC/Career Planning & Job Search\",\"CM/Classroom Engagement & Instruction - Assessment & Classroom Response\",\"CM/Classroom Engagement & Instruction - Classroom Management\",\"CM/Classroom Engagement & Instruction - Communication & Messaging\",\"LC/Content Creation & Curation\",\"LC/Courseware & Textbooks\",\"SDO/Data, Analytics & Reporting\",\"SDO/Data, Analytics & Reporting - Site Hosting & Data Warehousing\",\"SDO/Data, Analytics & Reporting - Student Information Systems (SIS)\",\"LC/Digital Learning Platforms\",\"SDO/Environmental, Health & Safety (EHS) Compliance\",\"SDO/Human Resources\",\"SDO/Large-Scale & Standardized Testing\",\"SDO/Learning Management Systems (LMS)\",\"LC/Online Course Providers & Technical Skills Development\",\"LC/CM/SDO/Other\",\"SDO/Other\",\"SDO/School Management Software - Mobile Device Management\",\"SDO/School Management Software - SSO\",\"LC/Sites, Resources & Reference\",\"LC/Sites, Resources & Reference - Digital Collection & Repository\",\"LC/Sites, Resources & Reference - Encyclopedia\",\"LC/Sites, Resources & Reference - Games & Simulations\",\"LC/Sites, Resources & Reference - Streaming Services\",\"LC/Sites, Resources & Reference - Thesaurus & Dictionary\",\"LC/Sites, Resources & References - Learning Materials & Supplies\",\"LC/Study Tools\",\"LC/Study Tools - Q&A\",\"LC/Study Tools - Test Prep & Study Skills\",\"LC/Study Tools - Tutoring\",\"CM/Teacher Resources - Grading & Attendance\",\"CM/Teacher Resources - Lesson Planning\",\"CM/Teacher Resources - Professional Learning\",\"CM/Virtual Classroom - Video Conferencing & Screen Sharing\",\"CM\",\"LC\",\"LC/CM/SDO\",\"SDO\"],\"labels\":[\"Admissions, Enrollment & Rostering\",\"Career Planning & Job Search\",\"Classroom Engagement & Instruction - Assessment & Classroom Response\",\"Classroom Engagement & Instruction - Classroom Management\",\"Classroom Engagement & Instruction - Communication & Messaging\",\"Content Creation & Curation\",\"Courseware & Textbooks\",\"Data, Analytics & Reporting\",\"Data, Analytics & Reporting - Site Hosting & Data Warehousing\",\"Data, Analytics & Reporting - Student Information Systems (SIS)\",\"Digital Learning Platforms\",\"Environmental, Health & Safety (EHS) Compliance\",\"Human Resources\",\"Large-Scale & Standardized Testing\",\"Learning Management Systems (LMS)\",\"Online Course Providers & Technical Skills Development\",\"Other\",\"Other\",\"School Management Software - Mobile Device Management\",\"School Management Software - SSO\",\"Sites, Resources & Reference\",\"Sites, Resources & Reference - Digital Collection & Repository\",\"Sites, Resources & Reference - Encyclopedia\",\"Sites, Resources & Reference - Games & Simulations\",\"Sites, Resources & Reference - Streaming Services\",\"Sites, Resources & Reference - Thesaurus & Dictionary\",\"Sites, Resources & References - Learning Materials & Supplies\",\"Study Tools\",\"Study Tools - Q&A\",\"Study Tools - Test Prep & Study Skills\",\"Study Tools - Tutoring\",\"Teacher Resources - Grading & Attendance\",\"Teacher Resources - Lesson Planning\",\"Teacher Resources - Professional Learning\",\"Virtual Classroom - Video Conferencing & Screen Sharing\",\"CM\",\"LC\",\"LC/CM/SDO\",\"SDO\"],\"name\":\"\",\"parents\":[\"SDO\",\"LC\",\"CM\",\"CM\",\"CM\",\"LC\",\"LC\",\"SDO\",\"SDO\",\"SDO\",\"LC\",\"SDO\",\"SDO\",\"SDO\",\"SDO\",\"LC\",\"LC/CM/SDO\",\"SDO\",\"SDO\",\"SDO\",\"LC\",\"LC\",\"LC\",\"LC\",\"LC\",\"LC\",\"LC\",\"LC\",\"LC\",\"LC\",\"LC\",\"CM\",\"CM\",\"CM\",\"CM\",\"\",\"\",\"\",\"\"],\"type\":\"sunburst\",\"values\":[1,3,4,11,5,36,18,3,6,2,74,1,4,2,5,5,16,2,2,2,47,15,4,18,9,4,4,25,6,3,1,1,3,3,7,34,272,16,30]}],                        {\"legend\":{\"tracegroupgap\":0},\"template\":{\"data\":{\"bar\":[{\"error_x\":{\"color\":\"#2a3f5f\"},\"error_y\":{\"color\":\"#2a3f5f\"},\"marker\":{\"line\":{\"color\":\"#E5ECF6\",\"width\":0.5},\"pattern\":{\"fillmode\":\"overlay\",\"size\":10,\"solidity\":0.2}},\"type\":\"bar\"}],\"barpolar\":[{\"marker\":{\"line\":{\"color\":\"#E5ECF6\",\"width\":0.5},\"pattern\":{\"fillmode\":\"overlay\",\"size\":10,\"solidity\":0.2}},\"type\":\"barpolar\"}],\"carpet\":[{\"aaxis\":{\"endlinecolor\":\"#2a3f5f\",\"gridcolor\":\"white\",\"linecolor\":\"white\",\"minorgridcolor\":\"white\",\"startlinecolor\":\"#2a3f5f\"},\"baxis\":{\"endlinecolor\":\"#2a3f5f\",\"gridcolor\":\"white\",\"linecolor\":\"white\",\"minorgridcolor\":\"white\",\"startlinecolor\":\"#2a3f5f\"},\"type\":\"carpet\"}],\"choropleth\":[{\"colorbar\":{\"outlinewidth\":0,\"ticks\":\"\"},\"type\":\"choropleth\"}],\"contour\":[{\"colorbar\":{\"outlinewidth\":0,\"ticks\":\"\"},\"colorscale\":[[0.0,\"#0d0887\"],[0.1111111111111111,\"#46039f\"],[0.2222222222222222,\"#7201a8\"],[0.3333333333333333,\"#9c179e\"],[0.4444444444444444,\"#bd3786\"],[0.5555555555555556,\"#d8576b\"],[0.6666666666666666,\"#ed7953\"],[0.7777777777777778,\"#fb9f3a\"],[0.8888888888888888,\"#fdca26\"],[1.0,\"#f0f921\"]],\"type\":\"contour\"}],\"contourcarpet\":[{\"colorbar\":{\"outlinewidth\":0,\"ticks\":\"\"},\"type\":\"contourcarpet\"}],\"heatmap\":[{\"colorbar\":{\"outlinewidth\":0,\"ticks\":\"\"},\"colorscale\":[[0.0,\"#0d0887\"],[0.1111111111111111,\"#46039f\"],[0.2222222222222222,\"#7201a8\"],[0.3333333333333333,\"#9c179e\"],[0.4444444444444444,\"#bd3786\"],[0.5555555555555556,\"#d8576b\"],[0.6666666666666666,\"#ed7953\"],[0.7777777777777778,\"#fb9f3a\"],[0.8888888888888888,\"#fdca26\"],[1.0,\"#f0f921\"]],\"type\":\"heatmap\"}],\"heatmapgl\":[{\"colorbar\":{\"outlinewidth\":0,\"ticks\":\"\"},\"colorscale\":[[0.0,\"#0d0887\"],[0.1111111111111111,\"#46039f\"],[0.2222222222222222,\"#7201a8\"],[0.3333333333333333,\"#9c179e\"],[0.4444444444444444,\"#bd3786\"],[0.5555555555555556,\"#d8576b\"],[0.6666666666666666,\"#ed7953\"],[0.7777777777777778,\"#fb9f3a\"],[0.8888888888888888,\"#fdca26\"],[1.0,\"#f0f921\"]],\"type\":\"heatmapgl\"}],\"histogram\":[{\"marker\":{\"pattern\":{\"fillmode\":\"overlay\",\"size\":10,\"solidity\":0.2}},\"type\":\"histogram\"}],\"histogram2d\":[{\"colorbar\":{\"outlinewidth\":0,\"ticks\":\"\"},\"colorscale\":[[0.0,\"#0d0887\"],[0.1111111111111111,\"#46039f\"],[0.2222222222222222,\"#7201a8\"],[0.3333333333333333,\"#9c179e\"],[0.4444444444444444,\"#bd3786\"],[0.5555555555555556,\"#d8576b\"],[0.6666666666666666,\"#ed7953\"],[0.7777777777777778,\"#fb9f3a\"],[0.8888888888888888,\"#fdca26\"],[1.0,\"#f0f921\"]],\"type\":\"histogram2d\"}],\"histogram2dcontour\":[{\"colorbar\":{\"outlinewidth\":0,\"ticks\":\"\"},\"colorscale\":[[0.0,\"#0d0887\"],[0.1111111111111111,\"#46039f\"],[0.2222222222222222,\"#7201a8\"],[0.3333333333333333,\"#9c179e\"],[0.4444444444444444,\"#bd3786\"],[0.5555555555555556,\"#d8576b\"],[0.6666666666666666,\"#ed7953\"],[0.7777777777777778,\"#fb9f3a\"],[0.8888888888888888,\"#fdca26\"],[1.0,\"#f0f921\"]],\"type\":\"histogram2dcontour\"}],\"mesh3d\":[{\"colorbar\":{\"outlinewidth\":0,\"ticks\":\"\"},\"type\":\"mesh3d\"}],\"parcoords\":[{\"line\":{\"colorbar\":{\"outlinewidth\":0,\"ticks\":\"\"}},\"type\":\"parcoords\"}],\"pie\":[{\"automargin\":true,\"type\":\"pie\"}],\"scatter\":[{\"marker\":{\"colorbar\":{\"outlinewidth\":0,\"ticks\":\"\"}},\"type\":\"scatter\"}],\"scatter3d\":[{\"line\":{\"colorbar\":{\"outlinewidth\":0,\"ticks\":\"\"}},\"marker\":{\"colorbar\":{\"outlinewidth\":0,\"ticks\":\"\"}},\"type\":\"scatter3d\"}],\"scattercarpet\":[{\"marker\":{\"colorbar\":{\"outlinewidth\":0,\"ticks\":\"\"}},\"type\":\"scattercarpet\"}],\"scattergeo\":[{\"marker\":{\"colorbar\":{\"outlinewidth\":0,\"ticks\":\"\"}},\"type\":\"scattergeo\"}],\"scattergl\":[{\"marker\":{\"colorbar\":{\"outlinewidth\":0,\"ticks\":\"\"}},\"type\":\"scattergl\"}],\"scattermapbox\":[{\"marker\":{\"colorbar\":{\"outlinewidth\":0,\"ticks\":\"\"}},\"type\":\"scattermapbox\"}],\"scatterpolar\":[{\"marker\":{\"colorbar\":{\"outlinewidth\":0,\"ticks\":\"\"}},\"type\":\"scatterpolar\"}],\"scatterpolargl\":[{\"marker\":{\"colorbar\":{\"outlinewidth\":0,\"ticks\":\"\"}},\"type\":\"scatterpolargl\"}],\"scatterternary\":[{\"marker\":{\"colorbar\":{\"outlinewidth\":0,\"ticks\":\"\"}},\"type\":\"scatterternary\"}],\"surface\":[{\"colorbar\":{\"outlinewidth\":0,\"ticks\":\"\"},\"colorscale\":[[0.0,\"#0d0887\"],[0.1111111111111111,\"#46039f\"],[0.2222222222222222,\"#7201a8\"],[0.3333333333333333,\"#9c179e\"],[0.4444444444444444,\"#bd3786\"],[0.5555555555555556,\"#d8576b\"],[0.6666666666666666,\"#ed7953\"],[0.7777777777777778,\"#fb9f3a\"],[0.8888888888888888,\"#fdca26\"],[1.0,\"#f0f921\"]],\"type\":\"surface\"}],\"table\":[{\"cells\":{\"fill\":{\"color\":\"#EBF0F8\"},\"line\":{\"color\":\"white\"}},\"header\":{\"fill\":{\"color\":\"#C8D4E3\"},\"line\":{\"color\":\"white\"}},\"type\":\"table\"}]},\"layout\":{\"annotationdefaults\":{\"arrowcolor\":\"#2a3f5f\",\"arrowhead\":0,\"arrowwidth\":1},\"autotypenumbers\":\"strict\",\"coloraxis\":{\"colorbar\":{\"outlinewidth\":0,\"ticks\":\"\"}},\"colorscale\":{\"diverging\":[[0,\"#8e0152\"],[0.1,\"#c51b7d\"],[0.2,\"#de77ae\"],[0.3,\"#f1b6da\"],[0.4,\"#fde0ef\"],[0.5,\"#f7f7f7\"],[0.6,\"#e6f5d0\"],[0.7,\"#b8e186\"],[0.8,\"#7fbc41\"],[0.9,\"#4d9221\"],[1,\"#276419\"]],\"sequential\":[[0.0,\"#0d0887\"],[0.1111111111111111,\"#46039f\"],[0.2222222222222222,\"#7201a8\"],[0.3333333333333333,\"#9c179e\"],[0.4444444444444444,\"#bd3786\"],[0.5555555555555556,\"#d8576b\"],[0.6666666666666666,\"#ed7953\"],[0.7777777777777778,\"#fb9f3a\"],[0.8888888888888888,\"#fdca26\"],[1.0,\"#f0f921\"]],\"sequentialminus\":[[0.0,\"#0d0887\"],[0.1111111111111111,\"#46039f\"],[0.2222222222222222,\"#7201a8\"],[0.3333333333333333,\"#9c179e\"],[0.4444444444444444,\"#bd3786\"],[0.5555555555555556,\"#d8576b\"],[0.6666666666666666,\"#ed7953\"],[0.7777777777777778,\"#fb9f3a\"],[0.8888888888888888,\"#fdca26\"],[1.0,\"#f0f921\"]]},\"colorway\":[\"#636efa\",\"#EF553B\",\"#00cc96\",\"#ab63fa\",\"#FFA15A\",\"#19d3f3\",\"#FF6692\",\"#B6E880\",\"#FF97FF\",\"#FECB52\"],\"font\":{\"color\":\"#2a3f5f\"},\"geo\":{\"bgcolor\":\"white\",\"lakecolor\":\"white\",\"landcolor\":\"#E5ECF6\",\"showlakes\":true,\"showland\":true,\"subunitcolor\":\"white\"},\"hoverlabel\":{\"align\":\"left\"},\"hovermode\":\"closest\",\"mapbox\":{\"style\":\"light\"},\"paper_bgcolor\":\"white\",\"plot_bgcolor\":\"#E5ECF6\",\"polar\":{\"angularaxis\":{\"gridcolor\":\"white\",\"linecolor\":\"white\",\"ticks\":\"\"},\"bgcolor\":\"#E5ECF6\",\"radialaxis\":{\"gridcolor\":\"white\",\"linecolor\":\"white\",\"ticks\":\"\"}},\"scene\":{\"xaxis\":{\"backgroundcolor\":\"#E5ECF6\",\"gridcolor\":\"white\",\"gridwidth\":2,\"linecolor\":\"white\",\"showbackground\":true,\"ticks\":\"\",\"zerolinecolor\":\"white\"},\"yaxis\":{\"backgroundcolor\":\"#E5ECF6\",\"gridcolor\":\"white\",\"gridwidth\":2,\"linecolor\":\"white\",\"showbackground\":true,\"ticks\":\"\",\"zerolinecolor\":\"white\"},\"zaxis\":{\"backgroundcolor\":\"#E5ECF6\",\"gridcolor\":\"white\",\"gridwidth\":2,\"linecolor\":\"white\",\"showbackground\":true,\"ticks\":\"\",\"zerolinecolor\":\"white\"}},\"shapedefaults\":{\"line\":{\"color\":\"#2a3f5f\"}},\"ternary\":{\"aaxis\":{\"gridcolor\":\"white\",\"linecolor\":\"white\",\"ticks\":\"\"},\"baxis\":{\"gridcolor\":\"white\",\"linecolor\":\"white\",\"ticks\":\"\"},\"bgcolor\":\"#E5ECF6\",\"caxis\":{\"gridcolor\":\"white\",\"linecolor\":\"white\",\"ticks\":\"\"}},\"title\":{\"x\":0.05},\"xaxis\":{\"automargin\":true,\"gridcolor\":\"white\",\"linecolor\":\"white\",\"ticks\":\"\",\"title\":{\"standoff\":15},\"zerolinecolor\":\"white\",\"zerolinewidth\":2},\"yaxis\":{\"automargin\":true,\"gridcolor\":\"white\",\"linecolor\":\"white\",\"ticks\":\"\",\"title\":{\"standoff\":15},\"zerolinecolor\":\"white\",\"zerolinewidth\":2}}},\"title\":{\"text\":\"Sunburst Primary Essential Functions\"}},                        {\"responsive\": true}                    ).then(function(){\n                            \nvar gd = document.getElementById('c7b7fe4e-8ba8-42e1-9a8b-21c4b425c05b');\nvar x = new MutationObserver(function (mutations, observer) {{\n        var display = window.getComputedStyle(gd).display;\n        if (!display || display === 'none') {{\n            console.log([gd, 'removed!']);\n            Plotly.purge(gd);\n            observer.disconnect();\n        }}\n}});\n\n// Listen for the removal of the full notebook cells\nvar notebookContainer = gd.closest('#notebook-container');\nif (notebookContainer) {{\n    x.observe(notebookContainer, {childList: true});\n}}\n\n// Listen for the clearing of the current output cell\nvar outputEl = gd.closest('.output');\nif (outputEl) {{\n    x.observe(outputEl, {childList: true});\n}}\n\n                        })                };                            </script>        </div>\n</body>\n</html>"
     },
     "metadata": {},
     "output_type": "display_data"
    }
   ],
   "execution_count": null
  },
  {
   "cell_type": "markdown",
   "source": "## Essential Function Subcategories Distribution\nWe can observe all the subcategories distribution. \n\n> Content creation and digital learning are leading in this market. ",
   "metadata": {
    "papermill": {
     "duration": 0.070785,
     "end_time": "2021-09-19T11:56:00.423740",
     "exception": false,
     "start_time": "2021-09-19T11:56:00.352955",
     "status": "completed"
    },
    "tags": [],
    "cell_id": "00043-044ea769-cc50-4a03-8c44-07ca412a50b4",
    "deepnote_cell_type": "markdown"
   }
  },
  {
   "cell_type": "code",
   "metadata": {
    "_kg_hide-input": true,
    "execution": {
     "iopub.execute_input": "2021-09-19T11:56:00.592704Z",
     "iopub.status.busy": "2021-09-19T11:56:00.592010Z",
     "iopub.status.idle": "2021-09-19T11:56:00.681404Z",
     "shell.execute_reply": "2021-09-19T11:56:00.680910Z",
     "shell.execute_reply.started": "2021-09-19T11:09:33.229450Z"
    },
    "papermill": {
     "duration": 0.178292,
     "end_time": "2021-09-19T11:56:00.681546",
     "exception": false,
     "start_time": "2021-09-19T11:56:00.503254",
     "status": "completed"
    },
    "tags": [],
    "cell_id": "00044-6de2320a-9207-4dda-89db-3c88bb4f6704",
    "deepnote_to_be_reexecuted": false,
    "source_hash": "49ef13c2",
    "execution_start": 1634282975363,
    "execution_millis": 114,
    "deepnote_cell_type": "code"
   },
   "source": "fig = px.histogram(\n    DE,\n    x = \"counts\",\n    y = \"Essential_Function_sub\",\n    \n    title=\"Primary Essential Function Sub-Categories\",\n)\nfig.update_traces(marker = dict(\n            color='mediumpurple'\n            )),\nfig.show()",
   "outputs": [
    {
     "data": {
      "text/html": "<html>\n<head><meta charset=\"utf-8\" /></head>\n<body>\n    <div>            <script src=\"https://cdnjs.cloudflare.com/ajax/libs/mathjax/2.7.5/MathJax.js?config=TeX-AMS-MML_SVG\"></script><script type=\"text/javascript\">if (window.MathJax) {MathJax.Hub.Config({SVG: {font: \"STIX-Web\"}});}</script>                <script type=\"text/javascript\">window.PlotlyConfig = {MathJaxConfig: 'local'};</script>\n        <script src=\"https://cdn.plot.ly/plotly-2.4.2.min.js\"></script>                <div id=\"6618c8f7-7300-4337-8174-1d34155f353a\" class=\"plotly-graph-div\" style=\"height:525px; width:100%;\"></div>            <script type=\"text/javascript\">                                    window.PLOTLYENV=window.PLOTLYENV || {};                                    if (document.getElementById(\"6618c8f7-7300-4337-8174-1d34155f353a\")) {                    Plotly.newPlot(                        \"6618c8f7-7300-4337-8174-1d34155f353a\",                        [{\"alignmentgroup\":\"True\",\"bingroup\":\"y\",\"histfunc\":\"sum\",\"hovertemplate\":\"sum of counts=%{x}<br>Essential_Function_sub=%{y}<extra></extra>\",\"legendgroup\":\"\",\"marker\":{\"color\":\"mediumpurple\",\"pattern\":{\"shape\":\"\"}},\"name\":\"\",\"offsetgroup\":\"\",\"orientation\":\"h\",\"showlegend\":false,\"type\":\"histogram\",\"x\":[74,47,36,25,18,18,16,15,11,9,7,6,6,5,5,5,4,4,4,4,4,3,3,3,3,3,2,2,2,2,2,1,1,1,1],\"xaxis\":\"x\",\"y\":[\"Digital Learning Platforms\",\"Sites, Resources & Reference\",\"Content Creation & Curation\",\"Study Tools\",\"Courseware & Textbooks\",\"Sites, Resources & Reference - Games & Simulations\",\"Other\",\"Sites, Resources & Reference - Digital Collection & Repository\",\"Classroom Engagement & Instruction - Classroom Management\",\"Sites, Resources & Reference - Streaming Services\",\"Virtual Classroom - Video Conferencing & Screen Sharing\",\"Data, Analytics & Reporting - Site Hosting & Data Warehousing\",\"Study Tools - Q&A\",\"Online Course Providers & Technical Skills Development\",\"Learning Management Systems (LMS)\",\"Classroom Engagement & Instruction - Communication & Messaging\",\"Human Resources\",\"Classroom Engagement & Instruction - Assessment & Classroom Response\",\"Sites, Resources & Reference - Thesaurus & Dictionary\",\"Sites, Resources & References - Learning Materials & Supplies\",\"Sites, Resources & Reference - Encyclopedia\",\"Study Tools - Test Prep & Study Skills\",\"Career Planning & Job Search\",\"Data, Analytics & Reporting\",\"Teacher Resources - Professional Learning\",\"Teacher Resources - Lesson Planning\",\"Data, Analytics & Reporting - Student Information Systems (SIS)\",\"Large-Scale & Standardized Testing\",\"Other\",\"School Management Software - Mobile Device Management\",\"School Management Software - SSO\",\"Study Tools - Tutoring\",\"Admissions, Enrollment & Rostering\",\"Environmental, Health & Safety (EHS) Compliance\",\"Teacher Resources - Grading & Attendance\"],\"yaxis\":\"y\"}],                        {\"barmode\":\"relative\",\"legend\":{\"tracegroupgap\":0},\"template\":{\"data\":{\"bar\":[{\"error_x\":{\"color\":\"#2a3f5f\"},\"error_y\":{\"color\":\"#2a3f5f\"},\"marker\":{\"line\":{\"color\":\"#E5ECF6\",\"width\":0.5},\"pattern\":{\"fillmode\":\"overlay\",\"size\":10,\"solidity\":0.2}},\"type\":\"bar\"}],\"barpolar\":[{\"marker\":{\"line\":{\"color\":\"#E5ECF6\",\"width\":0.5},\"pattern\":{\"fillmode\":\"overlay\",\"size\":10,\"solidity\":0.2}},\"type\":\"barpolar\"}],\"carpet\":[{\"aaxis\":{\"endlinecolor\":\"#2a3f5f\",\"gridcolor\":\"white\",\"linecolor\":\"white\",\"minorgridcolor\":\"white\",\"startlinecolor\":\"#2a3f5f\"},\"baxis\":{\"endlinecolor\":\"#2a3f5f\",\"gridcolor\":\"white\",\"linecolor\":\"white\",\"minorgridcolor\":\"white\",\"startlinecolor\":\"#2a3f5f\"},\"type\":\"carpet\"}],\"choropleth\":[{\"colorbar\":{\"outlinewidth\":0,\"ticks\":\"\"},\"type\":\"choropleth\"}],\"contour\":[{\"colorbar\":{\"outlinewidth\":0,\"ticks\":\"\"},\"colorscale\":[[0.0,\"#0d0887\"],[0.1111111111111111,\"#46039f\"],[0.2222222222222222,\"#7201a8\"],[0.3333333333333333,\"#9c179e\"],[0.4444444444444444,\"#bd3786\"],[0.5555555555555556,\"#d8576b\"],[0.6666666666666666,\"#ed7953\"],[0.7777777777777778,\"#fb9f3a\"],[0.8888888888888888,\"#fdca26\"],[1.0,\"#f0f921\"]],\"type\":\"contour\"}],\"contourcarpet\":[{\"colorbar\":{\"outlinewidth\":0,\"ticks\":\"\"},\"type\":\"contourcarpet\"}],\"heatmap\":[{\"colorbar\":{\"outlinewidth\":0,\"ticks\":\"\"},\"colorscale\":[[0.0,\"#0d0887\"],[0.1111111111111111,\"#46039f\"],[0.2222222222222222,\"#7201a8\"],[0.3333333333333333,\"#9c179e\"],[0.4444444444444444,\"#bd3786\"],[0.5555555555555556,\"#d8576b\"],[0.6666666666666666,\"#ed7953\"],[0.7777777777777778,\"#fb9f3a\"],[0.8888888888888888,\"#fdca26\"],[1.0,\"#f0f921\"]],\"type\":\"heatmap\"}],\"heatmapgl\":[{\"colorbar\":{\"outlinewidth\":0,\"ticks\":\"\"},\"colorscale\":[[0.0,\"#0d0887\"],[0.1111111111111111,\"#46039f\"],[0.2222222222222222,\"#7201a8\"],[0.3333333333333333,\"#9c179e\"],[0.4444444444444444,\"#bd3786\"],[0.5555555555555556,\"#d8576b\"],[0.6666666666666666,\"#ed7953\"],[0.7777777777777778,\"#fb9f3a\"],[0.8888888888888888,\"#fdca26\"],[1.0,\"#f0f921\"]],\"type\":\"heatmapgl\"}],\"histogram\":[{\"marker\":{\"pattern\":{\"fillmode\":\"overlay\",\"size\":10,\"solidity\":0.2}},\"type\":\"histogram\"}],\"histogram2d\":[{\"colorbar\":{\"outlinewidth\":0,\"ticks\":\"\"},\"colorscale\":[[0.0,\"#0d0887\"],[0.1111111111111111,\"#46039f\"],[0.2222222222222222,\"#7201a8\"],[0.3333333333333333,\"#9c179e\"],[0.4444444444444444,\"#bd3786\"],[0.5555555555555556,\"#d8576b\"],[0.6666666666666666,\"#ed7953\"],[0.7777777777777778,\"#fb9f3a\"],[0.8888888888888888,\"#fdca26\"],[1.0,\"#f0f921\"]],\"type\":\"histogram2d\"}],\"histogram2dcontour\":[{\"colorbar\":{\"outlinewidth\":0,\"ticks\":\"\"},\"colorscale\":[[0.0,\"#0d0887\"],[0.1111111111111111,\"#46039f\"],[0.2222222222222222,\"#7201a8\"],[0.3333333333333333,\"#9c179e\"],[0.4444444444444444,\"#bd3786\"],[0.5555555555555556,\"#d8576b\"],[0.6666666666666666,\"#ed7953\"],[0.7777777777777778,\"#fb9f3a\"],[0.8888888888888888,\"#fdca26\"],[1.0,\"#f0f921\"]],\"type\":\"histogram2dcontour\"}],\"mesh3d\":[{\"colorbar\":{\"outlinewidth\":0,\"ticks\":\"\"},\"type\":\"mesh3d\"}],\"parcoords\":[{\"line\":{\"colorbar\":{\"outlinewidth\":0,\"ticks\":\"\"}},\"type\":\"parcoords\"}],\"pie\":[{\"automargin\":true,\"type\":\"pie\"}],\"scatter\":[{\"marker\":{\"colorbar\":{\"outlinewidth\":0,\"ticks\":\"\"}},\"type\":\"scatter\"}],\"scatter3d\":[{\"line\":{\"colorbar\":{\"outlinewidth\":0,\"ticks\":\"\"}},\"marker\":{\"colorbar\":{\"outlinewidth\":0,\"ticks\":\"\"}},\"type\":\"scatter3d\"}],\"scattercarpet\":[{\"marker\":{\"colorbar\":{\"outlinewidth\":0,\"ticks\":\"\"}},\"type\":\"scattercarpet\"}],\"scattergeo\":[{\"marker\":{\"colorbar\":{\"outlinewidth\":0,\"ticks\":\"\"}},\"type\":\"scattergeo\"}],\"scattergl\":[{\"marker\":{\"colorbar\":{\"outlinewidth\":0,\"ticks\":\"\"}},\"type\":\"scattergl\"}],\"scattermapbox\":[{\"marker\":{\"colorbar\":{\"outlinewidth\":0,\"ticks\":\"\"}},\"type\":\"scattermapbox\"}],\"scatterpolar\":[{\"marker\":{\"colorbar\":{\"outlinewidth\":0,\"ticks\":\"\"}},\"type\":\"scatterpolar\"}],\"scatterpolargl\":[{\"marker\":{\"colorbar\":{\"outlinewidth\":0,\"ticks\":\"\"}},\"type\":\"scatterpolargl\"}],\"scatterternary\":[{\"marker\":{\"colorbar\":{\"outlinewidth\":0,\"ticks\":\"\"}},\"type\":\"scatterternary\"}],\"surface\":[{\"colorbar\":{\"outlinewidth\":0,\"ticks\":\"\"},\"colorscale\":[[0.0,\"#0d0887\"],[0.1111111111111111,\"#46039f\"],[0.2222222222222222,\"#7201a8\"],[0.3333333333333333,\"#9c179e\"],[0.4444444444444444,\"#bd3786\"],[0.5555555555555556,\"#d8576b\"],[0.6666666666666666,\"#ed7953\"],[0.7777777777777778,\"#fb9f3a\"],[0.8888888888888888,\"#fdca26\"],[1.0,\"#f0f921\"]],\"type\":\"surface\"}],\"table\":[{\"cells\":{\"fill\":{\"color\":\"#EBF0F8\"},\"line\":{\"color\":\"white\"}},\"header\":{\"fill\":{\"color\":\"#C8D4E3\"},\"line\":{\"color\":\"white\"}},\"type\":\"table\"}]},\"layout\":{\"annotationdefaults\":{\"arrowcolor\":\"#2a3f5f\",\"arrowhead\":0,\"arrowwidth\":1},\"autotypenumbers\":\"strict\",\"coloraxis\":{\"colorbar\":{\"outlinewidth\":0,\"ticks\":\"\"}},\"colorscale\":{\"diverging\":[[0,\"#8e0152\"],[0.1,\"#c51b7d\"],[0.2,\"#de77ae\"],[0.3,\"#f1b6da\"],[0.4,\"#fde0ef\"],[0.5,\"#f7f7f7\"],[0.6,\"#e6f5d0\"],[0.7,\"#b8e186\"],[0.8,\"#7fbc41\"],[0.9,\"#4d9221\"],[1,\"#276419\"]],\"sequential\":[[0.0,\"#0d0887\"],[0.1111111111111111,\"#46039f\"],[0.2222222222222222,\"#7201a8\"],[0.3333333333333333,\"#9c179e\"],[0.4444444444444444,\"#bd3786\"],[0.5555555555555556,\"#d8576b\"],[0.6666666666666666,\"#ed7953\"],[0.7777777777777778,\"#fb9f3a\"],[0.8888888888888888,\"#fdca26\"],[1.0,\"#f0f921\"]],\"sequentialminus\":[[0.0,\"#0d0887\"],[0.1111111111111111,\"#46039f\"],[0.2222222222222222,\"#7201a8\"],[0.3333333333333333,\"#9c179e\"],[0.4444444444444444,\"#bd3786\"],[0.5555555555555556,\"#d8576b\"],[0.6666666666666666,\"#ed7953\"],[0.7777777777777778,\"#fb9f3a\"],[0.8888888888888888,\"#fdca26\"],[1.0,\"#f0f921\"]]},\"colorway\":[\"#636efa\",\"#EF553B\",\"#00cc96\",\"#ab63fa\",\"#FFA15A\",\"#19d3f3\",\"#FF6692\",\"#B6E880\",\"#FF97FF\",\"#FECB52\"],\"font\":{\"color\":\"#2a3f5f\"},\"geo\":{\"bgcolor\":\"white\",\"lakecolor\":\"white\",\"landcolor\":\"#E5ECF6\",\"showlakes\":true,\"showland\":true,\"subunitcolor\":\"white\"},\"hoverlabel\":{\"align\":\"left\"},\"hovermode\":\"closest\",\"mapbox\":{\"style\":\"light\"},\"paper_bgcolor\":\"white\",\"plot_bgcolor\":\"#E5ECF6\",\"polar\":{\"angularaxis\":{\"gridcolor\":\"white\",\"linecolor\":\"white\",\"ticks\":\"\"},\"bgcolor\":\"#E5ECF6\",\"radialaxis\":{\"gridcolor\":\"white\",\"linecolor\":\"white\",\"ticks\":\"\"}},\"scene\":{\"xaxis\":{\"backgroundcolor\":\"#E5ECF6\",\"gridcolor\":\"white\",\"gridwidth\":2,\"linecolor\":\"white\",\"showbackground\":true,\"ticks\":\"\",\"zerolinecolor\":\"white\"},\"yaxis\":{\"backgroundcolor\":\"#E5ECF6\",\"gridcolor\":\"white\",\"gridwidth\":2,\"linecolor\":\"white\",\"showbackground\":true,\"ticks\":\"\",\"zerolinecolor\":\"white\"},\"zaxis\":{\"backgroundcolor\":\"#E5ECF6\",\"gridcolor\":\"white\",\"gridwidth\":2,\"linecolor\":\"white\",\"showbackground\":true,\"ticks\":\"\",\"zerolinecolor\":\"white\"}},\"shapedefaults\":{\"line\":{\"color\":\"#2a3f5f\"}},\"ternary\":{\"aaxis\":{\"gridcolor\":\"white\",\"linecolor\":\"white\",\"ticks\":\"\"},\"baxis\":{\"gridcolor\":\"white\",\"linecolor\":\"white\",\"ticks\":\"\"},\"bgcolor\":\"#E5ECF6\",\"caxis\":{\"gridcolor\":\"white\",\"linecolor\":\"white\",\"ticks\":\"\"}},\"title\":{\"x\":0.05},\"xaxis\":{\"automargin\":true,\"gridcolor\":\"white\",\"linecolor\":\"white\",\"ticks\":\"\",\"title\":{\"standoff\":15},\"zerolinecolor\":\"white\",\"zerolinewidth\":2},\"yaxis\":{\"automargin\":true,\"gridcolor\":\"white\",\"linecolor\":\"white\",\"ticks\":\"\",\"title\":{\"standoff\":15},\"zerolinecolor\":\"white\",\"zerolinewidth\":2}}},\"title\":{\"text\":\"Primary Essential Function Sub-Categories\"},\"xaxis\":{\"anchor\":\"y\",\"domain\":[0.0,1.0],\"title\":{\"text\":\"sum of counts\"}},\"yaxis\":{\"anchor\":\"x\",\"domain\":[0.0,1.0],\"title\":{\"text\":\"Essential_Function_sub\"}}},                        {\"responsive\": true}                    ).then(function(){\n                            \nvar gd = document.getElementById('6618c8f7-7300-4337-8174-1d34155f353a');\nvar x = new MutationObserver(function (mutations, observer) {{\n        var display = window.getComputedStyle(gd).display;\n        if (!display || display === 'none') {{\n            console.log([gd, 'removed!']);\n            Plotly.purge(gd);\n            observer.disconnect();\n        }}\n}});\n\n// Listen for the removal of the full notebook cells\nvar notebookContainer = gd.closest('#notebook-container');\nif (notebookContainer) {{\n    x.observe(notebookContainer, {childList: true});\n}}\n\n// Listen for the clearing of the current output cell\nvar outputEl = gd.closest('.output');\nif (outputEl) {{\n    x.observe(outputEl, {childList: true});\n}}\n\n                        })                };                            </script>        </div>\n</body>\n</html>"
     },
     "metadata": {},
     "output_type": "display_data"
    }
   ],
   "execution_count": null
  },
  {
   "cell_type": "markdown",
   "source": "# Merging Three Datasets\nWe will be merging all three datasets on `LP ID` and `district id`. As we can see the combined dataset has 18 columns that will later help us with both geographical and time series plots. ",
   "metadata": {
    "papermill": {
     "duration": 0.070286,
     "end_time": "2021-09-19T11:56:00.823357",
     "exception": false,
     "start_time": "2021-09-19T11:56:00.753071",
     "status": "completed"
    },
    "tags": [],
    "cell_id": "00045-6d318ce0-c75e-4f4c-a3ce-700b94621bb3",
    "deepnote_cell_type": "markdown"
   }
  },
  {
   "cell_type": "code",
   "metadata": {
    "_kg_hide-input": true,
    "execution": {
     "iopub.execute_input": "2021-09-19T11:56:02.249924Z",
     "iopub.status.busy": "2021-09-19T11:56:02.249295Z",
     "iopub.status.idle": "2021-09-19T11:56:09.575619Z",
     "shell.execute_reply": "2021-09-19T11:56:09.575087Z",
     "shell.execute_reply.started": "2021-09-19T11:09:33.443100Z"
    },
    "papermill": {
     "duration": 8.680875,
     "end_time": "2021-09-19T11:56:09.575760",
     "exception": false,
     "start_time": "2021-09-19T11:56:00.894885",
     "status": "completed"
    },
    "tags": [],
    "cell_id": "00046-3f1db9f7-9001-4b50-bc85-ec0d91404dc8",
    "deepnote_to_be_reexecuted": false,
    "source_hash": "199484d0",
    "execution_start": 1634282976329,
    "execution_millis": 4733,
    "deepnote_cell_type": "code"
   },
   "source": "engagement_data['time'] = pd.to_datetime(engagement_data['time'])\nengagement_data[\"district_id\"] = engagement_data[\"district_id\"].astype(str).astype(int)",
   "outputs": [],
   "execution_count": null
  },
  {
   "cell_type": "code",
   "metadata": {
    "_kg_hide-input": true,
    "execution": {
     "iopub.execute_input": "2021-09-19T11:56:09.725550Z",
     "iopub.status.busy": "2021-09-19T11:56:09.724873Z",
     "iopub.status.idle": "2021-09-19T11:56:20.332338Z",
     "shell.execute_reply": "2021-09-19T11:56:20.331700Z",
     "shell.execute_reply.started": "2021-09-19T11:09:39.517187Z"
    },
    "papermill": {
     "duration": 10.684909,
     "end_time": "2021-09-19T11:56:20.332473",
     "exception": false,
     "start_time": "2021-09-19T11:56:09.647564",
     "status": "completed"
    },
    "tags": [],
    "cell_id": "00047-2a4b3b2c-95dc-4f41-a6b4-f0d0a2b72d1c",
    "deepnote_to_be_reexecuted": false,
    "source_hash": "4620fa08",
    "execution_start": 1634282981078,
    "execution_millis": 8112,
    "deepnote_cell_type": "code"
   },
   "source": "complete_data = products_data.merge(\n                                   engagement_data,\n                                   left_on='LP ID', \n                                   right_on='lp_id'\n                                   ).merge(\n                                    districts_data,\n                                    left_on='district_id',\n                                    right_on='district_id'   \n                                    )  # merging 3 datasets triggers memory warning    \n\n",
   "outputs": [],
   "execution_count": null
  },
  {
   "cell_type": "code",
   "metadata": {
    "_kg_hide-input": true,
    "execution": {
     "iopub.execute_input": "2021-09-19T11:56:20.499003Z",
     "iopub.status.busy": "2021-09-19T11:56:20.497974Z",
     "iopub.status.idle": "2021-09-19T11:56:20.502230Z",
     "shell.execute_reply": "2021-09-19T11:56:20.501612Z",
     "shell.execute_reply.started": "2021-09-19T11:09:47.649158Z"
    },
    "papermill": {
     "duration": 0.098791,
     "end_time": "2021-09-19T11:56:20.502371",
     "exception": false,
     "start_time": "2021-09-19T11:56:20.403580",
     "status": "completed"
    },
    "tags": [],
    "cell_id": "00048-872c04dd-602b-47b6-8476-c5e8eb7b3aa3",
    "deepnote_to_be_reexecuted": false,
    "source_hash": "4d7e688f",
    "execution_start": 1634282989190,
    "execution_millis": 17,
    "deepnote_cell_type": "code"
   },
   "source": "complete_data.head()",
   "outputs": [
    {
     "output_type": "execute_result",
     "execution_count": 21,
     "data": {
      "application/vnd.deepnote.dataframe.v2+json": {
       "row_count": 5,
       "column_count": 18,
       "columns": [
        {
         "name": "LP ID",
         "dtype": "int64",
         "stats": {
          "unique_count": 1,
          "nan_count": 0,
          "min": "13117",
          "max": "13117",
          "histogram": [
           {
            "bin_start": 13116.5,
            "bin_end": 13116.6,
            "count": 0
           },
           {
            "bin_start": 13116.6,
            "bin_end": 13116.7,
            "count": 0
           },
           {
            "bin_start": 13116.7,
            "bin_end": 13116.8,
            "count": 0
           },
           {
            "bin_start": 13116.8,
            "bin_end": 13116.9,
            "count": 0
           },
           {
            "bin_start": 13116.9,
            "bin_end": 13117,
            "count": 0
           },
           {
            "bin_start": 13117,
            "bin_end": 13117.1,
            "count": 5
           },
           {
            "bin_start": 13117.1,
            "bin_end": 13117.2,
            "count": 0
           },
           {
            "bin_start": 13117.2,
            "bin_end": 13117.3,
            "count": 0
           },
           {
            "bin_start": 13117.3,
            "bin_end": 13117.4,
            "count": 0
           },
           {
            "bin_start": 13117.4,
            "bin_end": 13117.5,
            "count": 0
           }
          ]
         }
        },
        {
         "name": "URL",
         "dtype": "object",
         "stats": {
          "unique_count": 1,
          "nan_count": 0,
          "categories": [
           {
            "name": "https://www.splashmath.com",
            "count": 5
           }
          ]
         }
        },
        {
         "name": "Product Name",
         "dtype": "object",
         "stats": {
          "unique_count": 1,
          "nan_count": 0,
          "categories": [
           {
            "name": "SplashLearn",
            "count": 5
           }
          ]
         }
        },
        {
         "name": "Provider/Company Name",
         "dtype": "object",
         "stats": {
          "unique_count": 1,
          "nan_count": 0,
          "categories": [
           {
            "name": "StudyPad Inc.",
            "count": 5
           }
          ]
         }
        },
        {
         "name": "Sector(s)",
         "dtype": "object",
         "stats": {
          "unique_count": 1,
          "nan_count": 0,
          "categories": [
           {
            "name": "PreK-12",
            "count": 5
           }
          ]
         }
        },
        {
         "name": "Primary Essential Function",
         "dtype": "object",
         "stats": {
          "unique_count": 1,
          "nan_count": 0,
          "categories": [
           {
            "name": "LC - Digital Learning Platforms",
            "count": 5
           }
          ]
         }
        },
        {
         "name": "Essential_Function_main",
         "dtype": "object",
         "stats": {
          "unique_count": 1,
          "nan_count": 0,
          "categories": [
           {
            "name": "LC",
            "count": 5
           }
          ]
         }
        },
        {
         "name": "Essential_Function_sub",
         "dtype": "object",
         "stats": {
          "unique_count": 1,
          "nan_count": 0,
          "categories": [
           {
            "name": "Digital Learning Platforms",
            "count": 5
           }
          ]
         }
        },
        {
         "name": "time",
         "dtype": "datetime64[ns]",
         "stats": {
          "unique_count": 5,
          "nan_count": 0,
          "min": "2020-02-27 00:00:00",
          "max": "2020-03-05 00:00:00",
          "histogram": [
           {
            "bin_start": 1582761600000000000,
            "bin_end": 1582822080000000000,
            "count": 1
           },
           {
            "bin_start": 1582822080000000000,
            "bin_end": 1582882560000000000,
            "count": 0
           },
           {
            "bin_start": 1582882560000000000,
            "bin_end": 1582943040000000000,
            "count": 0
           },
           {
            "bin_start": 1582943040000000000,
            "bin_end": 1583003520000000000,
            "count": 0
           },
           {
            "bin_start": 1583003520000000000,
            "bin_end": 1583064000000000000,
            "count": 0
           },
           {
            "bin_start": 1583064000000000000,
            "bin_end": 1583124480000000000,
            "count": 1
           },
           {
            "bin_start": 1583124480000000000,
            "bin_end": 1583184960000000000,
            "count": 0
           },
           {
            "bin_start": 1583184960000000000,
            "bin_end": 1583245440000000000,
            "count": 1
           },
           {
            "bin_start": 1583245440000000000,
            "bin_end": 1583305920000000000,
            "count": 1
           },
           {
            "bin_start": 1583305920000000000,
            "bin_end": 1583366400000000000,
            "count": 1
           }
          ]
         }
        },
        {
         "name": "lp_id",
         "dtype": "float64",
         "stats": {
          "unique_count": 1,
          "nan_count": 0,
          "min": "13117.0",
          "max": "13117.0",
          "histogram": [
           {
            "bin_start": 13116.5,
            "bin_end": 13116.6,
            "count": 0
           },
           {
            "bin_start": 13116.6,
            "bin_end": 13116.7,
            "count": 0
           },
           {
            "bin_start": 13116.7,
            "bin_end": 13116.8,
            "count": 0
           },
           {
            "bin_start": 13116.8,
            "bin_end": 13116.9,
            "count": 0
           },
           {
            "bin_start": 13116.9,
            "bin_end": 13117,
            "count": 0
           },
           {
            "bin_start": 13117,
            "bin_end": 13117.1,
            "count": 5
           },
           {
            "bin_start": 13117.1,
            "bin_end": 13117.2,
            "count": 0
           },
           {
            "bin_start": 13117.2,
            "bin_end": 13117.3,
            "count": 0
           },
           {
            "bin_start": 13117.3,
            "bin_end": 13117.4,
            "count": 0
           },
           {
            "bin_start": 13117.4,
            "bin_end": 13117.5,
            "count": 0
           }
          ]
         }
        },
        {
         "name": "pct_access",
         "dtype": "float64",
         "stats": {
          "unique_count": 4,
          "nan_count": 0,
          "min": "0.08",
          "max": "0.39",
          "histogram": [
           {
            "bin_start": 0.08,
            "bin_end": 0.111,
            "count": 1
           },
           {
            "bin_start": 0.111,
            "bin_end": 0.14200000000000002,
            "count": 2
           },
           {
            "bin_start": 0.14200000000000002,
            "bin_end": 0.173,
            "count": 0
           },
           {
            "bin_start": 0.173,
            "bin_end": 0.20400000000000001,
            "count": 1
           },
           {
            "bin_start": 0.20400000000000001,
            "bin_end": 0.235,
            "count": 0
           },
           {
            "bin_start": 0.235,
            "bin_end": 0.266,
            "count": 0
           },
           {
            "bin_start": 0.266,
            "bin_end": 0.297,
            "count": 0
           },
           {
            "bin_start": 0.297,
            "bin_end": 0.328,
            "count": 0
           },
           {
            "bin_start": 0.328,
            "bin_end": 0.35900000000000004,
            "count": 0
           },
           {
            "bin_start": 0.35900000000000004,
            "bin_end": 0.39,
            "count": 1
           }
          ]
         }
        },
        {
         "name": "engagement_index",
         "dtype": "float64",
         "stats": {
          "unique_count": 5,
          "nan_count": 0,
          "min": "2.84",
          "max": "69.37",
          "histogram": [
           {
            "bin_start": 2.84,
            "bin_end": 9.493,
            "count": 4
           },
           {
            "bin_start": 9.493,
            "bin_end": 16.146,
            "count": 0
           },
           {
            "bin_start": 16.146,
            "bin_end": 22.799000000000003,
            "count": 0
           },
           {
            "bin_start": 22.799000000000003,
            "bin_end": 29.452,
            "count": 0
           },
           {
            "bin_start": 29.452,
            "bin_end": 36.105000000000004,
            "count": 0
           },
           {
            "bin_start": 36.105000000000004,
            "bin_end": 42.75800000000001,
            "count": 0
           },
           {
            "bin_start": 42.75800000000001,
            "bin_end": 49.411,
            "count": 0
           },
           {
            "bin_start": 49.411,
            "bin_end": 56.06400000000001,
            "count": 0
           },
           {
            "bin_start": 56.06400000000001,
            "bin_end": 62.717,
            "count": 0
           },
           {
            "bin_start": 62.717,
            "bin_end": 69.37,
            "count": 1
           }
          ]
         }
        },
        {
         "name": "district_id",
         "dtype": "int64",
         "stats": {
          "unique_count": 1,
          "nan_count": 0,
          "min": "8815",
          "max": "8815",
          "histogram": [
           {
            "bin_start": 8814.5,
            "bin_end": 8814.6,
            "count": 0
           },
           {
            "bin_start": 8814.6,
            "bin_end": 8814.7,
            "count": 0
           },
           {
            "bin_start": 8814.7,
            "bin_end": 8814.8,
            "count": 0
           },
           {
            "bin_start": 8814.8,
            "bin_end": 8814.9,
            "count": 0
           },
           {
            "bin_start": 8814.9,
            "bin_end": 8815,
            "count": 0
           },
           {
            "bin_start": 8815,
            "bin_end": 8815.1,
            "count": 5
           },
           {
            "bin_start": 8815.1,
            "bin_end": 8815.2,
            "count": 0
           },
           {
            "bin_start": 8815.2,
            "bin_end": 8815.3,
            "count": 0
           },
           {
            "bin_start": 8815.3,
            "bin_end": 8815.4,
            "count": 0
           },
           {
            "bin_start": 8815.4,
            "bin_end": 8815.5,
            "count": 0
           }
          ]
         }
        },
        {
         "name": "state",
         "dtype": "object",
         "stats": {
          "unique_count": 1,
          "nan_count": 0,
          "categories": [
           {
            "name": "Illinois",
            "count": 5
           }
          ]
         }
        },
        {
         "name": "locale",
         "dtype": "object",
         "stats": {
          "unique_count": 1,
          "nan_count": 0,
          "categories": [
           {
            "name": "Suburb",
            "count": 5
           }
          ]
         }
        },
        {
         "name": "pct_black/hispanic",
         "dtype": "float64",
         "stats": {
          "unique_count": 1,
          "nan_count": 0,
          "min": "0.1",
          "max": "0.1",
          "histogram": [
           {
            "bin_start": -0.4,
            "bin_end": -0.30000000000000004,
            "count": 0
           },
           {
            "bin_start": -0.30000000000000004,
            "bin_end": -0.2,
            "count": 0
           },
           {
            "bin_start": -0.2,
            "bin_end": -0.09999999999999998,
            "count": 0
           },
           {
            "bin_start": -0.09999999999999998,
            "bin_end": 0,
            "count": 0
           },
           {
            "bin_start": 0,
            "bin_end": 0.09999999999999998,
            "count": 0
           },
           {
            "bin_start": 0.09999999999999998,
            "bin_end": 0.20000000000000007,
            "count": 5
           },
           {
            "bin_start": 0.20000000000000007,
            "bin_end": 0.30000000000000004,
            "count": 0
           },
           {
            "bin_start": 0.30000000000000004,
            "bin_end": 0.4,
            "count": 0
           },
           {
            "bin_start": 0.4,
            "bin_end": 0.5,
            "count": 0
           },
           {
            "bin_start": 0.5,
            "bin_end": 0.6,
            "count": 0
           }
          ]
         }
        },
        {
         "name": "pct_free/reduced",
         "dtype": "float64",
         "stats": {
          "unique_count": 1,
          "nan_count": 0,
          "min": "0.1",
          "max": "0.1",
          "histogram": [
           {
            "bin_start": -0.4,
            "bin_end": -0.30000000000000004,
            "count": 0
           },
           {
            "bin_start": -0.30000000000000004,
            "bin_end": -0.2,
            "count": 0
           },
           {
            "bin_start": -0.2,
            "bin_end": -0.09999999999999998,
            "count": 0
           },
           {
            "bin_start": -0.09999999999999998,
            "bin_end": 0,
            "count": 0
           },
           {
            "bin_start": 0,
            "bin_end": 0.09999999999999998,
            "count": 0
           },
           {
            "bin_start": 0.09999999999999998,
            "bin_end": 0.20000000000000007,
            "count": 5
           },
           {
            "bin_start": 0.20000000000000007,
            "bin_end": 0.30000000000000004,
            "count": 0
           },
           {
            "bin_start": 0.30000000000000004,
            "bin_end": 0.4,
            "count": 0
           },
           {
            "bin_start": 0.4,
            "bin_end": 0.5,
            "count": 0
           },
           {
            "bin_start": 0.5,
            "bin_end": 0.6,
            "count": 0
           }
          ]
         }
        },
        {
         "name": "pp_total_raw",
         "dtype": "int64",
         "stats": {
          "unique_count": 1,
          "nan_count": 0,
          "min": "15000",
          "max": "15000",
          "histogram": [
           {
            "bin_start": 14999.5,
            "bin_end": 14999.6,
            "count": 0
           },
           {
            "bin_start": 14999.6,
            "bin_end": 14999.7,
            "count": 0
           },
           {
            "bin_start": 14999.7,
            "bin_end": 14999.8,
            "count": 0
           },
           {
            "bin_start": 14999.8,
            "bin_end": 14999.9,
            "count": 0
           },
           {
            "bin_start": 14999.9,
            "bin_end": 15000,
            "count": 0
           },
           {
            "bin_start": 15000,
            "bin_end": 15000.1,
            "count": 5
           },
           {
            "bin_start": 15000.1,
            "bin_end": 15000.2,
            "count": 0
           },
           {
            "bin_start": 15000.2,
            "bin_end": 15000.3,
            "count": 0
           },
           {
            "bin_start": 15000.3,
            "bin_end": 15000.4,
            "count": 0
           },
           {
            "bin_start": 15000.4,
            "bin_end": 15000.5,
            "count": 0
           }
          ]
         }
        },
        {
         "name": "_deepnote_index_column",
         "dtype": "int64"
        }
       ],
       "rows_top": [
        {
         "LP ID": 13117,
         "URL": "https://www.splashmath.com",
         "Product Name": "SplashLearn",
         "Provider/Company Name": "StudyPad Inc.",
         "Sector(s)": "PreK-12",
         "Primary Essential Function": "LC - Digital Learning Platforms",
         "Essential_Function_main": "LC",
         "Essential_Function_sub": "Digital Learning Platforms",
         "time": "2020-02-27T00:00:00.000000",
         "lp_id": 13117,
         "pct_access": 0.14,
         "engagement_index": 2.84,
         "district_id": 8815,
         "state": "Illinois",
         "locale": "Suburb",
         "pct_black/hispanic": 0.1,
         "pct_free/reduced": 0.1,
         "pp_total_raw": 15000,
         "_deepnote_index_column": 0
        },
        {
         "LP ID": 13117,
         "URL": "https://www.splashmath.com",
         "Product Name": "SplashLearn",
         "Provider/Company Name": "StudyPad Inc.",
         "Sector(s)": "PreK-12",
         "Primary Essential Function": "LC - Digital Learning Platforms",
         "Essential_Function_main": "LC",
         "Essential_Function_sub": "Digital Learning Platforms",
         "time": "2020-03-02T00:00:00.000000",
         "lp_id": 13117,
         "pct_access": 0.18,
         "engagement_index": 6.13,
         "district_id": 8815,
         "state": "Illinois",
         "locale": "Suburb",
         "pct_black/hispanic": 0.1,
         "pct_free/reduced": 0.1,
         "pp_total_raw": 15000,
         "_deepnote_index_column": 1
        },
        {
         "LP ID": 13117,
         "URL": "https://www.splashmath.com",
         "Product Name": "SplashLearn",
         "Provider/Company Name": "StudyPad Inc.",
         "Sector(s)": "PreK-12",
         "Primary Essential Function": "LC - Digital Learning Platforms",
         "Essential_Function_main": "LC",
         "Essential_Function_sub": "Digital Learning Platforms",
         "time": "2020-03-03T00:00:00.000000",
         "lp_id": 13117,
         "pct_access": 0.08,
         "engagement_index": 3.18,
         "district_id": 8815,
         "state": "Illinois",
         "locale": "Suburb",
         "pct_black/hispanic": 0.1,
         "pct_free/reduced": 0.1,
         "pp_total_raw": 15000,
         "_deepnote_index_column": 2
        },
        {
         "LP ID": 13117,
         "URL": "https://www.splashmath.com",
         "Product Name": "SplashLearn",
         "Provider/Company Name": "StudyPad Inc.",
         "Sector(s)": "PreK-12",
         "Primary Essential Function": "LC - Digital Learning Platforms",
         "Essential_Function_main": "LC",
         "Essential_Function_sub": "Digital Learning Platforms",
         "time": "2020-03-04T00:00:00.000000",
         "lp_id": 13117,
         "pct_access": 0.14,
         "engagement_index": 8.02,
         "district_id": 8815,
         "state": "Illinois",
         "locale": "Suburb",
         "pct_black/hispanic": 0.1,
         "pct_free/reduced": 0.1,
         "pp_total_raw": 15000,
         "_deepnote_index_column": 3
        },
        {
         "LP ID": 13117,
         "URL": "https://www.splashmath.com",
         "Product Name": "SplashLearn",
         "Provider/Company Name": "StudyPad Inc.",
         "Sector(s)": "PreK-12",
         "Primary Essential Function": "LC - Digital Learning Platforms",
         "Essential_Function_main": "LC",
         "Essential_Function_sub": "Digital Learning Platforms",
         "time": "2020-03-05T00:00:00.000000",
         "lp_id": 13117,
         "pct_access": 0.39,
         "engagement_index": 69.37,
         "district_id": 8815,
         "state": "Illinois",
         "locale": "Suburb",
         "pct_black/hispanic": 0.1,
         "pct_free/reduced": 0.1,
         "pp_total_raw": 15000,
         "_deepnote_index_column": 4
        }
       ],
       "rows_bottom": null
      },
      "text/plain": "   LP ID                         URL Product Name Provider/Company Name  \\\n0  13117  https://www.splashmath.com  SplashLearn         StudyPad Inc.   \n1  13117  https://www.splashmath.com  SplashLearn         StudyPad Inc.   \n2  13117  https://www.splashmath.com  SplashLearn         StudyPad Inc.   \n3  13117  https://www.splashmath.com  SplashLearn         StudyPad Inc.   \n4  13117  https://www.splashmath.com  SplashLearn         StudyPad Inc.   \n\n  Sector(s)       Primary Essential Function Essential_Function_main  \\\n0   PreK-12  LC - Digital Learning Platforms                      LC   \n1   PreK-12  LC - Digital Learning Platforms                      LC   \n2   PreK-12  LC - Digital Learning Platforms                      LC   \n3   PreK-12  LC - Digital Learning Platforms                      LC   \n4   PreK-12  LC - Digital Learning Platforms                      LC   \n\n       Essential_Function_sub       time    lp_id  pct_access  \\\n0  Digital Learning Platforms 2020-02-27  13117.0        0.14   \n1  Digital Learning Platforms 2020-03-02  13117.0        0.18   \n2  Digital Learning Platforms 2020-03-03  13117.0        0.08   \n3  Digital Learning Platforms 2020-03-04  13117.0        0.14   \n4  Digital Learning Platforms 2020-03-05  13117.0        0.39   \n\n   engagement_index  district_id     state  locale  pct_black/hispanic  \\\n0              2.84         8815  Illinois  Suburb                 0.1   \n1              6.13         8815  Illinois  Suburb                 0.1   \n2              3.18         8815  Illinois  Suburb                 0.1   \n3              8.02         8815  Illinois  Suburb                 0.1   \n4             69.37         8815  Illinois  Suburb                 0.1   \n\n   pct_free/reduced  pp_total_raw  \n0               0.1         15000  \n1               0.1         15000  \n2               0.1         15000  \n3               0.1         15000  \n4               0.1         15000  ",
      "text/html": "<div>\n<style scoped>\n    .dataframe tbody tr th:only-of-type {\n        vertical-align: middle;\n    }\n\n    .dataframe tbody tr th {\n        vertical-align: top;\n    }\n\n    .dataframe thead th {\n        text-align: right;\n    }\n</style>\n<table border=\"1\" class=\"dataframe\">\n  <thead>\n    <tr style=\"text-align: right;\">\n      <th></th>\n      <th>LP ID</th>\n      <th>URL</th>\n      <th>Product Name</th>\n      <th>Provider/Company Name</th>\n      <th>Sector(s)</th>\n      <th>Primary Essential Function</th>\n      <th>Essential_Function_main</th>\n      <th>Essential_Function_sub</th>\n      <th>time</th>\n      <th>lp_id</th>\n      <th>pct_access</th>\n      <th>engagement_index</th>\n      <th>district_id</th>\n      <th>state</th>\n      <th>locale</th>\n      <th>pct_black/hispanic</th>\n      <th>pct_free/reduced</th>\n      <th>pp_total_raw</th>\n    </tr>\n  </thead>\n  <tbody>\n    <tr>\n      <th>0</th>\n      <td>13117</td>\n      <td>https://www.splashmath.com</td>\n      <td>SplashLearn</td>\n      <td>StudyPad Inc.</td>\n      <td>PreK-12</td>\n      <td>LC - Digital Learning Platforms</td>\n      <td>LC</td>\n      <td>Digital Learning Platforms</td>\n      <td>2020-02-27</td>\n      <td>13117.0</td>\n      <td>0.14</td>\n      <td>2.84</td>\n      <td>8815</td>\n      <td>Illinois</td>\n      <td>Suburb</td>\n      <td>0.1</td>\n      <td>0.1</td>\n      <td>15000</td>\n    </tr>\n    <tr>\n      <th>1</th>\n      <td>13117</td>\n      <td>https://www.splashmath.com</td>\n      <td>SplashLearn</td>\n      <td>StudyPad Inc.</td>\n      <td>PreK-12</td>\n      <td>LC - Digital Learning Platforms</td>\n      <td>LC</td>\n      <td>Digital Learning Platforms</td>\n      <td>2020-03-02</td>\n      <td>13117.0</td>\n      <td>0.18</td>\n      <td>6.13</td>\n      <td>8815</td>\n      <td>Illinois</td>\n      <td>Suburb</td>\n      <td>0.1</td>\n      <td>0.1</td>\n      <td>15000</td>\n    </tr>\n    <tr>\n      <th>2</th>\n      <td>13117</td>\n      <td>https://www.splashmath.com</td>\n      <td>SplashLearn</td>\n      <td>StudyPad Inc.</td>\n      <td>PreK-12</td>\n      <td>LC - Digital Learning Platforms</td>\n      <td>LC</td>\n      <td>Digital Learning Platforms</td>\n      <td>2020-03-03</td>\n      <td>13117.0</td>\n      <td>0.08</td>\n      <td>3.18</td>\n      <td>8815</td>\n      <td>Illinois</td>\n      <td>Suburb</td>\n      <td>0.1</td>\n      <td>0.1</td>\n      <td>15000</td>\n    </tr>\n    <tr>\n      <th>3</th>\n      <td>13117</td>\n      <td>https://www.splashmath.com</td>\n      <td>SplashLearn</td>\n      <td>StudyPad Inc.</td>\n      <td>PreK-12</td>\n      <td>LC - Digital Learning Platforms</td>\n      <td>LC</td>\n      <td>Digital Learning Platforms</td>\n      <td>2020-03-04</td>\n      <td>13117.0</td>\n      <td>0.14</td>\n      <td>8.02</td>\n      <td>8815</td>\n      <td>Illinois</td>\n      <td>Suburb</td>\n      <td>0.1</td>\n      <td>0.1</td>\n      <td>15000</td>\n    </tr>\n    <tr>\n      <th>4</th>\n      <td>13117</td>\n      <td>https://www.splashmath.com</td>\n      <td>SplashLearn</td>\n      <td>StudyPad Inc.</td>\n      <td>PreK-12</td>\n      <td>LC - Digital Learning Platforms</td>\n      <td>LC</td>\n      <td>Digital Learning Platforms</td>\n      <td>2020-03-05</td>\n      <td>13117.0</td>\n      <td>0.39</td>\n      <td>69.37</td>\n      <td>8815</td>\n      <td>Illinois</td>\n      <td>Suburb</td>\n      <td>0.1</td>\n      <td>0.1</td>\n      <td>15000</td>\n    </tr>\n  </tbody>\n</table>\n</div>"
     },
     "metadata": {}
    }
   ],
   "execution_count": null
  },
  {
   "cell_type": "markdown",
   "source": "# Top Educational Products\nGoogle products are dominating with Wikipedia and Netflix as an exception. Netflix provides kids with educational seise and tutorials.",
   "metadata": {
    "papermill": {
     "duration": 0.071446,
     "end_time": "2021-09-19T11:56:20.645808",
     "exception": false,
     "start_time": "2021-09-19T11:56:20.574362",
     "status": "completed"
    },
    "tags": [],
    "cell_id": "00049-896534db-be24-49e3-82ce-7ba286762c63",
    "deepnote_cell_type": "markdown"
   }
  },
  {
   "cell_type": "code",
   "metadata": {
    "_kg_hide-input": true,
    "execution": {
     "iopub.execute_input": "2021-09-19T11:56:20.792231Z",
     "iopub.status.busy": "2021-09-19T11:56:20.791584Z",
     "iopub.status.idle": "2021-09-19T11:56:21.776378Z",
     "shell.execute_reply": "2021-09-19T11:56:21.776853Z",
     "shell.execute_reply.started": "2021-09-19T11:09:47.673435Z"
    },
    "papermill": {
     "duration": 1.059643,
     "end_time": "2021-09-19T11:56:21.777019",
     "exception": false,
     "start_time": "2021-09-19T11:56:20.717376",
     "status": "completed"
    },
    "tags": [],
    "cell_id": "00050-2aec826f-39de-4042-b379-9e49ca2f6877",
    "deepnote_to_be_reexecuted": false,
    "source_hash": "db3b0ae7",
    "execution_start": 1634282989235,
    "execution_millis": 364,
    "deepnote_cell_type": "code"
   },
   "source": "complete_data['Product Name'].value_counts().head(20).to_frame()",
   "outputs": [
    {
     "output_type": "execute_result",
     "execution_count": 22,
     "data": {
      "application/vnd.deepnote.dataframe.v2+json": {
       "row_count": 20,
       "column_count": 1,
       "columns": [
        {
         "name": "Product Name",
         "dtype": "int64",
         "stats": {
          "unique_count": 20,
          "nan_count": 0,
          "min": "23922",
          "max": "29852",
          "histogram": [
           {
            "bin_start": 23922,
            "bin_end": 24515,
            "count": 3
           },
           {
            "bin_start": 24515,
            "bin_end": 25108,
            "count": 5
           },
           {
            "bin_start": 25108,
            "bin_end": 25701,
            "count": 1
           },
           {
            "bin_start": 25701,
            "bin_end": 26294,
            "count": 2
           },
           {
            "bin_start": 26294,
            "bin_end": 26887,
            "count": 1
           },
           {
            "bin_start": 26887,
            "bin_end": 27480,
            "count": 3
           },
           {
            "bin_start": 27480,
            "bin_end": 28073,
            "count": 1
           },
           {
            "bin_start": 28073,
            "bin_end": 28666,
            "count": 1
           },
           {
            "bin_start": 28666,
            "bin_end": 29259,
            "count": 1
           },
           {
            "bin_start": 29259,
            "bin_end": 29852,
            "count": 2
           }
          ]
         }
        },
        {
         "name": "_deepnote_index_column",
         "dtype": "object"
        }
       ],
       "rows_top": [
        {
         "Product Name": 29852,
         "_deepnote_index_column": "Google Docs"
        },
        {
         "Product Name": 29427,
         "_deepnote_index_column": "Google Drive"
        },
        {
         "Product Name": 29088,
         "_deepnote_index_column": "Google Sheets"
        },
        {
         "Product Name": 28158,
         "_deepnote_index_column": "Google Forms"
        },
        {
         "Product Name": 27850,
         "_deepnote_index_column": "Google Calendar"
        },
        {
         "Product Name": 27280,
         "_deepnote_index_column": "Google Sites"
        },
        {
         "Product Name": 26939,
         "_deepnote_index_column": "Google Classroom"
        },
        {
         "Product Name": 26912,
         "_deepnote_index_column": "Wikipedia"
        },
        {
         "Product Name": 26824,
         "_deepnote_index_column": "Chrome Web Store"
        },
        {
         "Product Name": 26241,
         "_deepnote_index_column": "Netflix"
        },
        {
         "Product Name": 25751,
         "_deepnote_index_column": "Zoom"
        },
        {
         "Product Name": 25453,
         "_deepnote_index_column": "Canvas"
        },
        {
         "Product Name": 25043,
         "_deepnote_index_column": "TeachersPayTeachers"
        },
        {
         "Product Name": 25020,
         "_deepnote_index_column": "Khan Academy"
        },
        {
         "Product Name": 24880,
         "_deepnote_index_column": "Prodigy"
        },
        {
         "Product Name": 24574,
         "_deepnote_index_column": "Quizlet"
        },
        {
         "Product Name": 24570,
         "_deepnote_index_column": "Weebly"
        },
        {
         "Product Name": 24232,
         "_deepnote_index_column": "CNN Student News"
        },
        {
         "Product Name": 24111,
         "_deepnote_index_column": "ABCya!"
        },
        {
         "Product Name": 23922,
         "_deepnote_index_column": "Kahoot!"
        }
       ],
       "rows_bottom": null
      },
      "text/plain": "                     Product Name\nGoogle Docs                 29852\nGoogle Drive                29427\nGoogle Sheets               29088\nGoogle Forms                28158\nGoogle Calendar             27850\nGoogle Sites                27280\nGoogle Classroom            26939\nWikipedia                   26912\nChrome Web Store            26824\nNetflix                     26241\nZoom                        25751\nCanvas                      25453\nTeachersPayTeachers         25043\nKhan Academy                25020\nProdigy                     24880\nQuizlet                     24574\nWeebly                      24570\nCNN Student News            24232\nABCya!                      24111\nKahoot!                     23922",
      "text/html": "<div>\n<style scoped>\n    .dataframe tbody tr th:only-of-type {\n        vertical-align: middle;\n    }\n\n    .dataframe tbody tr th {\n        vertical-align: top;\n    }\n\n    .dataframe thead th {\n        text-align: right;\n    }\n</style>\n<table border=\"1\" class=\"dataframe\">\n  <thead>\n    <tr style=\"text-align: right;\">\n      <th></th>\n      <th>Product Name</th>\n    </tr>\n  </thead>\n  <tbody>\n    <tr>\n      <th>Google Docs</th>\n      <td>29852</td>\n    </tr>\n    <tr>\n      <th>Google Drive</th>\n      <td>29427</td>\n    </tr>\n    <tr>\n      <th>Google Sheets</th>\n      <td>29088</td>\n    </tr>\n    <tr>\n      <th>Google Forms</th>\n      <td>28158</td>\n    </tr>\n    <tr>\n      <th>Google Calendar</th>\n      <td>27850</td>\n    </tr>\n    <tr>\n      <th>Google Sites</th>\n      <td>27280</td>\n    </tr>\n    <tr>\n      <th>Google Classroom</th>\n      <td>26939</td>\n    </tr>\n    <tr>\n      <th>Wikipedia</th>\n      <td>26912</td>\n    </tr>\n    <tr>\n      <th>Chrome Web Store</th>\n      <td>26824</td>\n    </tr>\n    <tr>\n      <th>Netflix</th>\n      <td>26241</td>\n    </tr>\n    <tr>\n      <th>Zoom</th>\n      <td>25751</td>\n    </tr>\n    <tr>\n      <th>Canvas</th>\n      <td>25453</td>\n    </tr>\n    <tr>\n      <th>TeachersPayTeachers</th>\n      <td>25043</td>\n    </tr>\n    <tr>\n      <th>Khan Academy</th>\n      <td>25020</td>\n    </tr>\n    <tr>\n      <th>Prodigy</th>\n      <td>24880</td>\n    </tr>\n    <tr>\n      <th>Quizlet</th>\n      <td>24574</td>\n    </tr>\n    <tr>\n      <th>Weebly</th>\n      <td>24570</td>\n    </tr>\n    <tr>\n      <th>CNN Student News</th>\n      <td>24232</td>\n    </tr>\n    <tr>\n      <th>ABCya!</th>\n      <td>24111</td>\n    </tr>\n    <tr>\n      <th>Kahoot!</th>\n      <td>23922</td>\n    </tr>\n  </tbody>\n</table>\n</div>"
     },
     "metadata": {}
    }
   ],
   "execution_count": null
  },
  {
   "cell_type": "markdown",
   "source": "# Distribution of Race, Reduced Fee, Expenditures, and Internet connection per state\nWe will be used the Pandas function to display a table showing the mean distribution of various features related to demography and expenditures. ",
   "metadata": {
    "papermill": {
     "duration": 0.070247,
     "end_time": "2021-09-19T11:56:21.918235",
     "exception": false,
     "start_time": "2021-09-19T11:56:21.847988",
     "status": "completed"
    },
    "tags": [],
    "cell_id": "00051-ae0d84a0-16a7-4972-a9cd-20185d27fa8b",
    "deepnote_cell_type": "markdown"
   }
  },
  {
   "cell_type": "code",
   "metadata": {
    "_kg_hide-input": true,
    "execution": {
     "iopub.execute_input": "2021-09-19T11:56:22.063470Z",
     "iopub.status.busy": "2021-09-19T11:56:22.062795Z",
     "iopub.status.idle": "2021-09-19T11:56:22.067338Z",
     "shell.execute_reply": "2021-09-19T11:56:22.067830Z",
     "shell.execute_reply.started": "2021-09-19T11:09:48.050295Z"
    },
    "papermill": {
     "duration": 0.079366,
     "end_time": "2021-09-19T11:56:22.067991",
     "exception": false,
     "start_time": "2021-09-19T11:56:21.988625",
     "status": "completed"
    },
    "tags": [],
    "cell_id": "00052-f4ac20b6-dac0-4bdd-8ac8-4a462545e602",
    "deepnote_to_be_reexecuted": false,
    "source_hash": "8999c996",
    "execution_start": 1634282989592,
    "deepnote_cell_type": "code"
   },
   "source": "def mean_state_data(df,col):    \n    return df[[col,'state']].\\\n    groupby(by='state').\\\n    mean().\\\n    reset_index().\\\n    sort_values(by= col, ascending = False).\\\n    style.background_gradient(cmap=\"Set2_r\", subset=[col])",
   "outputs": [],
   "execution_count": null
  },
  {
   "cell_type": "markdown",
   "source": "## Black and Hispanic\nI seems like Taxes have more Black/Hispanic students than another state followed by Florida, Michigan, and Minnesota.",
   "metadata": {
    "papermill": {
     "duration": 0.071577,
     "end_time": "2021-09-19T11:56:22.213568",
     "exception": false,
     "start_time": "2021-09-19T11:56:22.141991",
     "status": "completed"
    },
    "tags": [],
    "cell_id": "00053-1336e965-ebf0-4a86-9707-11624e576222",
    "deepnote_cell_type": "markdown"
   }
  },
  {
   "cell_type": "code",
   "metadata": {
    "_kg_hide-input": true,
    "execution": {
     "iopub.execute_input": "2021-09-19T11:56:22.361308Z",
     "iopub.status.busy": "2021-09-19T11:56:22.360705Z",
     "iopub.status.idle": "2021-09-19T11:56:24.094447Z",
     "shell.execute_reply": "2021-09-19T11:56:24.094944Z",
     "shell.execute_reply.started": "2021-09-19T11:09:48.057020Z"
    },
    "papermill": {
     "duration": 1.809542,
     "end_time": "2021-09-19T11:56:24.095114",
     "exception": false,
     "start_time": "2021-09-19T11:56:22.285572",
     "status": "completed"
    },
    "tags": [],
    "cell_id": "00054-12f06e9e-01db-4d71-9028-d73ef69a86c3",
    "deepnote_to_be_reexecuted": false,
    "source_hash": "54e2fb36",
    "execution_start": 1634282989605,
    "execution_millis": 1345,
    "deepnote_cell_type": "code"
   },
   "source": "mean_state_data(complete_data,'pct_black/hispanic')",
   "outputs": [
    {
     "output_type": "execute_result",
     "execution_count": 24,
     "data": {
      "text/plain": "<pandas.io.formats.style.Styler at 0x7fd567fdc250>",
      "text/html": "<style  type=\"text/css\" >\n#T_df4b9_row0_col1{\n            background-color:  #66c2a5;\n            color:  #000000;\n        }#T_df4b9_row1_col1,#T_df4b9_row2_col1,#T_df4b9_row3_col1{\n            background-color:  #8da0cb;\n            color:  #000000;\n        }#T_df4b9_row4_col1{\n            background-color:  #e78ac3;\n            color:  #000000;\n        }#T_df4b9_row5_col1,#T_df4b9_row6_col1{\n            background-color:  #a6d854;\n            color:  #000000;\n        }#T_df4b9_row7_col1{\n            background-color:  #ffd92f;\n            color:  #000000;\n        }#T_df4b9_row8_col1,#T_df4b9_row9_col1,#T_df4b9_row10_col1,#T_df4b9_row11_col1,#T_df4b9_row12_col1,#T_df4b9_row13_col1{\n            background-color:  #b3b3b3;\n            color:  #000000;\n        }</style><table id=\"T_df4b9_\" ><thead>    <tr>        <th class=\"blank level0\" ></th>        <th class=\"col_heading level0 col0\" >state</th>        <th class=\"col_heading level0 col1\" >pct_black/hispanic</th>    </tr></thead><tbody>\n                <tr>\n                        <th id=\"T_df4b9_level0_row0\" class=\"row_heading level0 row0\" >9</th>\n                        <td id=\"T_df4b9_row0_col0\" class=\"data row0 col0\" >Texas</td>\n                        <td id=\"T_df4b9_row0_col1\" class=\"data row0 col1\" >0.660262</td>\n            </tr>\n            <tr>\n                        <th id=\"T_df4b9_level0_row1\" class=\"row_heading level0 row1\" >0</th>\n                        <td id=\"T_df4b9_row1_col0\" class=\"data row1 col0\" >Florida</td>\n                        <td id=\"T_df4b9_row1_col1\" class=\"data row1 col1\" >0.500000</td>\n            </tr>\n            <tr>\n                        <th id=\"T_df4b9_level0_row2\" class=\"row_heading level0 row2\" >3</th>\n                        <td id=\"T_df4b9_row2_col0\" class=\"data row2 col0\" >Michigan</td>\n                        <td id=\"T_df4b9_row2_col1\" class=\"data row2 col1\" >0.500000</td>\n            </tr>\n            <tr>\n                        <th id=\"T_df4b9_level0_row3\" class=\"row_heading level0 row3\" >4</th>\n                        <td id=\"T_df4b9_row3_col0\" class=\"data row3 col0\" >Minnesota</td>\n                        <td id=\"T_df4b9_row3_col1\" class=\"data row3 col1\" >0.500000</td>\n            </tr>\n            <tr>\n                        <th id=\"T_df4b9_level0_row4\" class=\"row_heading level0 row4\" >8</th>\n                        <td id=\"T_df4b9_row4_col0\" class=\"data row4 col0\" >North Carolina</td>\n                        <td id=\"T_df4b9_row4_col1\" class=\"data row4 col1\" >0.399419</td>\n            </tr>\n            <tr>\n                        <th id=\"T_df4b9_level0_row5\" class=\"row_heading level0 row5\" >12</th>\n                        <td id=\"T_df4b9_row5_col0\" class=\"data row5 col0\" >Washington</td>\n                        <td id=\"T_df4b9_row5_col1\" class=\"data row5 col1\" >0.365211</td>\n            </tr>\n            <tr>\n                        <th id=\"T_df4b9_level0_row6\" class=\"row_heading level0 row6\" >1</th>\n                        <td id=\"T_df4b9_row6_col0\" class=\"data row6 col0\" >Illinois</td>\n                        <td id=\"T_df4b9_row6_col1\" class=\"data row6 col1\" >0.318224</td>\n            </tr>\n            <tr>\n                        <th id=\"T_df4b9_level0_row7\" class=\"row_heading level0 row7\" >2</th>\n                        <td id=\"T_df4b9_row7_col0\" class=\"data row7 col0\" >Indiana</td>\n                        <td id=\"T_df4b9_row7_col1\" class=\"data row7 col1\" >0.240701</td>\n            </tr>\n            <tr>\n                        <th id=\"T_df4b9_level0_row8\" class=\"row_heading level0 row8\" >10</th>\n                        <td id=\"T_df4b9_row8_col0\" class=\"data row8 col0\" >Utah</td>\n                        <td id=\"T_df4b9_row8_col1\" class=\"data row8 col1\" >0.137782</td>\n            </tr>\n            <tr>\n                        <th id=\"T_df4b9_level0_row9\" class=\"row_heading level0 row9\" >7</th>\n                        <td id=\"T_df4b9_row9_col0\" class=\"data row9 col0\" >New York</td>\n                        <td id=\"T_df4b9_row9_col1\" class=\"data row9 col1\" >0.100000</td>\n            </tr>\n            <tr>\n                        <th id=\"T_df4b9_level0_row10\" class=\"row_heading level0 row10\" >13</th>\n                        <td id=\"T_df4b9_row10_col0\" class=\"data row10 col0\" >Wisconsin</td>\n                        <td id=\"T_df4b9_row10_col1\" class=\"data row10 col1\" >0.100000</td>\n            </tr>\n            <tr>\n                        <th id=\"T_df4b9_level0_row11\" class=\"row_heading level0 row11\" >6</th>\n                        <td id=\"T_df4b9_row11_col0\" class=\"data row11 col0\" >New Jersey</td>\n                        <td id=\"T_df4b9_row11_col1\" class=\"data row11 col1\" >0.100000</td>\n            </tr>\n            <tr>\n                        <th id=\"T_df4b9_level0_row12\" class=\"row_heading level0 row12\" >11</th>\n                        <td id=\"T_df4b9_row12_col0\" class=\"data row12 col0\" >Virginia</td>\n                        <td id=\"T_df4b9_row12_col1\" class=\"data row12 col1\" >0.100000</td>\n            </tr>\n            <tr>\n                        <th id=\"T_df4b9_level0_row13\" class=\"row_heading level0 row13\" >5</th>\n                        <td id=\"T_df4b9_row13_col0\" class=\"data row13 col0\" >Missouri</td>\n                        <td id=\"T_df4b9_row13_col1\" class=\"data row13 col1\" >0.100000</td>\n            </tr>\n    </tbody></table>"
     },
     "metadata": {}
    }
   ],
   "execution_count": null
  },
  {
   "cell_type": "markdown",
   "source": "## Reduced Fee or Free Education \nMinnesota provides 70 percent of free or reduced fee education, followed by Michigan and Indiana.",
   "metadata": {
    "papermill": {
     "duration": 0.071604,
     "end_time": "2021-09-19T11:56:24.239420",
     "exception": false,
     "start_time": "2021-09-19T11:56:24.167816",
     "status": "completed"
    },
    "tags": [],
    "cell_id": "00055-b03c464f-009a-4e0c-a508-a64ec7f41692",
    "deepnote_cell_type": "markdown"
   }
  },
  {
   "cell_type": "code",
   "metadata": {
    "_kg_hide-input": true,
    "execution": {
     "iopub.execute_input": "2021-09-19T11:56:24.388381Z",
     "iopub.status.busy": "2021-09-19T11:56:24.387719Z",
     "iopub.status.idle": "2021-09-19T11:56:24.900418Z",
     "shell.execute_reply": "2021-09-19T11:56:24.899820Z",
     "shell.execute_reply.started": "2021-09-19T11:09:49.766266Z"
    },
    "papermill": {
     "duration": 0.588293,
     "end_time": "2021-09-19T11:56:24.900539",
     "exception": false,
     "start_time": "2021-09-19T11:56:24.312246",
     "status": "completed"
    },
    "tags": [],
    "cell_id": "00056-59e5f7e3-4e09-4cba-85e6-bf86a9eda45c",
    "deepnote_to_be_reexecuted": false,
    "source_hash": "a4ffb9c1",
    "execution_start": 1634282990942,
    "execution_millis": 325,
    "deepnote_cell_type": "code"
   },
   "source": "mean_state_data(complete_data,'pct_free/reduced')",
   "outputs": [
    {
     "output_type": "execute_result",
     "execution_count": 25,
     "data": {
      "text/plain": "<pandas.io.formats.style.Styler at 0x7fd567fdca50>",
      "text/html": "<style  type=\"text/css\" >\n#T_53545_row0_col1{\n            background-color:  #66c2a5;\n            color:  #000000;\n        }#T_53545_row1_col1,#T_53545_row2_col1{\n            background-color:  #fc8d62;\n            color:  #000000;\n        }#T_53545_row3_col1,#T_53545_row4_col1,#T_53545_row5_col1,#T_53545_row6_col1{\n            background-color:  #8da0cb;\n            color:  #000000;\n        }#T_53545_row7_col1{\n            background-color:  #e78ac3;\n            color:  #000000;\n        }#T_53545_row8_col1,#T_53545_row9_col1,#T_53545_row10_col1{\n            background-color:  #a6d854;\n            color:  #000000;\n        }#T_53545_row11_col1{\n            background-color:  #ffd92f;\n            color:  #000000;\n        }#T_53545_row12_col1,#T_53545_row13_col1{\n            background-color:  #b3b3b3;\n            color:  #000000;\n        }</style><table id=\"T_53545_\" ><thead>    <tr>        <th class=\"blank level0\" ></th>        <th class=\"col_heading level0 col0\" >state</th>        <th class=\"col_heading level0 col1\" >pct_free/reduced</th>    </tr></thead><tbody>\n                <tr>\n                        <th id=\"T_53545_level0_row0\" class=\"row_heading level0 row0\" >4</th>\n                        <td id=\"T_53545_row0_col0\" class=\"data row0 col0\" >Minnesota</td>\n                        <td id=\"T_53545_row0_col1\" class=\"data row0 col1\" >0.700000</td>\n            </tr>\n            <tr>\n                        <th id=\"T_53545_level0_row1\" class=\"row_heading level0 row1\" >3</th>\n                        <td id=\"T_53545_row1_col0\" class=\"data row1 col0\" >Michigan</td>\n                        <td id=\"T_53545_row1_col1\" class=\"data row1 col1\" >0.591493</td>\n            </tr>\n            <tr>\n                        <th id=\"T_53545_level0_row2\" class=\"row_heading level0 row2\" >2</th>\n                        <td id=\"T_53545_row2_col0\" class=\"data row2 col0\" >Indiana</td>\n                        <td id=\"T_53545_row2_col1\" class=\"data row2 col1\" >0.585556</td>\n            </tr>\n            <tr>\n                        <th id=\"T_53545_level0_row3\" class=\"row_heading level0 row3\" >12</th>\n                        <td id=\"T_53545_row3_col0\" class=\"data row3 col0\" >Washington</td>\n                        <td id=\"T_53545_row3_col1\" class=\"data row3 col1\" >0.514099</td>\n            </tr>\n            <tr>\n                        <th id=\"T_53545_level0_row4\" class=\"row_heading level0 row4\" >0</th>\n                        <td id=\"T_53545_row4_col0\" class=\"data row4 col0\" >Florida</td>\n                        <td id=\"T_53545_row4_col1\" class=\"data row4 col1\" >0.500000</td>\n            </tr>\n            <tr>\n                        <th id=\"T_53545_level0_row5\" class=\"row_heading level0 row5\" >9</th>\n                        <td id=\"T_53545_row5_col0\" class=\"data row5 col0\" >Texas</td>\n                        <td id=\"T_53545_row5_col1\" class=\"data row5 col1\" >0.500000</td>\n            </tr>\n            <tr>\n                        <th id=\"T_53545_level0_row6\" class=\"row_heading level0 row6\" >8</th>\n                        <td id=\"T_53545_row6_col0\" class=\"data row6 col0\" >North Carolina</td>\n                        <td id=\"T_53545_row6_col1\" class=\"data row6 col1\" >0.498838</td>\n            </tr>\n            <tr>\n                        <th id=\"T_53545_level0_row7\" class=\"row_heading level0 row7\" >11</th>\n                        <td id=\"T_53545_row7_col0\" class=\"data row7 col0\" >Virginia</td>\n                        <td id=\"T_53545_row7_col1\" class=\"data row7 col1\" >0.439539</td>\n            </tr>\n            <tr>\n                        <th id=\"T_53545_level0_row8\" class=\"row_heading level0 row8\" >7</th>\n                        <td id=\"T_53545_row8_col0\" class=\"data row8 col0\" >New York</td>\n                        <td id=\"T_53545_row8_col1\" class=\"data row8 col1\" >0.363762</td>\n            </tr>\n            <tr>\n                        <th id=\"T_53545_level0_row9\" class=\"row_heading level0 row9\" >5</th>\n                        <td id=\"T_53545_row9_col0\" class=\"data row9 col0\" >Missouri</td>\n                        <td id=\"T_53545_row9_col1\" class=\"data row9 col1\" >0.354510</td>\n            </tr>\n            <tr>\n                        <th id=\"T_53545_level0_row10\" class=\"row_heading level0 row10\" >10</th>\n                        <td id=\"T_53545_row10_col0\" class=\"data row10 col0\" >Utah</td>\n                        <td id=\"T_53545_row10_col1\" class=\"data row10 col1\" >0.325291</td>\n            </tr>\n            <tr>\n                        <th id=\"T_53545_level0_row11\" class=\"row_heading level0 row11\" >1</th>\n                        <td id=\"T_53545_row11_col0\" class=\"data row11 col0\" >Illinois</td>\n                        <td id=\"T_53545_row11_col1\" class=\"data row11 col1\" >0.322120</td>\n            </tr>\n            <tr>\n                        <th id=\"T_53545_level0_row12\" class=\"row_heading level0 row12\" >13</th>\n                        <td id=\"T_53545_row12_col0\" class=\"data row12 col0\" >Wisconsin</td>\n                        <td id=\"T_53545_row12_col1\" class=\"data row12 col1\" >0.118568</td>\n            </tr>\n            <tr>\n                        <th id=\"T_53545_level0_row13\" class=\"row_heading level0 row13\" >6</th>\n                        <td id=\"T_53545_row13_col0\" class=\"data row13 col0\" >New Jersey</td>\n                        <td id=\"T_53545_row13_col1\" class=\"data row13 col1\" >0.100000</td>\n            </tr>\n    </tbody></table>"
     },
     "metadata": {}
    }
   ],
   "execution_count": null
  },
  {
   "cell_type": "markdown",
   "source": "## Per-pupil total expenditure\nNew York spend more on education than any other State in US. The runner-up States are New Jersey and Minnesota.",
   "metadata": {
    "papermill": {
     "duration": 0.073121,
     "end_time": "2021-09-19T11:56:25.046201",
     "exception": false,
     "start_time": "2021-09-19T11:56:24.973080",
     "status": "completed"
    },
    "tags": [],
    "cell_id": "00057-bb80dd0d-87fa-485e-9971-2a7757bd5a74",
    "deepnote_cell_type": "markdown"
   }
  },
  {
   "cell_type": "code",
   "metadata": {
    "execution": {
     "iopub.execute_input": "2021-09-19T11:56:25.207339Z",
     "iopub.status.busy": "2021-09-19T11:56:25.205751Z",
     "iopub.status.idle": "2021-09-19T11:56:25.717601Z",
     "shell.execute_reply": "2021-09-19T11:56:25.718128Z",
     "shell.execute_reply.started": "2021-09-19T11:09:50.210641Z"
    },
    "papermill": {
     "duration": 0.598765,
     "end_time": "2021-09-19T11:56:25.718316",
     "exception": false,
     "start_time": "2021-09-19T11:56:25.119551",
     "status": "completed"
    },
    "tags": [],
    "cell_id": "00058-1689bbf9-51c5-4fce-806c-c934e2c24abd",
    "deepnote_to_be_reexecuted": false,
    "source_hash": "fca1072e",
    "execution_start": 1634282991274,
    "execution_millis": 359,
    "deepnote_cell_type": "code"
   },
   "source": "mean_state_data(complete_data,'pp_total_raw')",
   "outputs": [
    {
     "output_type": "execute_result",
     "execution_count": 26,
     "data": {
      "text/plain": "<pandas.io.formats.style.Styler at 0x7fd56729c690>",
      "text/html": "<style  type=\"text/css\" >\n#T_fcef8_row0_col1{\n            background-color:  #66c2a5;\n            color:  #000000;\n        }#T_fcef8_row1_col1,#T_fcef8_row2_col1{\n            background-color:  #e78ac3;\n            color:  #000000;\n        }#T_fcef8_row3_col1,#T_fcef8_row4_col1{\n            background-color:  #a6d854;\n            color:  #000000;\n        }#T_fcef8_row5_col1,#T_fcef8_row6_col1,#T_fcef8_row7_col1{\n            background-color:  #ffd92f;\n            color:  #000000;\n        }#T_fcef8_row8_col1,#T_fcef8_row9_col1,#T_fcef8_row10_col1,#T_fcef8_row11_col1{\n            background-color:  #e5c494;\n            color:  #000000;\n        }#T_fcef8_row12_col1,#T_fcef8_row13_col1{\n            background-color:  #b3b3b3;\n            color:  #000000;\n        }</style><table id=\"T_fcef8_\" ><thead>    <tr>        <th class=\"blank level0\" ></th>        <th class=\"col_heading level0 col0\" >state</th>        <th class=\"col_heading level0 col1\" >pp_total_raw</th>    </tr></thead><tbody>\n                <tr>\n                        <th id=\"T_fcef8_level0_row0\" class=\"row_heading level0 row0\" >7</th>\n                        <td id=\"T_fcef8_row0_col0\" class=\"data row0 col0\" >New York</td>\n                        <td id=\"T_fcef8_row0_col1\" class=\"data row0 col1\" >22303.680190</td>\n            </tr>\n            <tr>\n                        <th id=\"T_fcef8_level0_row1\" class=\"row_heading level0 row1\" >6</th>\n                        <td id=\"T_fcef8_row1_col0\" class=\"data row1 col0\" >New Jersey</td>\n                        <td id=\"T_fcef8_row1_col1\" class=\"data row1 col1\" >16025.174926</td>\n            </tr>\n            <tr>\n                        <th id=\"T_fcef8_level0_row2\" class=\"row_heading level0 row2\" >4</th>\n                        <td id=\"T_fcef8_row2_col0\" class=\"data row2 col0\" >Minnesota</td>\n                        <td id=\"T_fcef8_row2_col1\" class=\"data row2 col1\" >15000.000000</td>\n            </tr>\n            <tr>\n                        <th id=\"T_fcef8_level0_row3\" class=\"row_heading level0 row3\" >12</th>\n                        <td id=\"T_fcef8_row3_col0\" class=\"data row3 col0\" >Washington</td>\n                        <td id=\"T_fcef8_row3_col1\" class=\"data row3 col1\" >14007.350245</td>\n            </tr>\n            <tr>\n                        <th id=\"T_fcef8_level0_row4\" class=\"row_heading level0 row4\" >1</th>\n                        <td id=\"T_fcef8_row4_col0\" class=\"data row4 col0\" >Illinois</td>\n                        <td id=\"T_fcef8_row4_col1\" class=\"data row4 col1\" >13557.943471</td>\n            </tr>\n            <tr>\n                        <th id=\"T_fcef8_level0_row5\" class=\"row_heading level0 row5\" >3</th>\n                        <td id=\"T_fcef8_row5_col0\" class=\"data row5 col0\" >Michigan</td>\n                        <td id=\"T_fcef8_row5_col1\" class=\"data row5 col1\" >12085.066669</td>\n            </tr>\n            <tr>\n                        <th id=\"T_fcef8_level0_row6\" class=\"row_heading level0 row6\" >11</th>\n                        <td id=\"T_fcef8_row6_col0\" class=\"data row6 col0\" >Virginia</td>\n                        <td id=\"T_fcef8_row6_col1\" class=\"data row6 col1\" >11694.897092</td>\n            </tr>\n            <tr>\n                        <th id=\"T_fcef8_level0_row7\" class=\"row_heading level0 row7\" >13</th>\n                        <td id=\"T_fcef8_row7_col0\" class=\"data row7 col0\" >Wisconsin</td>\n                        <td id=\"T_fcef8_row7_col1\" class=\"data row7 col1\" >11000.000000</td>\n            </tr>\n            <tr>\n                        <th id=\"T_fcef8_level0_row8\" class=\"row_heading level0 row8\" >5</th>\n                        <td id=\"T_fcef8_row8_col0\" class=\"data row8 col0\" >Missouri</td>\n                        <td id=\"T_fcef8_row8_col1\" class=\"data row8 col1\" >9528.045970</td>\n            </tr>\n            <tr>\n                        <th id=\"T_fcef8_level0_row9\" class=\"row_heading level0 row9\" >8</th>\n                        <td id=\"T_fcef8_row9_col0\" class=\"data row9 col0\" >North Carolina</td>\n                        <td id=\"T_fcef8_row9_col1\" class=\"data row9 col1\" >9443.557370</td>\n            </tr>\n            <tr>\n                        <th id=\"T_fcef8_level0_row10\" class=\"row_heading level0 row10\" >2</th>\n                        <td id=\"T_fcef8_row10_col0\" class=\"data row10 col0\" >Indiana</td>\n                        <td id=\"T_fcef8_row10_col1\" class=\"data row10 col1\" >9000.000000</td>\n            </tr>\n            <tr>\n                        <th id=\"T_fcef8_level0_row11\" class=\"row_heading level0 row11\" >9</th>\n                        <td id=\"T_fcef8_row11_col0\" class=\"data row11 col0\" >Texas</td>\n                        <td id=\"T_fcef8_row11_col1\" class=\"data row11 col1\" >9000.000000</td>\n            </tr>\n            <tr>\n                        <th id=\"T_fcef8_level0_row12\" class=\"row_heading level0 row12\" >10</th>\n                        <td id=\"T_fcef8_row12_col0\" class=\"data row12 col0\" >Utah</td>\n                        <td id=\"T_fcef8_row12_col1\" class=\"data row12 col1\" >8246.885246</td>\n            </tr>\n            <tr>\n                        <th id=\"T_fcef8_level0_row13\" class=\"row_heading level0 row13\" >0</th>\n                        <td id=\"T_fcef8_row13_col0\" class=\"data row13 col0\" >Florida</td>\n                        <td id=\"T_fcef8_row13_col1\" class=\"data row13 col1\" >7000.000000</td>\n            </tr>\n    </tbody></table>"
     },
     "metadata": {}
    }
   ],
   "execution_count": null
  },
  {
   "cell_type": "markdown",
   "source": "# Time Series Distribution of Educational Product Access Students\nWe will be observing time-series distributions of Product Access Based on Locale and State.",
   "metadata": {
    "papermill": {
     "duration": 0.07344,
     "end_time": "2021-09-19T11:56:25.865257",
     "exception": false,
     "start_time": "2021-09-19T11:56:25.791817",
     "status": "completed"
    },
    "tags": [],
    "cell_id": "00059-f96ed2a2-23c9-4d91-a29d-aa9ac78eab4d",
    "deepnote_cell_type": "markdown"
   }
  },
  {
   "cell_type": "markdown",
   "source": "## Based on Locale\nThe cities were hit with Covid19 the hardest which affected the students the most as they have to study from home that is why we can see the dip in product access from April to July 2020 as compared to other locales. During Summer vacation students stopped using educational products. In suburbs, students have more access to the tools then other locale. overall, they all follow a common pattern. ",
   "metadata": {
    "papermill": {
     "duration": 0.072098,
     "end_time": "2021-09-19T11:56:26.010744",
     "exception": false,
     "start_time": "2021-09-19T11:56:25.938646",
     "status": "completed"
    },
    "tags": [],
    "cell_id": "00060-49784343-047d-4b89-98ae-43b5f7947a70",
    "deepnote_cell_type": "markdown"
   }
  },
  {
   "cell_type": "code",
   "metadata": {
    "_kg_hide-input": true,
    "execution": {
     "iopub.execute_input": "2021-09-19T11:56:26.173337Z",
     "iopub.status.busy": "2021-09-19T11:56:26.171681Z",
     "iopub.status.idle": "2021-09-19T11:56:27.207069Z",
     "shell.execute_reply": "2021-09-19T11:56:27.207543Z",
     "shell.execute_reply.started": "2021-09-19T11:09:50.675462Z"
    },
    "papermill": {
     "duration": 1.118829,
     "end_time": "2021-09-19T11:56:27.207702",
     "exception": false,
     "start_time": "2021-09-19T11:56:26.088873",
     "status": "completed"
    },
    "tags": [],
    "cell_id": "00061-36cad8a8-cc72-48de-85f3-c6b0668b000a",
    "deepnote_to_be_reexecuted": false,
    "source_hash": "bfe02531",
    "execution_start": 1634282991629,
    "execution_millis": 745,
    "deepnote_cell_type": "code"
   },
   "source": "locale = complete_data[[\"locale\",\"pct_access\",\"time\"]].\\\ngroupby(by=[\"time\",\"locale\"])\\\n.mean()\\\n.dropna()\\\n.reset_index()\n\nfig = px.line(locale, x=\"time\", y=\"pct_access\", facet_col='locale',facet_col_wrap=1,color = 'locale')\nfig.update_layout(\n                      title=(\"Educational product Access per Locale\").title(),\n                     )\nfig.show()",
   "outputs": [
    {
     "data": {
      "text/html": "<html>\n<head><meta charset=\"utf-8\" /></head>\n<body>\n    <div>            <script src=\"https://cdnjs.cloudflare.com/ajax/libs/mathjax/2.7.5/MathJax.js?config=TeX-AMS-MML_SVG\"></script><script type=\"text/javascript\">if (window.MathJax) {MathJax.Hub.Config({SVG: {font: \"STIX-Web\"}});}</script>                <script type=\"text/javascript\">window.PlotlyConfig = {MathJaxConfig: 'local'};</script>\n        <script src=\"https://cdn.plot.ly/plotly-2.4.2.min.js\"></script>                <div id=\"5331274d-b7ff-464e-89bc-9e5b2a53f859\" class=\"plotly-graph-div\" style=\"height:525px; width:100%;\"></div>            <script type=\"text/javascript\">                                    window.PLOTLYENV=window.PLOTLYENV || {};                                    if (document.getElementById(\"5331274d-b7ff-464e-89bc-9e5b2a53f859\")) {                    Plotly.newPlot(                        \"5331274d-b7ff-464e-89bc-9e5b2a53f859\",                        [{\"hovertemplate\":\"locale=City<br>time=%{x}<br>pct_access=%{y}<extra></extra>\",\"legendgroup\":\"City\",\"line\":{\"color\":\"#636efa\",\"dash\":\"solid\"},\"marker\":{\"symbol\":\"circle\"},\"mode\":\"lines\",\"name\":\"City\",\"showlegend\":true,\"type\":\"scattergl\",\"x\":[\"2020-01-01T00:00:00\",\"2020-01-02T00:00:00\",\"2020-01-03T00:00:00\",\"2020-01-04T00:00:00\",\"2020-01-05T00:00:00\",\"2020-01-06T00:00:00\",\"2020-01-07T00:00:00\",\"2020-01-08T00:00:00\",\"2020-01-09T00:00:00\",\"2020-01-10T00:00:00\",\"2020-01-11T00:00:00\",\"2020-01-12T00:00:00\",\"2020-01-13T00:00:00\",\"2020-01-14T00:00:00\",\"2020-01-15T00:00:00\",\"2020-01-16T00:00:00\",\"2020-01-17T00:00:00\",\"2020-01-18T00:00:00\",\"2020-01-19T00:00:00\",\"2020-01-20T00:00:00\",\"2020-01-21T00:00:00\",\"2020-01-22T00:00:00\",\"2020-01-23T00:00:00\",\"2020-01-24T00:00:00\",\"2020-01-25T00:00:00\",\"2020-01-26T00:00:00\",\"2020-01-27T00:00:00\",\"2020-01-28T00:00:00\",\"2020-01-29T00:00:00\",\"2020-01-30T00:00:00\",\"2020-01-31T00:00:00\",\"2020-02-01T00:00:00\",\"2020-02-02T00:00:00\",\"2020-02-03T00:00:00\",\"2020-02-04T00:00:00\",\"2020-02-05T00:00:00\",\"2020-02-06T00:00:00\",\"2020-02-07T00:00:00\",\"2020-02-08T00:00:00\",\"2020-02-09T00:00:00\",\"2020-02-10T00:00:00\",\"2020-02-11T00:00:00\",\"2020-02-12T00:00:00\",\"2020-02-13T00:00:00\",\"2020-02-14T00:00:00\",\"2020-02-15T00:00:00\",\"2020-02-16T00:00:00\",\"2020-02-17T00:00:00\",\"2020-02-18T00:00:00\",\"2020-02-19T00:00:00\",\"2020-02-20T00:00:00\",\"2020-02-21T00:00:00\",\"2020-02-22T00:00:00\",\"2020-02-23T00:00:00\",\"2020-02-24T00:00:00\",\"2020-02-25T00:00:00\",\"2020-02-26T00:00:00\",\"2020-02-27T00:00:00\",\"2020-02-28T00:00:00\",\"2020-02-29T00:00:00\",\"2020-03-01T00:00:00\",\"2020-03-02T00:00:00\",\"2020-03-03T00:00:00\",\"2020-03-04T00:00:00\",\"2020-03-05T00:00:00\",\"2020-03-06T00:00:00\",\"2020-03-07T00:00:00\",\"2020-03-08T00:00:00\",\"2020-03-09T00:00:00\",\"2020-03-10T00:00:00\",\"2020-03-11T00:00:00\",\"2020-03-12T00:00:00\",\"2020-03-13T00:00:00\",\"2020-03-14T00:00:00\",\"2020-03-15T00:00:00\",\"2020-03-16T00:00:00\",\"2020-03-17T00:00:00\",\"2020-03-18T00:00:00\",\"2020-03-19T00:00:00\",\"2020-03-20T00:00:00\",\"2020-03-21T00:00:00\",\"2020-03-22T00:00:00\",\"2020-03-23T00:00:00\",\"2020-03-24T00:00:00\",\"2020-03-25T00:00:00\",\"2020-03-26T00:00:00\",\"2020-03-27T00:00:00\",\"2020-03-28T00:00:00\",\"2020-03-29T00:00:00\",\"2020-03-30T00:00:00\",\"2020-03-31T00:00:00\",\"2020-04-01T00:00:00\",\"2020-04-02T00:00:00\",\"2020-04-03T00:00:00\",\"2020-04-04T00:00:00\",\"2020-04-05T00:00:00\",\"2020-04-06T00:00:00\",\"2020-04-07T00:00:00\",\"2020-04-08T00:00:00\",\"2020-04-09T00:00:00\",\"2020-04-10T00:00:00\",\"2020-04-11T00:00:00\",\"2020-04-12T00:00:00\",\"2020-04-13T00:00:00\",\"2020-04-14T00:00:00\",\"2020-04-15T00:00:00\",\"2020-04-16T00:00:00\",\"2020-04-17T00:00:00\",\"2020-04-18T00:00:00\",\"2020-04-19T00:00:00\",\"2020-04-20T00:00:00\",\"2020-04-21T00:00:00\",\"2020-04-22T00:00:00\",\"2020-04-23T00:00:00\",\"2020-04-24T00:00:00\",\"2020-04-25T00:00:00\",\"2020-04-26T00:00:00\",\"2020-04-27T00:00:00\",\"2020-04-28T00:00:00\",\"2020-04-29T00:00:00\",\"2020-04-30T00:00:00\",\"2020-05-01T00:00:00\",\"2020-05-02T00:00:00\",\"2020-05-03T00:00:00\",\"2020-05-04T00:00:00\",\"2020-05-05T00:00:00\",\"2020-05-06T00:00:00\",\"2020-05-07T00:00:00\",\"2020-05-08T00:00:00\",\"2020-05-09T00:00:00\",\"2020-05-10T00:00:00\",\"2020-05-11T00:00:00\",\"2020-05-12T00:00:00\",\"2020-05-13T00:00:00\",\"2020-05-14T00:00:00\",\"2020-05-15T00:00:00\",\"2020-05-16T00:00:00\",\"2020-05-17T00:00:00\",\"2020-05-18T00:00:00\",\"2020-05-19T00:00:00\",\"2020-05-20T00:00:00\",\"2020-05-21T00:00:00\",\"2020-05-22T00:00:00\",\"2020-05-23T00:00:00\",\"2020-05-24T00:00:00\",\"2020-05-25T00:00:00\",\"2020-05-26T00:00:00\",\"2020-05-27T00:00:00\",\"2020-05-28T00:00:00\",\"2020-05-29T00:00:00\",\"2020-05-30T00:00:00\",\"2020-05-31T00:00:00\",\"2020-06-01T00:00:00\",\"2020-06-02T00:00:00\",\"2020-06-03T00:00:00\",\"2020-06-04T00:00:00\",\"2020-06-05T00:00:00\",\"2020-06-06T00:00:00\",\"2020-06-07T00:00:00\",\"2020-06-08T00:00:00\",\"2020-06-09T00:00:00\",\"2020-06-10T00:00:00\",\"2020-06-11T00:00:00\",\"2020-06-12T00:00:00\",\"2020-06-13T00:00:00\",\"2020-06-14T00:00:00\",\"2020-06-15T00:00:00\",\"2020-06-16T00:00:00\",\"2020-06-17T00:00:00\",\"2020-06-18T00:00:00\",\"2020-06-19T00:00:00\",\"2020-06-20T00:00:00\",\"2020-06-21T00:00:00\",\"2020-06-22T00:00:00\",\"2020-06-23T00:00:00\",\"2020-06-24T00:00:00\",\"2020-06-25T00:00:00\",\"2020-06-26T00:00:00\",\"2020-06-27T00:00:00\",\"2020-06-28T00:00:00\",\"2020-06-29T00:00:00\",\"2020-06-30T00:00:00\",\"2020-07-01T00:00:00\",\"2020-07-02T00:00:00\",\"2020-07-03T00:00:00\",\"2020-07-04T00:00:00\",\"2020-07-05T00:00:00\",\"2020-07-06T00:00:00\",\"2020-07-07T00:00:00\",\"2020-07-08T00:00:00\",\"2020-07-09T00:00:00\",\"2020-07-10T00:00:00\",\"2020-07-11T00:00:00\",\"2020-07-12T00:00:00\",\"2020-07-13T00:00:00\",\"2020-07-14T00:00:00\",\"2020-07-15T00:00:00\",\"2020-07-16T00:00:00\",\"2020-07-17T00:00:00\",\"2020-07-18T00:00:00\",\"2020-07-19T00:00:00\",\"2020-07-20T00:00:00\",\"2020-07-21T00:00:00\",\"2020-07-22T00:00:00\",\"2020-07-23T00:00:00\",\"2020-07-24T00:00:00\",\"2020-07-25T00:00:00\",\"2020-07-26T00:00:00\",\"2020-07-27T00:00:00\",\"2020-07-28T00:00:00\",\"2020-07-29T00:00:00\",\"2020-07-30T00:00:00\",\"2020-07-31T00:00:00\",\"2020-08-01T00:00:00\",\"2020-08-02T00:00:00\",\"2020-08-03T00:00:00\",\"2020-08-04T00:00:00\",\"2020-08-05T00:00:00\",\"2020-08-06T00:00:00\",\"2020-08-07T00:00:00\",\"2020-08-08T00:00:00\",\"2020-08-09T00:00:00\",\"2020-08-10T00:00:00\",\"2020-08-11T00:00:00\",\"2020-08-12T00:00:00\",\"2020-08-13T00:00:00\",\"2020-08-14T00:00:00\",\"2020-08-15T00:00:00\",\"2020-08-16T00:00:00\",\"2020-08-17T00:00:00\",\"2020-08-18T00:00:00\",\"2020-08-19T00:00:00\",\"2020-08-20T00:00:00\",\"2020-08-21T00:00:00\",\"2020-08-22T00:00:00\",\"2020-08-23T00:00:00\",\"2020-08-24T00:00:00\",\"2020-08-25T00:00:00\",\"2020-08-26T00:00:00\",\"2020-08-27T00:00:00\",\"2020-08-28T00:00:00\",\"2020-08-29T00:00:00\",\"2020-08-30T00:00:00\",\"2020-08-31T00:00:00\",\"2020-09-01T00:00:00\",\"2020-09-02T00:00:00\",\"2020-09-03T00:00:00\",\"2020-09-04T00:00:00\",\"2020-09-05T00:00:00\",\"2020-09-06T00:00:00\",\"2020-09-07T00:00:00\",\"2020-09-08T00:00:00\",\"2020-09-09T00:00:00\",\"2020-09-10T00:00:00\",\"2020-09-11T00:00:00\",\"2020-09-12T00:00:00\",\"2020-09-13T00:00:00\",\"2020-09-14T00:00:00\",\"2020-09-15T00:00:00\",\"2020-09-16T00:00:00\",\"2020-09-17T00:00:00\",\"2020-09-18T00:00:00\",\"2020-09-19T00:00:00\",\"2020-09-20T00:00:00\",\"2020-09-21T00:00:00\",\"2020-09-22T00:00:00\",\"2020-09-23T00:00:00\",\"2020-09-24T00:00:00\",\"2020-09-25T00:00:00\",\"2020-09-26T00:00:00\",\"2020-09-27T00:00:00\",\"2020-09-28T00:00:00\",\"2020-09-29T00:00:00\",\"2020-09-30T00:00:00\",\"2020-10-01T00:00:00\",\"2020-10-02T00:00:00\",\"2020-10-03T00:00:00\",\"2020-10-04T00:00:00\",\"2020-10-05T00:00:00\",\"2020-10-06T00:00:00\",\"2020-10-07T00:00:00\",\"2020-10-08T00:00:00\",\"2020-10-09T00:00:00\",\"2020-10-10T00:00:00\",\"2020-10-11T00:00:00\",\"2020-10-12T00:00:00\",\"2020-10-13T00:00:00\",\"2020-10-14T00:00:00\",\"2020-10-15T00:00:00\",\"2020-10-16T00:00:00\",\"2020-10-17T00:00:00\",\"2020-10-18T00:00:00\",\"2020-10-19T00:00:00\",\"2020-10-20T00:00:00\",\"2020-10-21T00:00:00\",\"2020-10-22T00:00:00\",\"2020-10-23T00:00:00\",\"2020-10-24T00:00:00\",\"2020-10-25T00:00:00\",\"2020-10-26T00:00:00\",\"2020-10-27T00:00:00\",\"2020-10-28T00:00:00\",\"2020-10-29T00:00:00\",\"2020-10-30T00:00:00\",\"2020-10-31T00:00:00\",\"2020-11-01T00:00:00\",\"2020-11-02T00:00:00\",\"2020-11-03T00:00:00\",\"2020-11-04T00:00:00\",\"2020-11-05T00:00:00\",\"2020-11-06T00:00:00\",\"2020-11-07T00:00:00\",\"2020-11-08T00:00:00\",\"2020-11-09T00:00:00\",\"2020-11-10T00:00:00\",\"2020-11-11T00:00:00\",\"2020-11-12T00:00:00\",\"2020-11-13T00:00:00\",\"2020-11-14T00:00:00\",\"2020-11-15T00:00:00\",\"2020-11-16T00:00:00\",\"2020-11-17T00:00:00\",\"2020-11-18T00:00:00\",\"2020-11-19T00:00:00\",\"2020-11-20T00:00:00\",\"2020-11-21T00:00:00\",\"2020-11-22T00:00:00\",\"2020-11-23T00:00:00\",\"2020-11-24T00:00:00\",\"2020-11-25T00:00:00\",\"2020-11-26T00:00:00\",\"2020-11-27T00:00:00\",\"2020-11-28T00:00:00\",\"2020-11-29T00:00:00\",\"2020-11-30T00:00:00\",\"2020-12-01T00:00:00\",\"2020-12-02T00:00:00\",\"2020-12-03T00:00:00\",\"2020-12-04T00:00:00\",\"2020-12-05T00:00:00\",\"2020-12-06T00:00:00\",\"2020-12-07T00:00:00\",\"2020-12-08T00:00:00\",\"2020-12-09T00:00:00\",\"2020-12-10T00:00:00\",\"2020-12-11T00:00:00\",\"2020-12-12T00:00:00\",\"2020-12-13T00:00:00\",\"2020-12-14T00:00:00\",\"2020-12-15T00:00:00\",\"2020-12-16T00:00:00\",\"2020-12-17T00:00:00\",\"2020-12-18T00:00:00\",\"2020-12-19T00:00:00\",\"2020-12-20T00:00:00\",\"2020-12-21T00:00:00\",\"2020-12-22T00:00:00\",\"2020-12-23T00:00:00\",\"2020-12-24T00:00:00\",\"2020-12-25T00:00:00\",\"2020-12-26T00:00:00\",\"2020-12-27T00:00:00\",\"2020-12-28T00:00:00\",\"2020-12-29T00:00:00\",\"2020-12-30T00:00:00\",\"2020-12-31T00:00:00\"],\"xaxis\":\"x4\",\"y\":[0.04631578947368441,0.10226935312831416,0.08598369011213114,0.053149779735682766,0.06074371859296479,0.830818340104461,0.9061375069871346,0.9298174778760981,0.9756734469488654,0.9980247608328556,0.10576752440106522,0.10048780487804919,0.9557687861271587,1.1594999999999998,1.1613365539452483,1.2091302027748132,1.1290595436839101,0.1130899376669641,0.09797687861271713,0.1253750000000002,0.8661910377358418,1.1545875465673219,1.2000319318786605,1.033303218520601,0.08251101321585921,0.0756341911764709,1.0121943048576139,1.1290798519301968,1.1045430944963648,1.1272924378635634,1.1389972451790606,0.09994127516778563,0.08183868169991369,0.9926374269005775,1.120697674418603,0.9624456233421668,1.079195583596209,1.1791999999999974,0.10087294727744221,0.09329371816638417,1.18863840399002,1.1893543617545568,1.1230938416422243,1.1815485829959513,0.8349225473321789,0.09614761476147658,0.07404739336492919,0.09361473522640099,1.1318358426420567,1.1487713310580179,1.1831042884990264,1.1648475762118904,0.09555555555555598,0.09365791701947544,1.1355951219512168,1.1775986685687116,1.1308830548926003,1.2023887027285818,1.1027237912876953,0.09983700081499633,0.08993442622950863,1.0698451730418925,1.122267050912583,0.8600477099236565,1.152896713615027,1.1377944015444024,0.1022866611433312,0.0941904761904767,1.0738721804511278,1.143661126500464,1.1434995340167782,1.1018267419962329,0.6604398382204203,0.11372800000000025,0.08776377952755986,0.26990846681922076,0.19859499431171632,0.28574468085106125,0.2869703622392957,0.26907053034444806,0.14436435124508443,0.09839471855455205,0.25095652173912814,0.27585820895522145,0.28848293963254334,0.28298868312756975,0.2897784810126555,0.16319634703196292,0.12862279511533245,0.3978244680851033,0.39141005702436255,0.37499739447628677,0.35933125972005886,0.3572678185745109,0.15973162939297086,0.13748876043673675,0.5238823529411727,0.5459151572926554,0.5204391408114512,0.5132384169884124,0.4655781966377957,0.23228886168910437,0.1608104575163393,0.717469654528471,0.7137615101289078,0.7698996350364881,0.6980403854979284,0.6521243523316004,0.2909826912339443,0.19077235772357484,0.689850352112669,0.6582894736842049,0.7087627043747168,0.6415912087912035,0.6424843889384414,0.2780087288597902,0.18071803852889481,0.6651969898184963,0.6183436944937772,0.6536428891879688,0.6004153498871274,0.5890839694656419,0.25051616562677015,0.17543849323131092,0.6255026929981986,0.58296945193171,0.6209053870529565,0.5472166817769648,0.5522335970218649,0.2266173120728912,0.15129829005699771,0.593395454545447,0.5530765724703672,0.5852469415496072,0.5315545243619446,0.52198678621991,0.22335864485981075,0.1674229346485808,0.6134398034397952,0.5767024349979294,0.5590148392415423,0.4860534124629015,0.39294091316024626,0.19438156359393075,0.13170873786407747,0.18852345107121998,0.4117016205910359,0.44729066410009205,0.41575199203186863,0.35854363827549596,0.17930247305009392,0.13392396907216458,0.3851400916963791,0.36153061224489474,0.3366632070575994,0.3102408376963318,0.26858647450110684,0.1357104010876953,0.09628691983122405,0.25730623306232886,0.27402851108764353,0.2684460196292243,0.26045150501672043,0.24548088064889773,0.1326256192498228,0.09909711684370304,0.2304440697020788,0.23408656548622706,0.2329316143497742,0.23076433121018936,0.1882717595491538,0.10197051978277794,0.07717728055077475,0.10060741687979553,0.1103262955854125,0.10053281351526973,0.09146922567835901,0.08217391304347875,0.0717826086956526,0.06447140381282512,0.08280354706684906,0.0822266666666672,0.07375259156876333,0.06794871794871823,0.06575533661740567,0.05951855566700093,0.053645320197044294,0.09226364846870863,0.09891290527654154,0.09975625400898001,0.10034595300261068,0.09966971187631779,0.06408268733850135,0.059201388888888956,0.09920294708640315,0.09538561244329243,0.09620645161290314,0.09131847133757967,0.08823056300268119,0.06078993055555567,0.05351284175642085,0.08673642903858748,0.08462686567164195,0.08801541425818891,0.08356403622250999,0.08358084663428217,0.05558397271952255,0.05226596675415568,0.06975063938618974,0.07325777202072589,0.07293583927414171,0.07213844252163201,0.07060893098782184,0.05516129032258066,0.049932030586236166,0.060730793254216354,0.07164935858277376,0.20895117540686814,0.24026159334125693,0.2747047496790725,0.09422204847537224,0.07809076682316157,0.3256073113207511,0.3338026543566025,0.31438220757824936,0.3501162790697622,0.3555632183907997,0.11287164612037744,0.08799859550561878,0.4055335762623589,0.4405311077389934,0.46086481113319566,0.46471502590673086,0.4664425369575526,0.14549549549549523,0.1358032596041904,0.6780017226528778,0.772081429164928,0.8187310061601569,0.7837948922585716,0.7926984126984046,0.2146278481012637,0.18016112789526498,0.8730931047915844,1.242327905255381,1.2047783430232706,1.2063399180022505,1.119675838673208,0.2499034062023361,0.1688396501457715,0.22048488008341835,0.9612118842845994,0.952300187617268,1.039439393939402,0.9742534113060463,0.26501805054151345,0.21939472322814096,1.0379816513761497,1.048214153390152,0.9741320474777464,1.052414814814822,0.9815156130997718,0.2704870624048675,0.20885844748858248,0.9976948899664325,0.9320296671490597,0.8826088521050738,1.0383690987124528,0.8775679594055831,0.2548679060665335,0.21031988188976197,1.0302511496285882,0.9844384835479303,0.9752338766832099,0.9681018027571602,0.9246097471601311,0.2611165523996053,0.20956435643564128,0.9545696068012752,0.9984809676271843,0.9150301739439111,0.9796702508960594,0.8108900722708207,0.24672888015716848,0.20476877175534372,0.7723460837887008,0.7712702503681816,0.7480015026295939,0.618183990442048,0.5381201471189154,0.23354114713216736,0.18069778869778724,0.7753483309143624,0.9242664298401428,0.9306762438682581,0.9488986320589325,0.8557583363212636,0.23240240240240037,0.18752769385699725,0.9094372759856654,0.9346285104870278,0.9261308476960964,0.9264432624113487,0.8525886654478955,0.22756036217303582,0.1717189912506422,0.9079596977329978,0.7513890857547775,0.8646415897799856,0.9507847295864275,0.9458997882851108,0.25402101241642516,0.19738265306122238,0.8998417835311054,0.9726151142355078,0.9143343195266269,0.9381117117117143,0.971997863247864,0.25114514608859323,0.19548067393458687,0.8898314808174982,0.9725770308123303,0.9754181307097763,1.0067256011315464,0.9713000000000045,0.37803555150409807,0.22482546201231862,0.7773478587528112,0.8071515613099731,0.2609578544061281,0.22338674033148986,0.16281359906213289,0.15792766934557925,0.163147853736088,0.8749927745664745,0.9255065301800235,0.8404637168141584,0.9172740112994372,0.8727220834819874,0.2570024096385519,0.19689965052421196,0.8916779239246361,0.9350494001411462,0.879151707145371,0.9579739711572319,0.9251413237924874,0.24705631803123276,0.19708083832335144,0.8633476088508185,0.9002428722280895,0.8383161267354896,0.9005499640546352,0.6667490347490275,0.2154948620876128,0.16332504661280267,0.2505301339285699,0.21553348467650235,0.14991336633663396,0.1269040697674419,0.10457786116322745,0.09507653061224512,0.1019147224456965,0.11030779305828425,0.11704280155642043,0.114598862918509,0.11132673267326745],\"yaxis\":\"y4\"},{\"hovertemplate\":\"locale=Rural<br>time=%{x}<br>pct_access=%{y}<extra></extra>\",\"legendgroup\":\"Rural\",\"line\":{\"color\":\"#EF553B\",\"dash\":\"solid\"},\"marker\":{\"symbol\":\"circle\"},\"mode\":\"lines\",\"name\":\"Rural\",\"showlegend\":true,\"type\":\"scattergl\",\"x\":[\"2020-01-01T00:00:00\",\"2020-01-02T00:00:00\",\"2020-01-03T00:00:00\",\"2020-01-04T00:00:00\",\"2020-01-05T00:00:00\",\"2020-01-06T00:00:00\",\"2020-01-07T00:00:00\",\"2020-01-08T00:00:00\",\"2020-01-09T00:00:00\",\"2020-01-10T00:00:00\",\"2020-01-11T00:00:00\",\"2020-01-12T00:00:00\",\"2020-01-13T00:00:00\",\"2020-01-14T00:00:00\",\"2020-01-15T00:00:00\",\"2020-01-16T00:00:00\",\"2020-01-17T00:00:00\",\"2020-01-18T00:00:00\",\"2020-01-19T00:00:00\",\"2020-01-20T00:00:00\",\"2020-01-21T00:00:00\",\"2020-01-22T00:00:00\",\"2020-01-23T00:00:00\",\"2020-01-24T00:00:00\",\"2020-01-25T00:00:00\",\"2020-01-26T00:00:00\",\"2020-01-27T00:00:00\",\"2020-01-28T00:00:00\",\"2020-01-29T00:00:00\",\"2020-01-30T00:00:00\",\"2020-01-31T00:00:00\",\"2020-02-01T00:00:00\",\"2020-02-02T00:00:00\",\"2020-02-03T00:00:00\",\"2020-02-04T00:00:00\",\"2020-02-05T00:00:00\",\"2020-02-06T00:00:00\",\"2020-02-07T00:00:00\",\"2020-02-08T00:00:00\",\"2020-02-09T00:00:00\",\"2020-02-10T00:00:00\",\"2020-02-11T00:00:00\",\"2020-02-12T00:00:00\",\"2020-02-13T00:00:00\",\"2020-02-14T00:00:00\",\"2020-02-15T00:00:00\",\"2020-02-16T00:00:00\",\"2020-02-17T00:00:00\",\"2020-02-18T00:00:00\",\"2020-02-19T00:00:00\",\"2020-02-20T00:00:00\",\"2020-02-21T00:00:00\",\"2020-02-22T00:00:00\",\"2020-02-23T00:00:00\",\"2020-02-24T00:00:00\",\"2020-02-25T00:00:00\",\"2020-02-26T00:00:00\",\"2020-02-27T00:00:00\",\"2020-02-28T00:00:00\",\"2020-02-29T00:00:00\",\"2020-03-01T00:00:00\",\"2020-03-02T00:00:00\",\"2020-03-03T00:00:00\",\"2020-03-04T00:00:00\",\"2020-03-05T00:00:00\",\"2020-03-06T00:00:00\",\"2020-03-07T00:00:00\",\"2020-03-08T00:00:00\",\"2020-03-09T00:00:00\",\"2020-03-10T00:00:00\",\"2020-03-11T00:00:00\",\"2020-03-12T00:00:00\",\"2020-03-13T00:00:00\",\"2020-03-14T00:00:00\",\"2020-03-15T00:00:00\",\"2020-03-16T00:00:00\",\"2020-03-17T00:00:00\",\"2020-03-18T00:00:00\",\"2020-03-19T00:00:00\",\"2020-03-20T00:00:00\",\"2020-03-21T00:00:00\",\"2020-03-22T00:00:00\",\"2020-03-23T00:00:00\",\"2020-03-24T00:00:00\",\"2020-03-25T00:00:00\",\"2020-03-26T00:00:00\",\"2020-03-27T00:00:00\",\"2020-03-28T00:00:00\",\"2020-03-29T00:00:00\",\"2020-03-30T00:00:00\",\"2020-03-31T00:00:00\",\"2020-04-01T00:00:00\",\"2020-04-02T00:00:00\",\"2020-04-03T00:00:00\",\"2020-04-04T00:00:00\",\"2020-04-05T00:00:00\",\"2020-04-06T00:00:00\",\"2020-04-07T00:00:00\",\"2020-04-08T00:00:00\",\"2020-04-09T00:00:00\",\"2020-04-10T00:00:00\",\"2020-04-11T00:00:00\",\"2020-04-12T00:00:00\",\"2020-04-13T00:00:00\",\"2020-04-14T00:00:00\",\"2020-04-15T00:00:00\",\"2020-04-16T00:00:00\",\"2020-04-17T00:00:00\",\"2020-04-18T00:00:00\",\"2020-04-19T00:00:00\",\"2020-04-20T00:00:00\",\"2020-04-21T00:00:00\",\"2020-04-22T00:00:00\",\"2020-04-23T00:00:00\",\"2020-04-24T00:00:00\",\"2020-04-25T00:00:00\",\"2020-04-26T00:00:00\",\"2020-04-27T00:00:00\",\"2020-04-28T00:00:00\",\"2020-04-29T00:00:00\",\"2020-04-30T00:00:00\",\"2020-05-01T00:00:00\",\"2020-05-02T00:00:00\",\"2020-05-03T00:00:00\",\"2020-05-04T00:00:00\",\"2020-05-05T00:00:00\",\"2020-05-06T00:00:00\",\"2020-05-07T00:00:00\",\"2020-05-08T00:00:00\",\"2020-05-09T00:00:00\",\"2020-05-10T00:00:00\",\"2020-05-11T00:00:00\",\"2020-05-12T00:00:00\",\"2020-05-13T00:00:00\",\"2020-05-14T00:00:00\",\"2020-05-15T00:00:00\",\"2020-05-16T00:00:00\",\"2020-05-17T00:00:00\",\"2020-05-18T00:00:00\",\"2020-05-19T00:00:00\",\"2020-05-20T00:00:00\",\"2020-05-21T00:00:00\",\"2020-05-22T00:00:00\",\"2020-05-23T00:00:00\",\"2020-05-24T00:00:00\",\"2020-05-25T00:00:00\",\"2020-05-26T00:00:00\",\"2020-05-27T00:00:00\",\"2020-05-28T00:00:00\",\"2020-05-29T00:00:00\",\"2020-05-30T00:00:00\",\"2020-05-31T00:00:00\",\"2020-06-01T00:00:00\",\"2020-06-02T00:00:00\",\"2020-06-03T00:00:00\",\"2020-06-04T00:00:00\",\"2020-06-05T00:00:00\",\"2020-06-06T00:00:00\",\"2020-06-07T00:00:00\",\"2020-06-08T00:00:00\",\"2020-06-09T00:00:00\",\"2020-06-10T00:00:00\",\"2020-06-11T00:00:00\",\"2020-06-12T00:00:00\",\"2020-06-13T00:00:00\",\"2020-06-14T00:00:00\",\"2020-06-15T00:00:00\",\"2020-06-16T00:00:00\",\"2020-06-17T00:00:00\",\"2020-06-18T00:00:00\",\"2020-06-19T00:00:00\",\"2020-06-20T00:00:00\",\"2020-06-21T00:00:00\",\"2020-06-22T00:00:00\",\"2020-06-23T00:00:00\",\"2020-06-24T00:00:00\",\"2020-06-25T00:00:00\",\"2020-06-26T00:00:00\",\"2020-06-27T00:00:00\",\"2020-06-28T00:00:00\",\"2020-06-29T00:00:00\",\"2020-06-30T00:00:00\",\"2020-07-01T00:00:00\",\"2020-07-02T00:00:00\",\"2020-07-03T00:00:00\",\"2020-07-04T00:00:00\",\"2020-07-05T00:00:00\",\"2020-07-06T00:00:00\",\"2020-07-07T00:00:00\",\"2020-07-08T00:00:00\",\"2020-07-09T00:00:00\",\"2020-07-10T00:00:00\",\"2020-07-11T00:00:00\",\"2020-07-12T00:00:00\",\"2020-07-13T00:00:00\",\"2020-07-14T00:00:00\",\"2020-07-15T00:00:00\",\"2020-07-16T00:00:00\",\"2020-07-17T00:00:00\",\"2020-07-18T00:00:00\",\"2020-07-19T00:00:00\",\"2020-07-20T00:00:00\",\"2020-07-21T00:00:00\",\"2020-07-22T00:00:00\",\"2020-07-23T00:00:00\",\"2020-07-24T00:00:00\",\"2020-07-25T00:00:00\",\"2020-07-26T00:00:00\",\"2020-07-27T00:00:00\",\"2020-07-28T00:00:00\",\"2020-07-29T00:00:00\",\"2020-07-30T00:00:00\",\"2020-07-31T00:00:00\",\"2020-08-01T00:00:00\",\"2020-08-02T00:00:00\",\"2020-08-03T00:00:00\",\"2020-08-04T00:00:00\",\"2020-08-05T00:00:00\",\"2020-08-06T00:00:00\",\"2020-08-07T00:00:00\",\"2020-08-08T00:00:00\",\"2020-08-09T00:00:00\",\"2020-08-10T00:00:00\",\"2020-08-11T00:00:00\",\"2020-08-12T00:00:00\",\"2020-08-13T00:00:00\",\"2020-08-14T00:00:00\",\"2020-08-15T00:00:00\",\"2020-08-16T00:00:00\",\"2020-08-17T00:00:00\",\"2020-08-18T00:00:00\",\"2020-08-19T00:00:00\",\"2020-08-20T00:00:00\",\"2020-08-21T00:00:00\",\"2020-08-22T00:00:00\",\"2020-08-23T00:00:00\",\"2020-08-24T00:00:00\",\"2020-08-25T00:00:00\",\"2020-08-26T00:00:00\",\"2020-08-27T00:00:00\",\"2020-08-28T00:00:00\",\"2020-08-29T00:00:00\",\"2020-08-30T00:00:00\",\"2020-08-31T00:00:00\",\"2020-09-01T00:00:00\",\"2020-09-02T00:00:00\",\"2020-09-03T00:00:00\",\"2020-09-04T00:00:00\",\"2020-09-05T00:00:00\",\"2020-09-06T00:00:00\",\"2020-09-07T00:00:00\",\"2020-09-08T00:00:00\",\"2020-09-09T00:00:00\",\"2020-09-10T00:00:00\",\"2020-09-11T00:00:00\",\"2020-09-12T00:00:00\",\"2020-09-13T00:00:00\",\"2020-09-14T00:00:00\",\"2020-09-15T00:00:00\",\"2020-09-16T00:00:00\",\"2020-09-17T00:00:00\",\"2020-09-18T00:00:00\",\"2020-09-19T00:00:00\",\"2020-09-20T00:00:00\",\"2020-09-21T00:00:00\",\"2020-09-22T00:00:00\",\"2020-09-23T00:00:00\",\"2020-09-24T00:00:00\",\"2020-09-25T00:00:00\",\"2020-09-26T00:00:00\",\"2020-09-27T00:00:00\",\"2020-09-28T00:00:00\",\"2020-09-29T00:00:00\",\"2020-09-30T00:00:00\",\"2020-10-01T00:00:00\",\"2020-10-02T00:00:00\",\"2020-10-03T00:00:00\",\"2020-10-04T00:00:00\",\"2020-10-05T00:00:00\",\"2020-10-06T00:00:00\",\"2020-10-07T00:00:00\",\"2020-10-08T00:00:00\",\"2020-10-09T00:00:00\",\"2020-10-10T00:00:00\",\"2020-10-11T00:00:00\",\"2020-10-12T00:00:00\",\"2020-10-13T00:00:00\",\"2020-10-14T00:00:00\",\"2020-10-15T00:00:00\",\"2020-10-16T00:00:00\",\"2020-10-17T00:00:00\",\"2020-10-18T00:00:00\",\"2020-10-19T00:00:00\",\"2020-10-20T00:00:00\",\"2020-10-21T00:00:00\",\"2020-10-22T00:00:00\",\"2020-10-23T00:00:00\",\"2020-10-24T00:00:00\",\"2020-10-25T00:00:00\",\"2020-10-26T00:00:00\",\"2020-10-27T00:00:00\",\"2020-10-28T00:00:00\",\"2020-10-29T00:00:00\",\"2020-10-30T00:00:00\",\"2020-10-31T00:00:00\",\"2020-11-01T00:00:00\",\"2020-11-02T00:00:00\",\"2020-11-03T00:00:00\",\"2020-11-04T00:00:00\",\"2020-11-05T00:00:00\",\"2020-11-06T00:00:00\",\"2020-11-07T00:00:00\",\"2020-11-08T00:00:00\",\"2020-11-09T00:00:00\",\"2020-11-10T00:00:00\",\"2020-11-11T00:00:00\",\"2020-11-12T00:00:00\",\"2020-11-13T00:00:00\",\"2020-11-14T00:00:00\",\"2020-11-15T00:00:00\",\"2020-11-16T00:00:00\",\"2020-11-17T00:00:00\",\"2020-11-18T00:00:00\",\"2020-11-19T00:00:00\",\"2020-11-20T00:00:00\",\"2020-11-21T00:00:00\",\"2020-11-22T00:00:00\",\"2020-11-23T00:00:00\",\"2020-11-24T00:00:00\",\"2020-11-25T00:00:00\",\"2020-11-26T00:00:00\",\"2020-11-27T00:00:00\",\"2020-11-28T00:00:00\",\"2020-11-29T00:00:00\",\"2020-11-30T00:00:00\",\"2020-12-01T00:00:00\",\"2020-12-02T00:00:00\",\"2020-12-03T00:00:00\",\"2020-12-04T00:00:00\",\"2020-12-05T00:00:00\",\"2020-12-06T00:00:00\",\"2020-12-07T00:00:00\",\"2020-12-08T00:00:00\",\"2020-12-09T00:00:00\",\"2020-12-10T00:00:00\",\"2020-12-11T00:00:00\",\"2020-12-12T00:00:00\",\"2020-12-13T00:00:00\",\"2020-12-14T00:00:00\",\"2020-12-15T00:00:00\",\"2020-12-16T00:00:00\",\"2020-12-17T00:00:00\",\"2020-12-18T00:00:00\",\"2020-12-19T00:00:00\",\"2020-12-20T00:00:00\",\"2020-12-21T00:00:00\",\"2020-12-22T00:00:00\",\"2020-12-23T00:00:00\",\"2020-12-24T00:00:00\",\"2020-12-25T00:00:00\",\"2020-12-26T00:00:00\",\"2020-12-27T00:00:00\",\"2020-12-28T00:00:00\",\"2020-12-29T00:00:00\",\"2020-12-30T00:00:00\",\"2020-12-31T00:00:00\"],\"xaxis\":\"x3\",\"y\":[0.09356136820925573,0.08326683291770601,0.08659313725490261,0.11418032786885306,0.14627163781624541,1.544363221016577,1.5478575531303944,1.5843237125070868,1.6601638448935112,1.7196102449888764,0.24451406649616414,0.2858803986710958,1.6281256830601236,1.6288560687432967,1.5744491978609736,1.699787120808953,1.5049678174371,0.20752342704149923,0.19781456953642407,0.7863456345634505,1.4493252212389482,1.610873315363894,1.6566702997275287,1.5287422447828631,0.2007475490196083,0.23948553054662383,1.599896682979888,1.6699510603589034,1.677539561000518,1.698281407035184,1.7552631578947457,0.23907849829351532,0.26608523290386404,1.5398399199599933,1.668634423897588,1.5976359338061492,1.3602868447082095,1.447845610494463,0.3048003894839347,0.3520639032815187,1.5791258581235785,1.6355760171306317,1.634868977176676,1.4293336127410006,1.300820512820528,0.2710090090090084,0.2843713572023299,1.0614038876889766,1.559693708609282,1.4998513625103322,1.5197572016461007,1.5070619705751322,0.27171861836562605,0.2829044117647042,1.440868390582793,1.6036032689450306,1.3841323932628398,1.5548433268858906,1.2914654487688764,0.25434612372748483,0.3185228095582887,1.5622159090909216,1.4198551774076833,1.5383980412731828,1.5934811923350023,1.4792531740104633,0.2442191142191127,0.2810169491525405,1.453427853553492,1.5568767705382485,1.558014914772734,1.601718360071311,1.3595069393718184,0.3011017498379765,0.27083585705632796,0.6880537720706186,1.064059725585163,1.1378959718420205,1.2058291457286607,1.0052911813643934,0.4306371191135678,0.36018181818181433,0.9554395824969901,0.947943290734828,1.0257794830371636,0.8890796318527456,0.8858027709861473,0.3598676957001061,0.32784838350055384,0.8548913917940477,0.9748070866141724,0.8409411764705892,1.0139644970414254,0.781898206090945,0.3335343383584547,0.27170529801324295,0.8505456750202122,1.0621771950735173,1.0840257582052508,1.037303822937642,0.7871542200618591,0.3396727898966664,0.2665214723926363,0.9311894586894762,1.3037180373186021,1.2281652661064568,1.254801792485365,0.950133638793438,0.41280640320159545,0.3413740053050358,0.9519943222143509,1.2947227997228141,1.2239144385026846,1.218217787114856,0.9795432051770188,0.3788300104931743,0.34166666666666295,0.9411534315486915,1.2746305595409015,1.1788308457711536,1.2281121362668652,0.9265718677940046,0.36176338028168636,0.29309278350515117,0.9164222549742072,1.2306319171724456,1.1540751658069361,1.1708016105417363,0.9225747822794411,0.3955287171229139,0.34002357100765707,0.9619101123595654,1.1821931441209086,1.0717014147431272,1.1110799545282428,0.8907969255663452,0.35950638792101774,0.3262582056892739,0.7967322530864177,0.9194551777434313,0.8102418379685568,0.8244730077120768,0.5740416047548237,0.29770270270270016,0.23703952901597888,0.30431849791376725,0.6662316089226342,0.635772040915729,0.6579969496695443,0.5772524483133784,0.2594127516778506,0.2168261964735504,0.5633443526170739,0.5639265212399501,0.573951849677035,0.547944477259298,0.5369532836831364,0.2350138248847918,0.2145045871559624,0.5519565217391252,0.522652941176466,0.5017216981132026,0.5235856079404414,0.4808025122121392,0.21995910020449816,0.18600405679513132,0.41564990202481766,0.3427872195785159,0.2892529950669466,0.24009992862241095,0.19883223684210458,0.1319603267211208,0.12021151586369028,0.1302604166666663,0.12720674486803485,0.12814641744548247,0.12745336577453314,0.11359550561797763,0.1149375000000006,0.1035321100917437,0.10393403057119896,0.10461285008237277,0.10245299145299185,0.10353256021409496,0.10564017660044206,0.10198611111111154,0.09507500000000041,0.10891479099678474,0.10095274390243919,0.10495849056603775,0.10254901960784332,0.10639175257732007,0.09379234972677648,0.09206073752711541,0.10522163786626611,0.10493353028065004,0.10875,0.10673048600883657,0.0966911764705886,0.09494394618834132,0.08024390243902482,0.1001857142857143,0.10509012256669059,0.09880110880110887,0.09391489361702131,0.09060580912863096,0.08000000000000028,0.0770362694300521,0.08690661478599225,0.08834000000000017,0.08817282321899755,0.08417043253712092,0.08375838926174518,0.07434123222748858,0.07149621212121239,0.08015028177833472,0.07740740740740773,0.0713688430698744,0.06998818665091583,0.06627062706270656,0.06472795497185758,0.05661485319516415,0.0662065095398432,0.07005139920045725,0.09370370370370341,0.3953831325301166,0.5743297524521196,0.18322354590048992,0.18339960238568453,0.7313679833679764,0.7988815244407539,0.8291541276941783,0.9489976133651724,0.9958635819704945,0.22473781616286034,0.22881798002219503,1.0700073964497148,0.974100615273265,0.9943203181489597,1.026499462558236,0.9991397849462481,0.24790630422209117,0.2699677765843154,1.1101696712619484,1.2318360995850814,1.296105047748993,1.26529122807019,1.1083180652253708,0.2836713500305423,0.2322202056866285,0.30573339940534805,1.2475252525252698,1.3003833333333477,1.3654444806252195,1.3596980878899878,0.3474896907216455,0.40077471482889315,1.5663157894737072,1.6282777078085868,1.4343534883721099,1.626891807379632,1.5537625689263892,0.3728833071690181,0.39655965500718415,1.5329569046870204,1.6693599750234382,1.5062723903644377,1.636355666875416,1.5540388287715046,0.35722135821668943,0.3665440149045139,1.5278099688473696,1.53886645962735,1.4698224299065616,1.5553739184178241,1.5289451747355152,0.3578256513026015,0.38515402298850043,1.4463408276311593,1.565351934052019,1.4592513368984164,1.468248407643328,1.4545610071013668,0.33975533576262024,0.33558291457286005,1.11955680619065,1.5138803149606497,1.3671951219512277,1.540377538071086,1.4151955495617132,0.5576179018286768,0.34964198136340957,1.231070623591296,1.3495510057471345,1.2381234740146556,1.2880313588850245,1.2735950704225423,0.3134613333333311,0.32985748218527033,1.4420989599748053,1.4719761979329988,1.452088627207957,1.4964249843063626,1.41259559300066,0.31770306616460164,0.33017992424242026,1.4589723444374787,1.1360458265139246,1.3171972098922091,1.4156740506329226,1.4569211195928957,0.34256371814092573,0.32653256704980477,1.336335199209752,1.528396994364455,1.3680831185567113,1.4862551052466477,1.5472265747414873,0.3744866732477748,0.36022727272726845,1.4352175324675494,1.5105875077303874,1.4763917207290949,1.5347321991178493,1.5395492594977673,0.5751235431235366,0.35089434889434534,1.2569286657860044,1.3218196667755748,0.4708085808580803,0.27007995079950525,0.23299564947171922,0.2180336426914128,0.2920550639134684,1.4330391527599693,1.511950233281515,1.3982069608452714,1.5422513252260919,1.5085327816677512,0.3555047714716176,0.3379624413145495,1.467835308796029,1.5121147943523916,1.4173162445954552,1.523904024767824,1.529918469739755,0.37600701402805164,0.35164396430248507,1.3764462025316662,1.4739773085408385,1.3236395534290442,1.3282706270627178,1.2652861952862073,0.34041058887087705,0.2567567567567539,0.7372714617169314,0.706872037914687,0.4078331257783257,0.20788398692810417,0.15087358684481,0.14792246520874783,0.145906542056075,0.15168993387215282,0.15052593133674222,0.14196581196581157,0.1457844574780054],\"yaxis\":\"y3\"},{\"hovertemplate\":\"locale=Suburb<br>time=%{x}<br>pct_access=%{y}<extra></extra>\",\"legendgroup\":\"Suburb\",\"line\":{\"color\":\"#00cc96\",\"dash\":\"solid\"},\"marker\":{\"symbol\":\"circle\"},\"mode\":\"lines\",\"name\":\"Suburb\",\"showlegend\":true,\"type\":\"scattergl\",\"x\":[\"2020-01-01T00:00:00\",\"2020-01-02T00:00:00\",\"2020-01-03T00:00:00\",\"2020-01-04T00:00:00\",\"2020-01-05T00:00:00\",\"2020-01-06T00:00:00\",\"2020-01-07T00:00:00\",\"2020-01-08T00:00:00\",\"2020-01-09T00:00:00\",\"2020-01-10T00:00:00\",\"2020-01-11T00:00:00\",\"2020-01-12T00:00:00\",\"2020-01-13T00:00:00\",\"2020-01-14T00:00:00\",\"2020-01-15T00:00:00\",\"2020-01-16T00:00:00\",\"2020-01-17T00:00:00\",\"2020-01-18T00:00:00\",\"2020-01-19T00:00:00\",\"2020-01-20T00:00:00\",\"2020-01-21T00:00:00\",\"2020-01-22T00:00:00\",\"2020-01-23T00:00:00\",\"2020-01-24T00:00:00\",\"2020-01-25T00:00:00\",\"2020-01-26T00:00:00\",\"2020-01-27T00:00:00\",\"2020-01-28T00:00:00\",\"2020-01-29T00:00:00\",\"2020-01-30T00:00:00\",\"2020-01-31T00:00:00\",\"2020-02-01T00:00:00\",\"2020-02-02T00:00:00\",\"2020-02-03T00:00:00\",\"2020-02-04T00:00:00\",\"2020-02-05T00:00:00\",\"2020-02-06T00:00:00\",\"2020-02-07T00:00:00\",\"2020-02-08T00:00:00\",\"2020-02-09T00:00:00\",\"2020-02-10T00:00:00\",\"2020-02-11T00:00:00\",\"2020-02-12T00:00:00\",\"2020-02-13T00:00:00\",\"2020-02-14T00:00:00\",\"2020-02-15T00:00:00\",\"2020-02-16T00:00:00\",\"2020-02-17T00:00:00\",\"2020-02-18T00:00:00\",\"2020-02-19T00:00:00\",\"2020-02-20T00:00:00\",\"2020-02-21T00:00:00\",\"2020-02-22T00:00:00\",\"2020-02-23T00:00:00\",\"2020-02-24T00:00:00\",\"2020-02-25T00:00:00\",\"2020-02-26T00:00:00\",\"2020-02-27T00:00:00\",\"2020-02-28T00:00:00\",\"2020-02-29T00:00:00\",\"2020-03-01T00:00:00\",\"2020-03-02T00:00:00\",\"2020-03-03T00:00:00\",\"2020-03-04T00:00:00\",\"2020-03-05T00:00:00\",\"2020-03-06T00:00:00\",\"2020-03-07T00:00:00\",\"2020-03-08T00:00:00\",\"2020-03-09T00:00:00\",\"2020-03-10T00:00:00\",\"2020-03-11T00:00:00\",\"2020-03-12T00:00:00\",\"2020-03-13T00:00:00\",\"2020-03-14T00:00:00\",\"2020-03-15T00:00:00\",\"2020-03-16T00:00:00\",\"2020-03-17T00:00:00\",\"2020-03-18T00:00:00\",\"2020-03-19T00:00:00\",\"2020-03-20T00:00:00\",\"2020-03-21T00:00:00\",\"2020-03-22T00:00:00\",\"2020-03-23T00:00:00\",\"2020-03-24T00:00:00\",\"2020-03-25T00:00:00\",\"2020-03-26T00:00:00\",\"2020-03-27T00:00:00\",\"2020-03-28T00:00:00\",\"2020-03-29T00:00:00\",\"2020-03-30T00:00:00\",\"2020-03-31T00:00:00\",\"2020-04-01T00:00:00\",\"2020-04-02T00:00:00\",\"2020-04-03T00:00:00\",\"2020-04-04T00:00:00\",\"2020-04-05T00:00:00\",\"2020-04-06T00:00:00\",\"2020-04-07T00:00:00\",\"2020-04-08T00:00:00\",\"2020-04-09T00:00:00\",\"2020-04-10T00:00:00\",\"2020-04-11T00:00:00\",\"2020-04-12T00:00:00\",\"2020-04-13T00:00:00\",\"2020-04-14T00:00:00\",\"2020-04-15T00:00:00\",\"2020-04-16T00:00:00\",\"2020-04-17T00:00:00\",\"2020-04-18T00:00:00\",\"2020-04-19T00:00:00\",\"2020-04-20T00:00:00\",\"2020-04-21T00:00:00\",\"2020-04-22T00:00:00\",\"2020-04-23T00:00:00\",\"2020-04-24T00:00:00\",\"2020-04-25T00:00:00\",\"2020-04-26T00:00:00\",\"2020-04-27T00:00:00\",\"2020-04-28T00:00:00\",\"2020-04-29T00:00:00\",\"2020-04-30T00:00:00\",\"2020-05-01T00:00:00\",\"2020-05-02T00:00:00\",\"2020-05-03T00:00:00\",\"2020-05-04T00:00:00\",\"2020-05-05T00:00:00\",\"2020-05-06T00:00:00\",\"2020-05-07T00:00:00\",\"2020-05-08T00:00:00\",\"2020-05-09T00:00:00\",\"2020-05-10T00:00:00\",\"2020-05-11T00:00:00\",\"2020-05-12T00:00:00\",\"2020-05-13T00:00:00\",\"2020-05-14T00:00:00\",\"2020-05-15T00:00:00\",\"2020-05-16T00:00:00\",\"2020-05-17T00:00:00\",\"2020-05-18T00:00:00\",\"2020-05-19T00:00:00\",\"2020-05-20T00:00:00\",\"2020-05-21T00:00:00\",\"2020-05-22T00:00:00\",\"2020-05-23T00:00:00\",\"2020-05-24T00:00:00\",\"2020-05-25T00:00:00\",\"2020-05-26T00:00:00\",\"2020-05-27T00:00:00\",\"2020-05-28T00:00:00\",\"2020-05-29T00:00:00\",\"2020-05-30T00:00:00\",\"2020-05-31T00:00:00\",\"2020-06-01T00:00:00\",\"2020-06-02T00:00:00\",\"2020-06-03T00:00:00\",\"2020-06-04T00:00:00\",\"2020-06-05T00:00:00\",\"2020-06-06T00:00:00\",\"2020-06-07T00:00:00\",\"2020-06-08T00:00:00\",\"2020-06-09T00:00:00\",\"2020-06-10T00:00:00\",\"2020-06-11T00:00:00\",\"2020-06-12T00:00:00\",\"2020-06-13T00:00:00\",\"2020-06-14T00:00:00\",\"2020-06-15T00:00:00\",\"2020-06-16T00:00:00\",\"2020-06-17T00:00:00\",\"2020-06-18T00:00:00\",\"2020-06-19T00:00:00\",\"2020-06-20T00:00:00\",\"2020-06-21T00:00:00\",\"2020-06-22T00:00:00\",\"2020-06-23T00:00:00\",\"2020-06-24T00:00:00\",\"2020-06-25T00:00:00\",\"2020-06-26T00:00:00\",\"2020-06-27T00:00:00\",\"2020-06-28T00:00:00\",\"2020-06-29T00:00:00\",\"2020-06-30T00:00:00\",\"2020-07-01T00:00:00\",\"2020-07-02T00:00:00\",\"2020-07-03T00:00:00\",\"2020-07-04T00:00:00\",\"2020-07-05T00:00:00\",\"2020-07-06T00:00:00\",\"2020-07-07T00:00:00\",\"2020-07-08T00:00:00\",\"2020-07-09T00:00:00\",\"2020-07-10T00:00:00\",\"2020-07-11T00:00:00\",\"2020-07-12T00:00:00\",\"2020-07-13T00:00:00\",\"2020-07-14T00:00:00\",\"2020-07-15T00:00:00\",\"2020-07-16T00:00:00\",\"2020-07-17T00:00:00\",\"2020-07-18T00:00:00\",\"2020-07-19T00:00:00\",\"2020-07-20T00:00:00\",\"2020-07-21T00:00:00\",\"2020-07-22T00:00:00\",\"2020-07-23T00:00:00\",\"2020-07-24T00:00:00\",\"2020-07-25T00:00:00\",\"2020-07-26T00:00:00\",\"2020-07-27T00:00:00\",\"2020-07-28T00:00:00\",\"2020-07-29T00:00:00\",\"2020-07-30T00:00:00\",\"2020-07-31T00:00:00\",\"2020-08-01T00:00:00\",\"2020-08-02T00:00:00\",\"2020-08-03T00:00:00\",\"2020-08-04T00:00:00\",\"2020-08-05T00:00:00\",\"2020-08-06T00:00:00\",\"2020-08-07T00:00:00\",\"2020-08-08T00:00:00\",\"2020-08-09T00:00:00\",\"2020-08-10T00:00:00\",\"2020-08-11T00:00:00\",\"2020-08-12T00:00:00\",\"2020-08-13T00:00:00\",\"2020-08-14T00:00:00\",\"2020-08-15T00:00:00\",\"2020-08-16T00:00:00\",\"2020-08-17T00:00:00\",\"2020-08-18T00:00:00\",\"2020-08-19T00:00:00\",\"2020-08-20T00:00:00\",\"2020-08-21T00:00:00\",\"2020-08-22T00:00:00\",\"2020-08-23T00:00:00\",\"2020-08-24T00:00:00\",\"2020-08-25T00:00:00\",\"2020-08-26T00:00:00\",\"2020-08-27T00:00:00\",\"2020-08-28T00:00:00\",\"2020-08-29T00:00:00\",\"2020-08-30T00:00:00\",\"2020-08-31T00:00:00\",\"2020-09-01T00:00:00\",\"2020-09-02T00:00:00\",\"2020-09-03T00:00:00\",\"2020-09-04T00:00:00\",\"2020-09-05T00:00:00\",\"2020-09-06T00:00:00\",\"2020-09-07T00:00:00\",\"2020-09-08T00:00:00\",\"2020-09-09T00:00:00\",\"2020-09-10T00:00:00\",\"2020-09-11T00:00:00\",\"2020-09-12T00:00:00\",\"2020-09-13T00:00:00\",\"2020-09-14T00:00:00\",\"2020-09-15T00:00:00\",\"2020-09-16T00:00:00\",\"2020-09-17T00:00:00\",\"2020-09-18T00:00:00\",\"2020-09-19T00:00:00\",\"2020-09-20T00:00:00\",\"2020-09-21T00:00:00\",\"2020-09-22T00:00:00\",\"2020-09-23T00:00:00\",\"2020-09-24T00:00:00\",\"2020-09-25T00:00:00\",\"2020-09-26T00:00:00\",\"2020-09-27T00:00:00\",\"2020-09-28T00:00:00\",\"2020-09-29T00:00:00\",\"2020-09-30T00:00:00\",\"2020-10-01T00:00:00\",\"2020-10-02T00:00:00\",\"2020-10-03T00:00:00\",\"2020-10-04T00:00:00\",\"2020-10-05T00:00:00\",\"2020-10-06T00:00:00\",\"2020-10-07T00:00:00\",\"2020-10-08T00:00:00\",\"2020-10-09T00:00:00\",\"2020-10-10T00:00:00\",\"2020-10-11T00:00:00\",\"2020-10-12T00:00:00\",\"2020-10-13T00:00:00\",\"2020-10-14T00:00:00\",\"2020-10-15T00:00:00\",\"2020-10-16T00:00:00\",\"2020-10-17T00:00:00\",\"2020-10-18T00:00:00\",\"2020-10-19T00:00:00\",\"2020-10-20T00:00:00\",\"2020-10-21T00:00:00\",\"2020-10-22T00:00:00\",\"2020-10-23T00:00:00\",\"2020-10-24T00:00:00\",\"2020-10-25T00:00:00\",\"2020-10-26T00:00:00\",\"2020-10-27T00:00:00\",\"2020-10-28T00:00:00\",\"2020-10-29T00:00:00\",\"2020-10-30T00:00:00\",\"2020-10-31T00:00:00\",\"2020-11-01T00:00:00\",\"2020-11-02T00:00:00\",\"2020-11-03T00:00:00\",\"2020-11-04T00:00:00\",\"2020-11-05T00:00:00\",\"2020-11-06T00:00:00\",\"2020-11-07T00:00:00\",\"2020-11-08T00:00:00\",\"2020-11-09T00:00:00\",\"2020-11-10T00:00:00\",\"2020-11-11T00:00:00\",\"2020-11-12T00:00:00\",\"2020-11-13T00:00:00\",\"2020-11-14T00:00:00\",\"2020-11-15T00:00:00\",\"2020-11-16T00:00:00\",\"2020-11-17T00:00:00\",\"2020-11-18T00:00:00\",\"2020-11-19T00:00:00\",\"2020-11-20T00:00:00\",\"2020-11-21T00:00:00\",\"2020-11-22T00:00:00\",\"2020-11-23T00:00:00\",\"2020-11-24T00:00:00\",\"2020-11-25T00:00:00\",\"2020-11-26T00:00:00\",\"2020-11-27T00:00:00\",\"2020-11-28T00:00:00\",\"2020-11-29T00:00:00\",\"2020-11-30T00:00:00\",\"2020-12-01T00:00:00\",\"2020-12-02T00:00:00\",\"2020-12-03T00:00:00\",\"2020-12-04T00:00:00\",\"2020-12-05T00:00:00\",\"2020-12-06T00:00:00\",\"2020-12-07T00:00:00\",\"2020-12-08T00:00:00\",\"2020-12-09T00:00:00\",\"2020-12-10T00:00:00\",\"2020-12-11T00:00:00\",\"2020-12-12T00:00:00\",\"2020-12-13T00:00:00\",\"2020-12-14T00:00:00\",\"2020-12-15T00:00:00\",\"2020-12-16T00:00:00\",\"2020-12-17T00:00:00\",\"2020-12-18T00:00:00\",\"2020-12-19T00:00:00\",\"2020-12-20T00:00:00\",\"2020-12-21T00:00:00\",\"2020-12-22T00:00:00\",\"2020-12-23T00:00:00\",\"2020-12-24T00:00:00\",\"2020-12-25T00:00:00\",\"2020-12-26T00:00:00\",\"2020-12-27T00:00:00\",\"2020-12-28T00:00:00\",\"2020-12-29T00:00:00\",\"2020-12-30T00:00:00\",\"2020-12-31T00:00:00\"],\"xaxis\":\"x2\",\"y\":[0.10888412017167307,0.3628428011753095,0.3534536201711686,0.1077280600461885,0.12748154008438575,0.9481360237054072,1.2110260437116054,1.2784232099398487,1.3267597551645607,1.295307414104942,0.16947637886897404,0.19653300292858317,1.2735133401745107,1.2850632264657587,1.2704664504864631,1.266560611666111,1.1385685989700702,0.14223235717714527,0.13185946220192563,0.23347924839974749,1.186089939024442,1.258092707045788,1.2972815533981084,1.253940320410971,0.15672597864768328,0.18572248193794774,1.246788877952812,1.2507870967742523,1.261725306838162,1.2898655851680751,1.2030784732101005,0.15555889939810452,0.17792751510101606,1.1067473428096142,1.2489606516003782,1.1627659574468607,1.2444708423326705,1.2154860123281792,0.155053832902666,0.18892943063351555,1.2313655172414364,1.2509308661596676,1.2222375313141025,1.1824070674621971,1.022529872799732,0.13457516339868889,0.13035028248587213,0.39567099567100505,1.219359867721806,1.1941134251088932,1.2075952770634197,1.1713119673509145,0.1591430914309094,0.1776877280583786,1.2355404358889839,1.2905363861120627,1.266788130045876,1.2556335797255043,0.9901387296492045,0.16333847935159673,0.1877553616866538,1.2215211891208675,1.2381005644993248,1.2745988237765724,1.2839667158205785,1.1786000218747095,0.16207158140439076,0.18459868661072085,1.1771991856852664,1.270394957983247,1.2277357693526842,1.2301511335013113,1.1550888815281557,0.2560370552549513,0.20420009666504826,0.646063982746251,0.7743481828839778,1.0086890311190222,0.9729948786462397,0.8825963951631721,0.31083094555873936,0.2167370786516772,0.8025728643216453,0.8469537374406924,0.8570953660175037,0.8002837035408328,0.7254538252603363,0.2746199659670917,0.21719970845480382,0.9133366163274687,0.9641967938087778,1.0335884525008905,1.0094171917192183,0.9237745437745823,0.2775786854047636,0.21463878896881702,0.9963969854815901,1.049429426102422,1.098886305767792,1.0750216498279623,0.5917710769230994,0.24950128069910216,0.19423369221025336,1.017110918168056,1.22218655863723,1.2391258375209973,1.2062420713320834,1.016250555308792,0.30977882222836833,0.2253044215284561,1.11676657300454,1.2143714406244035,1.1762709030100933,1.1644032274966563,0.9910207423581261,0.29729779153185976,0.2143168754605664,1.0551356200528346,1.1589430117797528,1.1574099957645714,1.1337774710691795,0.8863007769145811,0.2755737704917936,0.2197094615150517,1.0317059773829333,1.1285943517330514,1.1148944919381636,1.095672223425045,0.881661849711023,0.28719428741445024,0.2218280082657681,0.9740622972096481,1.0571728717614284,1.0314842726081752,1.0088553486835372,0.7997779288466271,0.272700685453151,0.23327734906944264,0.793443805658927,0.8488703640694503,0.7908237986270358,0.7601591827037626,0.6189848484848759,0.20772243215389183,0.14908631415240609,0.1907102770957499,0.5051766411811432,0.537253397927621,0.519703354588316,0.4604809238415532,0.16131497284716356,0.1365481816313912,0.38441675424111393,0.36006888106536933,0.34454917411729646,0.3064884645982419,0.2645325443786917,0.11253855005753481,0.10151711378353163,0.25945593744908885,0.2403465104929168,0.20623819778034833,0.19863876127275193,0.16011275415896006,0.09402445109780223,0.08565799256505414,0.1821830133194896,0.18230217086834202,0.19081732448480074,0.19639239381552695,0.16171473415734275,0.10997775030902143,0.10612362493451895,0.16793959971407682,0.1598092152627748,0.15379228810476125,0.14762412651709794,0.125452005587704,0.09852647735993647,0.0946833807185301,0.14034054562558423,0.14056909057094671,0.13608066971080326,0.13169550173010072,0.09826097328244053,0.08757357357357308,0.08142056598486944,0.1265934883720897,0.1268969278313,0.12680939476061087,0.1238465783664428,0.10399959497772177,0.08791517629023878,0.08311496633868355,0.12021723256662702,0.12162239770279652,0.1254478812801685,0.11932917888562738,0.09882765531061878,0.08156596173212398,0.08086288122985281,0.11175225473955189,0.11062062780268772,0.10863308085255993,0.10726155539251372,0.09312334352701096,0.08118430978124143,0.07737798804780806,0.09831013916500773,0.101154993856413,0.09840021212656652,0.09326075316794337,0.0835625726462593,0.0762473296938042,0.07215578847069985,0.07850307827616362,0.07535577924331666,0.07949766152779977,0.08025987525987335,0.07909223477943676,0.07805568664464231,0.07120166705255757,0.08185846788045156,0.08504709048099364,0.15256984152915765,0.15158048306045938,0.15855710764173783,0.09583688245314938,0.09821063189568502,0.2653047132993028,0.374269662921362,0.5640880333827228,0.6325405265205873,0.6827588025847621,0.19765780430457122,0.2224035262807661,1.0389710265888186,1.0528018593841313,1.0661172327616268,1.1310508775828214,1.118548146447903,0.21860364683300587,0.2243973248213946,1.2501614310646365,1.2552994204765575,1.3212821871358122,1.2726339045156316,1.112468233442092,0.22755298337136481,0.18120815138281793,0.2542266135911203,1.3381779173208406,1.3506817474318318,1.3729173882041998,1.332648054145587,0.278712458686583,0.2729774581662201,1.3393573424403002,1.3656223704464463,1.3520961112868133,1.366680225281663,1.2375488530162073,0.2735771528485989,0.26962423738213176,1.2717588608892247,1.3496883993252555,1.3005492424243024,1.4078966577027063,1.326711924439259,0.26128793079773827,0.27597593229303946,1.3487513227513859,1.330702630063405,1.3835056093585771,1.3624181870837533,1.294265539532637,0.2750238582140321,0.2723900274115596,1.3306289308176684,1.345167578987867,1.2997621590137431,1.3252368980855338,1.0728132889024036,0.26444154774971584,0.2393209793047388,0.8545253522575682,1.1582436991467129,1.1997590361446304,1.1471328966829155,1.085337237041918,0.37265678139029706,0.27309720372835444,1.1890560176370926,1.277785966981187,1.2750685333856098,1.256928761454392,1.2142230955260562,0.25695749440714916,0.2690650887573877,1.2672270550288947,1.303723260743945,1.3265657241116386,1.263887647001711,1.1482541785569176,0.2469343065693337,0.24138133110087023,1.1997260273973074,0.8090061485737646,1.2326870200057503,1.2877392536609047,1.3043662240902392,0.2817054366609022,0.25401287830005576,1.2287109004739856,1.355552258184239,1.3198494283856002,1.2883542379324062,1.3218462549277983,0.3037671056028952,0.2764022627278429,1.2793757159221715,1.3765332957641312,1.3850936225436266,1.4024320015007203,1.3434900662252265,0.4378931128116714,0.2593657758276731,1.021315531121198,1.0381412345679437,0.28758887401456706,0.23086620145630124,0.18134407760913088,0.18403877949796332,0.21747851381725947,1.3191572169902632,1.3461114766426034,1.3004321162374484,1.3640802108831314,1.3063764502829296,0.2995353039886418,0.27649273531269825,1.3514297800338897,1.3709627619761107,1.3389106327463043,1.3959154140603727,1.3783540933726945,0.3051302553520804,0.284992344985965,1.312494564703718,1.3290377358491214,1.2942095381149654,1.3397741601581439,1.2051901743265212,0.28117696393624897,0.22248136645961916,0.5613538624900694,0.49584984069818105,0.2296303347612159,0.1549584905660333,0.12666912669126423,0.1172670669335081,0.11777479338842649,0.13191873589164363,0.13102606951871257,0.13112393887945256,0.12773890339425223],\"yaxis\":\"y2\"},{\"hovertemplate\":\"locale=Town<br>time=%{x}<br>pct_access=%{y}<extra></extra>\",\"legendgroup\":\"Town\",\"line\":{\"color\":\"#ab63fa\",\"dash\":\"solid\"},\"marker\":{\"symbol\":\"circle\"},\"mode\":\"lines\",\"name\":\"Town\",\"showlegend\":true,\"type\":\"scattergl\",\"x\":[\"2020-01-01T00:00:00\",\"2020-01-02T00:00:00\",\"2020-01-03T00:00:00\",\"2020-01-04T00:00:00\",\"2020-01-05T00:00:00\",\"2020-01-06T00:00:00\",\"2020-01-07T00:00:00\",\"2020-01-08T00:00:00\",\"2020-01-09T00:00:00\",\"2020-01-10T00:00:00\",\"2020-01-11T00:00:00\",\"2020-01-12T00:00:00\",\"2020-01-13T00:00:00\",\"2020-01-14T00:00:00\",\"2020-01-15T00:00:00\",\"2020-01-16T00:00:00\",\"2020-01-17T00:00:00\",\"2020-01-18T00:00:00\",\"2020-01-19T00:00:00\",\"2020-01-20T00:00:00\",\"2020-01-21T00:00:00\",\"2020-01-22T00:00:00\",\"2020-01-23T00:00:00\",\"2020-01-24T00:00:00\",\"2020-01-25T00:00:00\",\"2020-01-26T00:00:00\",\"2020-01-27T00:00:00\",\"2020-01-28T00:00:00\",\"2020-01-29T00:00:00\",\"2020-01-30T00:00:00\",\"2020-01-31T00:00:00\",\"2020-02-01T00:00:00\",\"2020-02-02T00:00:00\",\"2020-02-03T00:00:00\",\"2020-02-04T00:00:00\",\"2020-02-05T00:00:00\",\"2020-02-06T00:00:00\",\"2020-02-07T00:00:00\",\"2020-02-08T00:00:00\",\"2020-02-09T00:00:00\",\"2020-02-10T00:00:00\",\"2020-02-11T00:00:00\",\"2020-02-12T00:00:00\",\"2020-02-13T00:00:00\",\"2020-02-14T00:00:00\",\"2020-02-15T00:00:00\",\"2020-02-16T00:00:00\",\"2020-02-17T00:00:00\",\"2020-02-18T00:00:00\",\"2020-02-19T00:00:00\",\"2020-02-20T00:00:00\",\"2020-02-21T00:00:00\",\"2020-02-22T00:00:00\",\"2020-02-23T00:00:00\",\"2020-02-24T00:00:00\",\"2020-02-25T00:00:00\",\"2020-02-26T00:00:00\",\"2020-02-27T00:00:00\",\"2020-02-28T00:00:00\",\"2020-02-29T00:00:00\",\"2020-03-01T00:00:00\",\"2020-03-02T00:00:00\",\"2020-03-03T00:00:00\",\"2020-03-04T00:00:00\",\"2020-03-05T00:00:00\",\"2020-03-06T00:00:00\",\"2020-03-07T00:00:00\",\"2020-03-08T00:00:00\",\"2020-03-09T00:00:00\",\"2020-03-10T00:00:00\",\"2020-03-11T00:00:00\",\"2020-03-12T00:00:00\",\"2020-03-13T00:00:00\",\"2020-03-14T00:00:00\",\"2020-03-15T00:00:00\",\"2020-03-16T00:00:00\",\"2020-03-17T00:00:00\",\"2020-03-18T00:00:00\",\"2020-03-19T00:00:00\",\"2020-03-20T00:00:00\",\"2020-03-21T00:00:00\",\"2020-03-22T00:00:00\",\"2020-03-23T00:00:00\",\"2020-03-24T00:00:00\",\"2020-03-25T00:00:00\",\"2020-03-26T00:00:00\",\"2020-03-27T00:00:00\",\"2020-03-28T00:00:00\",\"2020-03-29T00:00:00\",\"2020-03-30T00:00:00\",\"2020-03-31T00:00:00\",\"2020-04-01T00:00:00\",\"2020-04-02T00:00:00\",\"2020-04-03T00:00:00\",\"2020-04-04T00:00:00\",\"2020-04-05T00:00:00\",\"2020-04-06T00:00:00\",\"2020-04-07T00:00:00\",\"2020-04-08T00:00:00\",\"2020-04-09T00:00:00\",\"2020-04-10T00:00:00\",\"2020-04-11T00:00:00\",\"2020-04-12T00:00:00\",\"2020-04-13T00:00:00\",\"2020-04-14T00:00:00\",\"2020-04-15T00:00:00\",\"2020-04-16T00:00:00\",\"2020-04-17T00:00:00\",\"2020-04-18T00:00:00\",\"2020-04-19T00:00:00\",\"2020-04-20T00:00:00\",\"2020-04-21T00:00:00\",\"2020-04-22T00:00:00\",\"2020-04-23T00:00:00\",\"2020-04-24T00:00:00\",\"2020-04-25T00:00:00\",\"2020-04-26T00:00:00\",\"2020-04-27T00:00:00\",\"2020-04-28T00:00:00\",\"2020-04-29T00:00:00\",\"2020-04-30T00:00:00\",\"2020-05-01T00:00:00\",\"2020-05-02T00:00:00\",\"2020-05-03T00:00:00\",\"2020-05-04T00:00:00\",\"2020-05-05T00:00:00\",\"2020-05-06T00:00:00\",\"2020-05-07T00:00:00\",\"2020-05-08T00:00:00\",\"2020-05-09T00:00:00\",\"2020-05-10T00:00:00\",\"2020-05-11T00:00:00\",\"2020-05-12T00:00:00\",\"2020-05-13T00:00:00\",\"2020-05-14T00:00:00\",\"2020-05-15T00:00:00\",\"2020-05-16T00:00:00\",\"2020-05-17T00:00:00\",\"2020-05-18T00:00:00\",\"2020-05-19T00:00:00\",\"2020-05-20T00:00:00\",\"2020-05-21T00:00:00\",\"2020-05-22T00:00:00\",\"2020-05-23T00:00:00\",\"2020-05-24T00:00:00\",\"2020-05-25T00:00:00\",\"2020-05-26T00:00:00\",\"2020-05-27T00:00:00\",\"2020-05-28T00:00:00\",\"2020-05-29T00:00:00\",\"2020-05-30T00:00:00\",\"2020-05-31T00:00:00\",\"2020-06-01T00:00:00\",\"2020-06-02T00:00:00\",\"2020-06-03T00:00:00\",\"2020-06-04T00:00:00\",\"2020-06-05T00:00:00\",\"2020-06-06T00:00:00\",\"2020-06-07T00:00:00\",\"2020-06-08T00:00:00\",\"2020-06-09T00:00:00\",\"2020-06-10T00:00:00\",\"2020-06-11T00:00:00\",\"2020-06-12T00:00:00\",\"2020-06-13T00:00:00\",\"2020-06-14T00:00:00\",\"2020-06-15T00:00:00\",\"2020-06-16T00:00:00\",\"2020-06-17T00:00:00\",\"2020-06-18T00:00:00\",\"2020-06-19T00:00:00\",\"2020-06-20T00:00:00\",\"2020-06-21T00:00:00\",\"2020-06-22T00:00:00\",\"2020-06-23T00:00:00\",\"2020-06-24T00:00:00\",\"2020-06-25T00:00:00\",\"2020-06-26T00:00:00\",\"2020-06-27T00:00:00\",\"2020-06-28T00:00:00\",\"2020-06-29T00:00:00\",\"2020-06-30T00:00:00\",\"2020-07-01T00:00:00\",\"2020-07-02T00:00:00\",\"2020-07-03T00:00:00\",\"2020-07-04T00:00:00\",\"2020-07-05T00:00:00\",\"2020-07-06T00:00:00\",\"2020-07-07T00:00:00\",\"2020-07-08T00:00:00\",\"2020-07-09T00:00:00\",\"2020-07-10T00:00:00\",\"2020-07-11T00:00:00\",\"2020-07-12T00:00:00\",\"2020-07-13T00:00:00\",\"2020-07-14T00:00:00\",\"2020-07-15T00:00:00\",\"2020-07-16T00:00:00\",\"2020-07-17T00:00:00\",\"2020-07-18T00:00:00\",\"2020-07-19T00:00:00\",\"2020-07-20T00:00:00\",\"2020-07-21T00:00:00\",\"2020-07-22T00:00:00\",\"2020-07-23T00:00:00\",\"2020-07-24T00:00:00\",\"2020-07-25T00:00:00\",\"2020-07-26T00:00:00\",\"2020-07-27T00:00:00\",\"2020-07-28T00:00:00\",\"2020-07-29T00:00:00\",\"2020-07-30T00:00:00\",\"2020-07-31T00:00:00\",\"2020-08-01T00:00:00\",\"2020-08-02T00:00:00\",\"2020-08-03T00:00:00\",\"2020-08-04T00:00:00\",\"2020-08-05T00:00:00\",\"2020-08-06T00:00:00\",\"2020-08-07T00:00:00\",\"2020-08-08T00:00:00\",\"2020-08-09T00:00:00\",\"2020-08-10T00:00:00\",\"2020-08-11T00:00:00\",\"2020-08-12T00:00:00\",\"2020-08-13T00:00:00\",\"2020-08-14T00:00:00\",\"2020-08-15T00:00:00\",\"2020-08-16T00:00:00\",\"2020-08-17T00:00:00\",\"2020-08-18T00:00:00\",\"2020-08-19T00:00:00\",\"2020-08-20T00:00:00\",\"2020-08-21T00:00:00\",\"2020-08-22T00:00:00\",\"2020-08-23T00:00:00\",\"2020-08-24T00:00:00\",\"2020-08-25T00:00:00\",\"2020-08-26T00:00:00\",\"2020-08-27T00:00:00\",\"2020-08-28T00:00:00\",\"2020-08-29T00:00:00\",\"2020-08-30T00:00:00\",\"2020-08-31T00:00:00\",\"2020-09-01T00:00:00\",\"2020-09-02T00:00:00\",\"2020-09-03T00:00:00\",\"2020-09-04T00:00:00\",\"2020-09-05T00:00:00\",\"2020-09-06T00:00:00\",\"2020-09-07T00:00:00\",\"2020-09-08T00:00:00\",\"2020-09-09T00:00:00\",\"2020-09-10T00:00:00\",\"2020-09-11T00:00:00\",\"2020-09-12T00:00:00\",\"2020-09-13T00:00:00\",\"2020-09-14T00:00:00\",\"2020-09-15T00:00:00\",\"2020-09-16T00:00:00\",\"2020-09-17T00:00:00\",\"2020-09-18T00:00:00\",\"2020-09-19T00:00:00\",\"2020-09-20T00:00:00\",\"2020-09-21T00:00:00\",\"2020-09-22T00:00:00\",\"2020-09-23T00:00:00\",\"2020-09-24T00:00:00\",\"2020-09-25T00:00:00\",\"2020-09-26T00:00:00\",\"2020-09-27T00:00:00\",\"2020-09-28T00:00:00\",\"2020-09-29T00:00:00\",\"2020-09-30T00:00:00\",\"2020-10-01T00:00:00\",\"2020-10-02T00:00:00\",\"2020-10-03T00:00:00\",\"2020-10-04T00:00:00\",\"2020-10-05T00:00:00\",\"2020-10-06T00:00:00\",\"2020-10-07T00:00:00\",\"2020-10-08T00:00:00\",\"2020-10-09T00:00:00\",\"2020-10-10T00:00:00\",\"2020-10-11T00:00:00\",\"2020-10-12T00:00:00\",\"2020-10-13T00:00:00\",\"2020-10-14T00:00:00\",\"2020-10-15T00:00:00\",\"2020-10-16T00:00:00\",\"2020-10-17T00:00:00\",\"2020-10-18T00:00:00\",\"2020-10-19T00:00:00\",\"2020-10-20T00:00:00\",\"2020-10-21T00:00:00\",\"2020-10-22T00:00:00\",\"2020-10-23T00:00:00\",\"2020-10-24T00:00:00\",\"2020-10-25T00:00:00\",\"2020-10-26T00:00:00\",\"2020-10-27T00:00:00\",\"2020-10-28T00:00:00\",\"2020-10-29T00:00:00\",\"2020-10-30T00:00:00\",\"2020-10-31T00:00:00\",\"2020-11-01T00:00:00\",\"2020-11-02T00:00:00\",\"2020-11-03T00:00:00\",\"2020-11-04T00:00:00\",\"2020-11-05T00:00:00\",\"2020-11-06T00:00:00\",\"2020-11-07T00:00:00\",\"2020-11-08T00:00:00\",\"2020-11-09T00:00:00\",\"2020-11-10T00:00:00\",\"2020-11-11T00:00:00\",\"2020-11-12T00:00:00\",\"2020-11-13T00:00:00\",\"2020-11-14T00:00:00\",\"2020-11-15T00:00:00\",\"2020-11-16T00:00:00\",\"2020-11-17T00:00:00\",\"2020-11-18T00:00:00\",\"2020-11-19T00:00:00\",\"2020-11-20T00:00:00\",\"2020-11-21T00:00:00\",\"2020-11-22T00:00:00\",\"2020-11-23T00:00:00\",\"2020-11-24T00:00:00\",\"2020-11-25T00:00:00\",\"2020-11-26T00:00:00\",\"2020-11-27T00:00:00\",\"2020-11-28T00:00:00\",\"2020-11-29T00:00:00\",\"2020-11-30T00:00:00\",\"2020-12-01T00:00:00\",\"2020-12-02T00:00:00\",\"2020-12-03T00:00:00\",\"2020-12-04T00:00:00\",\"2020-12-05T00:00:00\",\"2020-12-06T00:00:00\",\"2020-12-07T00:00:00\",\"2020-12-08T00:00:00\",\"2020-12-09T00:00:00\",\"2020-12-10T00:00:00\",\"2020-12-11T00:00:00\",\"2020-12-12T00:00:00\",\"2020-12-13T00:00:00\",\"2020-12-14T00:00:00\",\"2020-12-15T00:00:00\",\"2020-12-16T00:00:00\",\"2020-12-17T00:00:00\",\"2020-12-18T00:00:00\",\"2020-12-19T00:00:00\",\"2020-12-20T00:00:00\",\"2020-12-21T00:00:00\",\"2020-12-22T00:00:00\",\"2020-12-23T00:00:00\",\"2020-12-24T00:00:00\",\"2020-12-25T00:00:00\",\"2020-12-26T00:00:00\",\"2020-12-27T00:00:00\",\"2020-12-28T00:00:00\",\"2020-12-29T00:00:00\",\"2020-12-30T00:00:00\",\"2020-12-31T00:00:00\"],\"xaxis\":\"x\",\"y\":[0.05903954802259882,0.39147001934235975,0.30328075709779195,0.08600496277915622,0.09388777555110221,1.1610371959942734,1.2256878850102635,1.2673497267759515,1.3124326145552532,1.236623188405792,0.12568493150684945,0.13965579710144962,1.2738035961272416,1.270321715817689,1.1985391766268214,1.312121612690012,1.1055084125822914,0.13560553633217995,0.13755064456721916,0.6933638743455457,1.0996527285612963,1.0230517115804745,1.1268550724637632,1.0853773584905593,0.12054888507718692,0.13667832167832183,0.9098243045387929,1.2864047936085143,1.2728476380572131,1.2447857142857064,1.2366239027683932,0.17362252663622527,0.2343538461538467,1.0965263157894667,1.2306278317152026,1.2160233918128587,1.1384519104084252,0.9991666666666599,0.17224817518248192,0.22123367198838928,1.2211340206185495,1.2451389786683826,1.2698150594451725,1.04023174157303,0.9759569179784546,0.16844947735191668,0.213163444639719,0.722043422733075,1.2107442748091528,1.2517600527356556,1.2608613989637234,1.2298668442077154,0.13572115384615402,0.1441021416803954,1.0475824964131948,1.1756289707750882,1.1245436893203813,1.0139622641509358,1.1833310344827515,0.2160199714693297,0.27036879432624134,1.2570584725536922,1.2988949605342983,1.2645953927938522,1.3538958707360786,1.2195044776119335,0.16743471582181266,0.1935474452554748,1.2400425273389977,1.2218138138138073,1.2221808510638248,1.247671957671955,1.0070982735723712,0.16253012048192783,0.12683593749999997,0.1648868398994134,0.32506072874493896,0.9460627177700293,0.9595580474933977,1.03140470297029,0.38711681855840924,0.25894332372718504,0.8889412484700072,0.9038229981938544,0.8965843373493917,0.8951123254401875,0.8414164133738549,0.30545230263157985,0.22111790393013098,1.0507679180887304,0.9248584633159973,1.0688856812932963,0.872050256995997,0.9794055944055898,0.31407905803196023,0.23131208997188402,0.9162233375156793,0.7880831099195676,0.9440081245768392,0.5963157894736821,0.5030081300813,0.20279669762641903,0.16687927107061581,0.6247846567967691,0.5144229486324204,0.9859429957549977,0.8155342804200085,0.8951861360718815,0.29015503875969034,0.22697848456501438,0.9566685912240125,0.8143454210202762,0.9749446494464896,0.7702829028290236,0.849191542288553,0.2796082089552233,0.210609284332689,0.9204806491885105,0.7614402515723221,0.9036474164133695,0.7358533501896279,0.8189858793324707,0.2766011787819248,0.21604938271604948,0.8314774889029742,0.6723302872062619,0.8351314060446723,0.638246318607761,0.7110526315789426,0.2593437500000003,0.22045735475896167,0.7395374149659816,0.5579505300353328,0.6883404255319117,0.4975586510263902,0.6045534407027794,0.21515837104072383,0.20420930232558154,0.5042644628099164,0.3050882079851438,0.4453479504289794,0.23478306878306876,0.41809123649459706,0.13548387096774203,0.08735042735042745,0.09462962962962977,0.1102370990237101,0.09781575037147107,0.14215827338129505,0.11607329842931925,0.0667237163814181,0.06382499999999994,0.13353135313531364,0.12585557299843023,0.12049050632911396,0.1158215962441315,0.10926553672316404,0.06453865336658347,0.06048648648648643,0.11474110032362457,0.12338211382113833,0.1229853181076672,0.10858995137763373,0.10377210216110022,0.05985673352435525,0.057112299465240574,0.11711504424778743,0.10398713826366568,0.11890701468189235,0.1230465949820789,0.11487951807228933,0.07732558139534879,0.08121951219512186,0.12076923076923089,0.12429328621908137,0.11538188277087033,0.08620253164556978,0.07962637362637368,0.07867435158501437,0.08122448979591833,0.08072380952380967,0.08179584120982995,0.06929824561403525,0.06933202357563857,0.06583959899749366,0.07239583333333334,0.07353333333333328,0.08271276595744698,0.07154246100519947,0.06490401396160565,0.06841176470588244,0.06237288135593218,0.05704735376044565,0.059943181818181784,0.0623948811700183,0.06212802768166095,0.06926258992805757,0.062448979591836755,0.06096774193548385,0.06084337349397588,0.06038781163434898,0.06140977443609028,0.06125000000000008,0.05212832550860725,0.05119010819165385,0.053683168316831655,0.04645994832041341,0.051313868613138684,0.04928779069767446,0.056024423337856316,0.05115032679738566,0.0477858176555717,0.048478632478632426,0.04257861635220128,0.05360801781737189,0.04823529411764716,0.054105960264900776,0.05659658344283848,0.06043656207366997,0.0697169811320755,0.06711155378486063,0.09675471698113207,0.43634311512415336,0.5056931216931212,0.5134962805526031,0.4879355488418933,0.5253255069370327,0.087608695652174,0.09418985270049104,0.47930933852140045,0.47441634241245006,0.5460167364016708,0.7842278287461756,0.8590191570881192,0.14680426098535304,0.16355805243445745,0.8310758122743651,0.8959552992069176,0.8644214046822709,0.9251746868820019,0.9008603573792159,0.14656641604010012,0.14992248062015537,0.8842014579191471,0.8919676214196728,0.9324488530688123,0.9314395886889425,0.8986757990867555,0.15229110512129374,0.1298419540229886,0.14220244716351496,0.8872422517394003,0.9083198001249184,0.848038485412783,0.8378327974276486,0.16452852153667086,0.1601323042998904,0.8498988621997441,0.8825689760882862,0.8754399008674076,0.8930906847624882,0.8849267982176908,0.1650530035335691,0.15530416221985094,0.8968181818181781,0.9741332510795753,0.9454954407294793,0.9981043791241698,0.8878722084367199,0.18713592233009715,0.17976470588235263,0.9685026737967853,0.9727348066298284,1.0301651982378777,0.8164249000571036,0.7249575242718398,0.18306467661691586,0.1830761718750004,0.9404943181818103,1.0105479452054704,0.987360350492874,1.0407007786429294,0.9050373348650148,0.21207489878542557,0.20603379721669993,0.8489667458432241,0.8364899882214301,0.7721415034744106,0.5196264367816058,0.3409219858156019,0.13212543554006975,0.14578274760383397,0.7906666666666622,0.7722411693057168,0.825502742230339,0.9743060295790601,0.8693827859569613,0.22835467980295698,0.23539712918660347,1.0090136054421708,1.0395864445720775,1.061102493074785,0.9661410550458643,0.7883271832718287,0.184890350877193,0.1621574642126789,0.9703942254303068,1.0595396145610192,1.004607734806623,0.996247228381367,1.0283876404494319,0.23126034958601752,0.20145871559633108,0.9929888888888806,1.08483146067415,1.1171601685985195,1.0568228882833717,1.016510138740654,0.2679134199134209,0.2397839783978408,1.0015206611570184,1.092293676312962,1.0929989495798256,1.1194329334787279,1.005665378244061,0.3618024263431553,0.21344390243902497,1.022688053097337,1.056826508620681,0.28470191226096786,0.18788372093023256,0.15243002544529247,0.15145539906103303,0.1651196670135274,1.0174088614694257,1.054934782608689,1.0410135501354936,1.0378533190578068,0.9453803442531875,0.2557884796978293,0.21174418604651263,1.014634955752205,1.038186247969673,1.0468389876144235,1.0318344155844088,1.0102653399668287,0.24409540954095538,0.2246139359698691,0.9853311617806664,1.028793668122263,1.025938345051372,1.0046247915508535,0.7856925880923408,0.23493333333333388,0.2073250564334091,0.6439555921052599,0.5596007604562718,0.17438750000000047,0.14964630225080391,0.1255246252676659,0.09822519083969483,0.11583783783783816,0.11045255474452567,0.10611878453038691,0.11065248226950374,0.10855507868383418],\"yaxis\":\"y\"}],                        {\"annotations\":[{\"font\":{},\"showarrow\":false,\"text\":\"locale=Town\",\"x\":0.5,\"xanchor\":\"center\",\"xref\":\"paper\",\"y\":0.1975,\"yanchor\":\"bottom\",\"yref\":\"paper\"},{\"font\":{},\"showarrow\":false,\"text\":\"locale=Suburb\",\"x\":0.5,\"xanchor\":\"center\",\"xref\":\"paper\",\"y\":0.465,\"yanchor\":\"bottom\",\"yref\":\"paper\"},{\"font\":{},\"showarrow\":false,\"text\":\"locale=Rural\",\"x\":0.5,\"xanchor\":\"center\",\"xref\":\"paper\",\"y\":0.7325,\"yanchor\":\"bottom\",\"yref\":\"paper\"},{\"font\":{},\"showarrow\":false,\"text\":\"locale=City\",\"x\":0.5,\"xanchor\":\"center\",\"xref\":\"paper\",\"y\":1.0,\"yanchor\":\"bottom\",\"yref\":\"paper\"}],\"legend\":{\"title\":{\"text\":\"locale\"},\"tracegroupgap\":0},\"margin\":{\"t\":60},\"template\":{\"data\":{\"bar\":[{\"error_x\":{\"color\":\"#2a3f5f\"},\"error_y\":{\"color\":\"#2a3f5f\"},\"marker\":{\"line\":{\"color\":\"#E5ECF6\",\"width\":0.5},\"pattern\":{\"fillmode\":\"overlay\",\"size\":10,\"solidity\":0.2}},\"type\":\"bar\"}],\"barpolar\":[{\"marker\":{\"line\":{\"color\":\"#E5ECF6\",\"width\":0.5},\"pattern\":{\"fillmode\":\"overlay\",\"size\":10,\"solidity\":0.2}},\"type\":\"barpolar\"}],\"carpet\":[{\"aaxis\":{\"endlinecolor\":\"#2a3f5f\",\"gridcolor\":\"white\",\"linecolor\":\"white\",\"minorgridcolor\":\"white\",\"startlinecolor\":\"#2a3f5f\"},\"baxis\":{\"endlinecolor\":\"#2a3f5f\",\"gridcolor\":\"white\",\"linecolor\":\"white\",\"minorgridcolor\":\"white\",\"startlinecolor\":\"#2a3f5f\"},\"type\":\"carpet\"}],\"choropleth\":[{\"colorbar\":{\"outlinewidth\":0,\"ticks\":\"\"},\"type\":\"choropleth\"}],\"contour\":[{\"colorbar\":{\"outlinewidth\":0,\"ticks\":\"\"},\"colorscale\":[[0.0,\"#0d0887\"],[0.1111111111111111,\"#46039f\"],[0.2222222222222222,\"#7201a8\"],[0.3333333333333333,\"#9c179e\"],[0.4444444444444444,\"#bd3786\"],[0.5555555555555556,\"#d8576b\"],[0.6666666666666666,\"#ed7953\"],[0.7777777777777778,\"#fb9f3a\"],[0.8888888888888888,\"#fdca26\"],[1.0,\"#f0f921\"]],\"type\":\"contour\"}],\"contourcarpet\":[{\"colorbar\":{\"outlinewidth\":0,\"ticks\":\"\"},\"type\":\"contourcarpet\"}],\"heatmap\":[{\"colorbar\":{\"outlinewidth\":0,\"ticks\":\"\"},\"colorscale\":[[0.0,\"#0d0887\"],[0.1111111111111111,\"#46039f\"],[0.2222222222222222,\"#7201a8\"],[0.3333333333333333,\"#9c179e\"],[0.4444444444444444,\"#bd3786\"],[0.5555555555555556,\"#d8576b\"],[0.6666666666666666,\"#ed7953\"],[0.7777777777777778,\"#fb9f3a\"],[0.8888888888888888,\"#fdca26\"],[1.0,\"#f0f921\"]],\"type\":\"heatmap\"}],\"heatmapgl\":[{\"colorbar\":{\"outlinewidth\":0,\"ticks\":\"\"},\"colorscale\":[[0.0,\"#0d0887\"],[0.1111111111111111,\"#46039f\"],[0.2222222222222222,\"#7201a8\"],[0.3333333333333333,\"#9c179e\"],[0.4444444444444444,\"#bd3786\"],[0.5555555555555556,\"#d8576b\"],[0.6666666666666666,\"#ed7953\"],[0.7777777777777778,\"#fb9f3a\"],[0.8888888888888888,\"#fdca26\"],[1.0,\"#f0f921\"]],\"type\":\"heatmapgl\"}],\"histogram\":[{\"marker\":{\"pattern\":{\"fillmode\":\"overlay\",\"size\":10,\"solidity\":0.2}},\"type\":\"histogram\"}],\"histogram2d\":[{\"colorbar\":{\"outlinewidth\":0,\"ticks\":\"\"},\"colorscale\":[[0.0,\"#0d0887\"],[0.1111111111111111,\"#46039f\"],[0.2222222222222222,\"#7201a8\"],[0.3333333333333333,\"#9c179e\"],[0.4444444444444444,\"#bd3786\"],[0.5555555555555556,\"#d8576b\"],[0.6666666666666666,\"#ed7953\"],[0.7777777777777778,\"#fb9f3a\"],[0.8888888888888888,\"#fdca26\"],[1.0,\"#f0f921\"]],\"type\":\"histogram2d\"}],\"histogram2dcontour\":[{\"colorbar\":{\"outlinewidth\":0,\"ticks\":\"\"},\"colorscale\":[[0.0,\"#0d0887\"],[0.1111111111111111,\"#46039f\"],[0.2222222222222222,\"#7201a8\"],[0.3333333333333333,\"#9c179e\"],[0.4444444444444444,\"#bd3786\"],[0.5555555555555556,\"#d8576b\"],[0.6666666666666666,\"#ed7953\"],[0.7777777777777778,\"#fb9f3a\"],[0.8888888888888888,\"#fdca26\"],[1.0,\"#f0f921\"]],\"type\":\"histogram2dcontour\"}],\"mesh3d\":[{\"colorbar\":{\"outlinewidth\":0,\"ticks\":\"\"},\"type\":\"mesh3d\"}],\"parcoords\":[{\"line\":{\"colorbar\":{\"outlinewidth\":0,\"ticks\":\"\"}},\"type\":\"parcoords\"}],\"pie\":[{\"automargin\":true,\"type\":\"pie\"}],\"scatter\":[{\"marker\":{\"colorbar\":{\"outlinewidth\":0,\"ticks\":\"\"}},\"type\":\"scatter\"}],\"scatter3d\":[{\"line\":{\"colorbar\":{\"outlinewidth\":0,\"ticks\":\"\"}},\"marker\":{\"colorbar\":{\"outlinewidth\":0,\"ticks\":\"\"}},\"type\":\"scatter3d\"}],\"scattercarpet\":[{\"marker\":{\"colorbar\":{\"outlinewidth\":0,\"ticks\":\"\"}},\"type\":\"scattercarpet\"}],\"scattergeo\":[{\"marker\":{\"colorbar\":{\"outlinewidth\":0,\"ticks\":\"\"}},\"type\":\"scattergeo\"}],\"scattergl\":[{\"marker\":{\"colorbar\":{\"outlinewidth\":0,\"ticks\":\"\"}},\"type\":\"scattergl\"}],\"scattermapbox\":[{\"marker\":{\"colorbar\":{\"outlinewidth\":0,\"ticks\":\"\"}},\"type\":\"scattermapbox\"}],\"scatterpolar\":[{\"marker\":{\"colorbar\":{\"outlinewidth\":0,\"ticks\":\"\"}},\"type\":\"scatterpolar\"}],\"scatterpolargl\":[{\"marker\":{\"colorbar\":{\"outlinewidth\":0,\"ticks\":\"\"}},\"type\":\"scatterpolargl\"}],\"scatterternary\":[{\"marker\":{\"colorbar\":{\"outlinewidth\":0,\"ticks\":\"\"}},\"type\":\"scatterternary\"}],\"surface\":[{\"colorbar\":{\"outlinewidth\":0,\"ticks\":\"\"},\"colorscale\":[[0.0,\"#0d0887\"],[0.1111111111111111,\"#46039f\"],[0.2222222222222222,\"#7201a8\"],[0.3333333333333333,\"#9c179e\"],[0.4444444444444444,\"#bd3786\"],[0.5555555555555556,\"#d8576b\"],[0.6666666666666666,\"#ed7953\"],[0.7777777777777778,\"#fb9f3a\"],[0.8888888888888888,\"#fdca26\"],[1.0,\"#f0f921\"]],\"type\":\"surface\"}],\"table\":[{\"cells\":{\"fill\":{\"color\":\"#EBF0F8\"},\"line\":{\"color\":\"white\"}},\"header\":{\"fill\":{\"color\":\"#C8D4E3\"},\"line\":{\"color\":\"white\"}},\"type\":\"table\"}]},\"layout\":{\"annotationdefaults\":{\"arrowcolor\":\"#2a3f5f\",\"arrowhead\":0,\"arrowwidth\":1},\"autotypenumbers\":\"strict\",\"coloraxis\":{\"colorbar\":{\"outlinewidth\":0,\"ticks\":\"\"}},\"colorscale\":{\"diverging\":[[0,\"#8e0152\"],[0.1,\"#c51b7d\"],[0.2,\"#de77ae\"],[0.3,\"#f1b6da\"],[0.4,\"#fde0ef\"],[0.5,\"#f7f7f7\"],[0.6,\"#e6f5d0\"],[0.7,\"#b8e186\"],[0.8,\"#7fbc41\"],[0.9,\"#4d9221\"],[1,\"#276419\"]],\"sequential\":[[0.0,\"#0d0887\"],[0.1111111111111111,\"#46039f\"],[0.2222222222222222,\"#7201a8\"],[0.3333333333333333,\"#9c179e\"],[0.4444444444444444,\"#bd3786\"],[0.5555555555555556,\"#d8576b\"],[0.6666666666666666,\"#ed7953\"],[0.7777777777777778,\"#fb9f3a\"],[0.8888888888888888,\"#fdca26\"],[1.0,\"#f0f921\"]],\"sequentialminus\":[[0.0,\"#0d0887\"],[0.1111111111111111,\"#46039f\"],[0.2222222222222222,\"#7201a8\"],[0.3333333333333333,\"#9c179e\"],[0.4444444444444444,\"#bd3786\"],[0.5555555555555556,\"#d8576b\"],[0.6666666666666666,\"#ed7953\"],[0.7777777777777778,\"#fb9f3a\"],[0.8888888888888888,\"#fdca26\"],[1.0,\"#f0f921\"]]},\"colorway\":[\"#636efa\",\"#EF553B\",\"#00cc96\",\"#ab63fa\",\"#FFA15A\",\"#19d3f3\",\"#FF6692\",\"#B6E880\",\"#FF97FF\",\"#FECB52\"],\"font\":{\"color\":\"#2a3f5f\"},\"geo\":{\"bgcolor\":\"white\",\"lakecolor\":\"white\",\"landcolor\":\"#E5ECF6\",\"showlakes\":true,\"showland\":true,\"subunitcolor\":\"white\"},\"hoverlabel\":{\"align\":\"left\"},\"hovermode\":\"closest\",\"mapbox\":{\"style\":\"light\"},\"paper_bgcolor\":\"white\",\"plot_bgcolor\":\"#E5ECF6\",\"polar\":{\"angularaxis\":{\"gridcolor\":\"white\",\"linecolor\":\"white\",\"ticks\":\"\"},\"bgcolor\":\"#E5ECF6\",\"radialaxis\":{\"gridcolor\":\"white\",\"linecolor\":\"white\",\"ticks\":\"\"}},\"scene\":{\"xaxis\":{\"backgroundcolor\":\"#E5ECF6\",\"gridcolor\":\"white\",\"gridwidth\":2,\"linecolor\":\"white\",\"showbackground\":true,\"ticks\":\"\",\"zerolinecolor\":\"white\"},\"yaxis\":{\"backgroundcolor\":\"#E5ECF6\",\"gridcolor\":\"white\",\"gridwidth\":2,\"linecolor\":\"white\",\"showbackground\":true,\"ticks\":\"\",\"zerolinecolor\":\"white\"},\"zaxis\":{\"backgroundcolor\":\"#E5ECF6\",\"gridcolor\":\"white\",\"gridwidth\":2,\"linecolor\":\"white\",\"showbackground\":true,\"ticks\":\"\",\"zerolinecolor\":\"white\"}},\"shapedefaults\":{\"line\":{\"color\":\"#2a3f5f\"}},\"ternary\":{\"aaxis\":{\"gridcolor\":\"white\",\"linecolor\":\"white\",\"ticks\":\"\"},\"baxis\":{\"gridcolor\":\"white\",\"linecolor\":\"white\",\"ticks\":\"\"},\"bgcolor\":\"#E5ECF6\",\"caxis\":{\"gridcolor\":\"white\",\"linecolor\":\"white\",\"ticks\":\"\"}},\"title\":{\"x\":0.05},\"xaxis\":{\"automargin\":true,\"gridcolor\":\"white\",\"linecolor\":\"white\",\"ticks\":\"\",\"title\":{\"standoff\":15},\"zerolinecolor\":\"white\",\"zerolinewidth\":2},\"yaxis\":{\"automargin\":true,\"gridcolor\":\"white\",\"linecolor\":\"white\",\"ticks\":\"\",\"title\":{\"standoff\":15},\"zerolinecolor\":\"white\",\"zerolinewidth\":2}}},\"title\":{\"text\":\"Educational Product Access Per Locale\"},\"xaxis\":{\"anchor\":\"y\",\"domain\":[0.0,1.0],\"title\":{\"text\":\"time\"}},\"xaxis2\":{\"anchor\":\"y2\",\"domain\":[0.0,1.0],\"matches\":\"x\",\"showticklabels\":false},\"xaxis3\":{\"anchor\":\"y3\",\"domain\":[0.0,1.0],\"matches\":\"x\",\"showticklabels\":false},\"xaxis4\":{\"anchor\":\"y4\",\"domain\":[0.0,1.0],\"matches\":\"x\",\"showticklabels\":false},\"yaxis\":{\"anchor\":\"x\",\"domain\":[0.0,0.1975],\"title\":{\"text\":\"pct_access\"}},\"yaxis2\":{\"anchor\":\"x2\",\"domain\":[0.2675,0.465],\"matches\":\"y\",\"title\":{\"text\":\"pct_access\"}},\"yaxis3\":{\"anchor\":\"x3\",\"domain\":[0.535,0.7325],\"matches\":\"y\",\"title\":{\"text\":\"pct_access\"}},\"yaxis4\":{\"anchor\":\"x4\",\"domain\":[0.8025,1.0],\"matches\":\"y\",\"title\":{\"text\":\"pct_access\"}}},                        {\"responsive\": true}                    ).then(function(){\n                            \nvar gd = document.getElementById('5331274d-b7ff-464e-89bc-9e5b2a53f859');\nvar x = new MutationObserver(function (mutations, observer) {{\n        var display = window.getComputedStyle(gd).display;\n        if (!display || display === 'none') {{\n            console.log([gd, 'removed!']);\n            Plotly.purge(gd);\n            observer.disconnect();\n        }}\n}});\n\n// Listen for the removal of the full notebook cells\nvar notebookContainer = gd.closest('#notebook-container');\nif (notebookContainer) {{\n    x.observe(notebookContainer, {childList: true});\n}}\n\n// Listen for the clearing of the current output cell\nvar outputEl = gd.closest('.output');\nif (outputEl) {{\n    x.observe(outputEl, {childList: true});\n}}\n\n                        })                };                            </script>        </div>\n</body>\n</html>"
     },
     "metadata": {},
     "output_type": "display_data"
    }
   ],
   "execution_count": null
  },
  {
   "cell_type": "markdown",
   "source": "## Based on Top Five States\nNew York was hit hardest with Covid19 and that didn't affect the online learning of students as you can see graph became more consistent after the lockdown. \n>New York, Wisconsin, and Indian have higher students using these educational products overall. ",
   "metadata": {
    "papermill": {
     "duration": 0.07687,
     "end_time": "2021-09-19T11:56:27.361724",
     "exception": false,
     "start_time": "2021-09-19T11:56:27.284854",
     "status": "completed"
    },
    "tags": [],
    "cell_id": "00062-eefe6618-21a0-44a9-ae19-a591f9d953e9",
    "deepnote_cell_type": "markdown"
   }
  },
  {
   "cell_type": "code",
   "metadata": {
    "_kg_hide-input": true,
    "execution": {
     "iopub.execute_input": "2021-09-19T11:56:27.517374Z",
     "iopub.status.busy": "2021-09-19T11:56:27.516750Z",
     "iopub.status.idle": "2021-09-19T11:56:28.417773Z",
     "shell.execute_reply": "2021-09-19T11:56:28.418293Z",
     "shell.execute_reply.started": "2021-09-19T11:09:51.483318Z"
    },
    "papermill": {
     "duration": 0.98071,
     "end_time": "2021-09-19T11:56:28.418451",
     "exception": false,
     "start_time": "2021-09-19T11:56:27.437741",
     "status": "completed"
    },
    "tags": [],
    "cell_id": "00063-0602137e-e680-48db-a4c4-9907ff8b1243",
    "deepnote_to_be_reexecuted": false,
    "source_hash": "7c50842e",
    "execution_start": 1634282992367,
    "execution_millis": 687,
    "deepnote_cell_type": "code"
   },
   "source": "df = complete_data[[\"state\",\"pct_access\",\"time\"]].groupby(by=[\"time\",\"state\"]).mean()\ndf.dropna(inplace =True)\ndf.reset_index(inplace = True)\n\ntop_5 = df.groupby(by='state')\\\n                  .mean()\\\n                  .sort_values(by='pct_access',ascending=False)\\\n                  .head(5)\\\n                  .reset_index()['state']\\\n                  .to_list()\n\ntop_states = df[df.state.isin(top_5)]\nfig = px.line(top_states, x=\"time\", y=\"pct_access\", facet_col='state',facet_col_wrap=1,color = 'state')\nfig.update_layout(\n                      title=(\"Educational product Access on Top 5 States\").title(),\n                     )\nfig.show()",
   "outputs": [
    {
     "data": {
      "text/html": "<html>\n<head><meta charset=\"utf-8\" /></head>\n<body>\n    <div>            <script src=\"https://cdnjs.cloudflare.com/ajax/libs/mathjax/2.7.5/MathJax.js?config=TeX-AMS-MML_SVG\"></script><script type=\"text/javascript\">if (window.MathJax) {MathJax.Hub.Config({SVG: {font: \"STIX-Web\"}});}</script>                <script type=\"text/javascript\">window.PlotlyConfig = {MathJaxConfig: 'local'};</script>\n        <script src=\"https://cdn.plot.ly/plotly-2.4.2.min.js\"></script>                <div id=\"39672571-31fa-42e0-b5b2-f2b6403be655\" class=\"plotly-graph-div\" style=\"height:525px; width:100%;\"></div>            <script type=\"text/javascript\">                                    window.PLOTLYENV=window.PLOTLYENV || {};                                    if (document.getElementById(\"39672571-31fa-42e0-b5b2-f2b6403be655\")) {                    Plotly.newPlot(                        \"39672571-31fa-42e0-b5b2-f2b6403be655\",                        [{\"hovertemplate\":\"state=Illinois<br>time=%{x}<br>pct_access=%{y}<extra></extra>\",\"legendgroup\":\"Illinois\",\"line\":{\"color\":\"#636efa\",\"dash\":\"solid\"},\"marker\":{\"symbol\":\"circle\"},\"mode\":\"lines\",\"name\":\"Illinois\",\"showlegend\":true,\"type\":\"scattergl\",\"x\":[\"2020-01-01T00:00:00\",\"2020-01-02T00:00:00\",\"2020-01-03T00:00:00\",\"2020-01-04T00:00:00\",\"2020-01-05T00:00:00\",\"2020-01-06T00:00:00\",\"2020-01-07T00:00:00\",\"2020-01-08T00:00:00\",\"2020-01-09T00:00:00\",\"2020-01-10T00:00:00\",\"2020-01-11T00:00:00\",\"2020-01-12T00:00:00\",\"2020-01-13T00:00:00\",\"2020-01-14T00:00:00\",\"2020-01-15T00:00:00\",\"2020-01-16T00:00:00\",\"2020-01-17T00:00:00\",\"2020-01-18T00:00:00\",\"2020-01-19T00:00:00\",\"2020-01-20T00:00:00\",\"2020-01-21T00:00:00\",\"2020-01-22T00:00:00\",\"2020-01-23T00:00:00\",\"2020-01-24T00:00:00\",\"2020-01-25T00:00:00\",\"2020-01-26T00:00:00\",\"2020-01-27T00:00:00\",\"2020-01-28T00:00:00\",\"2020-01-29T00:00:00\",\"2020-01-30T00:00:00\",\"2020-01-31T00:00:00\",\"2020-02-01T00:00:00\",\"2020-02-02T00:00:00\",\"2020-02-03T00:00:00\",\"2020-02-04T00:00:00\",\"2020-02-05T00:00:00\",\"2020-02-06T00:00:00\",\"2020-02-07T00:00:00\",\"2020-02-08T00:00:00\",\"2020-02-09T00:00:00\",\"2020-02-10T00:00:00\",\"2020-02-11T00:00:00\",\"2020-02-12T00:00:00\",\"2020-02-13T00:00:00\",\"2020-02-14T00:00:00\",\"2020-02-15T00:00:00\",\"2020-02-16T00:00:00\",\"2020-02-17T00:00:00\",\"2020-02-18T00:00:00\",\"2020-02-19T00:00:00\",\"2020-02-20T00:00:00\",\"2020-02-21T00:00:00\",\"2020-02-22T00:00:00\",\"2020-02-23T00:00:00\",\"2020-02-24T00:00:00\",\"2020-02-25T00:00:00\",\"2020-02-26T00:00:00\",\"2020-02-27T00:00:00\",\"2020-02-28T00:00:00\",\"2020-02-29T00:00:00\",\"2020-03-01T00:00:00\",\"2020-03-02T00:00:00\",\"2020-03-03T00:00:00\",\"2020-03-04T00:00:00\",\"2020-03-05T00:00:00\",\"2020-03-06T00:00:00\",\"2020-03-07T00:00:00\",\"2020-03-08T00:00:00\",\"2020-03-09T00:00:00\",\"2020-03-10T00:00:00\",\"2020-03-11T00:00:00\",\"2020-03-12T00:00:00\",\"2020-03-13T00:00:00\",\"2020-03-14T00:00:00\",\"2020-03-15T00:00:00\",\"2020-03-16T00:00:00\",\"2020-03-17T00:00:00\",\"2020-03-18T00:00:00\",\"2020-03-19T00:00:00\",\"2020-03-20T00:00:00\",\"2020-03-21T00:00:00\",\"2020-03-22T00:00:00\",\"2020-03-23T00:00:00\",\"2020-03-24T00:00:00\",\"2020-03-25T00:00:00\",\"2020-03-26T00:00:00\",\"2020-03-27T00:00:00\",\"2020-03-28T00:00:00\",\"2020-03-29T00:00:00\",\"2020-03-30T00:00:00\",\"2020-03-31T00:00:00\",\"2020-04-01T00:00:00\",\"2020-04-02T00:00:00\",\"2020-04-03T00:00:00\",\"2020-04-04T00:00:00\",\"2020-04-05T00:00:00\",\"2020-04-06T00:00:00\",\"2020-04-07T00:00:00\",\"2020-04-08T00:00:00\",\"2020-04-09T00:00:00\",\"2020-04-10T00:00:00\",\"2020-04-11T00:00:00\",\"2020-04-12T00:00:00\",\"2020-04-13T00:00:00\",\"2020-04-14T00:00:00\",\"2020-04-15T00:00:00\",\"2020-04-16T00:00:00\",\"2020-04-17T00:00:00\",\"2020-04-18T00:00:00\",\"2020-04-19T00:00:00\",\"2020-04-20T00:00:00\",\"2020-04-21T00:00:00\",\"2020-04-22T00:00:00\",\"2020-04-23T00:00:00\",\"2020-04-24T00:00:00\",\"2020-04-25T00:00:00\",\"2020-04-26T00:00:00\",\"2020-04-27T00:00:00\",\"2020-04-28T00:00:00\",\"2020-04-29T00:00:00\",\"2020-04-30T00:00:00\",\"2020-05-01T00:00:00\",\"2020-05-02T00:00:00\",\"2020-05-03T00:00:00\",\"2020-05-04T00:00:00\",\"2020-05-05T00:00:00\",\"2020-05-06T00:00:00\",\"2020-05-07T00:00:00\",\"2020-05-08T00:00:00\",\"2020-05-09T00:00:00\",\"2020-05-10T00:00:00\",\"2020-05-11T00:00:00\",\"2020-05-12T00:00:00\",\"2020-05-13T00:00:00\",\"2020-05-14T00:00:00\",\"2020-05-15T00:00:00\",\"2020-05-16T00:00:00\",\"2020-05-17T00:00:00\",\"2020-05-18T00:00:00\",\"2020-05-19T00:00:00\",\"2020-05-20T00:00:00\",\"2020-05-21T00:00:00\",\"2020-05-22T00:00:00\",\"2020-05-23T00:00:00\",\"2020-05-24T00:00:00\",\"2020-05-25T00:00:00\",\"2020-05-26T00:00:00\",\"2020-05-27T00:00:00\",\"2020-05-28T00:00:00\",\"2020-05-29T00:00:00\",\"2020-05-30T00:00:00\",\"2020-05-31T00:00:00\",\"2020-06-01T00:00:00\",\"2020-06-02T00:00:00\",\"2020-06-03T00:00:00\",\"2020-06-04T00:00:00\",\"2020-06-05T00:00:00\",\"2020-06-06T00:00:00\",\"2020-06-07T00:00:00\",\"2020-06-08T00:00:00\",\"2020-06-09T00:00:00\",\"2020-06-10T00:00:00\",\"2020-06-11T00:00:00\",\"2020-06-12T00:00:00\",\"2020-06-13T00:00:00\",\"2020-06-14T00:00:00\",\"2020-06-15T00:00:00\",\"2020-06-16T00:00:00\",\"2020-06-17T00:00:00\",\"2020-06-18T00:00:00\",\"2020-06-19T00:00:00\",\"2020-06-20T00:00:00\",\"2020-06-21T00:00:00\",\"2020-06-22T00:00:00\",\"2020-06-23T00:00:00\",\"2020-06-24T00:00:00\",\"2020-06-25T00:00:00\",\"2020-06-26T00:00:00\",\"2020-06-27T00:00:00\",\"2020-06-28T00:00:00\",\"2020-06-29T00:00:00\",\"2020-06-30T00:00:00\",\"2020-07-01T00:00:00\",\"2020-07-02T00:00:00\",\"2020-07-03T00:00:00\",\"2020-07-04T00:00:00\",\"2020-07-05T00:00:00\",\"2020-07-06T00:00:00\",\"2020-07-07T00:00:00\",\"2020-07-08T00:00:00\",\"2020-07-09T00:00:00\",\"2020-07-10T00:00:00\",\"2020-07-11T00:00:00\",\"2020-07-12T00:00:00\",\"2020-07-13T00:00:00\",\"2020-07-14T00:00:00\",\"2020-07-15T00:00:00\",\"2020-07-16T00:00:00\",\"2020-07-17T00:00:00\",\"2020-07-18T00:00:00\",\"2020-07-19T00:00:00\",\"2020-07-20T00:00:00\",\"2020-07-21T00:00:00\",\"2020-07-22T00:00:00\",\"2020-07-23T00:00:00\",\"2020-07-24T00:00:00\",\"2020-07-25T00:00:00\",\"2020-07-26T00:00:00\",\"2020-07-27T00:00:00\",\"2020-07-28T00:00:00\",\"2020-07-29T00:00:00\",\"2020-07-30T00:00:00\",\"2020-07-31T00:00:00\",\"2020-08-01T00:00:00\",\"2020-08-02T00:00:00\",\"2020-08-03T00:00:00\",\"2020-08-04T00:00:00\",\"2020-08-05T00:00:00\",\"2020-08-06T00:00:00\",\"2020-08-07T00:00:00\",\"2020-08-08T00:00:00\",\"2020-08-09T00:00:00\",\"2020-08-10T00:00:00\",\"2020-08-11T00:00:00\",\"2020-08-12T00:00:00\",\"2020-08-13T00:00:00\",\"2020-08-14T00:00:00\",\"2020-08-15T00:00:00\",\"2020-08-16T00:00:00\",\"2020-08-17T00:00:00\",\"2020-08-18T00:00:00\",\"2020-08-19T00:00:00\",\"2020-08-20T00:00:00\",\"2020-08-21T00:00:00\",\"2020-08-22T00:00:00\",\"2020-08-23T00:00:00\",\"2020-08-24T00:00:00\",\"2020-08-25T00:00:00\",\"2020-08-26T00:00:00\",\"2020-08-27T00:00:00\",\"2020-08-28T00:00:00\",\"2020-08-29T00:00:00\",\"2020-08-30T00:00:00\",\"2020-08-31T00:00:00\",\"2020-09-01T00:00:00\",\"2020-09-02T00:00:00\",\"2020-09-03T00:00:00\",\"2020-09-04T00:00:00\",\"2020-09-05T00:00:00\",\"2020-09-06T00:00:00\",\"2020-09-07T00:00:00\",\"2020-09-08T00:00:00\",\"2020-09-09T00:00:00\",\"2020-09-10T00:00:00\",\"2020-09-11T00:00:00\",\"2020-09-12T00:00:00\",\"2020-09-13T00:00:00\",\"2020-09-14T00:00:00\",\"2020-09-15T00:00:00\",\"2020-09-16T00:00:00\",\"2020-09-17T00:00:00\",\"2020-09-18T00:00:00\",\"2020-09-19T00:00:00\",\"2020-09-20T00:00:00\",\"2020-09-21T00:00:00\",\"2020-09-22T00:00:00\",\"2020-09-23T00:00:00\",\"2020-09-24T00:00:00\",\"2020-09-25T00:00:00\",\"2020-09-26T00:00:00\",\"2020-09-27T00:00:00\",\"2020-09-28T00:00:00\",\"2020-09-29T00:00:00\",\"2020-09-30T00:00:00\",\"2020-10-01T00:00:00\",\"2020-10-02T00:00:00\",\"2020-10-03T00:00:00\",\"2020-10-04T00:00:00\",\"2020-10-05T00:00:00\",\"2020-10-06T00:00:00\",\"2020-10-07T00:00:00\",\"2020-10-08T00:00:00\",\"2020-10-09T00:00:00\",\"2020-10-10T00:00:00\",\"2020-10-11T00:00:00\",\"2020-10-12T00:00:00\",\"2020-10-13T00:00:00\",\"2020-10-14T00:00:00\",\"2020-10-15T00:00:00\",\"2020-10-16T00:00:00\",\"2020-10-17T00:00:00\",\"2020-10-18T00:00:00\",\"2020-10-19T00:00:00\",\"2020-10-20T00:00:00\",\"2020-10-21T00:00:00\",\"2020-10-22T00:00:00\",\"2020-10-23T00:00:00\",\"2020-10-24T00:00:00\",\"2020-10-25T00:00:00\",\"2020-10-26T00:00:00\",\"2020-10-27T00:00:00\",\"2020-10-28T00:00:00\",\"2020-10-29T00:00:00\",\"2020-10-30T00:00:00\",\"2020-10-31T00:00:00\",\"2020-11-01T00:00:00\",\"2020-11-02T00:00:00\",\"2020-11-03T00:00:00\",\"2020-11-04T00:00:00\",\"2020-11-05T00:00:00\",\"2020-11-06T00:00:00\",\"2020-11-07T00:00:00\",\"2020-11-08T00:00:00\",\"2020-11-09T00:00:00\",\"2020-11-10T00:00:00\",\"2020-11-11T00:00:00\",\"2020-11-12T00:00:00\",\"2020-11-13T00:00:00\",\"2020-11-14T00:00:00\",\"2020-11-15T00:00:00\",\"2020-11-16T00:00:00\",\"2020-11-17T00:00:00\",\"2020-11-18T00:00:00\",\"2020-11-19T00:00:00\",\"2020-11-20T00:00:00\",\"2020-11-21T00:00:00\",\"2020-11-22T00:00:00\",\"2020-11-23T00:00:00\",\"2020-11-24T00:00:00\",\"2020-11-25T00:00:00\",\"2020-11-26T00:00:00\",\"2020-11-27T00:00:00\",\"2020-11-28T00:00:00\",\"2020-11-29T00:00:00\",\"2020-11-30T00:00:00\",\"2020-12-01T00:00:00\",\"2020-12-02T00:00:00\",\"2020-12-03T00:00:00\",\"2020-12-04T00:00:00\",\"2020-12-05T00:00:00\",\"2020-12-06T00:00:00\",\"2020-12-07T00:00:00\",\"2020-12-08T00:00:00\",\"2020-12-09T00:00:00\",\"2020-12-10T00:00:00\",\"2020-12-11T00:00:00\",\"2020-12-12T00:00:00\",\"2020-12-13T00:00:00\",\"2020-12-14T00:00:00\",\"2020-12-15T00:00:00\",\"2020-12-16T00:00:00\",\"2020-12-17T00:00:00\",\"2020-12-18T00:00:00\",\"2020-12-19T00:00:00\",\"2020-12-20T00:00:00\",\"2020-12-21T00:00:00\",\"2020-12-22T00:00:00\",\"2020-12-23T00:00:00\",\"2020-12-24T00:00:00\",\"2020-12-25T00:00:00\",\"2020-12-26T00:00:00\",\"2020-12-27T00:00:00\",\"2020-12-28T00:00:00\",\"2020-12-29T00:00:00\",\"2020-12-30T00:00:00\",\"2020-12-31T00:00:00\"],\"xaxis\":\"x5\",\"y\":[0.17502747252747275,0.1695808383233529,0.15695931477516098,0.15360594795539048,0.17463624338624414,1.0842299622324791,1.616060267857143,1.680327518689923,1.7199535216303097,1.7174737983375468,0.2590919409761627,0.32867845993756406,1.6739475600873988,1.69219040801718,1.6929199711607767,1.7199820788530418,1.5868124065769778,0.23577672770230332,0.21652331920048495,0.31128682170542504,1.583638989169677,1.638817857142858,1.6738222698072809,1.659266284896204,0.24868480725623565,0.3187997875730204,1.626536112109236,1.6067250625670353,1.6254201226108917,1.6375553176302622,1.5040217391304282,0.25244252873563106,0.29842811158798105,1.5994578754578777,1.6454353278394844,1.598027474462839,1.639316508937956,1.6205016008537927,0.24474701534962942,0.3175284974093236,1.5790795128939825,1.5970311952330896,1.6161419536191153,1.5213556457065671,1.2185933983495847,0.2266122678671907,0.22048240635641175,0.33469798657717786,1.5829049010061693,1.597514450867052,1.6089533011272141,1.6002196461256941,0.2536100386100366,0.28905441570026547,1.5707874962428692,1.6181988853036158,1.5891586045148138,1.4907605315238976,0.9746931524547785,0.23982584784601083,0.28511437203279805,1.511262626262631,1.5931420838971708,1.587419182473971,1.5854442344045452,1.5394424608624016,0.2408944543828249,0.2775775605609842,1.4647680690399294,1.582090075512417,1.5159500542888242,1.5361399787911039,1.5926649006622668,0.35902502801643243,0.3006734992679321,0.9828673835125473,1.3108420163334216,1.5145027697177684,1.4523158734379238,1.2604279403644452,0.4113068385248772,0.2724489795918335,0.8169826317338811,0.8539222614840971,0.854858619641227,0.7879086892488943,0.6674720965309108,0.2855968548963515,0.2370347003154549,0.8756678082191796,0.9158906030855564,1.0350113571834196,1.0866981132075504,0.8990511163337277,0.2882502614151239,0.24262942779291255,1.3139910425478984,1.5266484743240012,1.6442643764003173,1.6116903131115612,0.8135780590717303,0.32958189357290557,0.24389251997094832,1.15304223149114,1.6173900504686565,1.6072660996354946,1.579980554205171,1.1909709735422598,0.3743508549714951,0.270098846787476,1.3223673772930136,1.5797399756986827,1.5493183483997268,1.5074030067895416,1.2163944374209885,0.36921855541717935,0.26780636425185794,1.1860257362039108,1.5281197218082665,1.50904345714981,1.5124488286066713,1.0600854700854772,0.3344225543478213,0.26455670103092516,1.1872898842476138,1.480282788883486,1.4578744081734478,1.4301165385569128,1.0772007086813467,0.35812707917497866,0.28480533146264064,1.1544022289766955,1.3640045135406207,1.329051941502776,1.3210701665825377,0.9954612352168181,0.33534739025232857,0.2942341137123711,0.8815240641711205,1.018256246677301,0.8931221104160981,0.8652152837182772,0.744600185242354,0.24373594335693188,0.17141224862888355,0.2085091841093531,0.5076514415289847,0.580575984380078,0.5399003322259077,0.4952054305108908,0.16467673430863602,0.14196049382716083,0.4077213822894123,0.40084288354897957,0.38297880116958644,0.30805930930930725,0.29697560975609616,0.13356839872746615,0.12421137339055875,0.28924786958132415,0.25896226415094126,0.19110227683411424,0.17978535837485463,0.16181624840493253,0.11124233983287,0.10073354908306428,0.16974438419829432,0.17002315708220622,0.18758271701050797,0.20088801571709056,0.18659249563699676,0.14164823591363915,0.1369354838709684,0.1901380368098144,0.1924461247637034,0.19389651117208778,0.18582443653617858,0.16621909633418436,0.1351448879168946,0.12488499452354943,0.1692135289323539,0.1726614561908666,0.16896838602329306,0.16987967914438398,0.13942408376963364,0.12333118971061155,0.1139796529024543,0.1601821192052966,0.15819101578308273,0.15775543041029652,0.1598592132505167,0.14140967153284625,0.1220304017372426,0.11642461197339322,0.14969996052111992,0.15604799999999847,0.16454438334642482,0.1574980079681263,0.1329799554565701,0.11937672366243837,0.11125571936959902,0.14297460701330006,0.14306401249024098,0.1442740365901121,0.13906188411509562,0.1277847253238052,0.11427194860813768,0.10966047745358162,0.12222479721900303,0.1298584003061606,0.12636776390465315,0.12352534562211928,0.11482526315789494,0.10689604685212348,0.10160908193484769,0.10745185185185162,0.10527964205816542,0.10987894350696943,0.11328130671506324,0.11449372056514856,0.10566183574879263,0.09748154981549857,0.11615221238938009,0.12326631393297979,0.2520878378378339,0.2517861842105223,0.27334201106410283,0.1567119341563773,0.1640355029585789,0.4651874999999927,0.592673439767772,0.8341698948533673,0.9903539341138248,1.1302923497267912,0.30433820906171505,0.3575710675931727,1.656092154420955,1.6180253668242053,1.6201578687716134,1.713887536514148,1.726674090571673,0.3225217974513707,0.35068672136128365,1.911647931116988,1.8867035294117904,1.9807557732680514,1.8894709246902064,1.6287216748768725,0.3160705289672487,0.25177346726705485,0.35432068543451056,1.8135665966876835,1.8033372475340788,1.8098657876148123,1.8351601941747853,0.38087776332899254,0.3704751686082094,1.8155834528933787,1.7978877259752868,1.7437432762836422,1.8113133253301563,1.6037142158062407,0.34880776959142124,0.35754500310365667,1.6263535377928322,1.775428503222752,1.6705747398297353,1.7869652076319016,1.716008918617637,0.3569821372610402,0.3850390512004558,1.8384083496412513,1.7463437088996292,1.7496455917742528,1.7557211749233046,1.7605947625388565,0.37598388596218735,0.3823379960034181,1.7409340782123148,1.7294026890015655,1.6441895482728315,1.6617353530853367,1.3123295985060883,0.3332248616986601,0.28527139527139045,0.5082743721306962,1.414257537973277,1.5217726657645683,1.6572797187431583,1.5613520124527687,0.5349090909090805,0.38400673400672725,1.6195422063421403,1.6897956917610688,1.6828517782195958,1.6588570157883318,1.6371364552991439,0.3503446115288168,0.3743549328663101,1.6249400266548462,1.6743557607739883,1.728873705091497,1.6673508037877345,1.6486231884058233,0.3322709163346565,0.34198619861985624,1.595731707317095,0.4888916122004275,1.6464727027634465,1.6523483496877982,1.7447141896436007,0.3690532915360433,0.3500767187960978,1.5275562627870176,1.7180861349154275,1.7394334277620742,1.6791165287407954,1.7529793769197224,0.3861336515513051,0.3741750841750769,1.6426984126984325,1.7377204585538173,1.7499563318777491,1.7343044153539215,1.7570972097209976,0.5827496339677792,0.3254771784232319,0.8952468370131584,0.8823629112662135,0.2890114942528686,0.26046554252198895,0.22673056057865829,0.23476141434946374,0.2943601059134986,1.7144192825112379,1.7148498694517278,1.7042704471101664,1.7496799649276917,1.7692149491375788,0.3898447015834271,0.3771494385257633,1.756198996290663,1.7562753212807947,1.761682058047522,1.7805459272097368,1.8104401561145131,0.4126222088110964,0.3987011494252792,1.715757174392963,1.7307457105147643,1.7162985463224403,1.7622088966419798,1.6943033986045664,0.36251888341542937,0.2651260820474172,0.4653991880920073,0.41831104855734624,0.2175955853370095,0.1887384898710845,0.1566058823529413,0.1480832888414309,0.1430541871921182,0.15369111020073592,0.15807753796962257,0.15524868580671133,0.15121808287986507],\"yaxis\":\"y5\"},{\"hovertemplate\":\"state=Indiana<br>time=%{x}<br>pct_access=%{y}<extra></extra>\",\"legendgroup\":\"Indiana\",\"line\":{\"color\":\"#EF553B\",\"dash\":\"solid\"},\"marker\":{\"symbol\":\"circle\"},\"mode\":\"lines\",\"name\":\"Indiana\",\"showlegend\":true,\"type\":\"scattergl\",\"x\":[\"2020-01-01T00:00:00\",\"2020-01-02T00:00:00\",\"2020-01-03T00:00:00\",\"2020-01-04T00:00:00\",\"2020-01-05T00:00:00\",\"2020-01-06T00:00:00\",\"2020-01-07T00:00:00\",\"2020-01-08T00:00:00\",\"2020-01-09T00:00:00\",\"2020-01-10T00:00:00\",\"2020-01-11T00:00:00\",\"2020-01-12T00:00:00\",\"2020-01-13T00:00:00\",\"2020-01-14T00:00:00\",\"2020-01-15T00:00:00\",\"2020-01-16T00:00:00\",\"2020-01-17T00:00:00\",\"2020-01-18T00:00:00\",\"2020-01-19T00:00:00\",\"2020-01-20T00:00:00\",\"2020-01-21T00:00:00\",\"2020-01-22T00:00:00\",\"2020-01-23T00:00:00\",\"2020-01-24T00:00:00\",\"2020-01-25T00:00:00\",\"2020-01-26T00:00:00\",\"2020-01-27T00:00:00\",\"2020-01-28T00:00:00\",\"2020-01-29T00:00:00\",\"2020-01-30T00:00:00\",\"2020-01-31T00:00:00\",\"2020-02-01T00:00:00\",\"2020-02-02T00:00:00\",\"2020-02-03T00:00:00\",\"2020-02-04T00:00:00\",\"2020-02-05T00:00:00\",\"2020-02-06T00:00:00\",\"2020-02-07T00:00:00\",\"2020-02-08T00:00:00\",\"2020-02-09T00:00:00\",\"2020-02-10T00:00:00\",\"2020-02-11T00:00:00\",\"2020-02-12T00:00:00\",\"2020-02-13T00:00:00\",\"2020-02-14T00:00:00\",\"2020-02-15T00:00:00\",\"2020-02-16T00:00:00\",\"2020-02-17T00:00:00\",\"2020-02-18T00:00:00\",\"2020-02-19T00:00:00\",\"2020-02-20T00:00:00\",\"2020-02-21T00:00:00\",\"2020-02-22T00:00:00\",\"2020-02-23T00:00:00\",\"2020-02-24T00:00:00\",\"2020-02-25T00:00:00\",\"2020-02-26T00:00:00\",\"2020-02-27T00:00:00\",\"2020-02-28T00:00:00\",\"2020-02-29T00:00:00\",\"2020-03-01T00:00:00\",\"2020-03-02T00:00:00\",\"2020-03-03T00:00:00\",\"2020-03-04T00:00:00\",\"2020-03-05T00:00:00\",\"2020-03-06T00:00:00\",\"2020-03-07T00:00:00\",\"2020-03-08T00:00:00\",\"2020-03-09T00:00:00\",\"2020-03-10T00:00:00\",\"2020-03-11T00:00:00\",\"2020-03-12T00:00:00\",\"2020-03-13T00:00:00\",\"2020-03-14T00:00:00\",\"2020-03-15T00:00:00\",\"2020-03-16T00:00:00\",\"2020-03-17T00:00:00\",\"2020-03-18T00:00:00\",\"2020-03-19T00:00:00\",\"2020-03-20T00:00:00\",\"2020-03-21T00:00:00\",\"2020-03-22T00:00:00\",\"2020-03-23T00:00:00\",\"2020-03-24T00:00:00\",\"2020-03-25T00:00:00\",\"2020-03-26T00:00:00\",\"2020-03-27T00:00:00\",\"2020-03-28T00:00:00\",\"2020-03-29T00:00:00\",\"2020-03-30T00:00:00\",\"2020-03-31T00:00:00\",\"2020-04-01T00:00:00\",\"2020-04-02T00:00:00\",\"2020-04-03T00:00:00\",\"2020-04-04T00:00:00\",\"2020-04-05T00:00:00\",\"2020-04-06T00:00:00\",\"2020-04-07T00:00:00\",\"2020-04-08T00:00:00\",\"2020-04-09T00:00:00\",\"2020-04-10T00:00:00\",\"2020-04-11T00:00:00\",\"2020-04-12T00:00:00\",\"2020-04-13T00:00:00\",\"2020-04-14T00:00:00\",\"2020-04-15T00:00:00\",\"2020-04-16T00:00:00\",\"2020-04-17T00:00:00\",\"2020-04-18T00:00:00\",\"2020-04-19T00:00:00\",\"2020-04-20T00:00:00\",\"2020-04-21T00:00:00\",\"2020-04-22T00:00:00\",\"2020-04-23T00:00:00\",\"2020-04-24T00:00:00\",\"2020-04-25T00:00:00\",\"2020-04-26T00:00:00\",\"2020-04-27T00:00:00\",\"2020-04-28T00:00:00\",\"2020-04-29T00:00:00\",\"2020-04-30T00:00:00\",\"2020-05-01T00:00:00\",\"2020-05-02T00:00:00\",\"2020-05-03T00:00:00\",\"2020-05-04T00:00:00\",\"2020-05-05T00:00:00\",\"2020-05-06T00:00:00\",\"2020-05-07T00:00:00\",\"2020-05-08T00:00:00\",\"2020-05-09T00:00:00\",\"2020-05-10T00:00:00\",\"2020-05-11T00:00:00\",\"2020-05-12T00:00:00\",\"2020-05-13T00:00:00\",\"2020-05-14T00:00:00\",\"2020-05-15T00:00:00\",\"2020-05-16T00:00:00\",\"2020-05-17T00:00:00\",\"2020-05-18T00:00:00\",\"2020-05-19T00:00:00\",\"2020-05-20T00:00:00\",\"2020-05-21T00:00:00\",\"2020-05-22T00:00:00\",\"2020-05-23T00:00:00\",\"2020-05-24T00:00:00\",\"2020-05-25T00:00:00\",\"2020-05-26T00:00:00\",\"2020-05-27T00:00:00\",\"2020-05-28T00:00:00\",\"2020-05-29T00:00:00\",\"2020-05-30T00:00:00\",\"2020-05-31T00:00:00\",\"2020-06-01T00:00:00\",\"2020-06-02T00:00:00\",\"2020-06-03T00:00:00\",\"2020-06-04T00:00:00\",\"2020-06-05T00:00:00\",\"2020-06-06T00:00:00\",\"2020-06-07T00:00:00\",\"2020-06-08T00:00:00\",\"2020-06-09T00:00:00\",\"2020-06-10T00:00:00\",\"2020-06-11T00:00:00\",\"2020-06-12T00:00:00\",\"2020-06-13T00:00:00\",\"2020-06-14T00:00:00\",\"2020-06-15T00:00:00\",\"2020-06-16T00:00:00\",\"2020-06-17T00:00:00\",\"2020-06-18T00:00:00\",\"2020-06-19T00:00:00\",\"2020-06-20T00:00:00\",\"2020-06-21T00:00:00\",\"2020-06-22T00:00:00\",\"2020-06-23T00:00:00\",\"2020-06-24T00:00:00\",\"2020-06-25T00:00:00\",\"2020-06-26T00:00:00\",\"2020-06-27T00:00:00\",\"2020-06-28T00:00:00\",\"2020-06-29T00:00:00\",\"2020-06-30T00:00:00\",\"2020-07-01T00:00:00\",\"2020-07-02T00:00:00\",\"2020-07-03T00:00:00\",\"2020-07-04T00:00:00\",\"2020-07-05T00:00:00\",\"2020-07-06T00:00:00\",\"2020-07-07T00:00:00\",\"2020-07-08T00:00:00\",\"2020-07-09T00:00:00\",\"2020-07-10T00:00:00\",\"2020-07-11T00:00:00\",\"2020-07-12T00:00:00\",\"2020-07-13T00:00:00\",\"2020-07-14T00:00:00\",\"2020-07-15T00:00:00\",\"2020-07-16T00:00:00\",\"2020-07-17T00:00:00\",\"2020-07-18T00:00:00\",\"2020-07-19T00:00:00\",\"2020-07-20T00:00:00\",\"2020-07-21T00:00:00\",\"2020-07-22T00:00:00\",\"2020-07-23T00:00:00\",\"2020-07-24T00:00:00\",\"2020-07-25T00:00:00\",\"2020-07-26T00:00:00\",\"2020-07-27T00:00:00\",\"2020-07-28T00:00:00\",\"2020-07-29T00:00:00\",\"2020-07-30T00:00:00\",\"2020-07-31T00:00:00\",\"2020-08-01T00:00:00\",\"2020-08-02T00:00:00\",\"2020-08-03T00:00:00\",\"2020-08-04T00:00:00\",\"2020-08-05T00:00:00\",\"2020-08-06T00:00:00\",\"2020-08-07T00:00:00\",\"2020-08-08T00:00:00\",\"2020-08-09T00:00:00\",\"2020-08-10T00:00:00\",\"2020-08-11T00:00:00\",\"2020-08-12T00:00:00\",\"2020-08-13T00:00:00\",\"2020-08-14T00:00:00\",\"2020-08-15T00:00:00\",\"2020-08-16T00:00:00\",\"2020-08-17T00:00:00\",\"2020-08-18T00:00:00\",\"2020-08-19T00:00:00\",\"2020-08-20T00:00:00\",\"2020-08-21T00:00:00\",\"2020-08-22T00:00:00\",\"2020-08-23T00:00:00\",\"2020-08-24T00:00:00\",\"2020-08-25T00:00:00\",\"2020-08-26T00:00:00\",\"2020-08-27T00:00:00\",\"2020-08-28T00:00:00\",\"2020-08-29T00:00:00\",\"2020-08-30T00:00:00\",\"2020-08-31T00:00:00\",\"2020-09-01T00:00:00\",\"2020-09-02T00:00:00\",\"2020-09-03T00:00:00\",\"2020-09-04T00:00:00\",\"2020-09-05T00:00:00\",\"2020-09-06T00:00:00\",\"2020-09-07T00:00:00\",\"2020-09-08T00:00:00\",\"2020-09-09T00:00:00\",\"2020-09-10T00:00:00\",\"2020-09-11T00:00:00\",\"2020-09-12T00:00:00\",\"2020-09-13T00:00:00\",\"2020-09-14T00:00:00\",\"2020-09-15T00:00:00\",\"2020-09-16T00:00:00\",\"2020-09-17T00:00:00\",\"2020-09-18T00:00:00\",\"2020-09-19T00:00:00\",\"2020-09-20T00:00:00\",\"2020-09-21T00:00:00\",\"2020-09-22T00:00:00\",\"2020-09-23T00:00:00\",\"2020-09-24T00:00:00\",\"2020-09-25T00:00:00\",\"2020-09-26T00:00:00\",\"2020-09-27T00:00:00\",\"2020-09-28T00:00:00\",\"2020-09-29T00:00:00\",\"2020-09-30T00:00:00\",\"2020-10-01T00:00:00\",\"2020-10-02T00:00:00\",\"2020-10-03T00:00:00\",\"2020-10-04T00:00:00\",\"2020-10-05T00:00:00\",\"2020-10-06T00:00:00\",\"2020-10-07T00:00:00\",\"2020-10-08T00:00:00\",\"2020-10-09T00:00:00\",\"2020-10-10T00:00:00\",\"2020-10-11T00:00:00\",\"2020-10-12T00:00:00\",\"2020-10-13T00:00:00\",\"2020-10-14T00:00:00\",\"2020-10-15T00:00:00\",\"2020-10-16T00:00:00\",\"2020-10-17T00:00:00\",\"2020-10-18T00:00:00\",\"2020-10-19T00:00:00\",\"2020-10-20T00:00:00\",\"2020-10-21T00:00:00\",\"2020-10-22T00:00:00\",\"2020-10-23T00:00:00\",\"2020-10-24T00:00:00\",\"2020-10-25T00:00:00\",\"2020-10-26T00:00:00\",\"2020-10-27T00:00:00\",\"2020-10-28T00:00:00\",\"2020-10-29T00:00:00\",\"2020-10-30T00:00:00\",\"2020-10-31T00:00:00\",\"2020-11-01T00:00:00\",\"2020-11-02T00:00:00\",\"2020-11-03T00:00:00\",\"2020-11-04T00:00:00\",\"2020-11-05T00:00:00\",\"2020-11-06T00:00:00\",\"2020-11-07T00:00:00\",\"2020-11-08T00:00:00\",\"2020-11-09T00:00:00\",\"2020-11-10T00:00:00\",\"2020-11-11T00:00:00\",\"2020-11-12T00:00:00\",\"2020-11-13T00:00:00\",\"2020-11-14T00:00:00\",\"2020-11-15T00:00:00\",\"2020-11-16T00:00:00\",\"2020-11-17T00:00:00\",\"2020-11-18T00:00:00\",\"2020-11-19T00:00:00\",\"2020-11-20T00:00:00\",\"2020-11-21T00:00:00\",\"2020-11-22T00:00:00\",\"2020-11-23T00:00:00\",\"2020-11-24T00:00:00\",\"2020-11-25T00:00:00\",\"2020-11-26T00:00:00\",\"2020-11-27T00:00:00\",\"2020-11-28T00:00:00\",\"2020-11-29T00:00:00\",\"2020-11-30T00:00:00\",\"2020-12-01T00:00:00\",\"2020-12-02T00:00:00\",\"2020-12-03T00:00:00\",\"2020-12-04T00:00:00\",\"2020-12-05T00:00:00\",\"2020-12-06T00:00:00\",\"2020-12-07T00:00:00\",\"2020-12-08T00:00:00\",\"2020-12-09T00:00:00\",\"2020-12-10T00:00:00\",\"2020-12-11T00:00:00\",\"2020-12-12T00:00:00\",\"2020-12-13T00:00:00\",\"2020-12-14T00:00:00\",\"2020-12-15T00:00:00\",\"2020-12-16T00:00:00\",\"2020-12-17T00:00:00\",\"2020-12-18T00:00:00\",\"2020-12-19T00:00:00\",\"2020-12-20T00:00:00\",\"2020-12-21T00:00:00\",\"2020-12-22T00:00:00\",\"2020-12-23T00:00:00\",\"2020-12-24T00:00:00\",\"2020-12-25T00:00:00\",\"2020-12-26T00:00:00\",\"2020-12-27T00:00:00\",\"2020-12-28T00:00:00\",\"2020-12-29T00:00:00\",\"2020-12-30T00:00:00\",\"2020-12-31T00:00:00\"],\"xaxis\":\"x4\",\"y\":[0.06803234501347732,0.06701646090535007,0.07496932515337448,0.07590909090909123,0.0976491228070177,1.6873617407071544,1.7592156862745074,1.7574254966887353,1.8213606557377,1.836474411047925,0.17745571658615183,0.19135766423357717,1.7169205834683916,1.9878691019786963,1.9200973782771575,2.03945225758699,1.8296513470681428,0.15362776025236644,0.1539263803680986,1.1858579881656766,1.6228560311283962,1.8642222222222304,2.0134871406959265,1.898917682926826,0.1536731634182912,0.17054739652870549,1.795894655305973,1.9992889221556966,1.9486902133922086,1.9631323529411877,1.9744770504138505,0.22764705882352992,0.25759628154050485,1.8110300751879642,1.959664929262852,1.81741481481481,1.5640450375312662,1.6963756819953255,0.2028675400291127,0.2567003792667515,1.928689956331884,1.9712083024462583,1.9209651076466232,1.6024605678233323,1.5334833333333242,0.28150891632373093,0.3386261558784675,1.1765616561656111,1.9996184886280375,1.8938045891931945,2.0918685376661834,1.940110456553759,0.26682926829268283,0.2746332046332052,1.7185540334855411,1.9479190751445208,1.5272646822204246,1.5567574059247307,1.5474181264280178,0.33245524296675144,0.41517078916372097,1.8811347517730572,2.0040014316392396,1.631774076755971,2.0312607449856874,1.9815625000000117,0.2839237057220704,0.3106985294117649,1.8750071123755387,1.8938216560509682,1.880556328233671,1.8861095505618104,1.4681025248660988,0.2024395857307248,0.17431192660550537,0.5778783026421096,1.001815960912045,1.0394406130268141,1.1566817155756137,0.7669148936170189,0.3237282941777316,0.28049830124575326,0.5579026217228408,0.5822795497185689,0.7921800947867227,0.5590316205533542,0.6061691542288499,0.2891436865021778,0.29572569906791024,0.7291372141372118,0.9445774647887283,0.9758208955223844,0.8204399999999958,0.7336670293797599,0.3073027989821888,0.2521282051282056,0.6553830439223691,0.590173469387753,0.841946721311473,0.5356935817805356,0.37427771556550865,0.25543003851091184,0.2580645161290323,1.0005364995602406,1.1731355932203336,1.3631829573934793,1.1522279348757434,1.0039142857142804,0.44931740614334115,0.37577401129943266,1.055453752181494,1.1900255972696179,1.3685350877192926,1.1174586597040843,1.02408871745419,0.4260111111111084,0.37180985108820047,1.0535843920145131,1.1271441202475634,1.276829268292676,1.0963683753257967,0.9692003853564494,0.39701380175658674,0.3600243309002428,1.005482661668223,1.0837597911227086,1.231834532374093,1.041092745638196,0.9504995287464607,0.4322604422604405,0.3701863354037261,1.0261055505004488,1.1106985294117606,1.1843913435527442,1.0461847014925332,0.9369428007889505,0.383893805309734,0.3843419572553418,0.980966850828724,1.0465036231884004,1.1272744014732916,0.9809674329501875,0.6843936170212739,0.2919696969696975,0.21439929328621934,0.2957009345794396,0.4903424657534211,0.5287708066581283,0.5351498637602154,0.2684672619047625,0.1636538461538463,0.14567032967032983,0.39785478547854874,0.3519520547945215,0.2531841652323583,0.20213913043478285,0.16145383104125743,0.10481958762886608,0.08876606683804641,0.15029795158286777,0.19806620209059234,0.18180701754385964,0.1827037037037037,0.14712830957230147,0.09594005449591296,0.0777083333333334,0.13574311926605512,0.15868320610687026,0.1784473197781885,0.20028957528957525,0.16416837782340868,0.11845945945945964,0.11093506493506505,0.1594830659536542,0.2019887429643527,0.16580246913580254,0.12204158790170141,0.105922920892495,0.09844155844155852,0.10360335195530736,0.10141999999999998,0.10665280665280678,0.10245033112582796,0.09064516129032266,0.08994949494949502,0.09459375000000009,0.08486033519553074,0.09657314629258526,0.09188948306595378,0.0967102803738319,0.08709981167608295,0.09028865979381451,0.08684073107049615,0.07961904761904769,0.08616104868913865,0.08003496503496509,0.08873702422145328,0.08638260869565227,0.08976744186046522,0.08476772616136927,0.0782655246252677,0.08563478260869567,0.0858374792703152,0.09107563025210093,0.07670988654781209,0.08298676748582237,0.0736428571428572,0.06976034858387804,0.07955089820359287,0.07672256097560988,0.07952599388379213,0.08626198083067095,0.09029459901800335,0.07201565557729948,0.07258964143426302,0.08234270414993324,0.11810884353741506,0.40016581632652787,0.4851245085190015,0.5377431906614774,0.17556492411467106,0.16189189189189176,0.9607087486157232,1.0410182207931375,0.9965354330708631,1.4678947368420983,1.696998381877021,0.3536093943139664,0.29931034482758584,1.8467185069984424,1.949846508058334,1.96715701219513,1.982455871066779,1.9724729520865605,0.34219194312796075,0.31981277533039487,1.9259132420091356,1.9487177541729992,1.925116453794144,1.8946044776119406,1.9836594473487748,0.37400465657741433,0.3584146341463406,1.8386171003717475,1.9709219330855117,1.991054945054949,1.9490443942814206,1.9078353658536567,0.35739348370927304,0.26392405063291224,0.32865156418554425,1.7992266462480833,1.8531406844106455,1.7786564885496183,1.7973903177004564,0.352625570776254,0.326534334763947,1.790257575757575,1.824673668417102,1.8016266866566713,1.8113442867811829,1.8288650306748457,0.36656839622641313,0.3348758465011283,1.7451615326821932,1.7002536510376627,1.659120795107032,1.860708426547353,1.75722345953972,0.3763845223700103,0.3351942286348495,1.8426002865329532,1.7728318584070772,1.7894275092936816,1.5230792917628897,1.5627538586514957,0.35099045346061897,0.35052980132450184,1.6426947040498394,1.8108301599390693,1.7188284202569908,1.7846542750929353,1.7562058371735756,0.34508974358974376,0.30214906832298194,1.2394871794871734,1.1955137614678848,1.1866822867853746,1.1654162854528778,0.9059330628803227,0.34903100775193735,0.21151116951379884,1.0163760504201658,1.4637812789619962,1.5129899726526816,1.5185123966942071,1.6124040219378366,0.3201161290322589,0.29125842696629267,1.7105551272166515,1.713571428571425,1.7282483370288215,1.7751266308518774,1.6723225308641965,0.31689486552567275,0.3060520361990947,1.7269673405909762,1.619351230425052,1.6903122619954283,1.743255813953483,1.8386988847583634,0.36534999999999934,0.2788888888888897,1.4797353648756923,1.7562938105891093,1.8732479882955324,1.778237986270017,1.9021178225205042,0.40611990950226007,0.3725905598243687,1.7218003144654022,1.8533283693224079,1.9018856718633945,1.9237839879154062,1.964327354260087,0.7340904198062422,0.3961538461538442,1.691118935837239,1.7413234142521443,0.617234299516907,0.3639178082191786,0.2684358288770067,0.251931972789117,0.2977066356228183,1.7273240525908657,1.750658771280525,1.684161123429412,1.7379210134128102,1.7545941807044336,0.3887054631828967,0.3123245614035088,1.7066716641679098,1.746866566716635,1.7354761904761855,1.6980894617134128,1.7939730134932488,0.37374999999999914,0.3250168350168351,1.6075056348610037,1.6821092564491584,1.660783722682736,1.6233205521472316,1.2647433774834385,0.33194369973190513,0.28008928571428693,0.7431768953068599,0.645417721518987,0.25987012987013075,0.2359411764705878,0.18636803874091953,0.16021126760563364,0.16355704697986526,0.16167820069204134,0.16222024866785037,0.1647866419294986,0.16412667946257145],\"yaxis\":\"y4\"},{\"hovertemplate\":\"state=New Jersey<br>time=%{x}<br>pct_access=%{y}<extra></extra>\",\"legendgroup\":\"New Jersey\",\"line\":{\"color\":\"#00cc96\",\"dash\":\"solid\"},\"marker\":{\"symbol\":\"circle\"},\"mode\":\"lines\",\"name\":\"New Jersey\",\"showlegend\":true,\"type\":\"scattergl\",\"x\":[\"2020-01-01T00:00:00\",\"2020-01-02T00:00:00\",\"2020-01-03T00:00:00\",\"2020-01-04T00:00:00\",\"2020-01-05T00:00:00\",\"2020-01-06T00:00:00\",\"2020-01-07T00:00:00\",\"2020-01-08T00:00:00\",\"2020-01-09T00:00:00\",\"2020-01-10T00:00:00\",\"2020-01-11T00:00:00\",\"2020-01-12T00:00:00\",\"2020-01-13T00:00:00\",\"2020-01-14T00:00:00\",\"2020-01-15T00:00:00\",\"2020-01-16T00:00:00\",\"2020-01-17T00:00:00\",\"2020-01-18T00:00:00\",\"2020-01-19T00:00:00\",\"2020-01-20T00:00:00\",\"2020-01-21T00:00:00\",\"2020-01-22T00:00:00\",\"2020-01-23T00:00:00\",\"2020-01-24T00:00:00\",\"2020-01-25T00:00:00\",\"2020-01-26T00:00:00\",\"2020-01-27T00:00:00\",\"2020-01-28T00:00:00\",\"2020-01-29T00:00:00\",\"2020-01-30T00:00:00\",\"2020-01-31T00:00:00\",\"2020-02-01T00:00:00\",\"2020-02-02T00:00:00\",\"2020-02-03T00:00:00\",\"2020-02-04T00:00:00\",\"2020-02-05T00:00:00\",\"2020-02-06T00:00:00\",\"2020-02-07T00:00:00\",\"2020-02-08T00:00:00\",\"2020-02-09T00:00:00\",\"2020-02-10T00:00:00\",\"2020-02-11T00:00:00\",\"2020-02-12T00:00:00\",\"2020-02-13T00:00:00\",\"2020-02-14T00:00:00\",\"2020-02-15T00:00:00\",\"2020-02-16T00:00:00\",\"2020-02-17T00:00:00\",\"2020-02-18T00:00:00\",\"2020-02-19T00:00:00\",\"2020-02-20T00:00:00\",\"2020-02-21T00:00:00\",\"2020-02-22T00:00:00\",\"2020-02-23T00:00:00\",\"2020-02-24T00:00:00\",\"2020-02-25T00:00:00\",\"2020-02-26T00:00:00\",\"2020-02-27T00:00:00\",\"2020-02-28T00:00:00\",\"2020-02-29T00:00:00\",\"2020-03-01T00:00:00\",\"2020-03-02T00:00:00\",\"2020-03-03T00:00:00\",\"2020-03-04T00:00:00\",\"2020-03-05T00:00:00\",\"2020-03-06T00:00:00\",\"2020-03-07T00:00:00\",\"2020-03-08T00:00:00\",\"2020-03-09T00:00:00\",\"2020-03-10T00:00:00\",\"2020-03-11T00:00:00\",\"2020-03-12T00:00:00\",\"2020-03-13T00:00:00\",\"2020-03-14T00:00:00\",\"2020-03-15T00:00:00\",\"2020-03-16T00:00:00\",\"2020-03-17T00:00:00\",\"2020-03-18T00:00:00\",\"2020-03-19T00:00:00\",\"2020-03-20T00:00:00\",\"2020-03-21T00:00:00\",\"2020-03-22T00:00:00\",\"2020-03-23T00:00:00\",\"2020-03-24T00:00:00\",\"2020-03-25T00:00:00\",\"2020-03-26T00:00:00\",\"2020-03-27T00:00:00\",\"2020-03-28T00:00:00\",\"2020-03-29T00:00:00\",\"2020-03-30T00:00:00\",\"2020-03-31T00:00:00\",\"2020-04-01T00:00:00\",\"2020-04-02T00:00:00\",\"2020-04-03T00:00:00\",\"2020-04-04T00:00:00\",\"2020-04-05T00:00:00\",\"2020-04-06T00:00:00\",\"2020-04-07T00:00:00\",\"2020-04-08T00:00:00\",\"2020-04-09T00:00:00\",\"2020-04-10T00:00:00\",\"2020-04-11T00:00:00\",\"2020-04-12T00:00:00\",\"2020-04-13T00:00:00\",\"2020-04-14T00:00:00\",\"2020-04-15T00:00:00\",\"2020-04-16T00:00:00\",\"2020-04-17T00:00:00\",\"2020-04-18T00:00:00\",\"2020-04-19T00:00:00\",\"2020-04-20T00:00:00\",\"2020-04-21T00:00:00\",\"2020-04-22T00:00:00\",\"2020-04-23T00:00:00\",\"2020-04-24T00:00:00\",\"2020-04-25T00:00:00\",\"2020-04-26T00:00:00\",\"2020-04-27T00:00:00\",\"2020-04-28T00:00:00\",\"2020-04-29T00:00:00\",\"2020-04-30T00:00:00\",\"2020-05-01T00:00:00\",\"2020-05-02T00:00:00\",\"2020-05-03T00:00:00\",\"2020-05-04T00:00:00\",\"2020-05-05T00:00:00\",\"2020-05-06T00:00:00\",\"2020-05-07T00:00:00\",\"2020-05-08T00:00:00\",\"2020-05-09T00:00:00\",\"2020-05-10T00:00:00\",\"2020-05-11T00:00:00\",\"2020-05-12T00:00:00\",\"2020-05-13T00:00:00\",\"2020-05-14T00:00:00\",\"2020-05-15T00:00:00\",\"2020-05-16T00:00:00\",\"2020-05-17T00:00:00\",\"2020-05-18T00:00:00\",\"2020-05-19T00:00:00\",\"2020-05-20T00:00:00\",\"2020-05-21T00:00:00\",\"2020-05-22T00:00:00\",\"2020-05-23T00:00:00\",\"2020-05-24T00:00:00\",\"2020-05-25T00:00:00\",\"2020-05-26T00:00:00\",\"2020-05-27T00:00:00\",\"2020-05-28T00:00:00\",\"2020-05-29T00:00:00\",\"2020-05-30T00:00:00\",\"2020-05-31T00:00:00\",\"2020-06-01T00:00:00\",\"2020-06-02T00:00:00\",\"2020-06-03T00:00:00\",\"2020-06-04T00:00:00\",\"2020-06-05T00:00:00\",\"2020-06-06T00:00:00\",\"2020-06-07T00:00:00\",\"2020-06-08T00:00:00\",\"2020-06-09T00:00:00\",\"2020-06-10T00:00:00\",\"2020-06-11T00:00:00\",\"2020-06-12T00:00:00\",\"2020-06-13T00:00:00\",\"2020-06-14T00:00:00\",\"2020-06-15T00:00:00\",\"2020-06-16T00:00:00\",\"2020-06-17T00:00:00\",\"2020-06-18T00:00:00\",\"2020-06-19T00:00:00\",\"2020-06-20T00:00:00\",\"2020-06-21T00:00:00\",\"2020-06-22T00:00:00\",\"2020-06-23T00:00:00\",\"2020-06-24T00:00:00\",\"2020-06-25T00:00:00\",\"2020-06-26T00:00:00\",\"2020-06-27T00:00:00\",\"2020-06-28T00:00:00\",\"2020-06-29T00:00:00\",\"2020-06-30T00:00:00\",\"2020-07-01T00:00:00\",\"2020-07-02T00:00:00\",\"2020-07-03T00:00:00\",\"2020-07-04T00:00:00\",\"2020-07-05T00:00:00\",\"2020-07-06T00:00:00\",\"2020-07-07T00:00:00\",\"2020-07-08T00:00:00\",\"2020-07-09T00:00:00\",\"2020-07-10T00:00:00\",\"2020-07-11T00:00:00\",\"2020-07-12T00:00:00\",\"2020-07-13T00:00:00\",\"2020-07-14T00:00:00\",\"2020-07-15T00:00:00\",\"2020-07-16T00:00:00\",\"2020-07-17T00:00:00\",\"2020-07-18T00:00:00\",\"2020-07-19T00:00:00\",\"2020-07-20T00:00:00\",\"2020-07-21T00:00:00\",\"2020-07-22T00:00:00\",\"2020-07-23T00:00:00\",\"2020-07-24T00:00:00\",\"2020-07-25T00:00:00\",\"2020-07-26T00:00:00\",\"2020-07-27T00:00:00\",\"2020-07-28T00:00:00\",\"2020-07-29T00:00:00\",\"2020-07-30T00:00:00\",\"2020-07-31T00:00:00\",\"2020-08-01T00:00:00\",\"2020-08-02T00:00:00\",\"2020-08-03T00:00:00\",\"2020-08-04T00:00:00\",\"2020-08-05T00:00:00\",\"2020-08-06T00:00:00\",\"2020-08-07T00:00:00\",\"2020-08-08T00:00:00\",\"2020-08-09T00:00:00\",\"2020-08-10T00:00:00\",\"2020-08-11T00:00:00\",\"2020-08-12T00:00:00\",\"2020-08-13T00:00:00\",\"2020-08-14T00:00:00\",\"2020-08-15T00:00:00\",\"2020-08-16T00:00:00\",\"2020-08-17T00:00:00\",\"2020-08-18T00:00:00\",\"2020-08-19T00:00:00\",\"2020-08-20T00:00:00\",\"2020-08-21T00:00:00\",\"2020-08-22T00:00:00\",\"2020-08-23T00:00:00\",\"2020-08-24T00:00:00\",\"2020-08-25T00:00:00\",\"2020-08-26T00:00:00\",\"2020-08-27T00:00:00\",\"2020-08-28T00:00:00\",\"2020-08-29T00:00:00\",\"2020-08-30T00:00:00\",\"2020-08-31T00:00:00\",\"2020-09-01T00:00:00\",\"2020-09-02T00:00:00\",\"2020-09-03T00:00:00\",\"2020-09-04T00:00:00\",\"2020-09-05T00:00:00\",\"2020-09-06T00:00:00\",\"2020-09-07T00:00:00\",\"2020-09-08T00:00:00\",\"2020-09-09T00:00:00\",\"2020-09-10T00:00:00\",\"2020-09-11T00:00:00\",\"2020-09-12T00:00:00\",\"2020-09-13T00:00:00\",\"2020-09-14T00:00:00\",\"2020-09-15T00:00:00\",\"2020-09-16T00:00:00\",\"2020-09-17T00:00:00\",\"2020-09-18T00:00:00\",\"2020-09-19T00:00:00\",\"2020-09-20T00:00:00\",\"2020-09-21T00:00:00\",\"2020-09-22T00:00:00\",\"2020-09-23T00:00:00\",\"2020-09-24T00:00:00\",\"2020-09-25T00:00:00\",\"2020-09-26T00:00:00\",\"2020-09-27T00:00:00\",\"2020-09-28T00:00:00\",\"2020-09-29T00:00:00\",\"2020-09-30T00:00:00\",\"2020-10-01T00:00:00\",\"2020-10-02T00:00:00\",\"2020-10-03T00:00:00\",\"2020-10-04T00:00:00\",\"2020-10-05T00:00:00\",\"2020-10-06T00:00:00\",\"2020-10-07T00:00:00\",\"2020-10-08T00:00:00\",\"2020-10-09T00:00:00\",\"2020-10-10T00:00:00\",\"2020-10-11T00:00:00\",\"2020-10-12T00:00:00\",\"2020-10-13T00:00:00\",\"2020-10-14T00:00:00\",\"2020-10-15T00:00:00\",\"2020-10-16T00:00:00\",\"2020-10-17T00:00:00\",\"2020-10-18T00:00:00\",\"2020-10-19T00:00:00\",\"2020-10-20T00:00:00\",\"2020-10-21T00:00:00\",\"2020-10-22T00:00:00\",\"2020-10-23T00:00:00\",\"2020-10-24T00:00:00\",\"2020-10-25T00:00:00\",\"2020-10-26T00:00:00\",\"2020-10-27T00:00:00\",\"2020-10-28T00:00:00\",\"2020-10-29T00:00:00\",\"2020-10-30T00:00:00\",\"2020-10-31T00:00:00\",\"2020-11-01T00:00:00\",\"2020-11-02T00:00:00\",\"2020-11-03T00:00:00\",\"2020-11-04T00:00:00\",\"2020-11-05T00:00:00\",\"2020-11-06T00:00:00\",\"2020-11-07T00:00:00\",\"2020-11-08T00:00:00\",\"2020-11-09T00:00:00\",\"2020-11-10T00:00:00\",\"2020-11-11T00:00:00\",\"2020-11-12T00:00:00\",\"2020-11-13T00:00:00\",\"2020-11-14T00:00:00\",\"2020-11-15T00:00:00\",\"2020-11-16T00:00:00\",\"2020-11-17T00:00:00\",\"2020-11-18T00:00:00\",\"2020-11-19T00:00:00\",\"2020-11-20T00:00:00\",\"2020-11-21T00:00:00\",\"2020-11-22T00:00:00\",\"2020-11-23T00:00:00\",\"2020-11-24T00:00:00\",\"2020-11-25T00:00:00\",\"2020-11-26T00:00:00\",\"2020-11-27T00:00:00\",\"2020-11-28T00:00:00\",\"2020-11-29T00:00:00\",\"2020-11-30T00:00:00\",\"2020-12-01T00:00:00\",\"2020-12-02T00:00:00\",\"2020-12-03T00:00:00\",\"2020-12-04T00:00:00\",\"2020-12-05T00:00:00\",\"2020-12-06T00:00:00\",\"2020-12-07T00:00:00\",\"2020-12-08T00:00:00\",\"2020-12-09T00:00:00\",\"2020-12-10T00:00:00\",\"2020-12-11T00:00:00\",\"2020-12-12T00:00:00\",\"2020-12-13T00:00:00\",\"2020-12-14T00:00:00\",\"2020-12-15T00:00:00\",\"2020-12-16T00:00:00\",\"2020-12-17T00:00:00\",\"2020-12-18T00:00:00\",\"2020-12-19T00:00:00\",\"2020-12-20T00:00:00\",\"2020-12-21T00:00:00\",\"2020-12-22T00:00:00\",\"2020-12-23T00:00:00\",\"2020-12-24T00:00:00\",\"2020-12-25T00:00:00\",\"2020-12-26T00:00:00\",\"2020-12-27T00:00:00\",\"2020-12-28T00:00:00\",\"2020-12-29T00:00:00\",\"2020-12-30T00:00:00\",\"2020-12-31T00:00:00\"],\"xaxis\":\"x3\",\"y\":[0.05618055555555547,1.0909748427672965,1.0998208955223887,0.1488888888888889,0.1887254901960784,1.145122699386504,1.2196187683284467,1.4123880597014937,1.273353115727004,1.1433855799373052,0.15692771084337342,0.1728426395939086,1.1250588235294134,1.1676246334310862,1.2039209726443776,1.2669552238805974,1.3571036585365863,0.14594285714285712,0.13311111111111099,0.18709523809523815,1.0316207951070344,1.245683890577509,1.242551928783383,1.3228482972136228,0.15952127659574464,0.24276497695852536,1.3408902077151346,1.2821958456973301,1.3539701492537317,1.1198529411764708,1.0504242424242438,0.15854271356783917,0.24417525773195856,1.1030030030030034,1.2749408284023696,1.1211661807580187,1.2437352941176478,1.197559523809525,0.17732558139534868,0.2553301886792449,1.2418421052631592,1.3354310344827607,1.1748985507246392,1.3598022598870076,1.0286477987421394,0.10881987577639739,0.10268456375838918,0.1034972677595627,0.6661510791366907,0.7200367647058826,0.7661130742049472,0.6954826254826251,0.11532608695652162,0.15237864077669885,1.0046355685131212,1.1947536231884068,1.1572644376899706,1.1804191616766486,1.092358208955226,0.12120418848167523,0.15398268398268378,1.1468621700879778,1.275213675213676,1.2759710144927556,1.2010115606936433,1.0667448680351916,0.13056994818652834,0.14943127962085306,0.9539255014326657,1.0638202247191024,0.8290397350993375,0.9709455587392574,1.0015902140672794,0.2556378600823042,0.2144569288389513,0.8781818181818194,0.8336927223719693,0.8349859154929589,0.8549868073878643,0.8969747899159676,0.2850965250965249,0.23108695652173883,1.0127882037533529,0.9377808219178088,0.9007631578947376,0.7826684636118606,0.8281440443213308,0.32384328358208914,0.2281849315068492,0.5799728260869567,1.222973684210525,1.1604199475065595,1.1688297872340419,0.9359999999999997,0.3577042801556421,0.23100746268656697,0.4898559077809812,0.5143988269794729,0.4960518731988484,0.3759752321981431,0.18580071174377222,0.17336206896551695,0.21583732057416244,0.9818327974276518,0.9670793650793647,0.9566349206349201,0.9731563421828905,0.8048611111111116,0.2651209677419354,0.23873605947955368,1.088826530612244,1.0616120906800997,1.001455847255369,1.1012373737373733,0.8040443213296399,0.26326848249027246,0.25322580645161297,1.0611793611793596,1.0327664974619288,1.0249999999999984,1.0061386138613857,0.7107272727272725,0.20995850622406625,0.19153256704980823,1.0815025906735751,1.0803100775193792,1.066589147286821,1.0430788804071232,0.7502133333333332,0.25251908396946554,0.23163716814159263,1.0243980343980337,1.024747474747475,1.0611855670103092,1.083552631578947,0.7195628415300547,0.2500833333333332,0.20327067669172916,1.0337595907928385,0.9915306122448976,1.0038157894736839,0.9515957446808513,0.4518553459119506,0.21169354838709661,0.17009708737864057,0.15399224806201525,0.9558205128205126,0.9657963446475192,1.0133074935400512,0.7201101928374655,0.24606741573033714,0.21935361216730012,0.944120603015075,0.9295061728395061,0.9273012048192768,0.8888354430379743,0.6139733333333341,0.21021008403361327,0.19495867768595015,0.9108312342569267,0.831481481481481,0.9134391534391532,0.9199216710182764,0.6253448275862074,0.2161160714285713,0.19107883817427365,0.8310989010989012,0.8288700564971752,0.8647462686567171,0.8416513761467885,0.5706115107913675,0.2120197044334973,0.19728723404255302,0.3432567049808432,0.17927601809954757,0.16019512195121943,0.139764150943396,0.12394495412844021,0.1185245901639343,0.11450292397660804,0.13424489795918357,0.14595555555555553,0.1492201834862385,0.14995575221238933,0.14050847457627103,0.11959999999999985,0.11683615819209021,0.15461864406779666,0.14390041493775926,0.15245833333333333,0.1436554621848739,0.13267605633802815,0.10167664670658673,0.09760233918128645,0.15447963800904974,0.13614107883817428,0.13317991631799164,0.1428879310344827,0.11851851851851834,0.08633333333333325,0.09828220858895695,0.1360698689956331,0.13843621399176942,0.14186666666666656,0.1351541850220263,0.12736111111111084,0.10954838709677406,0.09848101265822774,0.14269058295964118,0.13749999999999998,0.1433189655172413,0.12731914893617002,0.10712446351931311,0.10847560975609742,0.09887096774193538,0.12688888888888872,0.12234782608695631,0.10771573604060902,0.11560538116591913,0.11534246575342451,0.08965909090909084,0.08045751633986921,0.1088259109311739,0.11515283842794746,0.11792626728110575,0.1040517241379309,0.08663716814159281,0.07621951219512188,0.08046874999999996,0.09482905982905973,0.09884444444444435,0.0925210084033612,0.0943255813953487,0.08093749999999988,0.08251533742331284,0.0670526315789473,0.09239495798319317,0.09302631578947351,0.10246753246753233,0.10579591836734696,0.0934955752212388,0.09435406698564579,0.08339999999999989,0.10466666666666669,0.11615384615384625,0.12391003460207616,0.17440860215053766,0.15685823754789271,0.12178260869565237,0.12432203389830518,0.20141414141414138,0.6252396166134188,0.6072274143302191,0.6003592814371261,0.628548895899053,0.19265625000000008,0.21950166112956837,0.9382729805013922,1.2509762532981517,1.1777188328912458,1.1457812499999978,1.2507901907356942,0.23146718146718165,0.24684887459807087,1.1553580901856744,1.1769656992084403,1.2779792746113978,1.1786876640419934,1.298787061994608,0.22698039215686305,0.19921259842519703,0.23865030674846646,1.136994818652848,1.1583585858585834,1.1725066666666657,1.173477088948785,0.2500000000000003,0.2768384879725086,1.2007692307692288,1.1891025641025623,1.1663909774436072,1.1753431372549,1.1849740932642474,0.23370629370629387,0.29006711409395974,1.0962827225130884,1.1621975308641963,1.2609547738693458,1.1585607940446643,1.191936274509803,0.4844755244755241,0.27726973684210526,1.0966419753086412,1.15486215538847,1.1831435643564343,1.1795728643216066,1.1637135922330086,0.25892592592592595,0.3163175675675675,1.1206632653061217,1.1393233082706749,1.18969194312796,1.1531941031941018,1.2304960835509122,0.23926923076923098,0.27517006802721083,1.067474999999999,0.8113821138211372,1.072896039603959,0.6821114369501458,0.674367469879517,0.2968821292775667,0.24596091205211743,1.0769638554216852,1.1643283582089545,1.2216267942583716,1.1207216494845347,1.2305741626794242,0.24692883895131104,0.2689508196721312,1.0697974683544287,1.1746172839506155,1.2375721153846142,1.2607560975609742,1.322857142857142,0.3892691029900334,0.316963696369637,1.0721914357682614,1.2267758186397975,0.4289677419354835,0.2951652892561985,0.20815126050420177,0.20360153256705005,0.21688581314878919,1.0742278481012646,1.0979951100244485,1.140075187969924,1.1457701711491435,1.132392947103273,0.2913028169014085,0.31664495114006513,1.1271078431372537,1.1811822660098514,1.1022062350119892,1.1996259351620946,1.1323514851485148,0.2795876288659792,0.2957770270270271,1.1171912832929778,1.0536945812807879,1.190481927710842,1.0558928571428563,1.212839805825242,0.2719649122807017,0.3138869257950531,1.183165467625899,1.158655256723716,0.9416011235955051,0.24865470852017982,0.1922807017543858,0.1745251396648043,0.14816326530612223,0.1531221719457014,0.14635555555555563,0.14468749999999983,0.14478873239436602],\"yaxis\":\"y3\"},{\"hovertemplate\":\"state=New York<br>time=%{x}<br>pct_access=%{y}<extra></extra>\",\"legendgroup\":\"New York\",\"line\":{\"color\":\"#ab63fa\",\"dash\":\"solid\"},\"marker\":{\"symbol\":\"circle\"},\"mode\":\"lines\",\"name\":\"New York\",\"showlegend\":true,\"type\":\"scattergl\",\"x\":[\"2020-01-01T00:00:00\",\"2020-01-02T00:00:00\",\"2020-01-03T00:00:00\",\"2020-01-04T00:00:00\",\"2020-01-05T00:00:00\",\"2020-01-06T00:00:00\",\"2020-01-07T00:00:00\",\"2020-01-08T00:00:00\",\"2020-01-09T00:00:00\",\"2020-01-10T00:00:00\",\"2020-01-11T00:00:00\",\"2020-01-12T00:00:00\",\"2020-01-13T00:00:00\",\"2020-01-14T00:00:00\",\"2020-01-15T00:00:00\",\"2020-01-16T00:00:00\",\"2020-01-17T00:00:00\",\"2020-01-18T00:00:00\",\"2020-01-19T00:00:00\",\"2020-01-20T00:00:00\",\"2020-01-21T00:00:00\",\"2020-01-22T00:00:00\",\"2020-01-23T00:00:00\",\"2020-01-24T00:00:00\",\"2020-01-25T00:00:00\",\"2020-01-26T00:00:00\",\"2020-01-27T00:00:00\",\"2020-01-28T00:00:00\",\"2020-01-29T00:00:00\",\"2020-01-30T00:00:00\",\"2020-01-31T00:00:00\",\"2020-02-01T00:00:00\",\"2020-02-02T00:00:00\",\"2020-02-03T00:00:00\",\"2020-02-04T00:00:00\",\"2020-02-05T00:00:00\",\"2020-02-06T00:00:00\",\"2020-02-07T00:00:00\",\"2020-02-08T00:00:00\",\"2020-02-09T00:00:00\",\"2020-02-10T00:00:00\",\"2020-02-11T00:00:00\",\"2020-02-12T00:00:00\",\"2020-02-13T00:00:00\",\"2020-02-14T00:00:00\",\"2020-02-15T00:00:00\",\"2020-02-16T00:00:00\",\"2020-02-17T00:00:00\",\"2020-02-18T00:00:00\",\"2020-02-19T00:00:00\",\"2020-02-20T00:00:00\",\"2020-02-21T00:00:00\",\"2020-02-22T00:00:00\",\"2020-02-23T00:00:00\",\"2020-02-24T00:00:00\",\"2020-02-25T00:00:00\",\"2020-02-26T00:00:00\",\"2020-02-27T00:00:00\",\"2020-02-28T00:00:00\",\"2020-02-29T00:00:00\",\"2020-03-01T00:00:00\",\"2020-03-02T00:00:00\",\"2020-03-03T00:00:00\",\"2020-03-04T00:00:00\",\"2020-03-05T00:00:00\",\"2020-03-06T00:00:00\",\"2020-03-07T00:00:00\",\"2020-03-08T00:00:00\",\"2020-03-09T00:00:00\",\"2020-03-10T00:00:00\",\"2020-03-11T00:00:00\",\"2020-03-12T00:00:00\",\"2020-03-13T00:00:00\",\"2020-03-14T00:00:00\",\"2020-03-15T00:00:00\",\"2020-03-16T00:00:00\",\"2020-03-17T00:00:00\",\"2020-03-18T00:00:00\",\"2020-03-19T00:00:00\",\"2020-03-20T00:00:00\",\"2020-03-21T00:00:00\",\"2020-03-22T00:00:00\",\"2020-03-23T00:00:00\",\"2020-03-24T00:00:00\",\"2020-03-25T00:00:00\",\"2020-03-26T00:00:00\",\"2020-03-27T00:00:00\",\"2020-03-28T00:00:00\",\"2020-03-29T00:00:00\",\"2020-03-30T00:00:00\",\"2020-03-31T00:00:00\",\"2020-04-01T00:00:00\",\"2020-04-02T00:00:00\",\"2020-04-03T00:00:00\",\"2020-04-04T00:00:00\",\"2020-04-05T00:00:00\",\"2020-04-06T00:00:00\",\"2020-04-07T00:00:00\",\"2020-04-08T00:00:00\",\"2020-04-09T00:00:00\",\"2020-04-10T00:00:00\",\"2020-04-11T00:00:00\",\"2020-04-12T00:00:00\",\"2020-04-13T00:00:00\",\"2020-04-14T00:00:00\",\"2020-04-15T00:00:00\",\"2020-04-16T00:00:00\",\"2020-04-17T00:00:00\",\"2020-04-18T00:00:00\",\"2020-04-19T00:00:00\",\"2020-04-20T00:00:00\",\"2020-04-21T00:00:00\",\"2020-04-22T00:00:00\",\"2020-04-23T00:00:00\",\"2020-04-24T00:00:00\",\"2020-04-25T00:00:00\",\"2020-04-26T00:00:00\",\"2020-04-27T00:00:00\",\"2020-04-28T00:00:00\",\"2020-04-29T00:00:00\",\"2020-04-30T00:00:00\",\"2020-05-01T00:00:00\",\"2020-05-02T00:00:00\",\"2020-05-03T00:00:00\",\"2020-05-04T00:00:00\",\"2020-05-05T00:00:00\",\"2020-05-06T00:00:00\",\"2020-05-07T00:00:00\",\"2020-05-08T00:00:00\",\"2020-05-09T00:00:00\",\"2020-05-10T00:00:00\",\"2020-05-11T00:00:00\",\"2020-05-12T00:00:00\",\"2020-05-13T00:00:00\",\"2020-05-14T00:00:00\",\"2020-05-15T00:00:00\",\"2020-05-16T00:00:00\",\"2020-05-17T00:00:00\",\"2020-05-18T00:00:00\",\"2020-05-19T00:00:00\",\"2020-05-20T00:00:00\",\"2020-05-21T00:00:00\",\"2020-05-22T00:00:00\",\"2020-05-23T00:00:00\",\"2020-05-24T00:00:00\",\"2020-05-25T00:00:00\",\"2020-05-26T00:00:00\",\"2020-05-27T00:00:00\",\"2020-05-28T00:00:00\",\"2020-05-29T00:00:00\",\"2020-05-30T00:00:00\",\"2020-05-31T00:00:00\",\"2020-06-01T00:00:00\",\"2020-06-02T00:00:00\",\"2020-06-03T00:00:00\",\"2020-06-04T00:00:00\",\"2020-06-05T00:00:00\",\"2020-06-06T00:00:00\",\"2020-06-07T00:00:00\",\"2020-06-08T00:00:00\",\"2020-06-09T00:00:00\",\"2020-06-10T00:00:00\",\"2020-06-11T00:00:00\",\"2020-06-12T00:00:00\",\"2020-06-13T00:00:00\",\"2020-06-14T00:00:00\",\"2020-06-15T00:00:00\",\"2020-06-16T00:00:00\",\"2020-06-17T00:00:00\",\"2020-06-18T00:00:00\",\"2020-06-19T00:00:00\",\"2020-06-20T00:00:00\",\"2020-06-21T00:00:00\",\"2020-06-22T00:00:00\",\"2020-06-23T00:00:00\",\"2020-06-24T00:00:00\",\"2020-06-25T00:00:00\",\"2020-06-26T00:00:00\",\"2020-06-27T00:00:00\",\"2020-06-28T00:00:00\",\"2020-06-29T00:00:00\",\"2020-06-30T00:00:00\",\"2020-07-01T00:00:00\",\"2020-07-02T00:00:00\",\"2020-07-03T00:00:00\",\"2020-07-04T00:00:00\",\"2020-07-05T00:00:00\",\"2020-07-06T00:00:00\",\"2020-07-07T00:00:00\",\"2020-07-08T00:00:00\",\"2020-07-09T00:00:00\",\"2020-07-10T00:00:00\",\"2020-07-11T00:00:00\",\"2020-07-12T00:00:00\",\"2020-07-13T00:00:00\",\"2020-07-14T00:00:00\",\"2020-07-15T00:00:00\",\"2020-07-16T00:00:00\",\"2020-07-17T00:00:00\",\"2020-07-18T00:00:00\",\"2020-07-19T00:00:00\",\"2020-07-20T00:00:00\",\"2020-07-21T00:00:00\",\"2020-07-22T00:00:00\",\"2020-07-23T00:00:00\",\"2020-07-24T00:00:00\",\"2020-07-25T00:00:00\",\"2020-07-26T00:00:00\",\"2020-07-27T00:00:00\",\"2020-07-28T00:00:00\",\"2020-07-29T00:00:00\",\"2020-07-30T00:00:00\",\"2020-07-31T00:00:00\",\"2020-08-01T00:00:00\",\"2020-08-02T00:00:00\",\"2020-08-03T00:00:00\",\"2020-08-04T00:00:00\",\"2020-08-05T00:00:00\",\"2020-08-06T00:00:00\",\"2020-08-07T00:00:00\",\"2020-08-08T00:00:00\",\"2020-08-09T00:00:00\",\"2020-08-10T00:00:00\",\"2020-08-11T00:00:00\",\"2020-08-12T00:00:00\",\"2020-08-13T00:00:00\",\"2020-08-14T00:00:00\",\"2020-08-15T00:00:00\",\"2020-08-16T00:00:00\",\"2020-08-17T00:00:00\",\"2020-08-18T00:00:00\",\"2020-08-19T00:00:00\",\"2020-08-20T00:00:00\",\"2020-08-21T00:00:00\",\"2020-08-22T00:00:00\",\"2020-08-23T00:00:00\",\"2020-08-24T00:00:00\",\"2020-08-25T00:00:00\",\"2020-08-26T00:00:00\",\"2020-08-27T00:00:00\",\"2020-08-28T00:00:00\",\"2020-08-29T00:00:00\",\"2020-08-30T00:00:00\",\"2020-08-31T00:00:00\",\"2020-09-01T00:00:00\",\"2020-09-02T00:00:00\",\"2020-09-03T00:00:00\",\"2020-09-04T00:00:00\",\"2020-09-05T00:00:00\",\"2020-09-06T00:00:00\",\"2020-09-07T00:00:00\",\"2020-09-08T00:00:00\",\"2020-09-09T00:00:00\",\"2020-09-10T00:00:00\",\"2020-09-11T00:00:00\",\"2020-09-12T00:00:00\",\"2020-09-13T00:00:00\",\"2020-09-14T00:00:00\",\"2020-09-15T00:00:00\",\"2020-09-16T00:00:00\",\"2020-09-17T00:00:00\",\"2020-09-18T00:00:00\",\"2020-09-19T00:00:00\",\"2020-09-20T00:00:00\",\"2020-09-21T00:00:00\",\"2020-09-22T00:00:00\",\"2020-09-23T00:00:00\",\"2020-09-24T00:00:00\",\"2020-09-25T00:00:00\",\"2020-09-26T00:00:00\",\"2020-09-27T00:00:00\",\"2020-09-28T00:00:00\",\"2020-09-29T00:00:00\",\"2020-09-30T00:00:00\",\"2020-10-01T00:00:00\",\"2020-10-02T00:00:00\",\"2020-10-03T00:00:00\",\"2020-10-04T00:00:00\",\"2020-10-05T00:00:00\",\"2020-10-06T00:00:00\",\"2020-10-07T00:00:00\",\"2020-10-08T00:00:00\",\"2020-10-09T00:00:00\",\"2020-10-10T00:00:00\",\"2020-10-11T00:00:00\",\"2020-10-12T00:00:00\",\"2020-10-13T00:00:00\",\"2020-10-14T00:00:00\",\"2020-10-15T00:00:00\",\"2020-10-16T00:00:00\",\"2020-10-17T00:00:00\",\"2020-10-18T00:00:00\",\"2020-10-19T00:00:00\",\"2020-10-20T00:00:00\",\"2020-10-21T00:00:00\",\"2020-10-22T00:00:00\",\"2020-10-23T00:00:00\",\"2020-10-24T00:00:00\",\"2020-10-25T00:00:00\",\"2020-10-26T00:00:00\",\"2020-10-27T00:00:00\",\"2020-10-28T00:00:00\",\"2020-10-29T00:00:00\",\"2020-10-30T00:00:00\",\"2020-10-31T00:00:00\",\"2020-11-01T00:00:00\",\"2020-11-02T00:00:00\",\"2020-11-03T00:00:00\",\"2020-11-04T00:00:00\",\"2020-11-05T00:00:00\",\"2020-11-06T00:00:00\",\"2020-11-07T00:00:00\",\"2020-11-08T00:00:00\",\"2020-11-09T00:00:00\",\"2020-11-10T00:00:00\",\"2020-11-11T00:00:00\",\"2020-11-12T00:00:00\",\"2020-11-13T00:00:00\",\"2020-11-14T00:00:00\",\"2020-11-15T00:00:00\",\"2020-11-16T00:00:00\",\"2020-11-17T00:00:00\",\"2020-11-18T00:00:00\",\"2020-11-19T00:00:00\",\"2020-11-20T00:00:00\",\"2020-11-21T00:00:00\",\"2020-11-22T00:00:00\",\"2020-11-23T00:00:00\",\"2020-11-24T00:00:00\",\"2020-11-25T00:00:00\",\"2020-11-26T00:00:00\",\"2020-11-27T00:00:00\",\"2020-11-28T00:00:00\",\"2020-11-29T00:00:00\",\"2020-11-30T00:00:00\",\"2020-12-01T00:00:00\",\"2020-12-02T00:00:00\",\"2020-12-03T00:00:00\",\"2020-12-04T00:00:00\",\"2020-12-05T00:00:00\",\"2020-12-06T00:00:00\",\"2020-12-07T00:00:00\",\"2020-12-08T00:00:00\",\"2020-12-09T00:00:00\",\"2020-12-10T00:00:00\",\"2020-12-11T00:00:00\",\"2020-12-12T00:00:00\",\"2020-12-13T00:00:00\",\"2020-12-14T00:00:00\",\"2020-12-15T00:00:00\",\"2020-12-16T00:00:00\",\"2020-12-17T00:00:00\",\"2020-12-18T00:00:00\",\"2020-12-19T00:00:00\",\"2020-12-20T00:00:00\",\"2020-12-21T00:00:00\",\"2020-12-22T00:00:00\",\"2020-12-23T00:00:00\",\"2020-12-24T00:00:00\",\"2020-12-25T00:00:00\",\"2020-12-26T00:00:00\",\"2020-12-27T00:00:00\",\"2020-12-28T00:00:00\",\"2020-12-29T00:00:00\",\"2020-12-30T00:00:00\",\"2020-12-31T00:00:00\"],\"xaxis\":\"x2\",\"y\":[0.23363636363636361,0.34379310344827596,0.3328571428571428,0.44593750000000004,0.4393478260869567,1.5957894736842086,1.7385496183206097,1.9933587786259508,2.0926771653543272,2.238205128205126,0.4151515151515152,0.5806666666666669,2.082196969696967,2.291759999999998,1.8778195488721785,2.2938461538461508,2.602975206611567,0.4233333333333334,0.46454545454545476,0.6301818181818184,2.0537499999999973,1.6965540540540514,2.0045967741935455,1.871809523809522,0.4505128205128207,0.42095238095238113,2.1746218487394935,2.2538658146964816,2.350584269662916,2.3154439252336383,2.289441340782124,0.3186098654708525,0.4481274900398411,1.870211640211638,1.895946902654865,1.8134020618556659,1.4307334963325171,1.0182000000000013,0.2669325153374232,0.38053398058252413,1.7151089108910862,1.9107034220532273,1.8334397163120517,1.7295393474088276,1.2438940092165909,0.23204545454545444,0.17804511278195495,0.2007586206896552,0.9448962655601659,0.8770517928286855,0.8495510204081635,0.6835937499999999,0.2534146341463414,0.30146666666666694,1.7066427289048438,1.8369948186528473,1.7522671353251282,2.3861307420494677,1.8485544217687087,0.3052513966480448,0.42258620689655163,1.801939849624054,1.8928695652173908,1.8113293051359494,1.7959484066767801,1.6444162436548193,0.24956310679611662,0.34347014925373154,1.5543607954545413,1.7768136557610255,1.7210496453900692,1.9630745814307455,2.011827057182708,0.6950133333333334,0.5378863636363632,1.3744462025316433,1.6019398496240584,2.0394219653179206,1.973805825242716,1.931103896103896,0.9074705882352924,0.7963696369636944,1.878635514018688,1.8792592592592567,1.835669291338579,1.7453710937499969,1.6962055335968342,0.7228260869565191,0.6465819209039532,1.7574712643678145,1.7977220077220042,1.707472118959104,1.7107352941176437,1.7354389312977074,0.7239016393442606,0.5633647798742124,1.8892445328031777,1.6606883365200729,1.7376516634050851,1.5906072106261826,1.3830285714285688,0.6691489361702111,0.5476712328767112,1.7279061371841125,1.8539028776978397,1.8798113207547127,1.736590909090905,1.6238202247190976,0.7488795518207255,0.5942777777777765,1.8708536585365836,1.8393825042881637,1.9170973451327427,1.8646071428571398,1.701798165137611,0.6903726708074515,0.7002133333333315,1.903551088777218,1.9550089445438286,1.8906360424028255,1.8855729166666673,1.7897191011235927,0.7149514563106772,0.5969078947368407,1.8945580589254756,1.9210815602836864,1.9466849816849798,1.9171349353049871,1.6737090909090866,0.7086538461538444,0.6281410256410244,1.8079530201342269,1.817928571428568,1.824981751824814,1.8217992424242377,1.6846449136276354,0.6907324840764312,0.6189156626506005,1.8524236983841968,1.7564074074074028,1.7411401869158845,1.7770693069306884,1.5336322869955137,0.6760777385158994,0.591483050847457,0.6322647058823511,1.6514132379248614,1.6577034358046996,1.7736501901140653,1.562956685499055,0.7124999999999976,0.5799681528662404,1.6011594202898518,1.6264716981132052,1.6141088180112555,1.583448275862066,1.4955696202531623,0.6652631578947351,0.5729559748427652,1.482352941176467,1.5314115308151057,1.4489390962671882,1.4545328031809117,1.2701670146137758,0.6163999999999995,0.5558167330677285,1.2510904872389768,1.124600550964185,0.8589595375722526,0.6970588235294108,0.5422352941176463,0.3243703703703707,0.24480000000000013,0.2514553990610331,0.22577092511013236,0.2164321608040202,0.22677777777777786,0.20871165644171785,0.2494214876033059,0.1885714285714287,0.19258883248730974,0.19116161616161623,0.18363636363636382,0.20039325842696634,0.22729166666666678,0.2076363636363637,0.20079646017699115,0.1825728155339807,0.1785572139303484,0.1859900990099011,0.17184331797235025,0.21295081967213125,0.23533333333333342,0.2195348837209303,0.1798122065727701,0.1836585365853659,0.1622950819672132,0.17584541062801928,0.15113402061855674,0.2069105691056911,0.1851162790697675,0.1563181818181819,0.17368421052631586,0.14954918032786899,0.15000000000000008,0.1375392670157069,0.1518320610687023,0.15757575757575765,0.13828451882845194,0.1557268722466961,0.14210526315789476,0.12133603238866401,0.15680000000000005,0.16370629370629372,0.15496240601503766,0.12048000000000003,0.11805447470817128,0.12030418250950578,0.10140794223826718,0.12454545454545458,0.15384057971014495,0.12690789473684214,0.10688172043010759,0.11083333333333341,0.10506024096385548,0.11689814814814817,0.12341463414634146,0.1447887323943662,0.1422972972972973,0.09656603773584906,0.09273469387755101,0.10258964143426295,0.12863207547169814,0.10850515463917526,0.1289922480620155,0.13295597484276733,0.12315555555555563,0.11800000000000006,0.12540322580645166,0.13103448275862078,0.14288209606986899,0.12034825870646765,0.11401098901098904,0.15265306122448988,0.14542124542124554,0.1762369337979096,0.1609893992932863,0.17160869565217407,0.20581081081081096,0.163431952662722,0.19717948717948733,0.3051373626373625,1.0012020460358042,1.0508658008657996,1.2874528301886778,0.4194636015325667,0.6530860534124625,2.4123562152133653,2.5263254113345606,2.270976430976423,2.459544658493862,2.0309274873524417,0.5160714285714283,0.5520467836257312,2.164624183006531,2.3353511705685563,1.859814126394054,2.2640123456790153,2.0680081300813025,0.46172566371681323,0.43719101123595455,1.6879074889867882,2.0858167330677326,2.1078427419354853,2.0527626459143984,1.9704684317718986,0.4676666666666664,0.4929209621993123,2.054813278008301,2.1017684210526366,1.8792181069958878,1.671491841491846,1.6051716738197466,0.48621004566210047,0.43964467005076047,0.5559595959595955,1.993784313725492,1.9041618497109871,2.0441365461847414,1.9228433268858824,0.9517391304347822,0.48404458598726136,1.9384859813084137,1.9428545119705354,1.9339664804469303,1.9760747663551432,1.8911645101663601,0.476678445229682,0.468047138047138,1.9630581613508462,1.9694095238095262,1.8556834532374125,1.975202312138729,1.8555353535353567,0.4501659751037344,0.42428994082840255,1.8787615526802253,1.9372251308900514,1.7272916666666698,1.9635160680529335,1.8999268738574049,0.4614383561643833,0.4690397350993378,1.8926892430278912,2.131269531250002,1.2375063613231574,1.9768411214953285,2.0460231660231676,0.5056439393939395,0.440440251572327,2.02772549019608,1.9145131086142366,1.9314071294559125,2.182180746561889,2.146385542168677,0.8406369426751583,0.5464333333333333,1.8818108651911511,1.9676492537313472,0.9465925925925911,0.3659641255605374,0.37828571428571406,0.33038961038960996,0.43589285714285686,1.760545808966864,1.9102862595419883,1.9618882466281338,2.0406653992395447,1.8947680890538063,0.5001153846153847,0.4173333333333334,1.8854074074074083,1.9802808988764076,1.8607289719626197,1.9919553072625718,2.0035433070866144,0.49826714801444016,0.4307000000000003,1.8388518518518528,1.9524184261036501,1.9714312977099244,1.6372009569378032,1.8790380761523071,0.5180082987551863,0.38512727272727215,1.6517422434367568,1.8324933687002691,1.2692105263157913,0.3676271186440672,0.24696721311475406,0.2543076923076923,0.2470149253731343,0.2413793103448275,0.20602094240837693,0.21397905759162308,0.2514285714285714],\"yaxis\":\"y2\"},{\"hovertemplate\":\"state=Wisconsin<br>time=%{x}<br>pct_access=%{y}<extra></extra>\",\"legendgroup\":\"Wisconsin\",\"line\":{\"color\":\"#FFA15A\",\"dash\":\"solid\"},\"marker\":{\"symbol\":\"circle\"},\"mode\":\"lines\",\"name\":\"Wisconsin\",\"showlegend\":true,\"type\":\"scattergl\",\"x\":[\"2020-01-01T00:00:00\",\"2020-01-02T00:00:00\",\"2020-01-03T00:00:00\",\"2020-01-04T00:00:00\",\"2020-01-05T00:00:00\",\"2020-01-06T00:00:00\",\"2020-01-07T00:00:00\",\"2020-01-08T00:00:00\",\"2020-01-09T00:00:00\",\"2020-01-10T00:00:00\",\"2020-01-11T00:00:00\",\"2020-01-12T00:00:00\",\"2020-01-13T00:00:00\",\"2020-01-14T00:00:00\",\"2020-01-15T00:00:00\",\"2020-01-16T00:00:00\",\"2020-01-17T00:00:00\",\"2020-01-18T00:00:00\",\"2020-01-19T00:00:00\",\"2020-01-20T00:00:00\",\"2020-01-21T00:00:00\",\"2020-01-22T00:00:00\",\"2020-01-23T00:00:00\",\"2020-01-24T00:00:00\",\"2020-01-25T00:00:00\",\"2020-01-26T00:00:00\",\"2020-01-27T00:00:00\",\"2020-01-28T00:00:00\",\"2020-01-29T00:00:00\",\"2020-01-30T00:00:00\",\"2020-01-31T00:00:00\",\"2020-02-01T00:00:00\",\"2020-02-02T00:00:00\",\"2020-02-03T00:00:00\",\"2020-02-04T00:00:00\",\"2020-02-05T00:00:00\",\"2020-02-06T00:00:00\",\"2020-02-07T00:00:00\",\"2020-02-08T00:00:00\",\"2020-02-09T00:00:00\",\"2020-02-10T00:00:00\",\"2020-02-11T00:00:00\",\"2020-02-12T00:00:00\",\"2020-02-13T00:00:00\",\"2020-02-14T00:00:00\",\"2020-02-15T00:00:00\",\"2020-02-16T00:00:00\",\"2020-02-17T00:00:00\",\"2020-02-18T00:00:00\",\"2020-02-19T00:00:00\",\"2020-02-20T00:00:00\",\"2020-02-21T00:00:00\",\"2020-02-22T00:00:00\",\"2020-02-23T00:00:00\",\"2020-02-24T00:00:00\",\"2020-02-25T00:00:00\",\"2020-02-26T00:00:00\",\"2020-02-27T00:00:00\",\"2020-02-28T00:00:00\",\"2020-02-29T00:00:00\",\"2020-03-01T00:00:00\",\"2020-03-02T00:00:00\",\"2020-03-03T00:00:00\",\"2020-03-04T00:00:00\",\"2020-03-05T00:00:00\",\"2020-03-06T00:00:00\",\"2020-03-07T00:00:00\",\"2020-03-08T00:00:00\",\"2020-03-09T00:00:00\",\"2020-03-10T00:00:00\",\"2020-03-11T00:00:00\",\"2020-03-12T00:00:00\",\"2020-03-13T00:00:00\",\"2020-03-14T00:00:00\",\"2020-03-15T00:00:00\",\"2020-03-16T00:00:00\",\"2020-03-17T00:00:00\",\"2020-03-18T00:00:00\",\"2020-03-19T00:00:00\",\"2020-03-20T00:00:00\",\"2020-03-21T00:00:00\",\"2020-03-22T00:00:00\",\"2020-03-23T00:00:00\",\"2020-03-24T00:00:00\",\"2020-03-25T00:00:00\",\"2020-03-26T00:00:00\",\"2020-03-27T00:00:00\",\"2020-03-28T00:00:00\",\"2020-03-29T00:00:00\",\"2020-03-30T00:00:00\",\"2020-03-31T00:00:00\",\"2020-04-01T00:00:00\",\"2020-04-02T00:00:00\",\"2020-04-03T00:00:00\",\"2020-04-04T00:00:00\",\"2020-04-05T00:00:00\",\"2020-04-06T00:00:00\",\"2020-04-07T00:00:00\",\"2020-04-08T00:00:00\",\"2020-04-09T00:00:00\",\"2020-04-10T00:00:00\",\"2020-04-11T00:00:00\",\"2020-04-12T00:00:00\",\"2020-04-13T00:00:00\",\"2020-04-14T00:00:00\",\"2020-04-15T00:00:00\",\"2020-04-16T00:00:00\",\"2020-04-17T00:00:00\",\"2020-04-18T00:00:00\",\"2020-04-19T00:00:00\",\"2020-04-20T00:00:00\",\"2020-04-21T00:00:00\",\"2020-04-22T00:00:00\",\"2020-04-23T00:00:00\",\"2020-04-24T00:00:00\",\"2020-04-25T00:00:00\",\"2020-04-26T00:00:00\",\"2020-04-27T00:00:00\",\"2020-04-28T00:00:00\",\"2020-04-29T00:00:00\",\"2020-04-30T00:00:00\",\"2020-05-01T00:00:00\",\"2020-05-02T00:00:00\",\"2020-05-03T00:00:00\",\"2020-05-04T00:00:00\",\"2020-05-05T00:00:00\",\"2020-05-06T00:00:00\",\"2020-05-07T00:00:00\",\"2020-05-08T00:00:00\",\"2020-05-09T00:00:00\",\"2020-05-10T00:00:00\",\"2020-05-11T00:00:00\",\"2020-05-12T00:00:00\",\"2020-05-13T00:00:00\",\"2020-05-14T00:00:00\",\"2020-05-15T00:00:00\",\"2020-05-16T00:00:00\",\"2020-05-17T00:00:00\",\"2020-05-18T00:00:00\",\"2020-05-19T00:00:00\",\"2020-05-20T00:00:00\",\"2020-05-21T00:00:00\",\"2020-05-22T00:00:00\",\"2020-05-23T00:00:00\",\"2020-05-24T00:00:00\",\"2020-05-25T00:00:00\",\"2020-05-26T00:00:00\",\"2020-05-27T00:00:00\",\"2020-05-28T00:00:00\",\"2020-05-29T00:00:00\",\"2020-05-30T00:00:00\",\"2020-05-31T00:00:00\",\"2020-06-01T00:00:00\",\"2020-06-02T00:00:00\",\"2020-06-03T00:00:00\",\"2020-06-04T00:00:00\",\"2020-06-05T00:00:00\",\"2020-06-06T00:00:00\",\"2020-06-07T00:00:00\",\"2020-06-08T00:00:00\",\"2020-06-09T00:00:00\",\"2020-06-10T00:00:00\",\"2020-06-11T00:00:00\",\"2020-06-12T00:00:00\",\"2020-06-13T00:00:00\",\"2020-06-14T00:00:00\",\"2020-06-15T00:00:00\",\"2020-06-16T00:00:00\",\"2020-06-17T00:00:00\",\"2020-06-18T00:00:00\",\"2020-06-19T00:00:00\",\"2020-06-20T00:00:00\",\"2020-06-21T00:00:00\",\"2020-06-22T00:00:00\",\"2020-06-23T00:00:00\",\"2020-06-24T00:00:00\",\"2020-06-25T00:00:00\",\"2020-06-26T00:00:00\",\"2020-06-27T00:00:00\",\"2020-06-28T00:00:00\",\"2020-06-29T00:00:00\",\"2020-06-30T00:00:00\",\"2020-07-01T00:00:00\",\"2020-07-02T00:00:00\",\"2020-07-03T00:00:00\",\"2020-07-04T00:00:00\",\"2020-07-05T00:00:00\",\"2020-07-06T00:00:00\",\"2020-07-07T00:00:00\",\"2020-07-08T00:00:00\",\"2020-07-09T00:00:00\",\"2020-07-10T00:00:00\",\"2020-07-11T00:00:00\",\"2020-07-12T00:00:00\",\"2020-07-13T00:00:00\",\"2020-07-14T00:00:00\",\"2020-07-15T00:00:00\",\"2020-07-16T00:00:00\",\"2020-07-17T00:00:00\",\"2020-07-18T00:00:00\",\"2020-07-19T00:00:00\",\"2020-07-20T00:00:00\",\"2020-07-21T00:00:00\",\"2020-07-22T00:00:00\",\"2020-07-23T00:00:00\",\"2020-07-24T00:00:00\",\"2020-07-25T00:00:00\",\"2020-07-26T00:00:00\",\"2020-07-27T00:00:00\",\"2020-07-28T00:00:00\",\"2020-07-29T00:00:00\",\"2020-07-30T00:00:00\",\"2020-07-31T00:00:00\",\"2020-08-01T00:00:00\",\"2020-08-02T00:00:00\",\"2020-08-03T00:00:00\",\"2020-08-04T00:00:00\",\"2020-08-05T00:00:00\",\"2020-08-06T00:00:00\",\"2020-08-07T00:00:00\",\"2020-08-08T00:00:00\",\"2020-08-09T00:00:00\",\"2020-08-10T00:00:00\",\"2020-08-11T00:00:00\",\"2020-08-12T00:00:00\",\"2020-08-13T00:00:00\",\"2020-08-14T00:00:00\",\"2020-08-15T00:00:00\",\"2020-08-16T00:00:00\",\"2020-08-17T00:00:00\",\"2020-08-18T00:00:00\",\"2020-08-19T00:00:00\",\"2020-08-20T00:00:00\",\"2020-08-21T00:00:00\",\"2020-08-22T00:00:00\",\"2020-08-23T00:00:00\",\"2020-08-24T00:00:00\",\"2020-08-25T00:00:00\",\"2020-08-26T00:00:00\",\"2020-08-27T00:00:00\",\"2020-08-28T00:00:00\",\"2020-08-29T00:00:00\",\"2020-08-30T00:00:00\",\"2020-08-31T00:00:00\",\"2020-09-01T00:00:00\",\"2020-09-02T00:00:00\",\"2020-09-03T00:00:00\",\"2020-09-04T00:00:00\",\"2020-09-05T00:00:00\",\"2020-09-06T00:00:00\",\"2020-09-07T00:00:00\",\"2020-09-08T00:00:00\",\"2020-09-09T00:00:00\",\"2020-09-10T00:00:00\",\"2020-09-11T00:00:00\",\"2020-09-12T00:00:00\",\"2020-09-13T00:00:00\",\"2020-09-14T00:00:00\",\"2020-09-15T00:00:00\",\"2020-09-16T00:00:00\",\"2020-09-17T00:00:00\",\"2020-09-18T00:00:00\",\"2020-09-19T00:00:00\",\"2020-09-20T00:00:00\",\"2020-09-21T00:00:00\",\"2020-09-22T00:00:00\",\"2020-09-23T00:00:00\",\"2020-09-24T00:00:00\",\"2020-09-25T00:00:00\",\"2020-09-26T00:00:00\",\"2020-09-27T00:00:00\",\"2020-09-28T00:00:00\",\"2020-09-29T00:00:00\",\"2020-09-30T00:00:00\",\"2020-10-01T00:00:00\",\"2020-10-02T00:00:00\",\"2020-10-03T00:00:00\",\"2020-10-04T00:00:00\",\"2020-10-05T00:00:00\",\"2020-10-06T00:00:00\",\"2020-10-07T00:00:00\",\"2020-10-08T00:00:00\",\"2020-10-09T00:00:00\",\"2020-10-10T00:00:00\",\"2020-10-11T00:00:00\",\"2020-10-12T00:00:00\",\"2020-10-13T00:00:00\",\"2020-10-14T00:00:00\",\"2020-10-15T00:00:00\",\"2020-10-16T00:00:00\",\"2020-10-17T00:00:00\",\"2020-10-18T00:00:00\",\"2020-10-19T00:00:00\",\"2020-10-20T00:00:00\",\"2020-10-21T00:00:00\",\"2020-10-22T00:00:00\",\"2020-10-23T00:00:00\",\"2020-10-24T00:00:00\",\"2020-10-25T00:00:00\",\"2020-10-26T00:00:00\",\"2020-10-27T00:00:00\",\"2020-10-28T00:00:00\",\"2020-10-29T00:00:00\",\"2020-10-30T00:00:00\",\"2020-10-31T00:00:00\",\"2020-11-01T00:00:00\",\"2020-11-02T00:00:00\",\"2020-11-03T00:00:00\",\"2020-11-04T00:00:00\",\"2020-11-05T00:00:00\",\"2020-11-06T00:00:00\",\"2020-11-07T00:00:00\",\"2020-11-08T00:00:00\",\"2020-11-09T00:00:00\",\"2020-11-10T00:00:00\",\"2020-11-11T00:00:00\",\"2020-11-12T00:00:00\",\"2020-11-13T00:00:00\",\"2020-11-14T00:00:00\",\"2020-11-15T00:00:00\",\"2020-11-16T00:00:00\",\"2020-11-17T00:00:00\",\"2020-11-18T00:00:00\",\"2020-11-19T00:00:00\",\"2020-11-20T00:00:00\",\"2020-11-21T00:00:00\",\"2020-11-22T00:00:00\",\"2020-11-23T00:00:00\",\"2020-11-24T00:00:00\",\"2020-11-25T00:00:00\",\"2020-11-26T00:00:00\",\"2020-11-27T00:00:00\",\"2020-11-28T00:00:00\",\"2020-11-29T00:00:00\",\"2020-11-30T00:00:00\",\"2020-12-01T00:00:00\",\"2020-12-02T00:00:00\",\"2020-12-03T00:00:00\",\"2020-12-04T00:00:00\",\"2020-12-05T00:00:00\",\"2020-12-06T00:00:00\",\"2020-12-07T00:00:00\",\"2020-12-08T00:00:00\",\"2020-12-09T00:00:00\",\"2020-12-10T00:00:00\",\"2020-12-11T00:00:00\",\"2020-12-12T00:00:00\",\"2020-12-13T00:00:00\",\"2020-12-14T00:00:00\",\"2020-12-15T00:00:00\",\"2020-12-16T00:00:00\",\"2020-12-17T00:00:00\",\"2020-12-18T00:00:00\",\"2020-12-19T00:00:00\",\"2020-12-20T00:00:00\",\"2020-12-21T00:00:00\",\"2020-12-22T00:00:00\",\"2020-12-23T00:00:00\",\"2020-12-24T00:00:00\",\"2020-12-25T00:00:00\",\"2020-12-26T00:00:00\",\"2020-12-27T00:00:00\",\"2020-12-28T00:00:00\",\"2020-12-29T00:00:00\",\"2020-12-30T00:00:00\",\"2020-12-31T00:00:00\"],\"xaxis\":\"x\",\"y\":[0.34275167785234945,1.8247734138972724,1.8709309309309237,0.3994964028776983,0.5554216867469878,1.9858064516128981,1.9489398280802226,1.895496894409932,1.9137428571428527,1.879398280802285,0.4183139534883724,0.582012195121951,1.9732258064516068,2.0479310344827524,1.8710979228486584,1.8873952095808322,1.6495136778115458,0.19767676767676778,0.17637168141592924,0.16696808510638314,2.050892857142851,2.0651051051050993,2.1171104815863964,2.0118397626112694,0.24602739726027437,0.4191025641025644,1.9483090379008705,2.0840988372092975,1.9747734138972761,2.00616666666666,1.8528698224852003,0.29750000000000054,0.4012883435582825,1.922419825072881,1.9398324022346312,1.8228106508875703,1.9018644067796555,1.9419999999999944,0.30101562500000056,0.45693333333333364,1.818275862068961,1.902441176470582,1.9009090909090849,1.8975142857142795,1.9228398791540717,0.26743362831858436,0.40857142857142925,2.0384638554216807,2.0414939024390204,1.7745029239766008,2.004017857142852,1.4099999999999955,0.2690990990990993,0.3853383458646621,1.8767048710601653,1.9341463414634092,1.9211211573236846,1.899052631578943,1.3750202429149758,0.27266949152542436,0.41203846153846146,1.8605913043478233,1.609795918367344,1.8908947368421003,1.8637478705281039,1.7601967799642146,0.2889767441860472,0.4302189781021897,1.9343562610229237,1.7872572402044244,1.8186347517730457,1.714511784511779,1.377300970873779,0.45707692307692244,0.4303405572755416,1.2414512471655241,0.6704245283018827,1.2376744186046411,1.138893528183707,1.094079822616402,0.4440406976744181,0.24881987577639797,0.2795833333333336,0.27752886836027746,0.2711352657004835,0.30939393939393983,0.33731934731934765,0.3281012658227851,0.5352163461538463,2.2733809523809443,2.099289176090463,2.023404605263152,1.9820170940170863,2.0482817869415744,0.5700938967136158,0.5360512820512832,2.237925801011797,2.1797703180211947,2.1372297297297216,2.0316470588235216,0.7657601713062075,0.4126300578034689,0.38192837465564805,1.4900950570342102,1.646427145708577,1.5895626242544647,1.5845286885245835,1.58064159292035,0.47775510204081656,0.4284326018808782,1.6881362725450852,1.6633673469387689,1.5847177419354765,1.6035157894736771,1.5360805084745708,0.4365123456790131,0.3712621359223307,1.6622154471544648,1.534052419354832,1.543955823293166,1.5369957983193225,1.4629850746268604,0.44279365079365124,0.4098713826366564,1.6176082474226745,1.5790909090909024,1.5326271186440612,1.440831600831596,1.4508830022075014,0.45117647058823573,0.41574193548387167,1.5958823529411699,1.5729237288135511,1.5877398720682228,1.4484188911704259,1.3580044843049301,0.4244444444444451,0.49296407185628793,1.253127753303957,1.5179545454545416,1.473438155136262,1.4166738660907066,1.3102517162471363,0.4050169491525433,0.3340684410646395,0.4704262295081975,1.511302428256063,1.4434459459459408,1.3983010752688134,1.2216252821670408,0.35802721088435463,0.3581297709923671,1.12136470588235,0.934471153846151,0.8498122065727671,0.7920525059665833,0.7682596685082868,0.13573991031390142,0.12805714285714295,0.31899653979238796,0.31669172932330875,0.10089494163424134,0.09358649789029537,0.07547511312217187,0.07112676056338023,0.0913953488372092,0.2115019762845855,0.20275303643724735,0.20885245901639382,0.2133898305084748,0.14066350710900483,0.11347517730496444,0.13891156462585033,0.4882918149466198,0.4553962264150948,0.4429803921568633,0.3814007782101171,0.19187192118226626,0.11838983050847456,0.13094890510948906,0.378775510204082,0.37214876033057875,0.3405020920502096,0.3168584070796464,0.134620253164557,0.09584158415841579,0.09849206349206341,0.335714285714286,0.32311594202898597,0.3158865248226954,0.34197478991596675,0.16587912087912088,0.11322834645669283,0.10052238805970139,0.3294881889763784,0.3103571428571431,0.3194464944649449,0.30555084745762734,0.14216748768472914,0.10108843537414955,0.09380281690140833,0.2854098360655741,0.27128514056224934,0.2373782771535582,0.23417004048583026,0.13010309278350518,0.09880341880341871,0.08170068027210876,0.25887029288702956,0.24861538461538493,0.2117938931297713,0.21175438596491253,0.09771844660194183,0.072442748091603,0.06527027027027021,0.0915625,0.0764609053497942,0.07199218749999999,0.07803652968036523,0.08158974358974351,0.05414062499999999,0.0691428571428571,0.06473469387755099,0.06584415584415577,0.06938016528925615,0.06508196721311468,0.061359223300970836,0.06892857142857138,0.06015999999999999,0.07139344262295076,0.07951327433628314,0.07232653061224491,0.07768382352941185,0.07938775510204084,0.0573548387096774,0.061895424836601286,0.10361445783132535,0.09315789473684209,0.08301418439716314,0.1008127208480566,0.08757322175732214,0.07445205479452051,0.09229050279329609,0.211464174454829,0.4160479041916174,0.4085558583106274,0.5378466076696171,0.8893239436619697,0.2094090909090912,0.21948616600790544,0.455517241379311,1.898305882352938,2.004773218142542,1.8756172839506111,1.924836601307185,0.39446875000000037,0.5545645645645652,1.8891823899371003,1.8864482029598248,1.7079609544468506,1.8378215767634818,1.9927015250544606,0.4276173285198557,0.6476872964169382,2.0289935760171263,1.9684486373165568,1.7007643312101866,1.986083333333329,1.849937238493718,0.34119170984455993,0.49673228346456705,1.280536130536127,1.2825679012345659,1.0409749999999982,1.3160154241645228,1.3885365853658531,0.33632911392405085,0.4429457364341085,1.293020304568526,1.3227272727272712,1.2801265822784793,1.2950777202072523,0.336127167630058,0.3045273631840799,0.4047286821705428,1.270072289156625,1.268039702233249,1.0712311557788932,1.2728109452736303,1.2519512195121933,0.39861940298507476,0.5089878542510123,1.2504197530864183,1.1963333333333324,0.8745063291139228,0.24791891891891904,0.22096273291925472,0.22909547738693498,0.341526717557252,1.2094471153846138,1.2017505995203825,0.9698529411764691,1.246497461928934,1.2657853403141361,0.2978350515463916,0.4047011952191232,1.2795749999999988,1.3496240601503742,0.8848214285714274,1.202899999999998,1.3167948717948708,0.2857075471698112,0.3852713178294572,1.1727315914489298,1.284999999999999,1.0588705882352927,1.2169689119170972,1.2020240963855406,0.3158590308370041,0.408759124087591,1.237205128205127,1.255753086419752,1.0889081885856062,1.275969387755101,1.1989786223277896,0.41085714285714253,0.4143621399176952,1.1831516587677713,1.1959268292682914,0.2632432432432434,0.26951724137931043,0.2855813953488373,0.2980303030303031,0.4805113636363632,1.7609523809523775,1.8348120300751858,1.237886792452829,1.7568840579710108,1.8191860465116263,0.3961935483870966,0.5288333333333329,1.8560805860805822,1.8359999999999985,1.440542635658913,1.844545454545453,1.921691729323305,0.38348837209302306,0.5712021857923494,1.9208955223880582,1.8827611940298505,1.3809523809523787,1.7786071428571402,1.7838235294117613,0.43897435897435866,0.6241764705882346,1.785749999999998,1.7267158671586695,0.40809815950920236,0.22183333333333347,0.1661764705882352,0.17214285714285707,0.17956989247311822,0.20055118110236236,0.17292307692307693,0.19038759689922496,0.17763779527559076],\"yaxis\":\"y\"}],                        {\"annotations\":[{\"font\":{},\"showarrow\":false,\"text\":\"state=Wisconsin\",\"x\":0.5,\"xanchor\":\"center\",\"xref\":\"paper\",\"y\":0.144,\"yanchor\":\"bottom\",\"yref\":\"paper\"},{\"font\":{},\"showarrow\":false,\"text\":\"state=New York\",\"x\":0.5,\"xanchor\":\"center\",\"xref\":\"paper\",\"y\":0.358,\"yanchor\":\"bottom\",\"yref\":\"paper\"},{\"font\":{},\"showarrow\":false,\"text\":\"state=New Jersey\",\"x\":0.5,\"xanchor\":\"center\",\"xref\":\"paper\",\"y\":0.572,\"yanchor\":\"bottom\",\"yref\":\"paper\"},{\"font\":{},\"showarrow\":false,\"text\":\"state=Indiana\",\"x\":0.5,\"xanchor\":\"center\",\"xref\":\"paper\",\"y\":0.7859999999999999,\"yanchor\":\"bottom\",\"yref\":\"paper\"},{\"font\":{},\"showarrow\":false,\"text\":\"state=Illinois\",\"x\":0.5,\"xanchor\":\"center\",\"xref\":\"paper\",\"y\":1.0,\"yanchor\":\"bottom\",\"yref\":\"paper\"}],\"legend\":{\"title\":{\"text\":\"state\"},\"tracegroupgap\":0},\"margin\":{\"t\":60},\"template\":{\"data\":{\"bar\":[{\"error_x\":{\"color\":\"#2a3f5f\"},\"error_y\":{\"color\":\"#2a3f5f\"},\"marker\":{\"line\":{\"color\":\"#E5ECF6\",\"width\":0.5},\"pattern\":{\"fillmode\":\"overlay\",\"size\":10,\"solidity\":0.2}},\"type\":\"bar\"}],\"barpolar\":[{\"marker\":{\"line\":{\"color\":\"#E5ECF6\",\"width\":0.5},\"pattern\":{\"fillmode\":\"overlay\",\"size\":10,\"solidity\":0.2}},\"type\":\"barpolar\"}],\"carpet\":[{\"aaxis\":{\"endlinecolor\":\"#2a3f5f\",\"gridcolor\":\"white\",\"linecolor\":\"white\",\"minorgridcolor\":\"white\",\"startlinecolor\":\"#2a3f5f\"},\"baxis\":{\"endlinecolor\":\"#2a3f5f\",\"gridcolor\":\"white\",\"linecolor\":\"white\",\"minorgridcolor\":\"white\",\"startlinecolor\":\"#2a3f5f\"},\"type\":\"carpet\"}],\"choropleth\":[{\"colorbar\":{\"outlinewidth\":0,\"ticks\":\"\"},\"type\":\"choropleth\"}],\"contour\":[{\"colorbar\":{\"outlinewidth\":0,\"ticks\":\"\"},\"colorscale\":[[0.0,\"#0d0887\"],[0.1111111111111111,\"#46039f\"],[0.2222222222222222,\"#7201a8\"],[0.3333333333333333,\"#9c179e\"],[0.4444444444444444,\"#bd3786\"],[0.5555555555555556,\"#d8576b\"],[0.6666666666666666,\"#ed7953\"],[0.7777777777777778,\"#fb9f3a\"],[0.8888888888888888,\"#fdca26\"],[1.0,\"#f0f921\"]],\"type\":\"contour\"}],\"contourcarpet\":[{\"colorbar\":{\"outlinewidth\":0,\"ticks\":\"\"},\"type\":\"contourcarpet\"}],\"heatmap\":[{\"colorbar\":{\"outlinewidth\":0,\"ticks\":\"\"},\"colorscale\":[[0.0,\"#0d0887\"],[0.1111111111111111,\"#46039f\"],[0.2222222222222222,\"#7201a8\"],[0.3333333333333333,\"#9c179e\"],[0.4444444444444444,\"#bd3786\"],[0.5555555555555556,\"#d8576b\"],[0.6666666666666666,\"#ed7953\"],[0.7777777777777778,\"#fb9f3a\"],[0.8888888888888888,\"#fdca26\"],[1.0,\"#f0f921\"]],\"type\":\"heatmap\"}],\"heatmapgl\":[{\"colorbar\":{\"outlinewidth\":0,\"ticks\":\"\"},\"colorscale\":[[0.0,\"#0d0887\"],[0.1111111111111111,\"#46039f\"],[0.2222222222222222,\"#7201a8\"],[0.3333333333333333,\"#9c179e\"],[0.4444444444444444,\"#bd3786\"],[0.5555555555555556,\"#d8576b\"],[0.6666666666666666,\"#ed7953\"],[0.7777777777777778,\"#fb9f3a\"],[0.8888888888888888,\"#fdca26\"],[1.0,\"#f0f921\"]],\"type\":\"heatmapgl\"}],\"histogram\":[{\"marker\":{\"pattern\":{\"fillmode\":\"overlay\",\"size\":10,\"solidity\":0.2}},\"type\":\"histogram\"}],\"histogram2d\":[{\"colorbar\":{\"outlinewidth\":0,\"ticks\":\"\"},\"colorscale\":[[0.0,\"#0d0887\"],[0.1111111111111111,\"#46039f\"],[0.2222222222222222,\"#7201a8\"],[0.3333333333333333,\"#9c179e\"],[0.4444444444444444,\"#bd3786\"],[0.5555555555555556,\"#d8576b\"],[0.6666666666666666,\"#ed7953\"],[0.7777777777777778,\"#fb9f3a\"],[0.8888888888888888,\"#fdca26\"],[1.0,\"#f0f921\"]],\"type\":\"histogram2d\"}],\"histogram2dcontour\":[{\"colorbar\":{\"outlinewidth\":0,\"ticks\":\"\"},\"colorscale\":[[0.0,\"#0d0887\"],[0.1111111111111111,\"#46039f\"],[0.2222222222222222,\"#7201a8\"],[0.3333333333333333,\"#9c179e\"],[0.4444444444444444,\"#bd3786\"],[0.5555555555555556,\"#d8576b\"],[0.6666666666666666,\"#ed7953\"],[0.7777777777777778,\"#fb9f3a\"],[0.8888888888888888,\"#fdca26\"],[1.0,\"#f0f921\"]],\"type\":\"histogram2dcontour\"}],\"mesh3d\":[{\"colorbar\":{\"outlinewidth\":0,\"ticks\":\"\"},\"type\":\"mesh3d\"}],\"parcoords\":[{\"line\":{\"colorbar\":{\"outlinewidth\":0,\"ticks\":\"\"}},\"type\":\"parcoords\"}],\"pie\":[{\"automargin\":true,\"type\":\"pie\"}],\"scatter\":[{\"marker\":{\"colorbar\":{\"outlinewidth\":0,\"ticks\":\"\"}},\"type\":\"scatter\"}],\"scatter3d\":[{\"line\":{\"colorbar\":{\"outlinewidth\":0,\"ticks\":\"\"}},\"marker\":{\"colorbar\":{\"outlinewidth\":0,\"ticks\":\"\"}},\"type\":\"scatter3d\"}],\"scattercarpet\":[{\"marker\":{\"colorbar\":{\"outlinewidth\":0,\"ticks\":\"\"}},\"type\":\"scattercarpet\"}],\"scattergeo\":[{\"marker\":{\"colorbar\":{\"outlinewidth\":0,\"ticks\":\"\"}},\"type\":\"scattergeo\"}],\"scattergl\":[{\"marker\":{\"colorbar\":{\"outlinewidth\":0,\"ticks\":\"\"}},\"type\":\"scattergl\"}],\"scattermapbox\":[{\"marker\":{\"colorbar\":{\"outlinewidth\":0,\"ticks\":\"\"}},\"type\":\"scattermapbox\"}],\"scatterpolar\":[{\"marker\":{\"colorbar\":{\"outlinewidth\":0,\"ticks\":\"\"}},\"type\":\"scatterpolar\"}],\"scatterpolargl\":[{\"marker\":{\"colorbar\":{\"outlinewidth\":0,\"ticks\":\"\"}},\"type\":\"scatterpolargl\"}],\"scatterternary\":[{\"marker\":{\"colorbar\":{\"outlinewidth\":0,\"ticks\":\"\"}},\"type\":\"scatterternary\"}],\"surface\":[{\"colorbar\":{\"outlinewidth\":0,\"ticks\":\"\"},\"colorscale\":[[0.0,\"#0d0887\"],[0.1111111111111111,\"#46039f\"],[0.2222222222222222,\"#7201a8\"],[0.3333333333333333,\"#9c179e\"],[0.4444444444444444,\"#bd3786\"],[0.5555555555555556,\"#d8576b\"],[0.6666666666666666,\"#ed7953\"],[0.7777777777777778,\"#fb9f3a\"],[0.8888888888888888,\"#fdca26\"],[1.0,\"#f0f921\"]],\"type\":\"surface\"}],\"table\":[{\"cells\":{\"fill\":{\"color\":\"#EBF0F8\"},\"line\":{\"color\":\"white\"}},\"header\":{\"fill\":{\"color\":\"#C8D4E3\"},\"line\":{\"color\":\"white\"}},\"type\":\"table\"}]},\"layout\":{\"annotationdefaults\":{\"arrowcolor\":\"#2a3f5f\",\"arrowhead\":0,\"arrowwidth\":1},\"autotypenumbers\":\"strict\",\"coloraxis\":{\"colorbar\":{\"outlinewidth\":0,\"ticks\":\"\"}},\"colorscale\":{\"diverging\":[[0,\"#8e0152\"],[0.1,\"#c51b7d\"],[0.2,\"#de77ae\"],[0.3,\"#f1b6da\"],[0.4,\"#fde0ef\"],[0.5,\"#f7f7f7\"],[0.6,\"#e6f5d0\"],[0.7,\"#b8e186\"],[0.8,\"#7fbc41\"],[0.9,\"#4d9221\"],[1,\"#276419\"]],\"sequential\":[[0.0,\"#0d0887\"],[0.1111111111111111,\"#46039f\"],[0.2222222222222222,\"#7201a8\"],[0.3333333333333333,\"#9c179e\"],[0.4444444444444444,\"#bd3786\"],[0.5555555555555556,\"#d8576b\"],[0.6666666666666666,\"#ed7953\"],[0.7777777777777778,\"#fb9f3a\"],[0.8888888888888888,\"#fdca26\"],[1.0,\"#f0f921\"]],\"sequentialminus\":[[0.0,\"#0d0887\"],[0.1111111111111111,\"#46039f\"],[0.2222222222222222,\"#7201a8\"],[0.3333333333333333,\"#9c179e\"],[0.4444444444444444,\"#bd3786\"],[0.5555555555555556,\"#d8576b\"],[0.6666666666666666,\"#ed7953\"],[0.7777777777777778,\"#fb9f3a\"],[0.8888888888888888,\"#fdca26\"],[1.0,\"#f0f921\"]]},\"colorway\":[\"#636efa\",\"#EF553B\",\"#00cc96\",\"#ab63fa\",\"#FFA15A\",\"#19d3f3\",\"#FF6692\",\"#B6E880\",\"#FF97FF\",\"#FECB52\"],\"font\":{\"color\":\"#2a3f5f\"},\"geo\":{\"bgcolor\":\"white\",\"lakecolor\":\"white\",\"landcolor\":\"#E5ECF6\",\"showlakes\":true,\"showland\":true,\"subunitcolor\":\"white\"},\"hoverlabel\":{\"align\":\"left\"},\"hovermode\":\"closest\",\"mapbox\":{\"style\":\"light\"},\"paper_bgcolor\":\"white\",\"plot_bgcolor\":\"#E5ECF6\",\"polar\":{\"angularaxis\":{\"gridcolor\":\"white\",\"linecolor\":\"white\",\"ticks\":\"\"},\"bgcolor\":\"#E5ECF6\",\"radialaxis\":{\"gridcolor\":\"white\",\"linecolor\":\"white\",\"ticks\":\"\"}},\"scene\":{\"xaxis\":{\"backgroundcolor\":\"#E5ECF6\",\"gridcolor\":\"white\",\"gridwidth\":2,\"linecolor\":\"white\",\"showbackground\":true,\"ticks\":\"\",\"zerolinecolor\":\"white\"},\"yaxis\":{\"backgroundcolor\":\"#E5ECF6\",\"gridcolor\":\"white\",\"gridwidth\":2,\"linecolor\":\"white\",\"showbackground\":true,\"ticks\":\"\",\"zerolinecolor\":\"white\"},\"zaxis\":{\"backgroundcolor\":\"#E5ECF6\",\"gridcolor\":\"white\",\"gridwidth\":2,\"linecolor\":\"white\",\"showbackground\":true,\"ticks\":\"\",\"zerolinecolor\":\"white\"}},\"shapedefaults\":{\"line\":{\"color\":\"#2a3f5f\"}},\"ternary\":{\"aaxis\":{\"gridcolor\":\"white\",\"linecolor\":\"white\",\"ticks\":\"\"},\"baxis\":{\"gridcolor\":\"white\",\"linecolor\":\"white\",\"ticks\":\"\"},\"bgcolor\":\"#E5ECF6\",\"caxis\":{\"gridcolor\":\"white\",\"linecolor\":\"white\",\"ticks\":\"\"}},\"title\":{\"x\":0.05},\"xaxis\":{\"automargin\":true,\"gridcolor\":\"white\",\"linecolor\":\"white\",\"ticks\":\"\",\"title\":{\"standoff\":15},\"zerolinecolor\":\"white\",\"zerolinewidth\":2},\"yaxis\":{\"automargin\":true,\"gridcolor\":\"white\",\"linecolor\":\"white\",\"ticks\":\"\",\"title\":{\"standoff\":15},\"zerolinecolor\":\"white\",\"zerolinewidth\":2}}},\"title\":{\"text\":\"Educational Product Access On Top 5 States\"},\"xaxis\":{\"anchor\":\"y\",\"domain\":[0.0,1.0],\"title\":{\"text\":\"time\"}},\"xaxis2\":{\"anchor\":\"y2\",\"domain\":[0.0,1.0],\"matches\":\"x\",\"showticklabels\":false},\"xaxis3\":{\"anchor\":\"y3\",\"domain\":[0.0,1.0],\"matches\":\"x\",\"showticklabels\":false},\"xaxis4\":{\"anchor\":\"y4\",\"domain\":[0.0,1.0],\"matches\":\"x\",\"showticklabels\":false},\"xaxis5\":{\"anchor\":\"y5\",\"domain\":[0.0,1.0],\"matches\":\"x\",\"showticklabels\":false},\"yaxis\":{\"anchor\":\"x\",\"domain\":[0.0,0.144],\"title\":{\"text\":\"pct_access\"}},\"yaxis2\":{\"anchor\":\"x2\",\"domain\":[0.214,0.358],\"matches\":\"y\",\"title\":{\"text\":\"pct_access\"}},\"yaxis3\":{\"anchor\":\"x3\",\"domain\":[0.428,0.572],\"matches\":\"y\",\"title\":{\"text\":\"pct_access\"}},\"yaxis4\":{\"anchor\":\"x4\",\"domain\":[0.6419999999999999,0.7859999999999999],\"matches\":\"y\",\"title\":{\"text\":\"pct_access\"}},\"yaxis5\":{\"anchor\":\"x5\",\"domain\":[0.856,1.0],\"matches\":\"y\",\"title\":{\"text\":\"pct_access\"}}},                        {\"responsive\": true}                    ).then(function(){\n                            \nvar gd = document.getElementById('39672571-31fa-42e0-b5b2-f2b6403be655');\nvar x = new MutationObserver(function (mutations, observer) {{\n        var display = window.getComputedStyle(gd).display;\n        if (!display || display === 'none') {{\n            console.log([gd, 'removed!']);\n            Plotly.purge(gd);\n            observer.disconnect();\n        }}\n}});\n\n// Listen for the removal of the full notebook cells\nvar notebookContainer = gd.closest('#notebook-container');\nif (notebookContainer) {{\n    x.observe(notebookContainer, {childList: true});\n}}\n\n// Listen for the clearing of the current output cell\nvar outputEl = gd.closest('.output');\nif (outputEl) {{\n    x.observe(outputEl, {childList: true});\n}}\n\n                        })                };                            </script>        </div>\n</body>\n</html>"
     },
     "metadata": {},
     "output_type": "display_data"
    }
   ],
   "execution_count": null
  },
  {
   "cell_type": "markdown",
   "source": "## Based on Bottom Five States\nThis is odd as Michigan and North Carolina have almost zero product access from March till the end of August. The Texas have a similar pattern but they had a peak in June. Overall these bottom states became active after September 2020.\n\n> It is strange that some states have a very odd pattern, maybe due to a bad educational system or lack of awareness. ",
   "metadata": {
    "papermill": {
     "duration": 0.07835,
     "end_time": "2021-09-19T11:56:28.575824",
     "exception": false,
     "start_time": "2021-09-19T11:56:28.497474",
     "status": "completed"
    },
    "tags": [],
    "cell_id": "00064-a39fdc37-b0a6-4884-a947-f8bdd9792893",
    "deepnote_cell_type": "markdown"
   }
  },
  {
   "cell_type": "code",
   "metadata": {
    "_kg_hide-input": true,
    "execution": {
     "iopub.execute_input": "2021-09-19T11:56:28.739497Z",
     "iopub.status.busy": "2021-09-19T11:56:28.738700Z",
     "iopub.status.idle": "2021-09-19T11:56:28.955738Z",
     "shell.execute_reply": "2021-09-19T11:56:28.956204Z",
     "shell.execute_reply.started": "2021-09-19T11:09:52.279397Z"
    },
    "papermill": {
     "duration": 0.300228,
     "end_time": "2021-09-19T11:56:28.956376",
     "exception": false,
     "start_time": "2021-09-19T11:56:28.656148",
     "status": "completed"
    },
    "tags": [],
    "cell_id": "00065-96d2d546-02f7-47e0-9426-c80f2d383c80",
    "deepnote_to_be_reexecuted": false,
    "source_hash": "8eaca915",
    "execution_start": 1634282993051,
    "execution_millis": 189,
    "deepnote_cell_type": "code"
   },
   "source": "bottom_5 = df.groupby(by='state')\\\n                  .mean()\\\n                  .sort_values(by='pct_access',ascending=False)\\\n                  .tail(5)\\\n                  .reset_index()['state']\\\n                  .to_list()\n\ntop_states = df[df.state.isin(bottom_5)]\nfig = px.line(top_states, x=\"time\", y=\"pct_access\", facet_col='state',facet_col_wrap=1,color = 'state')\nfig.update_layout(\n                      title=(\"Educational product Access on Bottom 5 States\").title(),\n                     )\nfig.show()",
   "outputs": [
    {
     "data": {
      "text/html": "<html>\n<head><meta charset=\"utf-8\" /></head>\n<body>\n    <div>            <script src=\"https://cdnjs.cloudflare.com/ajax/libs/mathjax/2.7.5/MathJax.js?config=TeX-AMS-MML_SVG\"></script><script type=\"text/javascript\">if (window.MathJax) {MathJax.Hub.Config({SVG: {font: \"STIX-Web\"}});}</script>                <script type=\"text/javascript\">window.PlotlyConfig = {MathJaxConfig: 'local'};</script>\n        <script src=\"https://cdn.plot.ly/plotly-2.4.2.min.js\"></script>                <div id=\"8194cb58-dc5a-4201-b59a-87a616846aec\" class=\"plotly-graph-div\" style=\"height:525px; width:100%;\"></div>            <script type=\"text/javascript\">                                    window.PLOTLYENV=window.PLOTLYENV || {};                                    if (document.getElementById(\"8194cb58-dc5a-4201-b59a-87a616846aec\")) {                    Plotly.newPlot(                        \"8194cb58-dc5a-4201-b59a-87a616846aec\",                        [{\"hovertemplate\":\"state=Florida<br>time=%{x}<br>pct_access=%{y}<extra></extra>\",\"legendgroup\":\"Florida\",\"line\":{\"color\":\"#636efa\",\"dash\":\"solid\"},\"marker\":{\"symbol\":\"circle\"},\"mode\":\"lines\",\"name\":\"Florida\",\"showlegend\":true,\"type\":\"scattergl\",\"x\":[\"2020-01-01T00:00:00\",\"2020-01-02T00:00:00\",\"2020-01-03T00:00:00\",\"2020-01-04T00:00:00\",\"2020-01-05T00:00:00\",\"2020-01-06T00:00:00\",\"2020-01-07T00:00:00\",\"2020-01-08T00:00:00\",\"2020-01-09T00:00:00\",\"2020-01-10T00:00:00\",\"2020-01-11T00:00:00\",\"2020-01-12T00:00:00\",\"2020-01-13T00:00:00\",\"2020-01-14T00:00:00\",\"2020-01-15T00:00:00\",\"2020-01-16T00:00:00\",\"2020-01-17T00:00:00\",\"2020-01-18T00:00:00\",\"2020-01-19T00:00:00\",\"2020-01-20T00:00:00\",\"2020-01-21T00:00:00\",\"2020-01-22T00:00:00\",\"2020-01-23T00:00:00\",\"2020-01-24T00:00:00\",\"2020-01-25T00:00:00\",\"2020-01-26T00:00:00\",\"2020-01-27T00:00:00\",\"2020-01-28T00:00:00\",\"2020-01-29T00:00:00\",\"2020-01-30T00:00:00\",\"2020-01-31T00:00:00\",\"2020-02-01T00:00:00\",\"2020-02-02T00:00:00\",\"2020-02-03T00:00:00\",\"2020-02-04T00:00:00\",\"2020-02-05T00:00:00\",\"2020-02-06T00:00:00\",\"2020-02-07T00:00:00\",\"2020-02-08T00:00:00\",\"2020-02-09T00:00:00\",\"2020-02-10T00:00:00\",\"2020-02-11T00:00:00\",\"2020-02-12T00:00:00\",\"2020-02-13T00:00:00\",\"2020-02-14T00:00:00\",\"2020-02-15T00:00:00\",\"2020-02-16T00:00:00\",\"2020-02-17T00:00:00\",\"2020-02-18T00:00:00\",\"2020-02-19T00:00:00\",\"2020-02-20T00:00:00\",\"2020-02-21T00:00:00\",\"2020-02-22T00:00:00\",\"2020-02-23T00:00:00\",\"2020-02-24T00:00:00\",\"2020-02-25T00:00:00\",\"2020-02-26T00:00:00\",\"2020-02-27T00:00:00\",\"2020-02-28T00:00:00\",\"2020-02-29T00:00:00\",\"2020-03-01T00:00:00\",\"2020-03-02T00:00:00\",\"2020-03-03T00:00:00\",\"2020-03-04T00:00:00\",\"2020-03-05T00:00:00\",\"2020-03-06T00:00:00\",\"2020-03-07T00:00:00\",\"2020-03-08T00:00:00\",\"2020-03-09T00:00:00\",\"2020-03-10T00:00:00\",\"2020-03-11T00:00:00\",\"2020-03-12T00:00:00\",\"2020-03-13T00:00:00\",\"2020-03-14T00:00:00\",\"2020-03-15T00:00:00\",\"2020-03-16T00:00:00\",\"2020-03-17T00:00:00\",\"2020-03-18T00:00:00\",\"2020-03-19T00:00:00\",\"2020-03-20T00:00:00\",\"2020-03-21T00:00:00\",\"2020-03-22T00:00:00\",\"2020-03-23T00:00:00\",\"2020-03-24T00:00:00\",\"2020-03-25T00:00:00\",\"2020-03-26T00:00:00\",\"2020-03-27T00:00:00\",\"2020-03-28T00:00:00\",\"2020-03-29T00:00:00\",\"2020-03-30T00:00:00\",\"2020-03-31T00:00:00\",\"2020-04-01T00:00:00\",\"2020-04-02T00:00:00\",\"2020-04-03T00:00:00\",\"2020-04-04T00:00:00\",\"2020-04-05T00:00:00\",\"2020-04-06T00:00:00\",\"2020-04-07T00:00:00\",\"2020-04-08T00:00:00\",\"2020-04-09T00:00:00\",\"2020-04-10T00:00:00\",\"2020-04-11T00:00:00\",\"2020-04-12T00:00:00\",\"2020-04-13T00:00:00\",\"2020-04-14T00:00:00\",\"2020-04-15T00:00:00\",\"2020-04-16T00:00:00\",\"2020-04-17T00:00:00\",\"2020-04-18T00:00:00\",\"2020-04-19T00:00:00\",\"2020-04-20T00:00:00\",\"2020-04-21T00:00:00\",\"2020-04-22T00:00:00\",\"2020-04-23T00:00:00\",\"2020-04-24T00:00:00\",\"2020-04-25T00:00:00\",\"2020-04-26T00:00:00\",\"2020-04-27T00:00:00\",\"2020-04-28T00:00:00\",\"2020-04-29T00:00:00\",\"2020-04-30T00:00:00\",\"2020-05-01T00:00:00\",\"2020-05-02T00:00:00\",\"2020-05-03T00:00:00\",\"2020-05-04T00:00:00\",\"2020-05-05T00:00:00\",\"2020-05-06T00:00:00\",\"2020-05-07T00:00:00\",\"2020-05-08T00:00:00\",\"2020-05-09T00:00:00\",\"2020-05-10T00:00:00\",\"2020-05-11T00:00:00\",\"2020-05-12T00:00:00\",\"2020-05-13T00:00:00\",\"2020-05-14T00:00:00\",\"2020-05-15T00:00:00\",\"2020-05-16T00:00:00\",\"2020-05-17T00:00:00\",\"2020-05-18T00:00:00\",\"2020-05-19T00:00:00\",\"2020-05-20T00:00:00\",\"2020-05-21T00:00:00\",\"2020-05-22T00:00:00\",\"2020-05-23T00:00:00\",\"2020-05-24T00:00:00\",\"2020-05-25T00:00:00\",\"2020-05-26T00:00:00\",\"2020-05-27T00:00:00\",\"2020-05-28T00:00:00\",\"2020-05-29T00:00:00\",\"2020-05-30T00:00:00\",\"2020-05-31T00:00:00\",\"2020-06-01T00:00:00\",\"2020-06-02T00:00:00\",\"2020-06-03T00:00:00\",\"2020-06-04T00:00:00\",\"2020-06-05T00:00:00\",\"2020-06-06T00:00:00\",\"2020-06-07T00:00:00\",\"2020-06-08T00:00:00\",\"2020-06-09T00:00:00\",\"2020-06-10T00:00:00\",\"2020-06-11T00:00:00\",\"2020-06-12T00:00:00\",\"2020-06-13T00:00:00\",\"2020-06-14T00:00:00\",\"2020-06-15T00:00:00\",\"2020-06-16T00:00:00\",\"2020-06-17T00:00:00\",\"2020-06-18T00:00:00\",\"2020-06-19T00:00:00\",\"2020-06-20T00:00:00\",\"2020-06-21T00:00:00\",\"2020-06-22T00:00:00\",\"2020-06-23T00:00:00\",\"2020-06-24T00:00:00\",\"2020-06-25T00:00:00\",\"2020-06-26T00:00:00\",\"2020-06-27T00:00:00\",\"2020-06-28T00:00:00\",\"2020-06-29T00:00:00\",\"2020-06-30T00:00:00\",\"2020-07-01T00:00:00\",\"2020-07-02T00:00:00\",\"2020-07-03T00:00:00\",\"2020-07-04T00:00:00\",\"2020-07-05T00:00:00\",\"2020-07-06T00:00:00\",\"2020-07-07T00:00:00\",\"2020-07-08T00:00:00\",\"2020-07-09T00:00:00\",\"2020-07-10T00:00:00\",\"2020-07-11T00:00:00\",\"2020-07-12T00:00:00\",\"2020-07-13T00:00:00\",\"2020-07-14T00:00:00\",\"2020-07-15T00:00:00\",\"2020-07-16T00:00:00\",\"2020-07-17T00:00:00\",\"2020-07-18T00:00:00\",\"2020-07-19T00:00:00\",\"2020-07-20T00:00:00\",\"2020-07-21T00:00:00\",\"2020-07-22T00:00:00\",\"2020-07-23T00:00:00\",\"2020-07-24T00:00:00\",\"2020-07-25T00:00:00\",\"2020-07-26T00:00:00\",\"2020-07-27T00:00:00\",\"2020-07-28T00:00:00\",\"2020-07-29T00:00:00\",\"2020-07-30T00:00:00\",\"2020-07-31T00:00:00\",\"2020-08-01T00:00:00\",\"2020-08-02T00:00:00\",\"2020-08-03T00:00:00\",\"2020-08-04T00:00:00\",\"2020-08-05T00:00:00\",\"2020-08-06T00:00:00\",\"2020-08-07T00:00:00\",\"2020-08-08T00:00:00\",\"2020-08-09T00:00:00\",\"2020-08-10T00:00:00\",\"2020-08-11T00:00:00\",\"2020-08-12T00:00:00\",\"2020-08-13T00:00:00\",\"2020-08-14T00:00:00\",\"2020-08-15T00:00:00\",\"2020-08-16T00:00:00\",\"2020-08-17T00:00:00\",\"2020-08-18T00:00:00\",\"2020-08-19T00:00:00\",\"2020-08-20T00:00:00\",\"2020-08-21T00:00:00\",\"2020-08-22T00:00:00\",\"2020-08-23T00:00:00\",\"2020-08-24T00:00:00\",\"2020-08-25T00:00:00\",\"2020-08-26T00:00:00\",\"2020-08-27T00:00:00\",\"2020-08-28T00:00:00\",\"2020-08-29T00:00:00\",\"2020-08-30T00:00:00\",\"2020-08-31T00:00:00\",\"2020-09-01T00:00:00\",\"2020-09-02T00:00:00\",\"2020-09-03T00:00:00\",\"2020-09-04T00:00:00\",\"2020-09-05T00:00:00\",\"2020-09-06T00:00:00\",\"2020-09-07T00:00:00\",\"2020-09-08T00:00:00\",\"2020-09-09T00:00:00\",\"2020-09-10T00:00:00\",\"2020-09-11T00:00:00\",\"2020-09-12T00:00:00\",\"2020-09-13T00:00:00\",\"2020-09-14T00:00:00\",\"2020-09-15T00:00:00\",\"2020-09-16T00:00:00\",\"2020-09-17T00:00:00\",\"2020-09-18T00:00:00\",\"2020-09-19T00:00:00\",\"2020-09-20T00:00:00\",\"2020-09-21T00:00:00\",\"2020-09-22T00:00:00\",\"2020-09-23T00:00:00\",\"2020-09-24T00:00:00\",\"2020-09-25T00:00:00\",\"2020-09-26T00:00:00\",\"2020-09-27T00:00:00\",\"2020-09-28T00:00:00\",\"2020-09-29T00:00:00\",\"2020-09-30T00:00:00\",\"2020-10-01T00:00:00\",\"2020-10-02T00:00:00\",\"2020-10-03T00:00:00\",\"2020-10-04T00:00:00\",\"2020-10-05T00:00:00\",\"2020-10-06T00:00:00\",\"2020-10-07T00:00:00\",\"2020-10-08T00:00:00\",\"2020-10-09T00:00:00\",\"2020-10-10T00:00:00\",\"2020-10-11T00:00:00\",\"2020-10-12T00:00:00\",\"2020-10-13T00:00:00\",\"2020-10-14T00:00:00\",\"2020-10-15T00:00:00\",\"2020-10-16T00:00:00\",\"2020-10-17T00:00:00\",\"2020-10-18T00:00:00\",\"2020-10-19T00:00:00\",\"2020-10-20T00:00:00\",\"2020-10-21T00:00:00\",\"2020-10-22T00:00:00\",\"2020-10-23T00:00:00\",\"2020-10-24T00:00:00\",\"2020-10-25T00:00:00\",\"2020-10-26T00:00:00\",\"2020-10-27T00:00:00\",\"2020-10-28T00:00:00\",\"2020-10-29T00:00:00\",\"2020-10-30T00:00:00\",\"2020-10-31T00:00:00\",\"2020-11-01T00:00:00\",\"2020-11-02T00:00:00\",\"2020-11-03T00:00:00\",\"2020-11-04T00:00:00\",\"2020-11-05T00:00:00\",\"2020-11-06T00:00:00\",\"2020-11-07T00:00:00\",\"2020-11-08T00:00:00\",\"2020-11-09T00:00:00\",\"2020-11-10T00:00:00\",\"2020-11-11T00:00:00\",\"2020-11-12T00:00:00\",\"2020-11-13T00:00:00\",\"2020-11-14T00:00:00\",\"2020-11-15T00:00:00\",\"2020-11-16T00:00:00\",\"2020-11-17T00:00:00\",\"2020-11-18T00:00:00\",\"2020-11-19T00:00:00\",\"2020-11-20T00:00:00\",\"2020-11-21T00:00:00\",\"2020-11-22T00:00:00\",\"2020-11-23T00:00:00\",\"2020-11-24T00:00:00\",\"2020-11-25T00:00:00\",\"2020-11-26T00:00:00\",\"2020-11-27T00:00:00\",\"2020-11-28T00:00:00\",\"2020-11-29T00:00:00\",\"2020-11-30T00:00:00\",\"2020-12-01T00:00:00\",\"2020-12-02T00:00:00\",\"2020-12-03T00:00:00\",\"2020-12-04T00:00:00\",\"2020-12-05T00:00:00\",\"2020-12-06T00:00:00\",\"2020-12-07T00:00:00\",\"2020-12-08T00:00:00\",\"2020-12-09T00:00:00\",\"2020-12-10T00:00:00\",\"2020-12-11T00:00:00\",\"2020-12-12T00:00:00\",\"2020-12-13T00:00:00\",\"2020-12-14T00:00:00\",\"2020-12-15T00:00:00\",\"2020-12-16T00:00:00\",\"2020-12-17T00:00:00\",\"2020-12-18T00:00:00\",\"2020-12-19T00:00:00\",\"2020-12-20T00:00:00\",\"2020-12-21T00:00:00\",\"2020-12-22T00:00:00\",\"2020-12-23T00:00:00\",\"2020-12-24T00:00:00\",\"2020-12-25T00:00:00\",\"2020-12-26T00:00:00\",\"2020-12-27T00:00:00\",\"2020-12-28T00:00:00\",\"2020-12-29T00:00:00\",\"2020-12-30T00:00:00\",\"2020-12-31T00:00:00\"],\"xaxis\":\"x5\",\"y\":[0.024937499999999963,0.025029239766081825,0.02826815642458097,0.027078651685393206,0.026062176165803072,0.032839506172839456,0.7979197080291971,0.9360727272727272,0.9270462633451957,0.9921167883211676,0.06605504587155953,0.06540540540540532,0.9371223021582731,0.9654642857142852,0.9841155234657041,0.9651785714285712,0.9674545454545455,0.06330188679245274,0.05217391304347822,0.05907894736842097,0.9143416370106757,0.9529999999999991,0.9773476702508949,0.9289169675090249,0.06453703703703695,0.06436123348017615,0.9098943661971832,0.9477580071174373,0.9907829181494663,0.9895667870036098,0.9885765124555149,0.06985436893203877,0.06260465116279063,0.8866423357664228,0.949028776978417,0.9558992805755394,0.970974729241877,0.9789818181818176,0.06420792079207915,0.05855263157894728,0.9340959409594093,0.9430357142857138,0.9627857142857145,0.9312411347517731,0.8861538461538458,0.05529126213592227,0.04594339622641502,0.054015444015443934,0.8721908127208476,0.9313286713286711,0.9316319444444434,0.8970357142857148,0.05995073891625607,0.057737556561085875,0.8947142857142857,0.9708363636363637,0.9516783216783211,0.9106071428571426,0.8427874564459926,0.060091743119265954,0.06085972850678723,0.8437543859649128,0.8884137931034486,0.8477663230240551,0.8983916083916078,0.8636042402826856,0.06328358208955218,0.05820960698689948,0.7746126760563375,0.8350530035335687,0.762278911564625,0.7686851211072663,0.6696774193548389,0.04081967213114747,0.027433155080213847,0.02423255813953483,0.02735849056603769,0.031772151898734134,0.03515695067264568,0.03388392857142852,0.029902912621359173,0.03018691588785043,0.06427419354838701,0.0636186770428015,0.06486166007905132,0.059809885931558886,0.06103999999999992,0.043668122270742286,0.04799999999999994,0.20878048780487798,0.37740863787375406,0.8333865814696486,0.9468506493506484,0.9287296416938103,0.31900355871886155,0.2285971223021583,1.0115584415584395,0.9989967637540432,0.9195569620253153,0.9467197452229277,0.7781935483870969,0.2428727272727274,0.16568702290076326,0.9153821656050949,0.9311897106109318,0.8863836477987403,0.9098039215686267,0.7919672131147544,0.2471530249110322,0.180505415162455,0.8283437499999998,0.8578369905956114,0.8642948717948717,0.8385173501577289,0.7915533980582528,0.22378091872791522,0.15514388489208628,0.8176898734177221,0.8268253968253971,0.8321337579617835,0.8066666666666668,0.723003194888179,0.21582706766917298,0.1479850746268657,0.7926451612903224,0.78705501618123,0.7649517684887459,0.7374193548387098,0.6908910891089105,0.1990579710144928,0.1262030075187971,0.718690095846645,0.7263987138263668,0.7034824281150163,0.6723717948717951,0.6266990291262138,0.20866171003717485,0.16036496350364962,0.6150798722044732,0.5544336569579292,0.5231250000000003,0.46170491803278707,0.3919594594594595,0.10838345864661673,0.05901785714285707,0.059437229437229365,0.06617424242424237,0.06062499999999995,0.05384297520661151,0.04776824034334759,0.04104999999999997,0.03405797101449271,0.050154440154440094,0.05114173228346453,0.05251908396946559,0.0540248962655601,0.045897435897435813,0.03819047619047616,0.03634361233480172,0.0714179104477612,0.07511363636363645,0.07060606060606062,0.06604562737642583,0.047410358565737006,0.03582914572864316,0.030801886792452778,0.05833976833976829,0.060112781954887166,0.07191570881226061,0.06472440944881887,0.05372950819672126,0.05051020408163262,0.047323232323232274,0.05752988047808759,0.05919999999999995,0.062448979591836686,0.05640624999999995,0.0534177215189873,0.05085858585858582,0.046886792452830145,0.05555084745762707,0.05794979079497903,0.05440816326530608,0.05916666666666662,0.053653846153846135,0.050344827586206856,0.047393617021276556,0.05622047244094483,0.07397727272727284,0.07706563706563721,0.07433962264150949,0.059999999999999956,0.054782608695652116,0.05180952380952377,0.06542435424354244,0.07040293040293055,0.06910071942446054,0.06410646387832698,0.0548163265306122,0.04659192825112103,0.04818181818181814,0.05874999999999994,0.053984962406014976,0.050780669144981375,0.04778597785977857,0.04066176470588232,0.042399999999999965,0.03897674418604649,0.04214007782101164,0.04274436090225559,0.04206896551724134,0.03865900383141759,0.03651821862348176,0.03748815165876775,0.03556603773584904,0.037070312499999966,0.03516363636363633,0.037251908396946545,0.03358490566037734,0.03363984674329498,0.03611111111111109,0.03297777777777776,0.033309859154929546,0.03439285714285712,0.03652985074626863,0.03637992831541215,0.033505154639175236,0.03538135593220336,0.03451063829787231,0.043876811594202855,0.04766666666666664,0.06540983606557388,0.0827124183006537,0.10176470588235302,0.09011538461538474,0.15044520547945192,0.7767682926829269,0.8746341463414631,0.9279341317365265,0.9751063829787222,0.9820059880239502,0.13406360424028263,0.11539473684210533,1.008206686930091,1.0236746987951795,1.1108231707317056,1.0036716417910432,1.068348348348346,0.1237050359712231,0.08963369963369987,0.1118000000000001,1.0004733727810637,1.0256797583081558,1.0080180180180156,1.0281024096385523,0.12789830508474578,0.12585858585858584,0.17241721854304637,0.13923611111111114,0.0693273542600896,0.018705035971223017,0.027528735632183863,0.03917098445595851,0.0479638009049773,0.06394636015325668,0.07408759124087605,0.5773667711598747,0.7844648318042815,0.8625151515151517,0.09908771929824581,0.106088560885609,0.9506268656716412,0.9495468277945609,1.0049404761904754,0.9715662650602396,0.9878851963746211,0.11675862068965531,0.10821548821548833,0.9239339339339327,0.9360060060060041,0.947933130699088,0.9555389221556876,1.0081733746130024,0.13387543252595144,0.11460750853242335,0.9576060606060594,0.948674698795179,0.8619393939393938,0.9495808383233518,1.0123723723723699,0.23802768166089963,0.11467128027681665,0.8994894894894886,0.9454848484848479,0.9804819277108416,0.9751829268292671,1.001014925373132,0.12791808873720137,0.11397887323943674,0.8964220183486231,0.8923795180722869,0.8775541795665631,0.15723905723905723,0.8789062499999997,0.08955719557195593,0.07956678700361029,0.872567164179103,0.9803658536585353,0.9029041916167657,0.9123030303030291,1.032813455657491,0.11789473684210537,0.09515679442508726,0.8696666666666664,0.9487650602409616,0.4217377049180334,0.8979090909090897,1.002212121212119,0.11505338078291821,0.09544520547945219,0.8535474006116203,0.9436060606060589,0.9884939759036133,0.9888923076923063,0.9827692307692295,0.22946428571428568,0.08292682926829285,0.08275362318840597,0.07571428571428586,0.05415458937198062,0.06179999999999991,0.06067226890756295,0.06063999999999992,0.07190972222222237,0.8369659442724455,0.8835649546827778,0.8866366366366363,0.8814970059880228,0.9170303030303012,0.11618518518518532,0.09386861313868632,0.879908256880734,0.8930815709969777,0.925848484848483,0.9221036585365834,0.9550151975683875,0.12503521126760564,0.11029962546816498,0.854012158054711,0.8695495495495487,0.9180120481927699,0.8934545454545445,0.7201562499999998,0.11501872659176052,0.08521551724137948,0.08106557377049198,0.07025531914893615,0.06532188841201708,0.06399038461538456,0.0484831460674157,0.04119170984455955,0.0431770833333333,0.04909909909909904,0.05110132158590301,0.051391304347826024,0.051130434782608626],\"yaxis\":\"y5\"},{\"hovertemplate\":\"state=Michigan<br>time=%{x}<br>pct_access=%{y}<extra></extra>\",\"legendgroup\":\"Michigan\",\"line\":{\"color\":\"#EF553B\",\"dash\":\"solid\"},\"marker\":{\"symbol\":\"circle\"},\"mode\":\"lines\",\"name\":\"Michigan\",\"showlegend\":true,\"type\":\"scattergl\",\"x\":[\"2020-01-01T00:00:00\",\"2020-01-02T00:00:00\",\"2020-01-03T00:00:00\",\"2020-01-04T00:00:00\",\"2020-01-05T00:00:00\",\"2020-01-06T00:00:00\",\"2020-01-07T00:00:00\",\"2020-01-08T00:00:00\",\"2020-01-09T00:00:00\",\"2020-01-10T00:00:00\",\"2020-01-11T00:00:00\",\"2020-01-12T00:00:00\",\"2020-01-13T00:00:00\",\"2020-01-14T00:00:00\",\"2020-01-15T00:00:00\",\"2020-01-16T00:00:00\",\"2020-01-17T00:00:00\",\"2020-01-18T00:00:00\",\"2020-01-19T00:00:00\",\"2020-01-20T00:00:00\",\"2020-01-21T00:00:00\",\"2020-01-22T00:00:00\",\"2020-01-23T00:00:00\",\"2020-01-24T00:00:00\",\"2020-01-25T00:00:00\",\"2020-01-26T00:00:00\",\"2020-01-27T00:00:00\",\"2020-01-28T00:00:00\",\"2020-01-29T00:00:00\",\"2020-01-30T00:00:00\",\"2020-01-31T00:00:00\",\"2020-02-01T00:00:00\",\"2020-02-02T00:00:00\",\"2020-02-03T00:00:00\",\"2020-02-04T00:00:00\",\"2020-02-05T00:00:00\",\"2020-02-06T00:00:00\",\"2020-02-07T00:00:00\",\"2020-02-08T00:00:00\",\"2020-02-09T00:00:00\",\"2020-02-10T00:00:00\",\"2020-02-11T00:00:00\",\"2020-02-12T00:00:00\",\"2020-02-13T00:00:00\",\"2020-02-14T00:00:00\",\"2020-02-15T00:00:00\",\"2020-02-16T00:00:00\",\"2020-02-17T00:00:00\",\"2020-02-18T00:00:00\",\"2020-02-19T00:00:00\",\"2020-02-20T00:00:00\",\"2020-02-21T00:00:00\",\"2020-02-22T00:00:00\",\"2020-02-23T00:00:00\",\"2020-02-24T00:00:00\",\"2020-02-25T00:00:00\",\"2020-02-26T00:00:00\",\"2020-02-27T00:00:00\",\"2020-02-28T00:00:00\",\"2020-02-29T00:00:00\",\"2020-03-01T00:00:00\",\"2020-03-02T00:00:00\",\"2020-03-03T00:00:00\",\"2020-03-04T00:00:00\",\"2020-03-05T00:00:00\",\"2020-03-06T00:00:00\",\"2020-03-07T00:00:00\",\"2020-03-08T00:00:00\",\"2020-03-09T00:00:00\",\"2020-03-10T00:00:00\",\"2020-03-11T00:00:00\",\"2020-03-12T00:00:00\",\"2020-03-13T00:00:00\",\"2020-03-14T00:00:00\",\"2020-03-15T00:00:00\",\"2020-03-16T00:00:00\",\"2020-03-17T00:00:00\",\"2020-03-18T00:00:00\",\"2020-03-19T00:00:00\",\"2020-03-20T00:00:00\",\"2020-03-21T00:00:00\",\"2020-03-22T00:00:00\",\"2020-03-23T00:00:00\",\"2020-03-24T00:00:00\",\"2020-03-25T00:00:00\",\"2020-03-26T00:00:00\",\"2020-03-27T00:00:00\",\"2020-03-28T00:00:00\",\"2020-03-29T00:00:00\",\"2020-03-30T00:00:00\",\"2020-03-31T00:00:00\",\"2020-04-01T00:00:00\",\"2020-04-02T00:00:00\",\"2020-04-03T00:00:00\",\"2020-04-04T00:00:00\",\"2020-04-05T00:00:00\",\"2020-04-06T00:00:00\",\"2020-04-07T00:00:00\",\"2020-04-08T00:00:00\",\"2020-04-09T00:00:00\",\"2020-04-10T00:00:00\",\"2020-04-11T00:00:00\",\"2020-04-12T00:00:00\",\"2020-04-13T00:00:00\",\"2020-04-14T00:00:00\",\"2020-04-15T00:00:00\",\"2020-04-16T00:00:00\",\"2020-04-17T00:00:00\",\"2020-04-18T00:00:00\",\"2020-04-19T00:00:00\",\"2020-04-20T00:00:00\",\"2020-04-21T00:00:00\",\"2020-04-22T00:00:00\",\"2020-04-23T00:00:00\",\"2020-04-24T00:00:00\",\"2020-04-25T00:00:00\",\"2020-04-26T00:00:00\",\"2020-04-27T00:00:00\",\"2020-04-28T00:00:00\",\"2020-04-29T00:00:00\",\"2020-04-30T00:00:00\",\"2020-05-01T00:00:00\",\"2020-05-02T00:00:00\",\"2020-05-03T00:00:00\",\"2020-05-04T00:00:00\",\"2020-05-05T00:00:00\",\"2020-05-06T00:00:00\",\"2020-05-07T00:00:00\",\"2020-05-08T00:00:00\",\"2020-05-09T00:00:00\",\"2020-05-10T00:00:00\",\"2020-05-11T00:00:00\",\"2020-05-12T00:00:00\",\"2020-05-13T00:00:00\",\"2020-05-14T00:00:00\",\"2020-05-15T00:00:00\",\"2020-05-16T00:00:00\",\"2020-05-17T00:00:00\",\"2020-05-18T00:00:00\",\"2020-05-19T00:00:00\",\"2020-05-20T00:00:00\",\"2020-05-21T00:00:00\",\"2020-05-22T00:00:00\",\"2020-05-23T00:00:00\",\"2020-05-24T00:00:00\",\"2020-05-25T00:00:00\",\"2020-05-26T00:00:00\",\"2020-05-27T00:00:00\",\"2020-05-28T00:00:00\",\"2020-05-29T00:00:00\",\"2020-05-30T00:00:00\",\"2020-05-31T00:00:00\",\"2020-06-01T00:00:00\",\"2020-06-02T00:00:00\",\"2020-06-03T00:00:00\",\"2020-06-04T00:00:00\",\"2020-06-05T00:00:00\",\"2020-06-06T00:00:00\",\"2020-06-07T00:00:00\",\"2020-06-08T00:00:00\",\"2020-06-09T00:00:00\",\"2020-06-10T00:00:00\",\"2020-06-11T00:00:00\",\"2020-06-12T00:00:00\",\"2020-06-13T00:00:00\",\"2020-06-14T00:00:00\",\"2020-06-15T00:00:00\",\"2020-06-16T00:00:00\",\"2020-06-17T00:00:00\",\"2020-06-18T00:00:00\",\"2020-06-19T00:00:00\",\"2020-06-20T00:00:00\",\"2020-06-21T00:00:00\",\"2020-06-22T00:00:00\",\"2020-06-23T00:00:00\",\"2020-06-24T00:00:00\",\"2020-06-25T00:00:00\",\"2020-06-26T00:00:00\",\"2020-06-27T00:00:00\",\"2020-06-28T00:00:00\",\"2020-06-29T00:00:00\",\"2020-06-30T00:00:00\",\"2020-07-01T00:00:00\",\"2020-07-02T00:00:00\",\"2020-07-03T00:00:00\",\"2020-07-04T00:00:00\",\"2020-07-05T00:00:00\",\"2020-07-06T00:00:00\",\"2020-07-07T00:00:00\",\"2020-07-08T00:00:00\",\"2020-07-09T00:00:00\",\"2020-07-10T00:00:00\",\"2020-07-11T00:00:00\",\"2020-07-12T00:00:00\",\"2020-07-13T00:00:00\",\"2020-07-14T00:00:00\",\"2020-07-15T00:00:00\",\"2020-07-16T00:00:00\",\"2020-07-17T00:00:00\",\"2020-07-18T00:00:00\",\"2020-07-19T00:00:00\",\"2020-07-20T00:00:00\",\"2020-07-21T00:00:00\",\"2020-07-22T00:00:00\",\"2020-07-23T00:00:00\",\"2020-07-24T00:00:00\",\"2020-07-25T00:00:00\",\"2020-07-26T00:00:00\",\"2020-07-27T00:00:00\",\"2020-07-28T00:00:00\",\"2020-07-29T00:00:00\",\"2020-07-30T00:00:00\",\"2020-07-31T00:00:00\",\"2020-08-01T00:00:00\",\"2020-08-02T00:00:00\",\"2020-08-03T00:00:00\",\"2020-08-04T00:00:00\",\"2020-08-05T00:00:00\",\"2020-08-06T00:00:00\",\"2020-08-07T00:00:00\",\"2020-08-08T00:00:00\",\"2020-08-09T00:00:00\",\"2020-08-10T00:00:00\",\"2020-08-11T00:00:00\",\"2020-08-12T00:00:00\",\"2020-08-13T00:00:00\",\"2020-08-14T00:00:00\",\"2020-08-15T00:00:00\",\"2020-08-16T00:00:00\",\"2020-08-17T00:00:00\",\"2020-08-18T00:00:00\",\"2020-08-19T00:00:00\",\"2020-08-20T00:00:00\",\"2020-08-21T00:00:00\",\"2020-08-22T00:00:00\",\"2020-08-23T00:00:00\",\"2020-08-24T00:00:00\",\"2020-08-25T00:00:00\",\"2020-08-26T00:00:00\",\"2020-08-27T00:00:00\",\"2020-08-28T00:00:00\",\"2020-08-29T00:00:00\",\"2020-08-30T00:00:00\",\"2020-08-31T00:00:00\",\"2020-09-01T00:00:00\",\"2020-09-02T00:00:00\",\"2020-09-03T00:00:00\",\"2020-09-04T00:00:00\",\"2020-09-05T00:00:00\",\"2020-09-06T00:00:00\",\"2020-09-07T00:00:00\",\"2020-09-08T00:00:00\",\"2020-09-09T00:00:00\",\"2020-09-10T00:00:00\",\"2020-09-11T00:00:00\",\"2020-09-12T00:00:00\",\"2020-09-13T00:00:00\",\"2020-09-14T00:00:00\",\"2020-09-15T00:00:00\",\"2020-09-16T00:00:00\",\"2020-09-17T00:00:00\",\"2020-09-18T00:00:00\",\"2020-09-19T00:00:00\",\"2020-09-20T00:00:00\",\"2020-09-21T00:00:00\",\"2020-09-22T00:00:00\",\"2020-09-23T00:00:00\",\"2020-09-24T00:00:00\",\"2020-09-25T00:00:00\",\"2020-09-26T00:00:00\",\"2020-09-27T00:00:00\",\"2020-09-28T00:00:00\",\"2020-09-29T00:00:00\",\"2020-09-30T00:00:00\",\"2020-10-01T00:00:00\",\"2020-10-02T00:00:00\",\"2020-10-03T00:00:00\",\"2020-10-04T00:00:00\",\"2020-10-05T00:00:00\",\"2020-10-06T00:00:00\",\"2020-10-07T00:00:00\",\"2020-10-08T00:00:00\",\"2020-10-09T00:00:00\",\"2020-10-10T00:00:00\",\"2020-10-11T00:00:00\",\"2020-10-12T00:00:00\",\"2020-10-13T00:00:00\",\"2020-10-14T00:00:00\",\"2020-10-15T00:00:00\",\"2020-10-16T00:00:00\",\"2020-10-17T00:00:00\",\"2020-10-18T00:00:00\",\"2020-10-19T00:00:00\",\"2020-10-20T00:00:00\",\"2020-10-21T00:00:00\",\"2020-10-22T00:00:00\",\"2020-10-23T00:00:00\",\"2020-10-24T00:00:00\",\"2020-10-25T00:00:00\",\"2020-10-26T00:00:00\",\"2020-10-27T00:00:00\",\"2020-10-28T00:00:00\",\"2020-10-29T00:00:00\",\"2020-10-30T00:00:00\",\"2020-10-31T00:00:00\",\"2020-11-01T00:00:00\",\"2020-11-02T00:00:00\",\"2020-11-03T00:00:00\",\"2020-11-04T00:00:00\",\"2020-11-05T00:00:00\",\"2020-11-06T00:00:00\",\"2020-11-07T00:00:00\",\"2020-11-08T00:00:00\",\"2020-11-09T00:00:00\",\"2020-11-10T00:00:00\",\"2020-11-11T00:00:00\",\"2020-11-12T00:00:00\",\"2020-11-13T00:00:00\",\"2020-11-14T00:00:00\",\"2020-11-15T00:00:00\",\"2020-11-16T00:00:00\",\"2020-11-17T00:00:00\",\"2020-11-18T00:00:00\",\"2020-11-19T00:00:00\",\"2020-11-20T00:00:00\",\"2020-11-21T00:00:00\",\"2020-11-22T00:00:00\",\"2020-11-23T00:00:00\",\"2020-11-24T00:00:00\",\"2020-11-25T00:00:00\",\"2020-11-26T00:00:00\",\"2020-11-27T00:00:00\",\"2020-11-28T00:00:00\",\"2020-11-29T00:00:00\",\"2020-11-30T00:00:00\",\"2020-12-01T00:00:00\",\"2020-12-02T00:00:00\",\"2020-12-03T00:00:00\",\"2020-12-04T00:00:00\",\"2020-12-05T00:00:00\",\"2020-12-06T00:00:00\",\"2020-12-07T00:00:00\",\"2020-12-08T00:00:00\",\"2020-12-09T00:00:00\",\"2020-12-10T00:00:00\",\"2020-12-11T00:00:00\",\"2020-12-12T00:00:00\",\"2020-12-13T00:00:00\",\"2020-12-14T00:00:00\",\"2020-12-15T00:00:00\",\"2020-12-16T00:00:00\",\"2020-12-17T00:00:00\",\"2020-12-18T00:00:00\",\"2020-12-19T00:00:00\",\"2020-12-20T00:00:00\",\"2020-12-21T00:00:00\",\"2020-12-22T00:00:00\",\"2020-12-23T00:00:00\",\"2020-12-24T00:00:00\",\"2020-12-25T00:00:00\",\"2020-12-26T00:00:00\",\"2020-12-27T00:00:00\",\"2020-12-28T00:00:00\",\"2020-12-29T00:00:00\",\"2020-12-30T00:00:00\",\"2020-12-31T00:00:00\"],\"xaxis\":\"x4\",\"y\":[0.014868421052631583,0.01663636363636364,0.017757009345794394,0.0194392523364486,0.018620689655172412,0.5873737373737372,0.5861613691931539,0.6313365155131259,0.6609443099273593,0.7253504672897185,0.020504201680672244,0.022026143790849627,0.6167056074766353,0.5986634844868731,0.55688775510204,0.569896640826873,0.3277008310249313,0.012962962962962968,0.014424778761061954,0.011527777777777783,0.5854731457800512,0.6259102244389018,0.666781326781326,0.6880589680589668,0.02346938775510203,0.02140939597315432,0.6398437499999994,0.5531202046035809,0.6217079207920793,0.663194103194103,0.7250952380952369,0.02585365853658531,0.017272727272727266,0.573834951456311,0.5811386138613858,0.5951833740831292,0.6644902912621345,0.7005424528301875,0.022543859649122786,0.017793103448275838,0.5951338199513377,0.5231143552311429,0.6875121951219504,0.6841105769230752,0.6280259740259742,0.020752688172043017,0.0177570093457944,0.01807999999999999,0.5647148288973388,0.5631102362204722,0.5891923076923072,0.6058102766798423,0.02547169811320751,0.02265624999999997,0.5973860911270981,0.5582,0.02703030303030299,0.4854966887417214,0.6110854503464197,0.019196428571428566,0.0216296296296296,0.6259478672985778,0.5845130641330168,0.5021040189125294,0.5025531914893616,0.5064974619289337,0.020378787878787837,0.019285714285714267,0.5760606060606059,0.42875930521091793,0.5675707547169805,0.49387706855791913,0.31177545691906056,0.02139072847682116,0.01899999999999997,0.03299999999999995,0.031646586345381485,0.030398406374501946,0.030164609053497906,0.028999999999999942,0.021265822784810096,0.01718120805369125,0.030162601626016198,0.03460629921259834,0.03497757847533628,0.030533333333333277,0.026386554621848694,0.018988764044943773,0.016888888888888863,0.032878787878787806,0.026914498141263874,0.028931623931623893,0.030894308943089376,0.03092592592592587,0.017405405405405368,0.014728260869565205,0.02467248908296939,0.02364864864864861,0.023333333333333293,0.02071428571428567,0.019212962962962925,0.016808510638297858,0.014039735099337746,0.02242718446601939,0.02759999999999994,0.029461279461279424,0.029664429530201295,0.030071428571428534,0.021644444444444397,0.018471074380165244,0.060638977635782805,0.17106666666666684,0.1863775510204088,0.218201058201059,0.1892582417582423,0.08086330935251813,0.06884758364312278,0.1871544715447163,0.19278931750741873,0.1878630136986305,0.1765428571428574,0.17218241042345298,0.07455752212389385,0.06074999999999987,0.17166666666666688,0.16715099715099713,0.16051829268292686,0.15478527607361958,0.1464457831325301,0.06531380753138064,0.05760563380281678,0.15300578034682089,0.14497142857142872,0.13200581395348837,0.13869565217391316,0.13564954682779448,0.06258771929824548,0.05928571428571415,0.137844827586207,0.13403458213256497,0.12478658536585358,0.1311073825503356,0.11317307692307689,0.05619909502262428,0.04571428571428562,0.05331818181818172,0.11573289902280126,0.11675324675324662,0.11070336391437297,0.11605351170568558,0.057610619469026424,0.0463716814159291,0.09010033444816065,0.10114864864864877,0.0901286173633443,0.09413194444444464,0.08598540145985416,0.015258620689655179,0.009583333333333338,0.01845070422535209,0.02010152284263956,0.018292682926829236,0.017932692307692275,0.015180722891566247,0.012946428571428577,0.009252336448598134,0.01188888888888889,0.01464516129032257,0.012795031055900625,0.012528089887640446,0.015454545454545459,0.014329896907216502,0.01344444444444445,0.011472392638036814,0.011851851851851856,0.015687499999999983,0.012025316455696208,0.012537313432835826,0.011120689655172416,0.012649572649572654,0.01351351351351352,0.012214765100671146,0.013439490445859872,0.012649006622516562,0.009816513761467895,0.012702702702702705,0.009431818181818184,0.009139072847682122,0.010584795321637433,0.010862068965517247,0.011204819277108438,0.011369863013698633,0.01066037735849057,0.01333333333333334,0.013391812865497066,0.015827814569536403,0.015146198830409343,0.01459302325581394,0.012781954887218049,0.011919191919191923,0.011858407079646022,0.010397350993377488,0.011538461538461543,0.012155688622754495,0.01194029850746269,0.011323529411764711,0.012162162162162166,0.01213114754098361,0.009617486338797816,0.010815217391304354,0.010497237569060777,0.009265536723163846,0.01128571428571429,0.009035087719298248,0.010472440944881894,0.009351351351351357,0.008437500000000004,0.008906250000000004,0.00896739130434783,0.008103448275862072,0.008545454545454549,0.00854700854700855,0.008393782383419693,0.0073893805309734545,0.008173913043478264,0.008325991189427315,0.00759615384615385,0.008515625000000002,0.007425149700598805,0.007740585774058581,0.013333333333333313,0.013169811320754695,0.01553191489361699,0.017449392712550582,0.017164948453608223,0.015674418604651137,0.027380191693290683,0.0465757575757575,0.059257142857142925,0.07318051575931248,0.08911290322580645,0.07346278317152116,0.1284969325153372,0.5025358851674636,0.8136129032258052,0.8848373101952266,0.8105777777777763,0.19632530120481925,0.11650176678445241,0.10398671096345526,0.16043731778425657,0.978418891170429,0.9013626834381521,1.0121560574948645,0.981434689507493,0.17177842565597673,0.19008130081300825,0.9666666666666656,1.0175409836065545,0.9862268041237097,1.0028399999999986,0.9889648033126281,0.1864825581395349,0.19275675675675677,1.0074343434343425,1.0200603621730362,1.0086382113821124,1.0528429423459227,1.0469387755102035,0.20488372093023308,0.21391304347826104,1.0669744597249489,1.0335613682092541,1.0248599999999977,1.0417515274949072,0.6891521739130425,0.19516034985422756,0.20832020997375378,0.9997565922920875,1.013197556008145,0.9642063492063476,1.0009859154929561,0.9310399999999981,0.1972560975609757,0.2018131868131869,0.9958431372549005,1.0257851239669404,0.969259259259258,0.9947731755424055,1.004223602484471,0.4517977528089889,0.2017414248021111,0.9738142292490107,0.9949999999999988,0.920379999999999,0.9672379032258052,0.7647921225382912,0.20704735376044564,0.18630208333333356,0.9582121807465603,0.959745098039214,1.0470399999999978,0.8863424124513594,0.8747727272727257,0.17889589905362768,0.15702005730659024,0.965807770961144,0.24896629213483193,0.9124242424242411,0.9420588235294102,1.0147239263803673,0.2037537537537539,0.1726842105263159,0.9543975903614451,0.9961829025844915,1.010664062499998,0.9688911290322569,0.9857746478873233,0.207277936962751,0.18274611398963767,0.944837398373982,0.973267716535432,0.9752427184465999,0.9875992063492047,0.9723293172690749,0.3050270270270275,0.20057851239669433,0.9360671936758885,1.0024999999999984,0.3821538461538468,0.19144262295081965,0.1295578231292517,0.1294098360655738,0.1360497237569062,0.9197363083164286,0.9200587084148707,0.9195890410958899,0.9655711422845669,0.9422290388548046,0.20576704545454563,0.17449748743718588,0.9447590361445779,0.9096917148362214,0.9338771593090192,0.9224418604651151,0.946923076923075,0.198486486486487,0.17694214876033054,0.6531055900621116,0.9134393638170959,0.9115999999999986,0.922019417475727,0.8339307535641529,0.18844036697247707,0.13404109589041108,0.14555910543131004,0.11713804713804714,0.11374100719424483,0.1017040358744395,0.0769540229885056,0.07416666666666655,0.07786069651741277,0.09298387096774204,0.08728624535315999,0.0931751824817519,0.08938775510204089],\"yaxis\":\"y4\"},{\"hovertemplate\":\"state=North Carolina<br>time=%{x}<br>pct_access=%{y}<extra></extra>\",\"legendgroup\":\"North Carolina\",\"line\":{\"color\":\"#00cc96\",\"dash\":\"solid\"},\"marker\":{\"symbol\":\"circle\"},\"mode\":\"lines\",\"name\":\"North Carolina\",\"showlegend\":true,\"type\":\"scattergl\",\"x\":[\"2020-01-01T00:00:00\",\"2020-01-02T00:00:00\",\"2020-01-03T00:00:00\",\"2020-01-04T00:00:00\",\"2020-01-05T00:00:00\",\"2020-01-06T00:00:00\",\"2020-01-07T00:00:00\",\"2020-01-08T00:00:00\",\"2020-01-09T00:00:00\",\"2020-01-10T00:00:00\",\"2020-01-11T00:00:00\",\"2020-01-12T00:00:00\",\"2020-01-13T00:00:00\",\"2020-01-14T00:00:00\",\"2020-01-15T00:00:00\",\"2020-01-16T00:00:00\",\"2020-01-17T00:00:00\",\"2020-01-18T00:00:00\",\"2020-01-19T00:00:00\",\"2020-01-20T00:00:00\",\"2020-01-21T00:00:00\",\"2020-01-22T00:00:00\",\"2020-01-23T00:00:00\",\"2020-01-24T00:00:00\",\"2020-01-25T00:00:00\",\"2020-01-26T00:00:00\",\"2020-01-27T00:00:00\",\"2020-01-28T00:00:00\",\"2020-01-29T00:00:00\",\"2020-01-30T00:00:00\",\"2020-01-31T00:00:00\",\"2020-02-01T00:00:00\",\"2020-02-02T00:00:00\",\"2020-02-03T00:00:00\",\"2020-02-04T00:00:00\",\"2020-02-05T00:00:00\",\"2020-02-06T00:00:00\",\"2020-02-07T00:00:00\",\"2020-02-08T00:00:00\",\"2020-02-09T00:00:00\",\"2020-02-10T00:00:00\",\"2020-02-11T00:00:00\",\"2020-02-12T00:00:00\",\"2020-02-13T00:00:00\",\"2020-02-14T00:00:00\",\"2020-02-15T00:00:00\",\"2020-02-16T00:00:00\",\"2020-02-17T00:00:00\",\"2020-02-18T00:00:00\",\"2020-02-19T00:00:00\",\"2020-02-20T00:00:00\",\"2020-02-21T00:00:00\",\"2020-02-22T00:00:00\",\"2020-02-23T00:00:00\",\"2020-02-24T00:00:00\",\"2020-02-25T00:00:00\",\"2020-02-26T00:00:00\",\"2020-02-27T00:00:00\",\"2020-02-28T00:00:00\",\"2020-02-29T00:00:00\",\"2020-03-01T00:00:00\",\"2020-03-02T00:00:00\",\"2020-03-03T00:00:00\",\"2020-03-04T00:00:00\",\"2020-03-05T00:00:00\",\"2020-03-06T00:00:00\",\"2020-03-07T00:00:00\",\"2020-03-08T00:00:00\",\"2020-03-09T00:00:00\",\"2020-03-10T00:00:00\",\"2020-03-11T00:00:00\",\"2020-03-12T00:00:00\",\"2020-03-13T00:00:00\",\"2020-03-14T00:00:00\",\"2020-03-15T00:00:00\",\"2020-03-16T00:00:00\",\"2020-03-17T00:00:00\",\"2020-03-18T00:00:00\",\"2020-03-19T00:00:00\",\"2020-03-20T00:00:00\",\"2020-03-21T00:00:00\",\"2020-03-22T00:00:00\",\"2020-03-23T00:00:00\",\"2020-03-24T00:00:00\",\"2020-03-25T00:00:00\",\"2020-03-26T00:00:00\",\"2020-03-27T00:00:00\",\"2020-03-28T00:00:00\",\"2020-03-29T00:00:00\",\"2020-03-30T00:00:00\",\"2020-03-31T00:00:00\",\"2020-04-01T00:00:00\",\"2020-04-02T00:00:00\",\"2020-04-03T00:00:00\",\"2020-04-04T00:00:00\",\"2020-04-05T00:00:00\",\"2020-04-06T00:00:00\",\"2020-04-07T00:00:00\",\"2020-04-08T00:00:00\",\"2020-04-09T00:00:00\",\"2020-04-10T00:00:00\",\"2020-04-11T00:00:00\",\"2020-04-12T00:00:00\",\"2020-04-13T00:00:00\",\"2020-04-14T00:00:00\",\"2020-04-15T00:00:00\",\"2020-04-16T00:00:00\",\"2020-04-17T00:00:00\",\"2020-04-18T00:00:00\",\"2020-04-19T00:00:00\",\"2020-04-20T00:00:00\",\"2020-04-21T00:00:00\",\"2020-04-22T00:00:00\",\"2020-04-23T00:00:00\",\"2020-04-24T00:00:00\",\"2020-04-25T00:00:00\",\"2020-04-26T00:00:00\",\"2020-04-27T00:00:00\",\"2020-04-28T00:00:00\",\"2020-04-29T00:00:00\",\"2020-04-30T00:00:00\",\"2020-05-01T00:00:00\",\"2020-05-02T00:00:00\",\"2020-05-03T00:00:00\",\"2020-05-04T00:00:00\",\"2020-05-05T00:00:00\",\"2020-05-06T00:00:00\",\"2020-05-07T00:00:00\",\"2020-05-08T00:00:00\",\"2020-05-09T00:00:00\",\"2020-05-10T00:00:00\",\"2020-05-11T00:00:00\",\"2020-05-12T00:00:00\",\"2020-05-13T00:00:00\",\"2020-05-14T00:00:00\",\"2020-05-15T00:00:00\",\"2020-05-16T00:00:00\",\"2020-05-17T00:00:00\",\"2020-05-18T00:00:00\",\"2020-05-19T00:00:00\",\"2020-05-20T00:00:00\",\"2020-05-21T00:00:00\",\"2020-05-22T00:00:00\",\"2020-05-23T00:00:00\",\"2020-05-24T00:00:00\",\"2020-05-25T00:00:00\",\"2020-05-26T00:00:00\",\"2020-05-27T00:00:00\",\"2020-05-28T00:00:00\",\"2020-05-29T00:00:00\",\"2020-05-30T00:00:00\",\"2020-05-31T00:00:00\",\"2020-06-01T00:00:00\",\"2020-06-02T00:00:00\",\"2020-06-03T00:00:00\",\"2020-06-04T00:00:00\",\"2020-06-05T00:00:00\",\"2020-06-06T00:00:00\",\"2020-06-07T00:00:00\",\"2020-06-08T00:00:00\",\"2020-06-09T00:00:00\",\"2020-06-10T00:00:00\",\"2020-06-11T00:00:00\",\"2020-06-12T00:00:00\",\"2020-06-13T00:00:00\",\"2020-06-14T00:00:00\",\"2020-06-15T00:00:00\",\"2020-06-16T00:00:00\",\"2020-06-17T00:00:00\",\"2020-06-18T00:00:00\",\"2020-06-19T00:00:00\",\"2020-06-20T00:00:00\",\"2020-06-21T00:00:00\",\"2020-06-22T00:00:00\",\"2020-06-23T00:00:00\",\"2020-06-24T00:00:00\",\"2020-06-25T00:00:00\",\"2020-06-26T00:00:00\",\"2020-06-27T00:00:00\",\"2020-06-28T00:00:00\",\"2020-06-29T00:00:00\",\"2020-06-30T00:00:00\",\"2020-07-01T00:00:00\",\"2020-07-02T00:00:00\",\"2020-07-03T00:00:00\",\"2020-07-04T00:00:00\",\"2020-07-05T00:00:00\",\"2020-07-06T00:00:00\",\"2020-07-07T00:00:00\",\"2020-07-08T00:00:00\",\"2020-07-09T00:00:00\",\"2020-07-10T00:00:00\",\"2020-07-11T00:00:00\",\"2020-07-12T00:00:00\",\"2020-07-13T00:00:00\",\"2020-07-14T00:00:00\",\"2020-07-15T00:00:00\",\"2020-07-16T00:00:00\",\"2020-07-17T00:00:00\",\"2020-07-18T00:00:00\",\"2020-07-19T00:00:00\",\"2020-07-20T00:00:00\",\"2020-07-21T00:00:00\",\"2020-07-22T00:00:00\",\"2020-07-23T00:00:00\",\"2020-07-24T00:00:00\",\"2020-07-25T00:00:00\",\"2020-07-26T00:00:00\",\"2020-07-27T00:00:00\",\"2020-07-28T00:00:00\",\"2020-07-29T00:00:00\",\"2020-07-30T00:00:00\",\"2020-07-31T00:00:00\",\"2020-08-01T00:00:00\",\"2020-08-02T00:00:00\",\"2020-08-03T00:00:00\",\"2020-08-04T00:00:00\",\"2020-08-05T00:00:00\",\"2020-08-06T00:00:00\",\"2020-08-07T00:00:00\",\"2020-08-08T00:00:00\",\"2020-08-09T00:00:00\",\"2020-08-10T00:00:00\",\"2020-08-11T00:00:00\",\"2020-08-12T00:00:00\",\"2020-08-13T00:00:00\",\"2020-08-14T00:00:00\",\"2020-08-15T00:00:00\",\"2020-08-16T00:00:00\",\"2020-08-17T00:00:00\",\"2020-08-18T00:00:00\",\"2020-08-19T00:00:00\",\"2020-08-20T00:00:00\",\"2020-08-21T00:00:00\",\"2020-08-22T00:00:00\",\"2020-08-23T00:00:00\",\"2020-08-24T00:00:00\",\"2020-08-25T00:00:00\",\"2020-08-26T00:00:00\",\"2020-08-27T00:00:00\",\"2020-08-28T00:00:00\",\"2020-08-29T00:00:00\",\"2020-08-30T00:00:00\",\"2020-08-31T00:00:00\",\"2020-09-01T00:00:00\",\"2020-09-02T00:00:00\",\"2020-09-03T00:00:00\",\"2020-09-04T00:00:00\",\"2020-09-05T00:00:00\",\"2020-09-06T00:00:00\",\"2020-09-07T00:00:00\",\"2020-09-08T00:00:00\",\"2020-09-09T00:00:00\",\"2020-09-10T00:00:00\",\"2020-09-11T00:00:00\",\"2020-09-12T00:00:00\",\"2020-09-13T00:00:00\",\"2020-09-14T00:00:00\",\"2020-09-15T00:00:00\",\"2020-09-16T00:00:00\",\"2020-09-17T00:00:00\",\"2020-09-18T00:00:00\",\"2020-09-19T00:00:00\",\"2020-09-20T00:00:00\",\"2020-09-21T00:00:00\",\"2020-09-22T00:00:00\",\"2020-09-23T00:00:00\",\"2020-09-24T00:00:00\",\"2020-09-25T00:00:00\",\"2020-09-26T00:00:00\",\"2020-09-27T00:00:00\",\"2020-09-28T00:00:00\",\"2020-09-29T00:00:00\",\"2020-09-30T00:00:00\",\"2020-10-01T00:00:00\",\"2020-10-02T00:00:00\",\"2020-10-03T00:00:00\",\"2020-10-04T00:00:00\",\"2020-10-05T00:00:00\",\"2020-10-06T00:00:00\",\"2020-10-07T00:00:00\",\"2020-10-08T00:00:00\",\"2020-10-09T00:00:00\",\"2020-10-10T00:00:00\",\"2020-10-11T00:00:00\",\"2020-10-12T00:00:00\",\"2020-10-13T00:00:00\",\"2020-10-14T00:00:00\",\"2020-10-15T00:00:00\",\"2020-10-16T00:00:00\",\"2020-10-17T00:00:00\",\"2020-10-18T00:00:00\",\"2020-10-19T00:00:00\",\"2020-10-20T00:00:00\",\"2020-10-21T00:00:00\",\"2020-10-22T00:00:00\",\"2020-10-23T00:00:00\",\"2020-10-24T00:00:00\",\"2020-10-25T00:00:00\",\"2020-10-26T00:00:00\",\"2020-10-27T00:00:00\",\"2020-10-28T00:00:00\",\"2020-10-29T00:00:00\",\"2020-10-30T00:00:00\",\"2020-10-31T00:00:00\",\"2020-11-01T00:00:00\",\"2020-11-02T00:00:00\",\"2020-11-03T00:00:00\",\"2020-11-04T00:00:00\",\"2020-11-05T00:00:00\",\"2020-11-06T00:00:00\",\"2020-11-07T00:00:00\",\"2020-11-08T00:00:00\",\"2020-11-09T00:00:00\",\"2020-11-10T00:00:00\",\"2020-11-11T00:00:00\",\"2020-11-12T00:00:00\",\"2020-11-13T00:00:00\",\"2020-11-14T00:00:00\",\"2020-11-15T00:00:00\",\"2020-11-16T00:00:00\",\"2020-11-17T00:00:00\",\"2020-11-18T00:00:00\",\"2020-11-19T00:00:00\",\"2020-11-20T00:00:00\",\"2020-11-21T00:00:00\",\"2020-11-22T00:00:00\",\"2020-11-23T00:00:00\",\"2020-11-24T00:00:00\",\"2020-11-25T00:00:00\",\"2020-11-26T00:00:00\",\"2020-11-27T00:00:00\",\"2020-11-28T00:00:00\",\"2020-11-29T00:00:00\",\"2020-11-30T00:00:00\",\"2020-12-01T00:00:00\",\"2020-12-02T00:00:00\",\"2020-12-03T00:00:00\",\"2020-12-04T00:00:00\",\"2020-12-05T00:00:00\",\"2020-12-06T00:00:00\",\"2020-12-07T00:00:00\",\"2020-12-08T00:00:00\",\"2020-12-09T00:00:00\",\"2020-12-10T00:00:00\",\"2020-12-11T00:00:00\",\"2020-12-12T00:00:00\",\"2020-12-13T00:00:00\",\"2020-12-14T00:00:00\",\"2020-12-15T00:00:00\",\"2020-12-16T00:00:00\",\"2020-12-17T00:00:00\",\"2020-12-18T00:00:00\",\"2020-12-19T00:00:00\",\"2020-12-20T00:00:00\",\"2020-12-21T00:00:00\",\"2020-12-22T00:00:00\",\"2020-12-23T00:00:00\",\"2020-12-24T00:00:00\",\"2020-12-25T00:00:00\",\"2020-12-26T00:00:00\",\"2020-12-27T00:00:00\",\"2020-12-28T00:00:00\",\"2020-12-29T00:00:00\",\"2020-12-30T00:00:00\",\"2020-12-31T00:00:00\"],\"xaxis\":\"x3\",\"y\":[0.01897260273972601,0.013877551020408132,0.016753812636165523,0.015490196078431342,0.016962025316455666,0.870930930930928,0.904999999999997,0.8896423462088673,0.9062553802008575,0.9553498542274018,0.018836363636363616,0.01881987577639748,0.7528920863309341,0.7286056338028152,0.7317595307917871,0.7267176634214171,0.7446561604584506,0.023281249999999965,0.01958333333333331,0.02709570957095707,0.05282271944922562,0.9060388639760815,0.9271970802919685,0.9184985422740496,0.015578947368421022,0.015444444444444419,0.8743323863636334,0.8731556802244009,0.8211173184357529,0.9055774647887307,0.9559708029197063,0.02392282958199355,0.016820809248554888,0.8619772403982902,0.9090184921763838,0.9251645207439171,0.8016522988505734,0.04266978922716638,0.019084249084249057,0.01973760932944604,0.6101567944250853,0.8896879432624094,0.8232716927453756,0.8446089385474844,0.8274964028776968,0.03077380952380946,0.030343915343915295,0.42041297935103106,0.8476421636615786,0.7680919220055694,0.6430409356725132,0.0516509433962265,0.03315942028985502,0.043273195876288695,0.8977142857142836,0.8430354609929048,0.856798365122614,0.8991884456671229,0.8848587570621439,0.04316239316239309,0.04575609756097569,0.9416229712858907,0.9378812415654494,0.873775100401604,0.9115633423180568,0.880167364016733,0.03397905759162298,0.037713625866050766,0.8667737430167571,0.9055601659751012,0.8934109589041078,0.46515015015014777,0.050727848101266015,0.017966573816155955,0.019455782312925125,0.03308411214953283,0.033403565640194595,0.024034482758620634,0.028861209964412785,0.024428104575163347,0.015463414634146315,0.019352517985611495,0.05007183908045983,0.05607242339832861,0.07245125348189403,0.056685393258426815,0.04193362193362213,0.01286729857819903,0.008763796909492253,0.04339820359281459,0.0416275659824049,0.040938833570412746,0.045855855855856054,0.03350547730829434,0.012085308056872008,0.011096196868008923,0.05035526315789473,0.04733153638814019,0.04648173207036543,0.046484593837535074,0.02213991769547319,0.01073099415204676,0.010385852090032137,0.026796116504854313,0.048530884808013576,0.04466442953020157,0.04542713567839218,0.03204301075268824,0.011024999999999965,0.007939393939393921,0.044734111543450125,0.039377431906614996,0.043090909090909194,0.04357424441524328,0.030603085553997284,0.010703933747411978,0.007590361445783113,0.04035386631716927,0.04151147098515538,0.03917001338688109,0.052413793103448264,0.02963585434173677,0.012705099778270472,0.009585921325051735,0.041420765027322594,0.03794444444444465,0.03827439886845848,0.036515580736544054,0.026091445427728614,0.011100917431192634,0.008382352941176447,0.03695054945054962,0.0375324675324677,0.03389133627019103,0.03598496240601517,0.02620634920634918,0.009950738916256134,0.00952606635071088,0.031558441558441626,0.02974474474474479,0.02916041979010502,0.028009188361408918,0.020944350758853234,0.012928994082840211,0.00653495440729483,0.00948849104859333,0.024500846023688606,0.024554621848739435,0.02525597269624568,0.021349353049907538,0.007876344086021496,0.006805555555555549,0.023557692307692245,0.02284369114877585,0.02386138613861381,0.020886597938144277,0.019464668094218367,0.009248120300751873,0.005302013422818793,0.018491379310344794,0.01823027718550103,0.017037037037037014,0.01969907407407404,0.013940886699507354,0.005843621399176957,0.005925925925925927,0.010351288056206064,0.010398009950248734,0.01047493403693929,0.011622340425531884,0.008468208092485531,0.006274509803921571,0.004261603375527427,0.010179948586118238,0.010448548812664885,0.008999999999999987,0.009722991689750679,0.009759759759759736,0.004385964912280702,0.004297520661157026,0.009048913043478246,0.010256410256410234,0.007914285714285704,0.0062650602409638515,0.0037546468401486997,0.004070796460176993,0.0036326530612244903,0.009974937343358374,0.009564270152505423,0.010600461893764419,0.009999999999999978,0.00898550724637679,0.0031617647058823535,0.0056250000000000015,0.01334117647058821,0.012528735632183876,0.013123644251626872,0.010714285714285687,0.007815533980582509,0.00622448979591837,0.006999999999999994,0.013760504201680644,0.012795918367346924,0.011818181818181792,0.01135881104033968,0.008859857482185252,0.017491961414790966,0.005014164305949011,0.013760162601625988,0.012072434607645854,0.013223140495867744,0.015472061657032724,0.010045977011494229,0.0053525641025641045,0.006114457831325303,0.0171673819742489,0.01729166666666664,0.016978967495219856,0.01672932330827065,0.011660079051383374,0.009173553719008243,0.006104218362282873,0.017930402930402895,0.026349206349206303,0.07340729001584775,0.06042721518987342,0.0491096979332275,0.016953907815631223,0.026187943262411285,0.19353020134228174,0.1993281653746768,0.1774098798397866,0.19280871670702193,0.32906439854191827,0.09113821138211367,0.0742238805970149,0.6151623740201536,0.18753571428571444,0.17567375886524814,0.19009456264775412,0.1522262334536707,0.020513307984790827,0.020310344827586164,0.1910477299185101,0.1811771561771561,0.24029680365296843,0.2460553633217994,0.18407317073170706,0.05160676532769567,0.029696969696969652,0.03541666666666675,0.20662665066026412,0.2127209302325582,0.2298841251448434,0.1556987951807232,0.04232342007434957,0.03393320964749545,0.21531476997578677,0.21371691599539708,0.20956623681125455,0.1537485172004747,0.1254511742892465,0.048810916179337416,0.031044520547945282,0.19975703324808192,0.6297521448999013,0.7612262357414424,0.8226648599819293,0.7749333333333294,0.17398354876615765,0.13790988735919943,0.6201480111008275,0.814761029411762,0.8024677716390402,0.8063901549680917,0.7559459459459429,0.17362893815635938,0.1487195121951225,0.7978637200736619,0.8222119815668176,0.7676310861423197,0.8086242884250453,0.7378053259871427,0.18193154034229816,0.15813317479191474,0.7374595623215975,0.7403109815354688,0.7397692307692276,0.7315057915057889,0.6874517374517353,0.2746897374701672,0.14713054187192187,0.7601973684210502,0.7579943767572613,0.717920227920225,0.7284507042253502,0.4841876208897467,0.13277139208173774,0.13392812887236732,0.732066037735847,0.7560113421550073,0.712833486660531,0.7554775280898857,0.6847895229186133,0.16925545571245218,0.13555699481865327,0.7448782771535559,0.4123631123919282,0.7034839924670412,0.7426429240862212,0.7274954128440339,0.17026066350710908,0.1279589216944804,0.7208262108262092,0.7635069767441839,0.38313868613138585,0.7235747883348985,0.7193947858472969,0.17106356968215206,0.13865284974093312,0.7458227848101242,0.7888059701492509,0.7458186864014786,0.7907899628252767,0.774728971962614,0.2526432748538013,0.1350631313131318,0.803793755912959,0.8074169741697392,0.2708793969849246,0.1423030303030308,0.09636923076923067,0.0878071539657853,0.10324250681198939,0.73731707317073,0.7845412418906369,0.6578433179723489,0.8263123844731944,0.7773436083408845,0.2207224770642197,0.17396694214876054,0.8737332139659766,0.900062111801237,0.7459232827832265,0.8836888888888859,0.8373315363881355,0.21582658959537557,0.174969987995198,0.802809394760611,0.7986437613019862,0.6768355555555529,0.8373622402890656,0.7547427502338597,0.18579617834394893,0.1298283261802582,0.3766939252336439,0.14437500000000078,0.10948275862068985,0.10487632508833908,0.08294382022471912,0.07580931263858101,0.08031914893617012,0.08965635738831604,0.08634105960264883,0.08917667238421946,0.08139072847682098],\"yaxis\":\"y3\"},{\"hovertemplate\":\"state=Texas<br>time=%{x}<br>pct_access=%{y}<extra></extra>\",\"legendgroup\":\"Texas\",\"line\":{\"color\":\"#ab63fa\",\"dash\":\"solid\"},\"marker\":{\"symbol\":\"circle\"},\"mode\":\"lines\",\"name\":\"Texas\",\"showlegend\":true,\"type\":\"scattergl\",\"x\":[\"2020-01-01T00:00:00\",\"2020-01-02T00:00:00\",\"2020-01-03T00:00:00\",\"2020-01-04T00:00:00\",\"2020-01-05T00:00:00\",\"2020-01-06T00:00:00\",\"2020-01-07T00:00:00\",\"2020-01-08T00:00:00\",\"2020-01-09T00:00:00\",\"2020-01-10T00:00:00\",\"2020-01-11T00:00:00\",\"2020-01-12T00:00:00\",\"2020-01-13T00:00:00\",\"2020-01-14T00:00:00\",\"2020-01-15T00:00:00\",\"2020-01-16T00:00:00\",\"2020-01-17T00:00:00\",\"2020-01-18T00:00:00\",\"2020-01-19T00:00:00\",\"2020-01-20T00:00:00\",\"2020-01-21T00:00:00\",\"2020-01-22T00:00:00\",\"2020-01-23T00:00:00\",\"2020-01-24T00:00:00\",\"2020-01-25T00:00:00\",\"2020-01-26T00:00:00\",\"2020-01-27T00:00:00\",\"2020-01-28T00:00:00\",\"2020-01-29T00:00:00\",\"2020-01-30T00:00:00\",\"2020-01-31T00:00:00\",\"2020-02-01T00:00:00\",\"2020-02-02T00:00:00\",\"2020-02-03T00:00:00\",\"2020-02-04T00:00:00\",\"2020-02-05T00:00:00\",\"2020-02-06T00:00:00\",\"2020-02-07T00:00:00\",\"2020-02-08T00:00:00\",\"2020-02-09T00:00:00\",\"2020-02-10T00:00:00\",\"2020-02-11T00:00:00\",\"2020-02-12T00:00:00\",\"2020-02-13T00:00:00\",\"2020-02-14T00:00:00\",\"2020-02-15T00:00:00\",\"2020-02-16T00:00:00\",\"2020-02-17T00:00:00\",\"2020-02-18T00:00:00\",\"2020-02-19T00:00:00\",\"2020-02-20T00:00:00\",\"2020-02-21T00:00:00\",\"2020-02-22T00:00:00\",\"2020-02-23T00:00:00\",\"2020-02-24T00:00:00\",\"2020-02-25T00:00:00\",\"2020-02-26T00:00:00\",\"2020-02-27T00:00:00\",\"2020-02-28T00:00:00\",\"2020-02-29T00:00:00\",\"2020-03-01T00:00:00\",\"2020-03-02T00:00:00\",\"2020-03-03T00:00:00\",\"2020-03-04T00:00:00\",\"2020-03-05T00:00:00\",\"2020-03-06T00:00:00\",\"2020-03-07T00:00:00\",\"2020-03-08T00:00:00\",\"2020-03-09T00:00:00\",\"2020-03-10T00:00:00\",\"2020-03-11T00:00:00\",\"2020-03-12T00:00:00\",\"2020-03-13T00:00:00\",\"2020-03-14T00:00:00\",\"2020-03-15T00:00:00\",\"2020-03-18T00:00:00\",\"2020-03-19T00:00:00\",\"2020-03-20T00:00:00\",\"2020-03-21T00:00:00\",\"2020-03-22T00:00:00\",\"2020-03-23T00:00:00\",\"2020-03-24T00:00:00\",\"2020-03-25T00:00:00\",\"2020-03-26T00:00:00\",\"2020-03-27T00:00:00\",\"2020-03-28T00:00:00\",\"2020-03-29T00:00:00\",\"2020-03-30T00:00:00\",\"2020-03-31T00:00:00\",\"2020-04-01T00:00:00\",\"2020-04-02T00:00:00\",\"2020-04-03T00:00:00\",\"2020-04-04T00:00:00\",\"2020-04-05T00:00:00\",\"2020-04-06T00:00:00\",\"2020-04-07T00:00:00\",\"2020-04-08T00:00:00\",\"2020-04-09T00:00:00\",\"2020-04-10T00:00:00\",\"2020-04-11T00:00:00\",\"2020-04-12T00:00:00\",\"2020-04-13T00:00:00\",\"2020-04-14T00:00:00\",\"2020-04-15T00:00:00\",\"2020-04-16T00:00:00\",\"2020-04-17T00:00:00\",\"2020-04-18T00:00:00\",\"2020-04-19T00:00:00\",\"2020-04-20T00:00:00\",\"2020-04-21T00:00:00\",\"2020-04-22T00:00:00\",\"2020-04-23T00:00:00\",\"2020-04-24T00:00:00\",\"2020-04-25T00:00:00\",\"2020-04-26T00:00:00\",\"2020-04-27T00:00:00\",\"2020-04-28T00:00:00\",\"2020-04-29T00:00:00\",\"2020-04-30T00:00:00\",\"2020-05-01T00:00:00\",\"2020-05-02T00:00:00\",\"2020-05-03T00:00:00\",\"2020-05-04T00:00:00\",\"2020-05-05T00:00:00\",\"2020-05-06T00:00:00\",\"2020-05-07T00:00:00\",\"2020-05-08T00:00:00\",\"2020-05-09T00:00:00\",\"2020-05-10T00:00:00\",\"2020-05-11T00:00:00\",\"2020-05-12T00:00:00\",\"2020-05-13T00:00:00\",\"2020-05-14T00:00:00\",\"2020-05-15T00:00:00\",\"2020-05-16T00:00:00\",\"2020-05-17T00:00:00\",\"2020-05-18T00:00:00\",\"2020-05-19T00:00:00\",\"2020-05-20T00:00:00\",\"2020-05-21T00:00:00\",\"2020-05-22T00:00:00\",\"2020-05-23T00:00:00\",\"2020-05-24T00:00:00\",\"2020-05-25T00:00:00\",\"2020-05-26T00:00:00\",\"2020-05-27T00:00:00\",\"2020-05-28T00:00:00\",\"2020-05-29T00:00:00\",\"2020-05-30T00:00:00\",\"2020-05-31T00:00:00\",\"2020-06-01T00:00:00\",\"2020-06-02T00:00:00\",\"2020-06-03T00:00:00\",\"2020-06-04T00:00:00\",\"2020-06-05T00:00:00\",\"2020-06-06T00:00:00\",\"2020-06-07T00:00:00\",\"2020-06-08T00:00:00\",\"2020-06-09T00:00:00\",\"2020-06-10T00:00:00\",\"2020-06-11T00:00:00\",\"2020-06-12T00:00:00\",\"2020-06-13T00:00:00\",\"2020-06-14T00:00:00\",\"2020-06-15T00:00:00\",\"2020-06-16T00:00:00\",\"2020-06-17T00:00:00\",\"2020-06-18T00:00:00\",\"2020-06-19T00:00:00\",\"2020-06-20T00:00:00\",\"2020-06-21T00:00:00\",\"2020-06-22T00:00:00\",\"2020-06-23T00:00:00\",\"2020-06-24T00:00:00\",\"2020-06-25T00:00:00\",\"2020-06-26T00:00:00\",\"2020-06-27T00:00:00\",\"2020-06-28T00:00:00\",\"2020-06-29T00:00:00\",\"2020-06-30T00:00:00\",\"2020-07-01T00:00:00\",\"2020-07-02T00:00:00\",\"2020-07-03T00:00:00\",\"2020-07-04T00:00:00\",\"2020-07-05T00:00:00\",\"2020-07-06T00:00:00\",\"2020-07-07T00:00:00\",\"2020-07-08T00:00:00\",\"2020-07-09T00:00:00\",\"2020-07-10T00:00:00\",\"2020-07-11T00:00:00\",\"2020-07-12T00:00:00\",\"2020-07-13T00:00:00\",\"2020-07-14T00:00:00\",\"2020-07-15T00:00:00\",\"2020-07-16T00:00:00\",\"2020-07-17T00:00:00\",\"2020-07-18T00:00:00\",\"2020-07-19T00:00:00\",\"2020-07-20T00:00:00\",\"2020-07-21T00:00:00\",\"2020-07-22T00:00:00\",\"2020-07-23T00:00:00\",\"2020-07-24T00:00:00\",\"2020-07-25T00:00:00\",\"2020-07-26T00:00:00\",\"2020-07-27T00:00:00\",\"2020-07-28T00:00:00\",\"2020-07-29T00:00:00\",\"2020-07-30T00:00:00\",\"2020-07-31T00:00:00\",\"2020-08-01T00:00:00\",\"2020-08-02T00:00:00\",\"2020-08-03T00:00:00\",\"2020-08-04T00:00:00\",\"2020-08-05T00:00:00\",\"2020-08-06T00:00:00\",\"2020-08-07T00:00:00\",\"2020-08-08T00:00:00\",\"2020-08-09T00:00:00\",\"2020-08-10T00:00:00\",\"2020-08-11T00:00:00\",\"2020-08-12T00:00:00\",\"2020-08-13T00:00:00\",\"2020-08-14T00:00:00\",\"2020-08-15T00:00:00\",\"2020-08-16T00:00:00\",\"2020-08-17T00:00:00\",\"2020-08-18T00:00:00\",\"2020-08-19T00:00:00\",\"2020-08-20T00:00:00\",\"2020-08-21T00:00:00\",\"2020-08-22T00:00:00\",\"2020-08-23T00:00:00\",\"2020-08-24T00:00:00\",\"2020-08-25T00:00:00\",\"2020-08-26T00:00:00\",\"2020-08-27T00:00:00\",\"2020-08-28T00:00:00\",\"2020-08-29T00:00:00\",\"2020-08-30T00:00:00\",\"2020-08-31T00:00:00\",\"2020-09-01T00:00:00\",\"2020-09-02T00:00:00\",\"2020-09-03T00:00:00\",\"2020-09-04T00:00:00\",\"2020-09-05T00:00:00\",\"2020-09-06T00:00:00\",\"2020-09-07T00:00:00\",\"2020-09-08T00:00:00\",\"2020-09-09T00:00:00\",\"2020-09-10T00:00:00\",\"2020-09-11T00:00:00\",\"2020-09-12T00:00:00\",\"2020-09-13T00:00:00\",\"2020-09-14T00:00:00\",\"2020-09-15T00:00:00\",\"2020-09-16T00:00:00\",\"2020-09-17T00:00:00\",\"2020-09-18T00:00:00\",\"2020-09-19T00:00:00\",\"2020-09-20T00:00:00\",\"2020-09-21T00:00:00\",\"2020-09-22T00:00:00\",\"2020-09-23T00:00:00\",\"2020-09-24T00:00:00\",\"2020-09-25T00:00:00\",\"2020-09-26T00:00:00\",\"2020-09-27T00:00:00\",\"2020-09-28T00:00:00\",\"2020-09-29T00:00:00\",\"2020-09-30T00:00:00\",\"2020-10-01T00:00:00\",\"2020-10-02T00:00:00\",\"2020-10-03T00:00:00\",\"2020-10-04T00:00:00\",\"2020-10-05T00:00:00\",\"2020-10-06T00:00:00\",\"2020-10-07T00:00:00\",\"2020-10-08T00:00:00\",\"2020-10-09T00:00:00\",\"2020-10-10T00:00:00\",\"2020-10-11T00:00:00\",\"2020-10-12T00:00:00\",\"2020-10-13T00:00:00\",\"2020-10-14T00:00:00\",\"2020-10-15T00:00:00\",\"2020-10-16T00:00:00\",\"2020-10-17T00:00:00\",\"2020-10-18T00:00:00\",\"2020-10-19T00:00:00\",\"2020-10-20T00:00:00\",\"2020-10-21T00:00:00\",\"2020-10-22T00:00:00\",\"2020-10-23T00:00:00\",\"2020-10-24T00:00:00\",\"2020-10-25T00:00:00\",\"2020-10-26T00:00:00\",\"2020-10-27T00:00:00\",\"2020-10-28T00:00:00\",\"2020-10-29T00:00:00\",\"2020-10-30T00:00:00\",\"2020-10-31T00:00:00\",\"2020-11-01T00:00:00\",\"2020-11-02T00:00:00\",\"2020-11-03T00:00:00\",\"2020-11-04T00:00:00\",\"2020-11-05T00:00:00\",\"2020-11-06T00:00:00\",\"2020-11-07T00:00:00\",\"2020-11-08T00:00:00\",\"2020-11-09T00:00:00\",\"2020-11-10T00:00:00\",\"2020-11-11T00:00:00\",\"2020-11-12T00:00:00\",\"2020-11-13T00:00:00\",\"2020-11-14T00:00:00\",\"2020-11-15T00:00:00\",\"2020-11-16T00:00:00\",\"2020-11-17T00:00:00\",\"2020-11-18T00:00:00\",\"2020-11-19T00:00:00\",\"2020-11-20T00:00:00\",\"2020-11-21T00:00:00\",\"2020-11-22T00:00:00\",\"2020-11-23T00:00:00\",\"2020-11-24T00:00:00\",\"2020-11-25T00:00:00\",\"2020-11-26T00:00:00\",\"2020-11-27T00:00:00\",\"2020-11-28T00:00:00\",\"2020-11-29T00:00:00\",\"2020-11-30T00:00:00\",\"2020-12-01T00:00:00\",\"2020-12-02T00:00:00\",\"2020-12-03T00:00:00\",\"2020-12-04T00:00:00\",\"2020-12-05T00:00:00\",\"2020-12-06T00:00:00\",\"2020-12-07T00:00:00\",\"2020-12-08T00:00:00\",\"2020-12-09T00:00:00\",\"2020-12-10T00:00:00\",\"2020-12-11T00:00:00\",\"2020-12-12T00:00:00\",\"2020-12-13T00:00:00\",\"2020-12-14T00:00:00\",\"2020-12-15T00:00:00\",\"2020-12-16T00:00:00\",\"2020-12-17T00:00:00\",\"2020-12-18T00:00:00\",\"2020-12-19T00:00:00\",\"2020-12-20T00:00:00\",\"2020-12-21T00:00:00\",\"2020-12-22T00:00:00\",\"2020-12-23T00:00:00\",\"2020-12-24T00:00:00\",\"2020-12-25T00:00:00\",\"2020-12-26T00:00:00\",\"2020-12-27T00:00:00\",\"2020-12-28T00:00:00\",\"2020-12-29T00:00:00\",\"2020-12-30T00:00:00\",\"2020-12-31T00:00:00\"],\"xaxis\":\"x2\",\"y\":[0.01625,0.020543478260869573,0.019278350515463925,0.015742574257425746,0.016111111111111114,0.01736559139784944,0.016721311475409822,0.5578854625550673,0.7249999999999999,0.7404273504273498,0.053149606299212546,0.05055118110236216,0.8472151898734177,0.7478333333333336,0.7962601626016255,0.818770491803278,0.7975102040816322,0.056159999999999946,0.0418461538461538,0.05344594594594592,0.689367088607595,0.7893852459016394,0.8675,0.8114107883817436,0.053308823529411735,0.05042857142857138,0.7633193277310918,0.7967886178861784,0.7926720647773285,0.8118442622950813,0.6962809917355365,0.048740157480314884,0.04279411764705874,0.7781779661016944,0.75724,0.7170634920634913,0.8316799999999996,0.7871485943775104,0.044471544715447044,0.048285714285714175,0.815,0.6889068825910935,0.7189344262295084,0.8140322580645155,0.7130672268907561,0.05126050420168059,0.03573643410852709,0.039487179487179426,0.6952066115702472,0.5709426229508199,0.6450406504065047,0.6968032786885243,0.06749999999999994,0.057428571428571336,0.7342682926829263,0.7430204081632646,0.7605668016194328,0.8029838709677423,0.8141975308641973,0.06014285714285704,0.04238410596026482,0.7296707818930043,0.4578240740740745,0.018750000000000003,0.008461538461538461,0.001,0.0,0.0,0.0013333333333333333,0.0016666666666666668,0.0,0.0,0.0,0.0,0.0,0.0,0.0,0.0,0.0,0.0,0.0,0.0,0.0,0.0,0.0,0.0,0.0,0.0,0.0,0.0,0.0,0.0,0.0,0.0,0.0,0.0,0.0,0.0,0.0,0.0,0.0,0.0,0.0,0.0,0.0,0.0,0.0,0.0,0.0,0.0,0.0,0.0,0.0,0.0,0.0,0.0,0.0,0.0,0.0,0.0,0.0,0.0,0.0,0.0,0.0,0.0,0.0,0.0,0.0,0.0,0.0,0.0,0.0,0.0,0.0,0.0,1.1827331189710593,1.0935555555555543,0.963184713375796,0.8162658227848109,0.6741719745222927,0.28827338129496455,0.19801498127340816,0.29269624573378894,0.708444444444445,0.6965161290322583,0.6532802547770706,0.6071518987341773,0.2796028880866433,0.1990287769784174,0.48268987341772135,0.41057692307692334,0.34933544303797504,0.29124183006535975,0.10747035573122542,0.04948453608247416,0.03794594594594589,0.05258064516129025,0.04936170212765951,0.05198113207547162,0.04461538461538454,0.04071770334928223,0.029062499999999963,0.02693877551020405,0.03254629629629625,0.03708920187793422,0.04232876712328761,0.049906103286384916,0.047135416666666596,0.04006289308176097,0.03809210526315783,0.059724770642201726,0.05917431192660542,0.06107317073170724,0.052777777777777694,0.044527363184079544,0.04035211267605631,0.03434782608695651,0.05083743842364524,0.05049751243781085,0.04846153846153838,0.045887850467289645,0.05272727272727266,0.03626666666666663,0.03631249999999997,0.10856031128404686,0.12567346938775528,0.126115702479339,0.12384937238493733,0.12237885462555076,0.04718918918918914,0.04395480225988696,0.1271538461538463,0.13658634538152625,0.12630350194552545,0.12088461538461559,0.12024291497975735,0.04580110497237563,0.036885245901639316,0.12157258064516155,0.12192913385826797,0.12309917355371924,0.11827868852459039,0.11751111111111132,0.04326797385620911,0.03772727272727269,0.04917391304347818,0.051126126126126055,0.04918552036199087,0.044159663865546143,0.03837209302325576,0.03746753246753244,0.036234567901234534,0.04978723404255312,0.05105485232067507,0.04896995708154498,0.04137777777777775,0.03572139303482585,0.027884615384615348,0.026644295302013395,0.03459090909090906,0.04039603960396034,0.04243243243243238,0.04682203389830501,0.0482242990654205,0.034615384615384576,0.03252631578947365,0.06588235294117645,0.07439716312056752,0.10216606498194969,0.16482394366197173,0.14782006920415217,0.12775423728813573,0.23503937007874007,0.7537313432835813,1.0949401197604767,1.1898240469208188,1.1740773809523781,1.1451479289940796,0.18309160305343494,0.12039855072463777,1.1257396449704111,1.0937499999999964,1.1466959064327467,1.031268011527377,1.0447953216374253,0.16967971530249096,0.09839357429718903,0.12197916666666665,0.9868571428571409,1.030549132947975,1.0049999999999986,1.0080924855491316,0.19618055555555547,0.12830985915492957,0.9953392330383465,1.0174418604651145,1.0297947214076226,1.0081739130434757,0.9972753623188393,0.2001706484641636,0.13596551724137926,0.9612463768115934,0.9854385964912273,0.9833717579250698,0.9583090379008731,0.9415406976744166,0.16946666666666665,0.11916387959866209,0.9157834757834736,0.8920454545454534,0.9484347826086946,0.8981502890173402,0.8805172413793083,0.15198606271776982,0.10665441176470614,0.8429629629629611,0.9148387096774181,0.9087683284457464,0.901982758620687,0.9435777126099695,0.16360927152317858,0.11515050167224075,0.8890857142857134,0.8911428571428562,0.869566473988438,0.8700284900284887,0.91266272189349,0.24229452054794565,0.08402777777777798,0.8542363112391905,0.8946704871060138,0.9308022922636077,0.9127456647398836,0.9680588235294111,0.1437288135593221,0.09839160839160868,0.84902857142857,0.874659090909089,0.9326392961876815,0.83068862275449,0.8897352941176452,0.13820945945945942,0.08758865248226964,0.835402298850573,0.22215625000000042,0.8613636363636349,0.9045639534883702,0.9596783625730979,0.1645364238410596,0.10135593220339004,0.8542528735632173,0.9182234957020043,1.0010204081632645,0.9192581602373873,0.9738461538461524,0.17009933774834435,0.10628865979381469,0.8291907514450848,0.9313953488372078,0.9867741935483856,0.9401724137931025,0.9356395348837195,0.28513245033112633,0.09721804511278212,0.10455197132616505,0.09923636363636383,0.06869955156950666,0.07200000000000019,0.06853754940711466,0.07376383763837666,0.08328671328671346,0.8194752186588914,0.8638192419825054,0.8908746355685117,0.8798270893371748,0.9053508771929809,0.1680794701986755,0.10404040404040432,0.8628571428571407,0.9103188405797077,0.9392241379310335,0.9016384180790951,0.9148148148148136,0.19861386138613862,0.12416107382550333,0.8362390670553924,0.8551754385964887,0.8703779069767421,0.8153392330383463,0.703802395209581,0.1258646616541354,0.080608695652174,0.07537815126050428,0.06811965811965807,0.06885321100917427,0.06048309178743956,0.05066265060240962,0.04355191256830598,0.04345549738219893,0.04635135135135131,0.048468468468468424,0.048858447488584436,0.04798122065727697],\"yaxis\":\"y2\"},{\"hovertemplate\":\"state=Washington<br>time=%{x}<br>pct_access=%{y}<extra></extra>\",\"legendgroup\":\"Washington\",\"line\":{\"color\":\"#FFA15A\",\"dash\":\"solid\"},\"marker\":{\"symbol\":\"circle\"},\"mode\":\"lines\",\"name\":\"Washington\",\"showlegend\":true,\"type\":\"scattergl\",\"x\":[\"2020-01-01T00:00:00\",\"2020-01-02T00:00:00\",\"2020-01-03T00:00:00\",\"2020-01-04T00:00:00\",\"2020-01-05T00:00:00\",\"2020-01-06T00:00:00\",\"2020-01-07T00:00:00\",\"2020-01-08T00:00:00\",\"2020-01-09T00:00:00\",\"2020-01-10T00:00:00\",\"2020-01-11T00:00:00\",\"2020-01-12T00:00:00\",\"2020-01-13T00:00:00\",\"2020-01-14T00:00:00\",\"2020-01-15T00:00:00\",\"2020-01-16T00:00:00\",\"2020-01-17T00:00:00\",\"2020-01-18T00:00:00\",\"2020-01-19T00:00:00\",\"2020-01-20T00:00:00\",\"2020-01-21T00:00:00\",\"2020-01-22T00:00:00\",\"2020-01-23T00:00:00\",\"2020-01-24T00:00:00\",\"2020-01-25T00:00:00\",\"2020-01-26T00:00:00\",\"2020-01-27T00:00:00\",\"2020-01-28T00:00:00\",\"2020-01-29T00:00:00\",\"2020-01-30T00:00:00\",\"2020-01-31T00:00:00\",\"2020-02-01T00:00:00\",\"2020-02-02T00:00:00\",\"2020-02-03T00:00:00\",\"2020-02-04T00:00:00\",\"2020-02-05T00:00:00\",\"2020-02-06T00:00:00\",\"2020-02-07T00:00:00\",\"2020-02-08T00:00:00\",\"2020-02-09T00:00:00\",\"2020-02-10T00:00:00\",\"2020-02-11T00:00:00\",\"2020-02-12T00:00:00\",\"2020-02-13T00:00:00\",\"2020-02-14T00:00:00\",\"2020-02-15T00:00:00\",\"2020-02-16T00:00:00\",\"2020-02-17T00:00:00\",\"2020-02-18T00:00:00\",\"2020-02-19T00:00:00\",\"2020-02-20T00:00:00\",\"2020-02-21T00:00:00\",\"2020-02-22T00:00:00\",\"2020-02-23T00:00:00\",\"2020-02-24T00:00:00\",\"2020-02-25T00:00:00\",\"2020-02-26T00:00:00\",\"2020-02-27T00:00:00\",\"2020-02-28T00:00:00\",\"2020-02-29T00:00:00\",\"2020-03-01T00:00:00\",\"2020-03-02T00:00:00\",\"2020-03-03T00:00:00\",\"2020-03-04T00:00:00\",\"2020-03-05T00:00:00\",\"2020-03-06T00:00:00\",\"2020-03-07T00:00:00\",\"2020-03-08T00:00:00\",\"2020-03-09T00:00:00\",\"2020-03-10T00:00:00\",\"2020-03-11T00:00:00\",\"2020-03-12T00:00:00\",\"2020-03-13T00:00:00\",\"2020-03-14T00:00:00\",\"2020-03-15T00:00:00\",\"2020-03-16T00:00:00\",\"2020-03-17T00:00:00\",\"2020-03-18T00:00:00\",\"2020-03-19T00:00:00\",\"2020-03-20T00:00:00\",\"2020-03-21T00:00:00\",\"2020-03-22T00:00:00\",\"2020-03-23T00:00:00\",\"2020-03-24T00:00:00\",\"2020-03-25T00:00:00\",\"2020-03-26T00:00:00\",\"2020-03-27T00:00:00\",\"2020-03-28T00:00:00\",\"2020-03-29T00:00:00\",\"2020-03-30T00:00:00\",\"2020-03-31T00:00:00\",\"2020-04-01T00:00:00\",\"2020-04-02T00:00:00\",\"2020-04-03T00:00:00\",\"2020-04-04T00:00:00\",\"2020-04-05T00:00:00\",\"2020-04-06T00:00:00\",\"2020-04-07T00:00:00\",\"2020-04-08T00:00:00\",\"2020-04-09T00:00:00\",\"2020-04-10T00:00:00\",\"2020-04-11T00:00:00\",\"2020-04-12T00:00:00\",\"2020-04-13T00:00:00\",\"2020-04-14T00:00:00\",\"2020-04-15T00:00:00\",\"2020-04-16T00:00:00\",\"2020-04-17T00:00:00\",\"2020-04-18T00:00:00\",\"2020-04-19T00:00:00\",\"2020-04-20T00:00:00\",\"2020-04-21T00:00:00\",\"2020-04-22T00:00:00\",\"2020-04-23T00:00:00\",\"2020-04-24T00:00:00\",\"2020-04-25T00:00:00\",\"2020-04-26T00:00:00\",\"2020-04-27T00:00:00\",\"2020-04-28T00:00:00\",\"2020-04-29T00:00:00\",\"2020-04-30T00:00:00\",\"2020-05-01T00:00:00\",\"2020-05-02T00:00:00\",\"2020-05-03T00:00:00\",\"2020-05-04T00:00:00\",\"2020-05-05T00:00:00\",\"2020-05-06T00:00:00\",\"2020-05-07T00:00:00\",\"2020-05-08T00:00:00\",\"2020-05-09T00:00:00\",\"2020-05-10T00:00:00\",\"2020-05-11T00:00:00\",\"2020-05-12T00:00:00\",\"2020-05-13T00:00:00\",\"2020-05-14T00:00:00\",\"2020-05-15T00:00:00\",\"2020-05-16T00:00:00\",\"2020-05-17T00:00:00\",\"2020-05-18T00:00:00\",\"2020-05-19T00:00:00\",\"2020-05-20T00:00:00\",\"2020-05-21T00:00:00\",\"2020-05-22T00:00:00\",\"2020-05-23T00:00:00\",\"2020-05-24T00:00:00\",\"2020-05-25T00:00:00\",\"2020-05-26T00:00:00\",\"2020-05-27T00:00:00\",\"2020-05-28T00:00:00\",\"2020-05-29T00:00:00\",\"2020-05-30T00:00:00\",\"2020-05-31T00:00:00\",\"2020-06-01T00:00:00\",\"2020-06-02T00:00:00\",\"2020-06-03T00:00:00\",\"2020-06-04T00:00:00\",\"2020-06-05T00:00:00\",\"2020-06-06T00:00:00\",\"2020-06-07T00:00:00\",\"2020-06-08T00:00:00\",\"2020-06-09T00:00:00\",\"2020-06-10T00:00:00\",\"2020-06-11T00:00:00\",\"2020-06-12T00:00:00\",\"2020-06-13T00:00:00\",\"2020-06-14T00:00:00\",\"2020-06-15T00:00:00\",\"2020-06-16T00:00:00\",\"2020-06-17T00:00:00\",\"2020-06-18T00:00:00\",\"2020-06-19T00:00:00\",\"2020-06-20T00:00:00\",\"2020-06-21T00:00:00\",\"2020-06-22T00:00:00\",\"2020-06-23T00:00:00\",\"2020-06-24T00:00:00\",\"2020-06-25T00:00:00\",\"2020-06-26T00:00:00\",\"2020-06-27T00:00:00\",\"2020-06-28T00:00:00\",\"2020-06-29T00:00:00\",\"2020-06-30T00:00:00\",\"2020-07-01T00:00:00\",\"2020-07-02T00:00:00\",\"2020-07-03T00:00:00\",\"2020-07-04T00:00:00\",\"2020-07-05T00:00:00\",\"2020-07-06T00:00:00\",\"2020-07-07T00:00:00\",\"2020-07-08T00:00:00\",\"2020-07-09T00:00:00\",\"2020-07-10T00:00:00\",\"2020-07-11T00:00:00\",\"2020-07-12T00:00:00\",\"2020-07-13T00:00:00\",\"2020-07-14T00:00:00\",\"2020-07-15T00:00:00\",\"2020-07-16T00:00:00\",\"2020-07-17T00:00:00\",\"2020-07-18T00:00:00\",\"2020-07-19T00:00:00\",\"2020-07-20T00:00:00\",\"2020-07-21T00:00:00\",\"2020-07-22T00:00:00\",\"2020-07-23T00:00:00\",\"2020-07-24T00:00:00\",\"2020-07-25T00:00:00\",\"2020-07-26T00:00:00\",\"2020-07-27T00:00:00\",\"2020-07-28T00:00:00\",\"2020-07-29T00:00:00\",\"2020-07-30T00:00:00\",\"2020-07-31T00:00:00\",\"2020-08-01T00:00:00\",\"2020-08-02T00:00:00\",\"2020-08-03T00:00:00\",\"2020-08-04T00:00:00\",\"2020-08-05T00:00:00\",\"2020-08-06T00:00:00\",\"2020-08-07T00:00:00\",\"2020-08-08T00:00:00\",\"2020-08-09T00:00:00\",\"2020-08-10T00:00:00\",\"2020-08-11T00:00:00\",\"2020-08-12T00:00:00\",\"2020-08-13T00:00:00\",\"2020-08-14T00:00:00\",\"2020-08-15T00:00:00\",\"2020-08-16T00:00:00\",\"2020-08-17T00:00:00\",\"2020-08-18T00:00:00\",\"2020-08-19T00:00:00\",\"2020-08-20T00:00:00\",\"2020-08-21T00:00:00\",\"2020-08-22T00:00:00\",\"2020-08-23T00:00:00\",\"2020-08-24T00:00:00\",\"2020-08-25T00:00:00\",\"2020-08-26T00:00:00\",\"2020-08-27T00:00:00\",\"2020-08-28T00:00:00\",\"2020-08-29T00:00:00\",\"2020-08-30T00:00:00\",\"2020-08-31T00:00:00\",\"2020-09-01T00:00:00\",\"2020-09-02T00:00:00\",\"2020-09-03T00:00:00\",\"2020-09-04T00:00:00\",\"2020-09-05T00:00:00\",\"2020-09-06T00:00:00\",\"2020-09-07T00:00:00\",\"2020-09-08T00:00:00\",\"2020-09-09T00:00:00\",\"2020-09-10T00:00:00\",\"2020-09-11T00:00:00\",\"2020-09-12T00:00:00\",\"2020-09-13T00:00:00\",\"2020-09-14T00:00:00\",\"2020-09-15T00:00:00\",\"2020-09-16T00:00:00\",\"2020-09-17T00:00:00\",\"2020-09-18T00:00:00\",\"2020-09-19T00:00:00\",\"2020-09-20T00:00:00\",\"2020-09-21T00:00:00\",\"2020-09-22T00:00:00\",\"2020-09-23T00:00:00\",\"2020-09-24T00:00:00\",\"2020-09-25T00:00:00\",\"2020-09-26T00:00:00\",\"2020-09-27T00:00:00\",\"2020-09-28T00:00:00\",\"2020-09-29T00:00:00\",\"2020-09-30T00:00:00\",\"2020-10-01T00:00:00\",\"2020-10-02T00:00:00\",\"2020-10-03T00:00:00\",\"2020-10-04T00:00:00\",\"2020-10-05T00:00:00\",\"2020-10-06T00:00:00\",\"2020-10-07T00:00:00\",\"2020-10-08T00:00:00\",\"2020-10-09T00:00:00\",\"2020-10-10T00:00:00\",\"2020-10-11T00:00:00\",\"2020-10-12T00:00:00\",\"2020-10-13T00:00:00\",\"2020-10-14T00:00:00\",\"2020-10-15T00:00:00\",\"2020-10-16T00:00:00\",\"2020-10-17T00:00:00\",\"2020-10-18T00:00:00\",\"2020-10-19T00:00:00\",\"2020-10-20T00:00:00\",\"2020-10-21T00:00:00\",\"2020-10-22T00:00:00\",\"2020-10-23T00:00:00\",\"2020-10-24T00:00:00\",\"2020-10-25T00:00:00\",\"2020-10-26T00:00:00\",\"2020-10-27T00:00:00\",\"2020-10-28T00:00:00\",\"2020-10-29T00:00:00\",\"2020-10-30T00:00:00\",\"2020-10-31T00:00:00\",\"2020-11-01T00:00:00\",\"2020-11-02T00:00:00\",\"2020-11-03T00:00:00\",\"2020-11-04T00:00:00\",\"2020-11-05T00:00:00\",\"2020-11-06T00:00:00\",\"2020-11-07T00:00:00\",\"2020-11-08T00:00:00\",\"2020-11-09T00:00:00\",\"2020-11-10T00:00:00\",\"2020-11-11T00:00:00\",\"2020-11-12T00:00:00\",\"2020-11-13T00:00:00\",\"2020-11-14T00:00:00\",\"2020-11-15T00:00:00\",\"2020-11-16T00:00:00\",\"2020-11-17T00:00:00\",\"2020-11-18T00:00:00\",\"2020-11-19T00:00:00\",\"2020-11-20T00:00:00\",\"2020-11-21T00:00:00\",\"2020-11-22T00:00:00\",\"2020-11-23T00:00:00\",\"2020-11-24T00:00:00\",\"2020-11-25T00:00:00\",\"2020-11-26T00:00:00\",\"2020-11-27T00:00:00\",\"2020-11-28T00:00:00\",\"2020-11-29T00:00:00\",\"2020-11-30T00:00:00\",\"2020-12-01T00:00:00\",\"2020-12-02T00:00:00\",\"2020-12-03T00:00:00\",\"2020-12-04T00:00:00\",\"2020-12-05T00:00:00\",\"2020-12-06T00:00:00\",\"2020-12-07T00:00:00\",\"2020-12-08T00:00:00\",\"2020-12-09T00:00:00\",\"2020-12-10T00:00:00\",\"2020-12-11T00:00:00\",\"2020-12-12T00:00:00\",\"2020-12-13T00:00:00\",\"2020-12-14T00:00:00\",\"2020-12-15T00:00:00\",\"2020-12-16T00:00:00\",\"2020-12-17T00:00:00\",\"2020-12-18T00:00:00\",\"2020-12-19T00:00:00\",\"2020-12-20T00:00:00\",\"2020-12-21T00:00:00\",\"2020-12-22T00:00:00\",\"2020-12-23T00:00:00\",\"2020-12-24T00:00:00\",\"2020-12-25T00:00:00\",\"2020-12-26T00:00:00\",\"2020-12-27T00:00:00\",\"2020-12-28T00:00:00\",\"2020-12-29T00:00:00\",\"2020-12-30T00:00:00\",\"2020-12-31T00:00:00\"],\"xaxis\":\"x\",\"y\":[0.05403131115459901,0.06618811881188129,0.06845220030349022,0.07093312597200624,0.08574814814814817,0.745729442970818,0.8635610589239924,0.8531871838111256,0.9483123425692632,0.9736624472573768,0.12388004895960915,0.12113874345549795,0.8997897392766975,0.8463134851138299,0.885489539748949,0.9007508532423143,0.8336999147485032,0.13813496932515407,0.12026702269692995,0.1522011834319538,0.9551419031719477,0.8809098360655675,0.8808108108108061,0.7101164874551942,0.10213730569948232,0.0863766048502141,0.6293844696969654,0.8406858594411468,0.8022857142857086,0.8186466165413488,0.8418430034129633,0.11156054931335878,0.09520475561426717,0.7880739466895907,0.8445236122618002,0.8231426202321679,0.8523817292006469,0.8674626865671582,0.11318527918781796,0.1039453125000004,0.820604026845632,0.8657001647446404,0.7885049833886989,0.851699507389157,0.8091598173515924,0.11073359073359129,0.08853835021707675,0.10571964956195266,0.8262355848434874,0.7992019950124641,0.8191440329218062,0.8264537264537211,0.11627819548872238,0.11587939698492528,0.8092998352553487,0.8586628849270603,0.7920769847634258,0.8686396761133548,0.8559694288012825,0.1275453446191055,0.11433121019108333,0.7885024154589324,0.7997372611464926,0.7285885167464068,0.830167064439135,0.8010462287104577,0.12880341880341942,0.112966507177034,0.7775853658536533,0.8269572107765393,0.8027687296416893,0.8113687600644063,0.7171380186282776,0.13568925233644938,0.10976162097735452,0.35746090156393545,0.19143362831858357,0.1995202952029517,0.1934786641929496,0.18025447690857638,0.12920565832426636,0.10629069767441934,0.21714285714285678,0.2516797214969525,0.268891687657429,0.2670755483346858,0.27844700082169066,0.18763209393346372,0.1457983193277311,0.2892307692307669,0.3349368318756052,0.3537587238285125,0.33063229571984215,0.329791873141722,0.20486607142857108,0.18048863636363666,0.6466600985221622,0.6442391304347782,0.6042645607107564,0.582323733862956,0.5603261977573863,0.2726382488479259,0.16616707616707682,0.6702722323048956,0.717726864330633,0.6908884859474126,0.6761665141811491,0.5799999999999964,0.3188900414937744,0.2105869565217389,0.6504634581105129,0.6802385159010552,0.6826287262872596,0.6563677130044808,0.6270436331255528,0.31259414225941273,0.1999669239250272,0.6332827832292557,0.6505342831700766,0.6336496350364931,0.6109411764705845,0.5795927601809923,0.2797266035751824,0.194004352557127,0.592797881729917,0.6025716845878102,0.5913141314131382,0.5585930543187856,0.5308387096774169,0.24279615795090667,0.15940119760479093,0.5699178082191746,0.5999188458070304,0.5698302055406573,0.5581120144534742,0.5100454959053653,0.24107218683651774,0.17438478747203626,0.5477070063694225,0.5507859078590747,0.5290348525469131,0.5210801080107965,0.4713627992633502,0.21712403951701423,0.14407894736842194,0.21681127982646375,0.5090144665461084,0.5096627164995406,0.4906887052341573,0.452667286245351,0.21770810810810765,0.1584022346368718,0.4703278688524568,0.4741606498194912,0.47095676172952833,0.4634392523364462,0.4382636954503224,0.21166120218579193,0.15358208955223931,0.44264220183485997,0.45684733514001574,0.4599999999999984,0.434887005649715,0.4089302769818511,0.21116438356164344,0.15772616136919396,0.39569756097560854,0.3788241010689983,0.37590863952333514,0.3552794411177629,0.2921283422459884,0.1449932885906046,0.10674380165289245,0.1130933333333334,0.1120320855614974,0.10703401360544226,0.10324621733149927,0.09594632768361591,0.09135888501742156,0.08348754448398574,0.10038848920863312,0.09999999999999996,0.1008528198074277,0.09947604790419173,0.0937181663837012,0.08404339250493104,0.07210309278350524,0.09220088626292455,0.09465444287729204,0.09594366197183103,0.09718972895863061,0.09343987823439867,0.0782331511839709,0.07196691176470599,0.08768160741885615,0.08427745664739875,0.0900442477876104,0.08432835820895516,0.079560606060606,0.07484052532833033,0.0679962546816481,0.07906870229007625,0.0804093567251462,0.08231654676258983,0.08047473200612548,0.08204878048780474,0.06966972477064243,0.07407249466950978,0.07679487179487174,0.07842185128983307,0.078735119047619,0.07695652173913034,0.07381987577639751,0.06800724637681184,0.06385633270321373,0.0705839416058394,0.07330484330484327,0.073265602322206,0.07023448275862061,0.06792341678939617,0.06594306049822081,0.060220183486238574,0.06634538152610446,0.07369770580296889,0.07469002695417787,0.07383673469387757,0.06935988620199145,0.06683760683760699,0.060617495711835424,0.07108,0.08107932379713906,0.08581218274111686,0.0920763723150358,0.10636010362694304,0.09076452599388375,0.07506191950464407,0.10256287425149715,0.12840000000000037,0.1533142201834865,0.17075892857142885,0.19016759776536302,0.16633766233766265,0.16429687500000034,0.3726844919786083,1.2501452081316498,1.0916714150047429,1.2348669201520848,1.1442464454976242,0.2553401797175861,0.17700490998363413,0.2216552667578661,0.8301453488372066,0.8731609195402267,1.0572813688212885,1.0140930674263966,0.3063623978201634,0.2583825417201536,1.0889296333002918,1.0300854700854662,0.8297639282341801,1.01586142322097,0.9791924882629071,0.3078039215686269,0.24833550065019516,0.9553611111111071,0.9390301921317441,0.7652142206016384,0.9914625228519146,0.7107635694572182,0.2903999999999999,0.24036410923277,0.9378679750222971,0.9164945652173877,0.8064104882459273,0.9290802524797077,0.9066636197440546,0.3180749354005172,0.2568725361366626,0.8824977698483453,0.892744394618831,0.7243482224247918,0.8997563176895275,0.7620981713185733,0.2959577278731841,0.2421563682219419,0.8943151298119919,0.8745313921747008,0.7518831168831128,0.8504411764705848,0.7054224698235815,0.27499999999999974,0.23446134347275033,0.8126744186046475,0.8268148820326638,0.7121109123434675,0.8306506238859143,0.7292435424354204,0.282109479305741,0.23500667556742327,0.8114520547945178,0.8096733212341163,0.7164241348713366,0.8283996383363434,0.8073928896991764,0.2884677419354836,0.2045417789757412,0.8015461121157288,1.0131328671328588,0.8692503639010127,1.043686832740206,0.9937589158345141,0.36113207547169557,0.29977917981072416,0.9951467430207508,1.0489158345221032,0.6759415584415542,1.0058406432748466,1.04776520509193,0.3547699530516412,0.27942940038684616,0.9604136947218194,1.0250495750708146,0.938406317300783,1.054569583931126,1.044189189189182,0.4631031390134497,0.2981736526946092,0.9361987041036635,0.9979520697167706,0.3552135054617652,0.3714185814185795,0.22795238095238093,0.2288839285714281,0.23865364850976337,0.9496801705756854,0.9646955913225962,0.7737598849748314,0.9816434540389897,0.9555347222222147,0.3412653446647759,0.2785104270109221,0.9605031892274914,0.9695201668984614,0.8030845771144224,0.9960323033707791,0.9847645818692824,0.3259010270774955,0.2638118331716767,0.929520789288225,0.9268457780879221,0.7625880661394615,0.9787244538407269,0.9400073260073191,0.3148403707518008,0.21788578371810421,0.22319474835886177,0.19951779563719896,0.19332107843137286,0.17166666666666747,0.1390878938640137,0.14221518987341816,0.15151376146789045,0.1574352651048098,0.16654411764705906,0.16068925233644873,0.16759699624530688],\"yaxis\":\"y\"}],                        {\"annotations\":[{\"font\":{},\"showarrow\":false,\"text\":\"state=Washington\",\"x\":0.5,\"xanchor\":\"center\",\"xref\":\"paper\",\"y\":0.144,\"yanchor\":\"bottom\",\"yref\":\"paper\"},{\"font\":{},\"showarrow\":false,\"text\":\"state=Texas\",\"x\":0.5,\"xanchor\":\"center\",\"xref\":\"paper\",\"y\":0.358,\"yanchor\":\"bottom\",\"yref\":\"paper\"},{\"font\":{},\"showarrow\":false,\"text\":\"state=North Carolina\",\"x\":0.5,\"xanchor\":\"center\",\"xref\":\"paper\",\"y\":0.572,\"yanchor\":\"bottom\",\"yref\":\"paper\"},{\"font\":{},\"showarrow\":false,\"text\":\"state=Michigan\",\"x\":0.5,\"xanchor\":\"center\",\"xref\":\"paper\",\"y\":0.7859999999999999,\"yanchor\":\"bottom\",\"yref\":\"paper\"},{\"font\":{},\"showarrow\":false,\"text\":\"state=Florida\",\"x\":0.5,\"xanchor\":\"center\",\"xref\":\"paper\",\"y\":1.0,\"yanchor\":\"bottom\",\"yref\":\"paper\"}],\"legend\":{\"title\":{\"text\":\"state\"},\"tracegroupgap\":0},\"margin\":{\"t\":60},\"template\":{\"data\":{\"bar\":[{\"error_x\":{\"color\":\"#2a3f5f\"},\"error_y\":{\"color\":\"#2a3f5f\"},\"marker\":{\"line\":{\"color\":\"#E5ECF6\",\"width\":0.5},\"pattern\":{\"fillmode\":\"overlay\",\"size\":10,\"solidity\":0.2}},\"type\":\"bar\"}],\"barpolar\":[{\"marker\":{\"line\":{\"color\":\"#E5ECF6\",\"width\":0.5},\"pattern\":{\"fillmode\":\"overlay\",\"size\":10,\"solidity\":0.2}},\"type\":\"barpolar\"}],\"carpet\":[{\"aaxis\":{\"endlinecolor\":\"#2a3f5f\",\"gridcolor\":\"white\",\"linecolor\":\"white\",\"minorgridcolor\":\"white\",\"startlinecolor\":\"#2a3f5f\"},\"baxis\":{\"endlinecolor\":\"#2a3f5f\",\"gridcolor\":\"white\",\"linecolor\":\"white\",\"minorgridcolor\":\"white\",\"startlinecolor\":\"#2a3f5f\"},\"type\":\"carpet\"}],\"choropleth\":[{\"colorbar\":{\"outlinewidth\":0,\"ticks\":\"\"},\"type\":\"choropleth\"}],\"contour\":[{\"colorbar\":{\"outlinewidth\":0,\"ticks\":\"\"},\"colorscale\":[[0.0,\"#0d0887\"],[0.1111111111111111,\"#46039f\"],[0.2222222222222222,\"#7201a8\"],[0.3333333333333333,\"#9c179e\"],[0.4444444444444444,\"#bd3786\"],[0.5555555555555556,\"#d8576b\"],[0.6666666666666666,\"#ed7953\"],[0.7777777777777778,\"#fb9f3a\"],[0.8888888888888888,\"#fdca26\"],[1.0,\"#f0f921\"]],\"type\":\"contour\"}],\"contourcarpet\":[{\"colorbar\":{\"outlinewidth\":0,\"ticks\":\"\"},\"type\":\"contourcarpet\"}],\"heatmap\":[{\"colorbar\":{\"outlinewidth\":0,\"ticks\":\"\"},\"colorscale\":[[0.0,\"#0d0887\"],[0.1111111111111111,\"#46039f\"],[0.2222222222222222,\"#7201a8\"],[0.3333333333333333,\"#9c179e\"],[0.4444444444444444,\"#bd3786\"],[0.5555555555555556,\"#d8576b\"],[0.6666666666666666,\"#ed7953\"],[0.7777777777777778,\"#fb9f3a\"],[0.8888888888888888,\"#fdca26\"],[1.0,\"#f0f921\"]],\"type\":\"heatmap\"}],\"heatmapgl\":[{\"colorbar\":{\"outlinewidth\":0,\"ticks\":\"\"},\"colorscale\":[[0.0,\"#0d0887\"],[0.1111111111111111,\"#46039f\"],[0.2222222222222222,\"#7201a8\"],[0.3333333333333333,\"#9c179e\"],[0.4444444444444444,\"#bd3786\"],[0.5555555555555556,\"#d8576b\"],[0.6666666666666666,\"#ed7953\"],[0.7777777777777778,\"#fb9f3a\"],[0.8888888888888888,\"#fdca26\"],[1.0,\"#f0f921\"]],\"type\":\"heatmapgl\"}],\"histogram\":[{\"marker\":{\"pattern\":{\"fillmode\":\"overlay\",\"size\":10,\"solidity\":0.2}},\"type\":\"histogram\"}],\"histogram2d\":[{\"colorbar\":{\"outlinewidth\":0,\"ticks\":\"\"},\"colorscale\":[[0.0,\"#0d0887\"],[0.1111111111111111,\"#46039f\"],[0.2222222222222222,\"#7201a8\"],[0.3333333333333333,\"#9c179e\"],[0.4444444444444444,\"#bd3786\"],[0.5555555555555556,\"#d8576b\"],[0.6666666666666666,\"#ed7953\"],[0.7777777777777778,\"#fb9f3a\"],[0.8888888888888888,\"#fdca26\"],[1.0,\"#f0f921\"]],\"type\":\"histogram2d\"}],\"histogram2dcontour\":[{\"colorbar\":{\"outlinewidth\":0,\"ticks\":\"\"},\"colorscale\":[[0.0,\"#0d0887\"],[0.1111111111111111,\"#46039f\"],[0.2222222222222222,\"#7201a8\"],[0.3333333333333333,\"#9c179e\"],[0.4444444444444444,\"#bd3786\"],[0.5555555555555556,\"#d8576b\"],[0.6666666666666666,\"#ed7953\"],[0.7777777777777778,\"#fb9f3a\"],[0.8888888888888888,\"#fdca26\"],[1.0,\"#f0f921\"]],\"type\":\"histogram2dcontour\"}],\"mesh3d\":[{\"colorbar\":{\"outlinewidth\":0,\"ticks\":\"\"},\"type\":\"mesh3d\"}],\"parcoords\":[{\"line\":{\"colorbar\":{\"outlinewidth\":0,\"ticks\":\"\"}},\"type\":\"parcoords\"}],\"pie\":[{\"automargin\":true,\"type\":\"pie\"}],\"scatter\":[{\"marker\":{\"colorbar\":{\"outlinewidth\":0,\"ticks\":\"\"}},\"type\":\"scatter\"}],\"scatter3d\":[{\"line\":{\"colorbar\":{\"outlinewidth\":0,\"ticks\":\"\"}},\"marker\":{\"colorbar\":{\"outlinewidth\":0,\"ticks\":\"\"}},\"type\":\"scatter3d\"}],\"scattercarpet\":[{\"marker\":{\"colorbar\":{\"outlinewidth\":0,\"ticks\":\"\"}},\"type\":\"scattercarpet\"}],\"scattergeo\":[{\"marker\":{\"colorbar\":{\"outlinewidth\":0,\"ticks\":\"\"}},\"type\":\"scattergeo\"}],\"scattergl\":[{\"marker\":{\"colorbar\":{\"outlinewidth\":0,\"ticks\":\"\"}},\"type\":\"scattergl\"}],\"scattermapbox\":[{\"marker\":{\"colorbar\":{\"outlinewidth\":0,\"ticks\":\"\"}},\"type\":\"scattermapbox\"}],\"scatterpolar\":[{\"marker\":{\"colorbar\":{\"outlinewidth\":0,\"ticks\":\"\"}},\"type\":\"scatterpolar\"}],\"scatterpolargl\":[{\"marker\":{\"colorbar\":{\"outlinewidth\":0,\"ticks\":\"\"}},\"type\":\"scatterpolargl\"}],\"scatterternary\":[{\"marker\":{\"colorbar\":{\"outlinewidth\":0,\"ticks\":\"\"}},\"type\":\"scatterternary\"}],\"surface\":[{\"colorbar\":{\"outlinewidth\":0,\"ticks\":\"\"},\"colorscale\":[[0.0,\"#0d0887\"],[0.1111111111111111,\"#46039f\"],[0.2222222222222222,\"#7201a8\"],[0.3333333333333333,\"#9c179e\"],[0.4444444444444444,\"#bd3786\"],[0.5555555555555556,\"#d8576b\"],[0.6666666666666666,\"#ed7953\"],[0.7777777777777778,\"#fb9f3a\"],[0.8888888888888888,\"#fdca26\"],[1.0,\"#f0f921\"]],\"type\":\"surface\"}],\"table\":[{\"cells\":{\"fill\":{\"color\":\"#EBF0F8\"},\"line\":{\"color\":\"white\"}},\"header\":{\"fill\":{\"color\":\"#C8D4E3\"},\"line\":{\"color\":\"white\"}},\"type\":\"table\"}]},\"layout\":{\"annotationdefaults\":{\"arrowcolor\":\"#2a3f5f\",\"arrowhead\":0,\"arrowwidth\":1},\"autotypenumbers\":\"strict\",\"coloraxis\":{\"colorbar\":{\"outlinewidth\":0,\"ticks\":\"\"}},\"colorscale\":{\"diverging\":[[0,\"#8e0152\"],[0.1,\"#c51b7d\"],[0.2,\"#de77ae\"],[0.3,\"#f1b6da\"],[0.4,\"#fde0ef\"],[0.5,\"#f7f7f7\"],[0.6,\"#e6f5d0\"],[0.7,\"#b8e186\"],[0.8,\"#7fbc41\"],[0.9,\"#4d9221\"],[1,\"#276419\"]],\"sequential\":[[0.0,\"#0d0887\"],[0.1111111111111111,\"#46039f\"],[0.2222222222222222,\"#7201a8\"],[0.3333333333333333,\"#9c179e\"],[0.4444444444444444,\"#bd3786\"],[0.5555555555555556,\"#d8576b\"],[0.6666666666666666,\"#ed7953\"],[0.7777777777777778,\"#fb9f3a\"],[0.8888888888888888,\"#fdca26\"],[1.0,\"#f0f921\"]],\"sequentialminus\":[[0.0,\"#0d0887\"],[0.1111111111111111,\"#46039f\"],[0.2222222222222222,\"#7201a8\"],[0.3333333333333333,\"#9c179e\"],[0.4444444444444444,\"#bd3786\"],[0.5555555555555556,\"#d8576b\"],[0.6666666666666666,\"#ed7953\"],[0.7777777777777778,\"#fb9f3a\"],[0.8888888888888888,\"#fdca26\"],[1.0,\"#f0f921\"]]},\"colorway\":[\"#636efa\",\"#EF553B\",\"#00cc96\",\"#ab63fa\",\"#FFA15A\",\"#19d3f3\",\"#FF6692\",\"#B6E880\",\"#FF97FF\",\"#FECB52\"],\"font\":{\"color\":\"#2a3f5f\"},\"geo\":{\"bgcolor\":\"white\",\"lakecolor\":\"white\",\"landcolor\":\"#E5ECF6\",\"showlakes\":true,\"showland\":true,\"subunitcolor\":\"white\"},\"hoverlabel\":{\"align\":\"left\"},\"hovermode\":\"closest\",\"mapbox\":{\"style\":\"light\"},\"paper_bgcolor\":\"white\",\"plot_bgcolor\":\"#E5ECF6\",\"polar\":{\"angularaxis\":{\"gridcolor\":\"white\",\"linecolor\":\"white\",\"ticks\":\"\"},\"bgcolor\":\"#E5ECF6\",\"radialaxis\":{\"gridcolor\":\"white\",\"linecolor\":\"white\",\"ticks\":\"\"}},\"scene\":{\"xaxis\":{\"backgroundcolor\":\"#E5ECF6\",\"gridcolor\":\"white\",\"gridwidth\":2,\"linecolor\":\"white\",\"showbackground\":true,\"ticks\":\"\",\"zerolinecolor\":\"white\"},\"yaxis\":{\"backgroundcolor\":\"#E5ECF6\",\"gridcolor\":\"white\",\"gridwidth\":2,\"linecolor\":\"white\",\"showbackground\":true,\"ticks\":\"\",\"zerolinecolor\":\"white\"},\"zaxis\":{\"backgroundcolor\":\"#E5ECF6\",\"gridcolor\":\"white\",\"gridwidth\":2,\"linecolor\":\"white\",\"showbackground\":true,\"ticks\":\"\",\"zerolinecolor\":\"white\"}},\"shapedefaults\":{\"line\":{\"color\":\"#2a3f5f\"}},\"ternary\":{\"aaxis\":{\"gridcolor\":\"white\",\"linecolor\":\"white\",\"ticks\":\"\"},\"baxis\":{\"gridcolor\":\"white\",\"linecolor\":\"white\",\"ticks\":\"\"},\"bgcolor\":\"#E5ECF6\",\"caxis\":{\"gridcolor\":\"white\",\"linecolor\":\"white\",\"ticks\":\"\"}},\"title\":{\"x\":0.05},\"xaxis\":{\"automargin\":true,\"gridcolor\":\"white\",\"linecolor\":\"white\",\"ticks\":\"\",\"title\":{\"standoff\":15},\"zerolinecolor\":\"white\",\"zerolinewidth\":2},\"yaxis\":{\"automargin\":true,\"gridcolor\":\"white\",\"linecolor\":\"white\",\"ticks\":\"\",\"title\":{\"standoff\":15},\"zerolinecolor\":\"white\",\"zerolinewidth\":2}}},\"title\":{\"text\":\"Educational Product Access On Bottom 5 States\"},\"xaxis\":{\"anchor\":\"y\",\"domain\":[0.0,1.0],\"title\":{\"text\":\"time\"}},\"xaxis2\":{\"anchor\":\"y2\",\"domain\":[0.0,1.0],\"matches\":\"x\",\"showticklabels\":false},\"xaxis3\":{\"anchor\":\"y3\",\"domain\":[0.0,1.0],\"matches\":\"x\",\"showticklabels\":false},\"xaxis4\":{\"anchor\":\"y4\",\"domain\":[0.0,1.0],\"matches\":\"x\",\"showticklabels\":false},\"xaxis5\":{\"anchor\":\"y5\",\"domain\":[0.0,1.0],\"matches\":\"x\",\"showticklabels\":false},\"yaxis\":{\"anchor\":\"x\",\"domain\":[0.0,0.144],\"title\":{\"text\":\"pct_access\"}},\"yaxis2\":{\"anchor\":\"x2\",\"domain\":[0.214,0.358],\"matches\":\"y\",\"title\":{\"text\":\"pct_access\"}},\"yaxis3\":{\"anchor\":\"x3\",\"domain\":[0.428,0.572],\"matches\":\"y\",\"title\":{\"text\":\"pct_access\"}},\"yaxis4\":{\"anchor\":\"x4\",\"domain\":[0.6419999999999999,0.7859999999999999],\"matches\":\"y\",\"title\":{\"text\":\"pct_access\"}},\"yaxis5\":{\"anchor\":\"x5\",\"domain\":[0.856,1.0],\"matches\":\"y\",\"title\":{\"text\":\"pct_access\"}}},                        {\"responsive\": true}                    ).then(function(){\n                            \nvar gd = document.getElementById('8194cb58-dc5a-4201-b59a-87a616846aec');\nvar x = new MutationObserver(function (mutations, observer) {{\n        var display = window.getComputedStyle(gd).display;\n        if (!display || display === 'none') {{\n            console.log([gd, 'removed!']);\n            Plotly.purge(gd);\n            observer.disconnect();\n        }}\n}});\n\n// Listen for the removal of the full notebook cells\nvar notebookContainer = gd.closest('#notebook-container');\nif (notebookContainer) {{\n    x.observe(notebookContainer, {childList: true});\n}}\n\n// Listen for the clearing of the current output cell\nvar outputEl = gd.closest('.output');\nif (outputEl) {{\n    x.observe(outputEl, {childList: true});\n}}\n\n                        })                };                            </script>        </div>\n</body>\n</html>"
     },
     "metadata": {},
     "output_type": "display_data"
    }
   ],
   "execution_count": null
  },
  {
   "cell_type": "markdown",
   "source": "# Geographical Analysis\nIn this section will be looking at different states based on product access and engagement index. \n>We do not have access to all states data so you might see a lot of gray space on the map. ",
   "metadata": {
    "papermill": {
     "duration": 0.082133,
     "end_time": "2021-09-19T11:56:29.121159",
     "exception": false,
     "start_time": "2021-09-19T11:56:29.039026",
     "status": "completed"
    },
    "tags": [],
    "cell_id": "00066-0649789b-90e0-4fa8-9d6a-b57e38fe8f5d",
    "deepnote_cell_type": "markdown"
   }
  },
  {
   "cell_type": "code",
   "metadata": {
    "_kg_hide-input": true,
    "execution": {
     "iopub.execute_input": "2021-09-19T11:56:29.287027Z",
     "iopub.status.busy": "2021-09-19T11:56:29.286436Z",
     "iopub.status.idle": "2021-09-19T11:56:29.946398Z",
     "shell.execute_reply": "2021-09-19T11:56:29.946849Z",
     "shell.execute_reply.started": "2021-09-19T11:09:52.454211Z"
    },
    "papermill": {
     "duration": 0.743826,
     "end_time": "2021-09-19T11:56:29.947018",
     "exception": false,
     "start_time": "2021-09-19T11:56:29.203192",
     "status": "completed"
    },
    "tags": [],
    "cell_id": "00067-987b7209-85bd-4d74-ac80-2d4cecf0133c",
    "deepnote_to_be_reexecuted": false,
    "source_hash": "ea840b8f",
    "execution_start": 1634282993226,
    "execution_millis": 440,
    "deepnote_cell_type": "code"
   },
   "source": "geo_pct = complete_data[[\"state\",\"pct_access\"]]\\\n.groupby(by=[\"state\"])\\\n.mean()\\\n.dropna()\\\n.reset_index()\ngeo = pd.read_csv('https://raw.githubusercontent.com/plotly/datasets/master/2011_us_ag_exports.csv')\n\ngeo_pct = pd.merge(geo_pct,geo,on = 'state', how = 'left')[['state','pct_access','code']]\ngeo_pct.head()",
   "outputs": [
    {
     "output_type": "execute_result",
     "execution_count": 30,
     "data": {
      "application/vnd.deepnote.dataframe.v2+json": {
       "row_count": 5,
       "column_count": 3,
       "columns": [
        {
         "name": "state",
         "dtype": "object",
         "stats": {
          "unique_count": 5,
          "nan_count": 0,
          "categories": [
           {
            "name": "Florida",
            "count": 1
           },
           {
            "name": "Illinois",
            "count": 1
           },
           {
            "name": "3 others",
            "count": 3
           }
          ]
         }
        },
        {
         "name": "pct_access",
         "dtype": "float64",
         "stats": {
          "unique_count": 5,
          "nan_count": 0,
          "min": "0.45534325852231516",
          "max": "1.1371947564711977",
          "histogram": [
           {
            "bin_start": 0.45534325852231516,
            "bin_end": 0.5235284083172034,
            "count": 2
           },
           {
            "bin_start": 0.5235284083172034,
            "bin_end": 0.5917135581120917,
            "count": 0
           },
           {
            "bin_start": 0.5917135581120917,
            "bin_end": 0.6598987079069799,
            "count": 0
           },
           {
            "bin_start": 0.6598987079069799,
            "bin_end": 0.7280838577018682,
            "count": 1
           },
           {
            "bin_start": 0.7280838577018682,
            "bin_end": 0.7962690074967564,
            "count": 0
           },
           {
            "bin_start": 0.7962690074967564,
            "bin_end": 0.8644541572916447,
            "count": 0
           },
           {
            "bin_start": 0.8644541572916447,
            "bin_end": 0.9326393070865329,
            "count": 0
           },
           {
            "bin_start": 0.9326393070865329,
            "bin_end": 1.0008244568814213,
            "count": 0
           },
           {
            "bin_start": 1.0008244568814213,
            "bin_end": 1.0690096066763095,
            "count": 1
           },
           {
            "bin_start": 1.0690096066763095,
            "bin_end": 1.1371947564711977,
            "count": 1
           }
          ]
         }
        },
        {
         "name": "code",
         "dtype": "object",
         "stats": {
          "unique_count": 5,
          "nan_count": 0,
          "categories": [
           {
            "name": "FL",
            "count": 1
           },
           {
            "name": "IL",
            "count": 1
           },
           {
            "name": "3 others",
            "count": 3
           }
          ]
         }
        },
        {
         "name": "_deepnote_index_column",
         "dtype": "int64"
        }
       ],
       "rows_top": [
        {
         "state": "Florida",
         "pct_access": 0.4696983330506856,
         "code": "FL",
         "_deepnote_index_column": 0
        },
        {
         "state": "Illinois",
         "pct_access": 1.0155245822576966,
         "code": "IL",
         "_deepnote_index_column": 1
        },
        {
         "state": "Indiana",
         "pct_access": 1.1371947564711977,
         "code": "IN",
         "_deepnote_index_column": 2
        },
        {
         "state": "Michigan",
         "pct_access": 0.45534325852231516,
         "code": "MI",
         "_deepnote_index_column": 3
        },
        {
         "state": "Minnesota",
         "pct_access": 0.7125854261012987,
         "code": "MN",
         "_deepnote_index_column": 4
        }
       ],
       "rows_bottom": null
      },
      "text/plain": "       state  pct_access code\n0    Florida    0.469698   FL\n1   Illinois    1.015525   IL\n2    Indiana    1.137195   IN\n3   Michigan    0.455343   MI\n4  Minnesota    0.712585   MN",
      "text/html": "<div>\n<style scoped>\n    .dataframe tbody tr th:only-of-type {\n        vertical-align: middle;\n    }\n\n    .dataframe tbody tr th {\n        vertical-align: top;\n    }\n\n    .dataframe thead th {\n        text-align: right;\n    }\n</style>\n<table border=\"1\" class=\"dataframe\">\n  <thead>\n    <tr style=\"text-align: right;\">\n      <th></th>\n      <th>state</th>\n      <th>pct_access</th>\n      <th>code</th>\n    </tr>\n  </thead>\n  <tbody>\n    <tr>\n      <th>0</th>\n      <td>Florida</td>\n      <td>0.469698</td>\n      <td>FL</td>\n    </tr>\n    <tr>\n      <th>1</th>\n      <td>Illinois</td>\n      <td>1.015525</td>\n      <td>IL</td>\n    </tr>\n    <tr>\n      <th>2</th>\n      <td>Indiana</td>\n      <td>1.137195</td>\n      <td>IN</td>\n    </tr>\n    <tr>\n      <th>3</th>\n      <td>Michigan</td>\n      <td>0.455343</td>\n      <td>MI</td>\n    </tr>\n    <tr>\n      <th>4</th>\n      <td>Minnesota</td>\n      <td>0.712585</td>\n      <td>MN</td>\n    </tr>\n  </tbody>\n</table>\n</div>"
     },
     "metadata": {}
    }
   ],
   "execution_count": null
  },
  {
   "cell_type": "markdown",
   "source": "## Education Products Access per State\nNew York has a higher product access score than any other state, then comes Orange States Wisconson, Illinois, and Indiana. There might be a link between the lower population of Black/Hispanics in these states. Let's explore that in the next part. ",
   "metadata": {
    "papermill": {
     "duration": 0.08148,
     "end_time": "2021-09-19T11:56:30.110964",
     "exception": false,
     "start_time": "2021-09-19T11:56:30.029484",
     "status": "completed"
    },
    "tags": [],
    "cell_id": "00068-f431485c-dab8-4cde-bbd8-22ae3762e201",
    "deepnote_cell_type": "markdown"
   }
  },
  {
   "cell_type": "code",
   "metadata": {
    "_kg_hide-input": true,
    "execution": {
     "iopub.execute_input": "2021-09-19T11:56:30.277588Z",
     "iopub.status.busy": "2021-09-19T11:56:30.276937Z",
     "iopub.status.idle": "2021-09-19T11:56:30.306273Z",
     "shell.execute_reply": "2021-09-19T11:56:30.305787Z",
     "shell.execute_reply.started": "2021-09-19T11:09:53.450300Z"
    },
    "papermill": {
     "duration": 0.113533,
     "end_time": "2021-09-19T11:56:30.306416",
     "exception": false,
     "start_time": "2021-09-19T11:56:30.192883",
     "status": "completed"
    },
    "tags": [],
    "cell_id": "00069-5a11afe7-c77d-4833-9f4e-f6d931190341",
    "deepnote_to_be_reexecuted": false,
    "source_hash": "35f3ab0b",
    "execution_start": 1634282993667,
    "execution_millis": 63,
    "deepnote_cell_type": "code"
   },
   "source": "fig = go.Figure(data=go.Choropleth(\n    locations=geo_pct['code'], # Spatial coordinates\n    z = geo_pct['pct_access'].astype(float), # Data to be color-coded\n    locationmode = 'USA-states', # set of locations match entries in `locations`\n    colorscale = 'plasma',\n    text = geo_pct['state'],\n    colorbar_title = \"product access\",\n))\n\nfig.update_layout(\n    title_text = 'Education Products access per state',\n    geo_scope='usa', # limite map scope to USA\n)\n\nfig.show()",
   "outputs": [
    {
     "data": {
      "text/html": "<html>\n<head><meta charset=\"utf-8\" /></head>\n<body>\n    <div>            <script src=\"https://cdnjs.cloudflare.com/ajax/libs/mathjax/2.7.5/MathJax.js?config=TeX-AMS-MML_SVG\"></script><script type=\"text/javascript\">if (window.MathJax) {MathJax.Hub.Config({SVG: {font: \"STIX-Web\"}});}</script>                <script type=\"text/javascript\">window.PlotlyConfig = {MathJaxConfig: 'local'};</script>\n        <script src=\"https://cdn.plot.ly/plotly-2.4.2.min.js\"></script>                <div id=\"79347fdb-5a5f-45f1-a176-57f890271aae\" class=\"plotly-graph-div\" style=\"height:525px; width:100%;\"></div>            <script type=\"text/javascript\">                                    window.PLOTLYENV=window.PLOTLYENV || {};                                    if (document.getElementById(\"79347fdb-5a5f-45f1-a176-57f890271aae\")) {                    Plotly.newPlot(                        \"79347fdb-5a5f-45f1-a176-57f890271aae\",                        [{\"colorbar\":{\"title\":{\"text\":\"product access\"}},\"colorscale\":[[0.0,\"#0d0887\"],[0.1111111111111111,\"#46039f\"],[0.2222222222222222,\"#7201a8\"],[0.3333333333333333,\"#9c179e\"],[0.4444444444444444,\"#bd3786\"],[0.5555555555555556,\"#d8576b\"],[0.6666666666666666,\"#ed7953\"],[0.7777777777777778,\"#fb9f3a\"],[0.8888888888888888,\"#fdca26\"],[1.0,\"#f0f921\"]],\"locationmode\":\"USA-states\",\"locations\":[\"FL\",\"IL\",\"IN\",\"MI\",\"MN\",\"MO\",\"NJ\",\"NY\",\"NC\",\"TX\",\"UT\",\"VA\",\"WA\",\"WI\"],\"text\":[\"Florida\",\"Illinois\",\"Indiana\",\"Michigan\",\"Minnesota\",\"Missouri\",\"New Jersey\",\"New York\",\"North Carolina\",\"Texas\",\"Utah\",\"Virginia\",\"Washington\",\"Wisconsin\"],\"type\":\"choropleth\",\"z\":[0.4696983330506856,1.0155245822576966,1.1371947564711977,0.45534325852231516,0.7125854261012987,0.6084593263300617,0.731895603404641,1.3868076137242724,0.36114330436061565,0.5003983755811858,0.6877611150203222,0.6724630256117626,0.5318446444724277,1.117181733060653]}],                        {\"geo\":{\"scope\":\"usa\"},\"template\":{\"data\":{\"bar\":[{\"error_x\":{\"color\":\"#2a3f5f\"},\"error_y\":{\"color\":\"#2a3f5f\"},\"marker\":{\"line\":{\"color\":\"#E5ECF6\",\"width\":0.5},\"pattern\":{\"fillmode\":\"overlay\",\"size\":10,\"solidity\":0.2}},\"type\":\"bar\"}],\"barpolar\":[{\"marker\":{\"line\":{\"color\":\"#E5ECF6\",\"width\":0.5},\"pattern\":{\"fillmode\":\"overlay\",\"size\":10,\"solidity\":0.2}},\"type\":\"barpolar\"}],\"carpet\":[{\"aaxis\":{\"endlinecolor\":\"#2a3f5f\",\"gridcolor\":\"white\",\"linecolor\":\"white\",\"minorgridcolor\":\"white\",\"startlinecolor\":\"#2a3f5f\"},\"baxis\":{\"endlinecolor\":\"#2a3f5f\",\"gridcolor\":\"white\",\"linecolor\":\"white\",\"minorgridcolor\":\"white\",\"startlinecolor\":\"#2a3f5f\"},\"type\":\"carpet\"}],\"choropleth\":[{\"colorbar\":{\"outlinewidth\":0,\"ticks\":\"\"},\"type\":\"choropleth\"}],\"contour\":[{\"colorbar\":{\"outlinewidth\":0,\"ticks\":\"\"},\"colorscale\":[[0.0,\"#0d0887\"],[0.1111111111111111,\"#46039f\"],[0.2222222222222222,\"#7201a8\"],[0.3333333333333333,\"#9c179e\"],[0.4444444444444444,\"#bd3786\"],[0.5555555555555556,\"#d8576b\"],[0.6666666666666666,\"#ed7953\"],[0.7777777777777778,\"#fb9f3a\"],[0.8888888888888888,\"#fdca26\"],[1.0,\"#f0f921\"]],\"type\":\"contour\"}],\"contourcarpet\":[{\"colorbar\":{\"outlinewidth\":0,\"ticks\":\"\"},\"type\":\"contourcarpet\"}],\"heatmap\":[{\"colorbar\":{\"outlinewidth\":0,\"ticks\":\"\"},\"colorscale\":[[0.0,\"#0d0887\"],[0.1111111111111111,\"#46039f\"],[0.2222222222222222,\"#7201a8\"],[0.3333333333333333,\"#9c179e\"],[0.4444444444444444,\"#bd3786\"],[0.5555555555555556,\"#d8576b\"],[0.6666666666666666,\"#ed7953\"],[0.7777777777777778,\"#fb9f3a\"],[0.8888888888888888,\"#fdca26\"],[1.0,\"#f0f921\"]],\"type\":\"heatmap\"}],\"heatmapgl\":[{\"colorbar\":{\"outlinewidth\":0,\"ticks\":\"\"},\"colorscale\":[[0.0,\"#0d0887\"],[0.1111111111111111,\"#46039f\"],[0.2222222222222222,\"#7201a8\"],[0.3333333333333333,\"#9c179e\"],[0.4444444444444444,\"#bd3786\"],[0.5555555555555556,\"#d8576b\"],[0.6666666666666666,\"#ed7953\"],[0.7777777777777778,\"#fb9f3a\"],[0.8888888888888888,\"#fdca26\"],[1.0,\"#f0f921\"]],\"type\":\"heatmapgl\"}],\"histogram\":[{\"marker\":{\"pattern\":{\"fillmode\":\"overlay\",\"size\":10,\"solidity\":0.2}},\"type\":\"histogram\"}],\"histogram2d\":[{\"colorbar\":{\"outlinewidth\":0,\"ticks\":\"\"},\"colorscale\":[[0.0,\"#0d0887\"],[0.1111111111111111,\"#46039f\"],[0.2222222222222222,\"#7201a8\"],[0.3333333333333333,\"#9c179e\"],[0.4444444444444444,\"#bd3786\"],[0.5555555555555556,\"#d8576b\"],[0.6666666666666666,\"#ed7953\"],[0.7777777777777778,\"#fb9f3a\"],[0.8888888888888888,\"#fdca26\"],[1.0,\"#f0f921\"]],\"type\":\"histogram2d\"}],\"histogram2dcontour\":[{\"colorbar\":{\"outlinewidth\":0,\"ticks\":\"\"},\"colorscale\":[[0.0,\"#0d0887\"],[0.1111111111111111,\"#46039f\"],[0.2222222222222222,\"#7201a8\"],[0.3333333333333333,\"#9c179e\"],[0.4444444444444444,\"#bd3786\"],[0.5555555555555556,\"#d8576b\"],[0.6666666666666666,\"#ed7953\"],[0.7777777777777778,\"#fb9f3a\"],[0.8888888888888888,\"#fdca26\"],[1.0,\"#f0f921\"]],\"type\":\"histogram2dcontour\"}],\"mesh3d\":[{\"colorbar\":{\"outlinewidth\":0,\"ticks\":\"\"},\"type\":\"mesh3d\"}],\"parcoords\":[{\"line\":{\"colorbar\":{\"outlinewidth\":0,\"ticks\":\"\"}},\"type\":\"parcoords\"}],\"pie\":[{\"automargin\":true,\"type\":\"pie\"}],\"scatter\":[{\"marker\":{\"colorbar\":{\"outlinewidth\":0,\"ticks\":\"\"}},\"type\":\"scatter\"}],\"scatter3d\":[{\"line\":{\"colorbar\":{\"outlinewidth\":0,\"ticks\":\"\"}},\"marker\":{\"colorbar\":{\"outlinewidth\":0,\"ticks\":\"\"}},\"type\":\"scatter3d\"}],\"scattercarpet\":[{\"marker\":{\"colorbar\":{\"outlinewidth\":0,\"ticks\":\"\"}},\"type\":\"scattercarpet\"}],\"scattergeo\":[{\"marker\":{\"colorbar\":{\"outlinewidth\":0,\"ticks\":\"\"}},\"type\":\"scattergeo\"}],\"scattergl\":[{\"marker\":{\"colorbar\":{\"outlinewidth\":0,\"ticks\":\"\"}},\"type\":\"scattergl\"}],\"scattermapbox\":[{\"marker\":{\"colorbar\":{\"outlinewidth\":0,\"ticks\":\"\"}},\"type\":\"scattermapbox\"}],\"scatterpolar\":[{\"marker\":{\"colorbar\":{\"outlinewidth\":0,\"ticks\":\"\"}},\"type\":\"scatterpolar\"}],\"scatterpolargl\":[{\"marker\":{\"colorbar\":{\"outlinewidth\":0,\"ticks\":\"\"}},\"type\":\"scatterpolargl\"}],\"scatterternary\":[{\"marker\":{\"colorbar\":{\"outlinewidth\":0,\"ticks\":\"\"}},\"type\":\"scatterternary\"}],\"surface\":[{\"colorbar\":{\"outlinewidth\":0,\"ticks\":\"\"},\"colorscale\":[[0.0,\"#0d0887\"],[0.1111111111111111,\"#46039f\"],[0.2222222222222222,\"#7201a8\"],[0.3333333333333333,\"#9c179e\"],[0.4444444444444444,\"#bd3786\"],[0.5555555555555556,\"#d8576b\"],[0.6666666666666666,\"#ed7953\"],[0.7777777777777778,\"#fb9f3a\"],[0.8888888888888888,\"#fdca26\"],[1.0,\"#f0f921\"]],\"type\":\"surface\"}],\"table\":[{\"cells\":{\"fill\":{\"color\":\"#EBF0F8\"},\"line\":{\"color\":\"white\"}},\"header\":{\"fill\":{\"color\":\"#C8D4E3\"},\"line\":{\"color\":\"white\"}},\"type\":\"table\"}]},\"layout\":{\"annotationdefaults\":{\"arrowcolor\":\"#2a3f5f\",\"arrowhead\":0,\"arrowwidth\":1},\"autotypenumbers\":\"strict\",\"coloraxis\":{\"colorbar\":{\"outlinewidth\":0,\"ticks\":\"\"}},\"colorscale\":{\"diverging\":[[0,\"#8e0152\"],[0.1,\"#c51b7d\"],[0.2,\"#de77ae\"],[0.3,\"#f1b6da\"],[0.4,\"#fde0ef\"],[0.5,\"#f7f7f7\"],[0.6,\"#e6f5d0\"],[0.7,\"#b8e186\"],[0.8,\"#7fbc41\"],[0.9,\"#4d9221\"],[1,\"#276419\"]],\"sequential\":[[0.0,\"#0d0887\"],[0.1111111111111111,\"#46039f\"],[0.2222222222222222,\"#7201a8\"],[0.3333333333333333,\"#9c179e\"],[0.4444444444444444,\"#bd3786\"],[0.5555555555555556,\"#d8576b\"],[0.6666666666666666,\"#ed7953\"],[0.7777777777777778,\"#fb9f3a\"],[0.8888888888888888,\"#fdca26\"],[1.0,\"#f0f921\"]],\"sequentialminus\":[[0.0,\"#0d0887\"],[0.1111111111111111,\"#46039f\"],[0.2222222222222222,\"#7201a8\"],[0.3333333333333333,\"#9c179e\"],[0.4444444444444444,\"#bd3786\"],[0.5555555555555556,\"#d8576b\"],[0.6666666666666666,\"#ed7953\"],[0.7777777777777778,\"#fb9f3a\"],[0.8888888888888888,\"#fdca26\"],[1.0,\"#f0f921\"]]},\"colorway\":[\"#636efa\",\"#EF553B\",\"#00cc96\",\"#ab63fa\",\"#FFA15A\",\"#19d3f3\",\"#FF6692\",\"#B6E880\",\"#FF97FF\",\"#FECB52\"],\"font\":{\"color\":\"#2a3f5f\"},\"geo\":{\"bgcolor\":\"white\",\"lakecolor\":\"white\",\"landcolor\":\"#E5ECF6\",\"showlakes\":true,\"showland\":true,\"subunitcolor\":\"white\"},\"hoverlabel\":{\"align\":\"left\"},\"hovermode\":\"closest\",\"mapbox\":{\"style\":\"light\"},\"paper_bgcolor\":\"white\",\"plot_bgcolor\":\"#E5ECF6\",\"polar\":{\"angularaxis\":{\"gridcolor\":\"white\",\"linecolor\":\"white\",\"ticks\":\"\"},\"bgcolor\":\"#E5ECF6\",\"radialaxis\":{\"gridcolor\":\"white\",\"linecolor\":\"white\",\"ticks\":\"\"}},\"scene\":{\"xaxis\":{\"backgroundcolor\":\"#E5ECF6\",\"gridcolor\":\"white\",\"gridwidth\":2,\"linecolor\":\"white\",\"showbackground\":true,\"ticks\":\"\",\"zerolinecolor\":\"white\"},\"yaxis\":{\"backgroundcolor\":\"#E5ECF6\",\"gridcolor\":\"white\",\"gridwidth\":2,\"linecolor\":\"white\",\"showbackground\":true,\"ticks\":\"\",\"zerolinecolor\":\"white\"},\"zaxis\":{\"backgroundcolor\":\"#E5ECF6\",\"gridcolor\":\"white\",\"gridwidth\":2,\"linecolor\":\"white\",\"showbackground\":true,\"ticks\":\"\",\"zerolinecolor\":\"white\"}},\"shapedefaults\":{\"line\":{\"color\":\"#2a3f5f\"}},\"ternary\":{\"aaxis\":{\"gridcolor\":\"white\",\"linecolor\":\"white\",\"ticks\":\"\"},\"baxis\":{\"gridcolor\":\"white\",\"linecolor\":\"white\",\"ticks\":\"\"},\"bgcolor\":\"#E5ECF6\",\"caxis\":{\"gridcolor\":\"white\",\"linecolor\":\"white\",\"ticks\":\"\"}},\"title\":{\"x\":0.05},\"xaxis\":{\"automargin\":true,\"gridcolor\":\"white\",\"linecolor\":\"white\",\"ticks\":\"\",\"title\":{\"standoff\":15},\"zerolinecolor\":\"white\",\"zerolinewidth\":2},\"yaxis\":{\"automargin\":true,\"gridcolor\":\"white\",\"linecolor\":\"white\",\"ticks\":\"\",\"title\":{\"standoff\":15},\"zerolinecolor\":\"white\",\"zerolinewidth\":2}}},\"title\":{\"text\":\"Education Products access per state\"}},                        {\"responsive\": true}                    ).then(function(){\n                            \nvar gd = document.getElementById('79347fdb-5a5f-45f1-a176-57f890271aae');\nvar x = new MutationObserver(function (mutations, observer) {{\n        var display = window.getComputedStyle(gd).display;\n        if (!display || display === 'none') {{\n            console.log([gd, 'removed!']);\n            Plotly.purge(gd);\n            observer.disconnect();\n        }}\n}});\n\n// Listen for the removal of the full notebook cells\nvar notebookContainer = gd.closest('#notebook-container');\nif (notebookContainer) {{\n    x.observe(notebookContainer, {childList: true});\n}}\n\n// Listen for the clearing of the current output cell\nvar outputEl = gd.closest('.output');\nif (outputEl) {{\n    x.observe(outputEl, {childList: true});\n}}\n\n                        })                };                            </script>        </div>\n</body>\n</html>"
     },
     "metadata": {},
     "output_type": "display_data"
    }
   ],
   "execution_count": null
  },
  {
   "cell_type": "markdown",
   "source": "There is a relation between states with lower the population of Black/Hispanic but it is not the stronger. I can see Newyork and Wisconsin with a lower Black/Hispanic population and higher access rate but when it comes to other states with a lower percentage of people of color it's all over the place. The system is fairly balanced towards other races.",
   "metadata": {
    "papermill": {
     "duration": 0.082986,
     "end_time": "2021-09-19T11:56:30.473487",
     "exception": false,
     "start_time": "2021-09-19T11:56:30.390501",
     "status": "completed"
    },
    "tags": [],
    "cell_id": "00070-71f46daa-8dd4-4cc1-9f05-f4b70254b2d2",
    "deepnote_cell_type": "markdown"
   }
  },
  {
   "cell_type": "code",
   "metadata": {
    "_kg_hide-input": true,
    "execution": {
     "iopub.execute_input": "2021-09-19T11:56:30.647601Z",
     "iopub.status.busy": "2021-09-19T11:56:30.646968Z",
     "iopub.status.idle": "2021-09-19T11:56:31.143254Z",
     "shell.execute_reply": "2021-09-19T11:56:31.143770Z",
     "shell.execute_reply.started": "2021-09-19T11:09:53.478587Z"
    },
    "papermill": {
     "duration": 0.586517,
     "end_time": "2021-09-19T11:56:31.143945",
     "exception": false,
     "start_time": "2021-09-19T11:56:30.557428",
     "status": "completed"
    },
    "tags": [],
    "cell_id": "00071-f8eefbd5-dcc2-418a-a376-100e83077842",
    "deepnote_to_be_reexecuted": false,
    "source_hash": "96d29004",
    "execution_start": 1634282993723,
    "execution_millis": 391,
    "deepnote_cell_type": "code"
   },
   "source": "Top_state = ['New York','Wisconson', 'Illinois','Indiana']\nRace_state = complete_data[['state','pct_access','pct_black/hispanic']]\\\n.groupby('state')\\\n.mean()\\\n.dropna()\\\n.reset_index()\\\n.sort_values(by=['pct_black/hispanic','pct_access'])\nRace_state",
   "outputs": [
    {
     "output_type": "execute_result",
     "execution_count": 32,
     "data": {
      "application/vnd.deepnote.dataframe.v2+json": {
       "row_count": 14,
       "column_count": 3,
       "columns": [
        {
         "name": "state",
         "dtype": "object",
         "stats": {
          "unique_count": 14,
          "nan_count": 0,
          "categories": [
           {
            "name": "Missouri",
            "count": 1
           },
           {
            "name": "Virginia",
            "count": 1
           },
           {
            "name": "12 others",
            "count": 12
           }
          ]
         }
        },
        {
         "name": "pct_access",
         "dtype": "float64",
         "stats": {
          "unique_count": 14,
          "nan_count": 0,
          "min": "0.36114330436061565",
          "max": "1.3868076137242724",
          "histogram": [
           {
            "bin_start": 0.36114330436061565,
            "bin_end": 0.46370973529698134,
            "count": 2
           },
           {
            "bin_start": 0.46370973529698134,
            "bin_end": 0.566276166233347,
            "count": 3
           },
           {
            "bin_start": 0.566276166233347,
            "bin_end": 0.6688425971697127,
            "count": 1
           },
           {
            "bin_start": 0.6688425971697127,
            "bin_end": 0.7714090281060784,
            "count": 4
           },
           {
            "bin_start": 0.7714090281060784,
            "bin_end": 0.873975459042444,
            "count": 0
           },
           {
            "bin_start": 0.873975459042444,
            "bin_end": 0.9765418899788096,
            "count": 0
           },
           {
            "bin_start": 0.9765418899788096,
            "bin_end": 1.0791083209151755,
            "count": 1
           },
           {
            "bin_start": 1.0791083209151755,
            "bin_end": 1.1816747518515411,
            "count": 2
           },
           {
            "bin_start": 1.1816747518515411,
            "bin_end": 1.2842411827879068,
            "count": 0
           },
           {
            "bin_start": 1.2842411827879068,
            "bin_end": 1.3868076137242724,
            "count": 1
           }
          ]
         }
        },
        {
         "name": "pct_black/hispanic",
         "dtype": "float64",
         "stats": {
          "unique_count": 12,
          "nan_count": 0,
          "min": "0.09999999999928012",
          "max": "0.6602622302576905",
          "histogram": [
           {
            "bin_start": 0.09999999999928012,
            "bin_end": 0.15602622302512115,
            "count": 6
           },
           {
            "bin_start": 0.15602622302512115,
            "bin_end": 0.21205244605096218,
            "count": 0
           },
           {
            "bin_start": 0.21205244605096218,
            "bin_end": 0.2680786690768032,
            "count": 1
           },
           {
            "bin_start": 0.2680786690768032,
            "bin_end": 0.32410489210264426,
            "count": 1
           },
           {
            "bin_start": 0.32410489210264426,
            "bin_end": 0.3801311151284853,
            "count": 1
           },
           {
            "bin_start": 0.3801311151284853,
            "bin_end": 0.43615733815432634,
            "count": 1
           },
           {
            "bin_start": 0.43615733815432634,
            "bin_end": 0.4921835611801674,
            "count": 0
           },
           {
            "bin_start": 0.4921835611801674,
            "bin_end": 0.5482097842060084,
            "count": 3
           },
           {
            "bin_start": 0.5482097842060084,
            "bin_end": 0.6042360072318494,
            "count": 0
           },
           {
            "bin_start": 0.6042360072318494,
            "bin_end": 0.6602622302576905,
            "count": 1
           }
          ]
         }
        },
        {
         "name": "_deepnote_index_column",
         "dtype": "int64"
        }
       ],
       "rows_top": [
        {
         "state": "Missouri",
         "pct_access": 0.6084593263300617,
         "pct_black/hispanic": 0.09999999999928012,
         "_deepnote_index_column": 5
        },
        {
         "state": "Virginia",
         "pct_access": 0.6724630256117626,
         "pct_black/hispanic": 0.09999999999978684,
         "_deepnote_index_column": 11
        },
        {
         "state": "New Jersey",
         "pct_access": 0.731895603404641,
         "pct_black/hispanic": 0.10000000000020572,
         "_deepnote_index_column": 6
        },
        {
         "state": "Wisconsin",
         "pct_access": 1.117181733060653,
         "pct_black/hispanic": 0.10000000000021457,
         "_deepnote_index_column": 13
        },
        {
         "state": "New York",
         "pct_access": 1.3868076137242724,
         "pct_black/hispanic": 0.10000000000023065,
         "_deepnote_index_column": 7
        },
        {
         "state": "Utah",
         "pct_access": 0.6877611150203222,
         "pct_black/hispanic": 0.13778241568954902,
         "_deepnote_index_column": 10
        },
        {
         "state": "Indiana",
         "pct_access": 1.1371947564711977,
         "pct_black/hispanic": 0.2407006510426157,
         "_deepnote_index_column": 2
        },
        {
         "state": "Illinois",
         "pct_access": 1.0155245822576966,
         "pct_black/hispanic": 0.31822398430548676,
         "_deepnote_index_column": 1
        },
        {
         "state": "Washington",
         "pct_access": 0.5318446444724277,
         "pct_black/hispanic": 0.36521050701776914,
         "_deepnote_index_column": 12
        },
        {
         "state": "North Carolina",
         "pct_access": 0.36114330436061565,
         "pct_black/hispanic": 0.399419030780523,
         "_deepnote_index_column": 8
        },
        {
         "state": "Michigan",
         "pct_access": 0.45534325852231516,
         "pct_black/hispanic": 0.5,
         "_deepnote_index_column": 3
        },
        {
         "state": "Florida",
         "pct_access": 0.4696983330506856,
         "pct_black/hispanic": 0.5,
         "_deepnote_index_column": 0
        },
        {
         "state": "Minnesota",
         "pct_access": 0.7125854261012987,
         "pct_black/hispanic": 0.5,
         "_deepnote_index_column": 4
        },
        {
         "state": "Texas",
         "pct_access": 0.5003983755811858,
         "pct_black/hispanic": 0.6602622302576905,
         "_deepnote_index_column": 9
        }
       ],
       "rows_bottom": null
      },
      "text/plain": "             state  pct_access  pct_black/hispanic\n5         Missouri    0.608459            0.100000\n11        Virginia    0.672463            0.100000\n6       New Jersey    0.731896            0.100000\n13       Wisconsin    1.117182            0.100000\n7         New York    1.386808            0.100000\n10            Utah    0.687761            0.137782\n2          Indiana    1.137195            0.240701\n1         Illinois    1.015525            0.318224\n12      Washington    0.531845            0.365211\n8   North Carolina    0.361143            0.399419\n3         Michigan    0.455343            0.500000\n0          Florida    0.469698            0.500000\n4        Minnesota    0.712585            0.500000\n9            Texas    0.500398            0.660262",
      "text/html": "<div>\n<style scoped>\n    .dataframe tbody tr th:only-of-type {\n        vertical-align: middle;\n    }\n\n    .dataframe tbody tr th {\n        vertical-align: top;\n    }\n\n    .dataframe thead th {\n        text-align: right;\n    }\n</style>\n<table border=\"1\" class=\"dataframe\">\n  <thead>\n    <tr style=\"text-align: right;\">\n      <th></th>\n      <th>state</th>\n      <th>pct_access</th>\n      <th>pct_black/hispanic</th>\n    </tr>\n  </thead>\n  <tbody>\n    <tr>\n      <th>5</th>\n      <td>Missouri</td>\n      <td>0.608459</td>\n      <td>0.100000</td>\n    </tr>\n    <tr>\n      <th>11</th>\n      <td>Virginia</td>\n      <td>0.672463</td>\n      <td>0.100000</td>\n    </tr>\n    <tr>\n      <th>6</th>\n      <td>New Jersey</td>\n      <td>0.731896</td>\n      <td>0.100000</td>\n    </tr>\n    <tr>\n      <th>13</th>\n      <td>Wisconsin</td>\n      <td>1.117182</td>\n      <td>0.100000</td>\n    </tr>\n    <tr>\n      <th>7</th>\n      <td>New York</td>\n      <td>1.386808</td>\n      <td>0.100000</td>\n    </tr>\n    <tr>\n      <th>10</th>\n      <td>Utah</td>\n      <td>0.687761</td>\n      <td>0.137782</td>\n    </tr>\n    <tr>\n      <th>2</th>\n      <td>Indiana</td>\n      <td>1.137195</td>\n      <td>0.240701</td>\n    </tr>\n    <tr>\n      <th>1</th>\n      <td>Illinois</td>\n      <td>1.015525</td>\n      <td>0.318224</td>\n    </tr>\n    <tr>\n      <th>12</th>\n      <td>Washington</td>\n      <td>0.531845</td>\n      <td>0.365211</td>\n    </tr>\n    <tr>\n      <th>8</th>\n      <td>North Carolina</td>\n      <td>0.361143</td>\n      <td>0.399419</td>\n    </tr>\n    <tr>\n      <th>3</th>\n      <td>Michigan</td>\n      <td>0.455343</td>\n      <td>0.500000</td>\n    </tr>\n    <tr>\n      <th>0</th>\n      <td>Florida</td>\n      <td>0.469698</td>\n      <td>0.500000</td>\n    </tr>\n    <tr>\n      <th>4</th>\n      <td>Minnesota</td>\n      <td>0.712585</td>\n      <td>0.500000</td>\n    </tr>\n    <tr>\n      <th>9</th>\n      <td>Texas</td>\n      <td>0.500398</td>\n      <td>0.660262</td>\n    </tr>\n  </tbody>\n</table>\n</div>"
     },
     "metadata": {}
    }
   ],
   "execution_count": null
  },
  {
   "cell_type": "markdown",
   "source": "## Engagement Index Per State\nThe Engagement distribution per state is quite similar to product access. It's logical that if students have access to these products there is a chance of an increase in usage of these platforms.",
   "metadata": {
    "papermill": {
     "duration": 0.083497,
     "end_time": "2021-09-19T11:56:31.311941",
     "exception": false,
     "start_time": "2021-09-19T11:56:31.228444",
     "status": "completed"
    },
    "tags": [],
    "cell_id": "00072-6c4524c6-8a9d-440f-8612-b19f0f872bf3",
    "deepnote_cell_type": "markdown"
   }
  },
  {
   "cell_type": "code",
   "metadata": {
    "_kg_hide-input": true,
    "execution": {
     "iopub.execute_input": "2021-09-19T11:56:31.488730Z",
     "iopub.status.busy": "2021-09-19T11:56:31.488070Z",
     "iopub.status.idle": "2021-09-19T11:56:32.005365Z",
     "shell.execute_reply": "2021-09-19T11:56:32.004835Z",
     "shell.execute_reply.started": "2021-09-19T11:09:53.908859Z"
    },
    "papermill": {
     "duration": 0.607767,
     "end_time": "2021-09-19T11:56:32.005495",
     "exception": false,
     "start_time": "2021-09-19T11:56:31.397728",
     "status": "completed"
    },
    "tags": [],
    "cell_id": "00073-2bb47b4f-9a0d-4c95-81ce-49fc86137175",
    "deepnote_to_be_reexecuted": false,
    "source_hash": "40c2dd45",
    "execution_start": 1634282994108,
    "execution_millis": 362,
    "deepnote_cell_type": "code"
   },
   "source": "geo_engag = complete_data[[\"state\",\"engagement_index\"]]\\\n.groupby(by=[\"state\"])\\\n.mean()\\\n.dropna()\\\n.reset_index()\ngeo_engag = pd.merge(geo_engag,geo,on = 'state', how = 'left')[['state','engagement_index','code']]\ngeo_engag.head()",
   "outputs": [
    {
     "output_type": "execute_result",
     "execution_count": 33,
     "data": {
      "application/vnd.deepnote.dataframe.v2+json": {
       "row_count": 5,
       "column_count": 3,
       "columns": [
        {
         "name": "state",
         "dtype": "object",
         "stats": {
          "unique_count": 5,
          "nan_count": 0,
          "categories": [
           {
            "name": "Florida",
            "count": 1
           },
           {
            "name": "Illinois",
            "count": 1
           },
           {
            "name": "3 others",
            "count": 3
           }
          ]
         }
        },
        {
         "name": "engagement_index",
         "dtype": "float64",
         "stats": {
          "unique_count": 5,
          "nan_count": 0,
          "min": "128.21185259852794",
          "max": "317.79359607744647",
          "histogram": [
           {
            "bin_start": 128.21185259852794,
            "bin_end": 147.1700269464198,
            "count": 2
           },
           {
            "bin_start": 147.1700269464198,
            "bin_end": 166.12820129431165,
            "count": 0
           },
           {
            "bin_start": 166.12820129431165,
            "bin_end": 185.0863756422035,
            "count": 0
           },
           {
            "bin_start": 185.0863756422035,
            "bin_end": 204.04454999009533,
            "count": 1
           },
           {
            "bin_start": 204.04454999009533,
            "bin_end": 223.00272433798722,
            "count": 0
           },
           {
            "bin_start": 223.00272433798722,
            "bin_end": 241.96089868587904,
            "count": 0
           },
           {
            "bin_start": 241.96089868587904,
            "bin_end": 260.9190730337709,
            "count": 0
           },
           {
            "bin_start": 260.9190730337709,
            "bin_end": 279.87724738166276,
            "count": 0
           },
           {
            "bin_start": 279.87724738166276,
            "bin_end": 298.8354217295546,
            "count": 0
           },
           {
            "bin_start": 298.8354217295546,
            "bin_end": 317.79359607744647,
            "count": 2
           }
          ]
         }
        },
        {
         "name": "code",
         "dtype": "object",
         "stats": {
          "unique_count": 5,
          "nan_count": 0,
          "categories": [
           {
            "name": "FL",
            "count": 1
           },
           {
            "name": "IL",
            "count": 1
           },
           {
            "name": "3 others",
            "count": 3
           }
          ]
         }
        },
        {
         "name": "_deepnote_index_column",
         "dtype": "int64"
        }
       ],
       "rows_top": [
        {
         "state": "Florida",
         "engagement_index": 128.21185259852794,
         "code": "FL",
         "_deepnote_index_column": 0
        },
        {
         "state": "Illinois",
         "engagement_index": 317.79359607744647,
         "code": "IL",
         "_deepnote_index_column": 1
        },
        {
         "state": "Indiana",
         "engagement_index": 316.99917517377315,
         "code": "IN",
         "_deepnote_index_column": 2
        },
        {
         "state": "Michigan",
         "engagement_index": 146.5284424824307,
         "code": "MI",
         "_deepnote_index_column": 3
        },
        {
         "state": "Minnesota",
         "engagement_index": 197.6379922554128,
         "code": "MN",
         "_deepnote_index_column": 4
        }
       ],
       "rows_bottom": null
      },
      "text/plain": "       state  engagement_index code\n0    Florida        128.211853   FL\n1   Illinois        317.793596   IL\n2    Indiana        316.999175   IN\n3   Michigan        146.528442   MI\n4  Minnesota        197.637992   MN",
      "text/html": "<div>\n<style scoped>\n    .dataframe tbody tr th:only-of-type {\n        vertical-align: middle;\n    }\n\n    .dataframe tbody tr th {\n        vertical-align: top;\n    }\n\n    .dataframe thead th {\n        text-align: right;\n    }\n</style>\n<table border=\"1\" class=\"dataframe\">\n  <thead>\n    <tr style=\"text-align: right;\">\n      <th></th>\n      <th>state</th>\n      <th>engagement_index</th>\n      <th>code</th>\n    </tr>\n  </thead>\n  <tbody>\n    <tr>\n      <th>0</th>\n      <td>Florida</td>\n      <td>128.211853</td>\n      <td>FL</td>\n    </tr>\n    <tr>\n      <th>1</th>\n      <td>Illinois</td>\n      <td>317.793596</td>\n      <td>IL</td>\n    </tr>\n    <tr>\n      <th>2</th>\n      <td>Indiana</td>\n      <td>316.999175</td>\n      <td>IN</td>\n    </tr>\n    <tr>\n      <th>3</th>\n      <td>Michigan</td>\n      <td>146.528442</td>\n      <td>MI</td>\n    </tr>\n    <tr>\n      <th>4</th>\n      <td>Minnesota</td>\n      <td>197.637992</td>\n      <td>MN</td>\n    </tr>\n  </tbody>\n</table>\n</div>"
     },
     "metadata": {}
    }
   ],
   "execution_count": null
  },
  {
   "cell_type": "code",
   "metadata": {
    "execution": {
     "iopub.execute_input": "2021-09-19T11:56:32.191160Z",
     "iopub.status.busy": "2021-09-19T11:56:32.190523Z",
     "iopub.status.idle": "2021-09-19T11:56:32.195709Z",
     "shell.execute_reply": "2021-09-19T11:56:32.195161Z",
     "shell.execute_reply.started": "2021-09-19T11:09:54.365403Z"
    },
    "papermill": {
     "duration": 0.105241,
     "end_time": "2021-09-19T11:56:32.195836",
     "exception": false,
     "start_time": "2021-09-19T11:56:32.090595",
     "status": "completed"
    },
    "tags": [],
    "cell_id": "00074-55117c76-7c17-4ee5-a2d3-16119a1c5086",
    "deepnote_to_be_reexecuted": false,
    "source_hash": "5aee9659",
    "execution_start": 1634282994463,
    "execution_millis": 15,
    "deepnote_cell_type": "code"
   },
   "source": "fig = go.Figure(data=go.Choropleth(\n    locations=geo_engag['code'], # Spatial coordinates\n    z = geo_engag['engagement_index'].astype(float), # Data to be color-coded\n    locationmode = 'USA-states', # set of locations match entries in `locations`\n    colorscale = 'plasma',\n    text = geo_engag['state'],\n    colorbar_title = \"Engagement Index\",\n))\n\nfig.update_layout(\n    title_text = 'Education Products Engagement Index per state',\n    geo_scope='usa', # limite map scope to USA\n)\n\nfig.show()",
   "outputs": [
    {
     "data": {
      "text/html": "<html>\n<head><meta charset=\"utf-8\" /></head>\n<body>\n    <div>            <script src=\"https://cdnjs.cloudflare.com/ajax/libs/mathjax/2.7.5/MathJax.js?config=TeX-AMS-MML_SVG\"></script><script type=\"text/javascript\">if (window.MathJax) {MathJax.Hub.Config({SVG: {font: \"STIX-Web\"}});}</script>                <script type=\"text/javascript\">window.PlotlyConfig = {MathJaxConfig: 'local'};</script>\n        <script src=\"https://cdn.plot.ly/plotly-2.4.2.min.js\"></script>                <div id=\"71c3b0b4-9e9b-4e1a-a581-862d32d01108\" class=\"plotly-graph-div\" style=\"height:525px; width:100%;\"></div>            <script type=\"text/javascript\">                                    window.PLOTLYENV=window.PLOTLYENV || {};                                    if (document.getElementById(\"71c3b0b4-9e9b-4e1a-a581-862d32d01108\")) {                    Plotly.newPlot(                        \"71c3b0b4-9e9b-4e1a-a581-862d32d01108\",                        [{\"colorbar\":{\"title\":{\"text\":\"Engagement Index\"}},\"colorscale\":[[0.0,\"#0d0887\"],[0.1111111111111111,\"#46039f\"],[0.2222222222222222,\"#7201a8\"],[0.3333333333333333,\"#9c179e\"],[0.4444444444444444,\"#bd3786\"],[0.5555555555555556,\"#d8576b\"],[0.6666666666666666,\"#ed7953\"],[0.7777777777777778,\"#fb9f3a\"],[0.8888888888888888,\"#fdca26\"],[1.0,\"#f0f921\"]],\"locationmode\":\"USA-states\",\"locations\":[\"FL\",\"IL\",\"IN\",\"MI\",\"MN\",\"MO\",\"NJ\",\"NY\",\"NC\",\"TX\",\"UT\",\"VA\",\"WA\",\"WI\"],\"text\":[\"Florida\",\"Illinois\",\"Indiana\",\"Michigan\",\"Minnesota\",\"Missouri\",\"New Jersey\",\"New York\",\"North Carolina\",\"Texas\",\"Utah\",\"Virginia\",\"Washington\",\"Wisconsin\"],\"type\":\"choropleth\",\"z\":[128.21185259852794,317.79359607744647,316.99917517377315,146.5284424824307,197.6379922554128,159.57974176305856,222.34054765415752,507.97883616319626,129.14035193416404,151.51871312186668,192.83147964841535,185.9400468004623,136.13234043981194,339.3884678013957]}],                        {\"geo\":{\"scope\":\"usa\"},\"template\":{\"data\":{\"bar\":[{\"error_x\":{\"color\":\"#2a3f5f\"},\"error_y\":{\"color\":\"#2a3f5f\"},\"marker\":{\"line\":{\"color\":\"#E5ECF6\",\"width\":0.5},\"pattern\":{\"fillmode\":\"overlay\",\"size\":10,\"solidity\":0.2}},\"type\":\"bar\"}],\"barpolar\":[{\"marker\":{\"line\":{\"color\":\"#E5ECF6\",\"width\":0.5},\"pattern\":{\"fillmode\":\"overlay\",\"size\":10,\"solidity\":0.2}},\"type\":\"barpolar\"}],\"carpet\":[{\"aaxis\":{\"endlinecolor\":\"#2a3f5f\",\"gridcolor\":\"white\",\"linecolor\":\"white\",\"minorgridcolor\":\"white\",\"startlinecolor\":\"#2a3f5f\"},\"baxis\":{\"endlinecolor\":\"#2a3f5f\",\"gridcolor\":\"white\",\"linecolor\":\"white\",\"minorgridcolor\":\"white\",\"startlinecolor\":\"#2a3f5f\"},\"type\":\"carpet\"}],\"choropleth\":[{\"colorbar\":{\"outlinewidth\":0,\"ticks\":\"\"},\"type\":\"choropleth\"}],\"contour\":[{\"colorbar\":{\"outlinewidth\":0,\"ticks\":\"\"},\"colorscale\":[[0.0,\"#0d0887\"],[0.1111111111111111,\"#46039f\"],[0.2222222222222222,\"#7201a8\"],[0.3333333333333333,\"#9c179e\"],[0.4444444444444444,\"#bd3786\"],[0.5555555555555556,\"#d8576b\"],[0.6666666666666666,\"#ed7953\"],[0.7777777777777778,\"#fb9f3a\"],[0.8888888888888888,\"#fdca26\"],[1.0,\"#f0f921\"]],\"type\":\"contour\"}],\"contourcarpet\":[{\"colorbar\":{\"outlinewidth\":0,\"ticks\":\"\"},\"type\":\"contourcarpet\"}],\"heatmap\":[{\"colorbar\":{\"outlinewidth\":0,\"ticks\":\"\"},\"colorscale\":[[0.0,\"#0d0887\"],[0.1111111111111111,\"#46039f\"],[0.2222222222222222,\"#7201a8\"],[0.3333333333333333,\"#9c179e\"],[0.4444444444444444,\"#bd3786\"],[0.5555555555555556,\"#d8576b\"],[0.6666666666666666,\"#ed7953\"],[0.7777777777777778,\"#fb9f3a\"],[0.8888888888888888,\"#fdca26\"],[1.0,\"#f0f921\"]],\"type\":\"heatmap\"}],\"heatmapgl\":[{\"colorbar\":{\"outlinewidth\":0,\"ticks\":\"\"},\"colorscale\":[[0.0,\"#0d0887\"],[0.1111111111111111,\"#46039f\"],[0.2222222222222222,\"#7201a8\"],[0.3333333333333333,\"#9c179e\"],[0.4444444444444444,\"#bd3786\"],[0.5555555555555556,\"#d8576b\"],[0.6666666666666666,\"#ed7953\"],[0.7777777777777778,\"#fb9f3a\"],[0.8888888888888888,\"#fdca26\"],[1.0,\"#f0f921\"]],\"type\":\"heatmapgl\"}],\"histogram\":[{\"marker\":{\"pattern\":{\"fillmode\":\"overlay\",\"size\":10,\"solidity\":0.2}},\"type\":\"histogram\"}],\"histogram2d\":[{\"colorbar\":{\"outlinewidth\":0,\"ticks\":\"\"},\"colorscale\":[[0.0,\"#0d0887\"],[0.1111111111111111,\"#46039f\"],[0.2222222222222222,\"#7201a8\"],[0.3333333333333333,\"#9c179e\"],[0.4444444444444444,\"#bd3786\"],[0.5555555555555556,\"#d8576b\"],[0.6666666666666666,\"#ed7953\"],[0.7777777777777778,\"#fb9f3a\"],[0.8888888888888888,\"#fdca26\"],[1.0,\"#f0f921\"]],\"type\":\"histogram2d\"}],\"histogram2dcontour\":[{\"colorbar\":{\"outlinewidth\":0,\"ticks\":\"\"},\"colorscale\":[[0.0,\"#0d0887\"],[0.1111111111111111,\"#46039f\"],[0.2222222222222222,\"#7201a8\"],[0.3333333333333333,\"#9c179e\"],[0.4444444444444444,\"#bd3786\"],[0.5555555555555556,\"#d8576b\"],[0.6666666666666666,\"#ed7953\"],[0.7777777777777778,\"#fb9f3a\"],[0.8888888888888888,\"#fdca26\"],[1.0,\"#f0f921\"]],\"type\":\"histogram2dcontour\"}],\"mesh3d\":[{\"colorbar\":{\"outlinewidth\":0,\"ticks\":\"\"},\"type\":\"mesh3d\"}],\"parcoords\":[{\"line\":{\"colorbar\":{\"outlinewidth\":0,\"ticks\":\"\"}},\"type\":\"parcoords\"}],\"pie\":[{\"automargin\":true,\"type\":\"pie\"}],\"scatter\":[{\"marker\":{\"colorbar\":{\"outlinewidth\":0,\"ticks\":\"\"}},\"type\":\"scatter\"}],\"scatter3d\":[{\"line\":{\"colorbar\":{\"outlinewidth\":0,\"ticks\":\"\"}},\"marker\":{\"colorbar\":{\"outlinewidth\":0,\"ticks\":\"\"}},\"type\":\"scatter3d\"}],\"scattercarpet\":[{\"marker\":{\"colorbar\":{\"outlinewidth\":0,\"ticks\":\"\"}},\"type\":\"scattercarpet\"}],\"scattergeo\":[{\"marker\":{\"colorbar\":{\"outlinewidth\":0,\"ticks\":\"\"}},\"type\":\"scattergeo\"}],\"scattergl\":[{\"marker\":{\"colorbar\":{\"outlinewidth\":0,\"ticks\":\"\"}},\"type\":\"scattergl\"}],\"scattermapbox\":[{\"marker\":{\"colorbar\":{\"outlinewidth\":0,\"ticks\":\"\"}},\"type\":\"scattermapbox\"}],\"scatterpolar\":[{\"marker\":{\"colorbar\":{\"outlinewidth\":0,\"ticks\":\"\"}},\"type\":\"scatterpolar\"}],\"scatterpolargl\":[{\"marker\":{\"colorbar\":{\"outlinewidth\":0,\"ticks\":\"\"}},\"type\":\"scatterpolargl\"}],\"scatterternary\":[{\"marker\":{\"colorbar\":{\"outlinewidth\":0,\"ticks\":\"\"}},\"type\":\"scatterternary\"}],\"surface\":[{\"colorbar\":{\"outlinewidth\":0,\"ticks\":\"\"},\"colorscale\":[[0.0,\"#0d0887\"],[0.1111111111111111,\"#46039f\"],[0.2222222222222222,\"#7201a8\"],[0.3333333333333333,\"#9c179e\"],[0.4444444444444444,\"#bd3786\"],[0.5555555555555556,\"#d8576b\"],[0.6666666666666666,\"#ed7953\"],[0.7777777777777778,\"#fb9f3a\"],[0.8888888888888888,\"#fdca26\"],[1.0,\"#f0f921\"]],\"type\":\"surface\"}],\"table\":[{\"cells\":{\"fill\":{\"color\":\"#EBF0F8\"},\"line\":{\"color\":\"white\"}},\"header\":{\"fill\":{\"color\":\"#C8D4E3\"},\"line\":{\"color\":\"white\"}},\"type\":\"table\"}]},\"layout\":{\"annotationdefaults\":{\"arrowcolor\":\"#2a3f5f\",\"arrowhead\":0,\"arrowwidth\":1},\"autotypenumbers\":\"strict\",\"coloraxis\":{\"colorbar\":{\"outlinewidth\":0,\"ticks\":\"\"}},\"colorscale\":{\"diverging\":[[0,\"#8e0152\"],[0.1,\"#c51b7d\"],[0.2,\"#de77ae\"],[0.3,\"#f1b6da\"],[0.4,\"#fde0ef\"],[0.5,\"#f7f7f7\"],[0.6,\"#e6f5d0\"],[0.7,\"#b8e186\"],[0.8,\"#7fbc41\"],[0.9,\"#4d9221\"],[1,\"#276419\"]],\"sequential\":[[0.0,\"#0d0887\"],[0.1111111111111111,\"#46039f\"],[0.2222222222222222,\"#7201a8\"],[0.3333333333333333,\"#9c179e\"],[0.4444444444444444,\"#bd3786\"],[0.5555555555555556,\"#d8576b\"],[0.6666666666666666,\"#ed7953\"],[0.7777777777777778,\"#fb9f3a\"],[0.8888888888888888,\"#fdca26\"],[1.0,\"#f0f921\"]],\"sequentialminus\":[[0.0,\"#0d0887\"],[0.1111111111111111,\"#46039f\"],[0.2222222222222222,\"#7201a8\"],[0.3333333333333333,\"#9c179e\"],[0.4444444444444444,\"#bd3786\"],[0.5555555555555556,\"#d8576b\"],[0.6666666666666666,\"#ed7953\"],[0.7777777777777778,\"#fb9f3a\"],[0.8888888888888888,\"#fdca26\"],[1.0,\"#f0f921\"]]},\"colorway\":[\"#636efa\",\"#EF553B\",\"#00cc96\",\"#ab63fa\",\"#FFA15A\",\"#19d3f3\",\"#FF6692\",\"#B6E880\",\"#FF97FF\",\"#FECB52\"],\"font\":{\"color\":\"#2a3f5f\"},\"geo\":{\"bgcolor\":\"white\",\"lakecolor\":\"white\",\"landcolor\":\"#E5ECF6\",\"showlakes\":true,\"showland\":true,\"subunitcolor\":\"white\"},\"hoverlabel\":{\"align\":\"left\"},\"hovermode\":\"closest\",\"mapbox\":{\"style\":\"light\"},\"paper_bgcolor\":\"white\",\"plot_bgcolor\":\"#E5ECF6\",\"polar\":{\"angularaxis\":{\"gridcolor\":\"white\",\"linecolor\":\"white\",\"ticks\":\"\"},\"bgcolor\":\"#E5ECF6\",\"radialaxis\":{\"gridcolor\":\"white\",\"linecolor\":\"white\",\"ticks\":\"\"}},\"scene\":{\"xaxis\":{\"backgroundcolor\":\"#E5ECF6\",\"gridcolor\":\"white\",\"gridwidth\":2,\"linecolor\":\"white\",\"showbackground\":true,\"ticks\":\"\",\"zerolinecolor\":\"white\"},\"yaxis\":{\"backgroundcolor\":\"#E5ECF6\",\"gridcolor\":\"white\",\"gridwidth\":2,\"linecolor\":\"white\",\"showbackground\":true,\"ticks\":\"\",\"zerolinecolor\":\"white\"},\"zaxis\":{\"backgroundcolor\":\"#E5ECF6\",\"gridcolor\":\"white\",\"gridwidth\":2,\"linecolor\":\"white\",\"showbackground\":true,\"ticks\":\"\",\"zerolinecolor\":\"white\"}},\"shapedefaults\":{\"line\":{\"color\":\"#2a3f5f\"}},\"ternary\":{\"aaxis\":{\"gridcolor\":\"white\",\"linecolor\":\"white\",\"ticks\":\"\"},\"baxis\":{\"gridcolor\":\"white\",\"linecolor\":\"white\",\"ticks\":\"\"},\"bgcolor\":\"#E5ECF6\",\"caxis\":{\"gridcolor\":\"white\",\"linecolor\":\"white\",\"ticks\":\"\"}},\"title\":{\"x\":0.05},\"xaxis\":{\"automargin\":true,\"gridcolor\":\"white\",\"linecolor\":\"white\",\"ticks\":\"\",\"title\":{\"standoff\":15},\"zerolinecolor\":\"white\",\"zerolinewidth\":2},\"yaxis\":{\"automargin\":true,\"gridcolor\":\"white\",\"linecolor\":\"white\",\"ticks\":\"\",\"title\":{\"standoff\":15},\"zerolinecolor\":\"white\",\"zerolinewidth\":2}}},\"title\":{\"text\":\"Education Products Engagement Index per state\"}},                        {\"responsive\": true}                    ).then(function(){\n                            \nvar gd = document.getElementById('71c3b0b4-9e9b-4e1a-a581-862d32d01108');\nvar x = new MutationObserver(function (mutations, observer) {{\n        var display = window.getComputedStyle(gd).display;\n        if (!display || display === 'none') {{\n            console.log([gd, 'removed!']);\n            Plotly.purge(gd);\n            observer.disconnect();\n        }}\n}});\n\n// Listen for the removal of the full notebook cells\nvar notebookContainer = gd.closest('#notebook-container');\nif (notebookContainer) {{\n    x.observe(notebookContainer, {childList: true});\n}}\n\n// Listen for the clearing of the current output cell\nvar outputEl = gd.closest('.output');\nif (outputEl) {{\n    x.observe(outputEl, {childList: true});\n}}\n\n                        })                };                            </script>        </div>\n</body>\n</html>"
     },
     "metadata": {},
     "output_type": "display_data"
    }
   ],
   "execution_count": null
  },
  {
   "cell_type": "markdown",
   "source": "# Focusing on People from Improvised Neighborhood\nIn this section, we will be focusing on the Black/Hispanic community and free or reduced fees.",
   "metadata": {
    "papermill": {
     "duration": 0.085166,
     "end_time": "2021-09-19T11:56:32.367289",
     "exception": false,
     "start_time": "2021-09-19T11:56:32.282123",
     "status": "completed"
    },
    "tags": [],
    "cell_id": "00075-8c0e129e-28c2-44e0-87a4-5c6ef29c5e15",
    "deepnote_cell_type": "markdown"
   }
  },
  {
   "cell_type": "markdown",
   "source": "## Correlation\nThere is a high correlation between product access and engagement index, which means if the student has access to these products they might use them on daily basis. We can also see another high correlation between Black/Hispanic and Free/ Reduced education. This means the government is doing its job in helping improvised communities to get a proper education. ",
   "metadata": {
    "papermill": {
     "duration": 0.084537,
     "end_time": "2021-09-19T11:56:32.537567",
     "exception": false,
     "start_time": "2021-09-19T11:56:32.453030",
     "status": "completed"
    },
    "tags": [],
    "cell_id": "00076-c657909a-6a12-4fad-a91e-8b3ea704012f",
    "deepnote_cell_type": "markdown"
   }
  },
  {
   "cell_type": "code",
   "metadata": {
    "_kg_hide-input": true,
    "execution": {
     "iopub.execute_input": "2021-09-19T11:56:33.113822Z",
     "iopub.status.busy": "2021-09-19T11:56:33.113135Z",
     "iopub.status.idle": "2021-09-19T11:56:34.136625Z",
     "shell.execute_reply": "2021-09-19T11:56:34.137370Z",
     "shell.execute_reply.started": "2021-09-19T11:09:54.380444Z"
    },
    "papermill": {
     "duration": 1.515691,
     "end_time": "2021-09-19T11:56:34.137605",
     "exception": false,
     "start_time": "2021-09-19T11:56:32.621914",
     "status": "completed"
    },
    "tags": [],
    "cell_id": "00077-69b6b462-37c2-420c-abd9-667de9a33e23",
    "deepnote_to_be_reexecuted": false,
    "source_hash": "3607ded9",
    "execution_start": 1634282994488,
    "execution_millis": 1612,
    "deepnote_cell_type": "code"
   },
   "source": "sns.heatmap(complete_data.drop(['LP ID','lp_id','district_id'],axis=1).corr(), cmap=\"YlGnBu\", annot=True);",
   "outputs": [
    {
     "data": {
      "text/plain": "<Figure size 432x288 with 2 Axes>",
      "image/png": "[encoded data removed]"
     },
     "metadata": {
      "needs_background": "light",
      "image/png": {
       "width": 435,
       "height": 338
      }
     },
     "output_type": "display_data"
    }
   ],
   "execution_count": null
  },
  {
   "cell_type": "markdown",
   "source": "## Black/Hispanic products access over the year.\nThe graph below shows that over time the communities with a lesser population of Blacks and Hispanics have a similar pattern to some of the Top states we have discussed earlier. Let's compare this graph with the mixed communities. ",
   "metadata": {
    "papermill": {
     "duration": 0.085099,
     "end_time": "2021-09-19T11:56:34.315550",
     "exception": false,
     "start_time": "2021-09-19T11:56:34.230451",
     "status": "completed"
    },
    "tags": [],
    "cell_id": "00078-675d3426-a05d-48cf-a9eb-3b365b6c451a",
    "deepnote_cell_type": "markdown"
   }
  },
  {
   "cell_type": "code",
   "metadata": {
    "_kg_hide-input": true,
    "execution": {
     "iopub.execute_input": "2021-09-19T11:56:34.493157Z",
     "iopub.status.busy": "2021-09-19T11:56:34.492533Z",
     "iopub.status.idle": "2021-09-19T11:56:35.088431Z",
     "shell.execute_reply": "2021-09-19T11:56:35.087766Z",
     "shell.execute_reply.started": "2021-09-19T11:09:55.778860Z"
    },
    "papermill": {
     "duration": 0.685555,
     "end_time": "2021-09-19T11:56:35.088569",
     "exception": false,
     "start_time": "2021-09-19T11:56:34.403014",
     "status": "completed"
    },
    "tags": [],
    "cell_id": "00079-f6a4ca50-d41b-48bd-98d4-1cf2f85fa6d9",
    "deepnote_to_be_reexecuted": false,
    "source_hash": "5c665fa3",
    "execution_start": 1634282996071,
    "execution_millis": 556,
    "deepnote_cell_type": "code"
   },
   "source": "Imp_neigh= complete_data[complete_data['pct_black/hispanic']<0.2][['time','pct_access','pct_black/hispanic']].groupby('time').mean().reset_index()\nfig = px.line(Imp_neigh, x=\"time\", y=\"pct_access\")\nfig.update_layout(\n                      title=(\"Black/Hispanic community access to Online Education\").title(),\n                     )\nfig.show()",
   "outputs": [
    {
     "data": {
      "text/html": "<html>\n<head><meta charset=\"utf-8\" /></head>\n<body>\n    <div>            <script src=\"https://cdnjs.cloudflare.com/ajax/libs/mathjax/2.7.5/MathJax.js?config=TeX-AMS-MML_SVG\"></script><script type=\"text/javascript\">if (window.MathJax) {MathJax.Hub.Config({SVG: {font: \"STIX-Web\"}});}</script>                <script type=\"text/javascript\">window.PlotlyConfig = {MathJaxConfig: 'local'};</script>\n        <script src=\"https://cdn.plot.ly/plotly-2.4.2.min.js\"></script>                <div id=\"23921c9a-fd5e-472e-bd75-509158deb87b\" class=\"plotly-graph-div\" style=\"height:525px; width:100%;\"></div>            <script type=\"text/javascript\">                                    window.PLOTLYENV=window.PLOTLYENV || {};                                    if (document.getElementById(\"23921c9a-fd5e-472e-bd75-509158deb87b\")) {                    Plotly.newPlot(                        \"23921c9a-fd5e-472e-bd75-509158deb87b\",                        [{\"hovertemplate\":\"time=%{x}<br>pct_access=%{y}<extra></extra>\",\"legendgroup\":\"\",\"line\":{\"color\":\"#636efa\",\"dash\":\"solid\"},\"marker\":{\"symbol\":\"circle\"},\"mode\":\"lines\",\"name\":\"\",\"orientation\":\"v\",\"showlegend\":false,\"type\":\"scatter\",\"x\":[\"2020-01-01T00:00:00\",\"2020-01-02T00:00:00\",\"2020-01-03T00:00:00\",\"2020-01-04T00:00:00\",\"2020-01-05T00:00:00\",\"2020-01-06T00:00:00\",\"2020-01-07T00:00:00\",\"2020-01-08T00:00:00\",\"2020-01-09T00:00:00\",\"2020-01-10T00:00:00\",\"2020-01-11T00:00:00\",\"2020-01-12T00:00:00\",\"2020-01-13T00:00:00\",\"2020-01-14T00:00:00\",\"2020-01-15T00:00:00\",\"2020-01-16T00:00:00\",\"2020-01-17T00:00:00\",\"2020-01-18T00:00:00\",\"2020-01-19T00:00:00\",\"2020-01-20T00:00:00\",\"2020-01-21T00:00:00\",\"2020-01-22T00:00:00\",\"2020-01-23T00:00:00\",\"2020-01-24T00:00:00\",\"2020-01-25T00:00:00\",\"2020-01-26T00:00:00\",\"2020-01-27T00:00:00\",\"2020-01-28T00:00:00\",\"2020-01-29T00:00:00\",\"2020-01-30T00:00:00\",\"2020-01-31T00:00:00\",\"2020-02-01T00:00:00\",\"2020-02-02T00:00:00\",\"2020-02-03T00:00:00\",\"2020-02-04T00:00:00\",\"2020-02-05T00:00:00\",\"2020-02-06T00:00:00\",\"2020-02-07T00:00:00\",\"2020-02-08T00:00:00\",\"2020-02-09T00:00:00\",\"2020-02-10T00:00:00\",\"2020-02-11T00:00:00\",\"2020-02-12T00:00:00\",\"2020-02-13T00:00:00\",\"2020-02-14T00:00:00\",\"2020-02-15T00:00:00\",\"2020-02-16T00:00:00\",\"2020-02-17T00:00:00\",\"2020-02-18T00:00:00\",\"2020-02-19T00:00:00\",\"2020-02-20T00:00:00\",\"2020-02-21T00:00:00\",\"2020-02-22T00:00:00\",\"2020-02-23T00:00:00\",\"2020-02-24T00:00:00\",\"2020-02-25T00:00:00\",\"2020-02-26T00:00:00\",\"2020-02-27T00:00:00\",\"2020-02-28T00:00:00\",\"2020-02-29T00:00:00\",\"2020-03-01T00:00:00\",\"2020-03-02T00:00:00\",\"2020-03-03T00:00:00\",\"2020-03-04T00:00:00\",\"2020-03-05T00:00:00\",\"2020-03-06T00:00:00\",\"2020-03-07T00:00:00\",\"2020-03-08T00:00:00\",\"2020-03-09T00:00:00\",\"2020-03-10T00:00:00\",\"2020-03-11T00:00:00\",\"2020-03-12T00:00:00\",\"2020-03-13T00:00:00\",\"2020-03-14T00:00:00\",\"2020-03-15T00:00:00\",\"2020-03-16T00:00:00\",\"2020-03-17T00:00:00\",\"2020-03-18T00:00:00\",\"2020-03-19T00:00:00\",\"2020-03-20T00:00:00\",\"2020-03-21T00:00:00\",\"2020-03-22T00:00:00\",\"2020-03-23T00:00:00\",\"2020-03-24T00:00:00\",\"2020-03-25T00:00:00\",\"2020-03-26T00:00:00\",\"2020-03-27T00:00:00\",\"2020-03-28T00:00:00\",\"2020-03-29T00:00:00\",\"2020-03-30T00:00:00\",\"2020-03-31T00:00:00\",\"2020-04-01T00:00:00\",\"2020-04-02T00:00:00\",\"2020-04-03T00:00:00\",\"2020-04-04T00:00:00\",\"2020-04-05T00:00:00\",\"2020-04-06T00:00:00\",\"2020-04-07T00:00:00\",\"2020-04-08T00:00:00\",\"2020-04-09T00:00:00\",\"2020-04-10T00:00:00\",\"2020-04-11T00:00:00\",\"2020-04-12T00:00:00\",\"2020-04-13T00:00:00\",\"2020-04-14T00:00:00\",\"2020-04-15T00:00:00\",\"2020-04-16T00:00:00\",\"2020-04-17T00:00:00\",\"2020-04-18T00:00:00\",\"2020-04-19T00:00:00\",\"2020-04-20T00:00:00\",\"2020-04-21T00:00:00\",\"2020-04-22T00:00:00\",\"2020-04-23T00:00:00\",\"2020-04-24T00:00:00\",\"2020-04-25T00:00:00\",\"2020-04-26T00:00:00\",\"2020-04-27T00:00:00\",\"2020-04-28T00:00:00\",\"2020-04-29T00:00:00\",\"2020-04-30T00:00:00\",\"2020-05-01T00:00:00\",\"2020-05-02T00:00:00\",\"2020-05-03T00:00:00\",\"2020-05-04T00:00:00\",\"2020-05-05T00:00:00\",\"2020-05-06T00:00:00\",\"2020-05-07T00:00:00\",\"2020-05-08T00:00:00\",\"2020-05-09T00:00:00\",\"2020-05-10T00:00:00\",\"2020-05-11T00:00:00\",\"2020-05-12T00:00:00\",\"2020-05-13T00:00:00\",\"2020-05-14T00:00:00\",\"2020-05-15T00:00:00\",\"2020-05-16T00:00:00\",\"2020-05-17T00:00:00\",\"2020-05-18T00:00:00\",\"2020-05-19T00:00:00\",\"2020-05-20T00:00:00\",\"2020-05-21T00:00:00\",\"2020-05-22T00:00:00\",\"2020-05-23T00:00:00\",\"2020-05-24T00:00:00\",\"2020-05-25T00:00:00\",\"2020-05-26T00:00:00\",\"2020-05-27T00:00:00\",\"2020-05-28T00:00:00\",\"2020-05-29T00:00:00\",\"2020-05-30T00:00:00\",\"2020-05-31T00:00:00\",\"2020-06-01T00:00:00\",\"2020-06-02T00:00:00\",\"2020-06-03T00:00:00\",\"2020-06-04T00:00:00\",\"2020-06-05T00:00:00\",\"2020-06-06T00:00:00\",\"2020-06-07T00:00:00\",\"2020-06-08T00:00:00\",\"2020-06-09T00:00:00\",\"2020-06-10T00:00:00\",\"2020-06-11T00:00:00\",\"2020-06-12T00:00:00\",\"2020-06-13T00:00:00\",\"2020-06-14T00:00:00\",\"2020-06-15T00:00:00\",\"2020-06-16T00:00:00\",\"2020-06-17T00:00:00\",\"2020-06-18T00:00:00\",\"2020-06-19T00:00:00\",\"2020-06-20T00:00:00\",\"2020-06-21T00:00:00\",\"2020-06-22T00:00:00\",\"2020-06-23T00:00:00\",\"2020-06-24T00:00:00\",\"2020-06-25T00:00:00\",\"2020-06-26T00:00:00\",\"2020-06-27T00:00:00\",\"2020-06-28T00:00:00\",\"2020-06-29T00:00:00\",\"2020-06-30T00:00:00\",\"2020-07-01T00:00:00\",\"2020-07-02T00:00:00\",\"2020-07-03T00:00:00\",\"2020-07-04T00:00:00\",\"2020-07-05T00:00:00\",\"2020-07-06T00:00:00\",\"2020-07-07T00:00:00\",\"2020-07-08T00:00:00\",\"2020-07-09T00:00:00\",\"2020-07-10T00:00:00\",\"2020-07-11T00:00:00\",\"2020-07-12T00:00:00\",\"2020-07-13T00:00:00\",\"2020-07-14T00:00:00\",\"2020-07-15T00:00:00\",\"2020-07-16T00:00:00\",\"2020-07-17T00:00:00\",\"2020-07-18T00:00:00\",\"2020-07-19T00:00:00\",\"2020-07-20T00:00:00\",\"2020-07-21T00:00:00\",\"2020-07-22T00:00:00\",\"2020-07-23T00:00:00\",\"2020-07-24T00:00:00\",\"2020-07-25T00:00:00\",\"2020-07-26T00:00:00\",\"2020-07-27T00:00:00\",\"2020-07-28T00:00:00\",\"2020-07-29T00:00:00\",\"2020-07-30T00:00:00\",\"2020-07-31T00:00:00\",\"2020-08-01T00:00:00\",\"2020-08-02T00:00:00\",\"2020-08-03T00:00:00\",\"2020-08-04T00:00:00\",\"2020-08-05T00:00:00\",\"2020-08-06T00:00:00\",\"2020-08-07T00:00:00\",\"2020-08-08T00:00:00\",\"2020-08-09T00:00:00\",\"2020-08-10T00:00:00\",\"2020-08-11T00:00:00\",\"2020-08-12T00:00:00\",\"2020-08-13T00:00:00\",\"2020-08-14T00:00:00\",\"2020-08-15T00:00:00\",\"2020-08-16T00:00:00\",\"2020-08-17T00:00:00\",\"2020-08-18T00:00:00\",\"2020-08-19T00:00:00\",\"2020-08-20T00:00:00\",\"2020-08-21T00:00:00\",\"2020-08-22T00:00:00\",\"2020-08-23T00:00:00\",\"2020-08-24T00:00:00\",\"2020-08-25T00:00:00\",\"2020-08-26T00:00:00\",\"2020-08-27T00:00:00\",\"2020-08-28T00:00:00\",\"2020-08-29T00:00:00\",\"2020-08-30T00:00:00\",\"2020-08-31T00:00:00\",\"2020-09-01T00:00:00\",\"2020-09-02T00:00:00\",\"2020-09-03T00:00:00\",\"2020-09-04T00:00:00\",\"2020-09-05T00:00:00\",\"2020-09-06T00:00:00\",\"2020-09-07T00:00:00\",\"2020-09-08T00:00:00\",\"2020-09-09T00:00:00\",\"2020-09-10T00:00:00\",\"2020-09-11T00:00:00\",\"2020-09-12T00:00:00\",\"2020-09-13T00:00:00\",\"2020-09-14T00:00:00\",\"2020-09-15T00:00:00\",\"2020-09-16T00:00:00\",\"2020-09-17T00:00:00\",\"2020-09-18T00:00:00\",\"2020-09-19T00:00:00\",\"2020-09-20T00:00:00\",\"2020-09-21T00:00:00\",\"2020-09-22T00:00:00\",\"2020-09-23T00:00:00\",\"2020-09-24T00:00:00\",\"2020-09-25T00:00:00\",\"2020-09-26T00:00:00\",\"2020-09-27T00:00:00\",\"2020-09-28T00:00:00\",\"2020-09-29T00:00:00\",\"2020-09-30T00:00:00\",\"2020-10-01T00:00:00\",\"2020-10-02T00:00:00\",\"2020-10-03T00:00:00\",\"2020-10-04T00:00:00\",\"2020-10-05T00:00:00\",\"2020-10-06T00:00:00\",\"2020-10-07T00:00:00\",\"2020-10-08T00:00:00\",\"2020-10-09T00:00:00\",\"2020-10-10T00:00:00\",\"2020-10-11T00:00:00\",\"2020-10-12T00:00:00\",\"2020-10-13T00:00:00\",\"2020-10-14T00:00:00\",\"2020-10-15T00:00:00\",\"2020-10-16T00:00:00\",\"2020-10-17T00:00:00\",\"2020-10-18T00:00:00\",\"2020-10-19T00:00:00\",\"2020-10-20T00:00:00\",\"2020-10-21T00:00:00\",\"2020-10-22T00:00:00\",\"2020-10-23T00:00:00\",\"2020-10-24T00:00:00\",\"2020-10-25T00:00:00\",\"2020-10-26T00:00:00\",\"2020-10-27T00:00:00\",\"2020-10-28T00:00:00\",\"2020-10-29T00:00:00\",\"2020-10-30T00:00:00\",\"2020-10-31T00:00:00\",\"2020-11-01T00:00:00\",\"2020-11-02T00:00:00\",\"2020-11-03T00:00:00\",\"2020-11-04T00:00:00\",\"2020-11-05T00:00:00\",\"2020-11-06T00:00:00\",\"2020-11-07T00:00:00\",\"2020-11-08T00:00:00\",\"2020-11-09T00:00:00\",\"2020-11-10T00:00:00\",\"2020-11-11T00:00:00\",\"2020-11-12T00:00:00\",\"2020-11-13T00:00:00\",\"2020-11-14T00:00:00\",\"2020-11-15T00:00:00\",\"2020-11-16T00:00:00\",\"2020-11-17T00:00:00\",\"2020-11-18T00:00:00\",\"2020-11-19T00:00:00\",\"2020-11-20T00:00:00\",\"2020-11-21T00:00:00\",\"2020-11-22T00:00:00\",\"2020-11-23T00:00:00\",\"2020-11-24T00:00:00\",\"2020-11-25T00:00:00\",\"2020-11-26T00:00:00\",\"2020-11-27T00:00:00\",\"2020-11-28T00:00:00\",\"2020-11-29T00:00:00\",\"2020-11-30T00:00:00\",\"2020-12-01T00:00:00\",\"2020-12-02T00:00:00\",\"2020-12-03T00:00:00\",\"2020-12-04T00:00:00\",\"2020-12-05T00:00:00\",\"2020-12-06T00:00:00\",\"2020-12-07T00:00:00\",\"2020-12-08T00:00:00\",\"2020-12-09T00:00:00\",\"2020-12-10T00:00:00\",\"2020-12-11T00:00:00\",\"2020-12-12T00:00:00\",\"2020-12-13T00:00:00\",\"2020-12-14T00:00:00\",\"2020-12-15T00:00:00\",\"2020-12-16T00:00:00\",\"2020-12-17T00:00:00\",\"2020-12-18T00:00:00\",\"2020-12-19T00:00:00\",\"2020-12-20T00:00:00\",\"2020-12-21T00:00:00\",\"2020-12-22T00:00:00\",\"2020-12-23T00:00:00\",\"2020-12-24T00:00:00\",\"2020-12-25T00:00:00\",\"2020-12-26T00:00:00\",\"2020-12-27T00:00:00\",\"2020-12-28T00:00:00\",\"2020-12-29T00:00:00\",\"2020-12-30T00:00:00\",\"2020-12-31T00:00:00\"],\"xaxis\":\"x\",\"y\":[0.11445063103192152,0.420139877300605,0.39914789876943635,0.11732381248059456,0.14281686285244735,1.1913211571790787,1.3117292259902078,1.3751942427716668,1.419827716297838,1.3912778429074384,0.18589926289925812,0.2174341790330244,1.3835466906106204,1.3958203321590807,1.3362316715543017,1.379596901101618,1.2193822905620753,0.15225259427992544,0.14570215025218686,0.4503183938349153,1.281996743079093,1.314204995054453,1.3619052295605698,1.2795516891034306,0.15819072657743352,0.1997600922721979,1.306960918966215,1.379642095283292,1.37626254375734,1.4055613425926456,1.3774526391040651,0.17618682310468922,0.2128464419475599,1.2010252122459895,1.3597965446692928,1.2485108114392518,1.27397150080446,1.271517046124862,0.19071707953063397,0.23898627892688312,1.3523660364694616,1.3821559937957593,1.3532646733112326,1.2319478162224027,1.1226508861073663,0.17294319743471726,0.18541610436346662,0.6905912469034017,1.3213351986570274,1.2896454931783154,1.3160373811104233,1.2833699885452983,0.17978563772775388,0.20389155662264374,1.2782336182336682,1.390589936977017,1.295093507039349,1.3540771519442412,1.144636233951555,0.19452459653897922,0.24029988893001775,1.3519674260592083,1.3187965298093975,1.371969994116552,1.411908554572325,1.2862615195577032,0.18595702739995432,0.2171107456140275,1.262651186269618,1.368730795576918,1.3570267620822,1.3918474210630072,1.218541080912272,0.25404015670910013,0.223168477379593,0.6025381835140748,0.8651471085560055,1.1159707768317582,1.0975463831561978,0.9955387402750127,0.3643626595030311,0.26485203716939765,0.9502512614561232,0.9712614352511187,0.9962867947670205,0.930705147577354,0.8690101237345668,0.3136035918792296,0.256875672766407,1.0925024620839583,1.08422745490987,1.120828473758344,1.110086754766516,1.0238289459994125,0.3144592368926667,0.24358038768528215,1.0246107909900937,1.0609044854881766,1.086535045478915,1.0093290322581143,0.6176322241681507,0.25877795411916443,0.20764084507041514,1.0225342465753915,1.2142211006503556,1.2718609131189178,1.2312373108600536,1.0437479474548865,0.3387673747705277,0.2631355583024218,1.1653495034377896,1.2536661856662432,1.2334511995375823,1.1951020015396998,1.0190353438727668,0.3180555555555507,0.2501648274898633,1.0775199377553544,1.1956258516644465,1.1892928999807106,1.162193862640089,0.9589085545723116,0.3042649137687219,0.24521939953809688,1.0825269935612185,1.1537592428276175,1.1472170519364115,1.1134973937450425,0.9292786784322167,0.32200141743443833,0.25974477958235725,0.9993197278912042,1.0780581241744194,1.0497430406852737,1.0156086956522248,0.8479711846318384,0.2970713967641282,0.2608458813108857,0.8177415549598189,0.8311399647887668,0.788283699059594,0.7466390728477106,0.5899467394128584,0.22285580172736794,0.16775147928993556,0.2113143806534921,0.5107448107448347,0.5642990523968987,0.5651349024110401,0.5037105951099614,0.1880213675213618,0.16053988541207148,0.4626199660546328,0.4329253731343403,0.42875669713206155,0.40699887296732495,0.37165601703939877,0.1420657055069683,0.1292998551424396,0.35706673306772413,0.3283029406932738,0.28999665998663315,0.2860955152345018,0.24450574279796017,0.11918763102725076,0.10682233237672578,0.24540246045693528,0.22068698256120653,0.2145417479170306,0.20837788355912995,0.16999594320486283,0.10980118216012666,0.1055008393956337,0.16015791406536498,0.14888642659279408,0.14341559909570079,0.136427053140093,0.11863190823774439,0.09753935376967551,0.09269958847736466,0.12462582396277308,0.12422851562499677,0.11628954745694522,0.11256710694503348,0.09038938053097222,0.08515765765765759,0.0824686567164177,0.12602747567257788,0.12619928288355933,0.12483810941570174,0.12326400924320863,0.10923903878583234,0.08752357855025521,0.08298417894162466,0.12100829249905419,0.11998893397270045,0.1250469181232719,0.11793851376838606,0.10211232706999543,0.08219326818675242,0.07817493472584769,0.11282375117813095,0.11136690647481688,0.10747274352099812,0.10413875598085844,0.09467270048410616,0.07649919828968405,0.07576853055916699,0.09811079545454282,0.10063366684219455,0.09602268760907247,0.09120906355106875,0.08328118889323223,0.06972927241962736,0.06969613947696121,0.07507604562737459,0.07262755102040626,0.07287525354969375,0.07246704331449937,0.07255283955155184,0.06901373283395718,0.06760675512665841,0.1262256615077365,0.14217938245384548,0.14833970073224878,0.2418420650679647,0.30862144079663334,0.11295790169715371,0.11410261736601221,0.40206353668823813,0.48907822757113883,0.6797745222930193,0.8066199243995001,0.850281104864369,0.19158058608058073,0.19939063829786732,0.972277005827027,1.0142005390836029,1.0271680202510833,1.0902300866694725,1.0672308188266142,0.21283034125828187,0.22248819137588818,1.1628302654327844,1.1913731938216718,1.2491535742341442,1.219596611536962,1.0312301255230463,0.22654569449025927,0.1883898858074979,0.26022052704576076,1.2914096136833282,1.3042330340766977,1.3169676689603593,1.2845101517840063,0.2838669320443464,0.3022216208902663,1.3773904420098717,1.4161441977144424,1.344584074108788,1.410683633661587,1.3168706896552362,0.29058490298823475,0.3051694459386696,1.366718678292862,1.4183599963434137,1.3070158933139089,1.4248599803167683,1.3652816259570393,0.2753542865160563,0.2896089166992512,1.3447207896141504,1.3197404311483194,1.346528932854818,1.3242230653843332,1.2685084341768156,0.2773447624189976,0.2906137322592981,1.2955351873379803,1.3396609129940216,1.3119608707147845,1.3018227646591167,1.1186232017706206,0.27078197754038924,0.2623020527859145,0.9369470229723807,1.1988133774479721,1.1872967313120848,1.1430745618378604,1.0330204884106617,0.3741234567901331,0.27661865661595547,1.100838376823152,1.2059892594686776,1.1823779806259902,1.2043326545724344,1.2010981308411757,0.264238373712048,0.2834213917525717,1.2893974828171597,1.31048625232081,1.3233228648696316,1.2848442077230924,1.1428246508116757,0.2482752613240332,0.25154415724285606,1.204872506039237,1.0015424028269104,1.2083385119972978,1.2667588113338553,1.2895966048303058,0.28775743409946186,0.26522951844902487,1.2059178130202879,1.368825173640572,1.3505224448390047,1.3044693508061598,1.3360090994935794,0.3170215971873487,0.29764359351988395,1.2848093405632848,1.3857872304151966,1.3841219060448366,1.407980975233569,1.3390568004169325,0.45945376137999283,0.2791260005163887,1.1355349335237495,1.170240106714148,0.32743548854739774,0.23623027912620462,0.19173276676108852,0.18895864326092685,0.23357982754114562,1.3215066807314173,1.3651117991056572,1.302232850741182,1.3724521006959867,1.2995434916718624,0.30171226718047406,0.28340770285428935,1.3347983418257592,1.3664913630922342,1.3278563517083113,1.3884638425332125,1.3699413207217155,0.30994369081136486,0.29740323186771866,1.2987504326757147,1.3304276686001744,1.2724364775496515,1.2838152894388553,1.1412966235699586,0.2850413793103358,0.235279164775298,0.690895303326841,0.6324423602970206,0.2849767297548783,0.16550214091085588,0.13327692307692035,0.12009999999999714,0.12204219225749977,0.1328205128205091,0.13049783174327484,0.1274276304385471,0.12744730260807094],\"yaxis\":\"y\"}],                        {\"legend\":{\"tracegroupgap\":0},\"margin\":{\"t\":60},\"template\":{\"data\":{\"bar\":[{\"error_x\":{\"color\":\"#2a3f5f\"},\"error_y\":{\"color\":\"#2a3f5f\"},\"marker\":{\"line\":{\"color\":\"#E5ECF6\",\"width\":0.5},\"pattern\":{\"fillmode\":\"overlay\",\"size\":10,\"solidity\":0.2}},\"type\":\"bar\"}],\"barpolar\":[{\"marker\":{\"line\":{\"color\":\"#E5ECF6\",\"width\":0.5},\"pattern\":{\"fillmode\":\"overlay\",\"size\":10,\"solidity\":0.2}},\"type\":\"barpolar\"}],\"carpet\":[{\"aaxis\":{\"endlinecolor\":\"#2a3f5f\",\"gridcolor\":\"white\",\"linecolor\":\"white\",\"minorgridcolor\":\"white\",\"startlinecolor\":\"#2a3f5f\"},\"baxis\":{\"endlinecolor\":\"#2a3f5f\",\"gridcolor\":\"white\",\"linecolor\":\"white\",\"minorgridcolor\":\"white\",\"startlinecolor\":\"#2a3f5f\"},\"type\":\"carpet\"}],\"choropleth\":[{\"colorbar\":{\"outlinewidth\":0,\"ticks\":\"\"},\"type\":\"choropleth\"}],\"contour\":[{\"colorbar\":{\"outlinewidth\":0,\"ticks\":\"\"},\"colorscale\":[[0.0,\"#0d0887\"],[0.1111111111111111,\"#46039f\"],[0.2222222222222222,\"#7201a8\"],[0.3333333333333333,\"#9c179e\"],[0.4444444444444444,\"#bd3786\"],[0.5555555555555556,\"#d8576b\"],[0.6666666666666666,\"#ed7953\"],[0.7777777777777778,\"#fb9f3a\"],[0.8888888888888888,\"#fdca26\"],[1.0,\"#f0f921\"]],\"type\":\"contour\"}],\"contourcarpet\":[{\"colorbar\":{\"outlinewidth\":0,\"ticks\":\"\"},\"type\":\"contourcarpet\"}],\"heatmap\":[{\"colorbar\":{\"outlinewidth\":0,\"ticks\":\"\"},\"colorscale\":[[0.0,\"#0d0887\"],[0.1111111111111111,\"#46039f\"],[0.2222222222222222,\"#7201a8\"],[0.3333333333333333,\"#9c179e\"],[0.4444444444444444,\"#bd3786\"],[0.5555555555555556,\"#d8576b\"],[0.6666666666666666,\"#ed7953\"],[0.7777777777777778,\"#fb9f3a\"],[0.8888888888888888,\"#fdca26\"],[1.0,\"#f0f921\"]],\"type\":\"heatmap\"}],\"heatmapgl\":[{\"colorbar\":{\"outlinewidth\":0,\"ticks\":\"\"},\"colorscale\":[[0.0,\"#0d0887\"],[0.1111111111111111,\"#46039f\"],[0.2222222222222222,\"#7201a8\"],[0.3333333333333333,\"#9c179e\"],[0.4444444444444444,\"#bd3786\"],[0.5555555555555556,\"#d8576b\"],[0.6666666666666666,\"#ed7953\"],[0.7777777777777778,\"#fb9f3a\"],[0.8888888888888888,\"#fdca26\"],[1.0,\"#f0f921\"]],\"type\":\"heatmapgl\"}],\"histogram\":[{\"marker\":{\"pattern\":{\"fillmode\":\"overlay\",\"size\":10,\"solidity\":0.2}},\"type\":\"histogram\"}],\"histogram2d\":[{\"colorbar\":{\"outlinewidth\":0,\"ticks\":\"\"},\"colorscale\":[[0.0,\"#0d0887\"],[0.1111111111111111,\"#46039f\"],[0.2222222222222222,\"#7201a8\"],[0.3333333333333333,\"#9c179e\"],[0.4444444444444444,\"#bd3786\"],[0.5555555555555556,\"#d8576b\"],[0.6666666666666666,\"#ed7953\"],[0.7777777777777778,\"#fb9f3a\"],[0.8888888888888888,\"#fdca26\"],[1.0,\"#f0f921\"]],\"type\":\"histogram2d\"}],\"histogram2dcontour\":[{\"colorbar\":{\"outlinewidth\":0,\"ticks\":\"\"},\"colorscale\":[[0.0,\"#0d0887\"],[0.1111111111111111,\"#46039f\"],[0.2222222222222222,\"#7201a8\"],[0.3333333333333333,\"#9c179e\"],[0.4444444444444444,\"#bd3786\"],[0.5555555555555556,\"#d8576b\"],[0.6666666666666666,\"#ed7953\"],[0.7777777777777778,\"#fb9f3a\"],[0.8888888888888888,\"#fdca26\"],[1.0,\"#f0f921\"]],\"type\":\"histogram2dcontour\"}],\"mesh3d\":[{\"colorbar\":{\"outlinewidth\":0,\"ticks\":\"\"},\"type\":\"mesh3d\"}],\"parcoords\":[{\"line\":{\"colorbar\":{\"outlinewidth\":0,\"ticks\":\"\"}},\"type\":\"parcoords\"}],\"pie\":[{\"automargin\":true,\"type\":\"pie\"}],\"scatter\":[{\"marker\":{\"colorbar\":{\"outlinewidth\":0,\"ticks\":\"\"}},\"type\":\"scatter\"}],\"scatter3d\":[{\"line\":{\"colorbar\":{\"outlinewidth\":0,\"ticks\":\"\"}},\"marker\":{\"colorbar\":{\"outlinewidth\":0,\"ticks\":\"\"}},\"type\":\"scatter3d\"}],\"scattercarpet\":[{\"marker\":{\"colorbar\":{\"outlinewidth\":0,\"ticks\":\"\"}},\"type\":\"scattercarpet\"}],\"scattergeo\":[{\"marker\":{\"colorbar\":{\"outlinewidth\":0,\"ticks\":\"\"}},\"type\":\"scattergeo\"}],\"scattergl\":[{\"marker\":{\"colorbar\":{\"outlinewidth\":0,\"ticks\":\"\"}},\"type\":\"scattergl\"}],\"scattermapbox\":[{\"marker\":{\"colorbar\":{\"outlinewidth\":0,\"ticks\":\"\"}},\"type\":\"scattermapbox\"}],\"scatterpolar\":[{\"marker\":{\"colorbar\":{\"outlinewidth\":0,\"ticks\":\"\"}},\"type\":\"scatterpolar\"}],\"scatterpolargl\":[{\"marker\":{\"colorbar\":{\"outlinewidth\":0,\"ticks\":\"\"}},\"type\":\"scatterpolargl\"}],\"scatterternary\":[{\"marker\":{\"colorbar\":{\"outlinewidth\":0,\"ticks\":\"\"}},\"type\":\"scatterternary\"}],\"surface\":[{\"colorbar\":{\"outlinewidth\":0,\"ticks\":\"\"},\"colorscale\":[[0.0,\"#0d0887\"],[0.1111111111111111,\"#46039f\"],[0.2222222222222222,\"#7201a8\"],[0.3333333333333333,\"#9c179e\"],[0.4444444444444444,\"#bd3786\"],[0.5555555555555556,\"#d8576b\"],[0.6666666666666666,\"#ed7953\"],[0.7777777777777778,\"#fb9f3a\"],[0.8888888888888888,\"#fdca26\"],[1.0,\"#f0f921\"]],\"type\":\"surface\"}],\"table\":[{\"cells\":{\"fill\":{\"color\":\"#EBF0F8\"},\"line\":{\"color\":\"white\"}},\"header\":{\"fill\":{\"color\":\"#C8D4E3\"},\"line\":{\"color\":\"white\"}},\"type\":\"table\"}]},\"layout\":{\"annotationdefaults\":{\"arrowcolor\":\"#2a3f5f\",\"arrowhead\":0,\"arrowwidth\":1},\"autotypenumbers\":\"strict\",\"coloraxis\":{\"colorbar\":{\"outlinewidth\":0,\"ticks\":\"\"}},\"colorscale\":{\"diverging\":[[0,\"#8e0152\"],[0.1,\"#c51b7d\"],[0.2,\"#de77ae\"],[0.3,\"#f1b6da\"],[0.4,\"#fde0ef\"],[0.5,\"#f7f7f7\"],[0.6,\"#e6f5d0\"],[0.7,\"#b8e186\"],[0.8,\"#7fbc41\"],[0.9,\"#4d9221\"],[1,\"#276419\"]],\"sequential\":[[0.0,\"#0d0887\"],[0.1111111111111111,\"#46039f\"],[0.2222222222222222,\"#7201a8\"],[0.3333333333333333,\"#9c179e\"],[0.4444444444444444,\"#bd3786\"],[0.5555555555555556,\"#d8576b\"],[0.6666666666666666,\"#ed7953\"],[0.7777777777777778,\"#fb9f3a\"],[0.8888888888888888,\"#fdca26\"],[1.0,\"#f0f921\"]],\"sequentialminus\":[[0.0,\"#0d0887\"],[0.1111111111111111,\"#46039f\"],[0.2222222222222222,\"#7201a8\"],[0.3333333333333333,\"#9c179e\"],[0.4444444444444444,\"#bd3786\"],[0.5555555555555556,\"#d8576b\"],[0.6666666666666666,\"#ed7953\"],[0.7777777777777778,\"#fb9f3a\"],[0.8888888888888888,\"#fdca26\"],[1.0,\"#f0f921\"]]},\"colorway\":[\"#636efa\",\"#EF553B\",\"#00cc96\",\"#ab63fa\",\"#FFA15A\",\"#19d3f3\",\"#FF6692\",\"#B6E880\",\"#FF97FF\",\"#FECB52\"],\"font\":{\"color\":\"#2a3f5f\"},\"geo\":{\"bgcolor\":\"white\",\"lakecolor\":\"white\",\"landcolor\":\"#E5ECF6\",\"showlakes\":true,\"showland\":true,\"subunitcolor\":\"white\"},\"hoverlabel\":{\"align\":\"left\"},\"hovermode\":\"closest\",\"mapbox\":{\"style\":\"light\"},\"paper_bgcolor\":\"white\",\"plot_bgcolor\":\"#E5ECF6\",\"polar\":{\"angularaxis\":{\"gridcolor\":\"white\",\"linecolor\":\"white\",\"ticks\":\"\"},\"bgcolor\":\"#E5ECF6\",\"radialaxis\":{\"gridcolor\":\"white\",\"linecolor\":\"white\",\"ticks\":\"\"}},\"scene\":{\"xaxis\":{\"backgroundcolor\":\"#E5ECF6\",\"gridcolor\":\"white\",\"gridwidth\":2,\"linecolor\":\"white\",\"showbackground\":true,\"ticks\":\"\",\"zerolinecolor\":\"white\"},\"yaxis\":{\"backgroundcolor\":\"#E5ECF6\",\"gridcolor\":\"white\",\"gridwidth\":2,\"linecolor\":\"white\",\"showbackground\":true,\"ticks\":\"\",\"zerolinecolor\":\"white\"},\"zaxis\":{\"backgroundcolor\":\"#E5ECF6\",\"gridcolor\":\"white\",\"gridwidth\":2,\"linecolor\":\"white\",\"showbackground\":true,\"ticks\":\"\",\"zerolinecolor\":\"white\"}},\"shapedefaults\":{\"line\":{\"color\":\"#2a3f5f\"}},\"ternary\":{\"aaxis\":{\"gridcolor\":\"white\",\"linecolor\":\"white\",\"ticks\":\"\"},\"baxis\":{\"gridcolor\":\"white\",\"linecolor\":\"white\",\"ticks\":\"\"},\"bgcolor\":\"#E5ECF6\",\"caxis\":{\"gridcolor\":\"white\",\"linecolor\":\"white\",\"ticks\":\"\"}},\"title\":{\"x\":0.05},\"xaxis\":{\"automargin\":true,\"gridcolor\":\"white\",\"linecolor\":\"white\",\"ticks\":\"\",\"title\":{\"standoff\":15},\"zerolinecolor\":\"white\",\"zerolinewidth\":2},\"yaxis\":{\"automargin\":true,\"gridcolor\":\"white\",\"linecolor\":\"white\",\"ticks\":\"\",\"title\":{\"standoff\":15},\"zerolinecolor\":\"white\",\"zerolinewidth\":2}}},\"title\":{\"text\":\"Black/Hispanic Community Access To Online Education\"},\"xaxis\":{\"anchor\":\"y\",\"domain\":[0.0,1.0],\"title\":{\"text\":\"time\"}},\"yaxis\":{\"anchor\":\"x\",\"domain\":[0.0,1.0],\"title\":{\"text\":\"pct_access\"}}},                        {\"responsive\": true}                    ).then(function(){\n                            \nvar gd = document.getElementById('23921c9a-fd5e-472e-bd75-509158deb87b');\nvar x = new MutationObserver(function (mutations, observer) {{\n        var display = window.getComputedStyle(gd).display;\n        if (!display || display === 'none') {{\n            console.log([gd, 'removed!']);\n            Plotly.purge(gd);\n            observer.disconnect();\n        }}\n}});\n\n// Listen for the removal of the full notebook cells\nvar notebookContainer = gd.closest('#notebook-container');\nif (notebookContainer) {{\n    x.observe(notebookContainer, {childList: true});\n}}\n\n// Listen for the clearing of the current output cell\nvar outputEl = gd.closest('.output');\nif (outputEl) {{\n    x.observe(outputEl, {childList: true});\n}}\n\n                        })                };                            </script>        </div>\n</body>\n</html>"
     },
     "metadata": {},
     "output_type": "display_data"
    }
   ],
   "execution_count": null
  },
  {
   "cell_type": "markdown",
   "source": "We can see some changes as the peak has fallen from 1.4 to 1.2. It is a disparity among the different racial groups but its marginal compares to other countries. We can say Black/Hispanic communities have lesser access to educational products. ",
   "metadata": {
    "papermill": {
     "duration": 0.086015,
     "end_time": "2021-09-19T11:56:35.262872",
     "exception": false,
     "start_time": "2021-09-19T11:56:35.176857",
     "status": "completed"
    },
    "tags": [],
    "cell_id": "00080-ce916934-b6b0-4eeb-8658-65ca64047ba7",
    "deepnote_cell_type": "markdown"
   }
  },
  {
   "cell_type": "code",
   "metadata": {
    "_kg_hide-input": true,
    "execution": {
     "iopub.execute_input": "2021-09-19T11:56:35.446103Z",
     "iopub.status.busy": "2021-09-19T11:56:35.445470Z",
     "iopub.status.idle": "2021-09-19T11:56:35.830288Z",
     "shell.execute_reply": "2021-09-19T11:56:35.830790Z",
     "shell.execute_reply.started": "2021-09-19T11:09:56.376826Z"
    },
    "papermill": {
     "duration": 0.48215,
     "end_time": "2021-09-19T11:56:35.830947",
     "exception": false,
     "start_time": "2021-09-19T11:56:35.348797",
     "status": "completed"
    },
    "tags": [],
    "cell_id": "00081-d8971106-7283-403b-8e04-0ef8e1f5b305",
    "deepnote_to_be_reexecuted": false,
    "source_hash": "3c54440b",
    "execution_start": 1634282996621,
    "execution_millis": 348,
    "deepnote_cell_type": "code"
   },
   "source": "Imp_neigh= complete_data[complete_data['pct_black/hispanic']>=0.2][['time','pct_access','pct_black/hispanic']].groupby('time').mean().reset_index()\nfig = px.line(Imp_neigh, x=\"time\", y=\"pct_access\")\nfig.update_layout(\n                      title=(\"Black/Hispanic community access to Online Education\").title(),\n                     )\nfig.show()\n",
   "outputs": [
    {
     "data": {
      "text/html": "<html>\n<head><meta charset=\"utf-8\" /></head>\n<body>\n    <div>            <script src=\"https://cdnjs.cloudflare.com/ajax/libs/mathjax/2.7.5/MathJax.js?config=TeX-AMS-MML_SVG\"></script><script type=\"text/javascript\">if (window.MathJax) {MathJax.Hub.Config({SVG: {font: \"STIX-Web\"}});}</script>                <script type=\"text/javascript\">window.PlotlyConfig = {MathJaxConfig: 'local'};</script>\n        <script src=\"https://cdn.plot.ly/plotly-2.4.2.min.js\"></script>                <div id=\"2341e95f-03e2-4bea-b071-aadb45412490\" class=\"plotly-graph-div\" style=\"height:525px; width:100%;\"></div>            <script type=\"text/javascript\">                                    window.PLOTLYENV=window.PLOTLYENV || {};                                    if (document.getElementById(\"2341e95f-03e2-4bea-b071-aadb45412490\")) {                    Plotly.newPlot(                        \"2341e95f-03e2-4bea-b071-aadb45412490\",                        [{\"hovertemplate\":\"time=%{x}<br>pct_access=%{y}<extra></extra>\",\"legendgroup\":\"\",\"line\":{\"color\":\"#636efa\",\"dash\":\"solid\"},\"marker\":{\"symbol\":\"circle\"},\"mode\":\"lines\",\"name\":\"\",\"orientation\":\"v\",\"showlegend\":false,\"type\":\"scatter\",\"x\":[\"2020-01-01T00:00:00\",\"2020-01-02T00:00:00\",\"2020-01-03T00:00:00\",\"2020-01-04T00:00:00\",\"2020-01-05T00:00:00\",\"2020-01-06T00:00:00\",\"2020-01-07T00:00:00\",\"2020-01-08T00:00:00\",\"2020-01-09T00:00:00\",\"2020-01-10T00:00:00\",\"2020-01-11T00:00:00\",\"2020-01-12T00:00:00\",\"2020-01-13T00:00:00\",\"2020-01-14T00:00:00\",\"2020-01-15T00:00:00\",\"2020-01-16T00:00:00\",\"2020-01-17T00:00:00\",\"2020-01-18T00:00:00\",\"2020-01-19T00:00:00\",\"2020-01-20T00:00:00\",\"2020-01-21T00:00:00\",\"2020-01-22T00:00:00\",\"2020-01-23T00:00:00\",\"2020-01-24T00:00:00\",\"2020-01-25T00:00:00\",\"2020-01-26T00:00:00\",\"2020-01-27T00:00:00\",\"2020-01-28T00:00:00\",\"2020-01-29T00:00:00\",\"2020-01-30T00:00:00\",\"2020-01-31T00:00:00\",\"2020-02-01T00:00:00\",\"2020-02-02T00:00:00\",\"2020-02-03T00:00:00\",\"2020-02-04T00:00:00\",\"2020-02-05T00:00:00\",\"2020-02-06T00:00:00\",\"2020-02-07T00:00:00\",\"2020-02-08T00:00:00\",\"2020-02-09T00:00:00\",\"2020-02-10T00:00:00\",\"2020-02-11T00:00:00\",\"2020-02-12T00:00:00\",\"2020-02-13T00:00:00\",\"2020-02-14T00:00:00\",\"2020-02-15T00:00:00\",\"2020-02-16T00:00:00\",\"2020-02-17T00:00:00\",\"2020-02-18T00:00:00\",\"2020-02-19T00:00:00\",\"2020-02-20T00:00:00\",\"2020-02-21T00:00:00\",\"2020-02-22T00:00:00\",\"2020-02-23T00:00:00\",\"2020-02-24T00:00:00\",\"2020-02-25T00:00:00\",\"2020-02-26T00:00:00\",\"2020-02-27T00:00:00\",\"2020-02-28T00:00:00\",\"2020-02-29T00:00:00\",\"2020-03-01T00:00:00\",\"2020-03-02T00:00:00\",\"2020-03-03T00:00:00\",\"2020-03-04T00:00:00\",\"2020-03-05T00:00:00\",\"2020-03-06T00:00:00\",\"2020-03-07T00:00:00\",\"2020-03-08T00:00:00\",\"2020-03-09T00:00:00\",\"2020-03-10T00:00:00\",\"2020-03-11T00:00:00\",\"2020-03-12T00:00:00\",\"2020-03-13T00:00:00\",\"2020-03-14T00:00:00\",\"2020-03-15T00:00:00\",\"2020-03-16T00:00:00\",\"2020-03-17T00:00:00\",\"2020-03-18T00:00:00\",\"2020-03-19T00:00:00\",\"2020-03-20T00:00:00\",\"2020-03-21T00:00:00\",\"2020-03-22T00:00:00\",\"2020-03-23T00:00:00\",\"2020-03-24T00:00:00\",\"2020-03-25T00:00:00\",\"2020-03-26T00:00:00\",\"2020-03-27T00:00:00\",\"2020-03-28T00:00:00\",\"2020-03-29T00:00:00\",\"2020-03-30T00:00:00\",\"2020-03-31T00:00:00\",\"2020-04-01T00:00:00\",\"2020-04-02T00:00:00\",\"2020-04-03T00:00:00\",\"2020-04-04T00:00:00\",\"2020-04-05T00:00:00\",\"2020-04-06T00:00:00\",\"2020-04-07T00:00:00\",\"2020-04-08T00:00:00\",\"2020-04-09T00:00:00\",\"2020-04-10T00:00:00\",\"2020-04-11T00:00:00\",\"2020-04-12T00:00:00\",\"2020-04-13T00:00:00\",\"2020-04-14T00:00:00\",\"2020-04-15T00:00:00\",\"2020-04-16T00:00:00\",\"2020-04-17T00:00:00\",\"2020-04-18T00:00:00\",\"2020-04-19T00:00:00\",\"2020-04-20T00:00:00\",\"2020-04-21T00:00:00\",\"2020-04-22T00:00:00\",\"2020-04-23T00:00:00\",\"2020-04-24T00:00:00\",\"2020-04-25T00:00:00\",\"2020-04-26T00:00:00\",\"2020-04-27T00:00:00\",\"2020-04-28T00:00:00\",\"2020-04-29T00:00:00\",\"2020-04-30T00:00:00\",\"2020-05-01T00:00:00\",\"2020-05-02T00:00:00\",\"2020-05-03T00:00:00\",\"2020-05-04T00:00:00\",\"2020-05-05T00:00:00\",\"2020-05-06T00:00:00\",\"2020-05-07T00:00:00\",\"2020-05-08T00:00:00\",\"2020-05-09T00:00:00\",\"2020-05-10T00:00:00\",\"2020-05-11T00:00:00\",\"2020-05-12T00:00:00\",\"2020-05-13T00:00:00\",\"2020-05-14T00:00:00\",\"2020-05-15T00:00:00\",\"2020-05-16T00:00:00\",\"2020-05-17T00:00:00\",\"2020-05-18T00:00:00\",\"2020-05-19T00:00:00\",\"2020-05-20T00:00:00\",\"2020-05-21T00:00:00\",\"2020-05-22T00:00:00\",\"2020-05-23T00:00:00\",\"2020-05-24T00:00:00\",\"2020-05-25T00:00:00\",\"2020-05-26T00:00:00\",\"2020-05-27T00:00:00\",\"2020-05-28T00:00:00\",\"2020-05-29T00:00:00\",\"2020-05-30T00:00:00\",\"2020-05-31T00:00:00\",\"2020-06-01T00:00:00\",\"2020-06-02T00:00:00\",\"2020-06-03T00:00:00\",\"2020-06-04T00:00:00\",\"2020-06-05T00:00:00\",\"2020-06-06T00:00:00\",\"2020-06-07T00:00:00\",\"2020-06-08T00:00:00\",\"2020-06-09T00:00:00\",\"2020-06-10T00:00:00\",\"2020-06-11T00:00:00\",\"2020-06-12T00:00:00\",\"2020-06-13T00:00:00\",\"2020-06-14T00:00:00\",\"2020-06-15T00:00:00\",\"2020-06-16T00:00:00\",\"2020-06-17T00:00:00\",\"2020-06-18T00:00:00\",\"2020-06-19T00:00:00\",\"2020-06-20T00:00:00\",\"2020-06-21T00:00:00\",\"2020-06-22T00:00:00\",\"2020-06-23T00:00:00\",\"2020-06-24T00:00:00\",\"2020-06-25T00:00:00\",\"2020-06-26T00:00:00\",\"2020-06-27T00:00:00\",\"2020-06-28T00:00:00\",\"2020-06-29T00:00:00\",\"2020-06-30T00:00:00\",\"2020-07-01T00:00:00\",\"2020-07-02T00:00:00\",\"2020-07-03T00:00:00\",\"2020-07-04T00:00:00\",\"2020-07-05T00:00:00\",\"2020-07-06T00:00:00\",\"2020-07-07T00:00:00\",\"2020-07-08T00:00:00\",\"2020-07-09T00:00:00\",\"2020-07-10T00:00:00\",\"2020-07-11T00:00:00\",\"2020-07-12T00:00:00\",\"2020-07-13T00:00:00\",\"2020-07-14T00:00:00\",\"2020-07-15T00:00:00\",\"2020-07-16T00:00:00\",\"2020-07-17T00:00:00\",\"2020-07-18T00:00:00\",\"2020-07-19T00:00:00\",\"2020-07-20T00:00:00\",\"2020-07-21T00:00:00\",\"2020-07-22T00:00:00\",\"2020-07-23T00:00:00\",\"2020-07-24T00:00:00\",\"2020-07-25T00:00:00\",\"2020-07-26T00:00:00\",\"2020-07-27T00:00:00\",\"2020-07-28T00:00:00\",\"2020-07-29T00:00:00\",\"2020-07-30T00:00:00\",\"2020-07-31T00:00:00\",\"2020-08-01T00:00:00\",\"2020-08-02T00:00:00\",\"2020-08-03T00:00:00\",\"2020-08-04T00:00:00\",\"2020-08-05T00:00:00\",\"2020-08-06T00:00:00\",\"2020-08-07T00:00:00\",\"2020-08-08T00:00:00\",\"2020-08-09T00:00:00\",\"2020-08-10T00:00:00\",\"2020-08-11T00:00:00\",\"2020-08-12T00:00:00\",\"2020-08-13T00:00:00\",\"2020-08-14T00:00:00\",\"2020-08-15T00:00:00\",\"2020-08-16T00:00:00\",\"2020-08-17T00:00:00\",\"2020-08-18T00:00:00\",\"2020-08-19T00:00:00\",\"2020-08-20T00:00:00\",\"2020-08-21T00:00:00\",\"2020-08-22T00:00:00\",\"2020-08-23T00:00:00\",\"2020-08-24T00:00:00\",\"2020-08-25T00:00:00\",\"2020-08-26T00:00:00\",\"2020-08-27T00:00:00\",\"2020-08-28T00:00:00\",\"2020-08-29T00:00:00\",\"2020-08-30T00:00:00\",\"2020-08-31T00:00:00\",\"2020-09-01T00:00:00\",\"2020-09-02T00:00:00\",\"2020-09-03T00:00:00\",\"2020-09-04T00:00:00\",\"2020-09-05T00:00:00\",\"2020-09-06T00:00:00\",\"2020-09-07T00:00:00\",\"2020-09-08T00:00:00\",\"2020-09-09T00:00:00\",\"2020-09-10T00:00:00\",\"2020-09-11T00:00:00\",\"2020-09-12T00:00:00\",\"2020-09-13T00:00:00\",\"2020-09-14T00:00:00\",\"2020-09-15T00:00:00\",\"2020-09-16T00:00:00\",\"2020-09-17T00:00:00\",\"2020-09-18T00:00:00\",\"2020-09-19T00:00:00\",\"2020-09-20T00:00:00\",\"2020-09-21T00:00:00\",\"2020-09-22T00:00:00\",\"2020-09-23T00:00:00\",\"2020-09-24T00:00:00\",\"2020-09-25T00:00:00\",\"2020-09-26T00:00:00\",\"2020-09-27T00:00:00\",\"2020-09-28T00:00:00\",\"2020-09-29T00:00:00\",\"2020-09-30T00:00:00\",\"2020-10-01T00:00:00\",\"2020-10-02T00:00:00\",\"2020-10-03T00:00:00\",\"2020-10-04T00:00:00\",\"2020-10-05T00:00:00\",\"2020-10-06T00:00:00\",\"2020-10-07T00:00:00\",\"2020-10-08T00:00:00\",\"2020-10-09T00:00:00\",\"2020-10-10T00:00:00\",\"2020-10-11T00:00:00\",\"2020-10-12T00:00:00\",\"2020-10-13T00:00:00\",\"2020-10-14T00:00:00\",\"2020-10-15T00:00:00\",\"2020-10-16T00:00:00\",\"2020-10-17T00:00:00\",\"2020-10-18T00:00:00\",\"2020-10-19T00:00:00\",\"2020-10-20T00:00:00\",\"2020-10-21T00:00:00\",\"2020-10-22T00:00:00\",\"2020-10-23T00:00:00\",\"2020-10-24T00:00:00\",\"2020-10-25T00:00:00\",\"2020-10-26T00:00:00\",\"2020-10-27T00:00:00\",\"2020-10-28T00:00:00\",\"2020-10-29T00:00:00\",\"2020-10-30T00:00:00\",\"2020-10-31T00:00:00\",\"2020-11-01T00:00:00\",\"2020-11-02T00:00:00\",\"2020-11-03T00:00:00\",\"2020-11-04T00:00:00\",\"2020-11-05T00:00:00\",\"2020-11-06T00:00:00\",\"2020-11-07T00:00:00\",\"2020-11-08T00:00:00\",\"2020-11-09T00:00:00\",\"2020-11-10T00:00:00\",\"2020-11-11T00:00:00\",\"2020-11-12T00:00:00\",\"2020-11-13T00:00:00\",\"2020-11-14T00:00:00\",\"2020-11-15T00:00:00\",\"2020-11-16T00:00:00\",\"2020-11-17T00:00:00\",\"2020-11-18T00:00:00\",\"2020-11-19T00:00:00\",\"2020-11-20T00:00:00\",\"2020-11-21T00:00:00\",\"2020-11-22T00:00:00\",\"2020-11-23T00:00:00\",\"2020-11-24T00:00:00\",\"2020-11-25T00:00:00\",\"2020-11-26T00:00:00\",\"2020-11-27T00:00:00\",\"2020-11-28T00:00:00\",\"2020-11-29T00:00:00\",\"2020-11-30T00:00:00\",\"2020-12-01T00:00:00\",\"2020-12-02T00:00:00\",\"2020-12-03T00:00:00\",\"2020-12-04T00:00:00\",\"2020-12-05T00:00:00\",\"2020-12-06T00:00:00\",\"2020-12-07T00:00:00\",\"2020-12-08T00:00:00\",\"2020-12-09T00:00:00\",\"2020-12-10T00:00:00\",\"2020-12-11T00:00:00\",\"2020-12-12T00:00:00\",\"2020-12-13T00:00:00\",\"2020-12-14T00:00:00\",\"2020-12-15T00:00:00\",\"2020-12-16T00:00:00\",\"2020-12-17T00:00:00\",\"2020-12-18T00:00:00\",\"2020-12-19T00:00:00\",\"2020-12-20T00:00:00\",\"2020-12-21T00:00:00\",\"2020-12-22T00:00:00\",\"2020-12-23T00:00:00\",\"2020-12-24T00:00:00\",\"2020-12-25T00:00:00\",\"2020-12-26T00:00:00\",\"2020-12-27T00:00:00\",\"2020-12-28T00:00:00\",\"2020-12-29T00:00:00\",\"2020-12-30T00:00:00\",\"2020-12-31T00:00:00\"],\"xaxis\":\"x\",\"y\":[0.05814905314599924,0.059616908850726784,0.06380874540253362,0.06831792975970413,0.07501677852348983,0.7945603409600899,1.0651569506726664,1.1051071071071346,1.1696138535032086,1.1789318453567463,0.13067647058823426,0.14475209497206587,1.1220635237715018,1.1878837438423988,1.2149950719495757,1.2355768478686346,1.1292329661363099,0.13195268494179413,0.11814814814814763,0.15534984934716942,0.9874625312240028,1.1961186142102547,1.2434416934417305,1.1893531100478762,0.1301862262825015,0.13224021592442606,1.1073939393939698,1.1580842263583662,1.1774111297227183,1.1856865644058736,1.1249822529422997,0.13098710990501872,0.13119388418997943,1.0918785064809653,1.182896614821627,1.1422769953051943,1.1545620372042922,1.1408933283076106,0.13401580212985062,0.14230990415335282,1.154441213883365,1.1771355813136912,1.1627615357520555,1.1733180938983978,0.914638289368522,0.12085484996510722,0.10462910128387992,0.20681519956260028,1.1686951066499707,1.1726068144943553,1.1732881906825878,1.1432279783056232,0.1430957613814735,0.14566577301161532,1.1809818426362113,1.1997613882863634,1.1855829481253528,1.1440979425268127,0.9665107659724924,0.1370869297163974,0.13950088079858855,1.1210298410639272,1.1666536458333612,1.08628265237779,1.1844741712939892,1.1333902102723454,0.1358916900093347,0.14035004449717975,1.1449231796927477,1.1778391537945234,1.1299645390071185,1.087619127516808,0.9347004933051603,0.20772525027808209,0.14674443550549393,0.5011956939638703,0.45181091617934566,0.6198704711845554,0.6223621306230218,0.5679090214067438,0.22631230051558524,0.16024320827942762,0.4326051065463633,0.4768060836502018,0.4791639375842919,0.43463191934563444,0.3997169437846329,0.20384126176545028,0.1592866441030955,0.386299921691456,0.5190009496676337,0.540206086286613,0.5313911368015558,0.4737729449321755,0.20189975550121816,0.16527859237536266,0.6856885910774285,0.7802633439378069,0.8587330157049723,0.8422416225749694,0.5646092503987321,0.2542902986916755,0.1824856096284626,0.7443830703013069,0.9085141789777819,0.929393216294556,0.8895829077290014,0.7639568345323918,0.29408203553410034,0.19974966472954375,0.74416512837726,0.8580306122449297,0.8626279109298305,0.8266299932295517,0.7600630914826687,0.2855617229129589,0.19658479532163248,0.773491519616256,0.8295085654957929,0.8450759406282665,0.815390882301987,0.6391214516708728,0.2536821067481711,0.19080048076922645,0.6732019618146984,0.8019118667592184,0.8103653609696347,0.7679838426413927,0.6434289839379359,0.2455440414507716,0.18167732037841566,0.7155273815812824,0.7609422975119273,0.7590640481245752,0.7359479820628007,0.5999094771845673,0.23650988904968115,0.19742822677924723,0.6194317789292013,0.6939264225546016,0.6426786953504698,0.6032553571428723,0.5173398643556973,0.20062828535669053,0.13815993359158568,0.18973182957393045,0.4699454934786868,0.44345918165645015,0.41480675345808826,0.36206622231777424,0.1562862616310853,0.12317684331797005,0.31152059596844267,0.3035034390947355,0.2779911406422969,0.22999304911955015,0.19702663083312535,0.11996092478020039,0.09677219321148742,0.21292158715162554,0.22544624033731128,0.2211832061068663,0.21545096106455944,0.19462436952481701,0.11781718963164914,0.09428819444444383,0.19398638426625914,0.19806245200921,0.2002768520892035,0.20008049857179547,0.16844163312248048,0.10924635620334054,0.0954506769825916,0.12922038567492952,0.13703357182168233,0.131017897091721,0.12353932584269513,0.10574610924626078,0.0904255319148933,0.0852217508677208,0.1167944559127089,0.1181142857142845,0.11614380979994068,0.11232093452197886,0.09293115942028973,0.08108217332734632,0.07150385604113128,0.09891114982578307,0.09788482532750982,0.10027363184079512,0.09901404494381916,0.08928066400245868,0.07581501137225163,0.07282608695652197,0.09561670900366812,0.09717793103448173,0.09878812636165492,0.09602872134769302,0.08301577850550713,0.07361111111111114,0.06971324863883863,0.0875369183616601,0.08873820436775329,0.08823434560601899,0.08661419497376344,0.07979122541603606,0.07126238532110105,0.06490334572490715,0.07263870094722581,0.07666754826765348,0.0777872567315379,0.07539874081846772,0.07256373117033582,0.07035498757543499,0.06332286212914505,0.0710559167750325,0.07466972711043053,0.13476012925676975,0.15025748947758907,0.1604300518134674,0.09012987012986944,0.07768471337579566,0.18551592051711305,0.19145039962387903,0.2749498997995942,0.2867015124555093,0.2953217158176879,0.11459482513505645,0.10764468371466904,0.3953243574051328,0.4559128065395146,0.47150047664442857,0.4877305224564668,0.5303465160075382,0.18597661958109696,0.21137729923732212,0.9628719782090841,0.924949889587262,0.9442771684945512,0.9549069235793956,0.9581357048748731,0.2232028002625197,0.21228865114327258,1.0806939102564521,1.2483711244794522,1.2774549618321014,1.2410508369498243,1.1855617797695686,0.24703938433679778,0.1771605538013077,0.23175359519209604,1.1116068402403712,1.1306876528117733,1.195989280245061,1.1579987521447954,0.2728222174565656,0.24095735785952602,1.144929204916797,1.156911220715209,1.1244248066909048,1.168322031225401,1.0649872122762494,0.2672799470549235,0.22219450848878144,1.0279496459481072,1.1280895034196015,1.1300504002372156,1.23723157283811,1.07980313199109,0.2634241873611867,0.2493026973026903,1.2147794438783253,1.2113243203954416,1.223840093376161,1.214174218064928,1.1536534698178869,0.28050905432594697,0.24953350464517984,1.1835567313345399,1.2232371134020925,1.1100280401417042,1.2125757799793322,1.0276466983300425,0.26658689920907735,0.22220906492445291,0.7975766192733286,1.0160626156693746,1.0141273258496388,1.0036904391155748,0.9571714743590013,0.35020579420578474,0.23821947389084547,1.0835705830127587,1.150868734381926,1.1535146198830737,1.151780480656545,1.0178652364405936,0.2519267188143191,0.2328167034731912,1.0973930421910023,1.15147930730852,1.1557281976744567,1.1212725125480112,1.0701215668618111,0.25270069900444025,0.2202619446772784,1.1319236482472133,0.671123542388931,1.0990182411389962,1.1654292855042983,1.1780658920429818,0.27418465227816935,0.23230643846780086,1.117401924500406,1.1812505446623442,1.064525316455735,1.1463798749628278,1.1764015702239374,0.2810816125860283,0.23784564021994625,1.1049955396967366,1.1787572759022482,1.179930404523744,1.2145702152584907,1.196741473497748,0.4179264341528432,0.242398076521005,0.8339478153466283,0.8530235092636026,0.28919706354667885,0.22572160148975237,0.1723441275978689,0.17281007295833828,0.19151534126486638,1.1042347319695724,1.1409943470068458,1.084785703908214,1.1607721335268875,1.1375161101347735,0.29165323373303625,0.24667391734229052,1.1573496950334388,1.1779936535410749,1.1275209235209547,1.1918828271196569,1.1820095763204066,0.28833527131782116,0.24588910891088384,1.092744983155158,1.1369543147208512,1.0879447720408886,1.1626058067312275,1.0190123645245328,0.2626337628303056,0.18837384114256586,0.30995355009952724,0.24326674500586853,0.16683423562773483,0.14570921985815302,0.1168214152002985,0.11126765415087736,0.11445980707395308,0.12504127829560374,0.12846912298909982,0.13006294256490686,0.12451006711409159],\"yaxis\":\"y\"}],                        {\"legend\":{\"tracegroupgap\":0},\"margin\":{\"t\":60},\"template\":{\"data\":{\"bar\":[{\"error_x\":{\"color\":\"#2a3f5f\"},\"error_y\":{\"color\":\"#2a3f5f\"},\"marker\":{\"line\":{\"color\":\"#E5ECF6\",\"width\":0.5},\"pattern\":{\"fillmode\":\"overlay\",\"size\":10,\"solidity\":0.2}},\"type\":\"bar\"}],\"barpolar\":[{\"marker\":{\"line\":{\"color\":\"#E5ECF6\",\"width\":0.5},\"pattern\":{\"fillmode\":\"overlay\",\"size\":10,\"solidity\":0.2}},\"type\":\"barpolar\"}],\"carpet\":[{\"aaxis\":{\"endlinecolor\":\"#2a3f5f\",\"gridcolor\":\"white\",\"linecolor\":\"white\",\"minorgridcolor\":\"white\",\"startlinecolor\":\"#2a3f5f\"},\"baxis\":{\"endlinecolor\":\"#2a3f5f\",\"gridcolor\":\"white\",\"linecolor\":\"white\",\"minorgridcolor\":\"white\",\"startlinecolor\":\"#2a3f5f\"},\"type\":\"carpet\"}],\"choropleth\":[{\"colorbar\":{\"outlinewidth\":0,\"ticks\":\"\"},\"type\":\"choropleth\"}],\"contour\":[{\"colorbar\":{\"outlinewidth\":0,\"ticks\":\"\"},\"colorscale\":[[0.0,\"#0d0887\"],[0.1111111111111111,\"#46039f\"],[0.2222222222222222,\"#7201a8\"],[0.3333333333333333,\"#9c179e\"],[0.4444444444444444,\"#bd3786\"],[0.5555555555555556,\"#d8576b\"],[0.6666666666666666,\"#ed7953\"],[0.7777777777777778,\"#fb9f3a\"],[0.8888888888888888,\"#fdca26\"],[1.0,\"#f0f921\"]],\"type\":\"contour\"}],\"contourcarpet\":[{\"colorbar\":{\"outlinewidth\":0,\"ticks\":\"\"},\"type\":\"contourcarpet\"}],\"heatmap\":[{\"colorbar\":{\"outlinewidth\":0,\"ticks\":\"\"},\"colorscale\":[[0.0,\"#0d0887\"],[0.1111111111111111,\"#46039f\"],[0.2222222222222222,\"#7201a8\"],[0.3333333333333333,\"#9c179e\"],[0.4444444444444444,\"#bd3786\"],[0.5555555555555556,\"#d8576b\"],[0.6666666666666666,\"#ed7953\"],[0.7777777777777778,\"#fb9f3a\"],[0.8888888888888888,\"#fdca26\"],[1.0,\"#f0f921\"]],\"type\":\"heatmap\"}],\"heatmapgl\":[{\"colorbar\":{\"outlinewidth\":0,\"ticks\":\"\"},\"colorscale\":[[0.0,\"#0d0887\"],[0.1111111111111111,\"#46039f\"],[0.2222222222222222,\"#7201a8\"],[0.3333333333333333,\"#9c179e\"],[0.4444444444444444,\"#bd3786\"],[0.5555555555555556,\"#d8576b\"],[0.6666666666666666,\"#ed7953\"],[0.7777777777777778,\"#fb9f3a\"],[0.8888888888888888,\"#fdca26\"],[1.0,\"#f0f921\"]],\"type\":\"heatmapgl\"}],\"histogram\":[{\"marker\":{\"pattern\":{\"fillmode\":\"overlay\",\"size\":10,\"solidity\":0.2}},\"type\":\"histogram\"}],\"histogram2d\":[{\"colorbar\":{\"outlinewidth\":0,\"ticks\":\"\"},\"colorscale\":[[0.0,\"#0d0887\"],[0.1111111111111111,\"#46039f\"],[0.2222222222222222,\"#7201a8\"],[0.3333333333333333,\"#9c179e\"],[0.4444444444444444,\"#bd3786\"],[0.5555555555555556,\"#d8576b\"],[0.6666666666666666,\"#ed7953\"],[0.7777777777777778,\"#fb9f3a\"],[0.8888888888888888,\"#fdca26\"],[1.0,\"#f0f921\"]],\"type\":\"histogram2d\"}],\"histogram2dcontour\":[{\"colorbar\":{\"outlinewidth\":0,\"ticks\":\"\"},\"colorscale\":[[0.0,\"#0d0887\"],[0.1111111111111111,\"#46039f\"],[0.2222222222222222,\"#7201a8\"],[0.3333333333333333,\"#9c179e\"],[0.4444444444444444,\"#bd3786\"],[0.5555555555555556,\"#d8576b\"],[0.6666666666666666,\"#ed7953\"],[0.7777777777777778,\"#fb9f3a\"],[0.8888888888888888,\"#fdca26\"],[1.0,\"#f0f921\"]],\"type\":\"histogram2dcontour\"}],\"mesh3d\":[{\"colorbar\":{\"outlinewidth\":0,\"ticks\":\"\"},\"type\":\"mesh3d\"}],\"parcoords\":[{\"line\":{\"colorbar\":{\"outlinewidth\":0,\"ticks\":\"\"}},\"type\":\"parcoords\"}],\"pie\":[{\"automargin\":true,\"type\":\"pie\"}],\"scatter\":[{\"marker\":{\"colorbar\":{\"outlinewidth\":0,\"ticks\":\"\"}},\"type\":\"scatter\"}],\"scatter3d\":[{\"line\":{\"colorbar\":{\"outlinewidth\":0,\"ticks\":\"\"}},\"marker\":{\"colorbar\":{\"outlinewidth\":0,\"ticks\":\"\"}},\"type\":\"scatter3d\"}],\"scattercarpet\":[{\"marker\":{\"colorbar\":{\"outlinewidth\":0,\"ticks\":\"\"}},\"type\":\"scattercarpet\"}],\"scattergeo\":[{\"marker\":{\"colorbar\":{\"outlinewidth\":0,\"ticks\":\"\"}},\"type\":\"scattergeo\"}],\"scattergl\":[{\"marker\":{\"colorbar\":{\"outlinewidth\":0,\"ticks\":\"\"}},\"type\":\"scattergl\"}],\"scattermapbox\":[{\"marker\":{\"colorbar\":{\"outlinewidth\":0,\"ticks\":\"\"}},\"type\":\"scattermapbox\"}],\"scatterpolar\":[{\"marker\":{\"colorbar\":{\"outlinewidth\":0,\"ticks\":\"\"}},\"type\":\"scatterpolar\"}],\"scatterpolargl\":[{\"marker\":{\"colorbar\":{\"outlinewidth\":0,\"ticks\":\"\"}},\"type\":\"scatterpolargl\"}],\"scatterternary\":[{\"marker\":{\"colorbar\":{\"outlinewidth\":0,\"ticks\":\"\"}},\"type\":\"scatterternary\"}],\"surface\":[{\"colorbar\":{\"outlinewidth\":0,\"ticks\":\"\"},\"colorscale\":[[0.0,\"#0d0887\"],[0.1111111111111111,\"#46039f\"],[0.2222222222222222,\"#7201a8\"],[0.3333333333333333,\"#9c179e\"],[0.4444444444444444,\"#bd3786\"],[0.5555555555555556,\"#d8576b\"],[0.6666666666666666,\"#ed7953\"],[0.7777777777777778,\"#fb9f3a\"],[0.8888888888888888,\"#fdca26\"],[1.0,\"#f0f921\"]],\"type\":\"surface\"}],\"table\":[{\"cells\":{\"fill\":{\"color\":\"#EBF0F8\"},\"line\":{\"color\":\"white\"}},\"header\":{\"fill\":{\"color\":\"#C8D4E3\"},\"line\":{\"color\":\"white\"}},\"type\":\"table\"}]},\"layout\":{\"annotationdefaults\":{\"arrowcolor\":\"#2a3f5f\",\"arrowhead\":0,\"arrowwidth\":1},\"autotypenumbers\":\"strict\",\"coloraxis\":{\"colorbar\":{\"outlinewidth\":0,\"ticks\":\"\"}},\"colorscale\":{\"diverging\":[[0,\"#8e0152\"],[0.1,\"#c51b7d\"],[0.2,\"#de77ae\"],[0.3,\"#f1b6da\"],[0.4,\"#fde0ef\"],[0.5,\"#f7f7f7\"],[0.6,\"#e6f5d0\"],[0.7,\"#b8e186\"],[0.8,\"#7fbc41\"],[0.9,\"#4d9221\"],[1,\"#276419\"]],\"sequential\":[[0.0,\"#0d0887\"],[0.1111111111111111,\"#46039f\"],[0.2222222222222222,\"#7201a8\"],[0.3333333333333333,\"#9c179e\"],[0.4444444444444444,\"#bd3786\"],[0.5555555555555556,\"#d8576b\"],[0.6666666666666666,\"#ed7953\"],[0.7777777777777778,\"#fb9f3a\"],[0.8888888888888888,\"#fdca26\"],[1.0,\"#f0f921\"]],\"sequentialminus\":[[0.0,\"#0d0887\"],[0.1111111111111111,\"#46039f\"],[0.2222222222222222,\"#7201a8\"],[0.3333333333333333,\"#9c179e\"],[0.4444444444444444,\"#bd3786\"],[0.5555555555555556,\"#d8576b\"],[0.6666666666666666,\"#ed7953\"],[0.7777777777777778,\"#fb9f3a\"],[0.8888888888888888,\"#fdca26\"],[1.0,\"#f0f921\"]]},\"colorway\":[\"#636efa\",\"#EF553B\",\"#00cc96\",\"#ab63fa\",\"#FFA15A\",\"#19d3f3\",\"#FF6692\",\"#B6E880\",\"#FF97FF\",\"#FECB52\"],\"font\":{\"color\":\"#2a3f5f\"},\"geo\":{\"bgcolor\":\"white\",\"lakecolor\":\"white\",\"landcolor\":\"#E5ECF6\",\"showlakes\":true,\"showland\":true,\"subunitcolor\":\"white\"},\"hoverlabel\":{\"align\":\"left\"},\"hovermode\":\"closest\",\"mapbox\":{\"style\":\"light\"},\"paper_bgcolor\":\"white\",\"plot_bgcolor\":\"#E5ECF6\",\"polar\":{\"angularaxis\":{\"gridcolor\":\"white\",\"linecolor\":\"white\",\"ticks\":\"\"},\"bgcolor\":\"#E5ECF6\",\"radialaxis\":{\"gridcolor\":\"white\",\"linecolor\":\"white\",\"ticks\":\"\"}},\"scene\":{\"xaxis\":{\"backgroundcolor\":\"#E5ECF6\",\"gridcolor\":\"white\",\"gridwidth\":2,\"linecolor\":\"white\",\"showbackground\":true,\"ticks\":\"\",\"zerolinecolor\":\"white\"},\"yaxis\":{\"backgroundcolor\":\"#E5ECF6\",\"gridcolor\":\"white\",\"gridwidth\":2,\"linecolor\":\"white\",\"showbackground\":true,\"ticks\":\"\",\"zerolinecolor\":\"white\"},\"zaxis\":{\"backgroundcolor\":\"#E5ECF6\",\"gridcolor\":\"white\",\"gridwidth\":2,\"linecolor\":\"white\",\"showbackground\":true,\"ticks\":\"\",\"zerolinecolor\":\"white\"}},\"shapedefaults\":{\"line\":{\"color\":\"#2a3f5f\"}},\"ternary\":{\"aaxis\":{\"gridcolor\":\"white\",\"linecolor\":\"white\",\"ticks\":\"\"},\"baxis\":{\"gridcolor\":\"white\",\"linecolor\":\"white\",\"ticks\":\"\"},\"bgcolor\":\"#E5ECF6\",\"caxis\":{\"gridcolor\":\"white\",\"linecolor\":\"white\",\"ticks\":\"\"}},\"title\":{\"x\":0.05},\"xaxis\":{\"automargin\":true,\"gridcolor\":\"white\",\"linecolor\":\"white\",\"ticks\":\"\",\"title\":{\"standoff\":15},\"zerolinecolor\":\"white\",\"zerolinewidth\":2},\"yaxis\":{\"automargin\":true,\"gridcolor\":\"white\",\"linecolor\":\"white\",\"ticks\":\"\",\"title\":{\"standoff\":15},\"zerolinecolor\":\"white\",\"zerolinewidth\":2}}},\"title\":{\"text\":\"Black/Hispanic Community Access To Online Education\"},\"xaxis\":{\"anchor\":\"y\",\"domain\":[0.0,1.0],\"title\":{\"text\":\"time\"}},\"yaxis\":{\"anchor\":\"x\",\"domain\":[0.0,1.0],\"title\":{\"text\":\"pct_access\"}}},                        {\"responsive\": true}                    ).then(function(){\n                            \nvar gd = document.getElementById('2341e95f-03e2-4bea-b071-aadb45412490');\nvar x = new MutationObserver(function (mutations, observer) {{\n        var display = window.getComputedStyle(gd).display;\n        if (!display || display === 'none') {{\n            console.log([gd, 'removed!']);\n            Plotly.purge(gd);\n            observer.disconnect();\n        }}\n}});\n\n// Listen for the removal of the full notebook cells\nvar notebookContainer = gd.closest('#notebook-container');\nif (notebookContainer) {{\n    x.observe(notebookContainer, {childList: true});\n}}\n\n// Listen for the clearing of the current output cell\nvar outputEl = gd.closest('.output');\nif (outputEl) {{\n    x.observe(outputEl, {childList: true});\n}}\n\n                        })                };                            </script>        </div>\n</body>\n</html>"
     },
     "metadata": {},
     "output_type": "display_data"
    }
   ],
   "execution_count": null
  },
  {
   "cell_type": "markdown",
   "source": "# Conclusion\nThe data is limited to fewer states and I didn't found any concrete evidence that Black or Hispanic communities get unfair treatment. Online education is fairly balanced towards all. I did see how some of the states perform worst in terms of product access rating, this might be due to bad policymaking and lack of awareness. We can see that Google is dominating the online education industry by providing a complete ecosystem. The majority of Pre-K students are using these platforms for digital learning. Suburbs have the highest students accessing these products and we can see a clear correlation between product access and engagement index. There is also a high correlation between Black/Hispanic and Free education/ Reduced Fee, which means the government is doing its best to help the poor community by providing free education.",
   "metadata": {
    "_kg_hide-input": true,
    "papermill": {
     "duration": 0.087904,
     "end_time": "2021-09-19T11:56:36.008710",
     "exception": false,
     "start_time": "2021-09-19T11:56:35.920806",
     "status": "completed"
    },
    "tags": [],
    "cell_id": "00082-65fee160-61b2-45b3-95e6-3100142d1677",
    "deepnote_cell_type": "markdown"
   }
  },
  {
   "cell_type": "markdown",
   "source": "<a style='text-decoration:none;line-height:16px;display:flex;color:#5B5B62;padding:10px;justify-content:end;' href='https://deepnote.com?utm_source=created-in-deepnote-cell&projectId=10b483d4-cd30-4b17-8915-b61c2790ec6c' target=\"_blank\">\n<img alt='Created in deepnote.com' style='display:inline;max-height:16px;margin:0px;margin-right:7.5px;' src='data:image/svg+xml;base64,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' > </img>\nCreated in <span style='font-weight:600;margin-left:4px;'>Deepnote</span></a>",
   "metadata": {
    "tags": [],
    "created_in_deepnote_cell": true,
    "deepnote_cell_type": "markdown"
   }
  }
 ],
 "nbformat": 4,
 "nbformat_minor": 5,
 "metadata": {
  "kernelspec": {
   "display_name": "Python 3",
   "language": "python",
   "name": "python3"
  },
  "language_info": {
   "codemirror_mode": {
    "name": "ipython",
    "version": 3
   },
   "file_extension": ".py",
   "mimetype": "text/x-python",
   "name": "python",
   "nbconvert_exporter": "python",
   "pygments_lexer": "ipython3",
   "version": "3.7.10"
  },
  "papermill": {
   "default_parameters": {},
   "duration": 79.86793,
   "end_time": "2021-09-19T11:56:38.361998",
   "environment_variables": {},
   "exception": null,
   "input_path": "__notebook__.ipynb",
   "output_path": "__notebook__.ipynb",
   "parameters": {},
   "start_time": "2021-09-19T11:55:18.494068",
   "version": "2.3.3"
  },
  "deepnote_notebook_id": "091ba1e4-82c8-4371-9866-072d7a9073a3",
  "deepnote": {},
  "deepnote_execution_queue": []
 }
}